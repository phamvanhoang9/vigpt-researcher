{
 "cells": [
  {
   "cell_type": "code",
   "execution_count": 1,
   "metadata": {},
   "outputs": [],
   "source": [
    "import urllib3\n",
    "urllib3.disable_warnings(urllib3.exceptions.InsecureRequestWarning)"
   ]
  },
  {
   "cell_type": "code",
   "execution_count": 2,
   "metadata": {},
   "outputs": [],
   "source": [
    "import sys\n",
    "sys.path.append('..')"
   ]
  },
  {
   "cell_type": "code",
   "execution_count": 3,
   "metadata": {},
   "outputs": [],
   "source": [
    "from scraper import Scraper"
   ]
  },
  {
   "cell_type": "code",
   "execution_count": 4,
   "metadata": {},
   "outputs": [],
   "source": [
    "with open(\"hypos.txt\") as f:\n",
    "    hypos = [line.strip() for line in f]\n",
    "\n",
    "with open(\"refs.txt\") as f:\n",
    "    refs = [line.strip() for line in f]"
   ]
  },
  {
   "cell_type": "code",
   "execution_count": 5,
   "metadata": {},
   "outputs": [
    {
     "data": {
      "text/plain": [
       "['https://blog.topcv.vn/co-nen-hoc-nganh-dien-tu-vien-thong/',\n",
       " 'https://baoantelecom.com/vi/tin/dien-tu-vien-thong',\n",
       " 'https://hust.edu.vn/vi/dao-tao/ht-dien-tu-thong-minh-internet-van-vat/elitech-dien-tu-vien-thong-364255.html',\n",
       " 'https://huongnghiep.hocmai.vn/chuyen-nganh/ky-thuat-dien-tu-vien-thong/dai-hoc-bach-khoa-ha-noi/']"
      ]
     },
     "execution_count": 5,
     "metadata": {},
     "output_type": "execute_result"
    }
   ],
   "source": [
    "refs"
   ]
  },
  {
   "cell_type": "code",
   "execution_count": 6,
   "metadata": {},
   "outputs": [],
   "source": [
    "user_agent = \"Mozilla/5.0 (Windows NT 10.0; Win64; x64) AppleWebKit/537.36 (KHTML, like Gecko) Chrome/119.0.0.0 Safari/537.36 Edg/119.0.0.0\""
   ]
  },
  {
   "cell_type": "code",
   "execution_count": 7,
   "metadata": {},
   "outputs": [],
   "source": [
    "refs = Scraper(refs, user_agent).run()"
   ]
  },
  {
   "cell_type": "code",
   "execution_count": 8,
   "metadata": {},
   "outputs": [
    {
     "data": {
      "text/plain": [
       "[{'url': 'https://blog.topcv.vn/co-nen-hoc-nganh-dien-tu-vien-thong/',\n",
       "  'raw_content': 'Có nên học ngành kỹ thuật điện tử viễn thông hay không?\\n16 nghìn người/năm là nhu cầu tuyển dụng lao động làm việc ngành kỹ thuật điện tử viễn thông trong giai đoạn từ 2020 – 2025. Điều này chứng minh, nhân lực ngành này đang tuyển dụng nhiều và có xu hướng tăng qua các năm. Vậy ngành kỹ thuật điện tử viễn thông là gì? Học ngành này ở đâu? Thi những môn nào? Cơ hội việc làm và mức thu nhập ra sao sau khi ra trường? Tất cả sẽ được TopCV cung cấp chi tiết trong bài viết sau đây để bạn cùng tìm hiểu, từ đó dễ dàng đưa ra sự lựa chọn.\\nNội dung bài viết\\nNgành kỹ thuật điện tử viễn thông là gì?\\nNgành kỹ thuật điện tử viễn thông là ngành học đào tạo nguồn nhân lực có chuyên môn và kỹ năng về việc thiết kế, phát triển và vận hành các hệ thống và công nghệ liên quan đến viễn thông và truyền thông điện tử.\\nĐây là ngành tập trung vào các công nghệ và ứng dụng sử dụng trong việc truyền tải, xử lý và quản lý thông tin qua các mạng điện tử và không dây. Trong đó có kể đến các thiết bị truyền thông và thiết bị điện tử như: điện thoại di động, tivi, máy tính, hệ thống nhúng, các mạch điều khiển, router, anten, thiết bị phát sóng,v.vv..\\u200b\\nCơ hội việc làm ngành điện tử viễn thông\\nTheo đánh giá của các chuyên gia phân tích nhu cầu nhân lực, ngành điện tử viễn thông là một trong những nhóm ngành có nhu cầu nhân lực cao trong thời đại 4.0 hiện nay. Sinh viên tốt nghiệp chuyên ngành này được nhận định là có cơ hội làm việc với nhiều vị trí khác nhau tại các doanh nghiệp, bao gồm cả doanh nghiệp trong nước như: FPT, Viettel, VNPT, MobiFone, VinSmart, v.vv.. hay doanh nghiệp nước ngoài như: SamSung, LG, Nokia, Apple, Inter, v.vv..\\nMột thống kê từ Trung tâm Dự báo nhu cầu nhân lực và Thông tin thị trường lao động TPHCM cho thấy, giai đoạn từ 2020 – 2025 nhu cầu tuyển dụng lao động làm việc ngành điện tử viễn thông là khoảng 16 nghìn người/năm. Con số này đang có xu hướng tăng lên qua các năm sau đó.\\nTrong khi đó, đại diện Tổng công ty công nghệ cao Viettel cũng từng chia sẻ, hơn 50% nhân lực kỹ sư của doanh nghiệp này là chuyên ngành điện tử viễn thông. Mỗi năm doanh nghiệp tuyển khoảng 100 kỹ sư mới ra trường.\\nNhững con số “biết nói” trên cho thấy, tiềm năng và cơ hội việc làm cho những người được đào tạo ngành kỹ thuật điện tử viễn thông là rất lớn. Tốt nghiệp ngành này sinh viên có thể làm việc tại các vị trí như: chuyên viên tư vấn, thiết kế và vận hành kỹ thuật tại các đài phát thanh, truyền hình, công ty dịch vụ kỹ thuật điện tử viễn thông; Kỹ sư thiết kế vận hành hệ thống thông tin đa phương tiện tại các công ty truyền thông đa phương tiện; Kỹ sư viết phần mềm máy tính, v.vv..\\nChưa kể, trong xu hướng chuyển đổi số như hiện nay, nhu cầu nhân lực cho ngành điện tử viễn thông là rất lớn và vẫn còn thiếu. Các công ty viễn thông, công ty sản xuất thiết bị điện tử, nhà mạng sẽ trở thành “miền đất hứa” cho các tân kỹ sư tốt nghiệp chuyên ngành này.\\nTopCV có thể giới thiệu hàng trăm vị trí công việc ngành kỹ thuật điện tử viễn thông đang tuyển dụng để bạn tham khảo và nắm bắt cơ hội việc làm của ngành này sau khi ra trường.\\nMột số câu hỏi về ngành kỹ thuật điện tử viễn thông\\nĐể giúp các bạn hiểu sâu hơn về ngành này, sau đây TopCV sẽ giải đáp một số câu hỏi liên quan đến ngành kỹ thuật điện tử viễn thông.\\nNgành kỹ thuật điện tử viễn thông thi khối nào?\\nMã ngành kỹ thuật điện tử viễn thông thường là 7520207. Tuy nhiên, mã ngành này cũng có sự thay đổi tùy theo trường đào tạo, ví dụ tại Đại học Điện lực ngành này có mã là 7510302, Đại học Bách khoa Hà Nội mã ngành là ET-E4y, Đại học Công nghệ – ĐHQG Hà Nội mã ngành là CN9 v.vv.. Bạn nên căn cứ vào trường học mình lựa chọn để tra cứu chính xác mã ngành.\\nHàng năm ngành kỹ thuật điện tử viễn thông được tuyển sinh với số lượng lớn và thường thi vào với 2 khối:\\nNgoài ra, một số trường còn xét tuyển các tổ hợp gồm:\\nNếu bạn học tốt và nắm vững kiến thức các môn học này cộng thêm niềm đam mê với các thiết bị điện tử, viễn thông thì ngành kỹ thuật điện tử viễn thông là ngành bạn có thể cân nhắc lựa chọn để đăng ký thi tuyển sau khi tốt nghiệp THPT.\\nĐiểm chuẩn ngành kỹ thuật điện tử viễn thông\\nĐối với ngành kỹ thuật điện tử viễn thông, mỗi năm tuyển sinh điểm chuẩn sẽ có sự thay đổi, khác nhau giữa các trường đại học/học viện/cao đẳng có đào tạo ngành này. Bảng sau đây TopCV tổng hợp điểm chuẩn ngành kỹ thuật điện tử viễn thông mới nhất tại một số trường đại học/học viện, bạn có thể tham khảo:\\nGhi chú:\\nNgành kỹ thuật điện tử viễn thông học gì?\\nHiện nay các trường đại học, học viện đào tạo ngành kỹ thuật điện tử – viễn thông theo khung chương trình kéo dài từ 4 – 5 năm. Sau khi ra trường sinh viên sẽ được cấp bằng cử nhân hoặc kỹ sư. Số lượng tín chỉ (môn học/học phần) sẽ có sự khác nhau tùy theo chuyên ngành cụ thể mà bạn theo học sau khi thi đậu ngành kỹ thuật điện tử viễn thông.\\nKhi theo học ngành này, sinh viên sẽ được đào tạo các kiến thức chuyên môn về lĩnh vực điện tử, viễn thông, bao gồm cả lý thuyết và thực hành. Ngoài các môn cơ sở ngành, chương trình đào tạo còn chú trọng vào việc cung cấp kiến thức và kỹ năng để sinh viên có thể thiết kế, xây dựng, khai thác, vận hành, sử dụng, bảo trì các thiết bị điện tử, viễn thông.\\nTùy theo chuyên ngành lựa chọn, người học sẽ được học những kiến thức chuyên sâu hơn. Dưới đây là một số môn bạn sẽ được học khi lựa chọn ngành kỹ thuật điện tử viễn thông:\\nNgoài ra sinh viên còn được học các môn học khác như: Điện tử công suất, thiết kế tổng hợp hệ thống số, Kiến trúc máy tính, Lập trình nâng cao, kỹ thuật siêu cao tần, trí tuệ nhân tạo và ứng dụng, Quy hoạch và quản lý mạng viễn thông, thông tin vệ tinh, thông tin quang sợi,v.vv..\\nThông thường số lượng học phần hoặc nội dung học phần sẽ có sự khác nhau giữa bậc đào tạo cử nhân và kỹ sư.\\nKỹ thuật điện tử viễn thông học trường nào tốt?\\nLà một ngành có yêu cầu đầu vào cao và chất lượng đầu ra tốt, kỹ thuật điện tử viễn thông hiện được nhiều trường đưa vào hệ thống đào tạo.\\nCác trường đào tạo ngành kỹ thuật điện tử viễn thông\\nNếu bạn đang phân vân trong việc lựa chọn học ngành kỹ thuật điện tử viễn thông tại trường nào thì hãy cùng TopCV điểm qua danh sách các trường đại học có đào tạo ngành kỹ thuật điện tử – viễn thông sau đây:\\nMiền Bắc\\nMiền Trung:\\nMiền Nam:\\nHọc kỹ thuật điện tử viễn thông trường nào tốt?\\nViệc lựa chọn trường nào tốt để theo đuổi đam mê kỹ thuật điện tử- viễn thông của mỗi người có thể xuất phát từ nhiều tiêu chí khác nhau. Sau đây TopCV đưa ra gợi ý một số trường đại học uy tín và nổi tiếng trong đào tạo ngành kỹ thuật điện tử viễn thông để bạn có thể tham khảo và đưa ra sự lựa chọn phù hợp cho mình:\\nCác trường quốc tế nổi tiếng đào tạo kỹ thuật điện tử viễn thông\\nHiện nay trên thế giới có nhiều trường đào tạo chuyên ngành kỹ thuật điện tử viễn thông. Nếu có điều kiện về kinh tế, bạn có thể học ngành này tại các trường đại học và viện công nghệ nổi tiếng đào tạo kỹ thuật điện tử viễn thông như:\\nTrên đây chỉ là các gợi ý giúp bạn có thể dễ dàng đưa ra quyết định hơn khi quan tâm đến ngành kỹ thuật điện tử viễn thông. Quan trọng nhất là lựa chọn một trường có chương trình đào tạo và cơ sở vật chất phù hợp với mục tiêu học tập và sự quan tâm cá nhân của bạn. Ngoài ra, nên xem xét các thông tin về danh sách giảng viên, dự án nghiên cứu và cơ hội thực tập, liên kết doanh nghiệp để đánh giá chất lượng giáo dục và khả năng phát triển nghề nghiệp trong ngành kỹ thuật điện tử viễn thông sau khi tốt nghiệp.\\nNgành kỹ thuật điện tử viễn thông lương bao nhiêu?\\nMức lương trong ngành kỹ thuật điện tử viễn thông khá đa dạng và phụ thuộc vào nhiều yếu tố như: vị trí làm việc, kinh nghiệm làm việc, tính chất công việc, quốc gia,v.vv.. Tuy nhiên, nhìn chung ngành kỹ thuật điện tử viễn thông thường có mức lương khá hấp dẫn. Đối với các chuyên gia và kỹ sư điện tử viễn thông có kinh nghiệm và trình độ cao, mức lương có thể rất cao và vượt qua mức trung bình của nhiều ngành khác.\\nDưới đây là mức lương của một số vị trí công việc trong ngành kỹ thuật điện tử viễn thông do TopCV tổng hợp mà bạn có thể tham khảo:\\nLưu ý, các chuyên gia và kỹ sư điện tử viễn thông có kỹ năng đặc biệt, nắm vững các công nghệ mới và có kinh nghiệm làm việc trong nhiều dự án quan trọng thường có cơ hội nhận được mức lương cao hơn và các phúc lợi hấp dẫn từ các công ty và tổ chức. Bạn có thể cập nhật nhanh việc làm ngành điện tử viễn thông để tham khảo mức thu nhập tại các vị trí công việc trong nhóm ngành này hiện nay.\\nHọc kỹ thuật điện tử viễn thông ra làm gì?\\nVấn đề việc làm sau khi ra trường luôn là nỗi băn khoăn và trăn trở của các bạn sinh viên. Đối với ngành kỹ thuật điện tử viễn thông, sau khi tốt nghiệp ra trường, với những kiến thức chuyên môn, kỹ năng đã học và được đào tạo, bạn có cơ hội làm việc tại nhiều vị trí khác nhau tại đa dạng các công ty, doanh nghiệp. TopCV sẽ tổng hợp một số vị trí công việc dành cho các sinh viên học ngành kỹ thuật điện tử viễn thông ngay sau đây để bạn tham khảo về thị trường tuyển dụng của nhóm ngành này hiện nay.\\nNhân viên kỹ thuật điện tử – viễn thông\\nNhân viên kỹ thuật điện tử – viễn thông là người có chuyên môn và kỹ năng trong lĩnh vực điện tử – viễn thông. Với những sinh viên tốt nghiệp chuyên ngành kỹ thuật điện tử viễn thông, có thể ứng tuyển vào vị trí nhân viên kỹ thuật điện tử – viễn thông tại hầu hết các tổ chức, doanh nghiệp.\\nMô tả công việc:\\nCông việc của nhân viên kỹ thuật điện tử – viễn thông sẽ liên quan đến các nhiệm vụ gồm:\\nCó thể thấy vị trí công việc này gần như bao quát toàn bộ hệ thống điện tử – viễn thông trong đơn vị làm việc. Nếu đáp ứng yêu cầu công việc và hoàn thành tốt nhiệm vụ được giao, người làm vị trí này có thể thăng tiến lên chức vụ chuyên viên, kỹ sư hoặc cấp bậc cao hơn.\\nApply nhân viên kỹ thuật điện tử – viễn thông ngay trên TopCV để có cơ hội tìm kiếm việc làm phù hợp.\\nKỹ sư viễn thông\\nKỹ sư viễn thông là những chuyên gia có trình độ kỹ thuật và kiến thức chuyên sâu về các hệ thống viễn thông. Vị trí này thường được các công ty viễn thông tuyển dụng. Nếu bạn tốt nghiệp ngành kỹ thuật điện tử – viễn thông hệ đào tạo kỹ sư thì đây là một trong những vị trí công việc có thể apply sau khi ra trường để có cơ hội “đầu quân” cho những công ty viễn thông lớn trong nước như: VNPT, Viettel, MobiFone, Vinaphone,v.vv..\\nMô tả công việc:\\nKỹ sư thiết kế và viết phần mềm\\nSinh viên ngành kỹ thuật điện tử viễn thông có thể làm việc trong các công ty công nghệ hoặc công ty sản xuất thiết bị viễn thông với vị trí kỹ sư thiết kế và viết phần mềm cho máy tính, điện thoại thông minh, xe ô tô, robot,v.vv..\\nĐây là vị trí công việc yêu cầu có trình độ kỹ thuật và kiến thức chuyên sâu về phát triển phần mềm điện tử viễn thông. Công việc của người làm ở vị trí này liên quan đến việc thiết kế, phân tích, lập trình và triển khai các ứng dụng và hệ thống phần mềm.\\nMô tả công việc:\\nKỹ sư vô tuyến\\nKỹ sư vô tuyến còn được gọi là kỹ sư viễn thông vô tuyến hoặc kỹ sư RF – Radio Frequency. Đây là vị trí quan trọng yêu cầu người làm có kiến thức và kỹ năng chuyên sâu về viễn thông vô tuyến, tương tác với sóng radio và các hệ thống truyền thông không dây.\\nVị trí công việc này liên quan đến thiết kế, triển khai và duy trì các hệ thống và thiết bị vô tuyến.\\nMô tả công việc:\\nChuyên viên vận hành, giám sát hạ tầng viễn thông\\nChuyên viên vận hành và giám sát hạ tầng viễn thông được đánh giá là một vị trí công việc quan trọng trong ngành viễn thông và mạng. Công việc này liên quan đến quản lý và duy trì các hệ thống hạ tầng viễn thông, đảm bảo sự hoạt động liên tục và ổn định của mạng tại các công ty, doanh nghiệp hoặc đài phát thanh, đài truyền hình,v.vv..\\nMô tả công việc:\\nTrưởng bộ phận kỹ thuật\\nVới những người có kinh nghiệm làm việc lâu năm trong nghề và năng lực chuyên môn tốt, hoàn toàn có thể làm việc ở vị trí trưởng bộ phận kỹ thuật tại các công ty, doanh nghiệp.\\nVị trí này là người đứng đầu và có trách nhiệm quản lý và điều hành các hoạt động kỹ thuật trong một bộ phận hoặc một đơn vị tổ chức.\\nMô tả công việc:\\nVới vị trí này, lộ trình thăng tiến có thể giúp bạn phát triển để trở thành quản lý dự án viễn thông hoặc giám đốc kỹ thuật. Tuy nhiên, để có thể làm việc ở những vị trí cao hơn đòi hỏi bạn phải có kinh nghiệm nhiều năm làm việc trong lĩnh vực điện tử viễn thông, từng làm việc tại nhiều dự án với vị trí tương đường và có kỹ năng lãnh đạo.\\n>>> Khám phá ngay các vị trí tuyển dụng trưởng bộ phận kỹ thuật với mức thu nhập hấp dẫn và chế độ đãi ngộ tốt trên TopCV để có cơ hội kết nối với các nhà tuyển dụng chất lượng.\\nChuyên gia phân tích và tư vấn kỹ thuật điện tử viễn thông\\nVới kiến thức chuyên sâu về kỹ thuật điện tử viễn thông, bạn hoàn toàn có thể làm việc tại vị trí chuyên gia phân tích, tư vấn trong lĩnh vực điện tử – viễn thông. Ở vị trí này, người làm việc cần có kỹ năng phân tích, tư vấn, đánh giá và chuyên môn vững để thực hiện các nhiệm vụ phân tích, tư vấn và cung cấp các giải pháp, khuyến nghị để cải thiện hiệu suất và khả năng cạnh tranh của các hệ thống viễn thông.\\nMô tả công việc:\\nNgoài ra, nếu đam mê nghiên cứu và phát triển, sau khi tốt nghiệp ngành kỹ thuật điện tử viễn thông bạn hoàn toàn có thể tham gia vào hoạt động nghiên cứu và phát triển công nghệ mới trong ngành kỹ thuật điện tử viễn thông. Để thực hiện điều này, nhiều người lựa chọn trở thành cán bộ giảng dạy, nghiên cứu trong các viện nghiên cứu, trường đại học, cao đẳng về kỹ thuật điện tử viễn thông.\\nTrên đây chỉ là một số gợi ý công việc mà bạn có thể làm sau khi tốt nghiệp và được đào tạo về ngành kỹ thuật điện tử viễn thông. Có thể nói, học ngành này mở ra nhiều cơ hội nghề nghiệp khác nhau cho các bạn sinh viên. Các công ty viễn thông, công ty sản xuất thiết bị điện tử, công ty công nghệ, đài phát thanh, đài truyền hình,v.vv.. và tổ chức nghiên cứu đều có nhu cầu tuyển dụng các chuyên gia trong lĩnh vực này.\\nSau khi xác định được vị trí công việc muốn ứng tuyển, việc tiếp theo bạn cần làm là chuẩn bị một bản CV chỉn chu, đẹp mắt và chuyên nghiệp gửi đến nhà tuyển dụng. Hãy tham khảo cách viết CV tìm việc kỹ thuật điện tử mà TopCV đã chia sẻ để cấu trúc một bản CV ưng ý bạn nhé.\\nTìm việc làm ngành kỹ thuật điện tử viễn thông ở đâu?\\nNhu cầu việc làm ngành kỹ thuật điện tử viễn thông rất lớn và đa dạng vị trí tuyển dụng. Tuy nhiên việc tìm được một bến đỗ công việc với vị trí phù hợp là điều không dễ dàng, nhất là với các bạn sinh viên mới ra trường. Nếu bạn đang lo lắng tìm kiếm những cơ hội việc làm trong ngành kỹ thuật điện tử viễn thông hoặc mong muốn có thêm nhiều thông tin tuyển dụng trong ngành này thì TopCV là lựa chọn đáng cân nhắc.\\nLà nền tảng tuyển dụng và việc làm tiên phong tại Việt Nam, TopCV giúp bạn tiếp cận với hàng triệu thông tin tuyển dụng ở nhiều vị trí công việc khác nhau. Bằng việc ứng dụng trí tuệ nhân tạo, TopCV dễ dàng kết nối ứng viên với mạng lưới nhà tuyển dụng tại nhiều tỉnh thành khác nhau. Đặc biệt, TopCV giúp bạn có cơ hội được kết nối và tiếp cận các vị trí công việc hấp dẫn từ các doanh nghiệp trong nước cũng như quốc tế có uy tín trong lĩnh vực điện tử viễn thông như: FPT, Viettel, MobiFone, VNPT, SamSung,v.vv.. Từ đó thuận lợi tìm ra “miền đất hứa” cho mình.\\nKhông chỉ kết nối nhanh chóng, TopCV còn hỗ trợ bạn tạo CV chuyên nghiệp, viết sơ yếu lý lịch đúng chuẩn và cung cấp thêm nhiều kiến thức về kỹ năng phỏng vấn, kỹ năng tạo ấn tượng với nhà tuyển dụng để tăng tỷ lệ thành công khi tìm việc.\\nTrên đây là những thông tin chi tiết về ngành kỹ thuật điện tử viễn thông mà TopCV vừa cập nhật và gửi đến bạn. Hy vọng với những thông tin này, bạn đã hiểu rõ về ngành kỹ thuật điện tử viễn thông như: môn thi, cơ hội nghề nghiệp, mức thu nhập,v.vv.. từ đó đưa ra sự lựa chọn công việc phù hợp sau khi ra trường, đồng thời tự tin lựa chọn ngành học nếu bạn đang lúng túng trong việc chọn ngành, chọn trường học sau khi tốt nghiệp THPT. Chúc các bạn thành công và đừng quên TopCV vẫn đồng hành trong suốt hành trình tìm việc thông qua việc cập nhật nhanh chóng và liên tục các công việc mới nhất bạn nhé!.'},\n",
       " {'url': 'https://baoantelecom.com/vi/tin/dien-tu-vien-thong',\n",
       "  'raw_content': 'Tìm hiểu kiến thức học và cơ hội việc làm ngành Điện tử viễn thông\\nMỤC LỤC\\n1. Ngành điện tử viễn thông là gì? Và ứng dụng trong đời sống\\n2. Ngành điện tử viễn thông học những kiến thức gì?\\n3. Định hướng công việc ngành Điện tử viễn thông? Cơ hội việc làm có rộng mở?\\n4. Cần trang bị gì để học và làm việc tốt ngành điện tử viễn thông\\n5. Các trường đào tạo ngành điện tử viễn thông\\nNgành điện tử viễn thông là gì? Và ứng dụng trong đời sống\\nĐiện tử viễn thông là ngành sử dụng những công nghệ tiên tiến để tạo ra các thiết bị giúp cho việc liên lạc, truy xuất thông tin của cá nhân hoặc tổ chức, điện tử viễn thông được ứng dụng cao ở nhiều lĩnh vực trong cuộc sống.\\n•\\xa0\\xa0 \\xa0Lĩnh vực mạng, viễn thông: các thiết bị truyền tin trên toàn cầu như hệ thống truyền dẫn: cáp quang, vệ tin, hệ thống truyền tin không dây (vi ba) v.v... Thành tựu mới đây nhất là xây dựng hệ thống 5g và các thiết bị hệ thống hôi nghị truyền hình\\n•\\xa0\\xa0 \\xa0Lĩnh vực định vị dẫn đường: là một lĩnh vực đặc biệt quan trọng ngành Hàng không và Hàng hải. Những trạm kiểm soát không lưu mặt đất là nơi những kĩ sư Điện tử Viễn thông làm nhiệm vụ dẫn đường cho hàng nghìn chuyến bay, tàu thuỷ hoạt động an toàn\\n•\\xa0\\xa0 \\xa0Lĩnh vực nghiên cứu, sáng tạo công nghệ, thiết bị mới: là lĩnh vực đòi hỏi người học phải có sự sáng tạo dựa trên những ứng dụng của xã hội nói chung và ngành Điện tử Viễn thông nói riêng, phát triển các công nghệ mới, ứng dụng mới hữu ích và đơn giản hơn cho mọi người là lĩnh vực thúc đẩy sự phát triển của toàn bộ ngành Điện tử Viễn thông\\n•\\xa0\\xa0 \\xa0Lĩnh vực điện tử y sinh: ngành dđiện tử viễn thông là nền tảng để tạo ra các máy móc, thiết bị điện tử hiện đại trong lĩnh vực y tế và sinh học.\\n•\\xa0\\xa0 \\xa0Lĩnh vực âm thành, hình ảnh: ngành kỹ thuật Điện tử Viễn thông \\xa0đóng góp 1 phần quan trọng của như việc thiết kế ra các trang thiết bị nghe nhìn, điều chỉnh âm độ các thiết bị thu âm v.v...\\nCó thể nói tất cả các thiết bị trong cuộc sống hiện đại ngày nay như : máy thu hình, điện thoại, máy tính cá nhân, máy tính bảng,… đều có dấu ấn của ngành Điện tử Viễn thông , là nền tảng cơ bản nhất của cách mạng công nghiệp 4.0, của xu hướng chuyển đối số trong mọi lĩnh vực của đời sống, kinh tế, xã hội.\\nNgành điện tử viễn thông học những kiến thức gì?\\nHiểu từ tên gọi, có rất nhiều người cho rằng Điện tử Viễn thông là một phần của Công nghệ thông tin, cách hiểu này không hoàn toàn sai nhưng chưa chính xác. Giải thích cơ bản thì Ngành Điện tử-viễn thông và ngành Công nghệ thông tin là hai ngành rất gần với nhau, có nhiều kiến thức chung về công nghệ tuy nhiên đi vào chuyên sâu sẽ thấy rõ sự khác biệt rằng: CNTT tập trung vào xây dựng phần mềm còn chuyên ngành DTVT tập trung về phần cứng.\\nTheo học ngành Điện tử - Viễn thông, sinh viên được trang bị khối kiến thức theo 3 tầng cấp độ:\\nCấp độ 1: Các kiến thức nền tảng và chuyên sâu về các công nghệ, kỹ thuật: Giải tích mạch điện; trường điện tử; kỹ thuật lập trình; điện tử số; nguyên lý truyền thông; vi xử lý; điện tử thông tin; kỹ thuật truyền số liệu và mạng; xử lý tín hiệu; thiết kế số dùng ngôn ngữ mô tả phần cứng; hệ thống viễn thông; kỹ thuật siêu cao tần và anten,...\\nCấp độ 2: ngành Công nghệ Kỹ thuật Điện tử - Viễn thông cung cấp cho sinh viên các kỹ năng vận hành bảo trì, sửa chữa, cải tiến, nâng cấp các hệ thống, thiết bị điện tử viễn thông\\nCấp độ 3: Nâng cao hơn là khả năng tìm hiểu, nghiên cứu, phát triển ứng dụng công nghệ kỹ thuật điện tử viễn thông trong công nghiệp và trong đời sống dân dụng. Thực hành, vận dụng lý thuyết là phần học quan trọng nhất trong ngành DTVT, cụ thể là những cuộc thi đầy sáng tạo như: robocon\\nĐịnh hướng công việc ngành Điện tử viễn thông? Cơ hội việc làm có rộng mở?\\nHọc ngành điện tử viễn thông ra làm gì? có thể đảm nhận những vị trí nào? Làm việc ở công ty nào là câu hỏi của tất cả sinh viên ngành viễn thông cần biết và nền tìm hiểu:\\n•\\xa0\\xa0 \\xa0Chuyên viên quy hoạch, thiết kế và tối ưu hóa hệ thống mạng tại các công ty viễn thông < VNPT, Viettel, Vinaphone, Mobiphone …;>\\n•\\xa0\\xa0 \\xa0Chuyên viên thiết kế, tư vấn và điều hành công tác kỹ thuật tại các đài phát thanh, truyền hình < VTV, HTV,SCTV, các đài truyền hình địa phương…>\\n•\\xa0\\xa0 \\xa0Chuyên viên nghiên cứu và thiết kế tại các công ty sản xuất thiết bị điện tử viễn thông, âm thanh hình ảnh, công ty thiết kế sản xuất vi mạch. < Aver, Maxhub, FPT, Samsung, LG, Intel, Panasonic..>\\n•\\xa0\\xa0 \\xa0Chuyên viên vận hành, thiết kế và bảo trì thiết bị điện tử, tự động hóa trong các đơn vị, doanh nghiệp.\\n•\\xa0\\xa0 \\xa0Khi có kinh nghiệm và thời gian làm việc \\xa0có thể giữ vị trí Trưởng bộ phận kỹ thuật, Giám đốc kỹ thuật tại các doanh nghiệp, các công ty trong lĩnh vực điện tử, viễn thông, truyền thông.\\n•\\xa0\\xa0 \\xa0Có thể trở thành cán bộ giảng dạy, nghiên cứu tại các trường đại học, cao đẳng và Viện nghiên cứu.\\nThế giới nói chung và Việt Nam nói riêng đang sống trong kỳ nguyên số. Các doanh nghiệp về công nghệ ngày càng nhiều và phát triển rất nhanh, đi cùng đó là nhu cầu về nguồn nhân lực cũng tăng cao. Dự báo của Vietnamworks cho thấy, nước ta đang thiếu 400.000 nhân lực công nghệ thông tin và điện tử viên thông và mỗi năm cần cung ứng mới tới 78.000 lao động. Tuy nhiên trong thực tế, mỗi năm nước ta chỉ có khoảng 50.000 sinh viên tốt nghiệp, dẫn đến \"cơn khát\" nhân lực đối với ngành học này dường như chưa bao giờ hạ.\\nCần trang bị gì để học và làm việc tốt ngành điện tử viễn thông\\nKhông chỉ ngành ĐTVT mà khi lựa chọn ngành học và việc làm, cần tìm thấy được sự đam mê và thích thú. Điều này giúp người học và người làm việc tìm thấy được niềm vui trong công việc, công việc không nhàm chán.\\nCòn riêng trong ngành ĐT VT nên có thêm những tố chất về: sự kiên trì, nhẫn nại, kỹ năng ngoại ngữ và khả năng làm việc nhóm.\\nCác trường đào tạo ngành điện tử viễn thông\\nVới hệ chính quy Đại học, đào tạo ngành Điện tử viễn thông có thể kể đến các trường với bề dày và có tỷ lệ sinh viên đầu ra tốt nhất:\\nKhoa điện tử viễn thông đại học bách khoa đà nẵng\\nTrường ĐH Bách khoa Hà Nội\\nTrường ĐH Bách khoa HCM (ĐH Quốc gia HCM)\\nTrường ĐH khoa học (ĐH Huế)\\nTrường Học viện Công nghệ Bưu chính Viễn thông\\nTrường ĐH Công nghệ (ĐH Quốc gia Hà Nội)\\nĐại học Công nghệ TP.HCM\\nĐại học Sư phạm Kỹ thuật TP.HCM\\nĐại học Điện lực – Hà Nội\\nĐĂNG KÝ TƯ VẤN NGAY HÔM NAY\\nTin khác\\nBẢNG GIÁ MÀN HÌNH TƯƠNG TÁC 65INCH RẺ NHẤT 2022\\nReview loa hội nghị bluetooth Maxhub BM21\\nLiên kết quang học (Optical Bonding) là gì?\\nSo sánh công nghệ\\xa0LED Edge-lit \\xa0(chiếu sáng cạnh) và Back-lit\\xa0(chiếu sáng nền)\\nSo sánh sự khác biệt giữa màn hình cảm ứng IR và PCAP\\nSo sánh màn hình tương tác: MAXHUB V5 Transcend vs LG CreateBoard™\\nVì sao nên sử dụng tính năng Automatic Framing của Polycom Studio?\\nCác loại công nghệ màn hình cảm ứng\\nTrụ Sở Chính TP. Hồ Chí Minh\\nĐịa chỉ :\\xa0T08, đường số 20, KĐT Him Lam, P. Tân Hưng, Q.7, HCM\\nHotline :\\xa00918.325.086\\nEmail :\\xa0info@baoantelecom.com\\nChi nhánh Hà Nội\\nĐịa chỉ : P.201, 627 Vũ Tông Phan, Khương Đình, Thanh Xuân, Hà Nội\\nHotline :\\xa00911.527.086\\nEmail :\\xa0info@baoantelecom.com\\nChi nhánh Đà Nẵng\\nĐịa chỉ : H53/15 K729\\xa0Ngô Quyền, Q. Sơn Trà, Đà Nẵng\\nHotline : 0918.325.086\\nEmail : info@baoantelecom.com'},\n",
       " {'url': 'https://hust.edu.vn/vi/dao-tao/ht-dien-tu-thong-minh-internet-van-vat/elitech-dien-tu-vien-thong-364255.html',\n",
       "  'raw_content': 'Elitech - Điện tử viễn thông\\nChương trình đào tạo tài năng\\xa0Hệ thống điện tử thông minh và Internet vạn vật\\n(Chương trình thuộc Viện Điện tử - Viễn thông)\\nĐề cương chương trình đào tạo, tải tại đây !\\nlà ngành có nhu cầu cao về nhân lực ở Việt Nam và trên thế giới.\\nTheo học chương trình này, sinh viên được trang bị một cách toàn diện cả về kỹ năng chuyên môn và kỹ năng mềm để có thể trở thành những nhà lãnh đạo, kỹ sư và chuyên gia giỏi trong:\\n·\\xa0\\xa0\\xa0\\xa0\\xa0\\xa0Nghiên cứu phát triển, thiết kế, chế tạo, vận hành các hệ thống điện tử thông minh như thiết kế vi mạch, hệ thống nhúng, các hệ thống điện tử ứng dụng trong truyền thông, y tế, điều khiển, tự động hóa có hướng tới các ứng dụng thông minh như học máy, trí tuệ nhân tạo.\\n·\\xa0\\xa0\\xa0\\xa0\\xa0\\xa0Phát triển các nền tảng phần cứng, phần mềm, các phương thức truyền thông và ứng dụng cho Internet vạn vật (Internet of Things) cũng như các hệ thống truyền thông tương lai.\\nChương trình đào tạo tài năng Hệ thống Điện tử thông minh và IoT được giảng dạy bằng tiếng Việt và được thiết kế bao gồm khối kiến thức toán học và khoa học cơ bản, khối kiến thức cơ sở cốt lõi, khối kiến thức chuyên sâu của ngành ĐT-VT, khối kiến thức bổ trợ về xã hội và kỹ năng mềm.\\nĐặc biệt, sinh viên được thực tập trong môi trường công nghiệp và được tham gia nghiên cứu cùng với giảng viên tại Trung tâm Nghiên cứu của Viện ĐT-VT từ năm thứ 3.\\nMã xét tuyển:\\nChỉ tiêu tuyển sinh:\\xa030\\nKiến thức, kỹ năng đạt được sau tốt nghiệp\\nKiến thức\\n·\\xa0\\xa0\\xa0\\xa0\\xa0\\xa0Sinh viên tốt nghiệp có khả năng áp dụng các kiến thức toán học và khoa học cơ bản, các kiến thức cơ sở ngành, các kiến thức cốt lõi ngành kết hợp khả năng khai thác, sử dụng các phương pháp, công cụ hiện đại để thiết kế, mô phỏng, triển khai, vận hành và đánh giá các hệ thống điện tử thông minh, các sản phẩm và giải pháp kỹ thuật trong lĩnh vực IoT nói riêng và\\xa0 ĐT-VT nói chung.\\nKỹ năng\\n·\\xa0\\xa0\\xa0\\xa0\\xa0\\xa0Sinh viên tốt nghiệp được trang bị kỹ năng và phẩm chất chuyên nghiệp cần thiết để có thể trở thành nhà lãnh đạo và chuyên gia giỏi;\\n·\\xa0\\xa0\\xa0\\xa0\\xa0\\xa0Kỹ năng xã hội cần thiết để làm việc hiệu quả trong nhóm đa ngành và trong môi trường quốc tế;\\n·\\xa0\\xa0\\xa0\\xa0\\xa0\\xa0Năng lực nhận biết vấn đề và hình thành ý tưởng, năng lực thiết kế, năng lực triển khai, năng lực vận hành, sử dụng và khai thác các hệ thống điện tử thông minh; các sản phẩm\\xa0 và giải pháp kỹ thuật trong lĩnh vực IoT và ĐT-VT.\\nNgoại ngữ\\n·\\xa0\\xa0\\xa0\\xa0\\xa0\\xa0Sử dụng hiệu quả tiếng Anh trong giao tiếp và công việc, đạt TOEIC từ 600 điểm trở lên.\\nThời gian đào tạo và khả năng học lên bậc học cao hơn\\n·\\xa0\\xa0\\xa0\\xa0\\xa0\\xa0Đào tạo Cử nhân: 4 năm\\n·\\xa0\\xa0\\xa0\\xa0\\xa0\\xa0Đào tạo tích hợp Cử nhân - Thạc sĩ: 5,5 năm\\n·\\xa0\\xa0\\xa0\\xa0\\xa0\\xa0Đào tạo Cử nhân - Thạc sĩ - Tiến sĩ: 8,5 năm\\nĐặc biệt, sinh viên thuộc chương trình này có thể tham gia chương trình song bằng với các trường đại học đối tác theo các mô hình sau:\\n·\\xa0\\xa0\\xa0\\xa0\\xa0\\xa0Mô hình 2+2, trong đó 2 năm đầu học tại Trường ĐHBK Hà Nội, 2 năm cuối học tại Trường Đại học Wollongong, Úc để được cấp bằng cử nhân của cả hai trường.\\n·\\xa0\\xa0\\xa0\\xa0\\xa0\\xa0Mô hình 4+2, trong đó 4 năm đầu học tại Trường ĐHBK Hà Nội, 2 năm cuối học tại Trường Đại học Telecom ParisTech, Cộng hòa Pháp để được cấp song bằng: bằng Thạc sĩ của Trường ĐHBK Hà Nội và bằng Kỹ sư của Đại học Telecom ParisTech.\\n·\\xa0\\xa0\\xa0\\xa0\\xa0\\xa0Mô hình 4+1+3, trong đó 4 năm đầu học tại Trường ĐHBK Hà Nội để lấy bằng cử nhân, 1 năm học chương trình Thạc sĩ tại ĐHBK Hà Nội và 3 năm học chương trình Tiến sĩ tại Viện KAIST, Hàn Quốc để được cấp bằng Tiến sĩ của hai trường.\\n·\\xa0\\xa0\\xa0\\xa0\\xa0\\xa0\\xa0Cơ hội học bổng và hỗ trợ học tập\\nHọc bổng hỗ trợ tài chính\\nNgoài học bổng hỗ trợ tài chính của Trường ĐHBK Hà Nội, sinh viên theo Chương trình tài năng Hệ thống Điện tử thông minh và IoT có cơ hội nhận:\\no\\xa0\\xa0\\xa0Học bổng hỗ trợ học tập, học bổng trao đổi sinh viên từ các doanh nghiệp và trường đại học quốc tế là đối tác của Viện ĐT-VT với tổng số tiền học bổng khoảng 3 tỉ đồng mỗi năm.\\nHọc bổng trao đổi sinh việc, học sau đại học\\no\\xa0\\xa0\\xa0Sinh viên tốt nghiệp còn có nhiều cơ hội xin học bổng du học tại Mỹ, châu Âu, Nhật Bản, Singapore, Hàn Quốc …\\no\\xa0\\xa0\\xa020 – 30% tổng sinh viên tốt nghiệp hằng năm nhận học bổng du học.\\nCơ hội việc làm sau tốt nghiệp\\no\\xa0\\xa0\\xa0100% sinh viên có việc làm sau 01 năm tốt nghiệp hoặc đi học ở bậc cao hơn.\\nVị trí việc làm tiêu biểu:\\no\\xa0\\xa0\\xa0Kỹ sư nghiên cứu phát triển trong lĩnh vực IoT và ĐT-VT.\\no\\xa0\\xa0\\xa0Kỹ sư thiết kế và tối ưu mạng, quản lý mạng, vận hành hệ thống mạng viễn thông phức tạp.\\no\\xa0\\xa0\\xa0Kỹ sư thiết kế và viết phần mềm cho máy tính, thiết kế và viết phần mềm cho các thiết bị điện tử thông minh như điện thoại di động, rô bốt, xe ô tô, đầu thu truyền hình kỹ thuật số…, kỹ sư kiểm thử phần mềm.\\nLiên hệ\\nĐiều phối viên chương trình:\\nTS. Đào Việt Hùng\\nEmail: hung.daoviet@hust.edu.vn\\nTác giả: Trương Thu Hương\\nNhững tin mới hơn\\nĐTVT - Cơ hội du học\\nĐTVT - NV & SK\\nĐTVT - Tuyển sinh\\nGiới thiệu bài viết cho bạn bè'},\n",
       " {'url': 'https://huongnghiep.hocmai.vn/chuyen-nganh/ky-thuat-dien-tu-vien-thong/dai-hoc-bach-khoa-ha-noi/',\n",
       "  'raw_content': 'Please enable javascript to view this site.\\nhuongnghiep.hocmai.vn |\\nMarch 27, 2024\\nTop\\nChuyên ngành Kỹ thuật Điện tử - Viễn thông - Đại Học Bách Khoa Hà Nội\\nReview ngành Kỹ thuật Điện tử – Viễn thông Đại học Bách Khoa Hà Nội (HUST): Dùng công nghệ hiện đại thay đổi văn minh nhân loại\\nKhi cuộc cách mạng 4.0 bùng nổ, ngành Kỹ thuật điện tử – Viễn thông trở thành một trong những ngành mở ra nhiều cơ hội nhất cho các bạn trẻ. Là một trong những trường đào tạo hàng đầu về điện tử – viễn thông, Đại học Bách Khoa Hà Nội là cái tên được rất nhiều người chú ý. Hôm nay hãy cùng Huongnghiep.hocmai.vn review chi tiết để các bạn có cái nhìn rõ hơn về ngành Kỹ thuật Điện tử – Viễn thông của ĐHBK HN nhé!\\nĐiện tử viễn thông đóng vai trò quan trọng trong cuộc cách mạng 4.0\\nMục lục\\n1. Ngành Kỹ thuật Điện tử – Viễn thông là gì?\\nKỹ thuật Điện tử – Viễn thông là ngành nghiên cứu về việc ứng dụng kỹ thuật tiên tiến và công nghệ hiện đại nhất để tạo ra các thiết bị vệ tinh, cáp và thiết bị điện tử như: điện thoại, máy tính bảng, máy tính cá nhân, Tivi,…. Nhờ đó giúp con người xây dựng được hệ thống mạng thông tin liên lạc toàn cầu, giúp việc trao đổi thông tin được tiến hành thuận lợi bất chấp thời gian và không gian khác nhau.\\nNgành này gồm có hai lĩnh vực chính:\\n–\\xa0 \\xa0 \\xa0 \\xa0 Điện tử: Nghiên cứu và chế tạo ra vi mạch điện tử, đây chính là bộ não điều khiển tất cả các hoạt động của thiết bị thông minh\\n–\\xa0 \\xa0 \\xa0 \\xa0 Viễn thông: Nghiên cứu và sử dụng các thiết bị tạo nên mạng viễn thông (thiết bị truyền thông tin từ đầu phát đến đầu thu) gồm có những thành phần chính là: thiết bị truyền dẫn, thiết bị chuyển mạch, thiết bị đầu cuối, môi trường truyền.\\n2. Ngành Kỹ thuật Điện tử – Viễn thông Đại học Bách Khoa Hà Nội có gì?\\nKhoa Kỹ thuật Điện tử – Viễn thông hiện đang rất hot của Bách Khoa ở hiện tại và cả trong tương lai. Khi theo học, bạn sẽ được lựa chọn một trong các chuyên ngành:\\n–\\xa0 \\xa0 \\xa0 \\xa0 Điện tử và kỹ thuật máy tính: chuyên về lập trình cho các hệ thống nhúng\\n–\\xa0 \\xa0 \\xa0 \\xa0 Kỹ thuật thông tin – truyền thông: chuyên về hệ thống viễn thông, kỹ thuật truyền số liệu.\\n–\\xa0 \\xa0 \\xa0 \\xa0 Kỹ thuật y sinh: chuyên nghiên cứu các thiết bị y tế phục vụ khám chữa bệnh\\n–\\xa0 \\xa0 \\xa0 \\xa0 Kỹ thuật điện tử hàng không vũ trụ: nghiên cứu về các loại máy bay máy bay tự hành\\n–\\xa0 \\xa0 \\xa0 \\xa0 Kỹ thuật Đa phương tiện: nghiên cứu về các thiết bị nghe nhìn, điều chỉnh âm độ của các thiết bị thu âm,…\\nNội dung chương trình học:\\nTại Đại học Bách Khoa Hà Nội, bạn có thể theo học hệ cử nhân (4 năm), hệ kỹ sư (5 năm), hệ tích hợp cử nhân – thạc sĩ (5,5 năm) hoặc Hệ Cử nhân – thạc sĩ – tiến sĩ (8,5 năm). Bên cạnh đó, bạn cũng có cơ hội tham gia chương trình song bằng với các đối tác của trường theo mô hình:\\n–\\xa0 \\xa0 \\xa0 \\xa0 2+2: 2 năm đầu học tại Đại học Bách Khoa Hà Nội, 2 năm cuối sẽ học tại Đại học Wollongong của Úc, được cấp bằng cử nhân của cả 2 trường\\n–\\xa0 \\xa0 \\xa0 \\xa0 4+2: 4 năm đầu học tại Đại học Bách Khoa Hà Nội, 2 năm sau học tại Đại học Telecom ParisTech của Pháp. Sau 6 năm bạn sẽ nhận được bằng Thạc sĩ của ĐH BK HN và bằng kỹ sư của Đại học Telecom ParisTech.\\n–\\xa0 \\xa0 \\xa0 \\xa0 4+1+3: 4 năm đầu học tại Đại học Bách Khoa Hà Nội lấy bằng cử nhân của ĐHBKHN, 1 năm tiếp theo học Thạc sĩ tại ĐHBK HN và 3 năm cuối học chương trình Tiến sĩ ở viện KAIST (Hàn Quốc), sau đó bạn sẽ có bằng Tiến sĩ của cả 2 trường.\\nVẫn chưa hết, sinh viên Kỹ thuật Điện tử – Viễn thông của Đại học Bách Khoa Hà Nội còn có thể chọn học chương trình tiên tiến. Ở đây, ngôn ngữ giảng dạy sẽ hoàn toàn bằng tiếng Anh với đội ngũ giảng viên hàng đầu trong nước và quốc tế.\\nMột lựa chọn khác cho các bạn sinh viên yêu thích điện tử – viễn thông là chương trình liên kết với Đại học Leibniz Hannover (Đức). Một số điểm khác biệt của chương trình này là:\\n– Ngôn ngữ đào tạo bằng tiếng Việt và đến năm 3 bạn sẽ được học một số môn bằng tiếng Đức với giảng viên nước ngoài.\\n– Giai đoạn 1 (4 năm đầu: bạn sẽ học tại Đại Học Bách Khoa Hà Nội theo chương trình thống nhất giữa hai trường, ngôn ngữ học là tiếng Việt và được học tăng cường 5 kỳ tiếng Đức.\\n– Đến giai đoạn 2 bạn sẽ được lựa chọn:\\n+ Nếu có đủ điều kiện chuyên môn và ngoại ngữ bạn sẽ chuyển sang học bằng thạc sũ của Đại học ĐH Leibniz Hannover (Đức)\\n+Nếu không chuyển tiếp bạn có thể tiếp tục học tại Đại học Bách Khoa Hà Nội theo chương trình thống nhất giữa hai trườn. Làm luận văn tốt nghiệp bằng tiếng Anh hoặc tiếng Đức. Sau đó nếu có nguyện vọng bạn có thể học tiếp 1 năm để lấy bằng thạc sĩ.\\n3. Điểm chuẩn ngành Kỹ thuật Điện tử – Viễn thông Đại học Bách Khoa Hà Nội\\nTrườngChuyên ngànhNgành202320222021\\nĐại Học Bách Khoa Hà Nội\\nKỹ thuật Điện tử - Viễn thông\\nKỹ thuật điện tử - viễn thông\\n66.4664.1726.4625.9924.514.0526.8Ghi chúĐánh giá tư duy\\nĐánh giá tư duy\\nCT tiên tiến\\nĐiểm TN THPT\\nĐiểm TN THPT\\nCT tiên tiến\\nTN THPT\\nĐánh giá tư duy\\nĐánh giá tư duy\\nCT tiên tiến\\nĐiểm TN THPT\\nĐiểm TN THPT\\nCT tiên tiến\\nTN THPT\\n4. Học Kỹ thuật Điện tử – Viễn thông ra trường làm gì?\\nKỹ thuật Điện tử – Viễn thông: Ngành học mở ra nhiều cơ hội\\nQua những phần trên bạn cũng hiểu được Kỹ thuật Điện tử – Viễn thông là ngành “thay đổi văn minh nhân loại”. Chính vì vậy cơ hội nghề nghiệp cho ngành này vô cùng lớn. Bạn có thể làm việc tại:\\n–\\xa0 \\xa0 \\xa0 \\xa0 Các doanh nghiệp nghiên cứu, sản xuất, phát triển các sản phẩm điện tử: chuyên viên tư vấn, vận hành, thiết kế, điều hành kỹ thuật; chuyên gia thiết kế chipset (bộ phận không thể thiếu của các thiết bị thông minh); nghiên cứu viên phát triển sản phẩm thiết bị điện tử, công nghệ ứng dụng như truyền vẫn vật lý ứng dụng, công nghệ di động,…\\n–\\xa0 \\xa0 \\xa0 \\xa0 Công ty cung cấp dịch vụ internet: Kỹ sư thiết kế và xây dựng hệ thống hạ tầng truy cập internet; kỹ sư sư phân tích tích hợp các hệ thống, dịch vụ gia tăng, ứng dụng trên các cơ sở hạ tầng sẵn có.\\n–\\xa0 \\xa0 \\xa0 \\xa0 Công ty viên thông: chuyên viên thiết kế truyền dẫn, bảo trì, vận hành; chuyên viên quy hoạch, thiết kế mạng và tối ưu mạng; trưởng bộ phận kỹ thuật,…\\n–\\xa0 \\xa0 \\xa0 \\xa0 Đài phát thanh truyền hình, công ty tư vấn mạng viễn thông: chuyên viên thiết kế, tư vấn, vận hành, điều hành kỹ thuật\\n–\\xa0 \\xa0 \\xa0 \\xa0 Các hãng thiết bị: chuyên viên quản lý kỹ thuật và sản phẩm, quản lý dự án kinh doanh\\n–\\xa0 \\xa0 \\xa0 \\xa0 Các tập đoàn, công ty đa quốc gia về Điện tử – Viễn thông\\nTheo thống kê, 95% sinh viên khoa Kỹ thuật Điện tử – Viễn thông Đại học Bách Khoa Hà Nội có việc làm ngay sau một năm tốt nghiệp với mức lương khởi điểm từ 8-20 triệu đồng. Điều này đủ thấy được sức hấp dẫn của ngành đáng để các bạn cân nhắc đúng không nào!\\nTin tức mới nhất'}]"
      ]
     },
     "execution_count": 8,
     "metadata": {},
     "output_type": "execute_result"
    }
   ],
   "source": [
    "refs"
   ]
  },
  {
   "cell_type": "code",
   "execution_count": 9,
   "metadata": {},
   "outputs": [
    {
     "data": {
      "text/plain": [
       "4"
      ]
     },
     "execution_count": 9,
     "metadata": {},
     "output_type": "execute_result"
    }
   ],
   "source": [
    "len(refs)"
   ]
  },
  {
   "cell_type": "code",
   "execution_count": 10,
   "metadata": {},
   "outputs": [],
   "source": [
    "refs = [item['raw_content'] for item in refs]"
   ]
  },
  {
   "cell_type": "code",
   "execution_count": 11,
   "metadata": {},
   "outputs": [
    {
     "data": {
      "text/plain": [
       "['Có nên học ngành kỹ thuật điện tử viễn thông hay không?\\n16 nghìn người/năm là nhu cầu tuyển dụng lao động làm việc ngành kỹ thuật điện tử viễn thông trong giai đoạn từ 2020 – 2025. Điều này chứng minh, nhân lực ngành này đang tuyển dụng nhiều và có xu hướng tăng qua các năm. Vậy ngành kỹ thuật điện tử viễn thông là gì? Học ngành này ở đâu? Thi những môn nào? Cơ hội việc làm và mức thu nhập ra sao sau khi ra trường? Tất cả sẽ được TopCV cung cấp chi tiết trong bài viết sau đây để bạn cùng tìm hiểu, từ đó dễ dàng đưa ra sự lựa chọn.\\nNội dung bài viết\\nNgành kỹ thuật điện tử viễn thông là gì?\\nNgành kỹ thuật điện tử viễn thông là ngành học đào tạo nguồn nhân lực có chuyên môn và kỹ năng về việc thiết kế, phát triển và vận hành các hệ thống và công nghệ liên quan đến viễn thông và truyền thông điện tử.\\nĐây là ngành tập trung vào các công nghệ và ứng dụng sử dụng trong việc truyền tải, xử lý và quản lý thông tin qua các mạng điện tử và không dây. Trong đó có kể đến các thiết bị truyền thông và thiết bị điện tử như: điện thoại di động, tivi, máy tính, hệ thống nhúng, các mạch điều khiển, router, anten, thiết bị phát sóng,v.vv..\\u200b\\nCơ hội việc làm ngành điện tử viễn thông\\nTheo đánh giá của các chuyên gia phân tích nhu cầu nhân lực, ngành điện tử viễn thông là một trong những nhóm ngành có nhu cầu nhân lực cao trong thời đại 4.0 hiện nay. Sinh viên tốt nghiệp chuyên ngành này được nhận định là có cơ hội làm việc với nhiều vị trí khác nhau tại các doanh nghiệp, bao gồm cả doanh nghiệp trong nước như: FPT, Viettel, VNPT, MobiFone, VinSmart, v.vv.. hay doanh nghiệp nước ngoài như: SamSung, LG, Nokia, Apple, Inter, v.vv..\\nMột thống kê từ Trung tâm Dự báo nhu cầu nhân lực và Thông tin thị trường lao động TPHCM cho thấy, giai đoạn từ 2020 – 2025 nhu cầu tuyển dụng lao động làm việc ngành điện tử viễn thông là khoảng 16 nghìn người/năm. Con số này đang có xu hướng tăng lên qua các năm sau đó.\\nTrong khi đó, đại diện Tổng công ty công nghệ cao Viettel cũng từng chia sẻ, hơn 50% nhân lực kỹ sư của doanh nghiệp này là chuyên ngành điện tử viễn thông. Mỗi năm doanh nghiệp tuyển khoảng 100 kỹ sư mới ra trường.\\nNhững con số “biết nói” trên cho thấy, tiềm năng và cơ hội việc làm cho những người được đào tạo ngành kỹ thuật điện tử viễn thông là rất lớn. Tốt nghiệp ngành này sinh viên có thể làm việc tại các vị trí như: chuyên viên tư vấn, thiết kế và vận hành kỹ thuật tại các đài phát thanh, truyền hình, công ty dịch vụ kỹ thuật điện tử viễn thông; Kỹ sư thiết kế vận hành hệ thống thông tin đa phương tiện tại các công ty truyền thông đa phương tiện; Kỹ sư viết phần mềm máy tính, v.vv..\\nChưa kể, trong xu hướng chuyển đổi số như hiện nay, nhu cầu nhân lực cho ngành điện tử viễn thông là rất lớn và vẫn còn thiếu. Các công ty viễn thông, công ty sản xuất thiết bị điện tử, nhà mạng sẽ trở thành “miền đất hứa” cho các tân kỹ sư tốt nghiệp chuyên ngành này.\\nTopCV có thể giới thiệu hàng trăm vị trí công việc ngành kỹ thuật điện tử viễn thông đang tuyển dụng để bạn tham khảo và nắm bắt cơ hội việc làm của ngành này sau khi ra trường.\\nMột số câu hỏi về ngành kỹ thuật điện tử viễn thông\\nĐể giúp các bạn hiểu sâu hơn về ngành này, sau đây TopCV sẽ giải đáp một số câu hỏi liên quan đến ngành kỹ thuật điện tử viễn thông.\\nNgành kỹ thuật điện tử viễn thông thi khối nào?\\nMã ngành kỹ thuật điện tử viễn thông thường là 7520207. Tuy nhiên, mã ngành này cũng có sự thay đổi tùy theo trường đào tạo, ví dụ tại Đại học Điện lực ngành này có mã là 7510302, Đại học Bách khoa Hà Nội mã ngành là ET-E4y, Đại học Công nghệ – ĐHQG Hà Nội mã ngành là CN9 v.vv.. Bạn nên căn cứ vào trường học mình lựa chọn để tra cứu chính xác mã ngành.\\nHàng năm ngành kỹ thuật điện tử viễn thông được tuyển sinh với số lượng lớn và thường thi vào với 2 khối:\\nNgoài ra, một số trường còn xét tuyển các tổ hợp gồm:\\nNếu bạn học tốt và nắm vững kiến thức các môn học này cộng thêm niềm đam mê với các thiết bị điện tử, viễn thông thì ngành kỹ thuật điện tử viễn thông là ngành bạn có thể cân nhắc lựa chọn để đăng ký thi tuyển sau khi tốt nghiệp THPT.\\nĐiểm chuẩn ngành kỹ thuật điện tử viễn thông\\nĐối với ngành kỹ thuật điện tử viễn thông, mỗi năm tuyển sinh điểm chuẩn sẽ có sự thay đổi, khác nhau giữa các trường đại học/học viện/cao đẳng có đào tạo ngành này. Bảng sau đây TopCV tổng hợp điểm chuẩn ngành kỹ thuật điện tử viễn thông mới nhất tại một số trường đại học/học viện, bạn có thể tham khảo:\\nGhi chú:\\nNgành kỹ thuật điện tử viễn thông học gì?\\nHiện nay các trường đại học, học viện đào tạo ngành kỹ thuật điện tử – viễn thông theo khung chương trình kéo dài từ 4 – 5 năm. Sau khi ra trường sinh viên sẽ được cấp bằng cử nhân hoặc kỹ sư. Số lượng tín chỉ (môn học/học phần) sẽ có sự khác nhau tùy theo chuyên ngành cụ thể mà bạn theo học sau khi thi đậu ngành kỹ thuật điện tử viễn thông.\\nKhi theo học ngành này, sinh viên sẽ được đào tạo các kiến thức chuyên môn về lĩnh vực điện tử, viễn thông, bao gồm cả lý thuyết và thực hành. Ngoài các môn cơ sở ngành, chương trình đào tạo còn chú trọng vào việc cung cấp kiến thức và kỹ năng để sinh viên có thể thiết kế, xây dựng, khai thác, vận hành, sử dụng, bảo trì các thiết bị điện tử, viễn thông.\\nTùy theo chuyên ngành lựa chọn, người học sẽ được học những kiến thức chuyên sâu hơn. Dưới đây là một số môn bạn sẽ được học khi lựa chọn ngành kỹ thuật điện tử viễn thông:\\nNgoài ra sinh viên còn được học các môn học khác như: Điện tử công suất, thiết kế tổng hợp hệ thống số, Kiến trúc máy tính, Lập trình nâng cao, kỹ thuật siêu cao tần, trí tuệ nhân tạo và ứng dụng, Quy hoạch và quản lý mạng viễn thông, thông tin vệ tinh, thông tin quang sợi,v.vv..\\nThông thường số lượng học phần hoặc nội dung học phần sẽ có sự khác nhau giữa bậc đào tạo cử nhân và kỹ sư.\\nKỹ thuật điện tử viễn thông học trường nào tốt?\\nLà một ngành có yêu cầu đầu vào cao và chất lượng đầu ra tốt, kỹ thuật điện tử viễn thông hiện được nhiều trường đưa vào hệ thống đào tạo.\\nCác trường đào tạo ngành kỹ thuật điện tử viễn thông\\nNếu bạn đang phân vân trong việc lựa chọn học ngành kỹ thuật điện tử viễn thông tại trường nào thì hãy cùng TopCV điểm qua danh sách các trường đại học có đào tạo ngành kỹ thuật điện tử – viễn thông sau đây:\\nMiền Bắc\\nMiền Trung:\\nMiền Nam:\\nHọc kỹ thuật điện tử viễn thông trường nào tốt?\\nViệc lựa chọn trường nào tốt để theo đuổi đam mê kỹ thuật điện tử- viễn thông của mỗi người có thể xuất phát từ nhiều tiêu chí khác nhau. Sau đây TopCV đưa ra gợi ý một số trường đại học uy tín và nổi tiếng trong đào tạo ngành kỹ thuật điện tử viễn thông để bạn có thể tham khảo và đưa ra sự lựa chọn phù hợp cho mình:\\nCác trường quốc tế nổi tiếng đào tạo kỹ thuật điện tử viễn thông\\nHiện nay trên thế giới có nhiều trường đào tạo chuyên ngành kỹ thuật điện tử viễn thông. Nếu có điều kiện về kinh tế, bạn có thể học ngành này tại các trường đại học và viện công nghệ nổi tiếng đào tạo kỹ thuật điện tử viễn thông như:\\nTrên đây chỉ là các gợi ý giúp bạn có thể dễ dàng đưa ra quyết định hơn khi quan tâm đến ngành kỹ thuật điện tử viễn thông. Quan trọng nhất là lựa chọn một trường có chương trình đào tạo và cơ sở vật chất phù hợp với mục tiêu học tập và sự quan tâm cá nhân của bạn. Ngoài ra, nên xem xét các thông tin về danh sách giảng viên, dự án nghiên cứu và cơ hội thực tập, liên kết doanh nghiệp để đánh giá chất lượng giáo dục và khả năng phát triển nghề nghiệp trong ngành kỹ thuật điện tử viễn thông sau khi tốt nghiệp.\\nNgành kỹ thuật điện tử viễn thông lương bao nhiêu?\\nMức lương trong ngành kỹ thuật điện tử viễn thông khá đa dạng và phụ thuộc vào nhiều yếu tố như: vị trí làm việc, kinh nghiệm làm việc, tính chất công việc, quốc gia,v.vv.. Tuy nhiên, nhìn chung ngành kỹ thuật điện tử viễn thông thường có mức lương khá hấp dẫn. Đối với các chuyên gia và kỹ sư điện tử viễn thông có kinh nghiệm và trình độ cao, mức lương có thể rất cao và vượt qua mức trung bình của nhiều ngành khác.\\nDưới đây là mức lương của một số vị trí công việc trong ngành kỹ thuật điện tử viễn thông do TopCV tổng hợp mà bạn có thể tham khảo:\\nLưu ý, các chuyên gia và kỹ sư điện tử viễn thông có kỹ năng đặc biệt, nắm vững các công nghệ mới và có kinh nghiệm làm việc trong nhiều dự án quan trọng thường có cơ hội nhận được mức lương cao hơn và các phúc lợi hấp dẫn từ các công ty và tổ chức. Bạn có thể cập nhật nhanh việc làm ngành điện tử viễn thông để tham khảo mức thu nhập tại các vị trí công việc trong nhóm ngành này hiện nay.\\nHọc kỹ thuật điện tử viễn thông ra làm gì?\\nVấn đề việc làm sau khi ra trường luôn là nỗi băn khoăn và trăn trở của các bạn sinh viên. Đối với ngành kỹ thuật điện tử viễn thông, sau khi tốt nghiệp ra trường, với những kiến thức chuyên môn, kỹ năng đã học và được đào tạo, bạn có cơ hội làm việc tại nhiều vị trí khác nhau tại đa dạng các công ty, doanh nghiệp. TopCV sẽ tổng hợp một số vị trí công việc dành cho các sinh viên học ngành kỹ thuật điện tử viễn thông ngay sau đây để bạn tham khảo về thị trường tuyển dụng của nhóm ngành này hiện nay.\\nNhân viên kỹ thuật điện tử – viễn thông\\nNhân viên kỹ thuật điện tử – viễn thông là người có chuyên môn và kỹ năng trong lĩnh vực điện tử – viễn thông. Với những sinh viên tốt nghiệp chuyên ngành kỹ thuật điện tử viễn thông, có thể ứng tuyển vào vị trí nhân viên kỹ thuật điện tử – viễn thông tại hầu hết các tổ chức, doanh nghiệp.\\nMô tả công việc:\\nCông việc của nhân viên kỹ thuật điện tử – viễn thông sẽ liên quan đến các nhiệm vụ gồm:\\nCó thể thấy vị trí công việc này gần như bao quát toàn bộ hệ thống điện tử – viễn thông trong đơn vị làm việc. Nếu đáp ứng yêu cầu công việc và hoàn thành tốt nhiệm vụ được giao, người làm vị trí này có thể thăng tiến lên chức vụ chuyên viên, kỹ sư hoặc cấp bậc cao hơn.\\nApply nhân viên kỹ thuật điện tử – viễn thông ngay trên TopCV để có cơ hội tìm kiếm việc làm phù hợp.\\nKỹ sư viễn thông\\nKỹ sư viễn thông là những chuyên gia có trình độ kỹ thuật và kiến thức chuyên sâu về các hệ thống viễn thông. Vị trí này thường được các công ty viễn thông tuyển dụng. Nếu bạn tốt nghiệp ngành kỹ thuật điện tử – viễn thông hệ đào tạo kỹ sư thì đây là một trong những vị trí công việc có thể apply sau khi ra trường để có cơ hội “đầu quân” cho những công ty viễn thông lớn trong nước như: VNPT, Viettel, MobiFone, Vinaphone,v.vv..\\nMô tả công việc:\\nKỹ sư thiết kế và viết phần mềm\\nSinh viên ngành kỹ thuật điện tử viễn thông có thể làm việc trong các công ty công nghệ hoặc công ty sản xuất thiết bị viễn thông với vị trí kỹ sư thiết kế và viết phần mềm cho máy tính, điện thoại thông minh, xe ô tô, robot,v.vv..\\nĐây là vị trí công việc yêu cầu có trình độ kỹ thuật và kiến thức chuyên sâu về phát triển phần mềm điện tử viễn thông. Công việc của người làm ở vị trí này liên quan đến việc thiết kế, phân tích, lập trình và triển khai các ứng dụng và hệ thống phần mềm.\\nMô tả công việc:\\nKỹ sư vô tuyến\\nKỹ sư vô tuyến còn được gọi là kỹ sư viễn thông vô tuyến hoặc kỹ sư RF – Radio Frequency. Đây là vị trí quan trọng yêu cầu người làm có kiến thức và kỹ năng chuyên sâu về viễn thông vô tuyến, tương tác với sóng radio và các hệ thống truyền thông không dây.\\nVị trí công việc này liên quan đến thiết kế, triển khai và duy trì các hệ thống và thiết bị vô tuyến.\\nMô tả công việc:\\nChuyên viên vận hành, giám sát hạ tầng viễn thông\\nChuyên viên vận hành và giám sát hạ tầng viễn thông được đánh giá là một vị trí công việc quan trọng trong ngành viễn thông và mạng. Công việc này liên quan đến quản lý và duy trì các hệ thống hạ tầng viễn thông, đảm bảo sự hoạt động liên tục và ổn định của mạng tại các công ty, doanh nghiệp hoặc đài phát thanh, đài truyền hình,v.vv..\\nMô tả công việc:\\nTrưởng bộ phận kỹ thuật\\nVới những người có kinh nghiệm làm việc lâu năm trong nghề và năng lực chuyên môn tốt, hoàn toàn có thể làm việc ở vị trí trưởng bộ phận kỹ thuật tại các công ty, doanh nghiệp.\\nVị trí này là người đứng đầu và có trách nhiệm quản lý và điều hành các hoạt động kỹ thuật trong một bộ phận hoặc một đơn vị tổ chức.\\nMô tả công việc:\\nVới vị trí này, lộ trình thăng tiến có thể giúp bạn phát triển để trở thành quản lý dự án viễn thông hoặc giám đốc kỹ thuật. Tuy nhiên, để có thể làm việc ở những vị trí cao hơn đòi hỏi bạn phải có kinh nghiệm nhiều năm làm việc trong lĩnh vực điện tử viễn thông, từng làm việc tại nhiều dự án với vị trí tương đường và có kỹ năng lãnh đạo.\\n>>> Khám phá ngay các vị trí tuyển dụng trưởng bộ phận kỹ thuật với mức thu nhập hấp dẫn và chế độ đãi ngộ tốt trên TopCV để có cơ hội kết nối với các nhà tuyển dụng chất lượng.\\nChuyên gia phân tích và tư vấn kỹ thuật điện tử viễn thông\\nVới kiến thức chuyên sâu về kỹ thuật điện tử viễn thông, bạn hoàn toàn có thể làm việc tại vị trí chuyên gia phân tích, tư vấn trong lĩnh vực điện tử – viễn thông. Ở vị trí này, người làm việc cần có kỹ năng phân tích, tư vấn, đánh giá và chuyên môn vững để thực hiện các nhiệm vụ phân tích, tư vấn và cung cấp các giải pháp, khuyến nghị để cải thiện hiệu suất và khả năng cạnh tranh của các hệ thống viễn thông.\\nMô tả công việc:\\nNgoài ra, nếu đam mê nghiên cứu và phát triển, sau khi tốt nghiệp ngành kỹ thuật điện tử viễn thông bạn hoàn toàn có thể tham gia vào hoạt động nghiên cứu và phát triển công nghệ mới trong ngành kỹ thuật điện tử viễn thông. Để thực hiện điều này, nhiều người lựa chọn trở thành cán bộ giảng dạy, nghiên cứu trong các viện nghiên cứu, trường đại học, cao đẳng về kỹ thuật điện tử viễn thông.\\nTrên đây chỉ là một số gợi ý công việc mà bạn có thể làm sau khi tốt nghiệp và được đào tạo về ngành kỹ thuật điện tử viễn thông. Có thể nói, học ngành này mở ra nhiều cơ hội nghề nghiệp khác nhau cho các bạn sinh viên. Các công ty viễn thông, công ty sản xuất thiết bị điện tử, công ty công nghệ, đài phát thanh, đài truyền hình,v.vv.. và tổ chức nghiên cứu đều có nhu cầu tuyển dụng các chuyên gia trong lĩnh vực này.\\nSau khi xác định được vị trí công việc muốn ứng tuyển, việc tiếp theo bạn cần làm là chuẩn bị một bản CV chỉn chu, đẹp mắt và chuyên nghiệp gửi đến nhà tuyển dụng. Hãy tham khảo cách viết CV tìm việc kỹ thuật điện tử mà TopCV đã chia sẻ để cấu trúc một bản CV ưng ý bạn nhé.\\nTìm việc làm ngành kỹ thuật điện tử viễn thông ở đâu?\\nNhu cầu việc làm ngành kỹ thuật điện tử viễn thông rất lớn và đa dạng vị trí tuyển dụng. Tuy nhiên việc tìm được một bến đỗ công việc với vị trí phù hợp là điều không dễ dàng, nhất là với các bạn sinh viên mới ra trường. Nếu bạn đang lo lắng tìm kiếm những cơ hội việc làm trong ngành kỹ thuật điện tử viễn thông hoặc mong muốn có thêm nhiều thông tin tuyển dụng trong ngành này thì TopCV là lựa chọn đáng cân nhắc.\\nLà nền tảng tuyển dụng và việc làm tiên phong tại Việt Nam, TopCV giúp bạn tiếp cận với hàng triệu thông tin tuyển dụng ở nhiều vị trí công việc khác nhau. Bằng việc ứng dụng trí tuệ nhân tạo, TopCV dễ dàng kết nối ứng viên với mạng lưới nhà tuyển dụng tại nhiều tỉnh thành khác nhau. Đặc biệt, TopCV giúp bạn có cơ hội được kết nối và tiếp cận các vị trí công việc hấp dẫn từ các doanh nghiệp trong nước cũng như quốc tế có uy tín trong lĩnh vực điện tử viễn thông như: FPT, Viettel, MobiFone, VNPT, SamSung,v.vv.. Từ đó thuận lợi tìm ra “miền đất hứa” cho mình.\\nKhông chỉ kết nối nhanh chóng, TopCV còn hỗ trợ bạn tạo CV chuyên nghiệp, viết sơ yếu lý lịch đúng chuẩn và cung cấp thêm nhiều kiến thức về kỹ năng phỏng vấn, kỹ năng tạo ấn tượng với nhà tuyển dụng để tăng tỷ lệ thành công khi tìm việc.\\nTrên đây là những thông tin chi tiết về ngành kỹ thuật điện tử viễn thông mà TopCV vừa cập nhật và gửi đến bạn. Hy vọng với những thông tin này, bạn đã hiểu rõ về ngành kỹ thuật điện tử viễn thông như: môn thi, cơ hội nghề nghiệp, mức thu nhập,v.vv.. từ đó đưa ra sự lựa chọn công việc phù hợp sau khi ra trường, đồng thời tự tin lựa chọn ngành học nếu bạn đang lúng túng trong việc chọn ngành, chọn trường học sau khi tốt nghiệp THPT. Chúc các bạn thành công và đừng quên TopCV vẫn đồng hành trong suốt hành trình tìm việc thông qua việc cập nhật nhanh chóng và liên tục các công việc mới nhất bạn nhé!.',\n",
       " 'Tìm hiểu kiến thức học và cơ hội việc làm ngành Điện tử viễn thông\\nMỤC LỤC\\n1. Ngành điện tử viễn thông là gì? Và ứng dụng trong đời sống\\n2. Ngành điện tử viễn thông học những kiến thức gì?\\n3. Định hướng công việc ngành Điện tử viễn thông? Cơ hội việc làm có rộng mở?\\n4. Cần trang bị gì để học và làm việc tốt ngành điện tử viễn thông\\n5. Các trường đào tạo ngành điện tử viễn thông\\nNgành điện tử viễn thông là gì? Và ứng dụng trong đời sống\\nĐiện tử viễn thông là ngành sử dụng những công nghệ tiên tiến để tạo ra các thiết bị giúp cho việc liên lạc, truy xuất thông tin của cá nhân hoặc tổ chức, điện tử viễn thông được ứng dụng cao ở nhiều lĩnh vực trong cuộc sống.\\n•\\xa0\\xa0 \\xa0Lĩnh vực mạng, viễn thông: các thiết bị truyền tin trên toàn cầu như hệ thống truyền dẫn: cáp quang, vệ tin, hệ thống truyền tin không dây (vi ba) v.v... Thành tựu mới đây nhất là xây dựng hệ thống 5g và các thiết bị hệ thống hôi nghị truyền hình\\n•\\xa0\\xa0 \\xa0Lĩnh vực định vị dẫn đường: là một lĩnh vực đặc biệt quan trọng ngành Hàng không và Hàng hải. Những trạm kiểm soát không lưu mặt đất là nơi những kĩ sư Điện tử Viễn thông làm nhiệm vụ dẫn đường cho hàng nghìn chuyến bay, tàu thuỷ hoạt động an toàn\\n•\\xa0\\xa0 \\xa0Lĩnh vực nghiên cứu, sáng tạo công nghệ, thiết bị mới: là lĩnh vực đòi hỏi người học phải có sự sáng tạo dựa trên những ứng dụng của xã hội nói chung và ngành Điện tử Viễn thông nói riêng, phát triển các công nghệ mới, ứng dụng mới hữu ích và đơn giản hơn cho mọi người là lĩnh vực thúc đẩy sự phát triển của toàn bộ ngành Điện tử Viễn thông\\n•\\xa0\\xa0 \\xa0Lĩnh vực điện tử y sinh: ngành dđiện tử viễn thông là nền tảng để tạo ra các máy móc, thiết bị điện tử hiện đại trong lĩnh vực y tế và sinh học.\\n•\\xa0\\xa0 \\xa0Lĩnh vực âm thành, hình ảnh: ngành kỹ thuật Điện tử Viễn thông \\xa0đóng góp 1 phần quan trọng của như việc thiết kế ra các trang thiết bị nghe nhìn, điều chỉnh âm độ các thiết bị thu âm v.v...\\nCó thể nói tất cả các thiết bị trong cuộc sống hiện đại ngày nay như : máy thu hình, điện thoại, máy tính cá nhân, máy tính bảng,… đều có dấu ấn của ngành Điện tử Viễn thông , là nền tảng cơ bản nhất của cách mạng công nghiệp 4.0, của xu hướng chuyển đối số trong mọi lĩnh vực của đời sống, kinh tế, xã hội.\\nNgành điện tử viễn thông học những kiến thức gì?\\nHiểu từ tên gọi, có rất nhiều người cho rằng Điện tử Viễn thông là một phần của Công nghệ thông tin, cách hiểu này không hoàn toàn sai nhưng chưa chính xác. Giải thích cơ bản thì Ngành Điện tử-viễn thông và ngành Công nghệ thông tin là hai ngành rất gần với nhau, có nhiều kiến thức chung về công nghệ tuy nhiên đi vào chuyên sâu sẽ thấy rõ sự khác biệt rằng: CNTT tập trung vào xây dựng phần mềm còn chuyên ngành DTVT tập trung về phần cứng.\\nTheo học ngành Điện tử - Viễn thông, sinh viên được trang bị khối kiến thức theo 3 tầng cấp độ:\\nCấp độ 1: Các kiến thức nền tảng và chuyên sâu về các công nghệ, kỹ thuật: Giải tích mạch điện; trường điện tử; kỹ thuật lập trình; điện tử số; nguyên lý truyền thông; vi xử lý; điện tử thông tin; kỹ thuật truyền số liệu và mạng; xử lý tín hiệu; thiết kế số dùng ngôn ngữ mô tả phần cứng; hệ thống viễn thông; kỹ thuật siêu cao tần và anten,...\\nCấp độ 2: ngành Công nghệ Kỹ thuật Điện tử - Viễn thông cung cấp cho sinh viên các kỹ năng vận hành bảo trì, sửa chữa, cải tiến, nâng cấp các hệ thống, thiết bị điện tử viễn thông\\nCấp độ 3: Nâng cao hơn là khả năng tìm hiểu, nghiên cứu, phát triển ứng dụng công nghệ kỹ thuật điện tử viễn thông trong công nghiệp và trong đời sống dân dụng. Thực hành, vận dụng lý thuyết là phần học quan trọng nhất trong ngành DTVT, cụ thể là những cuộc thi đầy sáng tạo như: robocon\\nĐịnh hướng công việc ngành Điện tử viễn thông? Cơ hội việc làm có rộng mở?\\nHọc ngành điện tử viễn thông ra làm gì? có thể đảm nhận những vị trí nào? Làm việc ở công ty nào là câu hỏi của tất cả sinh viên ngành viễn thông cần biết và nền tìm hiểu:\\n•\\xa0\\xa0 \\xa0Chuyên viên quy hoạch, thiết kế và tối ưu hóa hệ thống mạng tại các công ty viễn thông < VNPT, Viettel, Vinaphone, Mobiphone …;>\\n•\\xa0\\xa0 \\xa0Chuyên viên thiết kế, tư vấn và điều hành công tác kỹ thuật tại các đài phát thanh, truyền hình < VTV, HTV,SCTV, các đài truyền hình địa phương…>\\n•\\xa0\\xa0 \\xa0Chuyên viên nghiên cứu và thiết kế tại các công ty sản xuất thiết bị điện tử viễn thông, âm thanh hình ảnh, công ty thiết kế sản xuất vi mạch. < Aver, Maxhub, FPT, Samsung, LG, Intel, Panasonic..>\\n•\\xa0\\xa0 \\xa0Chuyên viên vận hành, thiết kế và bảo trì thiết bị điện tử, tự động hóa trong các đơn vị, doanh nghiệp.\\n•\\xa0\\xa0 \\xa0Khi có kinh nghiệm và thời gian làm việc \\xa0có thể giữ vị trí Trưởng bộ phận kỹ thuật, Giám đốc kỹ thuật tại các doanh nghiệp, các công ty trong lĩnh vực điện tử, viễn thông, truyền thông.\\n•\\xa0\\xa0 \\xa0Có thể trở thành cán bộ giảng dạy, nghiên cứu tại các trường đại học, cao đẳng và Viện nghiên cứu.\\nThế giới nói chung và Việt Nam nói riêng đang sống trong kỳ nguyên số. Các doanh nghiệp về công nghệ ngày càng nhiều và phát triển rất nhanh, đi cùng đó là nhu cầu về nguồn nhân lực cũng tăng cao. Dự báo của Vietnamworks cho thấy, nước ta đang thiếu 400.000 nhân lực công nghệ thông tin và điện tử viên thông và mỗi năm cần cung ứng mới tới 78.000 lao động. Tuy nhiên trong thực tế, mỗi năm nước ta chỉ có khoảng 50.000 sinh viên tốt nghiệp, dẫn đến \"cơn khát\" nhân lực đối với ngành học này dường như chưa bao giờ hạ.\\nCần trang bị gì để học và làm việc tốt ngành điện tử viễn thông\\nKhông chỉ ngành ĐTVT mà khi lựa chọn ngành học và việc làm, cần tìm thấy được sự đam mê và thích thú. Điều này giúp người học và người làm việc tìm thấy được niềm vui trong công việc, công việc không nhàm chán.\\nCòn riêng trong ngành ĐT VT nên có thêm những tố chất về: sự kiên trì, nhẫn nại, kỹ năng ngoại ngữ và khả năng làm việc nhóm.\\nCác trường đào tạo ngành điện tử viễn thông\\nVới hệ chính quy Đại học, đào tạo ngành Điện tử viễn thông có thể kể đến các trường với bề dày và có tỷ lệ sinh viên đầu ra tốt nhất:\\nKhoa điện tử viễn thông đại học bách khoa đà nẵng\\nTrường ĐH Bách khoa Hà Nội\\nTrường ĐH Bách khoa HCM (ĐH Quốc gia HCM)\\nTrường ĐH khoa học (ĐH Huế)\\nTrường Học viện Công nghệ Bưu chính Viễn thông\\nTrường ĐH Công nghệ (ĐH Quốc gia Hà Nội)\\nĐại học Công nghệ TP.HCM\\nĐại học Sư phạm Kỹ thuật TP.HCM\\nĐại học Điện lực – Hà Nội\\nĐĂNG KÝ TƯ VẤN NGAY HÔM NAY\\nTin khác\\nBẢNG GIÁ MÀN HÌNH TƯƠNG TÁC 65INCH RẺ NHẤT 2022\\nReview loa hội nghị bluetooth Maxhub BM21\\nLiên kết quang học (Optical Bonding) là gì?\\nSo sánh công nghệ\\xa0LED Edge-lit \\xa0(chiếu sáng cạnh) và Back-lit\\xa0(chiếu sáng nền)\\nSo sánh sự khác biệt giữa màn hình cảm ứng IR và PCAP\\nSo sánh màn hình tương tác: MAXHUB V5 Transcend vs LG CreateBoard™\\nVì sao nên sử dụng tính năng Automatic Framing của Polycom Studio?\\nCác loại công nghệ màn hình cảm ứng\\nTrụ Sở Chính TP. Hồ Chí Minh\\nĐịa chỉ :\\xa0T08, đường số 20, KĐT Him Lam, P. Tân Hưng, Q.7, HCM\\nHotline :\\xa00918.325.086\\nEmail :\\xa0info@baoantelecom.com\\nChi nhánh Hà Nội\\nĐịa chỉ : P.201, 627 Vũ Tông Phan, Khương Đình, Thanh Xuân, Hà Nội\\nHotline :\\xa00911.527.086\\nEmail :\\xa0info@baoantelecom.com\\nChi nhánh Đà Nẵng\\nĐịa chỉ : H53/15 K729\\xa0Ngô Quyền, Q. Sơn Trà, Đà Nẵng\\nHotline : 0918.325.086\\nEmail : info@baoantelecom.com',\n",
       " 'Elitech - Điện tử viễn thông\\nChương trình đào tạo tài năng\\xa0Hệ thống điện tử thông minh và Internet vạn vật\\n(Chương trình thuộc Viện Điện tử - Viễn thông)\\nĐề cương chương trình đào tạo, tải tại đây !\\nlà ngành có nhu cầu cao về nhân lực ở Việt Nam và trên thế giới.\\nTheo học chương trình này, sinh viên được trang bị một cách toàn diện cả về kỹ năng chuyên môn và kỹ năng mềm để có thể trở thành những nhà lãnh đạo, kỹ sư và chuyên gia giỏi trong:\\n·\\xa0\\xa0\\xa0\\xa0\\xa0\\xa0Nghiên cứu phát triển, thiết kế, chế tạo, vận hành các hệ thống điện tử thông minh như thiết kế vi mạch, hệ thống nhúng, các hệ thống điện tử ứng dụng trong truyền thông, y tế, điều khiển, tự động hóa có hướng tới các ứng dụng thông minh như học máy, trí tuệ nhân tạo.\\n·\\xa0\\xa0\\xa0\\xa0\\xa0\\xa0Phát triển các nền tảng phần cứng, phần mềm, các phương thức truyền thông và ứng dụng cho Internet vạn vật (Internet of Things) cũng như các hệ thống truyền thông tương lai.\\nChương trình đào tạo tài năng Hệ thống Điện tử thông minh và IoT được giảng dạy bằng tiếng Việt và được thiết kế bao gồm khối kiến thức toán học và khoa học cơ bản, khối kiến thức cơ sở cốt lõi, khối kiến thức chuyên sâu của ngành ĐT-VT, khối kiến thức bổ trợ về xã hội và kỹ năng mềm.\\nĐặc biệt, sinh viên được thực tập trong môi trường công nghiệp và được tham gia nghiên cứu cùng với giảng viên tại Trung tâm Nghiên cứu của Viện ĐT-VT từ năm thứ 3.\\nMã xét tuyển:\\nChỉ tiêu tuyển sinh:\\xa030\\nKiến thức, kỹ năng đạt được sau tốt nghiệp\\nKiến thức\\n·\\xa0\\xa0\\xa0\\xa0\\xa0\\xa0Sinh viên tốt nghiệp có khả năng áp dụng các kiến thức toán học và khoa học cơ bản, các kiến thức cơ sở ngành, các kiến thức cốt lõi ngành kết hợp khả năng khai thác, sử dụng các phương pháp, công cụ hiện đại để thiết kế, mô phỏng, triển khai, vận hành và đánh giá các hệ thống điện tử thông minh, các sản phẩm và giải pháp kỹ thuật trong lĩnh vực IoT nói riêng và\\xa0 ĐT-VT nói chung.\\nKỹ năng\\n·\\xa0\\xa0\\xa0\\xa0\\xa0\\xa0Sinh viên tốt nghiệp được trang bị kỹ năng và phẩm chất chuyên nghiệp cần thiết để có thể trở thành nhà lãnh đạo và chuyên gia giỏi;\\n·\\xa0\\xa0\\xa0\\xa0\\xa0\\xa0Kỹ năng xã hội cần thiết để làm việc hiệu quả trong nhóm đa ngành và trong môi trường quốc tế;\\n·\\xa0\\xa0\\xa0\\xa0\\xa0\\xa0Năng lực nhận biết vấn đề và hình thành ý tưởng, năng lực thiết kế, năng lực triển khai, năng lực vận hành, sử dụng và khai thác các hệ thống điện tử thông minh; các sản phẩm\\xa0 và giải pháp kỹ thuật trong lĩnh vực IoT và ĐT-VT.\\nNgoại ngữ\\n·\\xa0\\xa0\\xa0\\xa0\\xa0\\xa0Sử dụng hiệu quả tiếng Anh trong giao tiếp và công việc, đạt TOEIC từ 600 điểm trở lên.\\nThời gian đào tạo và khả năng học lên bậc học cao hơn\\n·\\xa0\\xa0\\xa0\\xa0\\xa0\\xa0Đào tạo Cử nhân: 4 năm\\n·\\xa0\\xa0\\xa0\\xa0\\xa0\\xa0Đào tạo tích hợp Cử nhân - Thạc sĩ: 5,5 năm\\n·\\xa0\\xa0\\xa0\\xa0\\xa0\\xa0Đào tạo Cử nhân - Thạc sĩ - Tiến sĩ: 8,5 năm\\nĐặc biệt, sinh viên thuộc chương trình này có thể tham gia chương trình song bằng với các trường đại học đối tác theo các mô hình sau:\\n·\\xa0\\xa0\\xa0\\xa0\\xa0\\xa0Mô hình 2+2, trong đó 2 năm đầu học tại Trường ĐHBK Hà Nội, 2 năm cuối học tại Trường Đại học Wollongong, Úc để được cấp bằng cử nhân của cả hai trường.\\n·\\xa0\\xa0\\xa0\\xa0\\xa0\\xa0Mô hình 4+2, trong đó 4 năm đầu học tại Trường ĐHBK Hà Nội, 2 năm cuối học tại Trường Đại học Telecom ParisTech, Cộng hòa Pháp để được cấp song bằng: bằng Thạc sĩ của Trường ĐHBK Hà Nội và bằng Kỹ sư của Đại học Telecom ParisTech.\\n·\\xa0\\xa0\\xa0\\xa0\\xa0\\xa0Mô hình 4+1+3, trong đó 4 năm đầu học tại Trường ĐHBK Hà Nội để lấy bằng cử nhân, 1 năm học chương trình Thạc sĩ tại ĐHBK Hà Nội và 3 năm học chương trình Tiến sĩ tại Viện KAIST, Hàn Quốc để được cấp bằng Tiến sĩ của hai trường.\\n·\\xa0\\xa0\\xa0\\xa0\\xa0\\xa0\\xa0Cơ hội học bổng và hỗ trợ học tập\\nHọc bổng hỗ trợ tài chính\\nNgoài học bổng hỗ trợ tài chính của Trường ĐHBK Hà Nội, sinh viên theo Chương trình tài năng Hệ thống Điện tử thông minh và IoT có cơ hội nhận:\\no\\xa0\\xa0\\xa0Học bổng hỗ trợ học tập, học bổng trao đổi sinh viên từ các doanh nghiệp và trường đại học quốc tế là đối tác của Viện ĐT-VT với tổng số tiền học bổng khoảng 3 tỉ đồng mỗi năm.\\nHọc bổng trao đổi sinh việc, học sau đại học\\no\\xa0\\xa0\\xa0Sinh viên tốt nghiệp còn có nhiều cơ hội xin học bổng du học tại Mỹ, châu Âu, Nhật Bản, Singapore, Hàn Quốc …\\no\\xa0\\xa0\\xa020 – 30% tổng sinh viên tốt nghiệp hằng năm nhận học bổng du học.\\nCơ hội việc làm sau tốt nghiệp\\no\\xa0\\xa0\\xa0100% sinh viên có việc làm sau 01 năm tốt nghiệp hoặc đi học ở bậc cao hơn.\\nVị trí việc làm tiêu biểu:\\no\\xa0\\xa0\\xa0Kỹ sư nghiên cứu phát triển trong lĩnh vực IoT và ĐT-VT.\\no\\xa0\\xa0\\xa0Kỹ sư thiết kế và tối ưu mạng, quản lý mạng, vận hành hệ thống mạng viễn thông phức tạp.\\no\\xa0\\xa0\\xa0Kỹ sư thiết kế và viết phần mềm cho máy tính, thiết kế và viết phần mềm cho các thiết bị điện tử thông minh như điện thoại di động, rô bốt, xe ô tô, đầu thu truyền hình kỹ thuật số…, kỹ sư kiểm thử phần mềm.\\nLiên hệ\\nĐiều phối viên chương trình:\\nTS. Đào Việt Hùng\\nEmail: hung.daoviet@hust.edu.vn\\nTác giả: Trương Thu Hương\\nNhững tin mới hơn\\nĐTVT - Cơ hội du học\\nĐTVT - NV & SK\\nĐTVT - Tuyển sinh\\nGiới thiệu bài viết cho bạn bè',\n",
       " 'Please enable javascript to view this site.\\nhuongnghiep.hocmai.vn |\\nMarch 27, 2024\\nTop\\nChuyên ngành Kỹ thuật Điện tử - Viễn thông - Đại Học Bách Khoa Hà Nội\\nReview ngành Kỹ thuật Điện tử – Viễn thông Đại học Bách Khoa Hà Nội (HUST): Dùng công nghệ hiện đại thay đổi văn minh nhân loại\\nKhi cuộc cách mạng 4.0 bùng nổ, ngành Kỹ thuật điện tử – Viễn thông trở thành một trong những ngành mở ra nhiều cơ hội nhất cho các bạn trẻ. Là một trong những trường đào tạo hàng đầu về điện tử – viễn thông, Đại học Bách Khoa Hà Nội là cái tên được rất nhiều người chú ý. Hôm nay hãy cùng Huongnghiep.hocmai.vn review chi tiết để các bạn có cái nhìn rõ hơn về ngành Kỹ thuật Điện tử – Viễn thông của ĐHBK HN nhé!\\nĐiện tử viễn thông đóng vai trò quan trọng trong cuộc cách mạng 4.0\\nMục lục\\n1. Ngành Kỹ thuật Điện tử – Viễn thông là gì?\\nKỹ thuật Điện tử – Viễn thông là ngành nghiên cứu về việc ứng dụng kỹ thuật tiên tiến và công nghệ hiện đại nhất để tạo ra các thiết bị vệ tinh, cáp và thiết bị điện tử như: điện thoại, máy tính bảng, máy tính cá nhân, Tivi,…. Nhờ đó giúp con người xây dựng được hệ thống mạng thông tin liên lạc toàn cầu, giúp việc trao đổi thông tin được tiến hành thuận lợi bất chấp thời gian và không gian khác nhau.\\nNgành này gồm có hai lĩnh vực chính:\\n–\\xa0 \\xa0 \\xa0 \\xa0 Điện tử: Nghiên cứu và chế tạo ra vi mạch điện tử, đây chính là bộ não điều khiển tất cả các hoạt động của thiết bị thông minh\\n–\\xa0 \\xa0 \\xa0 \\xa0 Viễn thông: Nghiên cứu và sử dụng các thiết bị tạo nên mạng viễn thông (thiết bị truyền thông tin từ đầu phát đến đầu thu) gồm có những thành phần chính là: thiết bị truyền dẫn, thiết bị chuyển mạch, thiết bị đầu cuối, môi trường truyền.\\n2. Ngành Kỹ thuật Điện tử – Viễn thông Đại học Bách Khoa Hà Nội có gì?\\nKhoa Kỹ thuật Điện tử – Viễn thông hiện đang rất hot của Bách Khoa ở hiện tại và cả trong tương lai. Khi theo học, bạn sẽ được lựa chọn một trong các chuyên ngành:\\n–\\xa0 \\xa0 \\xa0 \\xa0 Điện tử và kỹ thuật máy tính: chuyên về lập trình cho các hệ thống nhúng\\n–\\xa0 \\xa0 \\xa0 \\xa0 Kỹ thuật thông tin – truyền thông: chuyên về hệ thống viễn thông, kỹ thuật truyền số liệu.\\n–\\xa0 \\xa0 \\xa0 \\xa0 Kỹ thuật y sinh: chuyên nghiên cứu các thiết bị y tế phục vụ khám chữa bệnh\\n–\\xa0 \\xa0 \\xa0 \\xa0 Kỹ thuật điện tử hàng không vũ trụ: nghiên cứu về các loại máy bay máy bay tự hành\\n–\\xa0 \\xa0 \\xa0 \\xa0 Kỹ thuật Đa phương tiện: nghiên cứu về các thiết bị nghe nhìn, điều chỉnh âm độ của các thiết bị thu âm,…\\nNội dung chương trình học:\\nTại Đại học Bách Khoa Hà Nội, bạn có thể theo học hệ cử nhân (4 năm), hệ kỹ sư (5 năm), hệ tích hợp cử nhân – thạc sĩ (5,5 năm) hoặc Hệ Cử nhân – thạc sĩ – tiến sĩ (8,5 năm). Bên cạnh đó, bạn cũng có cơ hội tham gia chương trình song bằng với các đối tác của trường theo mô hình:\\n–\\xa0 \\xa0 \\xa0 \\xa0 2+2: 2 năm đầu học tại Đại học Bách Khoa Hà Nội, 2 năm cuối sẽ học tại Đại học Wollongong của Úc, được cấp bằng cử nhân của cả 2 trường\\n–\\xa0 \\xa0 \\xa0 \\xa0 4+2: 4 năm đầu học tại Đại học Bách Khoa Hà Nội, 2 năm sau học tại Đại học Telecom ParisTech của Pháp. Sau 6 năm bạn sẽ nhận được bằng Thạc sĩ của ĐH BK HN và bằng kỹ sư của Đại học Telecom ParisTech.\\n–\\xa0 \\xa0 \\xa0 \\xa0 4+1+3: 4 năm đầu học tại Đại học Bách Khoa Hà Nội lấy bằng cử nhân của ĐHBKHN, 1 năm tiếp theo học Thạc sĩ tại ĐHBK HN và 3 năm cuối học chương trình Tiến sĩ ở viện KAIST (Hàn Quốc), sau đó bạn sẽ có bằng Tiến sĩ của cả 2 trường.\\nVẫn chưa hết, sinh viên Kỹ thuật Điện tử – Viễn thông của Đại học Bách Khoa Hà Nội còn có thể chọn học chương trình tiên tiến. Ở đây, ngôn ngữ giảng dạy sẽ hoàn toàn bằng tiếng Anh với đội ngũ giảng viên hàng đầu trong nước và quốc tế.\\nMột lựa chọn khác cho các bạn sinh viên yêu thích điện tử – viễn thông là chương trình liên kết với Đại học Leibniz Hannover (Đức). Một số điểm khác biệt của chương trình này là:\\n– Ngôn ngữ đào tạo bằng tiếng Việt và đến năm 3 bạn sẽ được học một số môn bằng tiếng Đức với giảng viên nước ngoài.\\n– Giai đoạn 1 (4 năm đầu: bạn sẽ học tại Đại Học Bách Khoa Hà Nội theo chương trình thống nhất giữa hai trường, ngôn ngữ học là tiếng Việt và được học tăng cường 5 kỳ tiếng Đức.\\n– Đến giai đoạn 2 bạn sẽ được lựa chọn:\\n+ Nếu có đủ điều kiện chuyên môn và ngoại ngữ bạn sẽ chuyển sang học bằng thạc sũ của Đại học ĐH Leibniz Hannover (Đức)\\n+Nếu không chuyển tiếp bạn có thể tiếp tục học tại Đại học Bách Khoa Hà Nội theo chương trình thống nhất giữa hai trườn. Làm luận văn tốt nghiệp bằng tiếng Anh hoặc tiếng Đức. Sau đó nếu có nguyện vọng bạn có thể học tiếp 1 năm để lấy bằng thạc sĩ.\\n3. Điểm chuẩn ngành Kỹ thuật Điện tử – Viễn thông Đại học Bách Khoa Hà Nội\\nTrườngChuyên ngànhNgành202320222021\\nĐại Học Bách Khoa Hà Nội\\nKỹ thuật Điện tử - Viễn thông\\nKỹ thuật điện tử - viễn thông\\n66.4664.1726.4625.9924.514.0526.8Ghi chúĐánh giá tư duy\\nĐánh giá tư duy\\nCT tiên tiến\\nĐiểm TN THPT\\nĐiểm TN THPT\\nCT tiên tiến\\nTN THPT\\nĐánh giá tư duy\\nĐánh giá tư duy\\nCT tiên tiến\\nĐiểm TN THPT\\nĐiểm TN THPT\\nCT tiên tiến\\nTN THPT\\n4. Học Kỹ thuật Điện tử – Viễn thông ra trường làm gì?\\nKỹ thuật Điện tử – Viễn thông: Ngành học mở ra nhiều cơ hội\\nQua những phần trên bạn cũng hiểu được Kỹ thuật Điện tử – Viễn thông là ngành “thay đổi văn minh nhân loại”. Chính vì vậy cơ hội nghề nghiệp cho ngành này vô cùng lớn. Bạn có thể làm việc tại:\\n–\\xa0 \\xa0 \\xa0 \\xa0 Các doanh nghiệp nghiên cứu, sản xuất, phát triển các sản phẩm điện tử: chuyên viên tư vấn, vận hành, thiết kế, điều hành kỹ thuật; chuyên gia thiết kế chipset (bộ phận không thể thiếu của các thiết bị thông minh); nghiên cứu viên phát triển sản phẩm thiết bị điện tử, công nghệ ứng dụng như truyền vẫn vật lý ứng dụng, công nghệ di động,…\\n–\\xa0 \\xa0 \\xa0 \\xa0 Công ty cung cấp dịch vụ internet: Kỹ sư thiết kế và xây dựng hệ thống hạ tầng truy cập internet; kỹ sư sư phân tích tích hợp các hệ thống, dịch vụ gia tăng, ứng dụng trên các cơ sở hạ tầng sẵn có.\\n–\\xa0 \\xa0 \\xa0 \\xa0 Công ty viên thông: chuyên viên thiết kế truyền dẫn, bảo trì, vận hành; chuyên viên quy hoạch, thiết kế mạng và tối ưu mạng; trưởng bộ phận kỹ thuật,…\\n–\\xa0 \\xa0 \\xa0 \\xa0 Đài phát thanh truyền hình, công ty tư vấn mạng viễn thông: chuyên viên thiết kế, tư vấn, vận hành, điều hành kỹ thuật\\n–\\xa0 \\xa0 \\xa0 \\xa0 Các hãng thiết bị: chuyên viên quản lý kỹ thuật và sản phẩm, quản lý dự án kinh doanh\\n–\\xa0 \\xa0 \\xa0 \\xa0 Các tập đoàn, công ty đa quốc gia về Điện tử – Viễn thông\\nTheo thống kê, 95% sinh viên khoa Kỹ thuật Điện tử – Viễn thông Đại học Bách Khoa Hà Nội có việc làm ngay sau một năm tốt nghiệp với mức lương khởi điểm từ 8-20 triệu đồng. Điều này đủ thấy được sức hấp dẫn của ngành đáng để các bạn cân nhắc đúng không nào!\\nTin tức mới nhất']"
      ]
     },
     "execution_count": 11,
     "metadata": {},
     "output_type": "execute_result"
    }
   ],
   "source": [
    "refs"
   ]
  },
  {
   "cell_type": "code",
   "execution_count": 12,
   "metadata": {},
   "outputs": [],
   "source": [
    "from unidecode import unidecode\n",
    "import re\n",
    "\n",
    "def normalize_text(text):\n",
    "    \"\"\"\n",
    "    Normalize Vietnamese text by converting it to its ASCII representation and removing accents.\n",
    "    \n",
    "    Args:\n",
    "    text (str): Input Vietnamese text to be normalized.\n",
    "    \n",
    "    Returns:\n",
    "    str: Normalized text with accents removed.\n",
    "    \"\"\"\n",
    "    normalized_text = unidecode(text)\n",
    "    normalized_text = re.sub(r'\\s+', ' ', normalized_text).strip()\n",
    "    return normalized_text\n"
   ]
  },
  {
   "cell_type": "code",
   "execution_count": 13,
   "metadata": {},
   "outputs": [],
   "source": [
    "hypos = [' '.join(normalize_text(hypo) for hypo in hypos)]"
   ]
  },
  {
   "cell_type": "code",
   "execution_count": 14,
   "metadata": {},
   "outputs": [
    {
     "data": {
      "text/plain": [
       "['# Co Hoi Viec Lam Cho Sinh Vien Nganh Dien Tu - Vien Thong Cua Dai Hoc Bach Khoa Ha Noi Sau Khi Tot Nghiep  ## Tong Quan  Trong boi canh cuoc Cach mang cong nghiep lan thu 4 dang dien ra manh me, nganh Dien tu - Vien thong dong vai tro trong yeu trong su phat trien cua xa hoi hien dai. Dai hoc Bach khoa Ha Noi (HUST), mot trong nhung truong dai hoc hang dau Viet Nam, da va dang dao tao ra nhung ky su Dien tu - Vien thong co chat luong cao, dap ung nhu cau ngay cang tang cua thi truong lao dong trong va ngoai nuoc.  ## Co Hoi Viec Lam Sau Tot Nghiep  ### Thi Truong Lao Dong  Theo thong ke tu Trung tam Du bao nhu cau nhan luc va Thong tin thi truong lao dong TPHCM, giai doan tu 2020 - 2025, nhu cau tuyen dung lao dong lam viec nganh Dien tu vien thong la khoang 16 nghin nguoi/nam, voi xu huong tang qua cac nam sau do (TopCV). Dieu nay cho thay tiem nang viec lam rong lon cho sinh vien sau khi tot nghiep.  ### Vi Tri Viec Lam  Sinh vien tot nghiep nganh Dien tu - Vien thong tu HUST co the dam nhan nhieu vi tri cong viec khac nhau:  1. **Chuyen vien quy hoach, thiet ke va toi uu hoa he thong mang** tai cac cong ty vien thong lon nhu VNPT, Viettel, Vinaphone, Mobiphone (Bao An Telecom). 2. **Chuyen vien thiet ke, tu van va dieu hanh cong tac ky thuat** tai cac dai phat thanh, truyen hinh nhu VTV, HTV, SCTV (Bao An Telecom). 3. **Chuyen vien nghien cuu va thiet ke** tai cac cong ty san xuat thiet bi dien tu vien thong, am thanh hinh anh, cong ty thiet ke san xuat vi mach nhu Aver, Maxhub, FPT, Samsung, LG, Intel, Panasonic (Bao An Telecom). 4. **Chuyen vien van hanh, thiet ke va bao tri thiet bi dien tu, tu dong hoa** trong cac don vi, doanh nghiep (Bao An Telecom). 5. **Ky su nghien cuu phat trien** trong linh vuc IoT va DT-VT (HUST). 6. **Ky su thiet ke va viet phan mem** cho may tinh, thiet bi dien tu thong minh (HUST).  ### Muc Luong  Muc luong khoi diem cho sinh vien tot nghiep nganh nay tu Dai hoc Bach khoa Ha Noi dao dong tu 8-20 trieu dong, phan anh suc hap dan cua nganh (Hocmai.vn).  ### Co Hoi Phat Trien Su Nghiep  Sinh vien co co hoi thang tien len cac vi tri quan ly nhu Truong bo phan ky thuat, Giam doc ky thuat tai cac doanh nghiep, cong ty trong linh vuc dien tu, vien thong, truyen thong (Bao An Telecom). Ngoai ra, co hoi de tro thanh can bo giang day, nghien cuu tai cac truong dai hoc, cao dang va vien nghien cuu cung rong mo (Bao An Telecom).  ### Co Hoi Hoc Tap va Phat Trien Ky Nang  HUST cung cap chuong trinh dao tao tai nang He thong Dien tu thong minh va IoT, voi co hoi thuc tap trong moi truong cong nghiep va tham gia nghien cuu cung giang vien (HUST). Sinh vien con co co hoi nhan hoc bong du hoc tai My, chau Au, Nhat Ban, Singapore, Han Quoc va 100% sinh vien co viec lam sau 01 nam tot nghiep hoac di hoc o bac cao hon (HUST).  ## Ket Luan  Sinh vien nganh Dien tu - Vien thong cua Dai hoc Bach khoa Ha Noi co trien vong su nghiep rong lon sau khi tot nghiep, voi nhieu co hoi viec lam da dang va muc luong hap dan. Su dao tao chat luong cao, cap nhat voi cong nghe moi va ky nang thuc te da trang bi cho sinh vien nen tang vung chac de thich nghi va phat trien trong moi truong lam viec ngay cang doi hoi cao.']"
      ]
     },
     "execution_count": 14,
     "metadata": {},
     "output_type": "execute_result"
    }
   ],
   "source": [
    "hypos"
   ]
  },
  {
   "cell_type": "code",
   "execution_count": 15,
   "metadata": {},
   "outputs": [],
   "source": [
    "refs = [normalize_text(ref) for ref in refs]"
   ]
  },
  {
   "cell_type": "code",
   "execution_count": 16,
   "metadata": {},
   "outputs": [
    {
     "data": {
      "text/plain": [
       "['Co nen hoc nganh ky thuat dien tu vien thong hay khong? 16 nghin nguoi/nam la nhu cau tuyen dung lao dong lam viec nganh ky thuat dien tu vien thong trong giai doan tu 2020 - 2025. Dieu nay chung minh, nhan luc nganh nay dang tuyen dung nhieu va co xu huong tang qua cac nam. Vay nganh ky thuat dien tu vien thong la gi? Hoc nganh nay o dau? Thi nhung mon nao? Co hoi viec lam va muc thu nhap ra sao sau khi ra truong? Tat ca se duoc TopCV cung cap chi tiet trong bai viet sau day de ban cung tim hieu, tu do de dang dua ra su lua chon. Noi dung bai viet Nganh ky thuat dien tu vien thong la gi? Nganh ky thuat dien tu vien thong la nganh hoc dao tao nguon nhan luc co chuyen mon va ky nang ve viec thiet ke, phat trien va van hanh cac he thong va cong nghe lien quan den vien thong va truyen thong dien tu. Day la nganh tap trung vao cac cong nghe va ung dung su dung trong viec truyen tai, xu ly va quan ly thong tin qua cac mang dien tu va khong day. Trong do co ke den cac thiet bi truyen thong va thiet bi dien tu nhu: dien thoai di dong, tivi, may tinh, he thong nhung, cac mach dieu khien, router, anten, thiet bi phat song,v.vv.. Co hoi viec lam nganh dien tu vien thong Theo danh gia cua cac chuyen gia phan tich nhu cau nhan luc, nganh dien tu vien thong la mot trong nhung nhom nganh co nhu cau nhan luc cao trong thoi dai 4.0 hien nay. Sinh vien tot nghiep chuyen nganh nay duoc nhan dinh la co co hoi lam viec voi nhieu vi tri khac nhau tai cac doanh nghiep, bao gom ca doanh nghiep trong nuoc nhu: FPT, Viettel, VNPT, MobiFone, VinSmart, v.vv.. hay doanh nghiep nuoc ngoai nhu: SamSung, LG, Nokia, Apple, Inter, v.vv.. Mot thong ke tu Trung tam Du bao nhu cau nhan luc va Thong tin thi truong lao dong TPHCM cho thay, giai doan tu 2020 - 2025 nhu cau tuyen dung lao dong lam viec nganh dien tu vien thong la khoang 16 nghin nguoi/nam. Con so nay dang co xu huong tang len qua cac nam sau do. Trong khi do, dai dien Tong cong ty cong nghe cao Viettel cung tung chia se, hon 50% nhan luc ky su cua doanh nghiep nay la chuyen nganh dien tu vien thong. Moi nam doanh nghiep tuyen khoang 100 ky su moi ra truong. Nhung con so \"biet noi\" tren cho thay, tiem nang va co hoi viec lam cho nhung nguoi duoc dao tao nganh ky thuat dien tu vien thong la rat lon. Tot nghiep nganh nay sinh vien co the lam viec tai cac vi tri nhu: chuyen vien tu van, thiet ke va van hanh ky thuat tai cac dai phat thanh, truyen hinh, cong ty dich vu ky thuat dien tu vien thong; Ky su thiet ke van hanh he thong thong tin da phuong tien tai cac cong ty truyen thong da phuong tien; Ky su viet phan mem may tinh, v.vv.. Chua ke, trong xu huong chuyen doi so nhu hien nay, nhu cau nhan luc cho nganh dien tu vien thong la rat lon va van con thieu. Cac cong ty vien thong, cong ty san xuat thiet bi dien tu, nha mang se tro thanh \"mien dat hua\" cho cac tan ky su tot nghiep chuyen nganh nay. TopCV co the gioi thieu hang tram vi tri cong viec nganh ky thuat dien tu vien thong dang tuyen dung de ban tham khao va nam bat co hoi viec lam cua nganh nay sau khi ra truong. Mot so cau hoi ve nganh ky thuat dien tu vien thong De giup cac ban hieu sau hon ve nganh nay, sau day TopCV se giai dap mot so cau hoi lien quan den nganh ky thuat dien tu vien thong. Nganh ky thuat dien tu vien thong thi khoi nao? Ma nganh ky thuat dien tu vien thong thuong la 7520207. Tuy nhien, ma nganh nay cung co su thay doi tuy theo truong dao tao, vi du tai Dai hoc Dien luc nganh nay co ma la 7510302, Dai hoc Bach khoa Ha Noi ma nganh la ET-E4y, Dai hoc Cong nghe - DHQG Ha Noi ma nganh la CN9 v.vv.. Ban nen can cu vao truong hoc minh lua chon de tra cuu chinh xac ma nganh. Hang nam nganh ky thuat dien tu vien thong duoc tuyen sinh voi so luong lon va thuong thi vao voi 2 khoi: Ngoai ra, mot so truong con xet tuyen cac to hop gom: Neu ban hoc tot va nam vung kien thuc cac mon hoc nay cong them niem dam me voi cac thiet bi dien tu, vien thong thi nganh ky thuat dien tu vien thong la nganh ban co the can nhac lua chon de dang ky thi tuyen sau khi tot nghiep THPT. Diem chuan nganh ky thuat dien tu vien thong Doi voi nganh ky thuat dien tu vien thong, moi nam tuyen sinh diem chuan se co su thay doi, khac nhau giua cac truong dai hoc/hoc vien/cao dang co dao tao nganh nay. Bang sau day TopCV tong hop diem chuan nganh ky thuat dien tu vien thong moi nhat tai mot so truong dai hoc/hoc vien, ban co the tham khao: Ghi chu: Nganh ky thuat dien tu vien thong hoc gi? Hien nay cac truong dai hoc, hoc vien dao tao nganh ky thuat dien tu - vien thong theo khung chuong trinh keo dai tu 4 - 5 nam. Sau khi ra truong sinh vien se duoc cap bang cu nhan hoac ky su. So luong tin chi (mon hoc/hoc phan) se co su khac nhau tuy theo chuyen nganh cu the ma ban theo hoc sau khi thi dau nganh ky thuat dien tu vien thong. Khi theo hoc nganh nay, sinh vien se duoc dao tao cac kien thuc chuyen mon ve linh vuc dien tu, vien thong, bao gom ca ly thuyet va thuc hanh. Ngoai cac mon co so nganh, chuong trinh dao tao con chu trong vao viec cung cap kien thuc va ky nang de sinh vien co the thiet ke, xay dung, khai thac, van hanh, su dung, bao tri cac thiet bi dien tu, vien thong. Tuy theo chuyen nganh lua chon, nguoi hoc se duoc hoc nhung kien thuc chuyen sau hon. Duoi day la mot so mon ban se duoc hoc khi lua chon nganh ky thuat dien tu vien thong: Ngoai ra sinh vien con duoc hoc cac mon hoc khac nhu: Dien tu cong suat, thiet ke tong hop he thong so, Kien truc may tinh, Lap trinh nang cao, ky thuat sieu cao tan, tri tue nhan tao va ung dung, Quy hoach va quan ly mang vien thong, thong tin ve tinh, thong tin quang soi,v.vv.. Thong thuong so luong hoc phan hoac noi dung hoc phan se co su khac nhau giua bac dao tao cu nhan va ky su. Ky thuat dien tu vien thong hoc truong nao tot? La mot nganh co yeu cau dau vao cao va chat luong dau ra tot, ky thuat dien tu vien thong hien duoc nhieu truong dua vao he thong dao tao. Cac truong dao tao nganh ky thuat dien tu vien thong Neu ban dang phan van trong viec lua chon hoc nganh ky thuat dien tu vien thong tai truong nao thi hay cung TopCV diem qua danh sach cac truong dai hoc co dao tao nganh ky thuat dien tu - vien thong sau day: Mien Bac Mien Trung: Mien Nam: Hoc ky thuat dien tu vien thong truong nao tot? Viec lua chon truong nao tot de theo duoi dam me ky thuat dien tu- vien thong cua moi nguoi co the xuat phat tu nhieu tieu chi khac nhau. Sau day TopCV dua ra goi y mot so truong dai hoc uy tin va noi tieng trong dao tao nganh ky thuat dien tu vien thong de ban co the tham khao va dua ra su lua chon phu hop cho minh: Cac truong quoc te noi tieng dao tao ky thuat dien tu vien thong Hien nay tren the gioi co nhieu truong dao tao chuyen nganh ky thuat dien tu vien thong. Neu co dieu kien ve kinh te, ban co the hoc nganh nay tai cac truong dai hoc va vien cong nghe noi tieng dao tao ky thuat dien tu vien thong nhu: Tren day chi la cac goi y giup ban co the de dang dua ra quyet dinh hon khi quan tam den nganh ky thuat dien tu vien thong. Quan trong nhat la lua chon mot truong co chuong trinh dao tao va co so vat chat phu hop voi muc tieu hoc tap va su quan tam ca nhan cua ban. Ngoai ra, nen xem xet cac thong tin ve danh sach giang vien, du an nghien cuu va co hoi thuc tap, lien ket doanh nghiep de danh gia chat luong giao duc va kha nang phat trien nghe nghiep trong nganh ky thuat dien tu vien thong sau khi tot nghiep. Nganh ky thuat dien tu vien thong luong bao nhieu? Muc luong trong nganh ky thuat dien tu vien thong kha da dang va phu thuoc vao nhieu yeu to nhu: vi tri lam viec, kinh nghiem lam viec, tinh chat cong viec, quoc gia,v.vv.. Tuy nhien, nhin chung nganh ky thuat dien tu vien thong thuong co muc luong kha hap dan. Doi voi cac chuyen gia va ky su dien tu vien thong co kinh nghiem va trinh do cao, muc luong co the rat cao va vuot qua muc trung binh cua nhieu nganh khac. Duoi day la muc luong cua mot so vi tri cong viec trong nganh ky thuat dien tu vien thong do TopCV tong hop ma ban co the tham khao: Luu y, cac chuyen gia va ky su dien tu vien thong co ky nang dac biet, nam vung cac cong nghe moi va co kinh nghiem lam viec trong nhieu du an quan trong thuong co co hoi nhan duoc muc luong cao hon va cac phuc loi hap dan tu cac cong ty va to chuc. Ban co the cap nhat nhanh viec lam nganh dien tu vien thong de tham khao muc thu nhap tai cac vi tri cong viec trong nhom nganh nay hien nay. Hoc ky thuat dien tu vien thong ra lam gi? Van de viec lam sau khi ra truong luon la noi ban khoan va tran tro cua cac ban sinh vien. Doi voi nganh ky thuat dien tu vien thong, sau khi tot nghiep ra truong, voi nhung kien thuc chuyen mon, ky nang da hoc va duoc dao tao, ban co co hoi lam viec tai nhieu vi tri khac nhau tai da dang cac cong ty, doanh nghiep. TopCV se tong hop mot so vi tri cong viec danh cho cac sinh vien hoc nganh ky thuat dien tu vien thong ngay sau day de ban tham khao ve thi truong tuyen dung cua nhom nganh nay hien nay. Nhan vien ky thuat dien tu - vien thong Nhan vien ky thuat dien tu - vien thong la nguoi co chuyen mon va ky nang trong linh vuc dien tu - vien thong. Voi nhung sinh vien tot nghiep chuyen nganh ky thuat dien tu vien thong, co the ung tuyen vao vi tri nhan vien ky thuat dien tu - vien thong tai hau het cac to chuc, doanh nghiep. Mo ta cong viec: Cong viec cua nhan vien ky thuat dien tu - vien thong se lien quan den cac nhiem vu gom: Co the thay vi tri cong viec nay gan nhu bao quat toan bo he thong dien tu - vien thong trong don vi lam viec. Neu dap ung yeu cau cong viec va hoan thanh tot nhiem vu duoc giao, nguoi lam vi tri nay co the thang tien len chuc vu chuyen vien, ky su hoac cap bac cao hon. Apply nhan vien ky thuat dien tu - vien thong ngay tren TopCV de co co hoi tim kiem viec lam phu hop. Ky su vien thong Ky su vien thong la nhung chuyen gia co trinh do ky thuat va kien thuc chuyen sau ve cac he thong vien thong. Vi tri nay thuong duoc cac cong ty vien thong tuyen dung. Neu ban tot nghiep nganh ky thuat dien tu - vien thong he dao tao ky su thi day la mot trong nhung vi tri cong viec co the apply sau khi ra truong de co co hoi \"dau quan\" cho nhung cong ty vien thong lon trong nuoc nhu: VNPT, Viettel, MobiFone, Vinaphone,v.vv.. Mo ta cong viec: Ky su thiet ke va viet phan mem Sinh vien nganh ky thuat dien tu vien thong co the lam viec trong cac cong ty cong nghe hoac cong ty san xuat thiet bi vien thong voi vi tri ky su thiet ke va viet phan mem cho may tinh, dien thoai thong minh, xe o to, robot,v.vv.. Day la vi tri cong viec yeu cau co trinh do ky thuat va kien thuc chuyen sau ve phat trien phan mem dien tu vien thong. Cong viec cua nguoi lam o vi tri nay lien quan den viec thiet ke, phan tich, lap trinh va trien khai cac ung dung va he thong phan mem. Mo ta cong viec: Ky su vo tuyen Ky su vo tuyen con duoc goi la ky su vien thong vo tuyen hoac ky su RF - Radio Frequency. Day la vi tri quan trong yeu cau nguoi lam co kien thuc va ky nang chuyen sau ve vien thong vo tuyen, tuong tac voi song radio va cac he thong truyen thong khong day. Vi tri cong viec nay lien quan den thiet ke, trien khai va duy tri cac he thong va thiet bi vo tuyen. Mo ta cong viec: Chuyen vien van hanh, giam sat ha tang vien thong Chuyen vien van hanh va giam sat ha tang vien thong duoc danh gia la mot vi tri cong viec quan trong trong nganh vien thong va mang. Cong viec nay lien quan den quan ly va duy tri cac he thong ha tang vien thong, dam bao su hoat dong lien tuc va on dinh cua mang tai cac cong ty, doanh nghiep hoac dai phat thanh, dai truyen hinh,v.vv.. Mo ta cong viec: Truong bo phan ky thuat Voi nhung nguoi co kinh nghiem lam viec lau nam trong nghe va nang luc chuyen mon tot, hoan toan co the lam viec o vi tri truong bo phan ky thuat tai cac cong ty, doanh nghiep. Vi tri nay la nguoi dung dau va co trach nhiem quan ly va dieu hanh cac hoat dong ky thuat trong mot bo phan hoac mot don vi to chuc. Mo ta cong viec: Voi vi tri nay, lo trinh thang tien co the giup ban phat trien de tro thanh quan ly du an vien thong hoac giam doc ky thuat. Tuy nhien, de co the lam viec o nhung vi tri cao hon doi hoi ban phai co kinh nghiem nhieu nam lam viec trong linh vuc dien tu vien thong, tung lam viec tai nhieu du an voi vi tri tuong duong va co ky nang lanh dao. >>> Kham pha ngay cac vi tri tuyen dung truong bo phan ky thuat voi muc thu nhap hap dan va che do dai ngo tot tren TopCV de co co hoi ket noi voi cac nha tuyen dung chat luong. Chuyen gia phan tich va tu van ky thuat dien tu vien thong Voi kien thuc chuyen sau ve ky thuat dien tu vien thong, ban hoan toan co the lam viec tai vi tri chuyen gia phan tich, tu van trong linh vuc dien tu - vien thong. O vi tri nay, nguoi lam viec can co ky nang phan tich, tu van, danh gia va chuyen mon vung de thuc hien cac nhiem vu phan tich, tu van va cung cap cac giai phap, khuyen nghi de cai thien hieu suat va kha nang canh tranh cua cac he thong vien thong. Mo ta cong viec: Ngoai ra, neu dam me nghien cuu va phat trien, sau khi tot nghiep nganh ky thuat dien tu vien thong ban hoan toan co the tham gia vao hoat dong nghien cuu va phat trien cong nghe moi trong nganh ky thuat dien tu vien thong. De thuc hien dieu nay, nhieu nguoi lua chon tro thanh can bo giang day, nghien cuu trong cac vien nghien cuu, truong dai hoc, cao dang ve ky thuat dien tu vien thong. Tren day chi la mot so goi y cong viec ma ban co the lam sau khi tot nghiep va duoc dao tao ve nganh ky thuat dien tu vien thong. Co the noi, hoc nganh nay mo ra nhieu co hoi nghe nghiep khac nhau cho cac ban sinh vien. Cac cong ty vien thong, cong ty san xuat thiet bi dien tu, cong ty cong nghe, dai phat thanh, dai truyen hinh,v.vv.. va to chuc nghien cuu deu co nhu cau tuyen dung cac chuyen gia trong linh vuc nay. Sau khi xac dinh duoc vi tri cong viec muon ung tuyen, viec tiep theo ban can lam la chuan bi mot ban CV chin chu, dep mat va chuyen nghiep gui den nha tuyen dung. Hay tham khao cach viet CV tim viec ky thuat dien tu ma TopCV da chia se de cau truc mot ban CV ung y ban nhe. Tim viec lam nganh ky thuat dien tu vien thong o dau? Nhu cau viec lam nganh ky thuat dien tu vien thong rat lon va da dang vi tri tuyen dung. Tuy nhien viec tim duoc mot ben do cong viec voi vi tri phu hop la dieu khong de dang, nhat la voi cac ban sinh vien moi ra truong. Neu ban dang lo lang tim kiem nhung co hoi viec lam trong nganh ky thuat dien tu vien thong hoac mong muon co them nhieu thong tin tuyen dung trong nganh nay thi TopCV la lua chon dang can nhac. La nen tang tuyen dung va viec lam tien phong tai Viet Nam, TopCV giup ban tiep can voi hang trieu thong tin tuyen dung o nhieu vi tri cong viec khac nhau. Bang viec ung dung tri tue nhan tao, TopCV de dang ket noi ung vien voi mang luoi nha tuyen dung tai nhieu tinh thanh khac nhau. Dac biet, TopCV giup ban co co hoi duoc ket noi va tiep can cac vi tri cong viec hap dan tu cac doanh nghiep trong nuoc cung nhu quoc te co uy tin trong linh vuc dien tu vien thong nhu: FPT, Viettel, MobiFone, VNPT, SamSung,v.vv.. Tu do thuan loi tim ra \"mien dat hua\" cho minh. Khong chi ket noi nhanh chong, TopCV con ho tro ban tao CV chuyen nghiep, viet so yeu ly lich dung chuan va cung cap them nhieu kien thuc ve ky nang phong van, ky nang tao an tuong voi nha tuyen dung de tang ty le thanh cong khi tim viec. Tren day la nhung thong tin chi tiet ve nganh ky thuat dien tu vien thong ma TopCV vua cap nhat va gui den ban. Hy vong voi nhung thong tin nay, ban da hieu ro ve nganh ky thuat dien tu vien thong nhu: mon thi, co hoi nghe nghiep, muc thu nhap,v.vv.. tu do dua ra su lua chon cong viec phu hop sau khi ra truong, dong thoi tu tin lua chon nganh hoc neu ban dang lung tung trong viec chon nganh, chon truong hoc sau khi tot nghiep THPT. Chuc cac ban thanh cong va dung quen TopCV van dong hanh trong suot hanh trinh tim viec thong qua viec cap nhat nhanh chong va lien tuc cac cong viec moi nhat ban nhe!.',\n",
       " 'Tim hieu kien thuc hoc va co hoi viec lam nganh Dien tu vien thong MUC LUC 1. Nganh dien tu vien thong la gi? Va ung dung trong doi song 2. Nganh dien tu vien thong hoc nhung kien thuc gi? 3. Dinh huong cong viec nganh Dien tu vien thong? Co hoi viec lam co rong mo? 4. Can trang bi gi de hoc va lam viec tot nganh dien tu vien thong 5. Cac truong dao tao nganh dien tu vien thong Nganh dien tu vien thong la gi? Va ung dung trong doi song Dien tu vien thong la nganh su dung nhung cong nghe tien tien de tao ra cac thiet bi giup cho viec lien lac, truy xuat thong tin cua ca nhan hoac to chuc, dien tu vien thong duoc ung dung cao o nhieu linh vuc trong cuoc song. * Linh vuc mang, vien thong: cac thiet bi truyen tin tren toan cau nhu he thong truyen dan: cap quang, ve tin, he thong truyen tin khong day (vi ba) v.v... Thanh tuu moi day nhat la xay dung he thong 5g va cac thiet bi he thong hoi nghi truyen hinh * Linh vuc dinh vi dan duong: la mot linh vuc dac biet quan trong nganh Hang khong va Hang hai. Nhung tram kiem soat khong luu mat dat la noi nhung ki su Dien tu Vien thong lam nhiem vu dan duong cho hang nghin chuyen bay, tau thuy hoat dong an toan * Linh vuc nghien cuu, sang tao cong nghe, thiet bi moi: la linh vuc doi hoi nguoi hoc phai co su sang tao dua tren nhung ung dung cua xa hoi noi chung va nganh Dien tu Vien thong noi rieng, phat trien cac cong nghe moi, ung dung moi huu ich va don gian hon cho moi nguoi la linh vuc thuc day su phat trien cua toan bo nganh Dien tu Vien thong * Linh vuc dien tu y sinh: nganh ddien tu vien thong la nen tang de tao ra cac may moc, thiet bi dien tu hien dai trong linh vuc y te va sinh hoc. * Linh vuc am thanh, hinh anh: nganh ky thuat Dien tu Vien thong dong gop 1 phan quan trong cua nhu viec thiet ke ra cac trang thiet bi nghe nhin, dieu chinh am do cac thiet bi thu am v.v... Co the noi tat ca cac thiet bi trong cuoc song hien dai ngay nay nhu : may thu hinh, dien thoai, may tinh ca nhan, may tinh bang,... deu co dau an cua nganh Dien tu Vien thong , la nen tang co ban nhat cua cach mang cong nghiep 4.0, cua xu huong chuyen doi so trong moi linh vuc cua doi song, kinh te, xa hoi. Nganh dien tu vien thong hoc nhung kien thuc gi? Hieu tu ten goi, co rat nhieu nguoi cho rang Dien tu Vien thong la mot phan cua Cong nghe thong tin, cach hieu nay khong hoan toan sai nhung chua chinh xac. Giai thich co ban thi Nganh Dien tu-vien thong va nganh Cong nghe thong tin la hai nganh rat gan voi nhau, co nhieu kien thuc chung ve cong nghe tuy nhien di vao chuyen sau se thay ro su khac biet rang: CNTT tap trung vao xay dung phan mem con chuyen nganh DTVT tap trung ve phan cung. Theo hoc nganh Dien tu - Vien thong, sinh vien duoc trang bi khoi kien thuc theo 3 tang cap do: Cap do 1: Cac kien thuc nen tang va chuyen sau ve cac cong nghe, ky thuat: Giai tich mach dien; truong dien tu; ky thuat lap trinh; dien tu so; nguyen ly truyen thong; vi xu ly; dien tu thong tin; ky thuat truyen so lieu va mang; xu ly tin hieu; thiet ke so dung ngon ngu mo ta phan cung; he thong vien thong; ky thuat sieu cao tan va anten,... Cap do 2: nganh Cong nghe Ky thuat Dien tu - Vien thong cung cap cho sinh vien cac ky nang van hanh bao tri, sua chua, cai tien, nang cap cac he thong, thiet bi dien tu vien thong Cap do 3: Nang cao hon la kha nang tim hieu, nghien cuu, phat trien ung dung cong nghe ky thuat dien tu vien thong trong cong nghiep va trong doi song dan dung. Thuc hanh, van dung ly thuyet la phan hoc quan trong nhat trong nganh DTVT, cu the la nhung cuoc thi day sang tao nhu: robocon Dinh huong cong viec nganh Dien tu vien thong? Co hoi viec lam co rong mo? Hoc nganh dien tu vien thong ra lam gi? co the dam nhan nhung vi tri nao? Lam viec o cong ty nao la cau hoi cua tat ca sinh vien nganh vien thong can biet va nen tim hieu: * Chuyen vien quy hoach, thiet ke va toi uu hoa he thong mang tai cac cong ty vien thong < VNPT, Viettel, Vinaphone, Mobiphone ...;> * Chuyen vien thiet ke, tu van va dieu hanh cong tac ky thuat tai cac dai phat thanh, truyen hinh < VTV, HTV,SCTV, cac dai truyen hinh dia phuong...> * Chuyen vien nghien cuu va thiet ke tai cac cong ty san xuat thiet bi dien tu vien thong, am thanh hinh anh, cong ty thiet ke san xuat vi mach. < Aver, Maxhub, FPT, Samsung, LG, Intel, Panasonic..> * Chuyen vien van hanh, thiet ke va bao tri thiet bi dien tu, tu dong hoa trong cac don vi, doanh nghiep. * Khi co kinh nghiem va thoi gian lam viec co the giu vi tri Truong bo phan ky thuat, Giam doc ky thuat tai cac doanh nghiep, cac cong ty trong linh vuc dien tu, vien thong, truyen thong. * Co the tro thanh can bo giang day, nghien cuu tai cac truong dai hoc, cao dang va Vien nghien cuu. The gioi noi chung va Viet Nam noi rieng dang song trong ky nguyen so. Cac doanh nghiep ve cong nghe ngay cang nhieu va phat trien rat nhanh, di cung do la nhu cau ve nguon nhan luc cung tang cao. Du bao cua Vietnamworks cho thay, nuoc ta dang thieu 400.000 nhan luc cong nghe thong tin va dien tu vien thong va moi nam can cung ung moi toi 78.000 lao dong. Tuy nhien trong thuc te, moi nam nuoc ta chi co khoang 50.000 sinh vien tot nghiep, dan den \"con khat\" nhan luc doi voi nganh hoc nay duong nhu chua bao gio ha. Can trang bi gi de hoc va lam viec tot nganh dien tu vien thong Khong chi nganh DTVT ma khi lua chon nganh hoc va viec lam, can tim thay duoc su dam me va thich thu. Dieu nay giup nguoi hoc va nguoi lam viec tim thay duoc niem vui trong cong viec, cong viec khong nham chan. Con rieng trong nganh DT VT nen co them nhung to chat ve: su kien tri, nhan nai, ky nang ngoai ngu va kha nang lam viec nhom. Cac truong dao tao nganh dien tu vien thong Voi he chinh quy Dai hoc, dao tao nganh Dien tu vien thong co the ke den cac truong voi be day va co ty le sinh vien dau ra tot nhat: Khoa dien tu vien thong dai hoc bach khoa da nang Truong DH Bach khoa Ha Noi Truong DH Bach khoa HCM (DH Quoc gia HCM) Truong DH khoa hoc (DH Hue) Truong Hoc vien Cong nghe Buu chinh Vien thong Truong DH Cong nghe (DH Quoc gia Ha Noi) Dai hoc Cong nghe TP.HCM Dai hoc Su pham Ky thuat TP.HCM Dai hoc Dien luc - Ha Noi DANG KY TU VAN NGAY HOM NAY Tin khac BANG GIA MAN HINH TUONG TAC 65INCH RE NHAT 2022 Review loa hoi nghi bluetooth Maxhub BM21 Lien ket quang hoc (Optical Bonding) la gi? So sanh cong nghe LED Edge-lit (chieu sang canh) va Back-lit (chieu sang nen) So sanh su khac biet giua man hinh cam ung IR va PCAP So sanh man hinh tuong tac: MAXHUB V5 Transcend vs LG CreateBoard(tm) Vi sao nen su dung tinh nang Automatic Framing cua Polycom Studio? Cac loai cong nghe man hinh cam ung Tru So Chinh TP. Ho Chi Minh Dia chi : T08, duong so 20, KDT Him Lam, P. Tan Hung, Q.7, HCM Hotline : 0918.325.086 Email : info@baoantelecom.com Chi nhanh Ha Noi Dia chi : P.201, 627 Vu Tong Phan, Khuong Dinh, Thanh Xuan, Ha Noi Hotline : 0911.527.086 Email : info@baoantelecom.com Chi nhanh Da Nang Dia chi : H53/15 K729 Ngo Quyen, Q. Son Tra, Da Nang Hotline : 0918.325.086 Email : info@baoantelecom.com',\n",
       " 'Elitech - Dien tu vien thong Chuong trinh dao tao tai nang He thong dien tu thong minh va Internet van vat (Chuong trinh thuoc Vien Dien tu - Vien thong) De cuong chuong trinh dao tao, tai tai day ! la nganh co nhu cau cao ve nhan luc o Viet Nam va tren the gioi. Theo hoc chuong trinh nay, sinh vien duoc trang bi mot cach toan dien ca ve ky nang chuyen mon va ky nang mem de co the tro thanh nhung nha lanh dao, ky su va chuyen gia gioi trong: * Nghien cuu phat trien, thiet ke, che tao, van hanh cac he thong dien tu thong minh nhu thiet ke vi mach, he thong nhung, cac he thong dien tu ung dung trong truyen thong, y te, dieu khien, tu dong hoa co huong toi cac ung dung thong minh nhu hoc may, tri tue nhan tao. * Phat trien cac nen tang phan cung, phan mem, cac phuong thuc truyen thong va ung dung cho Internet van vat (Internet of Things) cung nhu cac he thong truyen thong tuong lai. Chuong trinh dao tao tai nang He thong Dien tu thong minh va IoT duoc giang day bang tieng Viet va duoc thiet ke bao gom khoi kien thuc toan hoc va khoa hoc co ban, khoi kien thuc co so cot loi, khoi kien thuc chuyen sau cua nganh DT-VT, khoi kien thuc bo tro ve xa hoi va ky nang mem. Dac biet, sinh vien duoc thuc tap trong moi truong cong nghiep va duoc tham gia nghien cuu cung voi giang vien tai Trung tam Nghien cuu cua Vien DT-VT tu nam thu 3. Ma xet tuyen: Chi tieu tuyen sinh: 30 Kien thuc, ky nang dat duoc sau tot nghiep Kien thuc * Sinh vien tot nghiep co kha nang ap dung cac kien thuc toan hoc va khoa hoc co ban, cac kien thuc co so nganh, cac kien thuc cot loi nganh ket hop kha nang khai thac, su dung cac phuong phap, cong cu hien dai de thiet ke, mo phong, trien khai, van hanh va danh gia cac he thong dien tu thong minh, cac san pham va giai phap ky thuat trong linh vuc IoT noi rieng va DT-VT noi chung. Ky nang * Sinh vien tot nghiep duoc trang bi ky nang va pham chat chuyen nghiep can thiet de co the tro thanh nha lanh dao va chuyen gia gioi; * Ky nang xa hoi can thiet de lam viec hieu qua trong nhom da nganh va trong moi truong quoc te; * Nang luc nhan biet van de va hinh thanh y tuong, nang luc thiet ke, nang luc trien khai, nang luc van hanh, su dung va khai thac cac he thong dien tu thong minh; cac san pham va giai phap ky thuat trong linh vuc IoT va DT-VT. Ngoai ngu * Su dung hieu qua tieng Anh trong giao tiep va cong viec, dat TOEIC tu 600 diem tro len. Thoi gian dao tao va kha nang hoc len bac hoc cao hon * Dao tao Cu nhan: 4 nam * Dao tao tich hop Cu nhan - Thac si: 5,5 nam * Dao tao Cu nhan - Thac si - Tien si: 8,5 nam Dac biet, sinh vien thuoc chuong trinh nay co the tham gia chuong trinh song bang voi cac truong dai hoc doi tac theo cac mo hinh sau: * Mo hinh 2+2, trong do 2 nam dau hoc tai Truong DHBK Ha Noi, 2 nam cuoi hoc tai Truong Dai hoc Wollongong, Uc de duoc cap bang cu nhan cua ca hai truong. * Mo hinh 4+2, trong do 4 nam dau hoc tai Truong DHBK Ha Noi, 2 nam cuoi hoc tai Truong Dai hoc Telecom ParisTech, Cong hoa Phap de duoc cap song bang: bang Thac si cua Truong DHBK Ha Noi va bang Ky su cua Dai hoc Telecom ParisTech. * Mo hinh 4+1+3, trong do 4 nam dau hoc tai Truong DHBK Ha Noi de lay bang cu nhan, 1 nam hoc chuong trinh Thac si tai DHBK Ha Noi va 3 nam hoc chuong trinh Tien si tai Vien KAIST, Han Quoc de duoc cap bang Tien si cua hai truong. * Co hoi hoc bong va ho tro hoc tap Hoc bong ho tro tai chinh Ngoai hoc bong ho tro tai chinh cua Truong DHBK Ha Noi, sinh vien theo Chuong trinh tai nang He thong Dien tu thong minh va IoT co co hoi nhan: o Hoc bong ho tro hoc tap, hoc bong trao doi sinh vien tu cac doanh nghiep va truong dai hoc quoc te la doi tac cua Vien DT-VT voi tong so tien hoc bong khoang 3 ti dong moi nam. Hoc bong trao doi sinh viec, hoc sau dai hoc o Sinh vien tot nghiep con co nhieu co hoi xin hoc bong du hoc tai My, chau Au, Nhat Ban, Singapore, Han Quoc ... o 20 - 30% tong sinh vien tot nghiep hang nam nhan hoc bong du hoc. Co hoi viec lam sau tot nghiep o 100% sinh vien co viec lam sau 01 nam tot nghiep hoac di hoc o bac cao hon. Vi tri viec lam tieu bieu: o Ky su nghien cuu phat trien trong linh vuc IoT va DT-VT. o Ky su thiet ke va toi uu mang, quan ly mang, van hanh he thong mang vien thong phuc tap. o Ky su thiet ke va viet phan mem cho may tinh, thiet ke va viet phan mem cho cac thiet bi dien tu thong minh nhu dien thoai di dong, ro bot, xe o to, dau thu truyen hinh ky thuat so..., ky su kiem thu phan mem. Lien he Dieu phoi vien chuong trinh: TS. Dao Viet Hung Email: hung.daoviet@hust.edu.vn Tac gia: Truong Thu Huong Nhung tin moi hon DTVT - Co hoi du hoc DTVT - NV & SK DTVT - Tuyen sinh Gioi thieu bai viet cho ban be',\n",
       " 'Please enable javascript to view this site. huongnghiep.hocmai.vn | March 27, 2024 Top Chuyen nganh Ky thuat Dien tu - Vien thong - Dai Hoc Bach Khoa Ha Noi Review nganh Ky thuat Dien tu - Vien thong Dai hoc Bach Khoa Ha Noi (HUST): Dung cong nghe hien dai thay doi van minh nhan loai Khi cuoc cach mang 4.0 bung no, nganh Ky thuat dien tu - Vien thong tro thanh mot trong nhung nganh mo ra nhieu co hoi nhat cho cac ban tre. La mot trong nhung truong dao tao hang dau ve dien tu - vien thong, Dai hoc Bach Khoa Ha Noi la cai ten duoc rat nhieu nguoi chu y. Hom nay hay cung Huongnghiep.hocmai.vn review chi tiet de cac ban co cai nhin ro hon ve nganh Ky thuat Dien tu - Vien thong cua DHBK HN nhe! Dien tu vien thong dong vai tro quan trong trong cuoc cach mang 4.0 Muc luc 1. Nganh Ky thuat Dien tu - Vien thong la gi? Ky thuat Dien tu - Vien thong la nganh nghien cuu ve viec ung dung ky thuat tien tien va cong nghe hien dai nhat de tao ra cac thiet bi ve tinh, cap va thiet bi dien tu nhu: dien thoai, may tinh bang, may tinh ca nhan, Tivi,.... Nho do giup con nguoi xay dung duoc he thong mang thong tin lien lac toan cau, giup viec trao doi thong tin duoc tien hanh thuan loi bat chap thoi gian va khong gian khac nhau. Nganh nay gom co hai linh vuc chinh: - Dien tu: Nghien cuu va che tao ra vi mach dien tu, day chinh la bo nao dieu khien tat ca cac hoat dong cua thiet bi thong minh - Vien thong: Nghien cuu va su dung cac thiet bi tao nen mang vien thong (thiet bi truyen thong tin tu dau phat den dau thu) gom co nhung thanh phan chinh la: thiet bi truyen dan, thiet bi chuyen mach, thiet bi dau cuoi, moi truong truyen. 2. Nganh Ky thuat Dien tu - Vien thong Dai hoc Bach Khoa Ha Noi co gi? Khoa Ky thuat Dien tu - Vien thong hien dang rat hot cua Bach Khoa o hien tai va ca trong tuong lai. Khi theo hoc, ban se duoc lua chon mot trong cac chuyen nganh: - Dien tu va ky thuat may tinh: chuyen ve lap trinh cho cac he thong nhung - Ky thuat thong tin - truyen thong: chuyen ve he thong vien thong, ky thuat truyen so lieu. - Ky thuat y sinh: chuyen nghien cuu cac thiet bi y te phuc vu kham chua benh - Ky thuat dien tu hang khong vu tru: nghien cuu ve cac loai may bay may bay tu hanh - Ky thuat Da phuong tien: nghien cuu ve cac thiet bi nghe nhin, dieu chinh am do cua cac thiet bi thu am,... Noi dung chuong trinh hoc: Tai Dai hoc Bach Khoa Ha Noi, ban co the theo hoc he cu nhan (4 nam), he ky su (5 nam), he tich hop cu nhan - thac si (5,5 nam) hoac He Cu nhan - thac si - tien si (8,5 nam). Ben canh do, ban cung co co hoi tham gia chuong trinh song bang voi cac doi tac cua truong theo mo hinh: - 2+2: 2 nam dau hoc tai Dai hoc Bach Khoa Ha Noi, 2 nam cuoi se hoc tai Dai hoc Wollongong cua Uc, duoc cap bang cu nhan cua ca 2 truong - 4+2: 4 nam dau hoc tai Dai hoc Bach Khoa Ha Noi, 2 nam sau hoc tai Dai hoc Telecom ParisTech cua Phap. Sau 6 nam ban se nhan duoc bang Thac si cua DH BK HN va bang ky su cua Dai hoc Telecom ParisTech. - 4+1+3: 4 nam dau hoc tai Dai hoc Bach Khoa Ha Noi lay bang cu nhan cua DHBKHN, 1 nam tiep theo hoc Thac si tai DHBK HN va 3 nam cuoi hoc chuong trinh Tien si o vien KAIST (Han Quoc), sau do ban se co bang Tien si cua ca 2 truong. Van chua het, sinh vien Ky thuat Dien tu - Vien thong cua Dai hoc Bach Khoa Ha Noi con co the chon hoc chuong trinh tien tien. O day, ngon ngu giang day se hoan toan bang tieng Anh voi doi ngu giang vien hang dau trong nuoc va quoc te. Mot lua chon khac cho cac ban sinh vien yeu thich dien tu - vien thong la chuong trinh lien ket voi Dai hoc Leibniz Hannover (Duc). Mot so diem khac biet cua chuong trinh nay la: - Ngon ngu dao tao bang tieng Viet va den nam 3 ban se duoc hoc mot so mon bang tieng Duc voi giang vien nuoc ngoai. - Giai doan 1 (4 nam dau: ban se hoc tai Dai Hoc Bach Khoa Ha Noi theo chuong trinh thong nhat giua hai truong, ngon ngu hoc la tieng Viet va duoc hoc tang cuong 5 ky tieng Duc. - Den giai doan 2 ban se duoc lua chon: + Neu co du dieu kien chuyen mon va ngoai ngu ban se chuyen sang hoc bang thac su cua Dai hoc DH Leibniz Hannover (Duc) +Neu khong chuyen tiep ban co the tiep tuc hoc tai Dai hoc Bach Khoa Ha Noi theo chuong trinh thong nhat giua hai truon. Lam luan van tot nghiep bang tieng Anh hoac tieng Duc. Sau do neu co nguyen vong ban co the hoc tiep 1 nam de lay bang thac si. 3. Diem chuan nganh Ky thuat Dien tu - Vien thong Dai hoc Bach Khoa Ha Noi TruongChuyen nganhNganh202320222021 Dai Hoc Bach Khoa Ha Noi Ky thuat Dien tu - Vien thong Ky thuat dien tu - vien thong 66.4664.1726.4625.9924.514.0526.8Ghi chuDanh gia tu duy Danh gia tu duy CT tien tien Diem TN THPT Diem TN THPT CT tien tien TN THPT Danh gia tu duy Danh gia tu duy CT tien tien Diem TN THPT Diem TN THPT CT tien tien TN THPT 4. Hoc Ky thuat Dien tu - Vien thong ra truong lam gi? Ky thuat Dien tu - Vien thong: Nganh hoc mo ra nhieu co hoi Qua nhung phan tren ban cung hieu duoc Ky thuat Dien tu - Vien thong la nganh \"thay doi van minh nhan loai\". Chinh vi vay co hoi nghe nghiep cho nganh nay vo cung lon. Ban co the lam viec tai: - Cac doanh nghiep nghien cuu, san xuat, phat trien cac san pham dien tu: chuyen vien tu van, van hanh, thiet ke, dieu hanh ky thuat; chuyen gia thiet ke chipset (bo phan khong the thieu cua cac thiet bi thong minh); nghien cuu vien phat trien san pham thiet bi dien tu, cong nghe ung dung nhu truyen van vat ly ung dung, cong nghe di dong,... - Cong ty cung cap dich vu internet: Ky su thiet ke va xay dung he thong ha tang truy cap internet; ky su su phan tich tich hop cac he thong, dich vu gia tang, ung dung tren cac co so ha tang san co. - Cong ty vien thong: chuyen vien thiet ke truyen dan, bao tri, van hanh; chuyen vien quy hoach, thiet ke mang va toi uu mang; truong bo phan ky thuat,... - Dai phat thanh truyen hinh, cong ty tu van mang vien thong: chuyen vien thiet ke, tu van, van hanh, dieu hanh ky thuat - Cac hang thiet bi: chuyen vien quan ly ky thuat va san pham, quan ly du an kinh doanh - Cac tap doan, cong ty da quoc gia ve Dien tu - Vien thong Theo thong ke, 95% sinh vien khoa Ky thuat Dien tu - Vien thong Dai hoc Bach Khoa Ha Noi co viec lam ngay sau mot nam tot nghiep voi muc luong khoi diem tu 8-20 trieu dong. Dieu nay du thay duoc suc hap dan cua nganh dang de cac ban can nhac dung khong nao! Tin tuc moi nhat']"
      ]
     },
     "execution_count": 16,
     "metadata": {},
     "output_type": "execute_result"
    }
   ],
   "source": [
    "refs"
   ]
  },
  {
   "cell_type": "code",
   "execution_count": 17,
   "metadata": {},
   "outputs": [],
   "source": [
    "import textwrap\n",
    "\n",
    "def wraptext(documents, width=120):\n",
    "    for idx, doc in enumerate(documents, start=1):\n",
    "        print(f\"Document {idx}:\")\n",
    "        wrapped_lines = textwrap.wrap(doc, width=width)\n",
    "        for line in wrapped_lines:\n",
    "            print(line)\n",
    "        print(\"-\" * width)"
   ]
  },
  {
   "cell_type": "code",
   "execution_count": 18,
   "metadata": {},
   "outputs": [
    {
     "name": "stdout",
     "output_type": "stream",
     "text": [
      "Document 1:\n",
      "Co nen hoc nganh ky thuat dien tu vien thong hay khong? 16 nghin nguoi/nam la nhu cau tuyen dung lao dong lam viec nganh\n",
      "ky thuat dien tu vien thong trong giai doan tu 2020 - 2025. Dieu nay chung minh, nhan luc nganh nay dang tuyen dung\n",
      "nhieu va co xu huong tang qua cac nam. Vay nganh ky thuat dien tu vien thong la gi? Hoc nganh nay o dau? Thi nhung mon\n",
      "nao? Co hoi viec lam va muc thu nhap ra sao sau khi ra truong? Tat ca se duoc TopCV cung cap chi tiet trong bai viet sau\n",
      "day de ban cung tim hieu, tu do de dang dua ra su lua chon. Noi dung bai viet Nganh ky thuat dien tu vien thong la gi?\n",
      "Nganh ky thuat dien tu vien thong la nganh hoc dao tao nguon nhan luc co chuyen mon va ky nang ve viec thiet ke, phat\n",
      "trien va van hanh cac he thong va cong nghe lien quan den vien thong va truyen thong dien tu. Day la nganh tap trung vao\n",
      "cac cong nghe va ung dung su dung trong viec truyen tai, xu ly va quan ly thong tin qua cac mang dien tu va khong day.\n",
      "Trong do co ke den cac thiet bi truyen thong va thiet bi dien tu nhu: dien thoai di dong, tivi, may tinh, he thong\n",
      "nhung, cac mach dieu khien, router, anten, thiet bi phat song,v.vv.. Co hoi viec lam nganh dien tu vien thong Theo danh\n",
      "gia cua cac chuyen gia phan tich nhu cau nhan luc, nganh dien tu vien thong la mot trong nhung nhom nganh co nhu cau\n",
      "nhan luc cao trong thoi dai 4.0 hien nay. Sinh vien tot nghiep chuyen nganh nay duoc nhan dinh la co co hoi lam viec voi\n",
      "nhieu vi tri khac nhau tai cac doanh nghiep, bao gom ca doanh nghiep trong nuoc nhu: FPT, Viettel, VNPT, MobiFone,\n",
      "VinSmart, v.vv.. hay doanh nghiep nuoc ngoai nhu: SamSung, LG, Nokia, Apple, Inter, v.vv.. Mot thong ke tu Trung tam Du\n",
      "bao nhu cau nhan luc va Thong tin thi truong lao dong TPHCM cho thay, giai doan tu 2020 - 2025 nhu cau tuyen dung lao\n",
      "dong lam viec nganh dien tu vien thong la khoang 16 nghin nguoi/nam. Con so nay dang co xu huong tang len qua cac nam\n",
      "sau do. Trong khi do, dai dien Tong cong ty cong nghe cao Viettel cung tung chia se, hon 50% nhan luc ky su cua doanh\n",
      "nghiep nay la chuyen nganh dien tu vien thong. Moi nam doanh nghiep tuyen khoang 100 ky su moi ra truong. Nhung con so\n",
      "\"biet noi\" tren cho thay, tiem nang va co hoi viec lam cho nhung nguoi duoc dao tao nganh ky thuat dien tu vien thong la\n",
      "rat lon. Tot nghiep nganh nay sinh vien co the lam viec tai cac vi tri nhu: chuyen vien tu van, thiet ke va van hanh ky\n",
      "thuat tai cac dai phat thanh, truyen hinh, cong ty dich vu ky thuat dien tu vien thong; Ky su thiet ke van hanh he thong\n",
      "thong tin da phuong tien tai cac cong ty truyen thong da phuong tien; Ky su viet phan mem may tinh, v.vv.. Chua ke,\n",
      "trong xu huong chuyen doi so nhu hien nay, nhu cau nhan luc cho nganh dien tu vien thong la rat lon va van con thieu.\n",
      "Cac cong ty vien thong, cong ty san xuat thiet bi dien tu, nha mang se tro thanh \"mien dat hua\" cho cac tan ky su tot\n",
      "nghiep chuyen nganh nay. TopCV co the gioi thieu hang tram vi tri cong viec nganh ky thuat dien tu vien thong dang tuyen\n",
      "dung de ban tham khao va nam bat co hoi viec lam cua nganh nay sau khi ra truong. Mot so cau hoi ve nganh ky thuat dien\n",
      "tu vien thong De giup cac ban hieu sau hon ve nganh nay, sau day TopCV se giai dap mot so cau hoi lien quan den nganh ky\n",
      "thuat dien tu vien thong. Nganh ky thuat dien tu vien thong thi khoi nao? Ma nganh ky thuat dien tu vien thong thuong la\n",
      "7520207. Tuy nhien, ma nganh nay cung co su thay doi tuy theo truong dao tao, vi du tai Dai hoc Dien luc nganh nay co ma\n",
      "la 7510302, Dai hoc Bach khoa Ha Noi ma nganh la ET-E4y, Dai hoc Cong nghe - DHQG Ha Noi ma nganh la CN9 v.vv.. Ban nen\n",
      "can cu vao truong hoc minh lua chon de tra cuu chinh xac ma nganh. Hang nam nganh ky thuat dien tu vien thong duoc tuyen\n",
      "sinh voi so luong lon va thuong thi vao voi 2 khoi: Ngoai ra, mot so truong con xet tuyen cac to hop gom: Neu ban hoc\n",
      "tot va nam vung kien thuc cac mon hoc nay cong them niem dam me voi cac thiet bi dien tu, vien thong thi nganh ky thuat\n",
      "dien tu vien thong la nganh ban co the can nhac lua chon de dang ky thi tuyen sau khi tot nghiep THPT. Diem chuan nganh\n",
      "ky thuat dien tu vien thong Doi voi nganh ky thuat dien tu vien thong, moi nam tuyen sinh diem chuan se co su thay doi,\n",
      "khac nhau giua cac truong dai hoc/hoc vien/cao dang co dao tao nganh nay. Bang sau day TopCV tong hop diem chuan nganh\n",
      "ky thuat dien tu vien thong moi nhat tai mot so truong dai hoc/hoc vien, ban co the tham khao: Ghi chu: Nganh ky thuat\n",
      "dien tu vien thong hoc gi? Hien nay cac truong dai hoc, hoc vien dao tao nganh ky thuat dien tu - vien thong theo khung\n",
      "chuong trinh keo dai tu 4 - 5 nam. Sau khi ra truong sinh vien se duoc cap bang cu nhan hoac ky su. So luong tin chi\n",
      "(mon hoc/hoc phan) se co su khac nhau tuy theo chuyen nganh cu the ma ban theo hoc sau khi thi dau nganh ky thuat dien\n",
      "tu vien thong. Khi theo hoc nganh nay, sinh vien se duoc dao tao cac kien thuc chuyen mon ve linh vuc dien tu, vien\n",
      "thong, bao gom ca ly thuyet va thuc hanh. Ngoai cac mon co so nganh, chuong trinh dao tao con chu trong vao viec cung\n",
      "cap kien thuc va ky nang de sinh vien co the thiet ke, xay dung, khai thac, van hanh, su dung, bao tri cac thiet bi dien\n",
      "tu, vien thong. Tuy theo chuyen nganh lua chon, nguoi hoc se duoc hoc nhung kien thuc chuyen sau hon. Duoi day la mot so\n",
      "mon ban se duoc hoc khi lua chon nganh ky thuat dien tu vien thong: Ngoai ra sinh vien con duoc hoc cac mon hoc khac\n",
      "nhu: Dien tu cong suat, thiet ke tong hop he thong so, Kien truc may tinh, Lap trinh nang cao, ky thuat sieu cao tan,\n",
      "tri tue nhan tao va ung dung, Quy hoach va quan ly mang vien thong, thong tin ve tinh, thong tin quang soi,v.vv.. Thong\n",
      "thuong so luong hoc phan hoac noi dung hoc phan se co su khac nhau giua bac dao tao cu nhan va ky su. Ky thuat dien tu\n",
      "vien thong hoc truong nao tot? La mot nganh co yeu cau dau vao cao va chat luong dau ra tot, ky thuat dien tu vien thong\n",
      "hien duoc nhieu truong dua vao he thong dao tao. Cac truong dao tao nganh ky thuat dien tu vien thong Neu ban dang phan\n",
      "van trong viec lua chon hoc nganh ky thuat dien tu vien thong tai truong nao thi hay cung TopCV diem qua danh sach cac\n",
      "truong dai hoc co dao tao nganh ky thuat dien tu - vien thong sau day: Mien Bac Mien Trung: Mien Nam: Hoc ky thuat dien\n",
      "tu vien thong truong nao tot? Viec lua chon truong nao tot de theo duoi dam me ky thuat dien tu- vien thong cua moi\n",
      "nguoi co the xuat phat tu nhieu tieu chi khac nhau. Sau day TopCV dua ra goi y mot so truong dai hoc uy tin va noi tieng\n",
      "trong dao tao nganh ky thuat dien tu vien thong de ban co the tham khao va dua ra su lua chon phu hop cho minh: Cac\n",
      "truong quoc te noi tieng dao tao ky thuat dien tu vien thong Hien nay tren the gioi co nhieu truong dao tao chuyen nganh\n",
      "ky thuat dien tu vien thong. Neu co dieu kien ve kinh te, ban co the hoc nganh nay tai cac truong dai hoc va vien cong\n",
      "nghe noi tieng dao tao ky thuat dien tu vien thong nhu: Tren day chi la cac goi y giup ban co the de dang dua ra quyet\n",
      "dinh hon khi quan tam den nganh ky thuat dien tu vien thong. Quan trong nhat la lua chon mot truong co chuong trinh dao\n",
      "tao va co so vat chat phu hop voi muc tieu hoc tap va su quan tam ca nhan cua ban. Ngoai ra, nen xem xet cac thong tin\n",
      "ve danh sach giang vien, du an nghien cuu va co hoi thuc tap, lien ket doanh nghiep de danh gia chat luong giao duc va\n",
      "kha nang phat trien nghe nghiep trong nganh ky thuat dien tu vien thong sau khi tot nghiep. Nganh ky thuat dien tu vien\n",
      "thong luong bao nhieu? Muc luong trong nganh ky thuat dien tu vien thong kha da dang va phu thuoc vao nhieu yeu to nhu:\n",
      "vi tri lam viec, kinh nghiem lam viec, tinh chat cong viec, quoc gia,v.vv.. Tuy nhien, nhin chung nganh ky thuat dien tu\n",
      "vien thong thuong co muc luong kha hap dan. Doi voi cac chuyen gia va ky su dien tu vien thong co kinh nghiem va trinh\n",
      "do cao, muc luong co the rat cao va vuot qua muc trung binh cua nhieu nganh khac. Duoi day la muc luong cua mot so vi\n",
      "tri cong viec trong nganh ky thuat dien tu vien thong do TopCV tong hop ma ban co the tham khao: Luu y, cac chuyen gia\n",
      "va ky su dien tu vien thong co ky nang dac biet, nam vung cac cong nghe moi va co kinh nghiem lam viec trong nhieu du an\n",
      "quan trong thuong co co hoi nhan duoc muc luong cao hon va cac phuc loi hap dan tu cac cong ty va to chuc. Ban co the\n",
      "cap nhat nhanh viec lam nganh dien tu vien thong de tham khao muc thu nhap tai cac vi tri cong viec trong nhom nganh nay\n",
      "hien nay. Hoc ky thuat dien tu vien thong ra lam gi? Van de viec lam sau khi ra truong luon la noi ban khoan va tran tro\n",
      "cua cac ban sinh vien. Doi voi nganh ky thuat dien tu vien thong, sau khi tot nghiep ra truong, voi nhung kien thuc\n",
      "chuyen mon, ky nang da hoc va duoc dao tao, ban co co hoi lam viec tai nhieu vi tri khac nhau tai da dang cac cong ty,\n",
      "doanh nghiep. TopCV se tong hop mot so vi tri cong viec danh cho cac sinh vien hoc nganh ky thuat dien tu vien thong\n",
      "ngay sau day de ban tham khao ve thi truong tuyen dung cua nhom nganh nay hien nay. Nhan vien ky thuat dien tu - vien\n",
      "thong Nhan vien ky thuat dien tu - vien thong la nguoi co chuyen mon va ky nang trong linh vuc dien tu - vien thong. Voi\n",
      "nhung sinh vien tot nghiep chuyen nganh ky thuat dien tu vien thong, co the ung tuyen vao vi tri nhan vien ky thuat dien\n",
      "tu - vien thong tai hau het cac to chuc, doanh nghiep. Mo ta cong viec: Cong viec cua nhan vien ky thuat dien tu - vien\n",
      "thong se lien quan den cac nhiem vu gom: Co the thay vi tri cong viec nay gan nhu bao quat toan bo he thong dien tu -\n",
      "vien thong trong don vi lam viec. Neu dap ung yeu cau cong viec va hoan thanh tot nhiem vu duoc giao, nguoi lam vi tri\n",
      "nay co the thang tien len chuc vu chuyen vien, ky su hoac cap bac cao hon. Apply nhan vien ky thuat dien tu - vien thong\n",
      "ngay tren TopCV de co co hoi tim kiem viec lam phu hop. Ky su vien thong Ky su vien thong la nhung chuyen gia co trinh\n",
      "do ky thuat va kien thuc chuyen sau ve cac he thong vien thong. Vi tri nay thuong duoc cac cong ty vien thong tuyen\n",
      "dung. Neu ban tot nghiep nganh ky thuat dien tu - vien thong he dao tao ky su thi day la mot trong nhung vi tri cong\n",
      "viec co the apply sau khi ra truong de co co hoi \"dau quan\" cho nhung cong ty vien thong lon trong nuoc nhu: VNPT,\n",
      "Viettel, MobiFone, Vinaphone,v.vv.. Mo ta cong viec: Ky su thiet ke va viet phan mem Sinh vien nganh ky thuat dien tu\n",
      "vien thong co the lam viec trong cac cong ty cong nghe hoac cong ty san xuat thiet bi vien thong voi vi tri ky su thiet\n",
      "ke va viet phan mem cho may tinh, dien thoai thong minh, xe o to, robot,v.vv.. Day la vi tri cong viec yeu cau co trinh\n",
      "do ky thuat va kien thuc chuyen sau ve phat trien phan mem dien tu vien thong. Cong viec cua nguoi lam o vi tri nay lien\n",
      "quan den viec thiet ke, phan tich, lap trinh va trien khai cac ung dung va he thong phan mem. Mo ta cong viec: Ky su vo\n",
      "tuyen Ky su vo tuyen con duoc goi la ky su vien thong vo tuyen hoac ky su RF - Radio Frequency. Day la vi tri quan trong\n",
      "yeu cau nguoi lam co kien thuc va ky nang chuyen sau ve vien thong vo tuyen, tuong tac voi song radio va cac he thong\n",
      "truyen thong khong day. Vi tri cong viec nay lien quan den thiet ke, trien khai va duy tri cac he thong va thiet bi vo\n",
      "tuyen. Mo ta cong viec: Chuyen vien van hanh, giam sat ha tang vien thong Chuyen vien van hanh va giam sat ha tang vien\n",
      "thong duoc danh gia la mot vi tri cong viec quan trong trong nganh vien thong va mang. Cong viec nay lien quan den quan\n",
      "ly va duy tri cac he thong ha tang vien thong, dam bao su hoat dong lien tuc va on dinh cua mang tai cac cong ty, doanh\n",
      "nghiep hoac dai phat thanh, dai truyen hinh,v.vv.. Mo ta cong viec: Truong bo phan ky thuat Voi nhung nguoi co kinh\n",
      "nghiem lam viec lau nam trong nghe va nang luc chuyen mon tot, hoan toan co the lam viec o vi tri truong bo phan ky\n",
      "thuat tai cac cong ty, doanh nghiep. Vi tri nay la nguoi dung dau va co trach nhiem quan ly va dieu hanh cac hoat dong\n",
      "ky thuat trong mot bo phan hoac mot don vi to chuc. Mo ta cong viec: Voi vi tri nay, lo trinh thang tien co the giup ban\n",
      "phat trien de tro thanh quan ly du an vien thong hoac giam doc ky thuat. Tuy nhien, de co the lam viec o nhung vi tri\n",
      "cao hon doi hoi ban phai co kinh nghiem nhieu nam lam viec trong linh vuc dien tu vien thong, tung lam viec tai nhieu du\n",
      "an voi vi tri tuong duong va co ky nang lanh dao. >>> Kham pha ngay cac vi tri tuyen dung truong bo phan ky thuat voi\n",
      "muc thu nhap hap dan va che do dai ngo tot tren TopCV de co co hoi ket noi voi cac nha tuyen dung chat luong. Chuyen gia\n",
      "phan tich va tu van ky thuat dien tu vien thong Voi kien thuc chuyen sau ve ky thuat dien tu vien thong, ban hoan toan\n",
      "co the lam viec tai vi tri chuyen gia phan tich, tu van trong linh vuc dien tu - vien thong. O vi tri nay, nguoi lam\n",
      "viec can co ky nang phan tich, tu van, danh gia va chuyen mon vung de thuc hien cac nhiem vu phan tich, tu van va cung\n",
      "cap cac giai phap, khuyen nghi de cai thien hieu suat va kha nang canh tranh cua cac he thong vien thong. Mo ta cong\n",
      "viec: Ngoai ra, neu dam me nghien cuu va phat trien, sau khi tot nghiep nganh ky thuat dien tu vien thong ban hoan toan\n",
      "co the tham gia vao hoat dong nghien cuu va phat trien cong nghe moi trong nganh ky thuat dien tu vien thong. De thuc\n",
      "hien dieu nay, nhieu nguoi lua chon tro thanh can bo giang day, nghien cuu trong cac vien nghien cuu, truong dai hoc,\n",
      "cao dang ve ky thuat dien tu vien thong. Tren day chi la mot so goi y cong viec ma ban co the lam sau khi tot nghiep va\n",
      "duoc dao tao ve nganh ky thuat dien tu vien thong. Co the noi, hoc nganh nay mo ra nhieu co hoi nghe nghiep khac nhau\n",
      "cho cac ban sinh vien. Cac cong ty vien thong, cong ty san xuat thiet bi dien tu, cong ty cong nghe, dai phat thanh, dai\n",
      "truyen hinh,v.vv.. va to chuc nghien cuu deu co nhu cau tuyen dung cac chuyen gia trong linh vuc nay. Sau khi xac dinh\n",
      "duoc vi tri cong viec muon ung tuyen, viec tiep theo ban can lam la chuan bi mot ban CV chin chu, dep mat va chuyen\n",
      "nghiep gui den nha tuyen dung. Hay tham khao cach viet CV tim viec ky thuat dien tu ma TopCV da chia se de cau truc mot\n",
      "ban CV ung y ban nhe. Tim viec lam nganh ky thuat dien tu vien thong o dau? Nhu cau viec lam nganh ky thuat dien tu vien\n",
      "thong rat lon va da dang vi tri tuyen dung. Tuy nhien viec tim duoc mot ben do cong viec voi vi tri phu hop la dieu\n",
      "khong de dang, nhat la voi cac ban sinh vien moi ra truong. Neu ban dang lo lang tim kiem nhung co hoi viec lam trong\n",
      "nganh ky thuat dien tu vien thong hoac mong muon co them nhieu thong tin tuyen dung trong nganh nay thi TopCV la lua\n",
      "chon dang can nhac. La nen tang tuyen dung va viec lam tien phong tai Viet Nam, TopCV giup ban tiep can voi hang trieu\n",
      "thong tin tuyen dung o nhieu vi tri cong viec khac nhau. Bang viec ung dung tri tue nhan tao, TopCV de dang ket noi ung\n",
      "vien voi mang luoi nha tuyen dung tai nhieu tinh thanh khac nhau. Dac biet, TopCV giup ban co co hoi duoc ket noi va\n",
      "tiep can cac vi tri cong viec hap dan tu cac doanh nghiep trong nuoc cung nhu quoc te co uy tin trong linh vuc dien tu\n",
      "vien thong nhu: FPT, Viettel, MobiFone, VNPT, SamSung,v.vv.. Tu do thuan loi tim ra \"mien dat hua\" cho minh. Khong chi\n",
      "ket noi nhanh chong, TopCV con ho tro ban tao CV chuyen nghiep, viet so yeu ly lich dung chuan va cung cap them nhieu\n",
      "kien thuc ve ky nang phong van, ky nang tao an tuong voi nha tuyen dung de tang ty le thanh cong khi tim viec. Tren day\n",
      "la nhung thong tin chi tiet ve nganh ky thuat dien tu vien thong ma TopCV vua cap nhat va gui den ban. Hy vong voi nhung\n",
      "thong tin nay, ban da hieu ro ve nganh ky thuat dien tu vien thong nhu: mon thi, co hoi nghe nghiep, muc thu nhap,v.vv..\n",
      "tu do dua ra su lua chon cong viec phu hop sau khi ra truong, dong thoi tu tin lua chon nganh hoc neu ban dang lung tung\n",
      "trong viec chon nganh, chon truong hoc sau khi tot nghiep THPT. Chuc cac ban thanh cong va dung quen TopCV van dong hanh\n",
      "trong suot hanh trinh tim viec thong qua viec cap nhat nhanh chong va lien tuc cac cong viec moi nhat ban nhe!.\n",
      "------------------------------------------------------------------------------------------------------------------------\n",
      "Document 2:\n",
      "Tim hieu kien thuc hoc va co hoi viec lam nganh Dien tu vien thong MUC LUC 1. Nganh dien tu vien thong la gi? Va ung\n",
      "dung trong doi song 2. Nganh dien tu vien thong hoc nhung kien thuc gi? 3. Dinh huong cong viec nganh Dien tu vien\n",
      "thong? Co hoi viec lam co rong mo? 4. Can trang bi gi de hoc va lam viec tot nganh dien tu vien thong 5. Cac truong dao\n",
      "tao nganh dien tu vien thong Nganh dien tu vien thong la gi? Va ung dung trong doi song Dien tu vien thong la nganh su\n",
      "dung nhung cong nghe tien tien de tao ra cac thiet bi giup cho viec lien lac, truy xuat thong tin cua ca nhan hoac to\n",
      "chuc, dien tu vien thong duoc ung dung cao o nhieu linh vuc trong cuoc song. * Linh vuc mang, vien thong: cac thiet bi\n",
      "truyen tin tren toan cau nhu he thong truyen dan: cap quang, ve tin, he thong truyen tin khong day (vi ba) v.v... Thanh\n",
      "tuu moi day nhat la xay dung he thong 5g va cac thiet bi he thong hoi nghi truyen hinh * Linh vuc dinh vi dan duong: la\n",
      "mot linh vuc dac biet quan trong nganh Hang khong va Hang hai. Nhung tram kiem soat khong luu mat dat la noi nhung ki su\n",
      "Dien tu Vien thong lam nhiem vu dan duong cho hang nghin chuyen bay, tau thuy hoat dong an toan * Linh vuc nghien cuu,\n",
      "sang tao cong nghe, thiet bi moi: la linh vuc doi hoi nguoi hoc phai co su sang tao dua tren nhung ung dung cua xa hoi\n",
      "noi chung va nganh Dien tu Vien thong noi rieng, phat trien cac cong nghe moi, ung dung moi huu ich va don gian hon cho\n",
      "moi nguoi la linh vuc thuc day su phat trien cua toan bo nganh Dien tu Vien thong * Linh vuc dien tu y sinh: nganh ddien\n",
      "tu vien thong la nen tang de tao ra cac may moc, thiet bi dien tu hien dai trong linh vuc y te va sinh hoc. * Linh vuc\n",
      "am thanh, hinh anh: nganh ky thuat Dien tu Vien thong dong gop 1 phan quan trong cua nhu viec thiet ke ra cac trang\n",
      "thiet bi nghe nhin, dieu chinh am do cac thiet bi thu am v.v... Co the noi tat ca cac thiet bi trong cuoc song hien dai\n",
      "ngay nay nhu : may thu hinh, dien thoai, may tinh ca nhan, may tinh bang,... deu co dau an cua nganh Dien tu Vien thong\n",
      ", la nen tang co ban nhat cua cach mang cong nghiep 4.0, cua xu huong chuyen doi so trong moi linh vuc cua doi song,\n",
      "kinh te, xa hoi. Nganh dien tu vien thong hoc nhung kien thuc gi? Hieu tu ten goi, co rat nhieu nguoi cho rang Dien tu\n",
      "Vien thong la mot phan cua Cong nghe thong tin, cach hieu nay khong hoan toan sai nhung chua chinh xac. Giai thich co\n",
      "ban thi Nganh Dien tu-vien thong va nganh Cong nghe thong tin la hai nganh rat gan voi nhau, co nhieu kien thuc chung ve\n",
      "cong nghe tuy nhien di vao chuyen sau se thay ro su khac biet rang: CNTT tap trung vao xay dung phan mem con chuyen\n",
      "nganh DTVT tap trung ve phan cung. Theo hoc nganh Dien tu - Vien thong, sinh vien duoc trang bi khoi kien thuc theo 3\n",
      "tang cap do: Cap do 1: Cac kien thuc nen tang va chuyen sau ve cac cong nghe, ky thuat: Giai tich mach dien; truong dien\n",
      "tu; ky thuat lap trinh; dien tu so; nguyen ly truyen thong; vi xu ly; dien tu thong tin; ky thuat truyen so lieu va\n",
      "mang; xu ly tin hieu; thiet ke so dung ngon ngu mo ta phan cung; he thong vien thong; ky thuat sieu cao tan va anten,...\n",
      "Cap do 2: nganh Cong nghe Ky thuat Dien tu - Vien thong cung cap cho sinh vien cac ky nang van hanh bao tri, sua chua,\n",
      "cai tien, nang cap cac he thong, thiet bi dien tu vien thong Cap do 3: Nang cao hon la kha nang tim hieu, nghien cuu,\n",
      "phat trien ung dung cong nghe ky thuat dien tu vien thong trong cong nghiep va trong doi song dan dung. Thuc hanh, van\n",
      "dung ly thuyet la phan hoc quan trong nhat trong nganh DTVT, cu the la nhung cuoc thi day sang tao nhu: robocon Dinh\n",
      "huong cong viec nganh Dien tu vien thong? Co hoi viec lam co rong mo? Hoc nganh dien tu vien thong ra lam gi? co the dam\n",
      "nhan nhung vi tri nao? Lam viec o cong ty nao la cau hoi cua tat ca sinh vien nganh vien thong can biet va nen tim hieu:\n",
      "* Chuyen vien quy hoach, thiet ke va toi uu hoa he thong mang tai cac cong ty vien thong < VNPT, Viettel, Vinaphone,\n",
      "Mobiphone ...;> * Chuyen vien thiet ke, tu van va dieu hanh cong tac ky thuat tai cac dai phat thanh, truyen hinh < VTV,\n",
      "HTV,SCTV, cac dai truyen hinh dia phuong...> * Chuyen vien nghien cuu va thiet ke tai cac cong ty san xuat thiet bi dien\n",
      "tu vien thong, am thanh hinh anh, cong ty thiet ke san xuat vi mach. < Aver, Maxhub, FPT, Samsung, LG, Intel,\n",
      "Panasonic..> * Chuyen vien van hanh, thiet ke va bao tri thiet bi dien tu, tu dong hoa trong cac don vi, doanh nghiep. *\n",
      "Khi co kinh nghiem va thoi gian lam viec co the giu vi tri Truong bo phan ky thuat, Giam doc ky thuat tai cac doanh\n",
      "nghiep, cac cong ty trong linh vuc dien tu, vien thong, truyen thong. * Co the tro thanh can bo giang day, nghien cuu\n",
      "tai cac truong dai hoc, cao dang va Vien nghien cuu. The gioi noi chung va Viet Nam noi rieng dang song trong ky nguyen\n",
      "so. Cac doanh nghiep ve cong nghe ngay cang nhieu va phat trien rat nhanh, di cung do la nhu cau ve nguon nhan luc cung\n",
      "tang cao. Du bao cua Vietnamworks cho thay, nuoc ta dang thieu 400.000 nhan luc cong nghe thong tin va dien tu vien\n",
      "thong va moi nam can cung ung moi toi 78.000 lao dong. Tuy nhien trong thuc te, moi nam nuoc ta chi co khoang 50.000\n",
      "sinh vien tot nghiep, dan den \"con khat\" nhan luc doi voi nganh hoc nay duong nhu chua bao gio ha. Can trang bi gi de\n",
      "hoc va lam viec tot nganh dien tu vien thong Khong chi nganh DTVT ma khi lua chon nganh hoc va viec lam, can tim thay\n",
      "duoc su dam me va thich thu. Dieu nay giup nguoi hoc va nguoi lam viec tim thay duoc niem vui trong cong viec, cong viec\n",
      "khong nham chan. Con rieng trong nganh DT VT nen co them nhung to chat ve: su kien tri, nhan nai, ky nang ngoai ngu va\n",
      "kha nang lam viec nhom. Cac truong dao tao nganh dien tu vien thong Voi he chinh quy Dai hoc, dao tao nganh Dien tu vien\n",
      "thong co the ke den cac truong voi be day va co ty le sinh vien dau ra tot nhat: Khoa dien tu vien thong dai hoc bach\n",
      "khoa da nang Truong DH Bach khoa Ha Noi Truong DH Bach khoa HCM (DH Quoc gia HCM) Truong DH khoa hoc (DH Hue) Truong Hoc\n",
      "vien Cong nghe Buu chinh Vien thong Truong DH Cong nghe (DH Quoc gia Ha Noi) Dai hoc Cong nghe TP.HCM Dai hoc Su pham Ky\n",
      "thuat TP.HCM Dai hoc Dien luc - Ha Noi DANG KY TU VAN NGAY HOM NAY Tin khac BANG GIA MAN HINH TUONG TAC 65INCH RE NHAT\n",
      "2022 Review loa hoi nghi bluetooth Maxhub BM21 Lien ket quang hoc (Optical Bonding) la gi? So sanh cong nghe LED Edge-\n",
      "lit (chieu sang canh) va Back-lit (chieu sang nen) So sanh su khac biet giua man hinh cam ung IR va PCAP So sanh man\n",
      "hinh tuong tac: MAXHUB V5 Transcend vs LG CreateBoard(tm) Vi sao nen su dung tinh nang Automatic Framing cua Polycom\n",
      "Studio? Cac loai cong nghe man hinh cam ung Tru So Chinh TP. Ho Chi Minh Dia chi : T08, duong so 20, KDT Him Lam, P. Tan\n",
      "Hung, Q.7, HCM Hotline : 0918.325.086 Email : info@baoantelecom.com Chi nhanh Ha Noi Dia chi : P.201, 627 Vu Tong Phan,\n",
      "Khuong Dinh, Thanh Xuan, Ha Noi Hotline : 0911.527.086 Email : info@baoantelecom.com Chi nhanh Da Nang Dia chi : H53/15\n",
      "K729 Ngo Quyen, Q. Son Tra, Da Nang Hotline : 0918.325.086 Email : info@baoantelecom.com\n",
      "------------------------------------------------------------------------------------------------------------------------\n",
      "Document 3:\n",
      "Elitech - Dien tu vien thong Chuong trinh dao tao tai nang He thong dien tu thong minh va Internet van vat (Chuong trinh\n",
      "thuoc Vien Dien tu - Vien thong) De cuong chuong trinh dao tao, tai tai day ! la nganh co nhu cau cao ve nhan luc o Viet\n",
      "Nam va tren the gioi. Theo hoc chuong trinh nay, sinh vien duoc trang bi mot cach toan dien ca ve ky nang chuyen mon va\n",
      "ky nang mem de co the tro thanh nhung nha lanh dao, ky su va chuyen gia gioi trong: * Nghien cuu phat trien, thiet ke,\n",
      "che tao, van hanh cac he thong dien tu thong minh nhu thiet ke vi mach, he thong nhung, cac he thong dien tu ung dung\n",
      "trong truyen thong, y te, dieu khien, tu dong hoa co huong toi cac ung dung thong minh nhu hoc may, tri tue nhan tao. *\n",
      "Phat trien cac nen tang phan cung, phan mem, cac phuong thuc truyen thong va ung dung cho Internet van vat (Internet of\n",
      "Things) cung nhu cac he thong truyen thong tuong lai. Chuong trinh dao tao tai nang He thong Dien tu thong minh va IoT\n",
      "duoc giang day bang tieng Viet va duoc thiet ke bao gom khoi kien thuc toan hoc va khoa hoc co ban, khoi kien thuc co so\n",
      "cot loi, khoi kien thuc chuyen sau cua nganh DT-VT, khoi kien thuc bo tro ve xa hoi va ky nang mem. Dac biet, sinh vien\n",
      "duoc thuc tap trong moi truong cong nghiep va duoc tham gia nghien cuu cung voi giang vien tai Trung tam Nghien cuu cua\n",
      "Vien DT-VT tu nam thu 3. Ma xet tuyen: Chi tieu tuyen sinh: 30 Kien thuc, ky nang dat duoc sau tot nghiep Kien thuc *\n",
      "Sinh vien tot nghiep co kha nang ap dung cac kien thuc toan hoc va khoa hoc co ban, cac kien thuc co so nganh, cac kien\n",
      "thuc cot loi nganh ket hop kha nang khai thac, su dung cac phuong phap, cong cu hien dai de thiet ke, mo phong, trien\n",
      "khai, van hanh va danh gia cac he thong dien tu thong minh, cac san pham va giai phap ky thuat trong linh vuc IoT noi\n",
      "rieng va DT-VT noi chung. Ky nang * Sinh vien tot nghiep duoc trang bi ky nang va pham chat chuyen nghiep can thiet de\n",
      "co the tro thanh nha lanh dao va chuyen gia gioi; * Ky nang xa hoi can thiet de lam viec hieu qua trong nhom da nganh va\n",
      "trong moi truong quoc te; * Nang luc nhan biet van de va hinh thanh y tuong, nang luc thiet ke, nang luc trien khai,\n",
      "nang luc van hanh, su dung va khai thac cac he thong dien tu thong minh; cac san pham va giai phap ky thuat trong linh\n",
      "vuc IoT va DT-VT. Ngoai ngu * Su dung hieu qua tieng Anh trong giao tiep va cong viec, dat TOEIC tu 600 diem tro len.\n",
      "Thoi gian dao tao va kha nang hoc len bac hoc cao hon * Dao tao Cu nhan: 4 nam * Dao tao tich hop Cu nhan - Thac si: 5,5\n",
      "nam * Dao tao Cu nhan - Thac si - Tien si: 8,5 nam Dac biet, sinh vien thuoc chuong trinh nay co the tham gia chuong\n",
      "trinh song bang voi cac truong dai hoc doi tac theo cac mo hinh sau: * Mo hinh 2+2, trong do 2 nam dau hoc tai Truong\n",
      "DHBK Ha Noi, 2 nam cuoi hoc tai Truong Dai hoc Wollongong, Uc de duoc cap bang cu nhan cua ca hai truong. * Mo hinh 4+2,\n",
      "trong do 4 nam dau hoc tai Truong DHBK Ha Noi, 2 nam cuoi hoc tai Truong Dai hoc Telecom ParisTech, Cong hoa Phap de\n",
      "duoc cap song bang: bang Thac si cua Truong DHBK Ha Noi va bang Ky su cua Dai hoc Telecom ParisTech. * Mo hinh 4+1+3,\n",
      "trong do 4 nam dau hoc tai Truong DHBK Ha Noi de lay bang cu nhan, 1 nam hoc chuong trinh Thac si tai DHBK Ha Noi va 3\n",
      "nam hoc chuong trinh Tien si tai Vien KAIST, Han Quoc de duoc cap bang Tien si cua hai truong. * Co hoi hoc bong va ho\n",
      "tro hoc tap Hoc bong ho tro tai chinh Ngoai hoc bong ho tro tai chinh cua Truong DHBK Ha Noi, sinh vien theo Chuong\n",
      "trinh tai nang He thong Dien tu thong minh va IoT co co hoi nhan: o Hoc bong ho tro hoc tap, hoc bong trao doi sinh vien\n",
      "tu cac doanh nghiep va truong dai hoc quoc te la doi tac cua Vien DT-VT voi tong so tien hoc bong khoang 3 ti dong moi\n",
      "nam. Hoc bong trao doi sinh viec, hoc sau dai hoc o Sinh vien tot nghiep con co nhieu co hoi xin hoc bong du hoc tai My,\n",
      "chau Au, Nhat Ban, Singapore, Han Quoc ... o 20 - 30% tong sinh vien tot nghiep hang nam nhan hoc bong du hoc. Co hoi\n",
      "viec lam sau tot nghiep o 100% sinh vien co viec lam sau 01 nam tot nghiep hoac di hoc o bac cao hon. Vi tri viec lam\n",
      "tieu bieu: o Ky su nghien cuu phat trien trong linh vuc IoT va DT-VT. o Ky su thiet ke va toi uu mang, quan ly mang, van\n",
      "hanh he thong mang vien thong phuc tap. o Ky su thiet ke va viet phan mem cho may tinh, thiet ke va viet phan mem cho\n",
      "cac thiet bi dien tu thong minh nhu dien thoai di dong, ro bot, xe o to, dau thu truyen hinh ky thuat so..., ky su kiem\n",
      "thu phan mem. Lien he Dieu phoi vien chuong trinh: TS. Dao Viet Hung Email: hung.daoviet@hust.edu.vn Tac gia: Truong Thu\n",
      "Huong Nhung tin moi hon DTVT - Co hoi du hoc DTVT - NV & SK DTVT - Tuyen sinh Gioi thieu bai viet cho ban be\n",
      "------------------------------------------------------------------------------------------------------------------------\n",
      "Document 4:\n",
      "Please enable javascript to view this site. huongnghiep.hocmai.vn | March 27, 2024 Top Chuyen nganh Ky thuat Dien tu -\n",
      "Vien thong - Dai Hoc Bach Khoa Ha Noi Review nganh Ky thuat Dien tu - Vien thong Dai hoc Bach Khoa Ha Noi (HUST): Dung\n",
      "cong nghe hien dai thay doi van minh nhan loai Khi cuoc cach mang 4.0 bung no, nganh Ky thuat dien tu - Vien thong tro\n",
      "thanh mot trong nhung nganh mo ra nhieu co hoi nhat cho cac ban tre. La mot trong nhung truong dao tao hang dau ve dien\n",
      "tu - vien thong, Dai hoc Bach Khoa Ha Noi la cai ten duoc rat nhieu nguoi chu y. Hom nay hay cung Huongnghiep.hocmai.vn\n",
      "review chi tiet de cac ban co cai nhin ro hon ve nganh Ky thuat Dien tu - Vien thong cua DHBK HN nhe! Dien tu vien thong\n",
      "dong vai tro quan trong trong cuoc cach mang 4.0 Muc luc 1. Nganh Ky thuat Dien tu - Vien thong la gi? Ky thuat Dien tu\n",
      "- Vien thong la nganh nghien cuu ve viec ung dung ky thuat tien tien va cong nghe hien dai nhat de tao ra cac thiet bi\n",
      "ve tinh, cap va thiet bi dien tu nhu: dien thoai, may tinh bang, may tinh ca nhan, Tivi,.... Nho do giup con nguoi xay\n",
      "dung duoc he thong mang thong tin lien lac toan cau, giup viec trao doi thong tin duoc tien hanh thuan loi bat chap thoi\n",
      "gian va khong gian khac nhau. Nganh nay gom co hai linh vuc chinh: - Dien tu: Nghien cuu va che tao ra vi mach dien tu,\n",
      "day chinh la bo nao dieu khien tat ca cac hoat dong cua thiet bi thong minh - Vien thong: Nghien cuu va su dung cac\n",
      "thiet bi tao nen mang vien thong (thiet bi truyen thong tin tu dau phat den dau thu) gom co nhung thanh phan chinh la:\n",
      "thiet bi truyen dan, thiet bi chuyen mach, thiet bi dau cuoi, moi truong truyen. 2. Nganh Ky thuat Dien tu - Vien thong\n",
      "Dai hoc Bach Khoa Ha Noi co gi? Khoa Ky thuat Dien tu - Vien thong hien dang rat hot cua Bach Khoa o hien tai va ca\n",
      "trong tuong lai. Khi theo hoc, ban se duoc lua chon mot trong cac chuyen nganh: - Dien tu va ky thuat may tinh: chuyen\n",
      "ve lap trinh cho cac he thong nhung - Ky thuat thong tin - truyen thong: chuyen ve he thong vien thong, ky thuat truyen\n",
      "so lieu. - Ky thuat y sinh: chuyen nghien cuu cac thiet bi y te phuc vu kham chua benh - Ky thuat dien tu hang khong vu\n",
      "tru: nghien cuu ve cac loai may bay may bay tu hanh - Ky thuat Da phuong tien: nghien cuu ve cac thiet bi nghe nhin,\n",
      "dieu chinh am do cua cac thiet bi thu am,... Noi dung chuong trinh hoc: Tai Dai hoc Bach Khoa Ha Noi, ban co the theo\n",
      "hoc he cu nhan (4 nam), he ky su (5 nam), he tich hop cu nhan - thac si (5,5 nam) hoac He Cu nhan - thac si - tien si\n",
      "(8,5 nam). Ben canh do, ban cung co co hoi tham gia chuong trinh song bang voi cac doi tac cua truong theo mo hinh: -\n",
      "2+2: 2 nam dau hoc tai Dai hoc Bach Khoa Ha Noi, 2 nam cuoi se hoc tai Dai hoc Wollongong cua Uc, duoc cap bang cu nhan\n",
      "cua ca 2 truong - 4+2: 4 nam dau hoc tai Dai hoc Bach Khoa Ha Noi, 2 nam sau hoc tai Dai hoc Telecom ParisTech cua Phap.\n",
      "Sau 6 nam ban se nhan duoc bang Thac si cua DH BK HN va bang ky su cua Dai hoc Telecom ParisTech. - 4+1+3: 4 nam dau hoc\n",
      "tai Dai hoc Bach Khoa Ha Noi lay bang cu nhan cua DHBKHN, 1 nam tiep theo hoc Thac si tai DHBK HN va 3 nam cuoi hoc\n",
      "chuong trinh Tien si o vien KAIST (Han Quoc), sau do ban se co bang Tien si cua ca 2 truong. Van chua het, sinh vien Ky\n",
      "thuat Dien tu - Vien thong cua Dai hoc Bach Khoa Ha Noi con co the chon hoc chuong trinh tien tien. O day, ngon ngu\n",
      "giang day se hoan toan bang tieng Anh voi doi ngu giang vien hang dau trong nuoc va quoc te. Mot lua chon khac cho cac\n",
      "ban sinh vien yeu thich dien tu - vien thong la chuong trinh lien ket voi Dai hoc Leibniz Hannover (Duc). Mot so diem\n",
      "khac biet cua chuong trinh nay la: - Ngon ngu dao tao bang tieng Viet va den nam 3 ban se duoc hoc mot so mon bang tieng\n",
      "Duc voi giang vien nuoc ngoai. - Giai doan 1 (4 nam dau: ban se hoc tai Dai Hoc Bach Khoa Ha Noi theo chuong trinh thong\n",
      "nhat giua hai truong, ngon ngu hoc la tieng Viet va duoc hoc tang cuong 5 ky tieng Duc. - Den giai doan 2 ban se duoc\n",
      "lua chon: + Neu co du dieu kien chuyen mon va ngoai ngu ban se chuyen sang hoc bang thac su cua Dai hoc DH Leibniz\n",
      "Hannover (Duc) +Neu khong chuyen tiep ban co the tiep tuc hoc tai Dai hoc Bach Khoa Ha Noi theo chuong trinh thong nhat\n",
      "giua hai truon. Lam luan van tot nghiep bang tieng Anh hoac tieng Duc. Sau do neu co nguyen vong ban co the hoc tiep 1\n",
      "nam de lay bang thac si. 3. Diem chuan nganh Ky thuat Dien tu - Vien thong Dai hoc Bach Khoa Ha Noi TruongChuyen\n",
      "nganhNganh202320222021 Dai Hoc Bach Khoa Ha Noi Ky thuat Dien tu - Vien thong Ky thuat dien tu - vien thong\n",
      "66.4664.1726.4625.9924.514.0526.8Ghi chuDanh gia tu duy Danh gia tu duy CT tien tien Diem TN THPT Diem TN THPT CT tien\n",
      "tien TN THPT Danh gia tu duy Danh gia tu duy CT tien tien Diem TN THPT Diem TN THPT CT tien tien TN THPT 4. Hoc Ky thuat\n",
      "Dien tu - Vien thong ra truong lam gi? Ky thuat Dien tu - Vien thong: Nganh hoc mo ra nhieu co hoi Qua nhung phan tren\n",
      "ban cung hieu duoc Ky thuat Dien tu - Vien thong la nganh \"thay doi van minh nhan loai\". Chinh vi vay co hoi nghe nghiep\n",
      "cho nganh nay vo cung lon. Ban co the lam viec tai: - Cac doanh nghiep nghien cuu, san xuat, phat trien cac san pham\n",
      "dien tu: chuyen vien tu van, van hanh, thiet ke, dieu hanh ky thuat; chuyen gia thiet ke chipset (bo phan khong the\n",
      "thieu cua cac thiet bi thong minh); nghien cuu vien phat trien san pham thiet bi dien tu, cong nghe ung dung nhu truyen\n",
      "van vat ly ung dung, cong nghe di dong,... - Cong ty cung cap dich vu internet: Ky su thiet ke va xay dung he thong ha\n",
      "tang truy cap internet; ky su su phan tich tich hop cac he thong, dich vu gia tang, ung dung tren cac co so ha tang san\n",
      "co. - Cong ty vien thong: chuyen vien thiet ke truyen dan, bao tri, van hanh; chuyen vien quy hoach, thiet ke mang va\n",
      "toi uu mang; truong bo phan ky thuat,... - Dai phat thanh truyen hinh, cong ty tu van mang vien thong: chuyen vien thiet\n",
      "ke, tu van, van hanh, dieu hanh ky thuat - Cac hang thiet bi: chuyen vien quan ly ky thuat va san pham, quan ly du an\n",
      "kinh doanh - Cac tap doan, cong ty da quoc gia ve Dien tu - Vien thong Theo thong ke, 95% sinh vien khoa Ky thuat Dien\n",
      "tu - Vien thong Dai hoc Bach Khoa Ha Noi co viec lam ngay sau mot nam tot nghiep voi muc luong khoi diem tu 8-20 trieu\n",
      "dong. Dieu nay du thay duoc suc hap dan cua nganh dang de cac ban can nhac dung khong nao! Tin tuc moi nhat\n",
      "------------------------------------------------------------------------------------------------------------------------\n",
      "None\n"
     ]
    }
   ],
   "source": [
    "print(wraptext(refs))"
   ]
  },
  {
   "cell_type": "code",
   "execution_count": 19,
   "metadata": {},
   "outputs": [
    {
     "data": {
      "text/plain": [
       "(1, 4)"
      ]
     },
     "execution_count": 19,
     "metadata": {},
     "output_type": "execute_result"
    }
   ],
   "source": [
    "len(hypos), len(refs)"
   ]
  },
  {
   "cell_type": "markdown",
   "metadata": {},
   "source": [
    "### Using BERTScore for Evaluation"
   ]
  },
  {
   "cell_type": "markdown",
   "metadata": {},
   "source": [
    "1. BERTScore is used to measure textual similarity between candidate texts and reference texts. It considers not only exact word matches but also the overall meaning, fluency, and order of the ouput.\n",
    "\n",
    "2. BERTScore: Precision, Recall, F1\n",
    "    * Precision measures how well the candidate texts avoid introducing irrelevant content.\n",
    "    * Recall measures how well the candidate texts avoid omitting relevant content.\n",
    "    * F1 = 2 x (P x R)/(P + R) "
   ]
  },
  {
   "cell_type": "code",
   "execution_count": 20,
   "metadata": {},
   "outputs": [
    {
     "name": "stderr",
     "output_type": "stream",
     "text": [
      "/media/sanslab/Data/stevehoang/rag_research/vigpt-researcher/venv/lib/python3.11/site-packages/tqdm/auto.py:21: TqdmWarning: IProgress not found. Please update jupyter and ipywidgets. See https://ipywidgets.readthedocs.io/en/stable/user_install.html\n",
      "  from .autonotebook import tqdm as notebook_tqdm\n"
     ]
    }
   ],
   "source": [
    "from bert_score import score"
   ]
  },
  {
   "cell_type": "code",
   "execution_count": 21,
   "metadata": {},
   "outputs": [],
   "source": [
    "# Hide the loading messages\n",
    "import logging\n",
    "import transformers\n",
    "transformers.tokenization_utils.logger.setLevel(logging.ERROR)\n",
    "transformers.configuration_utils.logger.setLevel(logging.ERROR)\n",
    "transformers.modeling_utils.logger.setLevel(logging.ERROR)"
   ]
  },
  {
   "cell_type": "code",
   "execution_count": 22,
   "metadata": {},
   "outputs": [],
   "source": [
    "def bert_score(hypos, refs, lang=\"vi\"):\n",
    "    bert_scores = []\n",
    "    for ref in refs:\n",
    "        scores = score(hypos, [ref], lang=lang, verbose=False)\n",
    "        bert_scores.append(scores)\n",
    "    return bert_scores"
   ]
  },
  {
   "cell_type": "code",
   "execution_count": 23,
   "metadata": {},
   "outputs": [],
   "source": [
    "bert_scores = bert_score(hypos, refs)"
   ]
  },
  {
   "cell_type": "code",
   "execution_count": 24,
   "metadata": {},
   "outputs": [],
   "source": [
    "import torch\n",
    "\n",
    "precision = torch.mean(torch.stack([bert_score[0] for bert_score in bert_scores]))\n",
    "recall = torch.mean(torch.stack([bert_score[1] for bert_score in bert_scores]))\n",
    "f1 = torch.mean(torch.stack([bert_score[2] for bert_score in bert_scores]))"
   ]
  },
  {
   "cell_type": "code",
   "execution_count": 25,
   "metadata": {},
   "outputs": [
    {
     "name": "stdout",
     "output_type": "stream",
     "text": [
      "BERT score:\n",
      "P: 0.74, R: 0.77, F1: 0.75\n"
     ]
    }
   ],
   "source": [
    "print(\"BERT score:\")\n",
    "print(f\"P: {precision.item():.2f}, R: {recall.item():.2f}, F1: {f1.item():.2f}\")"
   ]
  },
  {
   "cell_type": "markdown",
   "metadata": {},
   "source": [
    "### Using ROUGE score for Evaluation"
   ]
  },
  {
   "cell_type": "code",
   "execution_count": 26,
   "metadata": {},
   "outputs": [],
   "source": [
    "from rouge_score import rouge_scorer\n",
    "\n",
    "def rouge_score(hypos, refs):\n",
    "    scorer = rouge_scorer.RougeScorer(['rouge1', 'rouge2'], use_stemmer=True)\n",
    "    scores = [scorer.score(ref, hypo) for ref, hypo in zip(refs, hypos)]\n",
    "    return scores\n",
    "\n",
    "rouge = rouge_score(hypos, refs)"
   ]
  },
  {
   "cell_type": "code",
   "execution_count": 27,
   "metadata": {},
   "outputs": [
    {
     "name": "stdout",
     "output_type": "stream",
     "text": [
      "ROUGE scores:\n",
      "ROUGE-1: P = 0.89, R = 0.17, F1 = 0.29\n",
      "ROUGE-2: P = 0.51, R = 0.10, F1 = 0.16\n"
     ]
    }
   ],
   "source": [
    "for i, score in enumerate(rouge):\n",
    "    print(\"ROUGE scores:\")\n",
    "    print(f\"ROUGE-1: P = {score['rouge1'].precision:.2f}, R = {score['rouge1'].recall:.2f}, F1 = {score['rouge1'].fmeasure:.2f}\")\n",
    "    print(f\"ROUGE-2: P = {score['rouge2'].precision:.2f}, R = {score['rouge2'].recall:.2f}, F1 = {score['rouge2'].fmeasure:.2f}\")"
   ]
  },
  {
   "cell_type": "markdown",
   "metadata": {},
   "source": [
    "### RESULTS\n",
    "\n",
    "| METRIC   | Precision | Recall | F1 |\n",
    "|---------|----------|-------|-------|\n",
    "| BERTScore| | | |\n",
    "| ROUGE-1| | | |\n",
    "| ROUGE-2| | | |\n",
    "\n",
    "* BERTScore Average: Precision = ?, Recall = ?, F1 = ?\n",
    "* ROUGE-1 Average: Precision = ?, Recall = ?, F1 = ?\n",
    "* ROUGE-2 Average: Precision = ?, Recall = ?, F1 = ?"
   ]
  },
  {
   "cell_type": "markdown",
   "metadata": {},
   "source": [
    "### Total Time Executions\n",
    "\n",
    "|Time (s) | T1 | T2 |\n",
    "|----|----|----|\n",
    "|    | 100.123 | 123.123 |"
   ]
  },
  {
   "cell_type": "markdown",
   "metadata": {},
   "source": [
    "### Review\n",
    "1. Summarization is a complex task, even advanced models can struggle to accurately capture all the important information from a source text.\n",
    "\n",
    "2. BERTScore or ROUGE that these metrics focus on things like including keywords from the source text, so that do not perfectly reflect human judgement of a good summary.\n",
    "\n",
    "3. The response of chatbot from many different sources.\n"
   ]
  },
  {
   "cell_type": "markdown",
   "metadata": {},
   "source": [
    "### HUMAN EVALUATION IS THE BEST WAY TO EVALUATE THE QUALITY OF A SUMMARY"
   ]
  },
  {
   "cell_type": "code",
   "execution_count": null,
   "metadata": {},
   "outputs": [],
   "source": []
  }
 ],
 "metadata": {
  "kernelspec": {
   "display_name": "venv",
   "language": "python",
   "name": "python3"
  },
  "language_info": {
   "codemirror_mode": {
    "name": "ipython",
    "version": 3
   },
   "file_extension": ".py",
   "mimetype": "text/x-python",
   "name": "python",
   "nbconvert_exporter": "python",
   "pygments_lexer": "ipython3",
   "version": "3.11.5"
  }
 },
 "nbformat": 4,
 "nbformat_minor": 2
}
