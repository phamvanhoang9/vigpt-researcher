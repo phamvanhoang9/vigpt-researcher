{
 "cells": [
  {
   "cell_type": "code",
   "execution_count": 1,
   "metadata": {},
   "outputs": [],
   "source": [
    "import urllib3\n",
    "urllib3.disable_warnings(urllib3.exceptions.InsecureRequestWarning)"
   ]
  },
  {
   "cell_type": "code",
   "execution_count": 2,
   "metadata": {},
   "outputs": [],
   "source": [
    "import sys\n",
    "sys.path.append('..')"
   ]
  },
  {
   "cell_type": "code",
   "execution_count": 3,
   "metadata": {},
   "outputs": [],
   "source": [
    "from scraper import Scraper"
   ]
  },
  {
   "cell_type": "code",
   "execution_count": 4,
   "metadata": {},
   "outputs": [],
   "source": [
    "with open(\"hypos.txt\") as f:\n",
    "    hypos = [line.strip() for line in f]\n",
    "\n",
    "with open(\"refs.txt\") as f:\n",
    "    refs = [line.strip() for line in f]"
   ]
  },
  {
   "cell_type": "code",
   "execution_count": 5,
   "metadata": {},
   "outputs": [
    {
     "data": {
      "text/plain": [
       "['https://baoantelecom.com/vi/tin/dien-tu-vien-thong',\n",
       " 'https://www.hotcourses.vn/study-abroad-info/study-guides/nganh-dien-tu-vien-thong/',\n",
       " 'https://blog.topcv.vn/co-nen-hoc-nganh-dien-tu-vien-thong/']"
      ]
     },
     "execution_count": 5,
     "metadata": {},
     "output_type": "execute_result"
    }
   ],
   "source": [
    "refs"
   ]
  },
  {
   "cell_type": "code",
   "execution_count": 6,
   "metadata": {},
   "outputs": [],
   "source": [
    "user_agent = \"Mozilla/5.0 (Windows NT 10.0; Win64; x64) AppleWebKit/537.36 (KHTML, like Gecko) Chrome/119.0.0.0 Safari/537.36 Edg/119.0.0.0\""
   ]
  },
  {
   "cell_type": "code",
   "execution_count": 7,
   "metadata": {},
   "outputs": [],
   "source": [
    "refs = Scraper(refs, user_agent).run()"
   ]
  },
  {
   "cell_type": "code",
   "execution_count": 8,
   "metadata": {},
   "outputs": [
    {
     "data": {
      "text/plain": [
       "[{'url': 'https://baoantelecom.com/vi/tin/dien-tu-vien-thong',\n",
       "  'raw_content': 'Tìm hiểu kiến thức học và cơ hội việc làm ngành Điện tử viễn thông\\nMỤC LỤC\\n1. Ngành điện tử viễn thông là gì? Và ứng dụng trong đời sống\\n2. Ngành điện tử viễn thông học những kiến thức gì?\\n3. Định hướng công việc ngành Điện tử viễn thông? Cơ hội việc làm có rộng mở?\\n4. Cần trang bị gì để học và làm việc tốt ngành điện tử viễn thông\\n5. Các trường đào tạo ngành điện tử viễn thông\\nNgành điện tử viễn thông là gì? Và ứng dụng trong đời sống\\nĐiện tử viễn thông là ngành sử dụng những công nghệ tiên tiến để tạo ra các thiết bị giúp cho việc liên lạc, truy xuất thông tin của cá nhân hoặc tổ chức, điện tử viễn thông được ứng dụng cao ở nhiều lĩnh vực trong cuộc sống.\\n•\\xa0\\xa0 \\xa0Lĩnh vực mạng, viễn thông: các thiết bị truyền tin trên toàn cầu như hệ thống truyền dẫn: cáp quang, vệ tin, hệ thống truyền tin không dây (vi ba) v.v... Thành tựu mới đây nhất là xây dựng hệ thống 5g và các thiết bị hệ thống hôi nghị truyền hình\\n•\\xa0\\xa0 \\xa0Lĩnh vực định vị dẫn đường: là một lĩnh vực đặc biệt quan trọng ngành Hàng không và Hàng hải. Những trạm kiểm soát không lưu mặt đất là nơi những kĩ sư Điện tử Viễn thông làm nhiệm vụ dẫn đường cho hàng nghìn chuyến bay, tàu thuỷ hoạt động an toàn\\n•\\xa0\\xa0 \\xa0Lĩnh vực nghiên cứu, sáng tạo công nghệ, thiết bị mới: là lĩnh vực đòi hỏi người học phải có sự sáng tạo dựa trên những ứng dụng của xã hội nói chung và ngành Điện tử Viễn thông nói riêng, phát triển các công nghệ mới, ứng dụng mới hữu ích và đơn giản hơn cho mọi người là lĩnh vực thúc đẩy sự phát triển của toàn bộ ngành Điện tử Viễn thông\\n•\\xa0\\xa0 \\xa0Lĩnh vực điện tử y sinh: ngành dđiện tử viễn thông là nền tảng để tạo ra các máy móc, thiết bị điện tử hiện đại trong lĩnh vực y tế và sinh học.\\n•\\xa0\\xa0 \\xa0Lĩnh vực âm thành, hình ảnh: ngành kỹ thuật Điện tử Viễn thông \\xa0đóng góp 1 phần quan trọng của như việc thiết kế ra các trang thiết bị nghe nhìn, điều chỉnh âm độ các thiết bị thu âm v.v...\\nCó thể nói tất cả các thiết bị trong cuộc sống hiện đại ngày nay như : máy thu hình, điện thoại, máy tính cá nhân, máy tính bảng,… đều có dấu ấn của ngành Điện tử Viễn thông , là nền tảng cơ bản nhất của cách mạng công nghiệp 4.0, của xu hướng chuyển đối số trong mọi lĩnh vực của đời sống, kinh tế, xã hội.\\nNgành điện tử viễn thông học những kiến thức gì?\\nHiểu từ tên gọi, có rất nhiều người cho rằng Điện tử Viễn thông là một phần của Công nghệ thông tin, cách hiểu này không hoàn toàn sai nhưng chưa chính xác. Giải thích cơ bản thì Ngành Điện tử-viễn thông và ngành Công nghệ thông tin là hai ngành rất gần với nhau, có nhiều kiến thức chung về công nghệ tuy nhiên đi vào chuyên sâu sẽ thấy rõ sự khác biệt rằng: CNTT tập trung vào xây dựng phần mềm còn chuyên ngành DTVT tập trung về phần cứng.\\nTheo học ngành Điện tử - Viễn thông, sinh viên được trang bị khối kiến thức theo 3 tầng cấp độ:\\nCấp độ 1: Các kiến thức nền tảng và chuyên sâu về các công nghệ, kỹ thuật: Giải tích mạch điện; trường điện tử; kỹ thuật lập trình; điện tử số; nguyên lý truyền thông; vi xử lý; điện tử thông tin; kỹ thuật truyền số liệu và mạng; xử lý tín hiệu; thiết kế số dùng ngôn ngữ mô tả phần cứng; hệ thống viễn thông; kỹ thuật siêu cao tần và anten,...\\nCấp độ 2: ngành Công nghệ Kỹ thuật Điện tử - Viễn thông cung cấp cho sinh viên các kỹ năng vận hành bảo trì, sửa chữa, cải tiến, nâng cấp các hệ thống, thiết bị điện tử viễn thông\\nCấp độ 3: Nâng cao hơn là khả năng tìm hiểu, nghiên cứu, phát triển ứng dụng công nghệ kỹ thuật điện tử viễn thông trong công nghiệp và trong đời sống dân dụng. Thực hành, vận dụng lý thuyết là phần học quan trọng nhất trong ngành DTVT, cụ thể là những cuộc thi đầy sáng tạo như: robocon\\nĐịnh hướng công việc ngành Điện tử viễn thông? Cơ hội việc làm có rộng mở?\\nHọc ngành điện tử viễn thông ra làm gì? có thể đảm nhận những vị trí nào? Làm việc ở công ty nào là câu hỏi của tất cả sinh viên ngành viễn thông cần biết và nền tìm hiểu:\\n•\\xa0\\xa0 \\xa0Chuyên viên quy hoạch, thiết kế và tối ưu hóa hệ thống mạng tại các công ty viễn thông < VNPT, Viettel, Vinaphone, Mobiphone …;>\\n•\\xa0\\xa0 \\xa0Chuyên viên thiết kế, tư vấn và điều hành công tác kỹ thuật tại các đài phát thanh, truyền hình < VTV, HTV,SCTV, các đài truyền hình địa phương…>\\n•\\xa0\\xa0 \\xa0Chuyên viên nghiên cứu và thiết kế tại các công ty sản xuất thiết bị điện tử viễn thông, âm thanh hình ảnh, công ty thiết kế sản xuất vi mạch. < Aver, Maxhub, FPT, Samsung, LG, Intel, Panasonic..>\\n•\\xa0\\xa0 \\xa0Chuyên viên vận hành, thiết kế và bảo trì thiết bị điện tử, tự động hóa trong các đơn vị, doanh nghiệp.\\n•\\xa0\\xa0 \\xa0Khi có kinh nghiệm và thời gian làm việc \\xa0có thể giữ vị trí Trưởng bộ phận kỹ thuật, Giám đốc kỹ thuật tại các doanh nghiệp, các công ty trong lĩnh vực điện tử, viễn thông, truyền thông.\\n•\\xa0\\xa0 \\xa0Có thể trở thành cán bộ giảng dạy, nghiên cứu tại các trường đại học, cao đẳng và Viện nghiên cứu.\\nThế giới nói chung và Việt Nam nói riêng đang sống trong kỳ nguyên số. Các doanh nghiệp về công nghệ ngày càng nhiều và phát triển rất nhanh, đi cùng đó là nhu cầu về nguồn nhân lực cũng tăng cao. Dự báo của Vietnamworks cho thấy, nước ta đang thiếu 400.000 nhân lực công nghệ thông tin và điện tử viên thông và mỗi năm cần cung ứng mới tới 78.000 lao động. Tuy nhiên trong thực tế, mỗi năm nước ta chỉ có khoảng 50.000 sinh viên tốt nghiệp, dẫn đến \"cơn khát\" nhân lực đối với ngành học này dường như chưa bao giờ hạ.\\nCần trang bị gì để học và làm việc tốt ngành điện tử viễn thông\\nKhông chỉ ngành ĐTVT mà khi lựa chọn ngành học và việc làm, cần tìm thấy được sự đam mê và thích thú. Điều này giúp người học và người làm việc tìm thấy được niềm vui trong công việc, công việc không nhàm chán.\\nCòn riêng trong ngành ĐT VT nên có thêm những tố chất về: sự kiên trì, nhẫn nại, kỹ năng ngoại ngữ và khả năng làm việc nhóm.\\nCác trường đào tạo ngành điện tử viễn thông\\nVới hệ chính quy Đại học, đào tạo ngành Điện tử viễn thông có thể kể đến các trường với bề dày và có tỷ lệ sinh viên đầu ra tốt nhất:\\nKhoa điện tử viễn thông đại học bách khoa đà nẵng\\nTrường ĐH Bách khoa Hà Nội\\nTrường ĐH Bách khoa HCM (ĐH Quốc gia HCM)\\nTrường ĐH khoa học (ĐH Huế)\\nTrường Học viện Công nghệ Bưu chính Viễn thông\\nTrường ĐH Công nghệ (ĐH Quốc gia Hà Nội)\\nĐại học Công nghệ TP.HCM\\nĐại học Sư phạm Kỹ thuật TP.HCM\\nĐại học Điện lực – Hà Nội\\nĐĂNG KÝ TƯ VẤN NGAY HÔM NAY\\nTin khác\\nBẢNG GIÁ MÀN HÌNH TƯƠNG TÁC 65INCH RẺ NHẤT 2022\\nReview loa hội nghị bluetooth Maxhub BM21\\nLiên kết quang học (Optical Bonding) là gì?\\nSo sánh công nghệ\\xa0LED Edge-lit \\xa0(chiếu sáng cạnh) và Back-lit\\xa0(chiếu sáng nền)\\nSo sánh sự khác biệt giữa màn hình cảm ứng IR và PCAP\\nSo sánh màn hình tương tác: MAXHUB V5 Transcend vs LG CreateBoard™\\nVì sao nên sử dụng tính năng Automatic Framing của Polycom Studio?\\nCác loại công nghệ màn hình cảm ứng\\nTrụ Sở Chính TP. Hồ Chí Minh\\nĐịa chỉ :\\xa0T08, đường số 20, KĐT Him Lam, P. Tân Hưng, Q.7, HCM\\nHotline :\\xa00918.325.086\\nEmail :\\xa0info@baoantelecom.com\\nChi nhánh Hà Nội\\nĐịa chỉ : P.201, 627 Vũ Tông Phan, Khương Đình, Thanh Xuân, Hà Nội\\nHotline :\\xa00911.527.086\\nEmail :\\xa0info@baoantelecom.com\\nChi nhánh Đà Nẵng\\nĐịa chỉ : H53/15 K729\\xa0Ngô Quyền, Q. Sơn Trà, Đà Nẵng\\nHotline : 0918.325.086\\nEmail : info@baoantelecom.com'},\n",
       " {'url': 'https://www.hotcourses.vn/study-abroad-info/study-guides/nganh-dien-tu-vien-thong/',\n",
       "  'raw_content': 'Tìm học bổng 2024\\nTìm khóa học\\nCác ngành học phổ biến\\nĐiểm đến du học nào phù hợp với bạn nhất?\\nCanada\\nÚc\\nVương quốc Anh\\nMỹ\\nCác Châu lục\\nCác điểm đến tiềm năng\\nChào bạn, mình là E-bot, trợ lý ảo của bạn. Mình giúp bạn tìm thông tin nhé?\\nVới FastLane, bạn biết bạn có khả năng trúng tuyển vào trường đại học mơ ước chỉ sau vài phút.\\nChọn trường du học\\nKinh nghiệm du học\\nĐể được tư vấn về xu hướng du học mới, hồ sơ du học, visa và các vấn đề khác.\\nTìm hiểu thêm về các trường ở quốc gia bạn muốn đến du học. Trường nào phù hợp với bạn nhất?\\nChào bạn ,\\nTìm hiểu thêm về các trường ở quốc gia bạn muốn đến du học. Trường nào phù hợp với bạn nhất?\\nVề Hotcourses\\nGõ 2 từ để gợi ý\\nBạn thử chỉ tìm kiếm theo ngành học hoặc trường học trước thôi rồi sau đó lọc kết quả xem thế nào.\\nNgành Điện tử - Viễn Thông: Học gì, học ở đâu và cơ hội nghề nghiệp\\nĐiện tử - Viễn Thông là một trong những ngành có tiềm năng phát triển, nhiều cơ hội việc làm và đóng vai trò quan trọng trong sự phát triển của một quốc gia. Tuy nhiên, ngành Kỹ thuật Điện tử - Viễn thông khá rộng lớn, chia thành rất nhiều lĩnh vực phong phú nên dễ khiến bạn hoang mang khi mới tìm hiểu ngành này. Hotcourses Vietnam mời bạn khám phá ngành Điện tử - Viễn Thông một cách khái quát và đầy đủ qua bài viết sau đây!\\nNgành Điện tử - Viễn Thông là gì?\\nĐiện tử và Viễn Thông vốn có sự liên quan mật thiết với nhau nên mới đi theo cặp như vậy. Cụ thể, lĩnh vực Điện tử nghiên cứu và chế tạo ra các vi mạch điện tử, được xem như là “bộ não” điều khiển toàn bộ hoạt động của các thiết bị thông minh. Trong khi đó, lĩnh vực Viễn thông nghiên cứu và sử dụng các thiết bị để tạo nên các mạng lưới truyền dẫn thông tin cho mục đích giao tiếp xuyên biên giới. Từ đó, ngành Điện tử - Viễn Thông có thể hiểu đơn giản là ứng dụng công nghệ tiên tiến để tạo ra các thiết bị truyền thông tin. Một số sản phẩm của ngành Điện tử - Viễn thông quen thuộc với mọi người có thể kể đến như tivi, điện thoại, máy tính, mạch điều khiển,...\\xa0 Ngành Điện tử - Viễn Thông có vai trò quan trọng trong việc xây dựng hệ thống thông tin liên lạc toàn cầu để mọi người trao đổi, truy xuất thông tin, giám sát và điều khiển thiết bị thông minh một cách nhanh chóng và thuận tiện.\\nHọc gì trong ngành Điện tử - Viễn Thông?\\nTheo học ngành Kỹ thuật điện tử - viễn thông, sinh viên sẽ được đào tạo kiến thức chuyên môn về lĩnh vực điện tử, nguyên lý truyền thông tin và tiếp cận với công nghệ kỹ thuật điện tử tiên tiến như:\\nMạng không dây\\nMạng truyền số liệu\\nKỹ thuật siêu cao tần và anten\\nHệ thống phát thanh truyền hình\\nCông nghệ phân tích và xử lý tín hiệu, âm thanh, hình ảnh\\nThời gian đào tạo Cử nhân ngành Kỹ thuật Điện tử - Viễn thông của các trường Đại học trong khoảng 4-5 năm.\\nBởi ngành này mang tính ứng dụng cao, luôn bám sát thực tiễn theo nhu cầu của các doanh nghiệp và xu thế công nghệ mới nên sinh viên được thực hành và trải nghiệm nhiều. Sinh viên sẽ có khoảng 30% thời lượng học tập để được thực chiến các kỹ năng với các trang thiết bị của trường như:\\nVận hành, bảo trì, sửa chữa, nâng cấp các hệ thống, thiết bị điện tử - viễn thông\\nTìm hiểu, nghiên cứu và phát triển ứng dụng công nghệ kỹ thuật điện tử - viễn thông trong công nghiệp và đời sống\\nKhi đi sâu vào từng chuyên ngành, sinh viên sẽ gặp gỡ khối lượng kiến thức đặc thù rộng lớn, tuy thú vị nhưng cũng nhiều thử thách. Ba chuyên ngành nổi trội hiện đang phổ biến bởi tính ứng dụng mà sinh viên cần cân nhắc khi theo đuổi là:\\nKỹ thuật điện tử - Viễn thông\\nKỹ thuật điều khiển và tự động hóa\\nHệ thống nhúng và IoT (tạo ra các thiết bị thông minh, kết nối Internet)\\nNgành Điện tử - Viễn Thông học ở đâu?\\nNgành Điện tử - Viễn Thông thường được xem là một trong những ngành yêu cầu đầu vào cao điểm nhất ở Việt Nam trong nhiều năm qua. Điều đó cho thấy độ thu hút của ngành đối với nhiều sinh viên có đam mê với kỹ thuật. Những trường đại học đào tạo ngành kỹ thuật Điện tử - Viễn Thông có uy tín ở nước ta phải kể đến như: Đại học Bách khoa (ĐH Quốc gia TP.HCM), Đại học Khoa học tự nhiên (ĐH Quốc gia TP.HCM), Đại học Sư phạm Kỹ thuật TP.HCM, Đại học Khoa học (ĐH Huế), Đại học Bách khoa (Đà Nẵng), Đại học Công nghệ (ĐH Quốc gia Hà Nội), Học viện Công nghệ bưu chính viễn thông, Đại học Bách khoa Hà Nội, Đại học Điện lực Hà Nội.\\nNếu có điều kiện, bạn nên theo đuổi ngành Điện tử - Viễn Thông tại các nước có thế mạnh về ngành này để học hỏi những điều hay. Việc trải nghiệm trong môi trường theo chuẩn quốc tế từ khi còn trên ghế nhà trường sẽ tạo nền tảng tốt và điều kiện thuận lợi cho các kỹ sư tương lai thích ứng với yêu cầu công việc. Nếu bạn muốn trau dồi kiến thức theo cách tốt nhất, Hotcourses Vietnam sẽ gợi ý những điểm đến du học hàng đầu sau:\\nCác khóa đào tạo ngành Điện tử - Viễn thông ở Mỹ\\nCác khóa đào tạo ngành Điện tử - Viễn thông ở Úc\\nCác khóa đào tạo ngành Điện tử - Viễn thông ở Canada\\nCác khóa đào tạo ngành Điện tử - Viễn thông ở Anh\\nBạn lưu ý là bấm vào link \"Xem [số] khóa học Điện tử - Viễn thông\" để tìm hiểu thông tin cụ thể về chương trình học ở từng trường. Nếu bạn có thắc mắc về du học ngành Điện tử - Viễn thông, các chuyên gia du học IDP giàu kinh nghiệm luôn sẵn sàng hỗ trợ và tư vấn hoàn toàn miễn phí.\\nTương lai của ngành Điện tử - Viễn Thông và cơ hội nghề nghiệp dành cho bạn\\nTốc độ phát triển nhanh chóng của lĩnh vực Điện tử - Viễn Thông vẫn đang sản sinh ra nhiều nghề nghiệp mới mà có thể chính bạn là một trong những người tiên phong đảm nhận. Không chỉ các công ty trong lĩnh vực viễn thông như Viettel, VNPT, FPT mà các doanh nghiệp trong nhiều lĩnh vực khác như điện lực, ngân hàng, giao thông, quốc phòng - an ninh... vẫn cần sử dụng hạ tầng mạng viễn thông và máy tính. Điều đó có nghĩa bạn sẽ có nhiều sự lựa chọn để phát triển sự nghiệp tương lai của mình.\\nSau khi hoàn thành chương trình đào tạo, bạn có thể đảm nhận những vị trí công việc sau:\\nChuyên viên tư vấn, thiết kế và vận hành kỹ thuật tại các đài phát thanh, đài truyền hình, công ty tư vấn thiết kế mạng viễn thông, sản xuất thiết bị Điện tử - Viễn Thông, những công ty sản xuất vi mạch\\nKỹ sư vô tuyến với kiến thức chuyên sâu về vận hành mạng, các mạng di động 2G/ 3G/ 4G/ 5G và cấu trúc mạng cũng như các thuật toán, tham số của tính năng mạng vô tuyến\\nKỹ sư viễn thông đảm nhiệm nghiên cứu và phát triển mạng vô tuyến, định vị dẫn đường, thiết bị tín hiệu đa phương tiện về âm thanh, hình ảnh\\nKỹ sư truyền dẫn đảm nhận việc vận hành, khai thác, giám sát lắp đặt mạng truyền dẫn\\nKỹ sư thiết kế và viết phần mềm cho các thiết bị thông minh như điện thoại di động, rô bốt, xe ô tô\\nGiám đốc kỹ thuật, Trưởng bộ phận kỹ thuật tại các công ty, doanh nghiệp trong lĩnh vực điện tử, viễn thông, bưu chính viễn thông, bưu điện\\nKhông thể bỏ lỡ\\nNgành khoa học dữ liệu: Những điều bạn cần biết\\nNgành Khoa học dữ liệu (Data Science) là ngành học lí tưởng cho những bạn học sinh, sinh viên đam mê công nghệ, dữ liệu và khám phá những điều mới lạ. Trong bài viết này, cùng Hotcourses Vietnam tìm hiểu về ngành học và các cơ hội nghề nghiệp của ngành Khoa học dữ liệu nhé!\\nNgành khoa học dữ liệu là gì?\\nKhoa học dữ liệu (Data science) là ngành khoa học về việc khai phá, quản trị và phân tích dữ liệu để dự đoán các xu hướng trong\\nNgành Quản trị Nhân lực: Học gì, ở đâu, và cơ hội nghề nghiệp\\nNgành Quản trị nhân lực, hay ngành quản lý nhân sự là một chuyên ngành hết sức hữu ích bởi nó giúp bạn nhìn nhận và đánh giá con người cũng như các công ty, tổ chức theo một cách khác biệt. Ngành này là sự kết hợp của rất nhiều các kỹ năng khác nhau, cung cấp cho bạn một cái nhìn sâu sắc về kinh doanh cũng như sự hiểu biết về cách quản lý nhân sự mà không phải ai trong công ty cũng có khả năng nhìn nhận. Trong bài viết này, hãy cùng Hotcourses Vietnam tìm hiểu thêm\\nNgành Xã hội học: Học gì, học ở đâu, và cơ hội nghề nghiệp\\nLĩnh vực nghiên cứu về hành vi và các mối quan hệ xã hội của con người đang ngày càng được chú trọng. Vì lý do này, ngành xã hội học đang thu hút sự quan tâm của nhiều bạn học sinh, sinh viên trong những năm gần đây bởi tính thiết thực và cơ hội phát triển rộng mở. Vậy xã hội học là ngành gì? Học xã hội học làm nghề gì? Cùng Hotcourses Vietnam tìm hiểu chi tiết về ngành xã hội học trong bài viết dưới đây.\\nNgành xã hội học là gì?\\nXã\\nNgành kinh tế đối ngoại: Học gì, học ở đâu, và cơ hội nghề nghiệp\\nHiện nay, khi các quốc gia tiến hành quá trình hội nhập quốc tế sâu rộng, nhu cầu về sự giao thương toàn cầu diễn ra rất mạnh mẽ. Trong bối cảnh đó, ngành kinh tế đối ngoại trở thành một ngành học phổ biến, thu hút nguồn nhân lực khổng lồ. Vậy kinh tế đối ngoại là gì? Học kinh tế đối ngoại ra làm gì? Cùng Hotcourses Vietnam khám phá chi tiết về ngành kinh tế đối ngoại trong bài viết dưới đây.\\nNgành kinh tế đối ngoại là gì?\\nKinh tế đối\\nCập nhật thông tin quan trọng về du học\\nXu hướng du học, chính sách visa, học bổng và kinh kinh nghiệm hay.\\nVui lòng điền địa chỉ email hợp lệ\\nLink hữu ích\\nKết nối với chúng tôi\\nTư vấn du học'},\n",
       " {'url': 'https://blog.topcv.vn/co-nen-hoc-nganh-dien-tu-vien-thong/',\n",
       "  'raw_content': 'Có nên học ngành kỹ thuật điện tử viễn thông hay không?\\n16 nghìn người/năm là nhu cầu tuyển dụng lao động làm việc ngành kỹ thuật điện tử viễn thông trong giai đoạn từ 2020 – 2025. Điều này chứng minh, nhân lực ngành này đang tuyển dụng nhiều và có xu hướng tăng qua các năm. Vậy ngành kỹ thuật điện tử viễn thông là gì? Học ngành này ở đâu? Thi những môn nào? Cơ hội việc làm và mức thu nhập ra sao sau khi ra trường? Tất cả sẽ được TopCV cung cấp chi tiết trong bài viết sau đây để bạn cùng tìm hiểu, từ đó dễ dàng đưa ra sự lựa chọn.\\nNội dung bài viết\\nNgành kỹ thuật điện tử viễn thông là gì?\\nNgành kỹ thuật điện tử viễn thông là ngành học đào tạo nguồn nhân lực có chuyên môn và kỹ năng về việc thiết kế, phát triển và vận hành các hệ thống và công nghệ liên quan đến viễn thông và truyền thông điện tử.\\nĐây là ngành tập trung vào các công nghệ và ứng dụng sử dụng trong việc truyền tải, xử lý và quản lý thông tin qua các mạng điện tử và không dây. Trong đó có kể đến các thiết bị truyền thông và thiết bị điện tử như: điện thoại di động, tivi, máy tính, hệ thống nhúng, các mạch điều khiển, router, anten, thiết bị phát sóng,v.vv..\\u200b\\nCơ hội việc làm ngành điện tử viễn thông\\nTheo đánh giá của các chuyên gia phân tích nhu cầu nhân lực, ngành điện tử viễn thông là một trong những nhóm ngành có nhu cầu nhân lực cao trong thời đại 4.0 hiện nay. Sinh viên tốt nghiệp chuyên ngành này được nhận định là có cơ hội làm việc với nhiều vị trí khác nhau tại các doanh nghiệp, bao gồm cả doanh nghiệp trong nước như: FPT, Viettel, VNPT, MobiFone, VinSmart, v.vv.. hay doanh nghiệp nước ngoài như: SamSung, LG, Nokia, Apple, Inter, v.vv..\\nMột thống kê từ Trung tâm Dự báo nhu cầu nhân lực và Thông tin thị trường lao động TPHCM cho thấy, giai đoạn từ 2020 – 2025 nhu cầu tuyển dụng lao động làm việc ngành điện tử viễn thông là khoảng 16 nghìn người/năm. Con số này đang có xu hướng tăng lên qua các năm sau đó.\\nTrong khi đó, đại diện Tổng công ty công nghệ cao Viettel cũng từng chia sẻ, hơn 50% nhân lực kỹ sư của doanh nghiệp này là chuyên ngành điện tử viễn thông. Mỗi năm doanh nghiệp tuyển khoảng 100 kỹ sư mới ra trường.\\nNhững con số “biết nói” trên cho thấy, tiềm năng và cơ hội việc làm cho những người được đào tạo ngành kỹ thuật điện tử viễn thông là rất lớn. Tốt nghiệp ngành này sinh viên có thể làm việc tại các vị trí như: chuyên viên tư vấn, thiết kế và vận hành kỹ thuật tại các đài phát thanh, truyền hình, công ty dịch vụ kỹ thuật điện tử viễn thông; Kỹ sư thiết kế vận hành hệ thống thông tin đa phương tiện tại các công ty truyền thông đa phương tiện; Kỹ sư viết phần mềm máy tính, v.vv..\\nChưa kể, trong xu hướng chuyển đổi số như hiện nay, nhu cầu nhân lực cho ngành điện tử viễn thông là rất lớn và vẫn còn thiếu. Các công ty viễn thông, công ty sản xuất thiết bị điện tử, nhà mạng sẽ trở thành “miền đất hứa” cho các tân kỹ sư tốt nghiệp chuyên ngành này.\\nTopCV có thể giới thiệu hàng trăm vị trí công việc ngành kỹ thuật điện tử viễn thông đang tuyển dụng để bạn tham khảo và nắm bắt cơ hội việc làm của ngành này sau khi ra trường.\\nMột số câu hỏi về ngành kỹ thuật điện tử viễn thông\\nĐể giúp các bạn hiểu sâu hơn về ngành này, sau đây TopCV sẽ giải đáp một số câu hỏi liên quan đến ngành kỹ thuật điện tử viễn thông.\\nNgành kỹ thuật điện tử viễn thông thi khối nào?\\nMã ngành kỹ thuật điện tử viễn thông thường là 7520207. Tuy nhiên, mã ngành này cũng có sự thay đổi tùy theo trường đào tạo, ví dụ tại Đại học Điện lực ngành này có mã là 7510302, Đại học Bách khoa Hà Nội mã ngành là ET-E4y, Đại học Công nghệ – ĐHQG Hà Nội mã ngành là CN9 v.vv.. Bạn nên căn cứ vào trường học mình lựa chọn để tra cứu chính xác mã ngành.\\nHàng năm ngành kỹ thuật điện tử viễn thông được tuyển sinh với số lượng lớn và thường thi vào với 2 khối:\\nNgoài ra, một số trường còn xét tuyển các tổ hợp gồm:\\nNếu bạn học tốt và nắm vững kiến thức các môn học này cộng thêm niềm đam mê với các thiết bị điện tử, viễn thông thì ngành kỹ thuật điện tử viễn thông là ngành bạn có thể cân nhắc lựa chọn để đăng ký thi tuyển sau khi tốt nghiệp THPT.\\nĐiểm chuẩn ngành kỹ thuật điện tử viễn thông\\nĐối với ngành kỹ thuật điện tử viễn thông, mỗi năm tuyển sinh điểm chuẩn sẽ có sự thay đổi, khác nhau giữa các trường đại học/học viện/cao đẳng có đào tạo ngành này. Bảng sau đây TopCV tổng hợp điểm chuẩn ngành kỹ thuật điện tử viễn thông mới nhất tại một số trường đại học/học viện, bạn có thể tham khảo:\\nGhi chú:\\nNgành kỹ thuật điện tử viễn thông học gì?\\nHiện nay các trường đại học, học viện đào tạo ngành kỹ thuật điện tử – viễn thông theo khung chương trình kéo dài từ 4 – 5 năm. Sau khi ra trường sinh viên sẽ được cấp bằng cử nhân hoặc kỹ sư. Số lượng tín chỉ (môn học/học phần) sẽ có sự khác nhau tùy theo chuyên ngành cụ thể mà bạn theo học sau khi thi đậu ngành kỹ thuật điện tử viễn thông.\\nKhi theo học ngành này, sinh viên sẽ được đào tạo các kiến thức chuyên môn về lĩnh vực điện tử, viễn thông, bao gồm cả lý thuyết và thực hành. Ngoài các môn cơ sở ngành, chương trình đào tạo còn chú trọng vào việc cung cấp kiến thức và kỹ năng để sinh viên có thể thiết kế, xây dựng, khai thác, vận hành, sử dụng, bảo trì các thiết bị điện tử, viễn thông.\\nTùy theo chuyên ngành lựa chọn, người học sẽ được học những kiến thức chuyên sâu hơn. Dưới đây là một số môn bạn sẽ được học khi lựa chọn ngành kỹ thuật điện tử viễn thông:\\nNgoài ra sinh viên còn được học các môn học khác như: Điện tử công suất, thiết kế tổng hợp hệ thống số, Kiến trúc máy tính, Lập trình nâng cao, kỹ thuật siêu cao tần, trí tuệ nhân tạo và ứng dụng, Quy hoạch và quản lý mạng viễn thông, thông tin vệ tinh, thông tin quang sợi,v.vv..\\nThông thường số lượng học phần hoặc nội dung học phần sẽ có sự khác nhau giữa bậc đào tạo cử nhân và kỹ sư.\\nKỹ thuật điện tử viễn thông học trường nào tốt?\\nLà một ngành có yêu cầu đầu vào cao và chất lượng đầu ra tốt, kỹ thuật điện tử viễn thông hiện được nhiều trường đưa vào hệ thống đào tạo.\\nCác trường đào tạo ngành kỹ thuật điện tử viễn thông\\nNếu bạn đang phân vân trong việc lựa chọn học ngành kỹ thuật điện tử viễn thông tại trường nào thì hãy cùng TopCV điểm qua danh sách các trường đại học có đào tạo ngành kỹ thuật điện tử – viễn thông sau đây:\\nMiền Bắc\\nMiền Trung:\\nMiền Nam:\\nHọc kỹ thuật điện tử viễn thông trường nào tốt?\\nViệc lựa chọn trường nào tốt để theo đuổi đam mê kỹ thuật điện tử- viễn thông của mỗi người có thể xuất phát từ nhiều tiêu chí khác nhau. Sau đây TopCV đưa ra gợi ý một số trường đại học uy tín và nổi tiếng trong đào tạo ngành kỹ thuật điện tử viễn thông để bạn có thể tham khảo và đưa ra sự lựa chọn phù hợp cho mình:\\nCác trường quốc tế nổi tiếng đào tạo kỹ thuật điện tử viễn thông\\nHiện nay trên thế giới có nhiều trường đào tạo chuyên ngành kỹ thuật điện tử viễn thông. Nếu có điều kiện về kinh tế, bạn có thể học ngành này tại các trường đại học và viện công nghệ nổi tiếng đào tạo kỹ thuật điện tử viễn thông như:\\nTrên đây chỉ là các gợi ý giúp bạn có thể dễ dàng đưa ra quyết định hơn khi quan tâm đến ngành kỹ thuật điện tử viễn thông. Quan trọng nhất là lựa chọn một trường có chương trình đào tạo và cơ sở vật chất phù hợp với mục tiêu học tập và sự quan tâm cá nhân của bạn. Ngoài ra, nên xem xét các thông tin về danh sách giảng viên, dự án nghiên cứu và cơ hội thực tập, liên kết doanh nghiệp để đánh giá chất lượng giáo dục và khả năng phát triển nghề nghiệp trong ngành kỹ thuật điện tử viễn thông sau khi tốt nghiệp.\\nNgành kỹ thuật điện tử viễn thông lương bao nhiêu?\\nMức lương trong ngành kỹ thuật điện tử viễn thông khá đa dạng và phụ thuộc vào nhiều yếu tố như: vị trí làm việc, kinh nghiệm làm việc, tính chất công việc, quốc gia,v.vv.. Tuy nhiên, nhìn chung ngành kỹ thuật điện tử viễn thông thường có mức lương khá hấp dẫn. Đối với các chuyên gia và kỹ sư điện tử viễn thông có kinh nghiệm và trình độ cao, mức lương có thể rất cao và vượt qua mức trung bình của nhiều ngành khác.\\nDưới đây là mức lương của một số vị trí công việc trong ngành kỹ thuật điện tử viễn thông do TopCV tổng hợp mà bạn có thể tham khảo:\\nLưu ý, các chuyên gia và kỹ sư điện tử viễn thông có kỹ năng đặc biệt, nắm vững các công nghệ mới và có kinh nghiệm làm việc trong nhiều dự án quan trọng thường có cơ hội nhận được mức lương cao hơn và các phúc lợi hấp dẫn từ các công ty và tổ chức. Bạn có thể cập nhật nhanh việc làm ngành điện tử viễn thông để tham khảo mức thu nhập tại các vị trí công việc trong nhóm ngành này hiện nay.\\nHọc kỹ thuật điện tử viễn thông ra làm gì?\\nVấn đề việc làm sau khi ra trường luôn là nỗi băn khoăn và trăn trở của các bạn sinh viên. Đối với ngành kỹ thuật điện tử viễn thông, sau khi tốt nghiệp ra trường, với những kiến thức chuyên môn, kỹ năng đã học và được đào tạo, bạn có cơ hội làm việc tại nhiều vị trí khác nhau tại đa dạng các công ty, doanh nghiệp. TopCV sẽ tổng hợp một số vị trí công việc dành cho các sinh viên học ngành kỹ thuật điện tử viễn thông ngay sau đây để bạn tham khảo về thị trường tuyển dụng của nhóm ngành này hiện nay.\\nNhân viên kỹ thuật điện tử – viễn thông\\nNhân viên kỹ thuật điện tử – viễn thông là người có chuyên môn và kỹ năng trong lĩnh vực điện tử – viễn thông. Với những sinh viên tốt nghiệp chuyên ngành kỹ thuật điện tử viễn thông, có thể ứng tuyển vào vị trí nhân viên kỹ thuật điện tử – viễn thông tại hầu hết các tổ chức, doanh nghiệp.\\nMô tả công việc:\\nCông việc của nhân viên kỹ thuật điện tử – viễn thông sẽ liên quan đến các nhiệm vụ gồm:\\nCó thể thấy vị trí công việc này gần như bao quát toàn bộ hệ thống điện tử – viễn thông trong đơn vị làm việc. Nếu đáp ứng yêu cầu công việc và hoàn thành tốt nhiệm vụ được giao, người làm vị trí này có thể thăng tiến lên chức vụ chuyên viên, kỹ sư hoặc cấp bậc cao hơn.\\nApply nhân viên kỹ thuật điện tử – viễn thông ngay trên TopCV để có cơ hội tìm kiếm việc làm phù hợp.\\nKỹ sư viễn thông\\nKỹ sư viễn thông là những chuyên gia có trình độ kỹ thuật và kiến thức chuyên sâu về các hệ thống viễn thông. Vị trí này thường được các công ty viễn thông tuyển dụng. Nếu bạn tốt nghiệp ngành kỹ thuật điện tử – viễn thông hệ đào tạo kỹ sư thì đây là một trong những vị trí công việc có thể apply sau khi ra trường để có cơ hội “đầu quân” cho những công ty viễn thông lớn trong nước như: VNPT, Viettel, MobiFone, Vinaphone,v.vv..\\nMô tả công việc:\\nKỹ sư thiết kế và viết phần mềm\\nSinh viên ngành kỹ thuật điện tử viễn thông có thể làm việc trong các công ty công nghệ hoặc công ty sản xuất thiết bị viễn thông với vị trí kỹ sư thiết kế và viết phần mềm cho máy tính, điện thoại thông minh, xe ô tô, robot,v.vv..\\nĐây là vị trí công việc yêu cầu có trình độ kỹ thuật và kiến thức chuyên sâu về phát triển phần mềm điện tử viễn thông. Công việc của người làm ở vị trí này liên quan đến việc thiết kế, phân tích, lập trình và triển khai các ứng dụng và hệ thống phần mềm.\\nMô tả công việc:\\nKỹ sư vô tuyến\\nKỹ sư vô tuyến còn được gọi là kỹ sư viễn thông vô tuyến hoặc kỹ sư RF – Radio Frequency. Đây là vị trí quan trọng yêu cầu người làm có kiến thức và kỹ năng chuyên sâu về viễn thông vô tuyến, tương tác với sóng radio và các hệ thống truyền thông không dây.\\nVị trí công việc này liên quan đến thiết kế, triển khai và duy trì các hệ thống và thiết bị vô tuyến.\\nMô tả công việc:\\nChuyên viên vận hành, giám sát hạ tầng viễn thông\\nChuyên viên vận hành và giám sát hạ tầng viễn thông được đánh giá là một vị trí công việc quan trọng trong ngành viễn thông và mạng. Công việc này liên quan đến quản lý và duy trì các hệ thống hạ tầng viễn thông, đảm bảo sự hoạt động liên tục và ổn định của mạng tại các công ty, doanh nghiệp hoặc đài phát thanh, đài truyền hình,v.vv..\\nMô tả công việc:\\nTrưởng bộ phận kỹ thuật\\nVới những người có kinh nghiệm làm việc lâu năm trong nghề và năng lực chuyên môn tốt, hoàn toàn có thể làm việc ở vị trí trưởng bộ phận kỹ thuật tại các công ty, doanh nghiệp.\\nVị trí này là người đứng đầu và có trách nhiệm quản lý và điều hành các hoạt động kỹ thuật trong một bộ phận hoặc một đơn vị tổ chức.\\nMô tả công việc:\\nVới vị trí này, lộ trình thăng tiến có thể giúp bạn phát triển để trở thành quản lý dự án viễn thông hoặc giám đốc kỹ thuật. Tuy nhiên, để có thể làm việc ở những vị trí cao hơn đòi hỏi bạn phải có kinh nghiệm nhiều năm làm việc trong lĩnh vực điện tử viễn thông, từng làm việc tại nhiều dự án với vị trí tương đường và có kỹ năng lãnh đạo.\\n>>> Khám phá ngay các vị trí tuyển dụng trưởng bộ phận kỹ thuật với mức thu nhập hấp dẫn và chế độ đãi ngộ tốt trên TopCV để có cơ hội kết nối với các nhà tuyển dụng chất lượng.\\nChuyên gia phân tích và tư vấn kỹ thuật điện tử viễn thông\\nVới kiến thức chuyên sâu về kỹ thuật điện tử viễn thông, bạn hoàn toàn có thể làm việc tại vị trí chuyên gia phân tích, tư vấn trong lĩnh vực điện tử – viễn thông. Ở vị trí này, người làm việc cần có kỹ năng phân tích, tư vấn, đánh giá và chuyên môn vững để thực hiện các nhiệm vụ phân tích, tư vấn và cung cấp các giải pháp, khuyến nghị để cải thiện hiệu suất và khả năng cạnh tranh của các hệ thống viễn thông.\\nMô tả công việc:\\nNgoài ra, nếu đam mê nghiên cứu và phát triển, sau khi tốt nghiệp ngành kỹ thuật điện tử viễn thông bạn hoàn toàn có thể tham gia vào hoạt động nghiên cứu và phát triển công nghệ mới trong ngành kỹ thuật điện tử viễn thông. Để thực hiện điều này, nhiều người lựa chọn trở thành cán bộ giảng dạy, nghiên cứu trong các viện nghiên cứu, trường đại học, cao đẳng về kỹ thuật điện tử viễn thông.\\nTrên đây chỉ là một số gợi ý công việc mà bạn có thể làm sau khi tốt nghiệp và được đào tạo về ngành kỹ thuật điện tử viễn thông. Có thể nói, học ngành này mở ra nhiều cơ hội nghề nghiệp khác nhau cho các bạn sinh viên. Các công ty viễn thông, công ty sản xuất thiết bị điện tử, công ty công nghệ, đài phát thanh, đài truyền hình,v.vv.. và tổ chức nghiên cứu đều có nhu cầu tuyển dụng các chuyên gia trong lĩnh vực này.\\nSau khi xác định được vị trí công việc muốn ứng tuyển, việc tiếp theo bạn cần làm là chuẩn bị một bản CV chỉn chu, đẹp mắt và chuyên nghiệp gửi đến nhà tuyển dụng. Hãy tham khảo cách viết CV tìm việc kỹ thuật điện tử mà TopCV đã chia sẻ để cấu trúc một bản CV ưng ý bạn nhé.\\nTìm việc làm ngành kỹ thuật điện tử viễn thông ở đâu?\\nNhu cầu việc làm ngành kỹ thuật điện tử viễn thông rất lớn và đa dạng vị trí tuyển dụng. Tuy nhiên việc tìm được một bến đỗ công việc với vị trí phù hợp là điều không dễ dàng, nhất là với các bạn sinh viên mới ra trường. Nếu bạn đang lo lắng tìm kiếm những cơ hội việc làm trong ngành kỹ thuật điện tử viễn thông hoặc mong muốn có thêm nhiều thông tin tuyển dụng trong ngành này thì TopCV là lựa chọn đáng cân nhắc.\\nLà nền tảng tuyển dụng và việc làm tiên phong tại Việt Nam, TopCV giúp bạn tiếp cận với hàng triệu thông tin tuyển dụng ở nhiều vị trí công việc khác nhau. Bằng việc ứng dụng trí tuệ nhân tạo, TopCV dễ dàng kết nối ứng viên với mạng lưới nhà tuyển dụng tại nhiều tỉnh thành khác nhau. Đặc biệt, TopCV giúp bạn có cơ hội được kết nối và tiếp cận các vị trí công việc hấp dẫn từ các doanh nghiệp trong nước cũng như quốc tế có uy tín trong lĩnh vực điện tử viễn thông như: FPT, Viettel, MobiFone, VNPT, SamSung,v.vv.. Từ đó thuận lợi tìm ra “miền đất hứa” cho mình.\\nKhông chỉ kết nối nhanh chóng, TopCV còn hỗ trợ bạn tạo CV chuyên nghiệp, viết sơ yếu lý lịch đúng chuẩn và cung cấp thêm nhiều kiến thức về kỹ năng phỏng vấn, kỹ năng tạo ấn tượng với nhà tuyển dụng để tăng tỷ lệ thành công khi tìm việc.\\nTrên đây là những thông tin chi tiết về ngành kỹ thuật điện tử viễn thông mà TopCV vừa cập nhật và gửi đến bạn. Hy vọng với những thông tin này, bạn đã hiểu rõ về ngành kỹ thuật điện tử viễn thông như: môn thi, cơ hội nghề nghiệp, mức thu nhập,v.vv.. từ đó đưa ra sự lựa chọn công việc phù hợp sau khi ra trường, đồng thời tự tin lựa chọn ngành học nếu bạn đang lúng túng trong việc chọn ngành, chọn trường học sau khi tốt nghiệp THPT. Chúc các bạn thành công và đừng quên TopCV vẫn đồng hành trong suốt hành trình tìm việc thông qua việc cập nhật nhanh chóng và liên tục các công việc mới nhất bạn nhé!.'}]"
      ]
     },
     "execution_count": 8,
     "metadata": {},
     "output_type": "execute_result"
    }
   ],
   "source": [
    "refs"
   ]
  },
  {
   "cell_type": "code",
   "execution_count": 9,
   "metadata": {},
   "outputs": [
    {
     "data": {
      "text/plain": [
       "3"
      ]
     },
     "execution_count": 9,
     "metadata": {},
     "output_type": "execute_result"
    }
   ],
   "source": [
    "len(refs)"
   ]
  },
  {
   "cell_type": "code",
   "execution_count": 10,
   "metadata": {},
   "outputs": [],
   "source": [
    "refs = [item['raw_content'] for item in refs]"
   ]
  },
  {
   "cell_type": "code",
   "execution_count": 11,
   "metadata": {},
   "outputs": [
    {
     "data": {
      "text/plain": [
       "['Tìm hiểu kiến thức học và cơ hội việc làm ngành Điện tử viễn thông\\nMỤC LỤC\\n1. Ngành điện tử viễn thông là gì? Và ứng dụng trong đời sống\\n2. Ngành điện tử viễn thông học những kiến thức gì?\\n3. Định hướng công việc ngành Điện tử viễn thông? Cơ hội việc làm có rộng mở?\\n4. Cần trang bị gì để học và làm việc tốt ngành điện tử viễn thông\\n5. Các trường đào tạo ngành điện tử viễn thông\\nNgành điện tử viễn thông là gì? Và ứng dụng trong đời sống\\nĐiện tử viễn thông là ngành sử dụng những công nghệ tiên tiến để tạo ra các thiết bị giúp cho việc liên lạc, truy xuất thông tin của cá nhân hoặc tổ chức, điện tử viễn thông được ứng dụng cao ở nhiều lĩnh vực trong cuộc sống.\\n•\\xa0\\xa0 \\xa0Lĩnh vực mạng, viễn thông: các thiết bị truyền tin trên toàn cầu như hệ thống truyền dẫn: cáp quang, vệ tin, hệ thống truyền tin không dây (vi ba) v.v... Thành tựu mới đây nhất là xây dựng hệ thống 5g và các thiết bị hệ thống hôi nghị truyền hình\\n•\\xa0\\xa0 \\xa0Lĩnh vực định vị dẫn đường: là một lĩnh vực đặc biệt quan trọng ngành Hàng không và Hàng hải. Những trạm kiểm soát không lưu mặt đất là nơi những kĩ sư Điện tử Viễn thông làm nhiệm vụ dẫn đường cho hàng nghìn chuyến bay, tàu thuỷ hoạt động an toàn\\n•\\xa0\\xa0 \\xa0Lĩnh vực nghiên cứu, sáng tạo công nghệ, thiết bị mới: là lĩnh vực đòi hỏi người học phải có sự sáng tạo dựa trên những ứng dụng của xã hội nói chung và ngành Điện tử Viễn thông nói riêng, phát triển các công nghệ mới, ứng dụng mới hữu ích và đơn giản hơn cho mọi người là lĩnh vực thúc đẩy sự phát triển của toàn bộ ngành Điện tử Viễn thông\\n•\\xa0\\xa0 \\xa0Lĩnh vực điện tử y sinh: ngành dđiện tử viễn thông là nền tảng để tạo ra các máy móc, thiết bị điện tử hiện đại trong lĩnh vực y tế và sinh học.\\n•\\xa0\\xa0 \\xa0Lĩnh vực âm thành, hình ảnh: ngành kỹ thuật Điện tử Viễn thông \\xa0đóng góp 1 phần quan trọng của như việc thiết kế ra các trang thiết bị nghe nhìn, điều chỉnh âm độ các thiết bị thu âm v.v...\\nCó thể nói tất cả các thiết bị trong cuộc sống hiện đại ngày nay như : máy thu hình, điện thoại, máy tính cá nhân, máy tính bảng,… đều có dấu ấn của ngành Điện tử Viễn thông , là nền tảng cơ bản nhất của cách mạng công nghiệp 4.0, của xu hướng chuyển đối số trong mọi lĩnh vực của đời sống, kinh tế, xã hội.\\nNgành điện tử viễn thông học những kiến thức gì?\\nHiểu từ tên gọi, có rất nhiều người cho rằng Điện tử Viễn thông là một phần của Công nghệ thông tin, cách hiểu này không hoàn toàn sai nhưng chưa chính xác. Giải thích cơ bản thì Ngành Điện tử-viễn thông và ngành Công nghệ thông tin là hai ngành rất gần với nhau, có nhiều kiến thức chung về công nghệ tuy nhiên đi vào chuyên sâu sẽ thấy rõ sự khác biệt rằng: CNTT tập trung vào xây dựng phần mềm còn chuyên ngành DTVT tập trung về phần cứng.\\nTheo học ngành Điện tử - Viễn thông, sinh viên được trang bị khối kiến thức theo 3 tầng cấp độ:\\nCấp độ 1: Các kiến thức nền tảng và chuyên sâu về các công nghệ, kỹ thuật: Giải tích mạch điện; trường điện tử; kỹ thuật lập trình; điện tử số; nguyên lý truyền thông; vi xử lý; điện tử thông tin; kỹ thuật truyền số liệu và mạng; xử lý tín hiệu; thiết kế số dùng ngôn ngữ mô tả phần cứng; hệ thống viễn thông; kỹ thuật siêu cao tần và anten,...\\nCấp độ 2: ngành Công nghệ Kỹ thuật Điện tử - Viễn thông cung cấp cho sinh viên các kỹ năng vận hành bảo trì, sửa chữa, cải tiến, nâng cấp các hệ thống, thiết bị điện tử viễn thông\\nCấp độ 3: Nâng cao hơn là khả năng tìm hiểu, nghiên cứu, phát triển ứng dụng công nghệ kỹ thuật điện tử viễn thông trong công nghiệp và trong đời sống dân dụng. Thực hành, vận dụng lý thuyết là phần học quan trọng nhất trong ngành DTVT, cụ thể là những cuộc thi đầy sáng tạo như: robocon\\nĐịnh hướng công việc ngành Điện tử viễn thông? Cơ hội việc làm có rộng mở?\\nHọc ngành điện tử viễn thông ra làm gì? có thể đảm nhận những vị trí nào? Làm việc ở công ty nào là câu hỏi của tất cả sinh viên ngành viễn thông cần biết và nền tìm hiểu:\\n•\\xa0\\xa0 \\xa0Chuyên viên quy hoạch, thiết kế và tối ưu hóa hệ thống mạng tại các công ty viễn thông < VNPT, Viettel, Vinaphone, Mobiphone …;>\\n•\\xa0\\xa0 \\xa0Chuyên viên thiết kế, tư vấn và điều hành công tác kỹ thuật tại các đài phát thanh, truyền hình < VTV, HTV,SCTV, các đài truyền hình địa phương…>\\n•\\xa0\\xa0 \\xa0Chuyên viên nghiên cứu và thiết kế tại các công ty sản xuất thiết bị điện tử viễn thông, âm thanh hình ảnh, công ty thiết kế sản xuất vi mạch. < Aver, Maxhub, FPT, Samsung, LG, Intel, Panasonic..>\\n•\\xa0\\xa0 \\xa0Chuyên viên vận hành, thiết kế và bảo trì thiết bị điện tử, tự động hóa trong các đơn vị, doanh nghiệp.\\n•\\xa0\\xa0 \\xa0Khi có kinh nghiệm và thời gian làm việc \\xa0có thể giữ vị trí Trưởng bộ phận kỹ thuật, Giám đốc kỹ thuật tại các doanh nghiệp, các công ty trong lĩnh vực điện tử, viễn thông, truyền thông.\\n•\\xa0\\xa0 \\xa0Có thể trở thành cán bộ giảng dạy, nghiên cứu tại các trường đại học, cao đẳng và Viện nghiên cứu.\\nThế giới nói chung và Việt Nam nói riêng đang sống trong kỳ nguyên số. Các doanh nghiệp về công nghệ ngày càng nhiều và phát triển rất nhanh, đi cùng đó là nhu cầu về nguồn nhân lực cũng tăng cao. Dự báo của Vietnamworks cho thấy, nước ta đang thiếu 400.000 nhân lực công nghệ thông tin và điện tử viên thông và mỗi năm cần cung ứng mới tới 78.000 lao động. Tuy nhiên trong thực tế, mỗi năm nước ta chỉ có khoảng 50.000 sinh viên tốt nghiệp, dẫn đến \"cơn khát\" nhân lực đối với ngành học này dường như chưa bao giờ hạ.\\nCần trang bị gì để học và làm việc tốt ngành điện tử viễn thông\\nKhông chỉ ngành ĐTVT mà khi lựa chọn ngành học và việc làm, cần tìm thấy được sự đam mê và thích thú. Điều này giúp người học và người làm việc tìm thấy được niềm vui trong công việc, công việc không nhàm chán.\\nCòn riêng trong ngành ĐT VT nên có thêm những tố chất về: sự kiên trì, nhẫn nại, kỹ năng ngoại ngữ và khả năng làm việc nhóm.\\nCác trường đào tạo ngành điện tử viễn thông\\nVới hệ chính quy Đại học, đào tạo ngành Điện tử viễn thông có thể kể đến các trường với bề dày và có tỷ lệ sinh viên đầu ra tốt nhất:\\nKhoa điện tử viễn thông đại học bách khoa đà nẵng\\nTrường ĐH Bách khoa Hà Nội\\nTrường ĐH Bách khoa HCM (ĐH Quốc gia HCM)\\nTrường ĐH khoa học (ĐH Huế)\\nTrường Học viện Công nghệ Bưu chính Viễn thông\\nTrường ĐH Công nghệ (ĐH Quốc gia Hà Nội)\\nĐại học Công nghệ TP.HCM\\nĐại học Sư phạm Kỹ thuật TP.HCM\\nĐại học Điện lực – Hà Nội\\nĐĂNG KÝ TƯ VẤN NGAY HÔM NAY\\nTin khác\\nBẢNG GIÁ MÀN HÌNH TƯƠNG TÁC 65INCH RẺ NHẤT 2022\\nReview loa hội nghị bluetooth Maxhub BM21\\nLiên kết quang học (Optical Bonding) là gì?\\nSo sánh công nghệ\\xa0LED Edge-lit \\xa0(chiếu sáng cạnh) và Back-lit\\xa0(chiếu sáng nền)\\nSo sánh sự khác biệt giữa màn hình cảm ứng IR và PCAP\\nSo sánh màn hình tương tác: MAXHUB V5 Transcend vs LG CreateBoard™\\nVì sao nên sử dụng tính năng Automatic Framing của Polycom Studio?\\nCác loại công nghệ màn hình cảm ứng\\nTrụ Sở Chính TP. Hồ Chí Minh\\nĐịa chỉ :\\xa0T08, đường số 20, KĐT Him Lam, P. Tân Hưng, Q.7, HCM\\nHotline :\\xa00918.325.086\\nEmail :\\xa0info@baoantelecom.com\\nChi nhánh Hà Nội\\nĐịa chỉ : P.201, 627 Vũ Tông Phan, Khương Đình, Thanh Xuân, Hà Nội\\nHotline :\\xa00911.527.086\\nEmail :\\xa0info@baoantelecom.com\\nChi nhánh Đà Nẵng\\nĐịa chỉ : H53/15 K729\\xa0Ngô Quyền, Q. Sơn Trà, Đà Nẵng\\nHotline : 0918.325.086\\nEmail : info@baoantelecom.com',\n",
       " 'Tìm học bổng 2024\\nTìm khóa học\\nCác ngành học phổ biến\\nĐiểm đến du học nào phù hợp với bạn nhất?\\nCanada\\nÚc\\nVương quốc Anh\\nMỹ\\nCác Châu lục\\nCác điểm đến tiềm năng\\nChào bạn, mình là E-bot, trợ lý ảo của bạn. Mình giúp bạn tìm thông tin nhé?\\nVới FastLane, bạn biết bạn có khả năng trúng tuyển vào trường đại học mơ ước chỉ sau vài phút.\\nChọn trường du học\\nKinh nghiệm du học\\nĐể được tư vấn về xu hướng du học mới, hồ sơ du học, visa và các vấn đề khác.\\nTìm hiểu thêm về các trường ở quốc gia bạn muốn đến du học. Trường nào phù hợp với bạn nhất?\\nChào bạn ,\\nTìm hiểu thêm về các trường ở quốc gia bạn muốn đến du học. Trường nào phù hợp với bạn nhất?\\nVề Hotcourses\\nGõ 2 từ để gợi ý\\nBạn thử chỉ tìm kiếm theo ngành học hoặc trường học trước thôi rồi sau đó lọc kết quả xem thế nào.\\nNgành Điện tử - Viễn Thông: Học gì, học ở đâu và cơ hội nghề nghiệp\\nĐiện tử - Viễn Thông là một trong những ngành có tiềm năng phát triển, nhiều cơ hội việc làm và đóng vai trò quan trọng trong sự phát triển của một quốc gia. Tuy nhiên, ngành Kỹ thuật Điện tử - Viễn thông khá rộng lớn, chia thành rất nhiều lĩnh vực phong phú nên dễ khiến bạn hoang mang khi mới tìm hiểu ngành này. Hotcourses Vietnam mời bạn khám phá ngành Điện tử - Viễn Thông một cách khái quát và đầy đủ qua bài viết sau đây!\\nNgành Điện tử - Viễn Thông là gì?\\nĐiện tử và Viễn Thông vốn có sự liên quan mật thiết với nhau nên mới đi theo cặp như vậy. Cụ thể, lĩnh vực Điện tử nghiên cứu và chế tạo ra các vi mạch điện tử, được xem như là “bộ não” điều khiển toàn bộ hoạt động của các thiết bị thông minh. Trong khi đó, lĩnh vực Viễn thông nghiên cứu và sử dụng các thiết bị để tạo nên các mạng lưới truyền dẫn thông tin cho mục đích giao tiếp xuyên biên giới. Từ đó, ngành Điện tử - Viễn Thông có thể hiểu đơn giản là ứng dụng công nghệ tiên tiến để tạo ra các thiết bị truyền thông tin. Một số sản phẩm của ngành Điện tử - Viễn thông quen thuộc với mọi người có thể kể đến như tivi, điện thoại, máy tính, mạch điều khiển,...\\xa0 Ngành Điện tử - Viễn Thông có vai trò quan trọng trong việc xây dựng hệ thống thông tin liên lạc toàn cầu để mọi người trao đổi, truy xuất thông tin, giám sát và điều khiển thiết bị thông minh một cách nhanh chóng và thuận tiện.\\nHọc gì trong ngành Điện tử - Viễn Thông?\\nTheo học ngành Kỹ thuật điện tử - viễn thông, sinh viên sẽ được đào tạo kiến thức chuyên môn về lĩnh vực điện tử, nguyên lý truyền thông tin và tiếp cận với công nghệ kỹ thuật điện tử tiên tiến như:\\nMạng không dây\\nMạng truyền số liệu\\nKỹ thuật siêu cao tần và anten\\nHệ thống phát thanh truyền hình\\nCông nghệ phân tích và xử lý tín hiệu, âm thanh, hình ảnh\\nThời gian đào tạo Cử nhân ngành Kỹ thuật Điện tử - Viễn thông của các trường Đại học trong khoảng 4-5 năm.\\nBởi ngành này mang tính ứng dụng cao, luôn bám sát thực tiễn theo nhu cầu của các doanh nghiệp và xu thế công nghệ mới nên sinh viên được thực hành và trải nghiệm nhiều. Sinh viên sẽ có khoảng 30% thời lượng học tập để được thực chiến các kỹ năng với các trang thiết bị của trường như:\\nVận hành, bảo trì, sửa chữa, nâng cấp các hệ thống, thiết bị điện tử - viễn thông\\nTìm hiểu, nghiên cứu và phát triển ứng dụng công nghệ kỹ thuật điện tử - viễn thông trong công nghiệp và đời sống\\nKhi đi sâu vào từng chuyên ngành, sinh viên sẽ gặp gỡ khối lượng kiến thức đặc thù rộng lớn, tuy thú vị nhưng cũng nhiều thử thách. Ba chuyên ngành nổi trội hiện đang phổ biến bởi tính ứng dụng mà sinh viên cần cân nhắc khi theo đuổi là:\\nKỹ thuật điện tử - Viễn thông\\nKỹ thuật điều khiển và tự động hóa\\nHệ thống nhúng và IoT (tạo ra các thiết bị thông minh, kết nối Internet)\\nNgành Điện tử - Viễn Thông học ở đâu?\\nNgành Điện tử - Viễn Thông thường được xem là một trong những ngành yêu cầu đầu vào cao điểm nhất ở Việt Nam trong nhiều năm qua. Điều đó cho thấy độ thu hút của ngành đối với nhiều sinh viên có đam mê với kỹ thuật. Những trường đại học đào tạo ngành kỹ thuật Điện tử - Viễn Thông có uy tín ở nước ta phải kể đến như: Đại học Bách khoa (ĐH Quốc gia TP.HCM), Đại học Khoa học tự nhiên (ĐH Quốc gia TP.HCM), Đại học Sư phạm Kỹ thuật TP.HCM, Đại học Khoa học (ĐH Huế), Đại học Bách khoa (Đà Nẵng), Đại học Công nghệ (ĐH Quốc gia Hà Nội), Học viện Công nghệ bưu chính viễn thông, Đại học Bách khoa Hà Nội, Đại học Điện lực Hà Nội.\\nNếu có điều kiện, bạn nên theo đuổi ngành Điện tử - Viễn Thông tại các nước có thế mạnh về ngành này để học hỏi những điều hay. Việc trải nghiệm trong môi trường theo chuẩn quốc tế từ khi còn trên ghế nhà trường sẽ tạo nền tảng tốt và điều kiện thuận lợi cho các kỹ sư tương lai thích ứng với yêu cầu công việc. Nếu bạn muốn trau dồi kiến thức theo cách tốt nhất, Hotcourses Vietnam sẽ gợi ý những điểm đến du học hàng đầu sau:\\nCác khóa đào tạo ngành Điện tử - Viễn thông ở Mỹ\\nCác khóa đào tạo ngành Điện tử - Viễn thông ở Úc\\nCác khóa đào tạo ngành Điện tử - Viễn thông ở Canada\\nCác khóa đào tạo ngành Điện tử - Viễn thông ở Anh\\nBạn lưu ý là bấm vào link \"Xem [số] khóa học Điện tử - Viễn thông\" để tìm hiểu thông tin cụ thể về chương trình học ở từng trường. Nếu bạn có thắc mắc về du học ngành Điện tử - Viễn thông, các chuyên gia du học IDP giàu kinh nghiệm luôn sẵn sàng hỗ trợ và tư vấn hoàn toàn miễn phí.\\nTương lai của ngành Điện tử - Viễn Thông và cơ hội nghề nghiệp dành cho bạn\\nTốc độ phát triển nhanh chóng của lĩnh vực Điện tử - Viễn Thông vẫn đang sản sinh ra nhiều nghề nghiệp mới mà có thể chính bạn là một trong những người tiên phong đảm nhận. Không chỉ các công ty trong lĩnh vực viễn thông như Viettel, VNPT, FPT mà các doanh nghiệp trong nhiều lĩnh vực khác như điện lực, ngân hàng, giao thông, quốc phòng - an ninh... vẫn cần sử dụng hạ tầng mạng viễn thông và máy tính. Điều đó có nghĩa bạn sẽ có nhiều sự lựa chọn để phát triển sự nghiệp tương lai của mình.\\nSau khi hoàn thành chương trình đào tạo, bạn có thể đảm nhận những vị trí công việc sau:\\nChuyên viên tư vấn, thiết kế và vận hành kỹ thuật tại các đài phát thanh, đài truyền hình, công ty tư vấn thiết kế mạng viễn thông, sản xuất thiết bị Điện tử - Viễn Thông, những công ty sản xuất vi mạch\\nKỹ sư vô tuyến với kiến thức chuyên sâu về vận hành mạng, các mạng di động 2G/ 3G/ 4G/ 5G và cấu trúc mạng cũng như các thuật toán, tham số của tính năng mạng vô tuyến\\nKỹ sư viễn thông đảm nhiệm nghiên cứu và phát triển mạng vô tuyến, định vị dẫn đường, thiết bị tín hiệu đa phương tiện về âm thanh, hình ảnh\\nKỹ sư truyền dẫn đảm nhận việc vận hành, khai thác, giám sát lắp đặt mạng truyền dẫn\\nKỹ sư thiết kế và viết phần mềm cho các thiết bị thông minh như điện thoại di động, rô bốt, xe ô tô\\nGiám đốc kỹ thuật, Trưởng bộ phận kỹ thuật tại các công ty, doanh nghiệp trong lĩnh vực điện tử, viễn thông, bưu chính viễn thông, bưu điện\\nKhông thể bỏ lỡ\\nNgành khoa học dữ liệu: Những điều bạn cần biết\\nNgành Khoa học dữ liệu (Data Science) là ngành học lí tưởng cho những bạn học sinh, sinh viên đam mê công nghệ, dữ liệu và khám phá những điều mới lạ. Trong bài viết này, cùng Hotcourses Vietnam tìm hiểu về ngành học và các cơ hội nghề nghiệp của ngành Khoa học dữ liệu nhé!\\nNgành khoa học dữ liệu là gì?\\nKhoa học dữ liệu (Data science) là ngành khoa học về việc khai phá, quản trị và phân tích dữ liệu để dự đoán các xu hướng trong\\nNgành Quản trị Nhân lực: Học gì, ở đâu, và cơ hội nghề nghiệp\\nNgành Quản trị nhân lực, hay ngành quản lý nhân sự là một chuyên ngành hết sức hữu ích bởi nó giúp bạn nhìn nhận và đánh giá con người cũng như các công ty, tổ chức theo một cách khác biệt. Ngành này là sự kết hợp của rất nhiều các kỹ năng khác nhau, cung cấp cho bạn một cái nhìn sâu sắc về kinh doanh cũng như sự hiểu biết về cách quản lý nhân sự mà không phải ai trong công ty cũng có khả năng nhìn nhận. Trong bài viết này, hãy cùng Hotcourses Vietnam tìm hiểu thêm\\nNgành Xã hội học: Học gì, học ở đâu, và cơ hội nghề nghiệp\\nLĩnh vực nghiên cứu về hành vi và các mối quan hệ xã hội của con người đang ngày càng được chú trọng. Vì lý do này, ngành xã hội học đang thu hút sự quan tâm của nhiều bạn học sinh, sinh viên trong những năm gần đây bởi tính thiết thực và cơ hội phát triển rộng mở. Vậy xã hội học là ngành gì? Học xã hội học làm nghề gì? Cùng Hotcourses Vietnam tìm hiểu chi tiết về ngành xã hội học trong bài viết dưới đây.\\nNgành xã hội học là gì?\\nXã\\nNgành kinh tế đối ngoại: Học gì, học ở đâu, và cơ hội nghề nghiệp\\nHiện nay, khi các quốc gia tiến hành quá trình hội nhập quốc tế sâu rộng, nhu cầu về sự giao thương toàn cầu diễn ra rất mạnh mẽ. Trong bối cảnh đó, ngành kinh tế đối ngoại trở thành một ngành học phổ biến, thu hút nguồn nhân lực khổng lồ. Vậy kinh tế đối ngoại là gì? Học kinh tế đối ngoại ra làm gì? Cùng Hotcourses Vietnam khám phá chi tiết về ngành kinh tế đối ngoại trong bài viết dưới đây.\\nNgành kinh tế đối ngoại là gì?\\nKinh tế đối\\nCập nhật thông tin quan trọng về du học\\nXu hướng du học, chính sách visa, học bổng và kinh kinh nghiệm hay.\\nVui lòng điền địa chỉ email hợp lệ\\nLink hữu ích\\nKết nối với chúng tôi\\nTư vấn du học',\n",
       " 'Có nên học ngành kỹ thuật điện tử viễn thông hay không?\\n16 nghìn người/năm là nhu cầu tuyển dụng lao động làm việc ngành kỹ thuật điện tử viễn thông trong giai đoạn từ 2020 – 2025. Điều này chứng minh, nhân lực ngành này đang tuyển dụng nhiều và có xu hướng tăng qua các năm. Vậy ngành kỹ thuật điện tử viễn thông là gì? Học ngành này ở đâu? Thi những môn nào? Cơ hội việc làm và mức thu nhập ra sao sau khi ra trường? Tất cả sẽ được TopCV cung cấp chi tiết trong bài viết sau đây để bạn cùng tìm hiểu, từ đó dễ dàng đưa ra sự lựa chọn.\\nNội dung bài viết\\nNgành kỹ thuật điện tử viễn thông là gì?\\nNgành kỹ thuật điện tử viễn thông là ngành học đào tạo nguồn nhân lực có chuyên môn và kỹ năng về việc thiết kế, phát triển và vận hành các hệ thống và công nghệ liên quan đến viễn thông và truyền thông điện tử.\\nĐây là ngành tập trung vào các công nghệ và ứng dụng sử dụng trong việc truyền tải, xử lý và quản lý thông tin qua các mạng điện tử và không dây. Trong đó có kể đến các thiết bị truyền thông và thiết bị điện tử như: điện thoại di động, tivi, máy tính, hệ thống nhúng, các mạch điều khiển, router, anten, thiết bị phát sóng,v.vv..\\u200b\\nCơ hội việc làm ngành điện tử viễn thông\\nTheo đánh giá của các chuyên gia phân tích nhu cầu nhân lực, ngành điện tử viễn thông là một trong những nhóm ngành có nhu cầu nhân lực cao trong thời đại 4.0 hiện nay. Sinh viên tốt nghiệp chuyên ngành này được nhận định là có cơ hội làm việc với nhiều vị trí khác nhau tại các doanh nghiệp, bao gồm cả doanh nghiệp trong nước như: FPT, Viettel, VNPT, MobiFone, VinSmart, v.vv.. hay doanh nghiệp nước ngoài như: SamSung, LG, Nokia, Apple, Inter, v.vv..\\nMột thống kê từ Trung tâm Dự báo nhu cầu nhân lực và Thông tin thị trường lao động TPHCM cho thấy, giai đoạn từ 2020 – 2025 nhu cầu tuyển dụng lao động làm việc ngành điện tử viễn thông là khoảng 16 nghìn người/năm. Con số này đang có xu hướng tăng lên qua các năm sau đó.\\nTrong khi đó, đại diện Tổng công ty công nghệ cao Viettel cũng từng chia sẻ, hơn 50% nhân lực kỹ sư của doanh nghiệp này là chuyên ngành điện tử viễn thông. Mỗi năm doanh nghiệp tuyển khoảng 100 kỹ sư mới ra trường.\\nNhững con số “biết nói” trên cho thấy, tiềm năng và cơ hội việc làm cho những người được đào tạo ngành kỹ thuật điện tử viễn thông là rất lớn. Tốt nghiệp ngành này sinh viên có thể làm việc tại các vị trí như: chuyên viên tư vấn, thiết kế và vận hành kỹ thuật tại các đài phát thanh, truyền hình, công ty dịch vụ kỹ thuật điện tử viễn thông; Kỹ sư thiết kế vận hành hệ thống thông tin đa phương tiện tại các công ty truyền thông đa phương tiện; Kỹ sư viết phần mềm máy tính, v.vv..\\nChưa kể, trong xu hướng chuyển đổi số như hiện nay, nhu cầu nhân lực cho ngành điện tử viễn thông là rất lớn và vẫn còn thiếu. Các công ty viễn thông, công ty sản xuất thiết bị điện tử, nhà mạng sẽ trở thành “miền đất hứa” cho các tân kỹ sư tốt nghiệp chuyên ngành này.\\nTopCV có thể giới thiệu hàng trăm vị trí công việc ngành kỹ thuật điện tử viễn thông đang tuyển dụng để bạn tham khảo và nắm bắt cơ hội việc làm của ngành này sau khi ra trường.\\nMột số câu hỏi về ngành kỹ thuật điện tử viễn thông\\nĐể giúp các bạn hiểu sâu hơn về ngành này, sau đây TopCV sẽ giải đáp một số câu hỏi liên quan đến ngành kỹ thuật điện tử viễn thông.\\nNgành kỹ thuật điện tử viễn thông thi khối nào?\\nMã ngành kỹ thuật điện tử viễn thông thường là 7520207. Tuy nhiên, mã ngành này cũng có sự thay đổi tùy theo trường đào tạo, ví dụ tại Đại học Điện lực ngành này có mã là 7510302, Đại học Bách khoa Hà Nội mã ngành là ET-E4y, Đại học Công nghệ – ĐHQG Hà Nội mã ngành là CN9 v.vv.. Bạn nên căn cứ vào trường học mình lựa chọn để tra cứu chính xác mã ngành.\\nHàng năm ngành kỹ thuật điện tử viễn thông được tuyển sinh với số lượng lớn và thường thi vào với 2 khối:\\nNgoài ra, một số trường còn xét tuyển các tổ hợp gồm:\\nNếu bạn học tốt và nắm vững kiến thức các môn học này cộng thêm niềm đam mê với các thiết bị điện tử, viễn thông thì ngành kỹ thuật điện tử viễn thông là ngành bạn có thể cân nhắc lựa chọn để đăng ký thi tuyển sau khi tốt nghiệp THPT.\\nĐiểm chuẩn ngành kỹ thuật điện tử viễn thông\\nĐối với ngành kỹ thuật điện tử viễn thông, mỗi năm tuyển sinh điểm chuẩn sẽ có sự thay đổi, khác nhau giữa các trường đại học/học viện/cao đẳng có đào tạo ngành này. Bảng sau đây TopCV tổng hợp điểm chuẩn ngành kỹ thuật điện tử viễn thông mới nhất tại một số trường đại học/học viện, bạn có thể tham khảo:\\nGhi chú:\\nNgành kỹ thuật điện tử viễn thông học gì?\\nHiện nay các trường đại học, học viện đào tạo ngành kỹ thuật điện tử – viễn thông theo khung chương trình kéo dài từ 4 – 5 năm. Sau khi ra trường sinh viên sẽ được cấp bằng cử nhân hoặc kỹ sư. Số lượng tín chỉ (môn học/học phần) sẽ có sự khác nhau tùy theo chuyên ngành cụ thể mà bạn theo học sau khi thi đậu ngành kỹ thuật điện tử viễn thông.\\nKhi theo học ngành này, sinh viên sẽ được đào tạo các kiến thức chuyên môn về lĩnh vực điện tử, viễn thông, bao gồm cả lý thuyết và thực hành. Ngoài các môn cơ sở ngành, chương trình đào tạo còn chú trọng vào việc cung cấp kiến thức và kỹ năng để sinh viên có thể thiết kế, xây dựng, khai thác, vận hành, sử dụng, bảo trì các thiết bị điện tử, viễn thông.\\nTùy theo chuyên ngành lựa chọn, người học sẽ được học những kiến thức chuyên sâu hơn. Dưới đây là một số môn bạn sẽ được học khi lựa chọn ngành kỹ thuật điện tử viễn thông:\\nNgoài ra sinh viên còn được học các môn học khác như: Điện tử công suất, thiết kế tổng hợp hệ thống số, Kiến trúc máy tính, Lập trình nâng cao, kỹ thuật siêu cao tần, trí tuệ nhân tạo và ứng dụng, Quy hoạch và quản lý mạng viễn thông, thông tin vệ tinh, thông tin quang sợi,v.vv..\\nThông thường số lượng học phần hoặc nội dung học phần sẽ có sự khác nhau giữa bậc đào tạo cử nhân và kỹ sư.\\nKỹ thuật điện tử viễn thông học trường nào tốt?\\nLà một ngành có yêu cầu đầu vào cao và chất lượng đầu ra tốt, kỹ thuật điện tử viễn thông hiện được nhiều trường đưa vào hệ thống đào tạo.\\nCác trường đào tạo ngành kỹ thuật điện tử viễn thông\\nNếu bạn đang phân vân trong việc lựa chọn học ngành kỹ thuật điện tử viễn thông tại trường nào thì hãy cùng TopCV điểm qua danh sách các trường đại học có đào tạo ngành kỹ thuật điện tử – viễn thông sau đây:\\nMiền Bắc\\nMiền Trung:\\nMiền Nam:\\nHọc kỹ thuật điện tử viễn thông trường nào tốt?\\nViệc lựa chọn trường nào tốt để theo đuổi đam mê kỹ thuật điện tử- viễn thông của mỗi người có thể xuất phát từ nhiều tiêu chí khác nhau. Sau đây TopCV đưa ra gợi ý một số trường đại học uy tín và nổi tiếng trong đào tạo ngành kỹ thuật điện tử viễn thông để bạn có thể tham khảo và đưa ra sự lựa chọn phù hợp cho mình:\\nCác trường quốc tế nổi tiếng đào tạo kỹ thuật điện tử viễn thông\\nHiện nay trên thế giới có nhiều trường đào tạo chuyên ngành kỹ thuật điện tử viễn thông. Nếu có điều kiện về kinh tế, bạn có thể học ngành này tại các trường đại học và viện công nghệ nổi tiếng đào tạo kỹ thuật điện tử viễn thông như:\\nTrên đây chỉ là các gợi ý giúp bạn có thể dễ dàng đưa ra quyết định hơn khi quan tâm đến ngành kỹ thuật điện tử viễn thông. Quan trọng nhất là lựa chọn một trường có chương trình đào tạo và cơ sở vật chất phù hợp với mục tiêu học tập và sự quan tâm cá nhân của bạn. Ngoài ra, nên xem xét các thông tin về danh sách giảng viên, dự án nghiên cứu và cơ hội thực tập, liên kết doanh nghiệp để đánh giá chất lượng giáo dục và khả năng phát triển nghề nghiệp trong ngành kỹ thuật điện tử viễn thông sau khi tốt nghiệp.\\nNgành kỹ thuật điện tử viễn thông lương bao nhiêu?\\nMức lương trong ngành kỹ thuật điện tử viễn thông khá đa dạng và phụ thuộc vào nhiều yếu tố như: vị trí làm việc, kinh nghiệm làm việc, tính chất công việc, quốc gia,v.vv.. Tuy nhiên, nhìn chung ngành kỹ thuật điện tử viễn thông thường có mức lương khá hấp dẫn. Đối với các chuyên gia và kỹ sư điện tử viễn thông có kinh nghiệm và trình độ cao, mức lương có thể rất cao và vượt qua mức trung bình của nhiều ngành khác.\\nDưới đây là mức lương của một số vị trí công việc trong ngành kỹ thuật điện tử viễn thông do TopCV tổng hợp mà bạn có thể tham khảo:\\nLưu ý, các chuyên gia và kỹ sư điện tử viễn thông có kỹ năng đặc biệt, nắm vững các công nghệ mới và có kinh nghiệm làm việc trong nhiều dự án quan trọng thường có cơ hội nhận được mức lương cao hơn và các phúc lợi hấp dẫn từ các công ty và tổ chức. Bạn có thể cập nhật nhanh việc làm ngành điện tử viễn thông để tham khảo mức thu nhập tại các vị trí công việc trong nhóm ngành này hiện nay.\\nHọc kỹ thuật điện tử viễn thông ra làm gì?\\nVấn đề việc làm sau khi ra trường luôn là nỗi băn khoăn và trăn trở của các bạn sinh viên. Đối với ngành kỹ thuật điện tử viễn thông, sau khi tốt nghiệp ra trường, với những kiến thức chuyên môn, kỹ năng đã học và được đào tạo, bạn có cơ hội làm việc tại nhiều vị trí khác nhau tại đa dạng các công ty, doanh nghiệp. TopCV sẽ tổng hợp một số vị trí công việc dành cho các sinh viên học ngành kỹ thuật điện tử viễn thông ngay sau đây để bạn tham khảo về thị trường tuyển dụng của nhóm ngành này hiện nay.\\nNhân viên kỹ thuật điện tử – viễn thông\\nNhân viên kỹ thuật điện tử – viễn thông là người có chuyên môn và kỹ năng trong lĩnh vực điện tử – viễn thông. Với những sinh viên tốt nghiệp chuyên ngành kỹ thuật điện tử viễn thông, có thể ứng tuyển vào vị trí nhân viên kỹ thuật điện tử – viễn thông tại hầu hết các tổ chức, doanh nghiệp.\\nMô tả công việc:\\nCông việc của nhân viên kỹ thuật điện tử – viễn thông sẽ liên quan đến các nhiệm vụ gồm:\\nCó thể thấy vị trí công việc này gần như bao quát toàn bộ hệ thống điện tử – viễn thông trong đơn vị làm việc. Nếu đáp ứng yêu cầu công việc và hoàn thành tốt nhiệm vụ được giao, người làm vị trí này có thể thăng tiến lên chức vụ chuyên viên, kỹ sư hoặc cấp bậc cao hơn.\\nApply nhân viên kỹ thuật điện tử – viễn thông ngay trên TopCV để có cơ hội tìm kiếm việc làm phù hợp.\\nKỹ sư viễn thông\\nKỹ sư viễn thông là những chuyên gia có trình độ kỹ thuật và kiến thức chuyên sâu về các hệ thống viễn thông. Vị trí này thường được các công ty viễn thông tuyển dụng. Nếu bạn tốt nghiệp ngành kỹ thuật điện tử – viễn thông hệ đào tạo kỹ sư thì đây là một trong những vị trí công việc có thể apply sau khi ra trường để có cơ hội “đầu quân” cho những công ty viễn thông lớn trong nước như: VNPT, Viettel, MobiFone, Vinaphone,v.vv..\\nMô tả công việc:\\nKỹ sư thiết kế và viết phần mềm\\nSinh viên ngành kỹ thuật điện tử viễn thông có thể làm việc trong các công ty công nghệ hoặc công ty sản xuất thiết bị viễn thông với vị trí kỹ sư thiết kế và viết phần mềm cho máy tính, điện thoại thông minh, xe ô tô, robot,v.vv..\\nĐây là vị trí công việc yêu cầu có trình độ kỹ thuật và kiến thức chuyên sâu về phát triển phần mềm điện tử viễn thông. Công việc của người làm ở vị trí này liên quan đến việc thiết kế, phân tích, lập trình và triển khai các ứng dụng và hệ thống phần mềm.\\nMô tả công việc:\\nKỹ sư vô tuyến\\nKỹ sư vô tuyến còn được gọi là kỹ sư viễn thông vô tuyến hoặc kỹ sư RF – Radio Frequency. Đây là vị trí quan trọng yêu cầu người làm có kiến thức và kỹ năng chuyên sâu về viễn thông vô tuyến, tương tác với sóng radio và các hệ thống truyền thông không dây.\\nVị trí công việc này liên quan đến thiết kế, triển khai và duy trì các hệ thống và thiết bị vô tuyến.\\nMô tả công việc:\\nChuyên viên vận hành, giám sát hạ tầng viễn thông\\nChuyên viên vận hành và giám sát hạ tầng viễn thông được đánh giá là một vị trí công việc quan trọng trong ngành viễn thông và mạng. Công việc này liên quan đến quản lý và duy trì các hệ thống hạ tầng viễn thông, đảm bảo sự hoạt động liên tục và ổn định của mạng tại các công ty, doanh nghiệp hoặc đài phát thanh, đài truyền hình,v.vv..\\nMô tả công việc:\\nTrưởng bộ phận kỹ thuật\\nVới những người có kinh nghiệm làm việc lâu năm trong nghề và năng lực chuyên môn tốt, hoàn toàn có thể làm việc ở vị trí trưởng bộ phận kỹ thuật tại các công ty, doanh nghiệp.\\nVị trí này là người đứng đầu và có trách nhiệm quản lý và điều hành các hoạt động kỹ thuật trong một bộ phận hoặc một đơn vị tổ chức.\\nMô tả công việc:\\nVới vị trí này, lộ trình thăng tiến có thể giúp bạn phát triển để trở thành quản lý dự án viễn thông hoặc giám đốc kỹ thuật. Tuy nhiên, để có thể làm việc ở những vị trí cao hơn đòi hỏi bạn phải có kinh nghiệm nhiều năm làm việc trong lĩnh vực điện tử viễn thông, từng làm việc tại nhiều dự án với vị trí tương đường và có kỹ năng lãnh đạo.\\n>>> Khám phá ngay các vị trí tuyển dụng trưởng bộ phận kỹ thuật với mức thu nhập hấp dẫn và chế độ đãi ngộ tốt trên TopCV để có cơ hội kết nối với các nhà tuyển dụng chất lượng.\\nChuyên gia phân tích và tư vấn kỹ thuật điện tử viễn thông\\nVới kiến thức chuyên sâu về kỹ thuật điện tử viễn thông, bạn hoàn toàn có thể làm việc tại vị trí chuyên gia phân tích, tư vấn trong lĩnh vực điện tử – viễn thông. Ở vị trí này, người làm việc cần có kỹ năng phân tích, tư vấn, đánh giá và chuyên môn vững để thực hiện các nhiệm vụ phân tích, tư vấn và cung cấp các giải pháp, khuyến nghị để cải thiện hiệu suất và khả năng cạnh tranh của các hệ thống viễn thông.\\nMô tả công việc:\\nNgoài ra, nếu đam mê nghiên cứu và phát triển, sau khi tốt nghiệp ngành kỹ thuật điện tử viễn thông bạn hoàn toàn có thể tham gia vào hoạt động nghiên cứu và phát triển công nghệ mới trong ngành kỹ thuật điện tử viễn thông. Để thực hiện điều này, nhiều người lựa chọn trở thành cán bộ giảng dạy, nghiên cứu trong các viện nghiên cứu, trường đại học, cao đẳng về kỹ thuật điện tử viễn thông.\\nTrên đây chỉ là một số gợi ý công việc mà bạn có thể làm sau khi tốt nghiệp và được đào tạo về ngành kỹ thuật điện tử viễn thông. Có thể nói, học ngành này mở ra nhiều cơ hội nghề nghiệp khác nhau cho các bạn sinh viên. Các công ty viễn thông, công ty sản xuất thiết bị điện tử, công ty công nghệ, đài phát thanh, đài truyền hình,v.vv.. và tổ chức nghiên cứu đều có nhu cầu tuyển dụng các chuyên gia trong lĩnh vực này.\\nSau khi xác định được vị trí công việc muốn ứng tuyển, việc tiếp theo bạn cần làm là chuẩn bị một bản CV chỉn chu, đẹp mắt và chuyên nghiệp gửi đến nhà tuyển dụng. Hãy tham khảo cách viết CV tìm việc kỹ thuật điện tử mà TopCV đã chia sẻ để cấu trúc một bản CV ưng ý bạn nhé.\\nTìm việc làm ngành kỹ thuật điện tử viễn thông ở đâu?\\nNhu cầu việc làm ngành kỹ thuật điện tử viễn thông rất lớn và đa dạng vị trí tuyển dụng. Tuy nhiên việc tìm được một bến đỗ công việc với vị trí phù hợp là điều không dễ dàng, nhất là với các bạn sinh viên mới ra trường. Nếu bạn đang lo lắng tìm kiếm những cơ hội việc làm trong ngành kỹ thuật điện tử viễn thông hoặc mong muốn có thêm nhiều thông tin tuyển dụng trong ngành này thì TopCV là lựa chọn đáng cân nhắc.\\nLà nền tảng tuyển dụng và việc làm tiên phong tại Việt Nam, TopCV giúp bạn tiếp cận với hàng triệu thông tin tuyển dụng ở nhiều vị trí công việc khác nhau. Bằng việc ứng dụng trí tuệ nhân tạo, TopCV dễ dàng kết nối ứng viên với mạng lưới nhà tuyển dụng tại nhiều tỉnh thành khác nhau. Đặc biệt, TopCV giúp bạn có cơ hội được kết nối và tiếp cận các vị trí công việc hấp dẫn từ các doanh nghiệp trong nước cũng như quốc tế có uy tín trong lĩnh vực điện tử viễn thông như: FPT, Viettel, MobiFone, VNPT, SamSung,v.vv.. Từ đó thuận lợi tìm ra “miền đất hứa” cho mình.\\nKhông chỉ kết nối nhanh chóng, TopCV còn hỗ trợ bạn tạo CV chuyên nghiệp, viết sơ yếu lý lịch đúng chuẩn và cung cấp thêm nhiều kiến thức về kỹ năng phỏng vấn, kỹ năng tạo ấn tượng với nhà tuyển dụng để tăng tỷ lệ thành công khi tìm việc.\\nTrên đây là những thông tin chi tiết về ngành kỹ thuật điện tử viễn thông mà TopCV vừa cập nhật và gửi đến bạn. Hy vọng với những thông tin này, bạn đã hiểu rõ về ngành kỹ thuật điện tử viễn thông như: môn thi, cơ hội nghề nghiệp, mức thu nhập,v.vv.. từ đó đưa ra sự lựa chọn công việc phù hợp sau khi ra trường, đồng thời tự tin lựa chọn ngành học nếu bạn đang lúng túng trong việc chọn ngành, chọn trường học sau khi tốt nghiệp THPT. Chúc các bạn thành công và đừng quên TopCV vẫn đồng hành trong suốt hành trình tìm việc thông qua việc cập nhật nhanh chóng và liên tục các công việc mới nhất bạn nhé!.']"
      ]
     },
     "execution_count": 11,
     "metadata": {},
     "output_type": "execute_result"
    }
   ],
   "source": [
    "refs"
   ]
  },
  {
   "cell_type": "code",
   "execution_count": 12,
   "metadata": {},
   "outputs": [],
   "source": [
    "from unidecode import unidecode\n",
    "import re\n",
    "\n",
    "def normalize_text(text):\n",
    "    \"\"\"\n",
    "    Normalize Vietnamese text by converting it to its ASCII representation and removing accents.\n",
    "    \n",
    "    Args:\n",
    "    text (str): Input Vietnamese text to be normalized.\n",
    "    \n",
    "    Returns:\n",
    "    str: Normalized text with accents removed.\n",
    "    \"\"\"\n",
    "    normalized_text = unidecode(text)\n",
    "    normalized_text = re.sub(r'\\s+', ' ', normalized_text).strip()\n",
    "    return normalized_text\n"
   ]
  },
  {
   "cell_type": "code",
   "execution_count": 13,
   "metadata": {},
   "outputs": [],
   "source": [
    "hypos = [' '.join(normalize_text(hypo) for hypo in hypos)]"
   ]
  },
  {
   "cell_type": "code",
   "execution_count": 14,
   "metadata": {},
   "outputs": [
    {
     "data": {
      "text/plain": [
       "['# Co Hoi Nghe Nghiep Cho Sinh Vien Nganh Dien Tu - Vien Thong Cua Dai Hoc Bach Khoa Ha Noi Sau Khi Tot Nghiep  Nganh Dien tu - Vien thong da va dang tro thanh mot trong nhung nganh hoc quan trong va khong the thieu trong boi canh cuoc cach mang cong nghe 4.0 dang dien ra manh me tren toan cau. Doi voi sinh vien Dai hoc Bach khoa Ha Noi, mot trong nhung truong dai hoc hang dau Viet Nam, co hoi nghe nghiep sau khi tot nghiep nganh nay la vo cung rong mo va da dang.  ## Tong Quan ve Nganh Dien tu - Vien Thong  Nganh Dien tu - Vien thong bao gom viec nghien cuu, thiet ke, phat trien va ung dung cac cong nghe lien quan den dien tu va vien thong. Sinh vien nganh nay duoc dao tao de tro thanh nhung ky su co kha nang lam viec trong moi truong cong nghe cao, dap ung nhu cau ngay cang tang ve viec thiet ke va van hanh cac he thong thong tin va truyen thong hien dai (TopCV, n.d.).  ## Co Hoi Nghe Nghiep Sau Khi Tot Nghiep  ### Cac Vi Tri Cong Viec Tiem Nang  Sinh vien tot nghiep nganh Dien tu - Vien thong co the dam nhan nhieu vi tri cong viec khac nhau, bao gom:  1. **Chuyen vien quy hoach, thiet ke va toi uu hoa he thong mang** tai cac cong ty vien thong lon nhu VNPT, Viettel, Vinaphone, Mobiphone (Bao An Telecom, n.d.). 2. **Chuyen vien thiet ke, tu van va dieu hanh cong tac ky thuat** tai cac dai phat thanh, truyen hinh nhu VTV, HTV, SCTV (Bao An Telecom, n.d.). 3. **Chuyen vien nghien cuu va thiet ke** tai cac cong ty san xuat thiet bi dien tu vien thong, am thanh hinh anh, cong ty thiet ke san xuat vi mach nhu Aver, Maxhub, FPT, Samsung, LG, Intel, Panasonic (Bao An Telecom, n.d.). 4. **Chuyen vien van hanh, thiet ke va bao tri thiet bi dien tu, tu dong hoa** trong cac don vi, doanh nghiep (Bao An Telecom, n.d.). 5. **Ky su viet phan mem may tinh**, phat trien ung dung va dich vu ky thuat so (TopCV, n.d.).  ### Xu Huong Thi Truong Lao Dong  Theo mot bao cao tu Trung tam Du bao nhu cau nhan luc va Thong tin thi truong lao dong TPHCM, giai doan tu 2020 - 2025, nhu cau tuyen dung lao dong trong nganh Dien tu - Vien thong la khoang 16 nghin nguoi/nam va co xu huong tang len qua cac nam sau do (TopCV, n.d.). Dieu nay cho thay tiem nang viec lam cho sinh vien nganh nay la rat lon.  ### Tac Dong cua Cong Nghe 4.0 va 5G  Su phat trien cua cong nghe 4.0 va trien vong cua mang 5G mo ra co hoi nghe nghiep moi va doi hoi ky nang chuyen mon cao tu cac ky su Dien tu - Vien thong. Cac cong ty va to chuc khong chi trong linh vuc vien thong ma con trong cac nganh nhu dien luc, ngan hang, giao thong, quoc phong - an ninh cung deu can su dung ha tang mang vien thong va may tinh (Hotcourses, n.d.).  ### Muc Luong va Trien Vong Phat Trien  Muc luong cho cac vi tri trong nganh Dien tu - Vien thong duoc danh gia la tuong doi cao so voi mat bang chung. Voi kinh nghiem va thoi gian lam viec, co the giu vi tri Truong bo phan ky thuat, Giam doc ky thuat tai cac doanh nghiep, cac cong ty trong linh vuc dien tu, vien thong, truyen thong (Bao An Telecom, n.d.).  ### Nhu Cau Nhan Luc va Dao Tao  Vietnamworks du bao, Viet Nam dang thieu 400.000 nhan luc cong nghe thong tin va dien tu vien thong va moi nam can cung ung moi toi 78.000 lao dong. Tuy nhien, moi nam chi co khoang 50.000 sinh vien tot nghiep, tao ra \"con khat\" nhan luc trong nganh nay (Bao An Telecom, n.d.).  ## Ket Luan  Trong boi canh hien nay, sinh vien nganh Dien tu - Vien thong cua Dai hoc Bach khoa Ha Noi co co hoi nghe nghiep rong mo sau khi tot nghiep. Voi su phat trien khong ngung cua cong nghe va nhu cau cao ve nhan luc chat luong trong linh vuc nay, sinh vien co the tu tin ve mot tuong lai nghe nghiep hua hen va day thach thuc. De tan dung co hoi nay, sinh vien can trang bi kien thuc chuyen mon sau, ky nang mem va ky nang ngoai ngu de san sang tham gia vao thi truong lao dong day canh tranh va da dang.']"
      ]
     },
     "execution_count": 14,
     "metadata": {},
     "output_type": "execute_result"
    }
   ],
   "source": [
    "hypos"
   ]
  },
  {
   "cell_type": "code",
   "execution_count": 15,
   "metadata": {},
   "outputs": [],
   "source": [
    "refs = [normalize_text(ref) for ref in refs]"
   ]
  },
  {
   "cell_type": "code",
   "execution_count": 16,
   "metadata": {},
   "outputs": [],
   "source": [
    "import textwrap\n",
    "\n",
    "def wraptext(documents, width=120):\n",
    "    for idx, doc in enumerate(documents, start=1):\n",
    "        print(f\"Document {idx}:\")\n",
    "        wrapped_lines = textwrap.wrap(doc, width=width)\n",
    "        for line in wrapped_lines:\n",
    "            print(line)\n",
    "        print(\"-\" * width)"
   ]
  },
  {
   "cell_type": "code",
   "execution_count": 17,
   "metadata": {},
   "outputs": [
    {
     "name": "stdout",
     "output_type": "stream",
     "text": [
      "Document 1:\n",
      "Tim hieu kien thuc hoc va co hoi viec lam nganh Dien tu vien thong MUC LUC 1. Nganh dien tu vien thong la gi? Va ung\n",
      "dung trong doi song 2. Nganh dien tu vien thong hoc nhung kien thuc gi? 3. Dinh huong cong viec nganh Dien tu vien\n",
      "thong? Co hoi viec lam co rong mo? 4. Can trang bi gi de hoc va lam viec tot nganh dien tu vien thong 5. Cac truong dao\n",
      "tao nganh dien tu vien thong Nganh dien tu vien thong la gi? Va ung dung trong doi song Dien tu vien thong la nganh su\n",
      "dung nhung cong nghe tien tien de tao ra cac thiet bi giup cho viec lien lac, truy xuat thong tin cua ca nhan hoac to\n",
      "chuc, dien tu vien thong duoc ung dung cao o nhieu linh vuc trong cuoc song. * Linh vuc mang, vien thong: cac thiet bi\n",
      "truyen tin tren toan cau nhu he thong truyen dan: cap quang, ve tin, he thong truyen tin khong day (vi ba) v.v... Thanh\n",
      "tuu moi day nhat la xay dung he thong 5g va cac thiet bi he thong hoi nghi truyen hinh * Linh vuc dinh vi dan duong: la\n",
      "mot linh vuc dac biet quan trong nganh Hang khong va Hang hai. Nhung tram kiem soat khong luu mat dat la noi nhung ki su\n",
      "Dien tu Vien thong lam nhiem vu dan duong cho hang nghin chuyen bay, tau thuy hoat dong an toan * Linh vuc nghien cuu,\n",
      "sang tao cong nghe, thiet bi moi: la linh vuc doi hoi nguoi hoc phai co su sang tao dua tren nhung ung dung cua xa hoi\n",
      "noi chung va nganh Dien tu Vien thong noi rieng, phat trien cac cong nghe moi, ung dung moi huu ich va don gian hon cho\n",
      "moi nguoi la linh vuc thuc day su phat trien cua toan bo nganh Dien tu Vien thong * Linh vuc dien tu y sinh: nganh ddien\n",
      "tu vien thong la nen tang de tao ra cac may moc, thiet bi dien tu hien dai trong linh vuc y te va sinh hoc. * Linh vuc\n",
      "am thanh, hinh anh: nganh ky thuat Dien tu Vien thong dong gop 1 phan quan trong cua nhu viec thiet ke ra cac trang\n",
      "thiet bi nghe nhin, dieu chinh am do cac thiet bi thu am v.v... Co the noi tat ca cac thiet bi trong cuoc song hien dai\n",
      "ngay nay nhu : may thu hinh, dien thoai, may tinh ca nhan, may tinh bang,... deu co dau an cua nganh Dien tu Vien thong\n",
      ", la nen tang co ban nhat cua cach mang cong nghiep 4.0, cua xu huong chuyen doi so trong moi linh vuc cua doi song,\n",
      "kinh te, xa hoi. Nganh dien tu vien thong hoc nhung kien thuc gi? Hieu tu ten goi, co rat nhieu nguoi cho rang Dien tu\n",
      "Vien thong la mot phan cua Cong nghe thong tin, cach hieu nay khong hoan toan sai nhung chua chinh xac. Giai thich co\n",
      "ban thi Nganh Dien tu-vien thong va nganh Cong nghe thong tin la hai nganh rat gan voi nhau, co nhieu kien thuc chung ve\n",
      "cong nghe tuy nhien di vao chuyen sau se thay ro su khac biet rang: CNTT tap trung vao xay dung phan mem con chuyen\n",
      "nganh DTVT tap trung ve phan cung. Theo hoc nganh Dien tu - Vien thong, sinh vien duoc trang bi khoi kien thuc theo 3\n",
      "tang cap do: Cap do 1: Cac kien thuc nen tang va chuyen sau ve cac cong nghe, ky thuat: Giai tich mach dien; truong dien\n",
      "tu; ky thuat lap trinh; dien tu so; nguyen ly truyen thong; vi xu ly; dien tu thong tin; ky thuat truyen so lieu va\n",
      "mang; xu ly tin hieu; thiet ke so dung ngon ngu mo ta phan cung; he thong vien thong; ky thuat sieu cao tan va anten,...\n",
      "Cap do 2: nganh Cong nghe Ky thuat Dien tu - Vien thong cung cap cho sinh vien cac ky nang van hanh bao tri, sua chua,\n",
      "cai tien, nang cap cac he thong, thiet bi dien tu vien thong Cap do 3: Nang cao hon la kha nang tim hieu, nghien cuu,\n",
      "phat trien ung dung cong nghe ky thuat dien tu vien thong trong cong nghiep va trong doi song dan dung. Thuc hanh, van\n",
      "dung ly thuyet la phan hoc quan trong nhat trong nganh DTVT, cu the la nhung cuoc thi day sang tao nhu: robocon Dinh\n",
      "huong cong viec nganh Dien tu vien thong? Co hoi viec lam co rong mo? Hoc nganh dien tu vien thong ra lam gi? co the dam\n",
      "nhan nhung vi tri nao? Lam viec o cong ty nao la cau hoi cua tat ca sinh vien nganh vien thong can biet va nen tim hieu:\n",
      "* Chuyen vien quy hoach, thiet ke va toi uu hoa he thong mang tai cac cong ty vien thong < VNPT, Viettel, Vinaphone,\n",
      "Mobiphone ...;> * Chuyen vien thiet ke, tu van va dieu hanh cong tac ky thuat tai cac dai phat thanh, truyen hinh < VTV,\n",
      "HTV,SCTV, cac dai truyen hinh dia phuong...> * Chuyen vien nghien cuu va thiet ke tai cac cong ty san xuat thiet bi dien\n",
      "tu vien thong, am thanh hinh anh, cong ty thiet ke san xuat vi mach. < Aver, Maxhub, FPT, Samsung, LG, Intel,\n",
      "Panasonic..> * Chuyen vien van hanh, thiet ke va bao tri thiet bi dien tu, tu dong hoa trong cac don vi, doanh nghiep. *\n",
      "Khi co kinh nghiem va thoi gian lam viec co the giu vi tri Truong bo phan ky thuat, Giam doc ky thuat tai cac doanh\n",
      "nghiep, cac cong ty trong linh vuc dien tu, vien thong, truyen thong. * Co the tro thanh can bo giang day, nghien cuu\n",
      "tai cac truong dai hoc, cao dang va Vien nghien cuu. The gioi noi chung va Viet Nam noi rieng dang song trong ky nguyen\n",
      "so. Cac doanh nghiep ve cong nghe ngay cang nhieu va phat trien rat nhanh, di cung do la nhu cau ve nguon nhan luc cung\n",
      "tang cao. Du bao cua Vietnamworks cho thay, nuoc ta dang thieu 400.000 nhan luc cong nghe thong tin va dien tu vien\n",
      "thong va moi nam can cung ung moi toi 78.000 lao dong. Tuy nhien trong thuc te, moi nam nuoc ta chi co khoang 50.000\n",
      "sinh vien tot nghiep, dan den \"con khat\" nhan luc doi voi nganh hoc nay duong nhu chua bao gio ha. Can trang bi gi de\n",
      "hoc va lam viec tot nganh dien tu vien thong Khong chi nganh DTVT ma khi lua chon nganh hoc va viec lam, can tim thay\n",
      "duoc su dam me va thich thu. Dieu nay giup nguoi hoc va nguoi lam viec tim thay duoc niem vui trong cong viec, cong viec\n",
      "khong nham chan. Con rieng trong nganh DT VT nen co them nhung to chat ve: su kien tri, nhan nai, ky nang ngoai ngu va\n",
      "kha nang lam viec nhom. Cac truong dao tao nganh dien tu vien thong Voi he chinh quy Dai hoc, dao tao nganh Dien tu vien\n",
      "thong co the ke den cac truong voi be day va co ty le sinh vien dau ra tot nhat: Khoa dien tu vien thong dai hoc bach\n",
      "khoa da nang Truong DH Bach khoa Ha Noi Truong DH Bach khoa HCM (DH Quoc gia HCM) Truong DH khoa hoc (DH Hue) Truong Hoc\n",
      "vien Cong nghe Buu chinh Vien thong Truong DH Cong nghe (DH Quoc gia Ha Noi) Dai hoc Cong nghe TP.HCM Dai hoc Su pham Ky\n",
      "thuat TP.HCM Dai hoc Dien luc - Ha Noi DANG KY TU VAN NGAY HOM NAY Tin khac BANG GIA MAN HINH TUONG TAC 65INCH RE NHAT\n",
      "2022 Review loa hoi nghi bluetooth Maxhub BM21 Lien ket quang hoc (Optical Bonding) la gi? So sanh cong nghe LED Edge-\n",
      "lit (chieu sang canh) va Back-lit (chieu sang nen) So sanh su khac biet giua man hinh cam ung IR va PCAP So sanh man\n",
      "hinh tuong tac: MAXHUB V5 Transcend vs LG CreateBoard(tm) Vi sao nen su dung tinh nang Automatic Framing cua Polycom\n",
      "Studio? Cac loai cong nghe man hinh cam ung Tru So Chinh TP. Ho Chi Minh Dia chi : T08, duong so 20, KDT Him Lam, P. Tan\n",
      "Hung, Q.7, HCM Hotline : 0918.325.086 Email : info@baoantelecom.com Chi nhanh Ha Noi Dia chi : P.201, 627 Vu Tong Phan,\n",
      "Khuong Dinh, Thanh Xuan, Ha Noi Hotline : 0911.527.086 Email : info@baoantelecom.com Chi nhanh Da Nang Dia chi : H53/15\n",
      "K729 Ngo Quyen, Q. Son Tra, Da Nang Hotline : 0918.325.086 Email : info@baoantelecom.com\n",
      "------------------------------------------------------------------------------------------------------------------------\n",
      "Document 2:\n",
      "Tim hoc bong 2024 Tim khoa hoc Cac nganh hoc pho bien Diem den du hoc nao phu hop voi ban nhat? Canada Uc Vuong quoc Anh\n",
      "My Cac Chau luc Cac diem den tiem nang Chao ban, minh la E-bot, tro ly ao cua ban. Minh giup ban tim thong tin nhe? Voi\n",
      "FastLane, ban biet ban co kha nang trung tuyen vao truong dai hoc mo uoc chi sau vai phut. Chon truong du hoc Kinh\n",
      "nghiem du hoc De duoc tu van ve xu huong du hoc moi, ho so du hoc, visa va cac van de khac. Tim hieu them ve cac truong\n",
      "o quoc gia ban muon den du hoc. Truong nao phu hop voi ban nhat? Chao ban , Tim hieu them ve cac truong o quoc gia ban\n",
      "muon den du hoc. Truong nao phu hop voi ban nhat? Ve Hotcourses Go 2 tu de goi y Ban thu chi tim kiem theo nganh hoc\n",
      "hoac truong hoc truoc thoi roi sau do loc ket qua xem the nao. Nganh Dien tu - Vien Thong: Hoc gi, hoc o dau va co hoi\n",
      "nghe nghiep Dien tu - Vien Thong la mot trong nhung nganh co tiem nang phat trien, nhieu co hoi viec lam va dong vai tro\n",
      "quan trong trong su phat trien cua mot quoc gia. Tuy nhien, nganh Ky thuat Dien tu - Vien thong kha rong lon, chia thanh\n",
      "rat nhieu linh vuc phong phu nen de khien ban hoang mang khi moi tim hieu nganh nay. Hotcourses Vietnam moi ban kham pha\n",
      "nganh Dien tu - Vien Thong mot cach khai quat va day du qua bai viet sau day! Nganh Dien tu - Vien Thong la gi? Dien tu\n",
      "va Vien Thong von co su lien quan mat thiet voi nhau nen moi di theo cap nhu vay. Cu the, linh vuc Dien tu nghien cuu va\n",
      "che tao ra cac vi mach dien tu, duoc xem nhu la \"bo nao\" dieu khien toan bo hoat dong cua cac thiet bi thong minh. Trong\n",
      "khi do, linh vuc Vien thong nghien cuu va su dung cac thiet bi de tao nen cac mang luoi truyen dan thong tin cho muc\n",
      "dich giao tiep xuyen bien gioi. Tu do, nganh Dien tu - Vien Thong co the hieu don gian la ung dung cong nghe tien tien\n",
      "de tao ra cac thiet bi truyen thong tin. Mot so san pham cua nganh Dien tu - Vien thong quen thuoc voi moi nguoi co the\n",
      "ke den nhu tivi, dien thoai, may tinh, mach dieu khien,... Nganh Dien tu - Vien Thong co vai tro quan trong trong viec\n",
      "xay dung he thong thong tin lien lac toan cau de moi nguoi trao doi, truy xuat thong tin, giam sat va dieu khien thiet\n",
      "bi thong minh mot cach nhanh chong va thuan tien. Hoc gi trong nganh Dien tu - Vien Thong? Theo hoc nganh Ky thuat dien\n",
      "tu - vien thong, sinh vien se duoc dao tao kien thuc chuyen mon ve linh vuc dien tu, nguyen ly truyen thong tin va tiep\n",
      "can voi cong nghe ky thuat dien tu tien tien nhu: Mang khong day Mang truyen so lieu Ky thuat sieu cao tan va anten He\n",
      "thong phat thanh truyen hinh Cong nghe phan tich va xu ly tin hieu, am thanh, hinh anh Thoi gian dao tao Cu nhan nganh\n",
      "Ky thuat Dien tu - Vien thong cua cac truong Dai hoc trong khoang 4-5 nam. Boi nganh nay mang tinh ung dung cao, luon\n",
      "bam sat thuc tien theo nhu cau cua cac doanh nghiep va xu the cong nghe moi nen sinh vien duoc thuc hanh va trai nghiem\n",
      "nhieu. Sinh vien se co khoang 30% thoi luong hoc tap de duoc thuc chien cac ky nang voi cac trang thiet bi cua truong\n",
      "nhu: Van hanh, bao tri, sua chua, nang cap cac he thong, thiet bi dien tu - vien thong Tim hieu, nghien cuu va phat\n",
      "trien ung dung cong nghe ky thuat dien tu - vien thong trong cong nghiep va doi song Khi di sau vao tung chuyen nganh,\n",
      "sinh vien se gap go khoi luong kien thuc dac thu rong lon, tuy thu vi nhung cung nhieu thu thach. Ba chuyen nganh noi\n",
      "troi hien dang pho bien boi tinh ung dung ma sinh vien can can nhac khi theo duoi la: Ky thuat dien tu - Vien thong Ky\n",
      "thuat dieu khien va tu dong hoa He thong nhung va IoT (tao ra cac thiet bi thong minh, ket noi Internet) Nganh Dien tu -\n",
      "Vien Thong hoc o dau? Nganh Dien tu - Vien Thong thuong duoc xem la mot trong nhung nganh yeu cau dau vao cao diem nhat\n",
      "o Viet Nam trong nhieu nam qua. Dieu do cho thay do thu hut cua nganh doi voi nhieu sinh vien co dam me voi ky thuat.\n",
      "Nhung truong dai hoc dao tao nganh ky thuat Dien tu - Vien Thong co uy tin o nuoc ta phai ke den nhu: Dai hoc Bach khoa\n",
      "(DH Quoc gia TP.HCM), Dai hoc Khoa hoc tu nhien (DH Quoc gia TP.HCM), Dai hoc Su pham Ky thuat TP.HCM, Dai hoc Khoa hoc\n",
      "(DH Hue), Dai hoc Bach khoa (Da Nang), Dai hoc Cong nghe (DH Quoc gia Ha Noi), Hoc vien Cong nghe buu chinh vien thong,\n",
      "Dai hoc Bach khoa Ha Noi, Dai hoc Dien luc Ha Noi. Neu co dieu kien, ban nen theo duoi nganh Dien tu - Vien Thong tai\n",
      "cac nuoc co the manh ve nganh nay de hoc hoi nhung dieu hay. Viec trai nghiem trong moi truong theo chuan quoc te tu khi\n",
      "con tren ghe nha truong se tao nen tang tot va dieu kien thuan loi cho cac ky su tuong lai thich ung voi yeu cau cong\n",
      "viec. Neu ban muon trau doi kien thuc theo cach tot nhat, Hotcourses Vietnam se goi y nhung diem den du hoc hang dau\n",
      "sau: Cac khoa dao tao nganh Dien tu - Vien thong o My Cac khoa dao tao nganh Dien tu - Vien thong o Uc Cac khoa dao tao\n",
      "nganh Dien tu - Vien thong o Canada Cac khoa dao tao nganh Dien tu - Vien thong o Anh Ban luu y la bam vao link \"Xem\n",
      "[so] khoa hoc Dien tu - Vien thong\" de tim hieu thong tin cu the ve chuong trinh hoc o tung truong. Neu ban co thac mac\n",
      "ve du hoc nganh Dien tu - Vien thong, cac chuyen gia du hoc IDP giau kinh nghiem luon san sang ho tro va tu van hoan\n",
      "toan mien phi. Tuong lai cua nganh Dien tu - Vien Thong va co hoi nghe nghiep danh cho ban Toc do phat trien nhanh chong\n",
      "cua linh vuc Dien tu - Vien Thong van dang san sinh ra nhieu nghe nghiep moi ma co the chinh ban la mot trong nhung\n",
      "nguoi tien phong dam nhan. Khong chi cac cong ty trong linh vuc vien thong nhu Viettel, VNPT, FPT ma cac doanh nghiep\n",
      "trong nhieu linh vuc khac nhu dien luc, ngan hang, giao thong, quoc phong - an ninh... van can su dung ha tang mang vien\n",
      "thong va may tinh. Dieu do co nghia ban se co nhieu su lua chon de phat trien su nghiep tuong lai cua minh. Sau khi hoan\n",
      "thanh chuong trinh dao tao, ban co the dam nhan nhung vi tri cong viec sau: Chuyen vien tu van, thiet ke va van hanh ky\n",
      "thuat tai cac dai phat thanh, dai truyen hinh, cong ty tu van thiet ke mang vien thong, san xuat thiet bi Dien tu - Vien\n",
      "Thong, nhung cong ty san xuat vi mach Ky su vo tuyen voi kien thuc chuyen sau ve van hanh mang, cac mang di dong 2G/ 3G/\n",
      "4G/ 5G va cau truc mang cung nhu cac thuat toan, tham so cua tinh nang mang vo tuyen Ky su vien thong dam nhiem nghien\n",
      "cuu va phat trien mang vo tuyen, dinh vi dan duong, thiet bi tin hieu da phuong tien ve am thanh, hinh anh Ky su truyen\n",
      "dan dam nhan viec van hanh, khai thac, giam sat lap dat mang truyen dan Ky su thiet ke va viet phan mem cho cac thiet bi\n",
      "thong minh nhu dien thoai di dong, ro bot, xe o to Giam doc ky thuat, Truong bo phan ky thuat tai cac cong ty, doanh\n",
      "nghiep trong linh vuc dien tu, vien thong, buu chinh vien thong, buu dien Khong the bo lo Nganh khoa hoc du lieu: Nhung\n",
      "dieu ban can biet Nganh Khoa hoc du lieu (Data Science) la nganh hoc li tuong cho nhung ban hoc sinh, sinh vien dam me\n",
      "cong nghe, du lieu va kham pha nhung dieu moi la. Trong bai viet nay, cung Hotcourses Vietnam tim hieu ve nganh hoc va\n",
      "cac co hoi nghe nghiep cua nganh Khoa hoc du lieu nhe! Nganh khoa hoc du lieu la gi? Khoa hoc du lieu (Data science) la\n",
      "nganh khoa hoc ve viec khai pha, quan tri va phan tich du lieu de du doan cac xu huong trong Nganh Quan tri Nhan luc:\n",
      "Hoc gi, o dau, va co hoi nghe nghiep Nganh Quan tri nhan luc, hay nganh quan ly nhan su la mot chuyen nganh het suc huu\n",
      "ich boi no giup ban nhin nhan va danh gia con nguoi cung nhu cac cong ty, to chuc theo mot cach khac biet. Nganh nay la\n",
      "su ket hop cua rat nhieu cac ky nang khac nhau, cung cap cho ban mot cai nhin sau sac ve kinh doanh cung nhu su hieu\n",
      "biet ve cach quan ly nhan su ma khong phai ai trong cong ty cung co kha nang nhin nhan. Trong bai viet nay, hay cung\n",
      "Hotcourses Vietnam tim hieu them Nganh Xa hoi hoc: Hoc gi, hoc o dau, va co hoi nghe nghiep Linh vuc nghien cuu ve hanh\n",
      "vi va cac moi quan he xa hoi cua con nguoi dang ngay cang duoc chu trong. Vi ly do nay, nganh xa hoi hoc dang thu hut su\n",
      "quan tam cua nhieu ban hoc sinh, sinh vien trong nhung nam gan day boi tinh thiet thuc va co hoi phat trien rong mo. Vay\n",
      "xa hoi hoc la nganh gi? Hoc xa hoi hoc lam nghe gi? Cung Hotcourses Vietnam tim hieu chi tiet ve nganh xa hoi hoc trong\n",
      "bai viet duoi day. Nganh xa hoi hoc la gi? Xa Nganh kinh te doi ngoai: Hoc gi, hoc o dau, va co hoi nghe nghiep Hien\n",
      "nay, khi cac quoc gia tien hanh qua trinh hoi nhap quoc te sau rong, nhu cau ve su giao thuong toan cau dien ra rat manh\n",
      "me. Trong boi canh do, nganh kinh te doi ngoai tro thanh mot nganh hoc pho bien, thu hut nguon nhan luc khong lo. Vay\n",
      "kinh te doi ngoai la gi? Hoc kinh te doi ngoai ra lam gi? Cung Hotcourses Vietnam kham pha chi tiet ve nganh kinh te doi\n",
      "ngoai trong bai viet duoi day. Nganh kinh te doi ngoai la gi? Kinh te doi Cap nhat thong tin quan trong ve du hoc Xu\n",
      "huong du hoc, chinh sach visa, hoc bong va kinh kinh nghiem hay. Vui long dien dia chi email hop le Link huu ich Ket noi\n",
      "voi chung toi Tu van du hoc\n",
      "------------------------------------------------------------------------------------------------------------------------\n",
      "Document 3:\n",
      "Co nen hoc nganh ky thuat dien tu vien thong hay khong? 16 nghin nguoi/nam la nhu cau tuyen dung lao dong lam viec nganh\n",
      "ky thuat dien tu vien thong trong giai doan tu 2020 - 2025. Dieu nay chung minh, nhan luc nganh nay dang tuyen dung\n",
      "nhieu va co xu huong tang qua cac nam. Vay nganh ky thuat dien tu vien thong la gi? Hoc nganh nay o dau? Thi nhung mon\n",
      "nao? Co hoi viec lam va muc thu nhap ra sao sau khi ra truong? Tat ca se duoc TopCV cung cap chi tiet trong bai viet sau\n",
      "day de ban cung tim hieu, tu do de dang dua ra su lua chon. Noi dung bai viet Nganh ky thuat dien tu vien thong la gi?\n",
      "Nganh ky thuat dien tu vien thong la nganh hoc dao tao nguon nhan luc co chuyen mon va ky nang ve viec thiet ke, phat\n",
      "trien va van hanh cac he thong va cong nghe lien quan den vien thong va truyen thong dien tu. Day la nganh tap trung vao\n",
      "cac cong nghe va ung dung su dung trong viec truyen tai, xu ly va quan ly thong tin qua cac mang dien tu va khong day.\n",
      "Trong do co ke den cac thiet bi truyen thong va thiet bi dien tu nhu: dien thoai di dong, tivi, may tinh, he thong\n",
      "nhung, cac mach dieu khien, router, anten, thiet bi phat song,v.vv.. Co hoi viec lam nganh dien tu vien thong Theo danh\n",
      "gia cua cac chuyen gia phan tich nhu cau nhan luc, nganh dien tu vien thong la mot trong nhung nhom nganh co nhu cau\n",
      "nhan luc cao trong thoi dai 4.0 hien nay. Sinh vien tot nghiep chuyen nganh nay duoc nhan dinh la co co hoi lam viec voi\n",
      "nhieu vi tri khac nhau tai cac doanh nghiep, bao gom ca doanh nghiep trong nuoc nhu: FPT, Viettel, VNPT, MobiFone,\n",
      "VinSmart, v.vv.. hay doanh nghiep nuoc ngoai nhu: SamSung, LG, Nokia, Apple, Inter, v.vv.. Mot thong ke tu Trung tam Du\n",
      "bao nhu cau nhan luc va Thong tin thi truong lao dong TPHCM cho thay, giai doan tu 2020 - 2025 nhu cau tuyen dung lao\n",
      "dong lam viec nganh dien tu vien thong la khoang 16 nghin nguoi/nam. Con so nay dang co xu huong tang len qua cac nam\n",
      "sau do. Trong khi do, dai dien Tong cong ty cong nghe cao Viettel cung tung chia se, hon 50% nhan luc ky su cua doanh\n",
      "nghiep nay la chuyen nganh dien tu vien thong. Moi nam doanh nghiep tuyen khoang 100 ky su moi ra truong. Nhung con so\n",
      "\"biet noi\" tren cho thay, tiem nang va co hoi viec lam cho nhung nguoi duoc dao tao nganh ky thuat dien tu vien thong la\n",
      "rat lon. Tot nghiep nganh nay sinh vien co the lam viec tai cac vi tri nhu: chuyen vien tu van, thiet ke va van hanh ky\n",
      "thuat tai cac dai phat thanh, truyen hinh, cong ty dich vu ky thuat dien tu vien thong; Ky su thiet ke van hanh he thong\n",
      "thong tin da phuong tien tai cac cong ty truyen thong da phuong tien; Ky su viet phan mem may tinh, v.vv.. Chua ke,\n",
      "trong xu huong chuyen doi so nhu hien nay, nhu cau nhan luc cho nganh dien tu vien thong la rat lon va van con thieu.\n",
      "Cac cong ty vien thong, cong ty san xuat thiet bi dien tu, nha mang se tro thanh \"mien dat hua\" cho cac tan ky su tot\n",
      "nghiep chuyen nganh nay. TopCV co the gioi thieu hang tram vi tri cong viec nganh ky thuat dien tu vien thong dang tuyen\n",
      "dung de ban tham khao va nam bat co hoi viec lam cua nganh nay sau khi ra truong. Mot so cau hoi ve nganh ky thuat dien\n",
      "tu vien thong De giup cac ban hieu sau hon ve nganh nay, sau day TopCV se giai dap mot so cau hoi lien quan den nganh ky\n",
      "thuat dien tu vien thong. Nganh ky thuat dien tu vien thong thi khoi nao? Ma nganh ky thuat dien tu vien thong thuong la\n",
      "7520207. Tuy nhien, ma nganh nay cung co su thay doi tuy theo truong dao tao, vi du tai Dai hoc Dien luc nganh nay co ma\n",
      "la 7510302, Dai hoc Bach khoa Ha Noi ma nganh la ET-E4y, Dai hoc Cong nghe - DHQG Ha Noi ma nganh la CN9 v.vv.. Ban nen\n",
      "can cu vao truong hoc minh lua chon de tra cuu chinh xac ma nganh. Hang nam nganh ky thuat dien tu vien thong duoc tuyen\n",
      "sinh voi so luong lon va thuong thi vao voi 2 khoi: Ngoai ra, mot so truong con xet tuyen cac to hop gom: Neu ban hoc\n",
      "tot va nam vung kien thuc cac mon hoc nay cong them niem dam me voi cac thiet bi dien tu, vien thong thi nganh ky thuat\n",
      "dien tu vien thong la nganh ban co the can nhac lua chon de dang ky thi tuyen sau khi tot nghiep THPT. Diem chuan nganh\n",
      "ky thuat dien tu vien thong Doi voi nganh ky thuat dien tu vien thong, moi nam tuyen sinh diem chuan se co su thay doi,\n",
      "khac nhau giua cac truong dai hoc/hoc vien/cao dang co dao tao nganh nay. Bang sau day TopCV tong hop diem chuan nganh\n",
      "ky thuat dien tu vien thong moi nhat tai mot so truong dai hoc/hoc vien, ban co the tham khao: Ghi chu: Nganh ky thuat\n",
      "dien tu vien thong hoc gi? Hien nay cac truong dai hoc, hoc vien dao tao nganh ky thuat dien tu - vien thong theo khung\n",
      "chuong trinh keo dai tu 4 - 5 nam. Sau khi ra truong sinh vien se duoc cap bang cu nhan hoac ky su. So luong tin chi\n",
      "(mon hoc/hoc phan) se co su khac nhau tuy theo chuyen nganh cu the ma ban theo hoc sau khi thi dau nganh ky thuat dien\n",
      "tu vien thong. Khi theo hoc nganh nay, sinh vien se duoc dao tao cac kien thuc chuyen mon ve linh vuc dien tu, vien\n",
      "thong, bao gom ca ly thuyet va thuc hanh. Ngoai cac mon co so nganh, chuong trinh dao tao con chu trong vao viec cung\n",
      "cap kien thuc va ky nang de sinh vien co the thiet ke, xay dung, khai thac, van hanh, su dung, bao tri cac thiet bi dien\n",
      "tu, vien thong. Tuy theo chuyen nganh lua chon, nguoi hoc se duoc hoc nhung kien thuc chuyen sau hon. Duoi day la mot so\n",
      "mon ban se duoc hoc khi lua chon nganh ky thuat dien tu vien thong: Ngoai ra sinh vien con duoc hoc cac mon hoc khac\n",
      "nhu: Dien tu cong suat, thiet ke tong hop he thong so, Kien truc may tinh, Lap trinh nang cao, ky thuat sieu cao tan,\n",
      "tri tue nhan tao va ung dung, Quy hoach va quan ly mang vien thong, thong tin ve tinh, thong tin quang soi,v.vv.. Thong\n",
      "thuong so luong hoc phan hoac noi dung hoc phan se co su khac nhau giua bac dao tao cu nhan va ky su. Ky thuat dien tu\n",
      "vien thong hoc truong nao tot? La mot nganh co yeu cau dau vao cao va chat luong dau ra tot, ky thuat dien tu vien thong\n",
      "hien duoc nhieu truong dua vao he thong dao tao. Cac truong dao tao nganh ky thuat dien tu vien thong Neu ban dang phan\n",
      "van trong viec lua chon hoc nganh ky thuat dien tu vien thong tai truong nao thi hay cung TopCV diem qua danh sach cac\n",
      "truong dai hoc co dao tao nganh ky thuat dien tu - vien thong sau day: Mien Bac Mien Trung: Mien Nam: Hoc ky thuat dien\n",
      "tu vien thong truong nao tot? Viec lua chon truong nao tot de theo duoi dam me ky thuat dien tu- vien thong cua moi\n",
      "nguoi co the xuat phat tu nhieu tieu chi khac nhau. Sau day TopCV dua ra goi y mot so truong dai hoc uy tin va noi tieng\n",
      "trong dao tao nganh ky thuat dien tu vien thong de ban co the tham khao va dua ra su lua chon phu hop cho minh: Cac\n",
      "truong quoc te noi tieng dao tao ky thuat dien tu vien thong Hien nay tren the gioi co nhieu truong dao tao chuyen nganh\n",
      "ky thuat dien tu vien thong. Neu co dieu kien ve kinh te, ban co the hoc nganh nay tai cac truong dai hoc va vien cong\n",
      "nghe noi tieng dao tao ky thuat dien tu vien thong nhu: Tren day chi la cac goi y giup ban co the de dang dua ra quyet\n",
      "dinh hon khi quan tam den nganh ky thuat dien tu vien thong. Quan trong nhat la lua chon mot truong co chuong trinh dao\n",
      "tao va co so vat chat phu hop voi muc tieu hoc tap va su quan tam ca nhan cua ban. Ngoai ra, nen xem xet cac thong tin\n",
      "ve danh sach giang vien, du an nghien cuu va co hoi thuc tap, lien ket doanh nghiep de danh gia chat luong giao duc va\n",
      "kha nang phat trien nghe nghiep trong nganh ky thuat dien tu vien thong sau khi tot nghiep. Nganh ky thuat dien tu vien\n",
      "thong luong bao nhieu? Muc luong trong nganh ky thuat dien tu vien thong kha da dang va phu thuoc vao nhieu yeu to nhu:\n",
      "vi tri lam viec, kinh nghiem lam viec, tinh chat cong viec, quoc gia,v.vv.. Tuy nhien, nhin chung nganh ky thuat dien tu\n",
      "vien thong thuong co muc luong kha hap dan. Doi voi cac chuyen gia va ky su dien tu vien thong co kinh nghiem va trinh\n",
      "do cao, muc luong co the rat cao va vuot qua muc trung binh cua nhieu nganh khac. Duoi day la muc luong cua mot so vi\n",
      "tri cong viec trong nganh ky thuat dien tu vien thong do TopCV tong hop ma ban co the tham khao: Luu y, cac chuyen gia\n",
      "va ky su dien tu vien thong co ky nang dac biet, nam vung cac cong nghe moi va co kinh nghiem lam viec trong nhieu du an\n",
      "quan trong thuong co co hoi nhan duoc muc luong cao hon va cac phuc loi hap dan tu cac cong ty va to chuc. Ban co the\n",
      "cap nhat nhanh viec lam nganh dien tu vien thong de tham khao muc thu nhap tai cac vi tri cong viec trong nhom nganh nay\n",
      "hien nay. Hoc ky thuat dien tu vien thong ra lam gi? Van de viec lam sau khi ra truong luon la noi ban khoan va tran tro\n",
      "cua cac ban sinh vien. Doi voi nganh ky thuat dien tu vien thong, sau khi tot nghiep ra truong, voi nhung kien thuc\n",
      "chuyen mon, ky nang da hoc va duoc dao tao, ban co co hoi lam viec tai nhieu vi tri khac nhau tai da dang cac cong ty,\n",
      "doanh nghiep. TopCV se tong hop mot so vi tri cong viec danh cho cac sinh vien hoc nganh ky thuat dien tu vien thong\n",
      "ngay sau day de ban tham khao ve thi truong tuyen dung cua nhom nganh nay hien nay. Nhan vien ky thuat dien tu - vien\n",
      "thong Nhan vien ky thuat dien tu - vien thong la nguoi co chuyen mon va ky nang trong linh vuc dien tu - vien thong. Voi\n",
      "nhung sinh vien tot nghiep chuyen nganh ky thuat dien tu vien thong, co the ung tuyen vao vi tri nhan vien ky thuat dien\n",
      "tu - vien thong tai hau het cac to chuc, doanh nghiep. Mo ta cong viec: Cong viec cua nhan vien ky thuat dien tu - vien\n",
      "thong se lien quan den cac nhiem vu gom: Co the thay vi tri cong viec nay gan nhu bao quat toan bo he thong dien tu -\n",
      "vien thong trong don vi lam viec. Neu dap ung yeu cau cong viec va hoan thanh tot nhiem vu duoc giao, nguoi lam vi tri\n",
      "nay co the thang tien len chuc vu chuyen vien, ky su hoac cap bac cao hon. Apply nhan vien ky thuat dien tu - vien thong\n",
      "ngay tren TopCV de co co hoi tim kiem viec lam phu hop. Ky su vien thong Ky su vien thong la nhung chuyen gia co trinh\n",
      "do ky thuat va kien thuc chuyen sau ve cac he thong vien thong. Vi tri nay thuong duoc cac cong ty vien thong tuyen\n",
      "dung. Neu ban tot nghiep nganh ky thuat dien tu - vien thong he dao tao ky su thi day la mot trong nhung vi tri cong\n",
      "viec co the apply sau khi ra truong de co co hoi \"dau quan\" cho nhung cong ty vien thong lon trong nuoc nhu: VNPT,\n",
      "Viettel, MobiFone, Vinaphone,v.vv.. Mo ta cong viec: Ky su thiet ke va viet phan mem Sinh vien nganh ky thuat dien tu\n",
      "vien thong co the lam viec trong cac cong ty cong nghe hoac cong ty san xuat thiet bi vien thong voi vi tri ky su thiet\n",
      "ke va viet phan mem cho may tinh, dien thoai thong minh, xe o to, robot,v.vv.. Day la vi tri cong viec yeu cau co trinh\n",
      "do ky thuat va kien thuc chuyen sau ve phat trien phan mem dien tu vien thong. Cong viec cua nguoi lam o vi tri nay lien\n",
      "quan den viec thiet ke, phan tich, lap trinh va trien khai cac ung dung va he thong phan mem. Mo ta cong viec: Ky su vo\n",
      "tuyen Ky su vo tuyen con duoc goi la ky su vien thong vo tuyen hoac ky su RF - Radio Frequency. Day la vi tri quan trong\n",
      "yeu cau nguoi lam co kien thuc va ky nang chuyen sau ve vien thong vo tuyen, tuong tac voi song radio va cac he thong\n",
      "truyen thong khong day. Vi tri cong viec nay lien quan den thiet ke, trien khai va duy tri cac he thong va thiet bi vo\n",
      "tuyen. Mo ta cong viec: Chuyen vien van hanh, giam sat ha tang vien thong Chuyen vien van hanh va giam sat ha tang vien\n",
      "thong duoc danh gia la mot vi tri cong viec quan trong trong nganh vien thong va mang. Cong viec nay lien quan den quan\n",
      "ly va duy tri cac he thong ha tang vien thong, dam bao su hoat dong lien tuc va on dinh cua mang tai cac cong ty, doanh\n",
      "nghiep hoac dai phat thanh, dai truyen hinh,v.vv.. Mo ta cong viec: Truong bo phan ky thuat Voi nhung nguoi co kinh\n",
      "nghiem lam viec lau nam trong nghe va nang luc chuyen mon tot, hoan toan co the lam viec o vi tri truong bo phan ky\n",
      "thuat tai cac cong ty, doanh nghiep. Vi tri nay la nguoi dung dau va co trach nhiem quan ly va dieu hanh cac hoat dong\n",
      "ky thuat trong mot bo phan hoac mot don vi to chuc. Mo ta cong viec: Voi vi tri nay, lo trinh thang tien co the giup ban\n",
      "phat trien de tro thanh quan ly du an vien thong hoac giam doc ky thuat. Tuy nhien, de co the lam viec o nhung vi tri\n",
      "cao hon doi hoi ban phai co kinh nghiem nhieu nam lam viec trong linh vuc dien tu vien thong, tung lam viec tai nhieu du\n",
      "an voi vi tri tuong duong va co ky nang lanh dao. >>> Kham pha ngay cac vi tri tuyen dung truong bo phan ky thuat voi\n",
      "muc thu nhap hap dan va che do dai ngo tot tren TopCV de co co hoi ket noi voi cac nha tuyen dung chat luong. Chuyen gia\n",
      "phan tich va tu van ky thuat dien tu vien thong Voi kien thuc chuyen sau ve ky thuat dien tu vien thong, ban hoan toan\n",
      "co the lam viec tai vi tri chuyen gia phan tich, tu van trong linh vuc dien tu - vien thong. O vi tri nay, nguoi lam\n",
      "viec can co ky nang phan tich, tu van, danh gia va chuyen mon vung de thuc hien cac nhiem vu phan tich, tu van va cung\n",
      "cap cac giai phap, khuyen nghi de cai thien hieu suat va kha nang canh tranh cua cac he thong vien thong. Mo ta cong\n",
      "viec: Ngoai ra, neu dam me nghien cuu va phat trien, sau khi tot nghiep nganh ky thuat dien tu vien thong ban hoan toan\n",
      "co the tham gia vao hoat dong nghien cuu va phat trien cong nghe moi trong nganh ky thuat dien tu vien thong. De thuc\n",
      "hien dieu nay, nhieu nguoi lua chon tro thanh can bo giang day, nghien cuu trong cac vien nghien cuu, truong dai hoc,\n",
      "cao dang ve ky thuat dien tu vien thong. Tren day chi la mot so goi y cong viec ma ban co the lam sau khi tot nghiep va\n",
      "duoc dao tao ve nganh ky thuat dien tu vien thong. Co the noi, hoc nganh nay mo ra nhieu co hoi nghe nghiep khac nhau\n",
      "cho cac ban sinh vien. Cac cong ty vien thong, cong ty san xuat thiet bi dien tu, cong ty cong nghe, dai phat thanh, dai\n",
      "truyen hinh,v.vv.. va to chuc nghien cuu deu co nhu cau tuyen dung cac chuyen gia trong linh vuc nay. Sau khi xac dinh\n",
      "duoc vi tri cong viec muon ung tuyen, viec tiep theo ban can lam la chuan bi mot ban CV chin chu, dep mat va chuyen\n",
      "nghiep gui den nha tuyen dung. Hay tham khao cach viet CV tim viec ky thuat dien tu ma TopCV da chia se de cau truc mot\n",
      "ban CV ung y ban nhe. Tim viec lam nganh ky thuat dien tu vien thong o dau? Nhu cau viec lam nganh ky thuat dien tu vien\n",
      "thong rat lon va da dang vi tri tuyen dung. Tuy nhien viec tim duoc mot ben do cong viec voi vi tri phu hop la dieu\n",
      "khong de dang, nhat la voi cac ban sinh vien moi ra truong. Neu ban dang lo lang tim kiem nhung co hoi viec lam trong\n",
      "nganh ky thuat dien tu vien thong hoac mong muon co them nhieu thong tin tuyen dung trong nganh nay thi TopCV la lua\n",
      "chon dang can nhac. La nen tang tuyen dung va viec lam tien phong tai Viet Nam, TopCV giup ban tiep can voi hang trieu\n",
      "thong tin tuyen dung o nhieu vi tri cong viec khac nhau. Bang viec ung dung tri tue nhan tao, TopCV de dang ket noi ung\n",
      "vien voi mang luoi nha tuyen dung tai nhieu tinh thanh khac nhau. Dac biet, TopCV giup ban co co hoi duoc ket noi va\n",
      "tiep can cac vi tri cong viec hap dan tu cac doanh nghiep trong nuoc cung nhu quoc te co uy tin trong linh vuc dien tu\n",
      "vien thong nhu: FPT, Viettel, MobiFone, VNPT, SamSung,v.vv.. Tu do thuan loi tim ra \"mien dat hua\" cho minh. Khong chi\n",
      "ket noi nhanh chong, TopCV con ho tro ban tao CV chuyen nghiep, viet so yeu ly lich dung chuan va cung cap them nhieu\n",
      "kien thuc ve ky nang phong van, ky nang tao an tuong voi nha tuyen dung de tang ty le thanh cong khi tim viec. Tren day\n",
      "la nhung thong tin chi tiet ve nganh ky thuat dien tu vien thong ma TopCV vua cap nhat va gui den ban. Hy vong voi nhung\n",
      "thong tin nay, ban da hieu ro ve nganh ky thuat dien tu vien thong nhu: mon thi, co hoi nghe nghiep, muc thu nhap,v.vv..\n",
      "tu do dua ra su lua chon cong viec phu hop sau khi ra truong, dong thoi tu tin lua chon nganh hoc neu ban dang lung tung\n",
      "trong viec chon nganh, chon truong hoc sau khi tot nghiep THPT. Chuc cac ban thanh cong va dung quen TopCV van dong hanh\n",
      "trong suot hanh trinh tim viec thong qua viec cap nhat nhanh chong va lien tuc cac cong viec moi nhat ban nhe!.\n",
      "------------------------------------------------------------------------------------------------------------------------\n",
      "None\n"
     ]
    }
   ],
   "source": [
    "print(wraptext(refs))"
   ]
  },
  {
   "cell_type": "code",
   "execution_count": 18,
   "metadata": {},
   "outputs": [
    {
     "data": {
      "text/plain": [
       "(1, 3)"
      ]
     },
     "execution_count": 18,
     "metadata": {},
     "output_type": "execute_result"
    }
   ],
   "source": [
    "len(hypos), len(refs)"
   ]
  },
  {
   "cell_type": "markdown",
   "metadata": {},
   "source": [
    "### Using BERTScore for Evaluation"
   ]
  },
  {
   "cell_type": "markdown",
   "metadata": {},
   "source": [
    "1. BERTScore is used to measure textual similarity between candidate texts and reference texts. It considers not only exact word matches but also the overall meaning, fluency, and order of the ouput.\n",
    "\n",
    "2. BERTScore: Precision, Recall, F1\n",
    "    * Precision measures how well the candidate texts avoid introducing irrelevant content.\n",
    "    * Recall measures how well the candidate texts avoid omitting relevant content.\n",
    "    * F1 = 2 x (P x R)/(P + R) "
   ]
  },
  {
   "cell_type": "code",
   "execution_count": 19,
   "metadata": {},
   "outputs": [
    {
     "name": "stderr",
     "output_type": "stream",
     "text": [
      "/media/sanslab/Data/stevehoang/rag_research/vigpt-researcher/venv/lib/python3.11/site-packages/tqdm/auto.py:21: TqdmWarning: IProgress not found. Please update jupyter and ipywidgets. See https://ipywidgets.readthedocs.io/en/stable/user_install.html\n",
      "  from .autonotebook import tqdm as notebook_tqdm\n"
     ]
    }
   ],
   "source": [
    "from bert_score import score"
   ]
  },
  {
   "cell_type": "code",
   "execution_count": 20,
   "metadata": {},
   "outputs": [],
   "source": [
    "# Hide the loading messages\n",
    "import logging\n",
    "import transformers\n",
    "transformers.tokenization_utils.logger.setLevel(logging.ERROR)\n",
    "transformers.configuration_utils.logger.setLevel(logging.ERROR)\n",
    "transformers.modeling_utils.logger.setLevel(logging.ERROR)"
   ]
  },
  {
   "cell_type": "code",
   "execution_count": 21,
   "metadata": {},
   "outputs": [],
   "source": [
    "def bert_score(hypos, refs, lang=\"vi\"):\n",
    "    bert_scores = []\n",
    "    for ref in refs:\n",
    "        scores = score(hypos, [ref], lang=lang, verbose=False)\n",
    "        bert_scores.append(scores)\n",
    "    return bert_scores"
   ]
  },
  {
   "cell_type": "code",
   "execution_count": 22,
   "metadata": {},
   "outputs": [],
   "source": [
    "bert_scores = bert_score(hypos, refs)"
   ]
  },
  {
   "cell_type": "code",
   "execution_count": 23,
   "metadata": {},
   "outputs": [],
   "source": [
    "import torch\n",
    "\n",
    "precision = torch.mean(torch.stack([bert_score[0] for bert_score in bert_scores]))\n",
    "recall = torch.mean(torch.stack([bert_score[1] for bert_score in bert_scores]))\n",
    "f1 = torch.mean(torch.stack([bert_score[2] for bert_score in bert_scores]))"
   ]
  },
  {
   "cell_type": "code",
   "execution_count": 24,
   "metadata": {},
   "outputs": [
    {
     "name": "stdout",
     "output_type": "stream",
     "text": [
      "BERT score:\n",
      "P: 0.74, R: 0.76, F1: 0.75\n"
     ]
    }
   ],
   "source": [
    "print(\"BERT score:\")\n",
    "print(f\"P: {precision.item():.2f}, R: {recall.item():.2f}, F1: {f1.item():.2f}\")"
   ]
  },
  {
   "cell_type": "markdown",
   "metadata": {},
   "source": [
    "### Using ROUGE score for Evaluation"
   ]
  },
  {
   "cell_type": "code",
   "execution_count": 25,
   "metadata": {},
   "outputs": [],
   "source": [
    "from rouge_score import rouge_scorer\n",
    "\n",
    "def rouge_score(hypos, refs):\n",
    "    scorer = rouge_scorer.RougeScorer(['rouge1', 'rouge2'], use_stemmer=True)\n",
    "    scores = [scorer.score(ref, hypo) for ref, hypo in zip(refs, hypos)]\n",
    "    return scores\n",
    "\n",
    "rouge = rouge_score(hypos, refs)"
   ]
  },
  {
   "cell_type": "code",
   "execution_count": 26,
   "metadata": {},
   "outputs": [
    {
     "name": "stdout",
     "output_type": "stream",
     "text": [
      "ROUGE scores:\n",
      "ROUGE-1: P = 0.82, R = 0.44, F1 = 0.57\n",
      "ROUGE-2: P = 0.42, R = 0.23, F1 = 0.29\n"
     ]
    }
   ],
   "source": [
    "for i, score in enumerate(rouge):\n",
    "    print(\"ROUGE scores:\")\n",
    "    print(f\"ROUGE-1: P = {score['rouge1'].precision:.2f}, R = {score['rouge1'].recall:.2f}, F1 = {score['rouge1'].fmeasure:.2f}\")\n",
    "    print(f\"ROUGE-2: P = {score['rouge2'].precision:.2f}, R = {score['rouge2'].recall:.2f}, F1 = {score['rouge2'].fmeasure:.2f}\")"
   ]
  },
  {
   "cell_type": "markdown",
   "metadata": {},
   "source": [
    "### RESULTS\n",
    "\n",
    "| METRIC   | Precision | Recall | F1 |\n",
    "|---------|----------|-------|-------|\n",
    "| BERTScore| | | |\n",
    "| ROUGE-1| | | |\n",
    "| ROUGE-2| | | |\n",
    "\n",
    "* BERTScore Average: Precision = ?, Recall = ?, F1 = ?\n",
    "* ROUGE-1 Average: Precision = ?, Recall = ?, F1 = ?\n",
    "* ROUGE-2 Average: Precision = ?, Recall = ?, F1 = ?"
   ]
  },
  {
   "cell_type": "markdown",
   "metadata": {},
   "source": [
    "### Total Time Executions\n",
    "\n",
    "|Time (s) | T1 | T2 |\n",
    "|----|----|----|\n",
    "|    | 100.123 | 123.123 |"
   ]
  },
  {
   "cell_type": "markdown",
   "metadata": {},
   "source": [
    "### Review\n",
    "1. Summarization is a complex task, even advanced models can struggle to accurately capture all the important information from a source text.\n",
    "\n",
    "2. BERTScore or ROUGE that these metrics focus on things like including keywords from the source text, so that do not perfectly reflect human judgement of a good summary.\n",
    "\n",
    "3. The response of chatbot from many different sources.\n"
   ]
  },
  {
   "cell_type": "markdown",
   "metadata": {},
   "source": [
    "### HUMAN EVALUATION IS THE BEST WAY TO EVALUATE THE QUALITY OF A SUMMARY"
   ]
  },
  {
   "cell_type": "code",
   "execution_count": null,
   "metadata": {},
   "outputs": [],
   "source": []
  }
 ],
 "metadata": {
  "kernelspec": {
   "display_name": "venv",
   "language": "python",
   "name": "python3"
  },
  "language_info": {
   "codemirror_mode": {
    "name": "ipython",
    "version": 3
   },
   "file_extension": ".py",
   "mimetype": "text/x-python",
   "name": "python",
   "nbconvert_exporter": "python",
   "pygments_lexer": "ipython3",
   "version": "3.11.5"
  }
 },
 "nbformat": 4,
 "nbformat_minor": 2
}
