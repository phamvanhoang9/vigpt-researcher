{
 "cells": [
  {
   "cell_type": "code",
   "execution_count": 87,
   "metadata": {},
   "outputs": [],
   "source": [
    "references = [\n",
    "    \"https://ts.hust.edu.vn/training-cate/nganh-dao-tao-dai-hoc/dien-tu-va-vien-thong\",\n",
    "    \"https://huongnghiep.hocmai.vn/chuyen-nganh/ky-thuat-dien-tu-vien-thong/dai-hoc-bach-khoa-ha-noi/\",\n",
    "    \"https://blog.jobsnew.vn/nganh-dien-tu-vien-thong/\"\n",
    "]"
   ]
  },
  {
   "cell_type": "code",
   "execution_count": 88,
   "metadata": {},
   "outputs": [],
   "source": [
    "hypothesis = \"# Báo cáo về Ngành Điện tử - Viễn thông của Đại học Bách khoa Hà Nội \\\n",
    "## Giới thiệu chung \\\n",
    "Trong bối cảnh cuộc Cách mạng công nghiệp lần thứ 4 đang diễn ra mạnh mẽ, ngành Điện tử - Viễn thông trở thành một trong những ngành học quan trọng và tiềm năng, đóng vai trò chủ chốt trong sự phát triển của xã hội hiện đại. Đại học Bách khoa Hà Nội (HUST), một trong những trường đại học hàng đầu Việt Nam, đã và đang đào tạo ngành Điện tử - Viễn thông, nhằm cung cấp nguồn nhân lực chất lượng cao cho thị trường lao động trong và ngoài nước. \\\n",
    "## Chương trình đào tạo \\\n",
    "Chương trình đào tạo ngành Điện tử - Viễn thông tại HUST được thiết kế để trang bị cho sinh viên những kiến thức toàn diện từ cơ bản đến chuyên sâu. Sinh viên sẽ được học các khối kiến thức toán học và khoa học cơ bản, kiến thức cơ sở ngành Điện tử - Viễn thông, kiến thức bổ trợ xã hội và kỹ năng mềm, cũng như khối kiến thức tự chọn chuyên sâu theo các định hướng như kỹ thuật điện tử, kỹ thuật máy tính, kỹ thuật thông tin truyền thông, kỹ thuật y sinh, kỹ thuật điện tử hàng không vũ trụ, kỹ thuật đa phương tiện, kỹ thuật vi điện tử và công nghệ nano (HUST, n.d.). \\\n",
    "Sinh viên có cơ hội lựa chọn một trong các chuyên ngành sau: \\\n",
    "- Điện tử và kỹ thuật máy tính: chuyên về lập trình cho các hệ thống nhúng. \\\n",
    "- Kỹ thuật thông tin - truyền thông: chuyên về hệ thống viễn thông, kỹ thuật truyền số liệu. \\\n",
    "- Kỹ thuật y sinh: chuyên nghiên cứu các thiết bị y tế phục vụ khám chữa bệnh. \\\n",
    "- Kỹ thuật điện tử hàng không vũ trụ: nghiên cứu về các loại máy bay tự hành. \\\n",
    "- Kỹ thuật Đa phương tiện: nghiên cứu về các thiết bị nghe nhìn, điều chỉnh âm độ của các thiết bị thu âm (Hocmai.vn, n.d.). \\\n",
    "## Tiêu chuẩn đầu vào và cơ hội chuyển tiếp \\\n",
    "Điểm chuẩn ngành Kỹ thuật Điện tử - Viễn thông tại HUST thường nằm ở mức cao, phản ánh sự cạnh tranh và chất lượng đào tạo của ngành. Ví dụ, điểm chuẩn năm 2023 qua các phương thức xét tuyển khác nhau như Đánh giá tư duy và kết quả thi tốt nghiệp THPT dao động từ 24.5 đến 26.8 (Hocmai.vn, n.d.). \\\n",
    "Ngoài ra, sinh viên còn có cơ hội chuyển tiếp sang các chương trình đào tạo quốc tế, như chương trình liên kết với Đại học Leibniz Hannover (Đức), với giai đoạn đầu học tại HUST và có cơ hội chuyển tiếp sang Đức để học bằng thạc sĩ (HUST, n.d.). \\\n",
    "## Cơ hội nghề nghiệp \\\n",
    "Sau khi tốt nghiệp, sinh viên ngành Điện tử - Viễn thông của HUST có thể làm việc tại các hãng thiết bị, các tập đoàn, công ty đa quốc gia về Điện tử - Viễn thông. Theo thống kê, 95% sinh viên khoa Kỹ thuật Điện tử - Viễn thông của HUST có việc làm ngay sau một năm tốt nghiệp với mức lương khởi điểm từ 8-20 triệu đồng (Hocmai.vn, n.d.). \\\n",
    "Các vị trí công việc sau khi tốt nghiệp bao gồm nhưng không giới hạn ở: \\\n",
    "- Chuyên viên quản lý kỹ thuật và sản phẩm, quản lý dự án kinh doanh. \\\n",
    "- Chuyên viên tư vấn, thiết kế và vận hành kỹ thuật tại các đài phát thanh, đài truyền hình, công ty tư vấn thiết kế mạng viễn thông, sản xuất thiết bị Điện tử - Viễn Thông. \\\n",
    "- Nghiên cứu và phát triển, mạng vô tuyến, định vị dẫn đường, thiết bị tín hiệu đa phương tiện (Jobsnew.vn, n.d.). \\\n",
    "## Kết luận \\\n",
    "Ngành Điện tử - Viễn thông tại Đại học Bách khoa Hà Nội không chỉ cung cấp một nền tảng kiến thức vững chắc mà còn mở ra cơ hội nghề nghiệp rộng lớn trong một lĩnh vực đang phát triển mạnh mẽ. Với chương trình đào tạo chất lượng cao, tiêu chuẩn đầu vào nghiêm ngặt và cơ hội chuyển tiếp quốc tế, sinh viên tốt nghiệp từ HUST có thể tự tin bước vào thị trường lao động và đóng góp vào sự phát triển của ngành công nghiệp Điện tử - Viễn thông cả trong và ngoài nước.\""
   ]
  },
  {
   "cell_type": "code",
   "execution_count": 89,
   "metadata": {},
   "outputs": [],
   "source": [
    "import urllib3\n",
    "urllib3.disable_warnings(urllib3.exceptions.InsecureRequestWarning)"
   ]
  },
  {
   "cell_type": "code",
   "execution_count": 90,
   "metadata": {},
   "outputs": [],
   "source": [
    "import requests\n",
    "from bs4 import BeautifulSoup\n",
    "\n",
    "\n",
    "class BaseLoader:\n",
    "    def __init__(self, urls):\n",
    "        self.urls = urls\n",
    "\n",
    "    def load(self):\n",
    "        references = []\n",
    "        for url in self.urls:\n",
    "            response = requests.get(url, verify=False)\n",
    "            soup = BeautifulSoup(response.text, 'html.parser')\n",
    "            references.append(soup.get_text())\n",
    "        \n",
    "        return references\n",
    "            \n",
    "loader = BaseLoader(references)\n",
    "references = loader.load()"
   ]
  },
  {
   "cell_type": "code",
   "execution_count": 91,
   "metadata": {},
   "outputs": [],
   "source": [
    "# Normalizing Vietnamese text\n",
    "import unicodedata\n",
    "import re\n",
    "\n",
    "def normalize_text(text):\n",
    "    text = unicodedata.normalize(\"NFC\", text)\n",
    "    text = re.sub(r\"\\s+\", \" \", text)\n",
    "    return text"
   ]
  },
  {
   "cell_type": "code",
   "execution_count": 92,
   "metadata": {},
   "outputs": [],
   "source": [
    "references = [normalize_text(content) for content in references]\n",
    "hypothesis = [normalize_text(hypothesis)]"
   ]
  },
  {
   "cell_type": "code",
   "execution_count": 93,
   "metadata": {},
   "outputs": [],
   "source": [
    "if not references:\n",
    "    print('The references list is empty.')\n",
    "else:\n",
    "    reference = ' '.join(references)\n",
    "    with open('refs.txt', 'w') as f:\n",
    "        f.write(reference)"
   ]
  },
  {
   "cell_type": "code",
   "execution_count": 94,
   "metadata": {},
   "outputs": [],
   "source": [
    "if not hypothesis:\n",
    "    print('The hypothesis list is empty.')\n",
    "else:\n",
    "    with open('hypos.txt', 'w') as f:\n",
    "        for hypothesis in hypothesis:\n",
    "            f.write(hypothesis + \"\\n\")"
   ]
  },
  {
   "cell_type": "code",
   "execution_count": 95,
   "metadata": {},
   "outputs": [],
   "source": [
    "from bert_score import score"
   ]
  },
  {
   "cell_type": "code",
   "execution_count": 96,
   "metadata": {},
   "outputs": [],
   "source": [
    "with open(\"hypos.txt\") as f:\n",
    "    cands = [line.strip() for line in f]\n",
    "\n",
    "with open(\"refs.txt\") as f:\n",
    "    refs = [line.strip() for line in f]"
   ]
  },
  {
   "cell_type": "code",
   "execution_count": 97,
   "metadata": {},
   "outputs": [],
   "source": [
    "# Hide the loading messages\n",
    "import logging\n",
    "import transformers\n",
    "transformers.tokenization_utils.logger.setLevel(logging.ERROR)\n",
    "transformers.configuration_utils.logger.setLevel(logging.ERROR)\n",
    "transformers.modeling_utils.logger.setLevel(logging.ERROR)"
   ]
  },
  {
   "cell_type": "code",
   "execution_count": 98,
   "metadata": {},
   "outputs": [],
   "source": [
    "P, R, F1 = score(cands, refs, lang=\"vi\", verbose=False)"
   ]
  },
  {
   "cell_type": "code",
   "execution_count": 99,
   "metadata": {},
   "outputs": [
    {
     "name": "stdout",
     "output_type": "stream",
     "text": [
      "Precision: 0.717\n",
      "Recall: 0.677\n",
      "F1 score: 0.696\n"
     ]
    }
   ],
   "source": [
    "print(f\"Precision: {P.mean():.3f}\")\n",
    "print(f\"Recall: {R.mean():.3f}\")\n",
    "print(f\"F1 score: {F1.mean():.3f}\")"
   ]
  },
  {
   "cell_type": "markdown",
   "metadata": {},
   "source": [
    "#### F1 score is 0.696 that is quite good for my project!!!"
   ]
  },
  {
   "cell_type": "markdown",
   "metadata": {},
   "source": [
    "#### Using ROUGE score to evaluate the quality of the generation text."
   ]
  },
  {
   "cell_type": "code",
   "execution_count": 100,
   "metadata": {},
   "outputs": [],
   "source": [
    "# Now, let's define the function to calculate Rouge score with the refs.txt and hypos.txt files\n",
    "from rouge_score import rouge_scorer\n",
    "\n",
    "def rouge_score(hypothesis_file, reference_file):\n",
    "    scorer = rouge_scorer.RougeScorer(['rouge1', 'rouge2', 'rougeL'], use_stemmer=True)\n",
    "    with open(reference_file) as f:\n",
    "        references = [line.strip() for line in f]\n",
    "    with open(hypothesis_file) as f:\n",
    "        hypothesis = [line.strip() for line in f]\n",
    "    scores = [scorer.score(ref, hypo) for ref, hypo in zip(references, hypothesis)]\n",
    "    return scores\n",
    "\n",
    "rouge = rouge_score(\"hypos.txt\", \"refs.txt\")"
   ]
  },
  {
   "cell_type": "code",
   "execution_count": 101,
   "metadata": {},
   "outputs": [
    {
     "name": "stdout",
     "output_type": "stream",
     "text": [
      "Rouge-1 precision: 0.996\n",
      "Rouge-2 precision: 0.925\n",
      "Rouge-L precision: 0.803\n"
     ]
    }
   ],
   "source": [
    "for i, score in enumerate(rouge):\n",
    "    print(f\"Rouge-1 precision: {score['rouge1'].precision:.3f}\")\n",
    "    print(f\"Rouge-2 precision: {score['rouge2'].precision:.3f}\")\n",
    "    print(f\"Rouge-L precision: {score['rougeL'].precision:.3f}\")"
   ]
  },
  {
   "cell_type": "markdown",
   "metadata": {},
   "source": [
    "#### The ROUGE score is used to evaluate the quality of the text summarization system. The ROUGE score is calculated based on the n-gram overlap between the generated text and the reference text. In this project, the generated text is a summary of the reference text, so the ROUGE score is suitable for this project. For my project, I highly tend to use the precision score of ROUGE because it is the most important score to evaluate the quality of the generation text."
   ]
  },
  {
   "cell_type": "markdown",
   "metadata": {},
   "source": [
    "1. Precision: Precision is the number of overlapping n-grams between the generated text and the reference text divided by the number of n-grams in the generated text. Precision is used to evaluate the quality of the generated text. The higher the precision, the better the quality of the generated text.\n",
    "2. Recall: Recall is the number of overlapping n-grams between the generated text and the reference text divided by the number of n-grams in the reference text. Recall is used to evaluate the coverage of the generated text. The higher the recall, the better the coverage of the generated text.\n",
    "3. F1: F1 is the harmonic mean of precision and recall. F1 is used to evaluate the balance between precision and recall. The higher the F1, the better the balance between precision and recall."
   ]
  }
 ],
 "metadata": {
  "kernelspec": {
   "display_name": "venv",
   "language": "python",
   "name": "python3"
  },
  "language_info": {
   "codemirror_mode": {
    "name": "ipython",
    "version": 3
   },
   "file_extension": ".py",
   "mimetype": "text/x-python",
   "name": "python",
   "nbconvert_exporter": "python",
   "pygments_lexer": "ipython3",
   "version": "3.11.5"
  }
 },
 "nbformat": 4,
 "nbformat_minor": 2
}
