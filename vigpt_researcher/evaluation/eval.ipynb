{
 "cells": [
  {
   "cell_type": "code",
   "execution_count": 176,
   "metadata": {},
   "outputs": [],
   "source": [
    "import urllib3\n",
    "urllib3.disable_warnings(urllib3.exceptions.InsecureRequestWarning)"
   ]
  },
  {
   "cell_type": "code",
   "execution_count": 177,
   "metadata": {},
   "outputs": [],
   "source": [
    "import requests\n",
    "from bs4 import BeautifulSoup\n",
    "\n",
    "\n",
    "class BaseLoader:\n",
    "    def __init__(self, urls):\n",
    "        self.urls = urls\n",
    "\n",
    "    def load(self):\n",
    "        references = []\n",
    "        for url in self.urls:\n",
    "            response = requests.get(url, verify=False)\n",
    "            soup = BeautifulSoup(response.text, 'html.parser')\n",
    "            references.append(soup.get_text())\n",
    "        \n",
    "        return references"
   ]
  },
  {
   "cell_type": "code",
   "execution_count": 178,
   "metadata": {},
   "outputs": [],
   "source": [
    "with open(\"hypos.txt\") as f:\n",
    "    hypos = [line.strip() for line in f]\n",
    "\n",
    "with open(\"refs.txt\") as f:\n",
    "    refs = [line.strip() for line in f]"
   ]
  },
  {
   "cell_type": "code",
   "execution_count": 179,
   "metadata": {},
   "outputs": [
    {
     "data": {
      "text/plain": [
       "['https://ts.hust.edu.vn/training-cate/nganh-dao-tao-dai-hoc/dien-tu-va-vien-thong',\n",
       " 'https://huongnghiep.hocmai.vn/chuyen-nganh/ky-thuat-dien-tu-vien-thong/dai-hoc-bach-khoa-ha-noi/']"
      ]
     },
     "execution_count": 179,
     "metadata": {},
     "output_type": "execute_result"
    }
   ],
   "source": [
    "refs"
   ]
  },
  {
   "cell_type": "code",
   "execution_count": 180,
   "metadata": {},
   "outputs": [],
   "source": [
    "loader = BaseLoader(refs)\n",
    "refs= loader.load()"
   ]
  },
  {
   "cell_type": "code",
   "execution_count": 181,
   "metadata": {},
   "outputs": [
    {
     "name": "stdout",
     "output_type": "stream",
     "text": [
      "   Điện tử và Viễn thông                                      Thông tin tuyển sinh Đại học Bách khoa Hà Nội HUST\n",
      "ADMISSIONS INFORMATION         Đăng nhập  Đơn vị liên quan           Home     Hướng nghiệp     Tuyển sinh Đại học\n",
      "Thông tin chung     Chương trình đào tạo đại học     Xét tuyển tài năng     Kỳ thi đánh giá tư duy     Xác thực chứng\n",
      "chỉ Ngoại ngữ     Điểm chuẩn các năm       Tuyển sinh Sau đại học     Tuyển sinh cao học     Đăng ký thạc sĩ online\n",
      "Ngành đào tạo thạc sĩ       Tuyển sinh nghiên cứu sinh     Mẫu hồ sơ Nghiên cứu sinh         International Admissions\n",
      "Học phí - Học bổng     Học phí     Học bổng       Hỏi đáp     Liên hệ     Ban TS-HN     Đơn vị đào tạo\n",
      "Tổng quan Chương trình đào tạo Học bổng Cơ hội việc làm Đơn vị quản lý       Trang chủ  Ngành đào tạo ĐẠI HỌC  Điện tử\n",
      "và Viễn thông     Tổng quan    Ngôn ngữ đào tạo: Tiếng Việt Mã xét tuyển: ET1   Xét tuyển tài năng:  Xét tuyển bằng Giải\n",
      "thưởng HSG QG-QT/Chứng chỉ Quốc tế/HSNL   Xét tuyển theo KQ Kỳ thi ĐGTD:\n",
      "Tổ hợp xét tuyển:\n",
      "K00\n",
      "K00: Bài thi đánh giá tư duy   Điểm chuẩn:    Xét tuyển theo KQ Kỳ thi TN THPT:\n",
      "Tổ hợp xét tuyển:\n",
      "A00                                                              A00:\n",
      "Toán, Lý, Hoá\n",
      "A01                                                              A01:\n",
      "Toán, Lý, Anh văn\n",
      "Điểm chuẩn:     Chỉ tiêu tuyển sinh: 480         2020 2021 2022 2023 2024 2025        Tốt nghiệp: Cử nhân - Thạc sĩ -\n",
      "Tiến sĩ tích hợp (NCS) Thời gian tuyển sinh: Tháng 4 - Tháng 8 hàng năm Thời gian đào tạo: 4 - 5,5 - 8,5 năm Học phí: 22\n",
      "- 28 triệu đồng/năm  Chương trình chuẩn Kỹ thuật Điện tử Viễn thông là gì? Ngành Điện tử - Viễn thông là một trong những\n",
      "ngành mũi nhọn của cuộc Cách mạng công nghiệp lần thứ 4 và là ngành có nhu cầu cao về nhân lực ở Việt Nam và trên thế\n",
      "giới. Theo học ngành này, sinh viên được trang bị một cách toàn diện cả về kỹ năng chuyên môn và kỹ năng mềm để có thể\n",
      "thiết kế, chế tạo, vận hành các thiết bị và hệ thống điện tử viễn thông, đáp ứng được yêu cầu về tính năng động và sáng\n",
      "tạo của lĩnh vực nghề nghiệp này. Chương trình kỹ thuật Điện tử- Viễn thông được giảng dạy bằng tiếng Việt và được thiết\n",
      "kế bao gồm khối kiến thức toán học và khoa học cơ bản, khối kiến thức cơ sở cốt lõi ngành Điện tử -Viễn thông, khối kiến\n",
      "thức bổ trợ kiến thức xã hội và kỹ năng mềm và khối kiến thức tự chọn chuyên sâu theo các định hướng kỹ thuật điện tử,\n",
      "kỹ thuật máy tính, kỹ thuật thông tin truyền thông, kỹ thuật y sinh, kỹ thuật điện tử hàng không vũ trụ, kỹ thuật đa\n",
      "phương tiện, kỹ thuật vi điện tử và công nghệ nano.     Chương trình đào tạo Xem chi tiết Nội dung chương trình Kiến\n",
      "thức và kỹ năng đạt được sau khi tốt nghiệp Kiến thức  Sinh viên tốt nghiệp có khả năng vận dụng kiến ​​thức toán học và\n",
      "khoa học cơ bản, kiến ​​thức cơ bản, kiến ​​thức cốt lõi ngành kết hợp với khả năng khai thác và sử dụng các phương\n",
      "pháp, công cụ hiện đại. thiết kế, mô phỏng, triển khai, vận hành và đánh giá các hệ thống, sản phẩm, giải pháp kỹ thuật\n",
      "điện tử, viễn thông trong lĩnh vực Điện tử - Viễn thông.  Kỹ năng  Sinh viên tốt nghiệp được trang bị những kỹ năng và\n",
      "phẩm chất chuyên môn cần thiết để thành công trong sự nghiệp; Kỹ năng xã hội cần thiết để làm việc hiệu quả trong các\n",
      "nhóm đa ngành và trong môi trường quốc tế; Năng lực nhận biết vấn đề và hình thành ý tưởng, năng lực thiết kế, năng lực\n",
      "thực hiện, năng lực vận hành, sử dụng, khai thác các hệ thống điện tử, viễn thông; sản phẩm, giải pháp kỹ thuật trong\n",
      "lĩnh vực Điện tử - Viễn thông.  Ngoại ngữ:  Sử dụng tiếng Anh hiệu quả trong giao tiếp và công việc, đạt điểm Toeic 500\n",
      "trở lên.   Thời gian đào tạo và khả năng học tập lên bậc đại học  Đào tạo Cử nhân: 4 năm Đào tạo tích hợp Cử nhân - Kỹ\n",
      "sư: 5 năm Đào tạo tích hợp Cử nhân - Thạc sĩ: 5,5 năm Đào tạo Cử nhân - Thạc sĩ - Tiến sĩ: 8,5 năm   Chương trình được\n",
      "giảng dạy hoàn toàn bằng tiếng Anh và được giảng dạy bởi giảng viên Trường Đại học Bách khoa Hà Nội và giảng viên nước\n",
      "ngoài. Sinh viên có thể theo học các chương trình cấp bằng kép với các trường đại học đối tác như Wollongong – Úc (2+2,\n",
      "3+1), Telecom ParisTech – Pháp (4+2), Viện KAIST – Hàn Quốc. Ngoài ra, sau khi hoàn thành chương trình cử nhân 4 năm,\n",
      "sinh viên có thể học chương trình thạc sĩ tại Đại học bang San Jose.      Học phí - Học bổng Vị trí công việc  Kỹ sư\n",
      "trong lĩnh vực Kỹ thuật Viễn thông như nhà cung cấp dịch vụ mạng cố định hoặc di động, ISP. Kỹ sư phát triển phần mềm,\n",
      "thiết kế phần cứng và hệ thống nhúng. Kỹ sư nghiên cứu và phát triển trong lĩnh vực viễn thông, Internet, phần cứng và\n",
      "phần mềm cho các thiết bị thông minh như thiết bị di động, thiết bị IoT, thiết bị y tế. Kỹ sư vận hành hệ thống mạng\n",
      "viễn thông và hệ thống điện tử công nghiệp. Tư vấn giải pháp, kinh doanh các sản phẩm điện tử, viễn thông. Mức lương\n",
      "khởi điểm từ 12 triệu đến 20 triệu đồng/tháng.    Cơ hội việc làm Cơ hội học bổng  Sinh viên có cơ hội nhận học bổng của\n",
      "Trường, trao đổi học bổng sinh viên từ các doanh nghiệp và các trường đại học quốc tế với tư cách là đối tác của Viện\n",
      "Điện tử Viễn thông. Tỷ lệ sinh viên du học được nhận học bổng hàng năm vượt quá 20% tổng số sinh viên tốt nghiệp.  Liên\n",
      "hệ để có thêm thông tin  Email liên hệ: huong.truongthu@hust.edu.vn (Cô Trương Thu Hương)                 Thông tin\n",
      "tuyển sinh Đại học Bách khoa Hà Nội   Ban Tuyển sinh-Hướng Nghiệp - Phòng 101, Tòa nhà C1B Điện thoại hỗ trợ ĐH - SĐH:\n",
      "(+84) 2438683408 Email: tuyensinh@hust.edu.vn      https://www.facebook.com/tsdhbk    Facebook đại học Facebook sau đại\n",
      "học Facebook K69 - DHBKHN Twitter Instagram Youtube      Ban Tuyển sinh-Hướng nghiệp - Đại học Bách khoa Hà Nội\n",
      "Hướng dẫntra cứu    đại học0243 868 3408    Sau đại học0243 868 3408     ×       Các phòng ban\n",
      "Trường - Viện                                         Sơ đồ website                                    Ban Công tác sinh\n",
      "viên    Website Faecbook  Văn phòng: C2-201, C1 - 103, 104, 105 Phone: 024 3869 3108 Fax: 024 38693108     Bản đồ trường\n",
      "Ban Đào tạo    Website Faecbook  Văn phòng C1 - 201 - Quản lý điểm và xử lý học tập, Đồ án TN, Xét TN Phone:\n",
      "(+8424)38682305     Bản đồ trường            Ban Tuyển sinh - Hướng nghiệp    Website Faecbook  Ban Tuyển sinh-Hướng\n",
      "nghiệp - Phòng 101, Tòa nhà C1B Phone: (+84) 243 868 3408 - 084 868 3408     Bản đồ trường            Trung tâm Quản lý\n",
      "ký túc xá    Website Faecbook  Văn phòng: B9 - 101, 102 Phone: 024 38692942     Bản đồ trường              Trường Cơ khí\n",
      "Website Faecbook  VP C7-614M, ĐH Bách khoa Hà Nội, số 1 Đại Cồ Việt, Hà Nội Phone: (+84) 24 38 696 165     Bản đồ trường\n",
      "Trường Công nghệ thông tin và Truyền thông    Website Faecbook  Văn phòng Trường CNTT&TT (P505 - Nhà B1) Phone: 024 3869\n",
      "2463     Bản đồ trường            Trường Điện - Điện tử (see)     Website Faecbook  Văn phòng: C1 - 320 Phone: 024 3869\n",
      "6211 Fax: 024 3623 1478     Bản đồ trường            Trường Hóa và Khoa học sự sống    Website Faecbook  Phòng 214, nhà\n",
      "C4, Đại Cồ Việt, Hai Bà Trưng, Hà Nội Phone: 024 38 680 070 Fax: 024 3869 2300     Bản đồ trường            Trường Vật\n",
      "liệu    Website Faecbook  Tầng 7 - nhà D8, Số 1 Đại Cồ Việt, Q.Hai Bà Trưng, Hà Nội Phone: 086 548 5665             Viện\n",
      "Kinh tế và Quản lý    Website Faecbook  P302-304 Nhà C9, Đại học Bách Khoa Hà Nội; Số 1 Đại Cồ Việt, Q. Hai Bà Trưng,\n",
      "Tp. Hà Nội Phone: 024 38 692 304 / 3868.0791 / 0398 698 689     Bản đồ trường            Viện Ngoại Ngữ    Website\n",
      "Faecbook  Phòng 209,  nhà D4 - ĐH Bách Khoa Hà Nội, Số 1, Đại Cồ Việt, Q.Hai Bà Trưng, Hà Nội Phone: (+84) 24 3869 2201\n",
      "Bản đồ trường            Viện Sư phạm Kỹ thuật    Website Faecbook  Phòng 402 nhà D5, Trường ĐHBKHN Phone: 024 3868.1432\n",
      "Bản đồ trường            Viện Toán ứng dụng và Tin học    Website Faecbook  Phòng 106 nhà D3, ĐHBK Hà Nội, Số 01 Đại Cồ\n",
      "Việt - Quận Hai Bà Trưng - Hà Nội Phone: 024 3869 2137 Fax: 024 3868 2470     Bản đồ trường            Viện Vật lý Kỹ\n",
      "thuật    Website Faecbook  P. 116, Nhà C10, ĐH Bách khoa Hà Nội (Số 1, Đại Cồ Việt, Q.Hai Bà Trưng, Hà Nội) Phone: 024\n",
      "3869 3350 Fax: 024 3869 3498     Bản đồ trường             Incoming...               ×       Từ khoá nổi bật  xét tuyển\n",
      "tài năng 2023 Kỳ thi đánh giá tư duy Đăng ký thi thử bài thi tư duy 2023 Ngành đào tạo đại học Tuyển sinh Sau đại học\n",
      "Home     Hướng nghiệp     Tuyển sinh Đại học     Thông tin chung     Chương trình đào tạo đại học     Xét tuyển tài năng\n",
      "Kỳ thi đánh giá tư duy     Xác thực chứng chỉ Ngoại ngữ     Điểm chuẩn các năm       Tuyển sinh Sau đại học     Tuyển\n",
      "sinh cao học     Đăng ký thạc sĩ online     Ngành đào tạo thạc sĩ       Tuyển sinh nghiên cứu sinh     Mẫu hồ sơ Nghiên\n",
      "cứu sinh         International Admissions     Học phí - Học bổng     Học phí     Học bổng       Hỏi đáp     Liên hệ\n",
      "Ban TS-HN     Đơn vị đào tạo\n",
      "\n",
      "\n",
      "            Chuyên ngành Kỹ thuật Điện tử - Viễn thông - Đại Học Bách Khoa Hà Nội\n",
      "Please enable javascript to view this site.                      Danh mục  Trang chủ Tốt nghiệp THPT  Nhận định Đáp án\n",
      "Tin tức Tính điểm   Tuyển sinh ĐH  Quốc Gia Hà Nội Bách Khoa Hà Nội ĐGNL HCM Học bạ – Tốt nghiệp   Thi vào 10  Ôn luyện\n",
      "vào 10 Tin tức vào 10   Góc Tư Vấn  Cách chọn nghề Cách chọn trường Tư vấn ôn thi tốt nghiệp, đại học   Chuyên gia Tư\n",
      "vấn tuyển sinh   x                                     huongnghiep.hocmai.vn |                             March 20,\n",
      "2024                            Select a Page:           Menu          Tính Điểm Điểm chuẩn TN Nghề Nghiệp Thi Online Tổ\n",
      "hợp môn Trao đổi – Hỏi đáp          Đăng nhập Đăng ký      Đăng nhập Đăng ký               Trang chủ Tốt nghiệp THPT\n",
      "Nhận định Đáp án Tin tức Tính điểm   Tuyển sinh ĐH  Quốc Gia Hà Nội Bách Khoa Hà Nội ĐGNL HCM Học bạ – Tốt nghiệp   Thi\n",
      "vào 10  Ôn luyện vào 10 Tin tức vào 10   Góc Tư Vấn  Cách chọn nghề Cách chọn trường Tư vấn ôn thi tốt nghiệp, đại học\n",
      "Chuyên gia Tư vấn tuyển sinh    Tính Điểm Điểm chuẩn TN Nghề Nghiệp Thi Online Tổ hợp môn Trao đổi – Hỏi đáp\n",
      "Scroll to top                    Top                      Chuyên ngành Kỹ thuật Điện tử - Viễn thông - Đại Học Bách Khoa\n",
      "Hà Nội    Review ngành Kỹ thuật Điện tử – Viễn thông Đại học Bách Khoa Hà Nội (HUST): Dùng công nghệ hiện đại thay đổi\n",
      "văn minh nhân loại Khi cuộc cách mạng 4.0 bùng nổ, ngành Kỹ thuật điện tử – Viễn thông trở thành một trong những ngành\n",
      "mở ra nhiều cơ hội nhất cho các bạn trẻ. Là một trong những trường đào tạo hàng đầu về điện tử – viễn thông, Đại học\n",
      "Bách Khoa Hà Nội là cái tên được rất nhiều người chú ý. Hôm nay hãy cùng Huongnghiep.hocmai.vn review chi tiết để các\n",
      "bạn có cái nhìn rõ hơn về ngành Kỹ thuật Điện tử – Viễn thông của ĐHBK HN nhé! Điện tử viễn thông đóng vai trò quan\n",
      "trọng trong cuộc cách mạng 4.0 Mục lục1. Ngành Kỹ thuật Điện tử – Viễn thông là gì?2. Ngành Kỹ thuật Điện tử – Viễn\n",
      "thông Đại học Bách Khoa Hà Nội có gì?3. Điểm chuẩn ngành Kỹ thuật Điện tử – Viễn thông Đại học Bách Khoa Hà Nội4. Học Kỹ\n",
      "thuật Điện tử – Viễn thông ra trường làm gì? 1. Ngành Kỹ thuật Điện tử – Viễn thông là gì? Kỹ thuật Điện tử – Viễn thông\n",
      "là ngành nghiên cứu về việc ứng dụng kỹ thuật tiên tiến và công nghệ hiện đại nhất để tạo ra các thiết bị vệ tinh, cáp\n",
      "và thiết bị điện tử như: điện thoại, máy tính bảng, máy tính cá nhân, Tivi,…. Nhờ đó giúp con người xây dựng được hệ\n",
      "thống mạng thông tin liên lạc toàn cầu, giúp việc trao đổi thông tin được tiến hành thuận lợi bất chấp thời gian và\n",
      "không gian khác nhau. Ngành này gồm có hai lĩnh vực chính: –        Điện tử: Nghiên cứu và chế tạo ra vi mạch điện tử,\n",
      "đây chính là bộ não điều khiển tất cả các hoạt động của thiết bị thông minh –        Viễn thông: Nghiên cứu và sử dụng\n",
      "các thiết bị tạo nên mạng viễn thông (thiết bị truyền thông tin từ đầu phát đến đầu thu) gồm có những thành phần chính\n",
      "là: thiết bị truyền dẫn, thiết bị chuyển mạch, thiết bị đầu cuối, môi trường truyền. 2. Ngành Kỹ thuật Điện tử – Viễn\n",
      "thông Đại học Bách Khoa Hà Nội có gì? Khoa Kỹ thuật Điện tử – Viễn thông hiện đang rất hot của Bách Khoa ở hiện tại và\n",
      "cả trong tương lai. Khi theo học, bạn sẽ được lựa chọn một trong các chuyên ngành: –        Điện tử và kỹ thuật máy\n",
      "tính: chuyên về lập trình cho các hệ thống nhúng –        Kỹ thuật thông tin – truyền thông: chuyên về hệ thống viễn\n",
      "thông, kỹ thuật truyền số liệu. –        Kỹ thuật y sinh: chuyên nghiên cứu các thiết bị y tế phục vụ khám chữa bệnh – \n",
      "     Kỹ thuật điện tử hàng không vũ trụ: nghiên cứu về các loại máy bay máy bay tự hành –        Kỹ thuật Đa phương\n",
      "tiện: nghiên cứu về các thiết bị nghe nhìn, điều chỉnh âm độ của các thiết bị thu âm,… Nội dung chương trình học:    Tại\n",
      "Đại học Bách Khoa Hà Nội, bạn có thể theo học hệ cử nhân (4 năm), hệ kỹ sư (5 năm), hệ tích hợp cử nhân – thạc sĩ (5,5\n",
      "năm) hoặc Hệ Cử nhân – thạc sĩ – tiến sĩ (8,5 năm). Bên cạnh đó, bạn cũng có cơ hội tham gia chương trình song bằng với\n",
      "các đối tác của trường theo mô hình: –        2+2: 2 năm đầu học tại Đại học Bách Khoa Hà Nội, 2 năm cuối sẽ học tại Đại\n",
      "học Wollongong của Úc, được cấp bằng cử nhân của cả 2 trường –        4+2: 4 năm đầu học tại Đại học Bách Khoa Hà Nội, 2\n",
      "năm sau học tại Đại học Telecom ParisTech của Pháp. Sau 6 năm bạn sẽ nhận được bằng Thạc sĩ của ĐH BK HN và bằng kỹ sư\n",
      "của Đại học Telecom ParisTech. –        4+1+3: 4 năm đầu học tại Đại học Bách Khoa Hà Nội lấy bằng cử nhân của ĐHBKHN, 1\n",
      "năm tiếp theo học Thạc sĩ tại ĐHBK HN và 3 năm cuối học chương trình Tiến sĩ ở viện KAIST (Hàn Quốc), sau đó bạn sẽ có\n",
      "bằng Tiến sĩ của cả 2 trường. Vẫn chưa hết, sinh viên Kỹ thuật Điện tử – Viễn thông của Đại học Bách Khoa Hà Nội còn có\n",
      "thể chọn học chương trình tiên tiến. Ở đây, ngôn ngữ giảng dạy sẽ hoàn toàn bằng tiếng Anh với đội ngũ giảng viên hàng\n",
      "đầu trong nước và quốc tế. Một lựa chọn khác cho các bạn sinh viên yêu thích điện tử – viễn thông là chương trình liên\n",
      "kết với Đại học Leibniz Hannover (Đức). Một số điểm khác biệt của chương trình này là: – Ngôn ngữ đào tạo bằng tiếng\n",
      "Việt và đến năm 3 bạn sẽ được học một số môn bằng tiếng Đức với giảng viên nước ngoài. – Giai đoạn 1 (4 năm đầu: bạn sẽ\n",
      "học tại Đại Học Bách Khoa Hà Nội theo chương trình thống nhất giữa hai trường, ngôn ngữ học là tiếng Việt và được học\n",
      "tăng cường 5 kỳ tiếng Đức. – Đến giai đoạn 2 bạn sẽ được lựa chọn: + Nếu có đủ điều kiện chuyên môn và ngoại ngữ bạn sẽ\n",
      "chuyển sang học bằng thạc sũ của Đại học ĐH Leibniz Hannover (Đức) +Nếu không chuyển tiếp bạn có thể tiếp tục học tại\n",
      "Đại học Bách Khoa Hà Nội theo chương trình thống nhất giữa hai trườn. Làm luận văn tốt nghiệp bằng tiếng Anh hoặc tiếng\n",
      "Đức. Sau đó nếu có nguyện vọng bạn có thể học tiếp 1 năm để lấy bằng thạc sĩ. 3. Điểm chuẩn ngành Kỹ thuật Điện tử –\n",
      "Viễn thông Đại học Bách Khoa Hà Nội  TrườngChuyên ngànhNgành202320222021 Đại Học Bách Khoa Hà Nội  Kỹ thuật Điện tử -\n",
      "Viễn thông  Kỹ thuật điện tử - viễn thông 66.4664.1726.4625.9924.514.0526.8Ghi chúĐánh giá tư duy Đánh giá tư duy CT\n",
      "tiên tiến Điểm TN THPT Điểm TN THPT CT tiên tiến TN THPT  4. Học Kỹ thuật Điện tử – Viễn thông ra trường làm gì? Kỹ\n",
      "thuật Điện tử – Viễn thông: Ngành học mở ra nhiều cơ hội Qua những phần trên bạn cũng hiểu được Kỹ thuật Điện tử – Viễn\n",
      "thông là ngành “thay đổi văn minh nhân loại”. Chính vì vậy cơ hội nghề nghiệp cho ngành này vô cùng lớn. Bạn có thể làm\n",
      "việc tại: –        Các doanh nghiệp nghiên cứu, sản xuất, phát triển các sản phẩm điện tử: chuyên viên tư vấn, vận hành,\n",
      "thiết kế, điều hành kỹ thuật; chuyên gia thiết kế chipset (bộ phận không thể thiếu của các thiết bị thông minh); nghiên\n",
      "cứu viên phát triển sản phẩm thiết bị điện tử, công nghệ ứng dụng như truyền vẫn vật lý ứng dụng, công nghệ di động,… – \n",
      "      Công ty cung cấp dịch vụ internet: Kỹ sư thiết kế và xây dựng hệ thống hạ tầng truy cập internet; kỹ sư sư phân\n",
      "tích tích hợp các hệ thống, dịch vụ gia tăng, ứng dụng trên các cơ sở hạ tầng sẵn có. –        Công ty viên thông:\n",
      "chuyên viên thiết kế truyền dẫn, bảo trì, vận hành; chuyên viên quy hoạch, thiết kế mạng và tối ưu mạng; trưởng bộ phận\n",
      "kỹ thuật,… –        Đài phát thanh truyền hình, công ty tư vấn mạng viễn thông: chuyên viên thiết kế, tư vấn, vận hành,\n",
      "điều hành kỹ thuật –        Các hãng thiết bị: chuyên viên quản lý kỹ thuật và sản phẩm, quản lý dự án kinh doanh –    \n",
      "  Các tập đoàn, công ty đa quốc gia về Điện tử – Viễn thông Theo thống kê, 95% sinh viên khoa Kỹ thuật Điện tử – Viễn\n",
      "thông Đại học Bách Khoa Hà Nội có việc làm ngay sau một năm tốt nghiệp với mức lương khởi điểm từ 8-20 triệu đồng. Điều\n",
      "này đủ thấy được sức hấp dẫn của ngành đáng để các bạn cân nhắc đúng không nào!      Bài viết liên quan\n",
      "Review trường Đại học Bách Khoa Hà Nội (HUST): Trường học khó nhất Vịnh Bắc Bộ!\n",
      "Kỹ thuật điện tử - viễn thông - Đại Học Thủy Lợi (Cơ sở 1)\n",
      "Kỹ thuật Điện tử - Viễn thông - Đại học Công Nghệ TPHCM\n",
      "Kỹ thuật Dệt – May - Đại Học Bách Khoa Hà Nội\n",
      "Tài chính - Ngân hàng - Đại Học Bách Khoa Hà Nội\n",
      "Tin tức mới nhất                                                             Thi vào 10 năm 2024: “Tóm gọn” bí kíp ôn\n",
      "thi môn Toán vào 10 giúp 2K9 thăng hạng điểm số\n",
      "Tốt nghiệp THPT 2025: Bộ GD&ĐT chính thức công bố quy chế thi\n",
      "Thi vào 10 TP.HCM: Thay đổi quan trọng trong đề thi mà 2K9 phải nắm rõ\n",
      "Thi Tốt nghiệp THPT 2024: Thí sinh có thể không được thi riêng nếu trượt tốt nghiệp\n",
      "Dừng tuyển thẳng vào lớp 10 bằng IELTS, lý do Bộ GĐ&ĐT đưa ra là gì ?\n",
      "Tuyển sinh lớp 10 năm 2024: Những đối tượng nào được tuyển thẳng, cộng điểm ưu tiên?\n",
      "Thông tin cần biết về kỳ thi vào 10 năm học 2024-2025\n",
      "Thi vào 10 năm 2024: Hàng loạt tỉnh, thành thay đổi phương án tuyển sinh\n",
      "Điểm sàn Đánh giá tư duy năm 2024 có thể tăng cao – Thí sinh hãy lưu ý những điều này!!\n",
      "Tuyển sinh 2024: Đại học Bách khoa Hà Nội tăng chỉ tiêu xét tuyển bằng điểm Đánh giá tư duy\n",
      "Tuyển sinh 2024: ĐH Ngân hàng TP.HCM (HUB) mở nhiều ngành học mới\n",
      "Tuyển sinh 2024: Đại Học Dược Hà Nội (HUP) giảm chỉ tiêu tuyển sinh\n",
      "Tuyển sinh 2024: ĐH Ngoại thương (FTU) dự kiến mở ngành Khoa học máy tính\n",
      "Tuyển sinh 2024: ĐH Công nghiệp Hà Nội (HaUI) tăng chỉ tiêu xét tuyển\n",
      "Tuyển sinh 2024: ĐH Sư phạm Hà Nội (HNUE) nhận hồ sơ xét học bạ từ ngày 19/05\n",
      "Tuyển sinh 2024: ĐH Kinh Tế – Luật – ĐHQG TPHCM (UEL) giữ ổn định 5 phương thức\n",
      "Cơ quan chủ quản: Công ty Cổ phần Đầu tư và Dịch vụ Giáo dục   MST: 0102183602 do Sở kế hoạch và Đầu tư thành phố Hà Nội\n",
      "cấp ngày 13 tháng 03 năm 2007  Địa chỉ:  - Văn phòng Hà Nội: Tầng 4, Tòa nhà 25T2, Đường Nguyễn Thị Thập, Phường Trung\n",
      "Hoà, Quận Cầu Giấy, Hà Nội.  - Văn phòng TP.HCM: 13M đường số 14 khu đô thị Miếu Nổi, Phường 3, Quận Bình Thạnh, TP. Hồ\n",
      "Chí Minh  Hotline: 19006933 – Email: hotro@hocmai.vn  Chịu trách nhiệm nội dung: Phạm Giang Linh\n",
      "\n",
      "\n"
     ]
    }
   ],
   "source": [
    "# Using textwrap to wrap the text\n",
    "import textwrap\n",
    "\n",
    "for ref in refs:\n",
    "    print(\"\\n\".join(textwrap.wrap(ref, width=120)))\n",
    "    print(\"\\n\")"
   ]
  },
  {
   "cell_type": "code",
   "execution_count": 182,
   "metadata": {},
   "outputs": [],
   "source": [
    "# Normalizing Vietnamese text\n",
    "import unicodedata\n",
    "import re\n",
    "\n",
    "def normalize_text(text):\n",
    "    text = unicodedata.normalize(\"NFC\", text)\n",
    "    text = re.sub(r\"\\s+\", \" \", text)\n",
    "    return text"
   ]
  },
  {
   "cell_type": "code",
   "execution_count": 183,
   "metadata": {},
   "outputs": [],
   "source": [
    "refs = [' '.join(normalize_text(ref) for ref in refs)]\n",
    "hypos = [' '.join(normalize_text(hypo) for hypo in hypos)]"
   ]
  },
  {
   "cell_type": "markdown",
   "metadata": {},
   "source": [
    "### Using BERTScore for Evaluation"
   ]
  },
  {
   "cell_type": "code",
   "execution_count": 184,
   "metadata": {},
   "outputs": [],
   "source": [
    "from bert_score import score"
   ]
  },
  {
   "cell_type": "code",
   "execution_count": 185,
   "metadata": {},
   "outputs": [],
   "source": [
    "# Hide the loading messages\n",
    "import logging\n",
    "import transformers\n",
    "transformers.tokenization_utils.logger.setLevel(logging.ERROR)\n",
    "transformers.configuration_utils.logger.setLevel(logging.ERROR)\n",
    "transformers.modeling_utils.logger.setLevel(logging.ERROR)"
   ]
  },
  {
   "cell_type": "code",
   "execution_count": 186,
   "metadata": {},
   "outputs": [],
   "source": [
    "P, R, F1 = score(hypos, refs, lang=\"vi\", verbose=False)"
   ]
  },
  {
   "cell_type": "code",
   "execution_count": 187,
   "metadata": {},
   "outputs": [
    {
     "name": "stdout",
     "output_type": "stream",
     "text": [
      "BERT score: Precision=0.73, Recall=0.69, F1=0.71\n"
     ]
    }
   ],
   "source": [
    "print(f\"BERT score: Precision={P.mean():.2f}, Recall={R.mean():.2f}, F1={F1.mean():.2f}\")"
   ]
  },
  {
   "cell_type": "markdown",
   "metadata": {},
   "source": [
    "#### F1 score is 0.71 that is quite good for my project!!!"
   ]
  },
  {
   "cell_type": "markdown",
   "metadata": {},
   "source": [
    "### Using ROUGE score for Evaluation"
   ]
  },
  {
   "cell_type": "code",
   "execution_count": 188,
   "metadata": {},
   "outputs": [],
   "source": [
    "from rouge_score import rouge_scorer\n",
    "\n",
    "def rouge_score(hypos, refs):\n",
    "    scorer = rouge_scorer.RougeScorer(['rouge1', 'rouge2', 'rougeL'], use_stemmer=True)\n",
    "    scores = [scorer.score(ref, hypo) for ref, hypo in zip(refs, hypos)]\n",
    "    return scores\n",
    "\n",
    "rouge = rouge_score(hypos, refs)"
   ]
  },
  {
   "cell_type": "code",
   "execution_count": 190,
   "metadata": {},
   "outputs": [
    {
     "name": "stdout",
     "output_type": "stream",
     "text": [
      "ROUGE scores:\n",
      "ROUGE1: Precision=0.94, Recall=0.18, F1=0.31\n",
      "ROUGE2: Precision=0.83, Recall=0.16, F1=0.27\n",
      "ROUGEL: Precision=0.67, Recall=0.13, F1=0.22\n"
     ]
    }
   ],
   "source": [
    "print(\"ROUGE scores:\")\n",
    "for i, score in enumerate(rouge):\n",
    "    print(f\"ROUGE1: Precision={score['rouge1'].precision:.2f}, Recall={score['rouge1'].recall:.2f}, F1={score['rouge1'].fmeasure:.2f}\")\n",
    "    print(f\"ROUGE2: Precision={score['rouge2'].precision:.2f}, Recall={score['rouge2'].recall:.2f}, F1={score['rouge2'].fmeasure:.2f}\")\n",
    "    print(f\"ROUGEL: Precision={score['rougeL'].precision:.2f}, Recall={score['rougeL'].recall:.2f}, F1={score['rougeL'].fmeasure:.2f}\")"
   ]
  }
 ],
 "metadata": {
  "kernelspec": {
   "display_name": "venv",
   "language": "python",
   "name": "python3"
  },
  "language_info": {
   "codemirror_mode": {
    "name": "ipython",
    "version": 3
   },
   "file_extension": ".py",
   "mimetype": "text/x-python",
   "name": "python",
   "nbconvert_exporter": "python",
   "pygments_lexer": "ipython3",
   "version": "3.11.5"
  }
 },
 "nbformat": 4,
 "nbformat_minor": 2
}
