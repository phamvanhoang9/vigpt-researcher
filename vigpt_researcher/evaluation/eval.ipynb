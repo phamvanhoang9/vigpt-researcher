{
 "cells": [
  {
   "cell_type": "code",
   "execution_count": 15,
   "metadata": {},
   "outputs": [],
   "source": [
    "import urllib3\n",
    "urllib3.disable_warnings(urllib3.exceptions.InsecureRequestWarning)"
   ]
  },
  {
   "cell_type": "code",
   "execution_count": 16,
   "metadata": {},
   "outputs": [],
   "source": [
    "import sys\n",
    "sys.path.append('..')"
   ]
  },
  {
   "cell_type": "code",
   "execution_count": 17,
   "metadata": {},
   "outputs": [],
   "source": [
    "from scraper import Scraper"
   ]
  },
  {
   "cell_type": "code",
   "execution_count": 18,
   "metadata": {},
   "outputs": [],
   "source": [
    "with open(\"hypos.txt\") as f:\n",
    "    hypos = [line.strip() for line in f]\n",
    "\n",
    "with open(\"refs.txt\") as f:\n",
    "    refs = [line.strip() for line in f]"
   ]
  },
  {
   "cell_type": "code",
   "execution_count": 19,
   "metadata": {},
   "outputs": [
    {
     "data": {
      "text/plain": [
       "['https://ts.hust.edu.vn/training-cate/nganh-dao-tao-dai-hoc/dien-tu-va-vien-thong',\n",
       " 'https://www.hust.edu.vn/vi/dao-tao/ky-thuat-dien-tu-vien-thong/cttt-ky-thuat-dien-tu-vien-thong-365743.html',\n",
       " 'https://ts.hust.edu.vn/hoi-dap/danh-muc/nganh-dien-tu-vien-thong',\n",
       " 'https://ts.hust.edu.vn/tin-tuc/co-so-vat-chat-truong-dai-hoc-bach-khoa-ha-noi',\n",
       " 'https://huongnghiep.hocmai.vn/chuyen-nganh/ky-thuat-dien-tu-vien-thong/dai-hoc-bach-khoa-ha-noi/']"
      ]
     },
     "execution_count": 19,
     "metadata": {},
     "output_type": "execute_result"
    }
   ],
   "source": [
    "refs"
   ]
  },
  {
   "cell_type": "code",
   "execution_count": 20,
   "metadata": {},
   "outputs": [],
   "source": [
    "user_agent = \"Mozilla/5.0 (Windows NT 10.0; Win64; x64) AppleWebKit/537.36 (KHTML, like Gecko) Chrome/119.0.0.0 Safari/537.36 Edg/119.0.0.0\""
   ]
  },
  {
   "cell_type": "code",
   "execution_count": 21,
   "metadata": {},
   "outputs": [],
   "source": [
    "refs = Scraper(refs, user_agent).run()"
   ]
  },
  {
   "cell_type": "code",
   "execution_count": 22,
   "metadata": {},
   "outputs": [
    {
     "data": {
      "text/plain": [
       "[{'url': 'https://ts.hust.edu.vn/training-cate/nganh-dao-tao-dai-hoc/dien-tu-va-vien-thong',\n",
       "  'raw_content': 'Thông tin tuyển sinh Đại học Bách khoa Hà Nội\\nHUST ADMISSIONS INFORMATION\\nTổng quan\\nNgôn ngữ đào tạo: Tiếng Việt\\nMã xét tuyển: ET1\\nChỉ tiêu tuyển sinh: 480\\nChương trình chuẩn Kỹ thuật Điện tử Viễn thông là gì?\\nNgành Điện tử - Viễn thông là một trong những ngành mũi nhọn của cuộc Cách mạng công nghiệp lần thứ 4 và là ngành có nhu cầu cao về nhân lực ở Việt Nam và trên thế giới.\\nTheo học ngành này, sinh viên được trang bị một cách toàn diện cả về kỹ năng chuyên môn và kỹ năng mềm để có thể thiết kế, chế tạo, vận hành các thiết bị và hệ thống điện tử viễn thông, đáp ứng được yêu cầu về tính năng động và sáng tạo của lĩnh vực nghề nghiệp này.\\nChương trình kỹ thuật Điện tử- Viễn thông được giảng dạy bằng tiếng Việt và được thiết kế bao gồm khối kiến thức toán học và khoa học cơ bản, khối kiến thức cơ sở cốt lõi ngành Điện tử -Viễn thông, khối kiến thức bổ trợ kiến thức xã hội và kỹ năng mềm và khối kiến thức tự chọn chuyên sâu theo các định hướng kỹ thuật điện tử, kỹ thuật máy tính, kỹ thuật thông tin truyền thông, kỹ thuật y sinh, kỹ thuật điện tử hàng không vũ trụ, kỹ thuật đa phương tiện, kỹ thuật vi điện tử và công nghệ nano.\\nChương trình đào tạo\\nXem chi tiết\\xa0Nội dung chương trình\\nKiến thức và kỹ năng đạt được sau khi tốt nghiệp\\nKiến thức\\nKỹ năng\\nNgoại ngữ:\\nThời gian đào tạo và khả năng học tập lên bậc đại học\\nHọc phí - Học bổng\\nVị trí công việc\\nCơ hội việc làm\\nCơ hội học bổng\\nLiên hệ để có thêm thông tin\\nThông tin tuyển sinh\\nĐại học Bách khoa Hà Nội\\nFacebook đại học\\nFacebook sau đại học\\nFacebook K69 - DHBKHN\\nTwitter\\nInstagram\\nYoutube\\nVăn phòng: C2-201, C1 - 103, 104, 105\\nPhone: 024 3869 3108\\nFax: 024 38693108\\nVăn phòng C1 -\\xa0201 - Quản lý điểm và xử lý học tập, Đồ án TN, Xét TN\\nPhone: (+8424)38682305\\nBan Tuyển sinh-Hướng nghiệp - Phòng 101, Tòa nhà C1B\\nPhone: (+84) 243 868 3408 - 084 868 3408\\nVăn phòng: B9 - 101, 102\\nPhone: 024 38692942\\nVP C7-614M, ĐH Bách khoa Hà Nội, số 1 Đại Cồ Việt, Hà Nội\\nPhone: (+84) 24 38 696 165\\nVăn phòng Trường CNTT&TT (P505 - Nhà B1)\\nPhone: 024 3869 2463\\nVăn phòng: C1 - 320\\nPhone: 024 3869 6211\\nFax: 024 3623 1478\\nPhòng 214, nhà C4, Đại Cồ Việt, Hai Bà Trưng, Hà Nội\\nPhone: 024 38 680 070\\nFax: 024 3869 2300\\nTầng 7 - nhà D8, Số 1 Đại Cồ Việt, Q.Hai Bà Trưng, Hà Nội\\nPhone: 086 548 5665\\nP302-304 Nhà C9, Đại học Bách Khoa Hà Nội; Số 1 Đại Cồ Việt, Q. Hai Bà Trưng, Tp. Hà Nội\\nPhone: 024 38 692 304 / 3868.0791 / 0398 698 689\\nPhòng 209,\\nnhà D4 - ĐH Bách Khoa Hà Nội, Số 1, Đại Cồ Việt, Q.Hai Bà Trưng, Hà Nội\\nPhone: (+84) 24 3869 2201\\nPhòng 402 nhà D5, Trường ĐHBKHN\\nPhone: 024 3868.1432\\nPhòng 106 nhà D3, ĐHBK Hà Nội, Số 01 Đại Cồ Việt - Quận Hai Bà Trưng - Hà Nội\\nPhone: 024 3869 2137\\nFax: 024 3868 2470\\nP. 116, Nhà C10, ĐH Bách khoa Hà Nội (Số 1, Đại Cồ Việt, Q.Hai Bà Trưng, Hà Nội)\\nPhone: 024 3869 3350\\nFax: 024 3869 3498\\nIncoming...'},\n",
       " {'url': 'https://www.hust.edu.vn/vi/dao-tao/ky-thuat-dien-tu-vien-thong/cttt-ky-thuat-dien-tu-vien-thong-365743.html',\n",
       "  'raw_content': 'CTTT Kỹ thuật Điện tử - Viễn thông\\nChương trình tiên tiến Kỹ thuật Điện tử - Viễn thông ( Mã tuyển sinh: ET-E4)\\n(Chương trình thuộc Viện Điện tử Viễn thông)\\nCác đặc điểm nổi bật\\nChương trình được giảng dạy hoàn toàn bằng tiếng Anh và do các giảng viên của trường ĐHBK Hà Nội và các giảng viên nước ngoài tham gia giảng dạy.\\nSinh viên có thể tham gia chương trình song bằng với các trường Đại học đối tác như Wollongong - Úc (2+2, 3+1), Telecom ParisTech - Pháp (4+2), Viện \\xa0KAIST - Hàn Quốc. Ngoài ra, sau khi học xong chương trình cử nhân 4 năm, sinh viên có thể theo học chương trình thạc sĩ tại trường San Jose State University.\\nVị trí việc làm\\nKỹ sư làm trong lĩnh vực Kỹ thuật Viễn thông như doanh nghiệp cung cấp dịch vụ mạng cố định hoặc di động, ISP. Kỹ sư phát triển phần mềm, thiết kế phần cứng và hệ thống nhúng.\\nKỹ sư nghiên cứu và phát triển trong các lĩnh vực viễn thông, Internet, phần cứng và phần mềm cho thiết bị thông minh như thiết bị di động, thiết bị IoT, thiết bị y tế.\\nKỹ sư vận hành hệ thống mạng viễn thông, hệ thống điện tử công nghiệp.\\nChuyên gia tư vấn giải pháp, bán hàng các sản phẩm điện tử và viễn thông.\\nMức lương khởi điểm 12 triệu đến 20 triệu đồng/tháng.\\nCơ hội học bổng\\nSinh viên có cơ hội nhận học bổng của Trường, học bổng trao đổi sinh viên từ các doanh nghiệp và các trường Đại học quốc tế là đối tác của Viện Điện tử- Viễn thông. Tỉ lệ sinh viên đi du học có học bổng hàng năm chiến trên 20% tổng số sinh viên tốt nghiệp.\\nĐề\\xa0cương chương trình\\nTác giả: Trương Thu Hương\\nNhững tin mới hơn\\nCơ hội du học\\nĐTTT - ĐTVT - Nhân vật & Sự kiện\\nĐTTT - ĐTVT - Tuyển sinh\\nGiới thiệu bài viết cho bạn bè'},\n",
       " {'url': 'https://ts.hust.edu.vn/hoi-dap/danh-muc/nganh-dien-tu-vien-thong',\n",
       "  'raw_content': 'Thông tin tuyển sinh Đại học Bách khoa Hà Nội\\nHUST ADMISSIONS INFORMATION\\nNgành điện tử viễn thông\\nĐăng nhập hoặc Đăng ký để tạo câu hỏi\\nCâu hỏi mới nhất\\nLê Giang\\nSo sánh ngành Điện tử viễn thông truyền thống và ngành mới Truyền thông số và Đa Phương tiện ạ\\nChào em,\\nCâu hỏi so sánh về 2 ngành này, em hãy liên hệ tới\\xa0Viện Điện tử - Viễn thông\\nLê Giang\\nTrả lời lúc 12:55 27/09/2021\\nLê Giang\\nSo sánh ngành Điện tử viễn thông truyền thống và ngành mới Truyền thông số và Đa Phương tiện ạ\\nChào em,\\nCâu hỏi so sánh về 2 ngành này, em hãy liên hệ tới\\xa0Viện Điện tử - Viễn thông\\nLê Giang\\nTrả lời lúc 12:55 27/09/2021\\nLê Giang\\nVấn đề về lựa chọn chương trình học: Điện tử viễn thông - Hệ thống nhúng thông minh và IoT\\nChào em,\\nVề câu hỏi thứ nhất, hai chương trình Điện tử viễn thông và Hệ thống nhúng IoT có những khác biệt nào?\\nHai chương trình này cùng thuộc Viện Điện tử Viễn thông nên về kiến thức chung thì vẫn học về mạch điện tử tương tự và mạch số, học về các loại vi điều khiển và lập trình các hệ thống nhúng. Tuy nhiên thì do Điện tử Viễn thông có nhiều mảng như Điện tử, Viễn thông, IoT, hạ tầng mạng nên về mức độ chuyên sâu thì chương trình Hệ thống Nhúng và IoT có mức độ chuyên sâu hơn về lập trình hệ thống Nhúng. Tuy nhiên để lập trình Nhúng được tốt thì kiến thức điện tử cơ bản vẫn cần có. Câu hỏi thứ hai thì học chương trình chuẩn Điện tử Viễn thông là hoàn toàn có thể làm tốt các yêu cầu của lập trình Nhúng. Nhưng bản thân sinh viên phải có định hướng rõ ràng trong quá trình chọn hướng đi nghề nghiệp do Điện tử Viễn thông bao hàm nhiều chuyên ngành.\\nLê Giang\\nTrả lời lúc 13:01 18/09/2020\\nLê Giang\\nReview về (ET1) Kỹ thuật Điện tử - Viễn thông. Có giống công nghệ thông tin không ạ, có học lập trình không?\\nChào em, Ngành điện tử viễn thông (như ET1)\\xa0có học cả về lập trình và thiết kế vi mạch. Phần lập trình sẽ không\\xa0đi sâu như bên ngành Công nghệ thông tin (điển hình là IT1 và IT2) mà chủ yếu sẽ kết hợp lập trình và thiết kế phần cứng vi mạch để tạo ra sản phẩm.\\nVí dụ\\xa0tạo ra 1 cánh tay robot trong nhà máy, chế tạo ra những robot trong cuộc thi\\xa0sáng tạo robocon...\\nLê Giang\\nTrả lời lúc 14:10 21/09/2020\\nLê Giang\\nChương trình tiên tiến Kỹ thuật y sinh có nhiều con gái học không? Đòi hỏi thông minh không?\\nTheo thống kê những năm gần đây thì tỉ lệ sinh viên nữ theo học chương trình tiên tiến kỹ thuật y sinh là 30%. Ngành này cũng rất phù hợp với các bạn nữ em nhé.\\xa0Thầy nghĩ là để vào được trường Đại học Bách khoa Hà Nội thì\\xa0chắc chắn em cũng phải thông minh rồi.\\nĐể tìm hiểu thêm về ngành y sinh, em có thể vào website:\\xa0http://bme.hust.edu.vn.\\nChúc em thi tốt và được vào học ngành mà em yêu thích.\\nTrả lời từ Viện Điện tử viễn thông -\\xa0http://set.hust.edu.vn\\nLê Giang\\nTrả lời lúc 19:35 20/09/2020\\nLê Giang\\nSo sánh Ngành Điện tử - viễn thông và Ngành Công nghệ thông tin. Nếu đỗ ĐTVT nhưng muốn học ngành Kỹ thuật thông tin truyền thông thì sao?\\nNgành Điện tử-viễn thông và ngành Công nghệ thông tin là hai ngành rất gần với nhau. Nếu học hai ngành này em đều học cả về phần cứng và phần mềm của hệ thống xử lý thông tin. Tuy nhiên,\\xa0 điện tử- viễn thông\\xa0 tập trung sâu hơn vào phần cứng còn công nghệ thông\\xa0 tin tập trung sâu hơn vào phần mềm. Vì vậy đối với công việc lập trình, kỹ sư công nghệ thông tin sẽ phù hợp nhất cho việc lập trình cho máy tính và hệ thống máy tính còn kỹ sư điện tử viễn thông phù hợp nhất cho lập trình thiết bị (hay còn gọi là lập trình nhúng). Trong khi đó nếu em yêu thích công việc thiết kế phần cứng thiết bị điện tử thì điện tử viễn thông\\xa0 là sự lựa chọn phù hợp nhất.\\nNếu em đăng ký ET1 học ngành điện tử-viễn thông thì đến năm thứ 5 em sẽ có thể chọn định hướng kỹ thuật\\xa0 thông tin truyền thông và việc chọn định hướng này là đáp ứng hoàn toàn theo nguyện vọng của sinh viên, không phụ thuộc vào kết quả học tập.\\nChúc em thi tốt và được vào học ngành mà em yêu thích.\\nTrả lời từ Viện Điện tử viễn thông -\\xa0http://set.hust.edu.vn\\nLê Giang\\nTrả lời lúc 19:30 20/09/2020\\nLê Giang\\nEm muốn học cách làm được những thiết bị dùng trong gia đình như cái sạc điện thoại hay làm một hệ thống cảm ứng thì phải học Cơ điện tử hay Điện điện tử ạ?\\nNếu em đam mê việc thiết kế và chế tạo phần điện tử của các thiết bị điện tử như điện thoại di động, TV, sạc điện thoại, hệ thống chống trộm trong gia đình, đầu thu truyền hình kỹ thuật số ...\\xa0thì lựa chọn tốt nhất của em là học Kỹ thuật Điện tử viễn thông ET1. (Chi tiết ngành:\\xa0https://ts.hust.edu.vn/asset/-/asset_publisher/ddNQG1HrIiqp/content/ky-thuat-ien-tu-vien-thong\\xa0)\\nHọc ngành này không những em được học thiết kế phần cứng các thiết bị điện tử mà còn được học lập trình cho các thiết bị đó.\\nChúc em thi tốt và được vào học ngành mà em mong muốn.\\nTrả lời từ Viện Điện tử viễn thông -\\xa0http://set.hust.edu.vn\\nLê Giang\\nTrả lời lúc 19:29 20/09/2020\\nLê Giang\\nEm muốn học Kỹ thuật y sinh nhưng em đang phân vân không biết ngành kỹ thuật y sinh quốc tế và kỹ thuật y sinh (Viện điện tử viễn thông) có gì khác nhau? Và con đường nào dễ xin việc hơn?\\nNếu em muốn học kỹ thuật y sinh thì có thể đăng ký ngành ET1 với chuyên ngành Kỹ thuật y sinh học bằng tiếng Việt hoặc đăng ký ET-E5 \\xa0Kỹ thuật y sinh học hoàn toàn bằng tiếng Anh.\\nCả hai chương trình đều thuộc Viện Điện tử - Viễn thông\\xa0và đều do cùng đội ngũ giảng viên giảng dạy. Sinh viên tốt nghiệp cả hai chương trình này đều dễ xin việc. Tuy nhiên, với lợi thế tiếng Anh tốt thì sinh viên học\\xa0ET-E5\\xa0có nhiều cơ hội tốt làm việc cho các công ty nước ngoài.\\nĐể tìm hiều thêm về ngành y sinh, em có thể vào website:\\xa0http://bme.hust.edu.vn.\\nChúc em thi tốt và được vào học ngành mà em mong muốn.\\nTrả lời từ Viện Điện tử viễn thông -\\xa0http://set.hust.edu.vn\\nLê Giang\\nTrả lời lúc 19:26 20/09/2020\\nLê Giang\\nNgành Điện tử viễn thông ĐH Bách Khoa Hà Nội. Học những gì? Làm những gì?\\nChưa có câu trả lời!\\nChủ đề được quan tâm Tất cả\\nXét tuyển tài năng\\n329 câu hỏi\\nĐăng ký xét tuyển 2021\\n268 câu hỏi\\nBài kiểm tra tư duy\\n235 câu hỏi\\nXác nhận tuyển thẳng 2021\\n191 câu hỏi\\nTuyển sinh ĐHBKHN 2020\\n186 câu hỏi\\nĐăng ký xét tuyển 2022\\n163 câu hỏi\\nQuy đổi điểm tiếng Anh\\n125 câu hỏi\\nXét tuyển Hồ sơ năng lực 2022 (Diện 1.3)\\n112 câu hỏi\\nPhương thức tuyển sinh 2023\\n98 câu hỏi\\nPhương thức xét tuyển\\n83 câu hỏi\\nThông tin tuyển sinh\\nĐại học Bách khoa Hà Nội\\nFacebook đại học\\nFacebook sau đại học\\nFacebook K69 - DHBKHN\\nTwitter\\nInstagram\\nYoutube\\nVăn phòng: C2-201, C1 - 103, 104, 105\\nPhone: 024 3869 3108\\nFax: 024 38693108\\nVăn phòng C1 -\\xa0201 - Quản lý điểm và xử lý học tập, Đồ án TN, Xét TN\\nPhone: (+8424)38682305\\nBan Tuyển sinh-Hướng nghiệp - Phòng 101, Tòa nhà C1B\\nPhone: (+84) 243 868 3408 - 084 868 3408\\nVăn phòng: B9 - 101, 102\\nPhone: 024 38692942\\nVP C7-614M, ĐH Bách khoa Hà Nội, số 1 Đại Cồ Việt, Hà Nội\\nPhone: (+84) 24 38 696 165\\nVăn phòng Trường CNTT&TT (P505 - Nhà B1)\\nPhone: 024 3869 2463\\nVăn phòng: C1 - 320\\nPhone: 024 3869 6211\\nFax: 024 3623 1478\\nPhòng 214, nhà C4, Đại Cồ Việt, Hai Bà Trưng, Hà Nội\\nPhone: 024 38 680 070\\nFax: 024 3869 2300\\nTầng 7 - nhà D8, Số 1 Đại Cồ Việt, Q.Hai Bà Trưng, Hà Nội\\nPhone: 086 548 5665\\nP302-304 Nhà C9, Đại học Bách Khoa Hà Nội; Số 1 Đại Cồ Việt, Q. Hai Bà Trưng, Tp. Hà Nội\\nPhone: 024 38 692 304 / 3868.0791 / 0398 698 689\\nPhòng 209,\\nnhà D4 - ĐH Bách Khoa Hà Nội, Số 1, Đại Cồ Việt, Q.Hai Bà Trưng, Hà Nội\\nPhone: (+84) 24 3869 2201\\nPhòng 402 nhà D5, Trường ĐHBKHN\\nPhone: 024 3868.1432\\nPhòng 106 nhà D3, ĐHBK Hà Nội, Số 01 Đại Cồ Việt - Quận Hai Bà Trưng - Hà Nội\\nPhone: 024 3869 2137\\nFax: 024 3868 2470\\nP. 116, Nhà C10, ĐH Bách khoa Hà Nội (Số 1, Đại Cồ Việt, Q.Hai Bà Trưng, Hà Nội)\\nPhone: 024 3869 3350\\nFax: 024 3869 3498\\nIncoming...'},\n",
       " {'url': 'https://ts.hust.edu.vn/tin-tuc/co-so-vat-chat-truong-dai-hoc-bach-khoa-ha-noi',\n",
       "  'raw_content': 'Thông tin tuyển sinh Đại học Bách khoa Hà Nội\\nHUST ADMISSIONS INFORMATION\\nDanh mục\\nTin Xem Nhiều\\nHướng dẫn các bước đăng ký Kỳ thi Đánh giá tư duy 2024\\n105312\\nBản đồ trường Đại học Bách Khoa Hà Nội\\n89080\\nĐiểm chuẩn trúng tuyển Đại học Bách Khoa Hà Nội năm 2022\\n87949\\nChỉ tiêu - Mã xét tuyển Đại học chính quy 2021\\n86107\\nCách tính điểm xét tuyển của ĐHBK Hà Nội\\n81311\\nCơ sở vật chất trường Đại học Bách Khoa Hà Nội\\n26-09-2019\\nTrường Đại học Bách Khoa Hà Nội\\xa0(Hanoi University of Science and Technology)\\xa0là một trường\\xa0đại học kỹ thuật\\xa0hàng đầu đồng thời cũng là một trong những trung tâm nghiên cứu khoa học và chuyển giao công nghệ lớn nhất của Việt Nam.\\xa0Trường cũng\\xa0là thành viên của Hiệp hội các trường đại học kỹ thuật hàng đầu khu vực Châu Á - Thái Bình Dương AOTULE (Asia-Oceania Top University League on Engineering).\\nTrường\\xa0đã đầu tư cơ sở vật chất tiện nghi, hiện đại phục vụ cho công tác dạy học và nghiên cứu khoa học. 80% giảng đường được đầu tư hệ thống điều hòa công suất lớn với máy chiếu hiện đại, đảm bảo sức khỏe cho sinh viên yên tâm học tập. Hệ thống phòng thí nghiệm đồng bộ với trang thiết bị máy móc hiện đại.\\nMôi trường học tập và khuôn viên Trường trong lành\\xa0(Trường có diện tích lớn nhất trong nội thành Hà Nội), góp phần xây dựng đời sống sinh viên thân thiện và cởi mở. Trường có khu ký túc xá khang trang, sạch sẽ với các sân bóng đá, bóng chuyền, bóng rổ… phục vụ tốt đời sống sinh viên nội trú. Bên cạnh đó, Trường ĐHBK Hà Nội còn là Trường đại học được đầu tư đồng bộ cơ sở vật chất phục vụ các hoạt động thể thao – văn hóa trong và ngoài Trường như: sân vận động tiêu chuẩn quốc tế, bể bơi, sân tennis, nhà thi đấu thường xuyên tổ chức những hoạt động lớn quy mô thành phố, quốc gia.\\nCơ sở vật chất\\nSinh viên được trải nghiệm trong môi trường thân thiện, hệ thống cơ sở vật chất hiện đại, đáp ứng nhu cầu học tập, nghiên cứu, tham gia các hoạt động thể thao, giải trí đa dạng.\\nI. PHÒNG HỌC - GIẢNG ĐƯỜNG\\nTrường Đại học Bách Khoa Hà Nội có tổng diện tích phục vụ giảng dạy, nghiên cứu khoa học và hội họp rộng 26,2 hecta. Trường có\\xa0hơn 200 giảng đường, phòng học, hội trường lớn và hệ thống phòng hội thảo; gần 200 phòng thí nghiệm, trong đó có 12 phòng thí nghiệm trọng điểm quốc gia và khoảng 20 xưởng thực tập, thực hành.\\nSinh viên khoa Điện tử viễn thông - ĐHBKHN trong giờ thực hành\\nNhà D9 Bách Khoa\\nTrong đó có 8 phòng thí nghiệm trọng điểm quốc gia và tương đương; khoảng 20 xưởng thực tập và thực hành.\\nII. CÁC TOÀ NHÀ - THƯ VIỆN\\nToàn bộ giảng đường được trang bị đầy đủ điều hòa và thiết bị giảng dạy cùng với hệ thống wifi miễn phí trong khuôn viên Trường.\\xa0Thư viện điện tử Tạ Quang Bửu\\xa0với\\xa0diện tích 37.000 m2, có thể\\xa0phục vụ đồng thời 2.000 sinh viên với 600.000 cuốn sách, 130.000 đầu sách điện tử. Sinh viên được\\xa0truy cập miễn phí CSDL từ các nguồn như Science Driect, Scopus…\\nThư viện Tạ Quang Bửu là\\xa0thư viện lớn và hiện đại, thư viện có hội trường lớn (ở Tầng 10)\\xa0với sức chứa hàng nghìn người\\nTổng diện tích đất sử dụng của Trường:\\xa0252.857,8 m², nơi làm việc 15.252m², nơi học 78.846m², nơi vui chơi giải trí: 29.321 m²,\\xa01 nhà câu lạc bộ sinh viên với 350 chỗ được trang bị âm thanh hiện đại và 1 trung tâm Y tế\\xa0hoạt động theo mô hình phòng khám đa khoa chăm sóc sức khỏe thường xuyên cho các cán bộ và sinh viên Trường.\\nIII. KHU KÝ TÚC XÁ\\nTrường có một\\xa0khu ký túc xá với 420 phòng, đủ khả năng đáp ứng chỗ ở cho khoảng 4500 sinh viên.\\nHình ảnh khu ký túc xá sinh viên kỹ thuật tại Bách Khoa. Sinh viên được sử dụng Wifi FREE đến tận giường\\nKhu Ký túc xá nhà B5\\nIV. CƠ SỞ VẬT CHẤT\\xa0- RÈN LUYỆN THỂ DỤC THỂ THAO\\nCác hệ thống cơ sở vật chất phục vụ bộ môn giáo dục thể chất và phong trào thể thao của sinh viên đầy đủ và hiện đại với\\xa01 sân bóng tiêu chuẩn quốc gia, 1 nhà thi đấu đa năng tiêu chuẩn\\xa0Đông Nam Á,\\xa01 bể bơi tiêu chuẩn quốc gia, sân tennis tiêu chuẩn quốc gia...\\xa0Khu liên hợp thể thao\\xa0có diện tích\\xa020.000m2\\xa0với hệ thống cơ sở vật chất hiện đại, bao gồm: sân bóng, bể bơi, sân tennis tiêu chuẩn quốc gia và nhà thi đấu đa năng tiêu chuẩn Đông Nam Á.\\n1. Sân vận động\\xa0diện tích 18.000m2\\xa0bao gồm khán đài A - B với sức chứa 7.000 người, trong sân có sân bóng đá, 3 sân bóng chuyền, 1 sân bóng rổ, 1 khu tập thể dục và khu tập điền kinh (chạy 100m, 1500m, nhảy cao, nhảy xa, đẩy tạ, phóng lao…). Có dàn đèn phục vụ tập luyện buổi tối và nhiều phòng phụ trợ dưới khán đài A - B.\\nĐại học Bách khoa có sân bóng tiêu chuẩn quốc gia, một nhà thi đấu đa năng tiêu chuẩn Đông Nam Á\\n2. Khu bể bơi, sân quần vợt :\\xa0diện tích 4.800m2\\n- Bể bơi kích thước 25x50m, có lọc nước tuần hoàn, có khán đài sức chứa 500 người.\\n3. Nhà tập luyện và thi đấu:\\xa0diện tích 4.800m2\\nNhà tập đa năng có khán đài A - B sức chứa 1258 chỗ ngồi, và được trang bị rất hiện đại, hệ thống thông tin, điều hòa trung tâm và nhiều phòng phụ trợ, văn phòng – phục vụ cho các giải thể thao sinh viên cũng như quốc tế.\\n4. Khu tập luyện ký túc xá:\\xa0diện tích 4.000m2\\nBao gồm: khu sân bóng rổ, sân tennis,\\xa01 khu tập thể dục dụng cụ và 2 sân bóng đá 7 người.\\nSân bóng đá\\xa0nằm ngay sau lưng của tòa nhà B9\\nSân bóng với mặt cỏ nhân tạo hiện đại - không gian tập thể thao lý tưởng cho sinh viên\\nSân tập bóng chuyền cho sinh viên\\nĐịa chỉ của trung tâm đặt tại Số 5 Tạ Quang Bửu, Q.Hai Bà Trưng, Hà Nội\\nTS.HUST.EDU.VN\\nCó thể bạn sẽ thích\\nNhững chứng chỉ quốc tế nào được xét tuyển thẳng ĐHBK Hà Nội?\\nThông cáo báo chí: Về việc chuyển Trường Đại học Bách khoa Hà Nội thành Đại học Bách khoa Hà Nội\\nĐH Bách Khoa Hà Nội có 4 nhóm ngành lọt TOP 351-400 và 451-500 xếp hạng Quacquarelli Symonds\\nQuy chế tham dự Bài kiểm tra tư duy ngày 15.8.2020\\nLịch học ôn tập Cao học Đợt 1.2020\\nHướng dẫn đăng ký xét tuyển tài năng 2023 - Đăng ký tài khoản\\nThông tin tuyển sinh\\nĐại học Bách khoa Hà Nội\\nFacebook đại học\\nFacebook sau đại học\\nFacebook K69 - DHBKHN\\nTwitter\\nInstagram\\nYoutube\\nVăn phòng: C2-201, C1 - 103, 104, 105\\nPhone: 024 3869 3108\\nFax: 024 38693108\\nVăn phòng C1 -\\xa0201 - Quản lý điểm và xử lý học tập, Đồ án TN, Xét TN\\nPhone: (+8424)38682305\\nBan Tuyển sinh-Hướng nghiệp - Phòng 101, Tòa nhà C1B\\nPhone: (+84) 243 868 3408 - 084 868 3408\\nVăn phòng: B9 - 101, 102\\nPhone: 024 38692942\\nVP C7-614M, ĐH Bách khoa Hà Nội, số 1 Đại Cồ Việt, Hà Nội\\nPhone: (+84) 24 38 696 165\\nVăn phòng Trường CNTT&TT (P505 - Nhà B1)\\nPhone: 024 3869 2463\\nVăn phòng: C1 - 320\\nPhone: 024 3869 6211\\nFax: 024 3623 1478\\nPhòng 214, nhà C4, Đại Cồ Việt, Hai Bà Trưng, Hà Nội\\nPhone: 024 38 680 070\\nFax: 024 3869 2300\\nTầng 7 - nhà D8, Số 1 Đại Cồ Việt, Q.Hai Bà Trưng, Hà Nội\\nPhone: 086 548 5665\\nP302-304 Nhà C9, Đại học Bách Khoa Hà Nội; Số 1 Đại Cồ Việt, Q. Hai Bà Trưng, Tp. Hà Nội\\nPhone: 024 38 692 304 / 3868.0791 / 0398 698 689\\nPhòng 209,\\nnhà D4 - ĐH Bách Khoa Hà Nội, Số 1, Đại Cồ Việt, Q.Hai Bà Trưng, Hà Nội\\nPhone: (+84) 24 3869 2201\\nPhòng 402 nhà D5, Trường ĐHBKHN\\nPhone: 024 3868.1432\\nPhòng 106 nhà D3, ĐHBK Hà Nội, Số 01 Đại Cồ Việt - Quận Hai Bà Trưng - Hà Nội\\nPhone: 024 3869 2137\\nFax: 024 3868 2470\\nP. 116, Nhà C10, ĐH Bách khoa Hà Nội (Số 1, Đại Cồ Việt, Q.Hai Bà Trưng, Hà Nội)\\nPhone: 024 3869 3350\\nFax: 024 3869 3498\\nIncoming...'},\n",
       " {'url': 'https://huongnghiep.hocmai.vn/chuyen-nganh/ky-thuat-dien-tu-vien-thong/dai-hoc-bach-khoa-ha-noi/',\n",
       "  'raw_content': 'Please enable javascript to view this site.\\nhuongnghiep.hocmai.vn |\\nMarch 27, 2024\\nTop\\nChuyên ngành Kỹ thuật Điện tử - Viễn thông - Đại Học Bách Khoa Hà Nội\\nReview ngành Kỹ thuật Điện tử – Viễn thông Đại học Bách Khoa Hà Nội (HUST): Dùng công nghệ hiện đại thay đổi văn minh nhân loại\\nKhi cuộc cách mạng 4.0 bùng nổ, ngành Kỹ thuật điện tử – Viễn thông trở thành một trong những ngành mở ra nhiều cơ hội nhất cho các bạn trẻ. Là một trong những trường đào tạo hàng đầu về điện tử – viễn thông, Đại học Bách Khoa Hà Nội là cái tên được rất nhiều người chú ý. Hôm nay hãy cùng Huongnghiep.hocmai.vn review chi tiết để các bạn có cái nhìn rõ hơn về ngành Kỹ thuật Điện tử – Viễn thông của ĐHBK HN nhé!\\nĐiện tử viễn thông đóng vai trò quan trọng trong cuộc cách mạng 4.0\\nMục lục\\n1. Ngành Kỹ thuật Điện tử – Viễn thông là gì?\\nKỹ thuật Điện tử – Viễn thông là ngành nghiên cứu về việc ứng dụng kỹ thuật tiên tiến và công nghệ hiện đại nhất để tạo ra các thiết bị vệ tinh, cáp và thiết bị điện tử như: điện thoại, máy tính bảng, máy tính cá nhân, Tivi,…. Nhờ đó giúp con người xây dựng được hệ thống mạng thông tin liên lạc toàn cầu, giúp việc trao đổi thông tin được tiến hành thuận lợi bất chấp thời gian và không gian khác nhau.\\nNgành này gồm có hai lĩnh vực chính:\\n–\\xa0 \\xa0 \\xa0 \\xa0 Điện tử: Nghiên cứu và chế tạo ra vi mạch điện tử, đây chính là bộ não điều khiển tất cả các hoạt động của thiết bị thông minh\\n–\\xa0 \\xa0 \\xa0 \\xa0 Viễn thông: Nghiên cứu và sử dụng các thiết bị tạo nên mạng viễn thông (thiết bị truyền thông tin từ đầu phát đến đầu thu) gồm có những thành phần chính là: thiết bị truyền dẫn, thiết bị chuyển mạch, thiết bị đầu cuối, môi trường truyền.\\n2. Ngành Kỹ thuật Điện tử – Viễn thông Đại học Bách Khoa Hà Nội có gì?\\nKhoa Kỹ thuật Điện tử – Viễn thông hiện đang rất hot của Bách Khoa ở hiện tại và cả trong tương lai. Khi theo học, bạn sẽ được lựa chọn một trong các chuyên ngành:\\n–\\xa0 \\xa0 \\xa0 \\xa0 Điện tử và kỹ thuật máy tính: chuyên về lập trình cho các hệ thống nhúng\\n–\\xa0 \\xa0 \\xa0 \\xa0 Kỹ thuật thông tin – truyền thông: chuyên về hệ thống viễn thông, kỹ thuật truyền số liệu.\\n–\\xa0 \\xa0 \\xa0 \\xa0 Kỹ thuật y sinh: chuyên nghiên cứu các thiết bị y tế phục vụ khám chữa bệnh\\n–\\xa0 \\xa0 \\xa0 \\xa0 Kỹ thuật điện tử hàng không vũ trụ: nghiên cứu về các loại máy bay máy bay tự hành\\n–\\xa0 \\xa0 \\xa0 \\xa0 Kỹ thuật Đa phương tiện: nghiên cứu về các thiết bị nghe nhìn, điều chỉnh âm độ của các thiết bị thu âm,…\\nNội dung chương trình học:\\nTại Đại học Bách Khoa Hà Nội, bạn có thể theo học hệ cử nhân (4 năm), hệ kỹ sư (5 năm), hệ tích hợp cử nhân – thạc sĩ (5,5 năm) hoặc Hệ Cử nhân – thạc sĩ – tiến sĩ (8,5 năm). Bên cạnh đó, bạn cũng có cơ hội tham gia chương trình song bằng với các đối tác của trường theo mô hình:\\n–\\xa0 \\xa0 \\xa0 \\xa0 2+2: 2 năm đầu học tại Đại học Bách Khoa Hà Nội, 2 năm cuối sẽ học tại Đại học Wollongong của Úc, được cấp bằng cử nhân của cả 2 trường\\n–\\xa0 \\xa0 \\xa0 \\xa0 4+2: 4 năm đầu học tại Đại học Bách Khoa Hà Nội, 2 năm sau học tại Đại học Telecom ParisTech của Pháp. Sau 6 năm bạn sẽ nhận được bằng Thạc sĩ của ĐH BK HN và bằng kỹ sư của Đại học Telecom ParisTech.\\n–\\xa0 \\xa0 \\xa0 \\xa0 4+1+3: 4 năm đầu học tại Đại học Bách Khoa Hà Nội lấy bằng cử nhân của ĐHBKHN, 1 năm tiếp theo học Thạc sĩ tại ĐHBK HN và 3 năm cuối học chương trình Tiến sĩ ở viện KAIST (Hàn Quốc), sau đó bạn sẽ có bằng Tiến sĩ của cả 2 trường.\\nVẫn chưa hết, sinh viên Kỹ thuật Điện tử – Viễn thông của Đại học Bách Khoa Hà Nội còn có thể chọn học chương trình tiên tiến. Ở đây, ngôn ngữ giảng dạy sẽ hoàn toàn bằng tiếng Anh với đội ngũ giảng viên hàng đầu trong nước và quốc tế.\\nMột lựa chọn khác cho các bạn sinh viên yêu thích điện tử – viễn thông là chương trình liên kết với Đại học Leibniz Hannover (Đức). Một số điểm khác biệt của chương trình này là:\\n– Ngôn ngữ đào tạo bằng tiếng Việt và đến năm 3 bạn sẽ được học một số môn bằng tiếng Đức với giảng viên nước ngoài.\\n– Giai đoạn 1 (4 năm đầu: bạn sẽ học tại Đại Học Bách Khoa Hà Nội theo chương trình thống nhất giữa hai trường, ngôn ngữ học là tiếng Việt và được học tăng cường 5 kỳ tiếng Đức.\\n– Đến giai đoạn 2 bạn sẽ được lựa chọn:\\n+ Nếu có đủ điều kiện chuyên môn và ngoại ngữ bạn sẽ chuyển sang học bằng thạc sũ của Đại học ĐH Leibniz Hannover (Đức)\\n+Nếu không chuyển tiếp bạn có thể tiếp tục học tại Đại học Bách Khoa Hà Nội theo chương trình thống nhất giữa hai trườn. Làm luận văn tốt nghiệp bằng tiếng Anh hoặc tiếng Đức. Sau đó nếu có nguyện vọng bạn có thể học tiếp 1 năm để lấy bằng thạc sĩ.\\n3. Điểm chuẩn ngành Kỹ thuật Điện tử – Viễn thông Đại học Bách Khoa Hà Nội\\nTrườngChuyên ngànhNgành202320222021\\nĐại Học Bách Khoa Hà Nội\\nKỹ thuật Điện tử - Viễn thông\\nKỹ thuật điện tử - viễn thông\\n66.4664.1726.4625.9924.514.0526.8Ghi chúĐánh giá tư duy\\nĐánh giá tư duy\\nCT tiên tiến\\nĐiểm TN THPT\\nĐiểm TN THPT\\nCT tiên tiến\\nTN THPT\\nĐánh giá tư duy\\nĐánh giá tư duy\\nCT tiên tiến\\nĐiểm TN THPT\\nĐiểm TN THPT\\nCT tiên tiến\\nTN THPT\\n4. Học Kỹ thuật Điện tử – Viễn thông ra trường làm gì?\\nKỹ thuật Điện tử – Viễn thông: Ngành học mở ra nhiều cơ hội\\nQua những phần trên bạn cũng hiểu được Kỹ thuật Điện tử – Viễn thông là ngành “thay đổi văn minh nhân loại”. Chính vì vậy cơ hội nghề nghiệp cho ngành này vô cùng lớn. Bạn có thể làm việc tại:\\n–\\xa0 \\xa0 \\xa0 \\xa0 Các doanh nghiệp nghiên cứu, sản xuất, phát triển các sản phẩm điện tử: chuyên viên tư vấn, vận hành, thiết kế, điều hành kỹ thuật; chuyên gia thiết kế chipset (bộ phận không thể thiếu của các thiết bị thông minh); nghiên cứu viên phát triển sản phẩm thiết bị điện tử, công nghệ ứng dụng như truyền vẫn vật lý ứng dụng, công nghệ di động,…\\n–\\xa0 \\xa0 \\xa0 \\xa0 Công ty cung cấp dịch vụ internet: Kỹ sư thiết kế và xây dựng hệ thống hạ tầng truy cập internet; kỹ sư sư phân tích tích hợp các hệ thống, dịch vụ gia tăng, ứng dụng trên các cơ sở hạ tầng sẵn có.\\n–\\xa0 \\xa0 \\xa0 \\xa0 Công ty viên thông: chuyên viên thiết kế truyền dẫn, bảo trì, vận hành; chuyên viên quy hoạch, thiết kế mạng và tối ưu mạng; trưởng bộ phận kỹ thuật,…\\n–\\xa0 \\xa0 \\xa0 \\xa0 Đài phát thanh truyền hình, công ty tư vấn mạng viễn thông: chuyên viên thiết kế, tư vấn, vận hành, điều hành kỹ thuật\\n–\\xa0 \\xa0 \\xa0 \\xa0 Các hãng thiết bị: chuyên viên quản lý kỹ thuật và sản phẩm, quản lý dự án kinh doanh\\n–\\xa0 \\xa0 \\xa0 \\xa0 Các tập đoàn, công ty đa quốc gia về Điện tử – Viễn thông\\nTheo thống kê, 95% sinh viên khoa Kỹ thuật Điện tử – Viễn thông Đại học Bách Khoa Hà Nội có việc làm ngay sau một năm tốt nghiệp với mức lương khởi điểm từ 8-20 triệu đồng. Điều này đủ thấy được sức hấp dẫn của ngành đáng để các bạn cân nhắc đúng không nào!\\nTin tức mới nhất'}]"
      ]
     },
     "execution_count": 22,
     "metadata": {},
     "output_type": "execute_result"
    }
   ],
   "source": [
    "refs"
   ]
  },
  {
   "cell_type": "code",
   "execution_count": 23,
   "metadata": {},
   "outputs": [
    {
     "data": {
      "text/plain": [
       "5"
      ]
     },
     "execution_count": 23,
     "metadata": {},
     "output_type": "execute_result"
    }
   ],
   "source": [
    "len(refs)"
   ]
  },
  {
   "cell_type": "code",
   "execution_count": 24,
   "metadata": {},
   "outputs": [],
   "source": [
    "refs = [item['raw_content'] for item in refs]"
   ]
  },
  {
   "cell_type": "code",
   "execution_count": 25,
   "metadata": {},
   "outputs": [
    {
     "data": {
      "text/plain": [
       "['Thông tin tuyển sinh Đại học Bách khoa Hà Nội\\nHUST ADMISSIONS INFORMATION\\nTổng quan\\nNgôn ngữ đào tạo: Tiếng Việt\\nMã xét tuyển: ET1\\nChỉ tiêu tuyển sinh: 480\\nChương trình chuẩn Kỹ thuật Điện tử Viễn thông là gì?\\nNgành Điện tử - Viễn thông là một trong những ngành mũi nhọn của cuộc Cách mạng công nghiệp lần thứ 4 và là ngành có nhu cầu cao về nhân lực ở Việt Nam và trên thế giới.\\nTheo học ngành này, sinh viên được trang bị một cách toàn diện cả về kỹ năng chuyên môn và kỹ năng mềm để có thể thiết kế, chế tạo, vận hành các thiết bị và hệ thống điện tử viễn thông, đáp ứng được yêu cầu về tính năng động và sáng tạo của lĩnh vực nghề nghiệp này.\\nChương trình kỹ thuật Điện tử- Viễn thông được giảng dạy bằng tiếng Việt và được thiết kế bao gồm khối kiến thức toán học và khoa học cơ bản, khối kiến thức cơ sở cốt lõi ngành Điện tử -Viễn thông, khối kiến thức bổ trợ kiến thức xã hội và kỹ năng mềm và khối kiến thức tự chọn chuyên sâu theo các định hướng kỹ thuật điện tử, kỹ thuật máy tính, kỹ thuật thông tin truyền thông, kỹ thuật y sinh, kỹ thuật điện tử hàng không vũ trụ, kỹ thuật đa phương tiện, kỹ thuật vi điện tử và công nghệ nano.\\nChương trình đào tạo\\nXem chi tiết\\xa0Nội dung chương trình\\nKiến thức và kỹ năng đạt được sau khi tốt nghiệp\\nKiến thức\\nKỹ năng\\nNgoại ngữ:\\nThời gian đào tạo và khả năng học tập lên bậc đại học\\nHọc phí - Học bổng\\nVị trí công việc\\nCơ hội việc làm\\nCơ hội học bổng\\nLiên hệ để có thêm thông tin\\nThông tin tuyển sinh\\nĐại học Bách khoa Hà Nội\\nFacebook đại học\\nFacebook sau đại học\\nFacebook K69 - DHBKHN\\nTwitter\\nInstagram\\nYoutube\\nVăn phòng: C2-201, C1 - 103, 104, 105\\nPhone: 024 3869 3108\\nFax: 024 38693108\\nVăn phòng C1 -\\xa0201 - Quản lý điểm và xử lý học tập, Đồ án TN, Xét TN\\nPhone: (+8424)38682305\\nBan Tuyển sinh-Hướng nghiệp - Phòng 101, Tòa nhà C1B\\nPhone: (+84) 243 868 3408 - 084 868 3408\\nVăn phòng: B9 - 101, 102\\nPhone: 024 38692942\\nVP C7-614M, ĐH Bách khoa Hà Nội, số 1 Đại Cồ Việt, Hà Nội\\nPhone: (+84) 24 38 696 165\\nVăn phòng Trường CNTT&TT (P505 - Nhà B1)\\nPhone: 024 3869 2463\\nVăn phòng: C1 - 320\\nPhone: 024 3869 6211\\nFax: 024 3623 1478\\nPhòng 214, nhà C4, Đại Cồ Việt, Hai Bà Trưng, Hà Nội\\nPhone: 024 38 680 070\\nFax: 024 3869 2300\\nTầng 7 - nhà D8, Số 1 Đại Cồ Việt, Q.Hai Bà Trưng, Hà Nội\\nPhone: 086 548 5665\\nP302-304 Nhà C9, Đại học Bách Khoa Hà Nội; Số 1 Đại Cồ Việt, Q. Hai Bà Trưng, Tp. Hà Nội\\nPhone: 024 38 692 304 / 3868.0791 / 0398 698 689\\nPhòng 209,\\nnhà D4 - ĐH Bách Khoa Hà Nội, Số 1, Đại Cồ Việt, Q.Hai Bà Trưng, Hà Nội\\nPhone: (+84) 24 3869 2201\\nPhòng 402 nhà D5, Trường ĐHBKHN\\nPhone: 024 3868.1432\\nPhòng 106 nhà D3, ĐHBK Hà Nội, Số 01 Đại Cồ Việt - Quận Hai Bà Trưng - Hà Nội\\nPhone: 024 3869 2137\\nFax: 024 3868 2470\\nP. 116, Nhà C10, ĐH Bách khoa Hà Nội (Số 1, Đại Cồ Việt, Q.Hai Bà Trưng, Hà Nội)\\nPhone: 024 3869 3350\\nFax: 024 3869 3498\\nIncoming...',\n",
       " 'CTTT Kỹ thuật Điện tử - Viễn thông\\nChương trình tiên tiến Kỹ thuật Điện tử - Viễn thông ( Mã tuyển sinh: ET-E4)\\n(Chương trình thuộc Viện Điện tử Viễn thông)\\nCác đặc điểm nổi bật\\nChương trình được giảng dạy hoàn toàn bằng tiếng Anh và do các giảng viên của trường ĐHBK Hà Nội và các giảng viên nước ngoài tham gia giảng dạy.\\nSinh viên có thể tham gia chương trình song bằng với các trường Đại học đối tác như Wollongong - Úc (2+2, 3+1), Telecom ParisTech - Pháp (4+2), Viện \\xa0KAIST - Hàn Quốc. Ngoài ra, sau khi học xong chương trình cử nhân 4 năm, sinh viên có thể theo học chương trình thạc sĩ tại trường San Jose State University.\\nVị trí việc làm\\nKỹ sư làm trong lĩnh vực Kỹ thuật Viễn thông như doanh nghiệp cung cấp dịch vụ mạng cố định hoặc di động, ISP. Kỹ sư phát triển phần mềm, thiết kế phần cứng và hệ thống nhúng.\\nKỹ sư nghiên cứu và phát triển trong các lĩnh vực viễn thông, Internet, phần cứng và phần mềm cho thiết bị thông minh như thiết bị di động, thiết bị IoT, thiết bị y tế.\\nKỹ sư vận hành hệ thống mạng viễn thông, hệ thống điện tử công nghiệp.\\nChuyên gia tư vấn giải pháp, bán hàng các sản phẩm điện tử và viễn thông.\\nMức lương khởi điểm 12 triệu đến 20 triệu đồng/tháng.\\nCơ hội học bổng\\nSinh viên có cơ hội nhận học bổng của Trường, học bổng trao đổi sinh viên từ các doanh nghiệp và các trường Đại học quốc tế là đối tác của Viện Điện tử- Viễn thông. Tỉ lệ sinh viên đi du học có học bổng hàng năm chiến trên 20% tổng số sinh viên tốt nghiệp.\\nĐề\\xa0cương chương trình\\nTác giả: Trương Thu Hương\\nNhững tin mới hơn\\nCơ hội du học\\nĐTTT - ĐTVT - Nhân vật & Sự kiện\\nĐTTT - ĐTVT - Tuyển sinh\\nGiới thiệu bài viết cho bạn bè',\n",
       " 'Thông tin tuyển sinh Đại học Bách khoa Hà Nội\\nHUST ADMISSIONS INFORMATION\\nNgành điện tử viễn thông\\nĐăng nhập hoặc Đăng ký để tạo câu hỏi\\nCâu hỏi mới nhất\\nLê Giang\\nSo sánh ngành Điện tử viễn thông truyền thống và ngành mới Truyền thông số và Đa Phương tiện ạ\\nChào em,\\nCâu hỏi so sánh về 2 ngành này, em hãy liên hệ tới\\xa0Viện Điện tử - Viễn thông\\nLê Giang\\nTrả lời lúc 12:55 27/09/2021\\nLê Giang\\nSo sánh ngành Điện tử viễn thông truyền thống và ngành mới Truyền thông số và Đa Phương tiện ạ\\nChào em,\\nCâu hỏi so sánh về 2 ngành này, em hãy liên hệ tới\\xa0Viện Điện tử - Viễn thông\\nLê Giang\\nTrả lời lúc 12:55 27/09/2021\\nLê Giang\\nVấn đề về lựa chọn chương trình học: Điện tử viễn thông - Hệ thống nhúng thông minh và IoT\\nChào em,\\nVề câu hỏi thứ nhất, hai chương trình Điện tử viễn thông và Hệ thống nhúng IoT có những khác biệt nào?\\nHai chương trình này cùng thuộc Viện Điện tử Viễn thông nên về kiến thức chung thì vẫn học về mạch điện tử tương tự và mạch số, học về các loại vi điều khiển và lập trình các hệ thống nhúng. Tuy nhiên thì do Điện tử Viễn thông có nhiều mảng như Điện tử, Viễn thông, IoT, hạ tầng mạng nên về mức độ chuyên sâu thì chương trình Hệ thống Nhúng và IoT có mức độ chuyên sâu hơn về lập trình hệ thống Nhúng. Tuy nhiên để lập trình Nhúng được tốt thì kiến thức điện tử cơ bản vẫn cần có. Câu hỏi thứ hai thì học chương trình chuẩn Điện tử Viễn thông là hoàn toàn có thể làm tốt các yêu cầu của lập trình Nhúng. Nhưng bản thân sinh viên phải có định hướng rõ ràng trong quá trình chọn hướng đi nghề nghiệp do Điện tử Viễn thông bao hàm nhiều chuyên ngành.\\nLê Giang\\nTrả lời lúc 13:01 18/09/2020\\nLê Giang\\nReview về (ET1) Kỹ thuật Điện tử - Viễn thông. Có giống công nghệ thông tin không ạ, có học lập trình không?\\nChào em, Ngành điện tử viễn thông (như ET1)\\xa0có học cả về lập trình và thiết kế vi mạch. Phần lập trình sẽ không\\xa0đi sâu như bên ngành Công nghệ thông tin (điển hình là IT1 và IT2) mà chủ yếu sẽ kết hợp lập trình và thiết kế phần cứng vi mạch để tạo ra sản phẩm.\\nVí dụ\\xa0tạo ra 1 cánh tay robot trong nhà máy, chế tạo ra những robot trong cuộc thi\\xa0sáng tạo robocon...\\nLê Giang\\nTrả lời lúc 14:10 21/09/2020\\nLê Giang\\nChương trình tiên tiến Kỹ thuật y sinh có nhiều con gái học không? Đòi hỏi thông minh không?\\nTheo thống kê những năm gần đây thì tỉ lệ sinh viên nữ theo học chương trình tiên tiến kỹ thuật y sinh là 30%. Ngành này cũng rất phù hợp với các bạn nữ em nhé.\\xa0Thầy nghĩ là để vào được trường Đại học Bách khoa Hà Nội thì\\xa0chắc chắn em cũng phải thông minh rồi.\\nĐể tìm hiểu thêm về ngành y sinh, em có thể vào website:\\xa0http://bme.hust.edu.vn.\\nChúc em thi tốt và được vào học ngành mà em yêu thích.\\nTrả lời từ Viện Điện tử viễn thông -\\xa0http://set.hust.edu.vn\\nLê Giang\\nTrả lời lúc 19:35 20/09/2020\\nLê Giang\\nSo sánh Ngành Điện tử - viễn thông và Ngành Công nghệ thông tin. Nếu đỗ ĐTVT nhưng muốn học ngành Kỹ thuật thông tin truyền thông thì sao?\\nNgành Điện tử-viễn thông và ngành Công nghệ thông tin là hai ngành rất gần với nhau. Nếu học hai ngành này em đều học cả về phần cứng và phần mềm của hệ thống xử lý thông tin. Tuy nhiên,\\xa0 điện tử- viễn thông\\xa0 tập trung sâu hơn vào phần cứng còn công nghệ thông\\xa0 tin tập trung sâu hơn vào phần mềm. Vì vậy đối với công việc lập trình, kỹ sư công nghệ thông tin sẽ phù hợp nhất cho việc lập trình cho máy tính và hệ thống máy tính còn kỹ sư điện tử viễn thông phù hợp nhất cho lập trình thiết bị (hay còn gọi là lập trình nhúng). Trong khi đó nếu em yêu thích công việc thiết kế phần cứng thiết bị điện tử thì điện tử viễn thông\\xa0 là sự lựa chọn phù hợp nhất.\\nNếu em đăng ký ET1 học ngành điện tử-viễn thông thì đến năm thứ 5 em sẽ có thể chọn định hướng kỹ thuật\\xa0 thông tin truyền thông và việc chọn định hướng này là đáp ứng hoàn toàn theo nguyện vọng của sinh viên, không phụ thuộc vào kết quả học tập.\\nChúc em thi tốt và được vào học ngành mà em yêu thích.\\nTrả lời từ Viện Điện tử viễn thông -\\xa0http://set.hust.edu.vn\\nLê Giang\\nTrả lời lúc 19:30 20/09/2020\\nLê Giang\\nEm muốn học cách làm được những thiết bị dùng trong gia đình như cái sạc điện thoại hay làm một hệ thống cảm ứng thì phải học Cơ điện tử hay Điện điện tử ạ?\\nNếu em đam mê việc thiết kế và chế tạo phần điện tử của các thiết bị điện tử như điện thoại di động, TV, sạc điện thoại, hệ thống chống trộm trong gia đình, đầu thu truyền hình kỹ thuật số ...\\xa0thì lựa chọn tốt nhất của em là học Kỹ thuật Điện tử viễn thông ET1. (Chi tiết ngành:\\xa0https://ts.hust.edu.vn/asset/-/asset_publisher/ddNQG1HrIiqp/content/ky-thuat-ien-tu-vien-thong\\xa0)\\nHọc ngành này không những em được học thiết kế phần cứng các thiết bị điện tử mà còn được học lập trình cho các thiết bị đó.\\nChúc em thi tốt và được vào học ngành mà em mong muốn.\\nTrả lời từ Viện Điện tử viễn thông -\\xa0http://set.hust.edu.vn\\nLê Giang\\nTrả lời lúc 19:29 20/09/2020\\nLê Giang\\nEm muốn học Kỹ thuật y sinh nhưng em đang phân vân không biết ngành kỹ thuật y sinh quốc tế và kỹ thuật y sinh (Viện điện tử viễn thông) có gì khác nhau? Và con đường nào dễ xin việc hơn?\\nNếu em muốn học kỹ thuật y sinh thì có thể đăng ký ngành ET1 với chuyên ngành Kỹ thuật y sinh học bằng tiếng Việt hoặc đăng ký ET-E5 \\xa0Kỹ thuật y sinh học hoàn toàn bằng tiếng Anh.\\nCả hai chương trình đều thuộc Viện Điện tử - Viễn thông\\xa0và đều do cùng đội ngũ giảng viên giảng dạy. Sinh viên tốt nghiệp cả hai chương trình này đều dễ xin việc. Tuy nhiên, với lợi thế tiếng Anh tốt thì sinh viên học\\xa0ET-E5\\xa0có nhiều cơ hội tốt làm việc cho các công ty nước ngoài.\\nĐể tìm hiều thêm về ngành y sinh, em có thể vào website:\\xa0http://bme.hust.edu.vn.\\nChúc em thi tốt và được vào học ngành mà em mong muốn.\\nTrả lời từ Viện Điện tử viễn thông -\\xa0http://set.hust.edu.vn\\nLê Giang\\nTrả lời lúc 19:26 20/09/2020\\nLê Giang\\nNgành Điện tử viễn thông ĐH Bách Khoa Hà Nội. Học những gì? Làm những gì?\\nChưa có câu trả lời!\\nChủ đề được quan tâm Tất cả\\nXét tuyển tài năng\\n329 câu hỏi\\nĐăng ký xét tuyển 2021\\n268 câu hỏi\\nBài kiểm tra tư duy\\n235 câu hỏi\\nXác nhận tuyển thẳng 2021\\n191 câu hỏi\\nTuyển sinh ĐHBKHN 2020\\n186 câu hỏi\\nĐăng ký xét tuyển 2022\\n163 câu hỏi\\nQuy đổi điểm tiếng Anh\\n125 câu hỏi\\nXét tuyển Hồ sơ năng lực 2022 (Diện 1.3)\\n112 câu hỏi\\nPhương thức tuyển sinh 2023\\n98 câu hỏi\\nPhương thức xét tuyển\\n83 câu hỏi\\nThông tin tuyển sinh\\nĐại học Bách khoa Hà Nội\\nFacebook đại học\\nFacebook sau đại học\\nFacebook K69 - DHBKHN\\nTwitter\\nInstagram\\nYoutube\\nVăn phòng: C2-201, C1 - 103, 104, 105\\nPhone: 024 3869 3108\\nFax: 024 38693108\\nVăn phòng C1 -\\xa0201 - Quản lý điểm và xử lý học tập, Đồ án TN, Xét TN\\nPhone: (+8424)38682305\\nBan Tuyển sinh-Hướng nghiệp - Phòng 101, Tòa nhà C1B\\nPhone: (+84) 243 868 3408 - 084 868 3408\\nVăn phòng: B9 - 101, 102\\nPhone: 024 38692942\\nVP C7-614M, ĐH Bách khoa Hà Nội, số 1 Đại Cồ Việt, Hà Nội\\nPhone: (+84) 24 38 696 165\\nVăn phòng Trường CNTT&TT (P505 - Nhà B1)\\nPhone: 024 3869 2463\\nVăn phòng: C1 - 320\\nPhone: 024 3869 6211\\nFax: 024 3623 1478\\nPhòng 214, nhà C4, Đại Cồ Việt, Hai Bà Trưng, Hà Nội\\nPhone: 024 38 680 070\\nFax: 024 3869 2300\\nTầng 7 - nhà D8, Số 1 Đại Cồ Việt, Q.Hai Bà Trưng, Hà Nội\\nPhone: 086 548 5665\\nP302-304 Nhà C9, Đại học Bách Khoa Hà Nội; Số 1 Đại Cồ Việt, Q. Hai Bà Trưng, Tp. Hà Nội\\nPhone: 024 38 692 304 / 3868.0791 / 0398 698 689\\nPhòng 209,\\nnhà D4 - ĐH Bách Khoa Hà Nội, Số 1, Đại Cồ Việt, Q.Hai Bà Trưng, Hà Nội\\nPhone: (+84) 24 3869 2201\\nPhòng 402 nhà D5, Trường ĐHBKHN\\nPhone: 024 3868.1432\\nPhòng 106 nhà D3, ĐHBK Hà Nội, Số 01 Đại Cồ Việt - Quận Hai Bà Trưng - Hà Nội\\nPhone: 024 3869 2137\\nFax: 024 3868 2470\\nP. 116, Nhà C10, ĐH Bách khoa Hà Nội (Số 1, Đại Cồ Việt, Q.Hai Bà Trưng, Hà Nội)\\nPhone: 024 3869 3350\\nFax: 024 3869 3498\\nIncoming...',\n",
       " 'Thông tin tuyển sinh Đại học Bách khoa Hà Nội\\nHUST ADMISSIONS INFORMATION\\nDanh mục\\nTin Xem Nhiều\\nHướng dẫn các bước đăng ký Kỳ thi Đánh giá tư duy 2024\\n105312\\nBản đồ trường Đại học Bách Khoa Hà Nội\\n89080\\nĐiểm chuẩn trúng tuyển Đại học Bách Khoa Hà Nội năm 2022\\n87949\\nChỉ tiêu - Mã xét tuyển Đại học chính quy 2021\\n86107\\nCách tính điểm xét tuyển của ĐHBK Hà Nội\\n81311\\nCơ sở vật chất trường Đại học Bách Khoa Hà Nội\\n26-09-2019\\nTrường Đại học Bách Khoa Hà Nội\\xa0(Hanoi University of Science and Technology)\\xa0là một trường\\xa0đại học kỹ thuật\\xa0hàng đầu đồng thời cũng là một trong những trung tâm nghiên cứu khoa học và chuyển giao công nghệ lớn nhất của Việt Nam.\\xa0Trường cũng\\xa0là thành viên của Hiệp hội các trường đại học kỹ thuật hàng đầu khu vực Châu Á - Thái Bình Dương AOTULE (Asia-Oceania Top University League on Engineering).\\nTrường\\xa0đã đầu tư cơ sở vật chất tiện nghi, hiện đại phục vụ cho công tác dạy học và nghiên cứu khoa học. 80% giảng đường được đầu tư hệ thống điều hòa công suất lớn với máy chiếu hiện đại, đảm bảo sức khỏe cho sinh viên yên tâm học tập. Hệ thống phòng thí nghiệm đồng bộ với trang thiết bị máy móc hiện đại.\\nMôi trường học tập và khuôn viên Trường trong lành\\xa0(Trường có diện tích lớn nhất trong nội thành Hà Nội), góp phần xây dựng đời sống sinh viên thân thiện và cởi mở. Trường có khu ký túc xá khang trang, sạch sẽ với các sân bóng đá, bóng chuyền, bóng rổ… phục vụ tốt đời sống sinh viên nội trú. Bên cạnh đó, Trường ĐHBK Hà Nội còn là Trường đại học được đầu tư đồng bộ cơ sở vật chất phục vụ các hoạt động thể thao – văn hóa trong và ngoài Trường như: sân vận động tiêu chuẩn quốc tế, bể bơi, sân tennis, nhà thi đấu thường xuyên tổ chức những hoạt động lớn quy mô thành phố, quốc gia.\\nCơ sở vật chất\\nSinh viên được trải nghiệm trong môi trường thân thiện, hệ thống cơ sở vật chất hiện đại, đáp ứng nhu cầu học tập, nghiên cứu, tham gia các hoạt động thể thao, giải trí đa dạng.\\nI. PHÒNG HỌC - GIẢNG ĐƯỜNG\\nTrường Đại học Bách Khoa Hà Nội có tổng diện tích phục vụ giảng dạy, nghiên cứu khoa học và hội họp rộng 26,2 hecta. Trường có\\xa0hơn 200 giảng đường, phòng học, hội trường lớn và hệ thống phòng hội thảo; gần 200 phòng thí nghiệm, trong đó có 12 phòng thí nghiệm trọng điểm quốc gia và khoảng 20 xưởng thực tập, thực hành.\\nSinh viên khoa Điện tử viễn thông - ĐHBKHN trong giờ thực hành\\nNhà D9 Bách Khoa\\nTrong đó có 8 phòng thí nghiệm trọng điểm quốc gia và tương đương; khoảng 20 xưởng thực tập và thực hành.\\nII. CÁC TOÀ NHÀ - THƯ VIỆN\\nToàn bộ giảng đường được trang bị đầy đủ điều hòa và thiết bị giảng dạy cùng với hệ thống wifi miễn phí trong khuôn viên Trường.\\xa0Thư viện điện tử Tạ Quang Bửu\\xa0với\\xa0diện tích 37.000 m2, có thể\\xa0phục vụ đồng thời 2.000 sinh viên với 600.000 cuốn sách, 130.000 đầu sách điện tử. Sinh viên được\\xa0truy cập miễn phí CSDL từ các nguồn như Science Driect, Scopus…\\nThư viện Tạ Quang Bửu là\\xa0thư viện lớn và hiện đại, thư viện có hội trường lớn (ở Tầng 10)\\xa0với sức chứa hàng nghìn người\\nTổng diện tích đất sử dụng của Trường:\\xa0252.857,8 m², nơi làm việc 15.252m², nơi học 78.846m², nơi vui chơi giải trí: 29.321 m²,\\xa01 nhà câu lạc bộ sinh viên với 350 chỗ được trang bị âm thanh hiện đại và 1 trung tâm Y tế\\xa0hoạt động theo mô hình phòng khám đa khoa chăm sóc sức khỏe thường xuyên cho các cán bộ và sinh viên Trường.\\nIII. KHU KÝ TÚC XÁ\\nTrường có một\\xa0khu ký túc xá với 420 phòng, đủ khả năng đáp ứng chỗ ở cho khoảng 4500 sinh viên.\\nHình ảnh khu ký túc xá sinh viên kỹ thuật tại Bách Khoa. Sinh viên được sử dụng Wifi FREE đến tận giường\\nKhu Ký túc xá nhà B5\\nIV. CƠ SỞ VẬT CHẤT\\xa0- RÈN LUYỆN THỂ DỤC THỂ THAO\\nCác hệ thống cơ sở vật chất phục vụ bộ môn giáo dục thể chất và phong trào thể thao của sinh viên đầy đủ và hiện đại với\\xa01 sân bóng tiêu chuẩn quốc gia, 1 nhà thi đấu đa năng tiêu chuẩn\\xa0Đông Nam Á,\\xa01 bể bơi tiêu chuẩn quốc gia, sân tennis tiêu chuẩn quốc gia...\\xa0Khu liên hợp thể thao\\xa0có diện tích\\xa020.000m2\\xa0với hệ thống cơ sở vật chất hiện đại, bao gồm: sân bóng, bể bơi, sân tennis tiêu chuẩn quốc gia và nhà thi đấu đa năng tiêu chuẩn Đông Nam Á.\\n1. Sân vận động\\xa0diện tích 18.000m2\\xa0bao gồm khán đài A - B với sức chứa 7.000 người, trong sân có sân bóng đá, 3 sân bóng chuyền, 1 sân bóng rổ, 1 khu tập thể dục và khu tập điền kinh (chạy 100m, 1500m, nhảy cao, nhảy xa, đẩy tạ, phóng lao…). Có dàn đèn phục vụ tập luyện buổi tối và nhiều phòng phụ trợ dưới khán đài A - B.\\nĐại học Bách khoa có sân bóng tiêu chuẩn quốc gia, một nhà thi đấu đa năng tiêu chuẩn Đông Nam Á\\n2. Khu bể bơi, sân quần vợt :\\xa0diện tích 4.800m2\\n- Bể bơi kích thước 25x50m, có lọc nước tuần hoàn, có khán đài sức chứa 500 người.\\n3. Nhà tập luyện và thi đấu:\\xa0diện tích 4.800m2\\nNhà tập đa năng có khán đài A - B sức chứa 1258 chỗ ngồi, và được trang bị rất hiện đại, hệ thống thông tin, điều hòa trung tâm và nhiều phòng phụ trợ, văn phòng – phục vụ cho các giải thể thao sinh viên cũng như quốc tế.\\n4. Khu tập luyện ký túc xá:\\xa0diện tích 4.000m2\\nBao gồm: khu sân bóng rổ, sân tennis,\\xa01 khu tập thể dục dụng cụ và 2 sân bóng đá 7 người.\\nSân bóng đá\\xa0nằm ngay sau lưng của tòa nhà B9\\nSân bóng với mặt cỏ nhân tạo hiện đại - không gian tập thể thao lý tưởng cho sinh viên\\nSân tập bóng chuyền cho sinh viên\\nĐịa chỉ của trung tâm đặt tại Số 5 Tạ Quang Bửu, Q.Hai Bà Trưng, Hà Nội\\nTS.HUST.EDU.VN\\nCó thể bạn sẽ thích\\nNhững chứng chỉ quốc tế nào được xét tuyển thẳng ĐHBK Hà Nội?\\nThông cáo báo chí: Về việc chuyển Trường Đại học Bách khoa Hà Nội thành Đại học Bách khoa Hà Nội\\nĐH Bách Khoa Hà Nội có 4 nhóm ngành lọt TOP 351-400 và 451-500 xếp hạng Quacquarelli Symonds\\nQuy chế tham dự Bài kiểm tra tư duy ngày 15.8.2020\\nLịch học ôn tập Cao học Đợt 1.2020\\nHướng dẫn đăng ký xét tuyển tài năng 2023 - Đăng ký tài khoản\\nThông tin tuyển sinh\\nĐại học Bách khoa Hà Nội\\nFacebook đại học\\nFacebook sau đại học\\nFacebook K69 - DHBKHN\\nTwitter\\nInstagram\\nYoutube\\nVăn phòng: C2-201, C1 - 103, 104, 105\\nPhone: 024 3869 3108\\nFax: 024 38693108\\nVăn phòng C1 -\\xa0201 - Quản lý điểm và xử lý học tập, Đồ án TN, Xét TN\\nPhone: (+8424)38682305\\nBan Tuyển sinh-Hướng nghiệp - Phòng 101, Tòa nhà C1B\\nPhone: (+84) 243 868 3408 - 084 868 3408\\nVăn phòng: B9 - 101, 102\\nPhone: 024 38692942\\nVP C7-614M, ĐH Bách khoa Hà Nội, số 1 Đại Cồ Việt, Hà Nội\\nPhone: (+84) 24 38 696 165\\nVăn phòng Trường CNTT&TT (P505 - Nhà B1)\\nPhone: 024 3869 2463\\nVăn phòng: C1 - 320\\nPhone: 024 3869 6211\\nFax: 024 3623 1478\\nPhòng 214, nhà C4, Đại Cồ Việt, Hai Bà Trưng, Hà Nội\\nPhone: 024 38 680 070\\nFax: 024 3869 2300\\nTầng 7 - nhà D8, Số 1 Đại Cồ Việt, Q.Hai Bà Trưng, Hà Nội\\nPhone: 086 548 5665\\nP302-304 Nhà C9, Đại học Bách Khoa Hà Nội; Số 1 Đại Cồ Việt, Q. Hai Bà Trưng, Tp. Hà Nội\\nPhone: 024 38 692 304 / 3868.0791 / 0398 698 689\\nPhòng 209,\\nnhà D4 - ĐH Bách Khoa Hà Nội, Số 1, Đại Cồ Việt, Q.Hai Bà Trưng, Hà Nội\\nPhone: (+84) 24 3869 2201\\nPhòng 402 nhà D5, Trường ĐHBKHN\\nPhone: 024 3868.1432\\nPhòng 106 nhà D3, ĐHBK Hà Nội, Số 01 Đại Cồ Việt - Quận Hai Bà Trưng - Hà Nội\\nPhone: 024 3869 2137\\nFax: 024 3868 2470\\nP. 116, Nhà C10, ĐH Bách khoa Hà Nội (Số 1, Đại Cồ Việt, Q.Hai Bà Trưng, Hà Nội)\\nPhone: 024 3869 3350\\nFax: 024 3869 3498\\nIncoming...',\n",
       " 'Please enable javascript to view this site.\\nhuongnghiep.hocmai.vn |\\nMarch 27, 2024\\nTop\\nChuyên ngành Kỹ thuật Điện tử - Viễn thông - Đại Học Bách Khoa Hà Nội\\nReview ngành Kỹ thuật Điện tử – Viễn thông Đại học Bách Khoa Hà Nội (HUST): Dùng công nghệ hiện đại thay đổi văn minh nhân loại\\nKhi cuộc cách mạng 4.0 bùng nổ, ngành Kỹ thuật điện tử – Viễn thông trở thành một trong những ngành mở ra nhiều cơ hội nhất cho các bạn trẻ. Là một trong những trường đào tạo hàng đầu về điện tử – viễn thông, Đại học Bách Khoa Hà Nội là cái tên được rất nhiều người chú ý. Hôm nay hãy cùng Huongnghiep.hocmai.vn review chi tiết để các bạn có cái nhìn rõ hơn về ngành Kỹ thuật Điện tử – Viễn thông của ĐHBK HN nhé!\\nĐiện tử viễn thông đóng vai trò quan trọng trong cuộc cách mạng 4.0\\nMục lục\\n1. Ngành Kỹ thuật Điện tử – Viễn thông là gì?\\nKỹ thuật Điện tử – Viễn thông là ngành nghiên cứu về việc ứng dụng kỹ thuật tiên tiến và công nghệ hiện đại nhất để tạo ra các thiết bị vệ tinh, cáp và thiết bị điện tử như: điện thoại, máy tính bảng, máy tính cá nhân, Tivi,…. Nhờ đó giúp con người xây dựng được hệ thống mạng thông tin liên lạc toàn cầu, giúp việc trao đổi thông tin được tiến hành thuận lợi bất chấp thời gian và không gian khác nhau.\\nNgành này gồm có hai lĩnh vực chính:\\n–\\xa0 \\xa0 \\xa0 \\xa0 Điện tử: Nghiên cứu và chế tạo ra vi mạch điện tử, đây chính là bộ não điều khiển tất cả các hoạt động của thiết bị thông minh\\n–\\xa0 \\xa0 \\xa0 \\xa0 Viễn thông: Nghiên cứu và sử dụng các thiết bị tạo nên mạng viễn thông (thiết bị truyền thông tin từ đầu phát đến đầu thu) gồm có những thành phần chính là: thiết bị truyền dẫn, thiết bị chuyển mạch, thiết bị đầu cuối, môi trường truyền.\\n2. Ngành Kỹ thuật Điện tử – Viễn thông Đại học Bách Khoa Hà Nội có gì?\\nKhoa Kỹ thuật Điện tử – Viễn thông hiện đang rất hot của Bách Khoa ở hiện tại và cả trong tương lai. Khi theo học, bạn sẽ được lựa chọn một trong các chuyên ngành:\\n–\\xa0 \\xa0 \\xa0 \\xa0 Điện tử và kỹ thuật máy tính: chuyên về lập trình cho các hệ thống nhúng\\n–\\xa0 \\xa0 \\xa0 \\xa0 Kỹ thuật thông tin – truyền thông: chuyên về hệ thống viễn thông, kỹ thuật truyền số liệu.\\n–\\xa0 \\xa0 \\xa0 \\xa0 Kỹ thuật y sinh: chuyên nghiên cứu các thiết bị y tế phục vụ khám chữa bệnh\\n–\\xa0 \\xa0 \\xa0 \\xa0 Kỹ thuật điện tử hàng không vũ trụ: nghiên cứu về các loại máy bay máy bay tự hành\\n–\\xa0 \\xa0 \\xa0 \\xa0 Kỹ thuật Đa phương tiện: nghiên cứu về các thiết bị nghe nhìn, điều chỉnh âm độ của các thiết bị thu âm,…\\nNội dung chương trình học:\\nTại Đại học Bách Khoa Hà Nội, bạn có thể theo học hệ cử nhân (4 năm), hệ kỹ sư (5 năm), hệ tích hợp cử nhân – thạc sĩ (5,5 năm) hoặc Hệ Cử nhân – thạc sĩ – tiến sĩ (8,5 năm). Bên cạnh đó, bạn cũng có cơ hội tham gia chương trình song bằng với các đối tác của trường theo mô hình:\\n–\\xa0 \\xa0 \\xa0 \\xa0 2+2: 2 năm đầu học tại Đại học Bách Khoa Hà Nội, 2 năm cuối sẽ học tại Đại học Wollongong của Úc, được cấp bằng cử nhân của cả 2 trường\\n–\\xa0 \\xa0 \\xa0 \\xa0 4+2: 4 năm đầu học tại Đại học Bách Khoa Hà Nội, 2 năm sau học tại Đại học Telecom ParisTech của Pháp. Sau 6 năm bạn sẽ nhận được bằng Thạc sĩ của ĐH BK HN và bằng kỹ sư của Đại học Telecom ParisTech.\\n–\\xa0 \\xa0 \\xa0 \\xa0 4+1+3: 4 năm đầu học tại Đại học Bách Khoa Hà Nội lấy bằng cử nhân của ĐHBKHN, 1 năm tiếp theo học Thạc sĩ tại ĐHBK HN và 3 năm cuối học chương trình Tiến sĩ ở viện KAIST (Hàn Quốc), sau đó bạn sẽ có bằng Tiến sĩ của cả 2 trường.\\nVẫn chưa hết, sinh viên Kỹ thuật Điện tử – Viễn thông của Đại học Bách Khoa Hà Nội còn có thể chọn học chương trình tiên tiến. Ở đây, ngôn ngữ giảng dạy sẽ hoàn toàn bằng tiếng Anh với đội ngũ giảng viên hàng đầu trong nước và quốc tế.\\nMột lựa chọn khác cho các bạn sinh viên yêu thích điện tử – viễn thông là chương trình liên kết với Đại học Leibniz Hannover (Đức). Một số điểm khác biệt của chương trình này là:\\n– Ngôn ngữ đào tạo bằng tiếng Việt và đến năm 3 bạn sẽ được học một số môn bằng tiếng Đức với giảng viên nước ngoài.\\n– Giai đoạn 1 (4 năm đầu: bạn sẽ học tại Đại Học Bách Khoa Hà Nội theo chương trình thống nhất giữa hai trường, ngôn ngữ học là tiếng Việt và được học tăng cường 5 kỳ tiếng Đức.\\n– Đến giai đoạn 2 bạn sẽ được lựa chọn:\\n+ Nếu có đủ điều kiện chuyên môn và ngoại ngữ bạn sẽ chuyển sang học bằng thạc sũ của Đại học ĐH Leibniz Hannover (Đức)\\n+Nếu không chuyển tiếp bạn có thể tiếp tục học tại Đại học Bách Khoa Hà Nội theo chương trình thống nhất giữa hai trườn. Làm luận văn tốt nghiệp bằng tiếng Anh hoặc tiếng Đức. Sau đó nếu có nguyện vọng bạn có thể học tiếp 1 năm để lấy bằng thạc sĩ.\\n3. Điểm chuẩn ngành Kỹ thuật Điện tử – Viễn thông Đại học Bách Khoa Hà Nội\\nTrườngChuyên ngànhNgành202320222021\\nĐại Học Bách Khoa Hà Nội\\nKỹ thuật Điện tử - Viễn thông\\nKỹ thuật điện tử - viễn thông\\n66.4664.1726.4625.9924.514.0526.8Ghi chúĐánh giá tư duy\\nĐánh giá tư duy\\nCT tiên tiến\\nĐiểm TN THPT\\nĐiểm TN THPT\\nCT tiên tiến\\nTN THPT\\nĐánh giá tư duy\\nĐánh giá tư duy\\nCT tiên tiến\\nĐiểm TN THPT\\nĐiểm TN THPT\\nCT tiên tiến\\nTN THPT\\n4. Học Kỹ thuật Điện tử – Viễn thông ra trường làm gì?\\nKỹ thuật Điện tử – Viễn thông: Ngành học mở ra nhiều cơ hội\\nQua những phần trên bạn cũng hiểu được Kỹ thuật Điện tử – Viễn thông là ngành “thay đổi văn minh nhân loại”. Chính vì vậy cơ hội nghề nghiệp cho ngành này vô cùng lớn. Bạn có thể làm việc tại:\\n–\\xa0 \\xa0 \\xa0 \\xa0 Các doanh nghiệp nghiên cứu, sản xuất, phát triển các sản phẩm điện tử: chuyên viên tư vấn, vận hành, thiết kế, điều hành kỹ thuật; chuyên gia thiết kế chipset (bộ phận không thể thiếu của các thiết bị thông minh); nghiên cứu viên phát triển sản phẩm thiết bị điện tử, công nghệ ứng dụng như truyền vẫn vật lý ứng dụng, công nghệ di động,…\\n–\\xa0 \\xa0 \\xa0 \\xa0 Công ty cung cấp dịch vụ internet: Kỹ sư thiết kế và xây dựng hệ thống hạ tầng truy cập internet; kỹ sư sư phân tích tích hợp các hệ thống, dịch vụ gia tăng, ứng dụng trên các cơ sở hạ tầng sẵn có.\\n–\\xa0 \\xa0 \\xa0 \\xa0 Công ty viên thông: chuyên viên thiết kế truyền dẫn, bảo trì, vận hành; chuyên viên quy hoạch, thiết kế mạng và tối ưu mạng; trưởng bộ phận kỹ thuật,…\\n–\\xa0 \\xa0 \\xa0 \\xa0 Đài phát thanh truyền hình, công ty tư vấn mạng viễn thông: chuyên viên thiết kế, tư vấn, vận hành, điều hành kỹ thuật\\n–\\xa0 \\xa0 \\xa0 \\xa0 Các hãng thiết bị: chuyên viên quản lý kỹ thuật và sản phẩm, quản lý dự án kinh doanh\\n–\\xa0 \\xa0 \\xa0 \\xa0 Các tập đoàn, công ty đa quốc gia về Điện tử – Viễn thông\\nTheo thống kê, 95% sinh viên khoa Kỹ thuật Điện tử – Viễn thông Đại học Bách Khoa Hà Nội có việc làm ngay sau một năm tốt nghiệp với mức lương khởi điểm từ 8-20 triệu đồng. Điều này đủ thấy được sức hấp dẫn của ngành đáng để các bạn cân nhắc đúng không nào!\\nTin tức mới nhất']"
      ]
     },
     "execution_count": 25,
     "metadata": {},
     "output_type": "execute_result"
    }
   ],
   "source": [
    "refs"
   ]
  },
  {
   "cell_type": "code",
   "execution_count": 26,
   "metadata": {},
   "outputs": [],
   "source": [
    "# Normalize Vietnamese text\n",
    "import unicodedata\n",
    "import re\n",
    "\n",
    "def read_vi_text(text):\n",
    "    text = unicodedata.normalize(\"NFC\", text)\n",
    "    text = re.sub(r'\\s+', ' ', text)\n",
    "    return text\n",
    "\n",
    "read_vi = [read_vi_text(ref) for ref in refs]"
   ]
  },
  {
   "cell_type": "code",
   "execution_count": 14,
   "metadata": {},
   "outputs": [
    {
     "data": {
      "text/plain": [
       "['Thông tin tuyển sinh Đại học Bách khoa Hà Nội HUST ADMISSIONS INFORMATION Tổng quan Ngôn ngữ đào tạo: Tiếng Việt Mã xét tuyển: ET1 Chỉ tiêu tuyển sinh: 480 Chương trình chuẩn Kỹ thuật Điện tử Viễn thông là gì? Ngành Điện tử - Viễn thông là một trong những ngành mũi nhọn của cuộc Cách mạng công nghiệp lần thứ 4 và là ngành có nhu cầu cao về nhân lực ở Việt Nam và trên thế giới. Theo học ngành này, sinh viên được trang bị một cách toàn diện cả về kỹ năng chuyên môn và kỹ năng mềm để có thể thiết kế, chế tạo, vận hành các thiết bị và hệ thống điện tử viễn thông, đáp ứng được yêu cầu về tính năng động và sáng tạo của lĩnh vực nghề nghiệp này. Chương trình kỹ thuật Điện tử- Viễn thông được giảng dạy bằng tiếng Việt và được thiết kế bao gồm khối kiến thức toán học và khoa học cơ bản, khối kiến thức cơ sở cốt lõi ngành Điện tử -Viễn thông, khối kiến thức bổ trợ kiến thức xã hội và kỹ năng mềm và khối kiến thức tự chọn chuyên sâu theo các định hướng kỹ thuật điện tử, kỹ thuật máy tính, kỹ thuật thông tin truyền thông, kỹ thuật y sinh, kỹ thuật điện tử hàng không vũ trụ, kỹ thuật đa phương tiện, kỹ thuật vi điện tử và công nghệ nano. Chương trình đào tạo Xem chi tiết Nội dung chương trình Kiến thức và kỹ năng đạt được sau khi tốt nghiệp Kiến thức Kỹ năng Ngoại ngữ: Thời gian đào tạo và khả năng học tập lên bậc đại học Học phí - Học bổng Vị trí công việc Cơ hội việc làm Cơ hội học bổng Liên hệ để có thêm thông tin Thông tin tuyển sinh Đại học Bách khoa Hà Nội Facebook đại học Facebook sau đại học Facebook K69 - DHBKHN Twitter Instagram Youtube Văn phòng: C2-201, C1 - 103, 104, 105 Phone: 024 3869 3108 Fax: 024 38693108 Văn phòng C1 - 201 - Quản lý điểm và xử lý học tập, Đồ án TN, Xét TN Phone: (+8424)38682305 Ban Tuyển sinh-Hướng nghiệp - Phòng 101, Tòa nhà C1B Phone: (+84) 243 868 3408 - 084 868 3408 Văn phòng: B9 - 101, 102 Phone: 024 38692942 VP C7-614M, ĐH Bách khoa Hà Nội, số 1 Đại Cồ Việt, Hà Nội Phone: (+84) 24 38 696 165 Văn phòng Trường CNTT&TT (P505 - Nhà B1) Phone: 024 3869 2463 Văn phòng: C1 - 320 Phone: 024 3869 6211 Fax: 024 3623 1478 Phòng 214, nhà C4, Đại Cồ Việt, Hai Bà Trưng, Hà Nội Phone: 024 38 680 070 Fax: 024 3869 2300 Tầng 7 - nhà D8, Số 1 Đại Cồ Việt, Q.Hai Bà Trưng, Hà Nội Phone: 086 548 5665 P302-304 Nhà C9, Đại học Bách Khoa Hà Nội; Số 1 Đại Cồ Việt, Q. Hai Bà Trưng, Tp. Hà Nội Phone: 024 38 692 304 / 3868.0791 / 0398 698 689 Phòng 209, nhà D4 - ĐH Bách Khoa Hà Nội, Số 1, Đại Cồ Việt, Q.Hai Bà Trưng, Hà Nội Phone: (+84) 24 3869 2201 Phòng 402 nhà D5, Trường ĐHBKHN Phone: 024 3868.1432 Phòng 106 nhà D3, ĐHBK Hà Nội, Số 01 Đại Cồ Việt - Quận Hai Bà Trưng - Hà Nội Phone: 024 3869 2137 Fax: 024 3868 2470 P. 116, Nhà C10, ĐH Bách khoa Hà Nội (Số 1, Đại Cồ Việt, Q.Hai Bà Trưng, Hà Nội) Phone: 024 3869 3350 Fax: 024 3869 3498 Incoming...',\n",
       " 'CTTT Kỹ thuật Điện tử - Viễn thông Chương trình tiên tiến Kỹ thuật Điện tử - Viễn thông ( Mã tuyển sinh: ET-E4) (Chương trình thuộc Viện Điện tử Viễn thông) Các đặc điểm nổi bật Chương trình được giảng dạy hoàn toàn bằng tiếng Anh và do các giảng viên của trường ĐHBK Hà Nội và các giảng viên nước ngoài tham gia giảng dạy. Sinh viên có thể tham gia chương trình song bằng với các trường Đại học đối tác như Wollongong - Úc (2+2, 3+1), Telecom ParisTech - Pháp (4+2), Viện KAIST - Hàn Quốc. Ngoài ra, sau khi học xong chương trình cử nhân 4 năm, sinh viên có thể theo học chương trình thạc sĩ tại trường San Jose State University. Vị trí việc làm Kỹ sư làm trong lĩnh vực Kỹ thuật Viễn thông như doanh nghiệp cung cấp dịch vụ mạng cố định hoặc di động, ISP. Kỹ sư phát triển phần mềm, thiết kế phần cứng và hệ thống nhúng. Kỹ sư nghiên cứu và phát triển trong các lĩnh vực viễn thông, Internet, phần cứng và phần mềm cho thiết bị thông minh như thiết bị di động, thiết bị IoT, thiết bị y tế. Kỹ sư vận hành hệ thống mạng viễn thông, hệ thống điện tử công nghiệp. Chuyên gia tư vấn giải pháp, bán hàng các sản phẩm điện tử và viễn thông. Mức lương khởi điểm 12 triệu đến 20 triệu đồng/tháng. Cơ hội học bổng Sinh viên có cơ hội nhận học bổng của Trường, học bổng trao đổi sinh viên từ các doanh nghiệp và các trường Đại học quốc tế là đối tác của Viện Điện tử- Viễn thông. Tỉ lệ sinh viên đi du học có học bổng hàng năm chiến trên 20% tổng số sinh viên tốt nghiệp. Đề cương chương trình Tác giả: Trương Thu Hương Những tin mới hơn Cơ hội du học ĐTTT - ĐTVT - Nhân vật & Sự kiện ĐTTT - ĐTVT - Tuyển sinh Giới thiệu bài viết cho bạn bè',\n",
       " 'Thông tin tuyển sinh Đại học Bách khoa Hà Nội HUST ADMISSIONS INFORMATION Ngành điện tử viễn thông Đăng nhập hoặc Đăng ký để tạo câu hỏi Câu hỏi mới nhất Lê Giang So sánh ngành Điện tử viễn thông truyền thống và ngành mới Truyền thông số và Đa Phương tiện ạ Chào em, Câu hỏi so sánh về 2 ngành này, em hãy liên hệ tới Viện Điện tử - Viễn thông Lê Giang Trả lời lúc 12:55 27/09/2021 Lê Giang So sánh ngành Điện tử viễn thông truyền thống và ngành mới Truyền thông số và Đa Phương tiện ạ Chào em, Câu hỏi so sánh về 2 ngành này, em hãy liên hệ tới Viện Điện tử - Viễn thông Lê Giang Trả lời lúc 12:55 27/09/2021 Lê Giang Vấn đề về lựa chọn chương trình học: Điện tử viễn thông - Hệ thống nhúng thông minh và IoT Chào em, Về câu hỏi thứ nhất, hai chương trình Điện tử viễn thông và Hệ thống nhúng IoT có những khác biệt nào? Hai chương trình này cùng thuộc Viện Điện tử Viễn thông nên về kiến thức chung thì vẫn học về mạch điện tử tương tự và mạch số, học về các loại vi điều khiển và lập trình các hệ thống nhúng. Tuy nhiên thì do Điện tử Viễn thông có nhiều mảng như Điện tử, Viễn thông, IoT, hạ tầng mạng nên về mức độ chuyên sâu thì chương trình Hệ thống Nhúng và IoT có mức độ chuyên sâu hơn về lập trình hệ thống Nhúng. Tuy nhiên để lập trình Nhúng được tốt thì kiến thức điện tử cơ bản vẫn cần có. Câu hỏi thứ hai thì học chương trình chuẩn Điện tử Viễn thông là hoàn toàn có thể làm tốt các yêu cầu của lập trình Nhúng. Nhưng bản thân sinh viên phải có định hướng rõ ràng trong quá trình chọn hướng đi nghề nghiệp do Điện tử Viễn thông bao hàm nhiều chuyên ngành. Lê Giang Trả lời lúc 13:01 18/09/2020 Lê Giang Review về (ET1) Kỹ thuật Điện tử - Viễn thông. Có giống công nghệ thông tin không ạ, có học lập trình không? Chào em, Ngành điện tử viễn thông (như ET1) có học cả về lập trình và thiết kế vi mạch. Phần lập trình sẽ không đi sâu như bên ngành Công nghệ thông tin (điển hình là IT1 và IT2) mà chủ yếu sẽ kết hợp lập trình và thiết kế phần cứng vi mạch để tạo ra sản phẩm. Ví dụ tạo ra 1 cánh tay robot trong nhà máy, chế tạo ra những robot trong cuộc thi sáng tạo robocon... Lê Giang Trả lời lúc 14:10 21/09/2020 Lê Giang Chương trình tiên tiến Kỹ thuật y sinh có nhiều con gái học không? Đòi hỏi thông minh không? Theo thống kê những năm gần đây thì tỉ lệ sinh viên nữ theo học chương trình tiên tiến kỹ thuật y sinh là 30%. Ngành này cũng rất phù hợp với các bạn nữ em nhé. Thầy nghĩ là để vào được trường Đại học Bách khoa Hà Nội thì chắc chắn em cũng phải thông minh rồi. Để tìm hiểu thêm về ngành y sinh, em có thể vào website: http://bme.hust.edu.vn. Chúc em thi tốt và được vào học ngành mà em yêu thích. Trả lời từ Viện Điện tử viễn thông - http://set.hust.edu.vn Lê Giang Trả lời lúc 19:35 20/09/2020 Lê Giang So sánh Ngành Điện tử - viễn thông và Ngành Công nghệ thông tin. Nếu đỗ ĐTVT nhưng muốn học ngành Kỹ thuật thông tin truyền thông thì sao? Ngành Điện tử-viễn thông và ngành Công nghệ thông tin là hai ngành rất gần với nhau. Nếu học hai ngành này em đều học cả về phần cứng và phần mềm của hệ thống xử lý thông tin. Tuy nhiên, điện tử- viễn thông tập trung sâu hơn vào phần cứng còn công nghệ thông tin tập trung sâu hơn vào phần mềm. Vì vậy đối với công việc lập trình, kỹ sư công nghệ thông tin sẽ phù hợp nhất cho việc lập trình cho máy tính và hệ thống máy tính còn kỹ sư điện tử viễn thông phù hợp nhất cho lập trình thiết bị (hay còn gọi là lập trình nhúng). Trong khi đó nếu em yêu thích công việc thiết kế phần cứng thiết bị điện tử thì điện tử viễn thông là sự lựa chọn phù hợp nhất. Nếu em đăng ký ET1 học ngành điện tử-viễn thông thì đến năm thứ 5 em sẽ có thể chọn định hướng kỹ thuật thông tin truyền thông và việc chọn định hướng này là đáp ứng hoàn toàn theo nguyện vọng của sinh viên, không phụ thuộc vào kết quả học tập. Chúc em thi tốt và được vào học ngành mà em yêu thích. Trả lời từ Viện Điện tử viễn thông - http://set.hust.edu.vn Lê Giang Trả lời lúc 19:30 20/09/2020 Lê Giang Em muốn học cách làm được những thiết bị dùng trong gia đình như cái sạc điện thoại hay làm một hệ thống cảm ứng thì phải học Cơ điện tử hay Điện điện tử ạ? Nếu em đam mê việc thiết kế và chế tạo phần điện tử của các thiết bị điện tử như điện thoại di động, TV, sạc điện thoại, hệ thống chống trộm trong gia đình, đầu thu truyền hình kỹ thuật số ... thì lựa chọn tốt nhất của em là học Kỹ thuật Điện tử viễn thông ET1. (Chi tiết ngành: https://ts.hust.edu.vn/asset/-/asset_publisher/ddNQG1HrIiqp/content/ky-thuat-ien-tu-vien-thong ) Học ngành này không những em được học thiết kế phần cứng các thiết bị điện tử mà còn được học lập trình cho các thiết bị đó. Chúc em thi tốt và được vào học ngành mà em mong muốn. Trả lời từ Viện Điện tử viễn thông - http://set.hust.edu.vn Lê Giang Trả lời lúc 19:29 20/09/2020 Lê Giang Em muốn học Kỹ thuật y sinh nhưng em đang phân vân không biết ngành kỹ thuật y sinh quốc tế và kỹ thuật y sinh (Viện điện tử viễn thông) có gì khác nhau? Và con đường nào dễ xin việc hơn? Nếu em muốn học kỹ thuật y sinh thì có thể đăng ký ngành ET1 với chuyên ngành Kỹ thuật y sinh học bằng tiếng Việt hoặc đăng ký ET-E5 Kỹ thuật y sinh học hoàn toàn bằng tiếng Anh. Cả hai chương trình đều thuộc Viện Điện tử - Viễn thông và đều do cùng đội ngũ giảng viên giảng dạy. Sinh viên tốt nghiệp cả hai chương trình này đều dễ xin việc. Tuy nhiên, với lợi thế tiếng Anh tốt thì sinh viên học ET-E5 có nhiều cơ hội tốt làm việc cho các công ty nước ngoài. Để tìm hiều thêm về ngành y sinh, em có thể vào website: http://bme.hust.edu.vn. Chúc em thi tốt và được vào học ngành mà em mong muốn. Trả lời từ Viện Điện tử viễn thông - http://set.hust.edu.vn Lê Giang Trả lời lúc 19:26 20/09/2020 Lê Giang Ngành Điện tử viễn thông ĐH Bách Khoa Hà Nội. Học những gì? Làm những gì? Chưa có câu trả lời! Chủ đề được quan tâm Tất cả Xét tuyển tài năng 329 câu hỏi Đăng ký xét tuyển 2021 268 câu hỏi Bài kiểm tra tư duy 235 câu hỏi Xác nhận tuyển thẳng 2021 191 câu hỏi Tuyển sinh ĐHBKHN 2020 186 câu hỏi Đăng ký xét tuyển 2022 163 câu hỏi Quy đổi điểm tiếng Anh 125 câu hỏi Xét tuyển Hồ sơ năng lực 2022 (Diện 1.3) 112 câu hỏi Phương thức tuyển sinh 2023 98 câu hỏi Phương thức xét tuyển 83 câu hỏi Thông tin tuyển sinh Đại học Bách khoa Hà Nội Facebook đại học Facebook sau đại học Facebook K69 - DHBKHN Twitter Instagram Youtube Văn phòng: C2-201, C1 - 103, 104, 105 Phone: 024 3869 3108 Fax: 024 38693108 Văn phòng C1 - 201 - Quản lý điểm và xử lý học tập, Đồ án TN, Xét TN Phone: (+8424)38682305 Ban Tuyển sinh-Hướng nghiệp - Phòng 101, Tòa nhà C1B Phone: (+84) 243 868 3408 - 084 868 3408 Văn phòng: B9 - 101, 102 Phone: 024 38692942 VP C7-614M, ĐH Bách khoa Hà Nội, số 1 Đại Cồ Việt, Hà Nội Phone: (+84) 24 38 696 165 Văn phòng Trường CNTT&TT (P505 - Nhà B1) Phone: 024 3869 2463 Văn phòng: C1 - 320 Phone: 024 3869 6211 Fax: 024 3623 1478 Phòng 214, nhà C4, Đại Cồ Việt, Hai Bà Trưng, Hà Nội Phone: 024 38 680 070 Fax: 024 3869 2300 Tầng 7 - nhà D8, Số 1 Đại Cồ Việt, Q.Hai Bà Trưng, Hà Nội Phone: 086 548 5665 P302-304 Nhà C9, Đại học Bách Khoa Hà Nội; Số 1 Đại Cồ Việt, Q. Hai Bà Trưng, Tp. Hà Nội Phone: 024 38 692 304 / 3868.0791 / 0398 698 689 Phòng 209, nhà D4 - ĐH Bách Khoa Hà Nội, Số 1, Đại Cồ Việt, Q.Hai Bà Trưng, Hà Nội Phone: (+84) 24 3869 2201 Phòng 402 nhà D5, Trường ĐHBKHN Phone: 024 3868.1432 Phòng 106 nhà D3, ĐHBK Hà Nội, Số 01 Đại Cồ Việt - Quận Hai Bà Trưng - Hà Nội Phone: 024 3869 2137 Fax: 024 3868 2470 P. 116, Nhà C10, ĐH Bách khoa Hà Nội (Số 1, Đại Cồ Việt, Q.Hai Bà Trưng, Hà Nội) Phone: 024 3869 3350 Fax: 024 3869 3498 Incoming...',\n",
       " 'Thông tin tuyển sinh Đại học Bách khoa Hà Nội HUST ADMISSIONS INFORMATION Danh mục Tin Xem Nhiều Hướng dẫn các bước đăng ký Kỳ thi Đánh giá tư duy 2024 105311 Bản đồ trường Đại học Bách Khoa Hà Nội 89080 Điểm chuẩn trúng tuyển Đại học Bách Khoa Hà Nội năm 2022 87949 Chỉ tiêu - Mã xét tuyển Đại học chính quy 2021 86107 Cách tính điểm xét tuyển của ĐHBK Hà Nội 81311 Cơ sở vật chất trường Đại học Bách Khoa Hà Nội 26-09-2019 Trường Đại học Bách Khoa Hà Nội (Hanoi University of Science and Technology) là một trường đại học kỹ thuật hàng đầu đồng thời cũng là một trong những trung tâm nghiên cứu khoa học và chuyển giao công nghệ lớn nhất của Việt Nam. Trường cũng là thành viên của Hiệp hội các trường đại học kỹ thuật hàng đầu khu vực Châu Á - Thái Bình Dương AOTULE (Asia-Oceania Top University League on Engineering). Trường đã đầu tư cơ sở vật chất tiện nghi, hiện đại phục vụ cho công tác dạy học và nghiên cứu khoa học. 80% giảng đường được đầu tư hệ thống điều hòa công suất lớn với máy chiếu hiện đại, đảm bảo sức khỏe cho sinh viên yên tâm học tập. Hệ thống phòng thí nghiệm đồng bộ với trang thiết bị máy móc hiện đại. Môi trường học tập và khuôn viên Trường trong lành (Trường có diện tích lớn nhất trong nội thành Hà Nội), góp phần xây dựng đời sống sinh viên thân thiện và cởi mở. Trường có khu ký túc xá khang trang, sạch sẽ với các sân bóng đá, bóng chuyền, bóng rổ… phục vụ tốt đời sống sinh viên nội trú. Bên cạnh đó, Trường ĐHBK Hà Nội còn là Trường đại học được đầu tư đồng bộ cơ sở vật chất phục vụ các hoạt động thể thao – văn hóa trong và ngoài Trường như: sân vận động tiêu chuẩn quốc tế, bể bơi, sân tennis, nhà thi đấu thường xuyên tổ chức những hoạt động lớn quy mô thành phố, quốc gia. Cơ sở vật chất Sinh viên được trải nghiệm trong môi trường thân thiện, hệ thống cơ sở vật chất hiện đại, đáp ứng nhu cầu học tập, nghiên cứu, tham gia các hoạt động thể thao, giải trí đa dạng. I. PHÒNG HỌC - GIẢNG ĐƯỜNG Trường Đại học Bách Khoa Hà Nội có tổng diện tích phục vụ giảng dạy, nghiên cứu khoa học và hội họp rộng 26,2 hecta. Trường có hơn 200 giảng đường, phòng học, hội trường lớn và hệ thống phòng hội thảo; gần 200 phòng thí nghiệm, trong đó có 12 phòng thí nghiệm trọng điểm quốc gia và khoảng 20 xưởng thực tập, thực hành. Sinh viên khoa Điện tử viễn thông - ĐHBKHN trong giờ thực hành Nhà D9 Bách Khoa Trong đó có 8 phòng thí nghiệm trọng điểm quốc gia và tương đương; khoảng 20 xưởng thực tập và thực hành. II. CÁC TOÀ NHÀ - THƯ VIỆN Toàn bộ giảng đường được trang bị đầy đủ điều hòa và thiết bị giảng dạy cùng với hệ thống wifi miễn phí trong khuôn viên Trường. Thư viện điện tử Tạ Quang Bửu với diện tích 37.000 m2, có thể phục vụ đồng thời 2.000 sinh viên với 600.000 cuốn sách, 130.000 đầu sách điện tử. Sinh viên được truy cập miễn phí CSDL từ các nguồn như Science Driect, Scopus… Thư viện Tạ Quang Bửu là thư viện lớn và hiện đại, thư viện có hội trường lớn (ở Tầng 10) với sức chứa hàng nghìn người Tổng diện tích đất sử dụng của Trường: 252.857,8 m², nơi làm việc 15.252m², nơi học 78.846m², nơi vui chơi giải trí: 29.321 m², 1 nhà câu lạc bộ sinh viên với 350 chỗ được trang bị âm thanh hiện đại và 1 trung tâm Y tế hoạt động theo mô hình phòng khám đa khoa chăm sóc sức khỏe thường xuyên cho các cán bộ và sinh viên Trường. III. KHU KÝ TÚC XÁ Trường có một khu ký túc xá với 420 phòng, đủ khả năng đáp ứng chỗ ở cho khoảng 4500 sinh viên. Hình ảnh khu ký túc xá sinh viên kỹ thuật tại Bách Khoa. Sinh viên được sử dụng Wifi FREE đến tận giường Khu Ký túc xá nhà B5 IV. CƠ SỞ VẬT CHẤT - RÈN LUYỆN THỂ DỤC THỂ THAO Các hệ thống cơ sở vật chất phục vụ bộ môn giáo dục thể chất và phong trào thể thao của sinh viên đầy đủ và hiện đại với 1 sân bóng tiêu chuẩn quốc gia, 1 nhà thi đấu đa năng tiêu chuẩn Đông Nam Á, 1 bể bơi tiêu chuẩn quốc gia, sân tennis tiêu chuẩn quốc gia... Khu liên hợp thể thao có diện tích 20.000m2 với hệ thống cơ sở vật chất hiện đại, bao gồm: sân bóng, bể bơi, sân tennis tiêu chuẩn quốc gia và nhà thi đấu đa năng tiêu chuẩn Đông Nam Á. 1. Sân vận động diện tích 18.000m2 bao gồm khán đài A - B với sức chứa 7.000 người, trong sân có sân bóng đá, 3 sân bóng chuyền, 1 sân bóng rổ, 1 khu tập thể dục và khu tập điền kinh (chạy 100m, 1500m, nhảy cao, nhảy xa, đẩy tạ, phóng lao…). Có dàn đèn phục vụ tập luyện buổi tối và nhiều phòng phụ trợ dưới khán đài A - B. Đại học Bách khoa có sân bóng tiêu chuẩn quốc gia, một nhà thi đấu đa năng tiêu chuẩn Đông Nam Á 2. Khu bể bơi, sân quần vợt : diện tích 4.800m2 - Bể bơi kích thước 25x50m, có lọc nước tuần hoàn, có khán đài sức chứa 500 người. 3. Nhà tập luyện và thi đấu: diện tích 4.800m2 Nhà tập đa năng có khán đài A - B sức chứa 1258 chỗ ngồi, và được trang bị rất hiện đại, hệ thống thông tin, điều hòa trung tâm và nhiều phòng phụ trợ, văn phòng – phục vụ cho các giải thể thao sinh viên cũng như quốc tế. 4. Khu tập luyện ký túc xá: diện tích 4.000m2 Bao gồm: khu sân bóng rổ, sân tennis, 1 khu tập thể dục dụng cụ và 2 sân bóng đá 7 người. Sân bóng đá nằm ngay sau lưng của tòa nhà B9 Sân bóng với mặt cỏ nhân tạo hiện đại - không gian tập thể thao lý tưởng cho sinh viên Sân tập bóng chuyền cho sinh viên Địa chỉ của trung tâm đặt tại Số 5 Tạ Quang Bửu, Q.Hai Bà Trưng, Hà Nội TS.HUST.EDU.VN Có thể bạn sẽ thích Đề án tuyển sinh năm 2022 Thông báo Tuyển sinh Thạc sĩ Đợt 1.2020 Mở đăng ký Kỳ thi Đánh giá tư duy (TSA) năm 2024 - Đợt 3 Mở đăng ký thi thử đợt 2 Bài thi Đánh giá tư duy năm 2022 ASEA-UNINET Scholarship 2021 Học bổng K65 Thông tin tuyển sinh Đại học Bách khoa Hà Nội Facebook đại học Facebook sau đại học Facebook K69 - DHBKHN Twitter Instagram Youtube Văn phòng: C2-201, C1 - 103, 104, 105 Phone: 024 3869 3108 Fax: 024 38693108 Văn phòng C1 - 201 - Quản lý điểm và xử lý học tập, Đồ án TN, Xét TN Phone: (+8424)38682305 Ban Tuyển sinh-Hướng nghiệp - Phòng 101, Tòa nhà C1B Phone: (+84) 243 868 3408 - 084 868 3408 Văn phòng: B9 - 101, 102 Phone: 024 38692942 VP C7-614M, ĐH Bách khoa Hà Nội, số 1 Đại Cồ Việt, Hà Nội Phone: (+84) 24 38 696 165 Văn phòng Trường CNTT&TT (P505 - Nhà B1) Phone: 024 3869 2463 Văn phòng: C1 - 320 Phone: 024 3869 6211 Fax: 024 3623 1478 Phòng 214, nhà C4, Đại Cồ Việt, Hai Bà Trưng, Hà Nội Phone: 024 38 680 070 Fax: 024 3869 2300 Tầng 7 - nhà D8, Số 1 Đại Cồ Việt, Q.Hai Bà Trưng, Hà Nội Phone: 086 548 5665 P302-304 Nhà C9, Đại học Bách Khoa Hà Nội; Số 1 Đại Cồ Việt, Q. Hai Bà Trưng, Tp. Hà Nội Phone: 024 38 692 304 / 3868.0791 / 0398 698 689 Phòng 209, nhà D4 - ĐH Bách Khoa Hà Nội, Số 1, Đại Cồ Việt, Q.Hai Bà Trưng, Hà Nội Phone: (+84) 24 3869 2201 Phòng 402 nhà D5, Trường ĐHBKHN Phone: 024 3868.1432 Phòng 106 nhà D3, ĐHBK Hà Nội, Số 01 Đại Cồ Việt - Quận Hai Bà Trưng - Hà Nội Phone: 024 3869 2137 Fax: 024 3868 2470 P. 116, Nhà C10, ĐH Bách khoa Hà Nội (Số 1, Đại Cồ Việt, Q.Hai Bà Trưng, Hà Nội) Phone: 024 3869 3350 Fax: 024 3869 3498 Incoming...',\n",
       " 'Please enable javascript to view this site. huongnghiep.hocmai.vn | March 27, 2024 Top Chuyên ngành Kỹ thuật Điện tử - Viễn thông - Đại Học Bách Khoa Hà Nội Review ngành Kỹ thuật Điện tử – Viễn thông Đại học Bách Khoa Hà Nội (HUST): Dùng công nghệ hiện đại thay đổi văn minh nhân loại Khi cuộc cách mạng 4.0 bùng nổ, ngành Kỹ thuật điện tử – Viễn thông trở thành một trong những ngành mở ra nhiều cơ hội nhất cho các bạn trẻ. Là một trong những trường đào tạo hàng đầu về điện tử – viễn thông, Đại học Bách Khoa Hà Nội là cái tên được rất nhiều người chú ý. Hôm nay hãy cùng Huongnghiep.hocmai.vn review chi tiết để các bạn có cái nhìn rõ hơn về ngành Kỹ thuật Điện tử – Viễn thông của ĐHBK HN nhé! Điện tử viễn thông đóng vai trò quan trọng trong cuộc cách mạng 4.0 Mục lục 1. Ngành Kỹ thuật Điện tử – Viễn thông là gì? Kỹ thuật Điện tử – Viễn thông là ngành nghiên cứu về việc ứng dụng kỹ thuật tiên tiến và công nghệ hiện đại nhất để tạo ra các thiết bị vệ tinh, cáp và thiết bị điện tử như: điện thoại, máy tính bảng, máy tính cá nhân, Tivi,…. Nhờ đó giúp con người xây dựng được hệ thống mạng thông tin liên lạc toàn cầu, giúp việc trao đổi thông tin được tiến hành thuận lợi bất chấp thời gian và không gian khác nhau. Ngành này gồm có hai lĩnh vực chính: – Điện tử: Nghiên cứu và chế tạo ra vi mạch điện tử, đây chính là bộ não điều khiển tất cả các hoạt động của thiết bị thông minh – Viễn thông: Nghiên cứu và sử dụng các thiết bị tạo nên mạng viễn thông (thiết bị truyền thông tin từ đầu phát đến đầu thu) gồm có những thành phần chính là: thiết bị truyền dẫn, thiết bị chuyển mạch, thiết bị đầu cuối, môi trường truyền. 2. Ngành Kỹ thuật Điện tử – Viễn thông Đại học Bách Khoa Hà Nội có gì? Khoa Kỹ thuật Điện tử – Viễn thông hiện đang rất hot của Bách Khoa ở hiện tại và cả trong tương lai. Khi theo học, bạn sẽ được lựa chọn một trong các chuyên ngành: – Điện tử và kỹ thuật máy tính: chuyên về lập trình cho các hệ thống nhúng – Kỹ thuật thông tin – truyền thông: chuyên về hệ thống viễn thông, kỹ thuật truyền số liệu. – Kỹ thuật y sinh: chuyên nghiên cứu các thiết bị y tế phục vụ khám chữa bệnh – Kỹ thuật điện tử hàng không vũ trụ: nghiên cứu về các loại máy bay máy bay tự hành – Kỹ thuật Đa phương tiện: nghiên cứu về các thiết bị nghe nhìn, điều chỉnh âm độ của các thiết bị thu âm,… Nội dung chương trình học: Tại Đại học Bách Khoa Hà Nội, bạn có thể theo học hệ cử nhân (4 năm), hệ kỹ sư (5 năm), hệ tích hợp cử nhân – thạc sĩ (5,5 năm) hoặc Hệ Cử nhân – thạc sĩ – tiến sĩ (8,5 năm). Bên cạnh đó, bạn cũng có cơ hội tham gia chương trình song bằng với các đối tác của trường theo mô hình: – 2+2: 2 năm đầu học tại Đại học Bách Khoa Hà Nội, 2 năm cuối sẽ học tại Đại học Wollongong của Úc, được cấp bằng cử nhân của cả 2 trường – 4+2: 4 năm đầu học tại Đại học Bách Khoa Hà Nội, 2 năm sau học tại Đại học Telecom ParisTech của Pháp. Sau 6 năm bạn sẽ nhận được bằng Thạc sĩ của ĐH BK HN và bằng kỹ sư của Đại học Telecom ParisTech. – 4+1+3: 4 năm đầu học tại Đại học Bách Khoa Hà Nội lấy bằng cử nhân của ĐHBKHN, 1 năm tiếp theo học Thạc sĩ tại ĐHBK HN và 3 năm cuối học chương trình Tiến sĩ ở viện KAIST (Hàn Quốc), sau đó bạn sẽ có bằng Tiến sĩ của cả 2 trường. Vẫn chưa hết, sinh viên Kỹ thuật Điện tử – Viễn thông của Đại học Bách Khoa Hà Nội còn có thể chọn học chương trình tiên tiến. Ở đây, ngôn ngữ giảng dạy sẽ hoàn toàn bằng tiếng Anh với đội ngũ giảng viên hàng đầu trong nước và quốc tế. Một lựa chọn khác cho các bạn sinh viên yêu thích điện tử – viễn thông là chương trình liên kết với Đại học Leibniz Hannover (Đức). Một số điểm khác biệt của chương trình này là: – Ngôn ngữ đào tạo bằng tiếng Việt và đến năm 3 bạn sẽ được học một số môn bằng tiếng Đức với giảng viên nước ngoài. – Giai đoạn 1 (4 năm đầu: bạn sẽ học tại Đại Học Bách Khoa Hà Nội theo chương trình thống nhất giữa hai trường, ngôn ngữ học là tiếng Việt và được học tăng cường 5 kỳ tiếng Đức. – Đến giai đoạn 2 bạn sẽ được lựa chọn: + Nếu có đủ điều kiện chuyên môn và ngoại ngữ bạn sẽ chuyển sang học bằng thạc sũ của Đại học ĐH Leibniz Hannover (Đức) +Nếu không chuyển tiếp bạn có thể tiếp tục học tại Đại học Bách Khoa Hà Nội theo chương trình thống nhất giữa hai trườn. Làm luận văn tốt nghiệp bằng tiếng Anh hoặc tiếng Đức. Sau đó nếu có nguyện vọng bạn có thể học tiếp 1 năm để lấy bằng thạc sĩ. 3. Điểm chuẩn ngành Kỹ thuật Điện tử – Viễn thông Đại học Bách Khoa Hà Nội TrườngChuyên ngànhNgành202320222021 Đại Học Bách Khoa Hà Nội Kỹ thuật Điện tử - Viễn thông Kỹ thuật điện tử - viễn thông 66.4664.1726.4625.9924.514.0526.8Ghi chúĐánh giá tư duy Đánh giá tư duy CT tiên tiến Điểm TN THPT Điểm TN THPT CT tiên tiến TN THPT Đánh giá tư duy Đánh giá tư duy CT tiên tiến Điểm TN THPT Điểm TN THPT CT tiên tiến TN THPT 4. Học Kỹ thuật Điện tử – Viễn thông ra trường làm gì? Kỹ thuật Điện tử – Viễn thông: Ngành học mở ra nhiều cơ hội Qua những phần trên bạn cũng hiểu được Kỹ thuật Điện tử – Viễn thông là ngành “thay đổi văn minh nhân loại”. Chính vì vậy cơ hội nghề nghiệp cho ngành này vô cùng lớn. Bạn có thể làm việc tại: – Các doanh nghiệp nghiên cứu, sản xuất, phát triển các sản phẩm điện tử: chuyên viên tư vấn, vận hành, thiết kế, điều hành kỹ thuật; chuyên gia thiết kế chipset (bộ phận không thể thiếu của các thiết bị thông minh); nghiên cứu viên phát triển sản phẩm thiết bị điện tử, công nghệ ứng dụng như truyền vẫn vật lý ứng dụng, công nghệ di động,… – Công ty cung cấp dịch vụ internet: Kỹ sư thiết kế và xây dựng hệ thống hạ tầng truy cập internet; kỹ sư sư phân tích tích hợp các hệ thống, dịch vụ gia tăng, ứng dụng trên các cơ sở hạ tầng sẵn có. – Công ty viên thông: chuyên viên thiết kế truyền dẫn, bảo trì, vận hành; chuyên viên quy hoạch, thiết kế mạng và tối ưu mạng; trưởng bộ phận kỹ thuật,… – Đài phát thanh truyền hình, công ty tư vấn mạng viễn thông: chuyên viên thiết kế, tư vấn, vận hành, điều hành kỹ thuật – Các hãng thiết bị: chuyên viên quản lý kỹ thuật và sản phẩm, quản lý dự án kinh doanh – Các tập đoàn, công ty đa quốc gia về Điện tử – Viễn thông Theo thống kê, 95% sinh viên khoa Kỹ thuật Điện tử – Viễn thông Đại học Bách Khoa Hà Nội có việc làm ngay sau một năm tốt nghiệp với mức lương khởi điểm từ 8-20 triệu đồng. Điều này đủ thấy được sức hấp dẫn của ngành đáng để các bạn cân nhắc đúng không nào! Tin tức mới nhất']"
      ]
     },
     "execution_count": 14,
     "metadata": {},
     "output_type": "execute_result"
    }
   ],
   "source": [
    "read_vi"
   ]
  },
  {
   "cell_type": "code",
   "execution_count": 27,
   "metadata": {},
   "outputs": [],
   "source": [
    "from unidecode import unidecode\n",
    "import re\n",
    "\n",
    "def normalize_text(text):\n",
    "    \"\"\"\n",
    "    Normalize Vietnamese text by converting it to its ASCII representation and removing accents.\n",
    "    \n",
    "    Args:\n",
    "    text (str): Input Vietnamese text to be normalized.\n",
    "    \n",
    "    Returns:\n",
    "    str: Normalized text with accents removed.\n",
    "    \"\"\"\n",
    "    normalized_text = unidecode(text)\n",
    "    normalized_text = re.sub(r'\\s+', ' ', normalized_text).strip()\n",
    "    return normalized_text\n"
   ]
  },
  {
   "cell_type": "code",
   "execution_count": 28,
   "metadata": {},
   "outputs": [],
   "source": [
    "hypos = [' '.join(normalize_text(hypo) for hypo in hypos)]"
   ]
  },
  {
   "cell_type": "code",
   "execution_count": 29,
   "metadata": {},
   "outputs": [
    {
     "data": {
      "text/plain": [
       "['# Tong quan ve nganh Dien tu - Vien thong cua Dai hoc Bach Khoa Ha Noi  Nganh Dien tu - Vien thong cua Dai hoc Bach Khoa Ha Noi (HUST) la mot trong nhung nganh hoc chu chot, phan anh su phat trien manh me cua cong nghe thong tin va truyen thong trong ky nguyen so hien nay. Duoc biet den la mot trong nhung truong dai hoc hang dau Viet Nam, HUST khong chi cung cap mot nen giao duc chat luong cao ma con la noi hinh thanh nen nhung ky su tai nang, san sang dap ung nhu cau nhan luc chat luong cao cua nganh cong nghiep nay khong chi o Viet Nam ma con tren toan the gioi.  ## Chuong trinh dao tao  Chuong trinh dao tao nganh Dien tu - Vien thong tai HUST duoc thiet ke de trang bi cho sinh vien mot nen tang kien thuc vung chac, bao gom ca ly thuyet va thuc hanh. Chuong trinh bao gom cac khoi kien thuc toan hoc va khoa hoc co ban, kien thuc co so nganh, kien thuc bo tro xa hoi va ky nang mem, cung nhu khoi kien thuc tu chon chuyen sau theo cac dinh huong ky thuat khac nhau nhu dien tu, may tinh, thong tin truyen thong, y sinh, hang khong vu tru, da phuong tien, vi dien tu va cong nghe nano (HUST, n.d.).  Sinh vien co co hoi tham gia vao cac chuong trinh song bang voi cac truong dai hoc doi tac quoc te, mo rong co hoi hoc tap va nghien cuu trong moi truong quoc te. Dieu nay khong chi giup sinh vien nang cao trinh do chuyen mon ma con phat trien ky nang lam viec trong moi truong da van hoa, da ngon ngu, mot loi the canh tranh quan trong trong thi truong lao dong toan cau hien nay (HUST, n.d.).  ## Co hoi nghe nghiep  Voi su phat trien khong ngung cua cong nghe, nganh Dien tu - Vien thong dang chung kien mot nhu cau lon ve nhan luc chat luong cao. Sinh vien tot nghiep tu HUST co the dam nhan nhieu vi tri cong viec khac nhau trong linh vuc nay, tu ky su thiet ke, van hanh thiet bi va he thong dien tu vien thong, den nghien cuu va phat trien trong cac linh vuc nhu vien thong, Internet, phan cung va phan mem cho thiet bi thong minh (HUST, n.d.).  Theo thong ke, 95% sinh vien khoa Ky thuat Dien tu - Vien thong Dai hoc Bach Khoa Ha Noi co viec lam ngay sau mot nam tot nghiep voi muc luong khoi diem tu 8-20 trieu dong, phan anh suc hap dan cua nganh doi voi thi truong lao dong (Hocmai.vn, n.d.).  ## Co so vat chat va moi truong hoc tap  Dai hoc Bach Khoa Ha Noi da dau tu manh me vao co so vat chat de ho tro cong tac giang day va nghien cuu. He thong phong thi nghiem dong bo, trang thiet bi may moc hien dai, cung voi cac giang duong duoc trang bi day du tien nghi, tao dieu kien tot nhat cho sinh vien trong qua trinh hoc tap va thuc hanh (HUST, n.d.).  ## Hoc phi va hoc bong  Hoc phi cho chuong trinh dao tao duoc cap nhat thuong xuyen tren trang web cua truong, va sinh vien co co hoi nhan hoc bong tu truong, cac doanh nghiep, va cac truong dai hoc quoc te doi tac. Ti le sinh vien di du hoc co hoc bong hang nam chiem tren 20% tong so sinh vien tot nghiep, mot con so an tuong cho thay chat luong dao tao va su quan tam cua truong doi voi su phat trien cua sinh vien (HUST, n.d.).  ## Ket luan  Nganh Dien tu - Vien thong tai Dai hoc Bach Khoa Ha Noi khong chi cung cap mot chuong trinh dao tao chat luong cao ma con mo ra co hoi nghe nghiep rong lon cho sinh vien trong thoi dai so. Voi su dau tu manh me vao co so vat chat, chuong trinh hoc linh hoat va co hoi hoc bong hap dan, HUST dang la diem den ly tuong cho nhung ai muon theo duoi su nghiep trong linh vuc Dien tu - Vien thong.']"
      ]
     },
     "execution_count": 29,
     "metadata": {},
     "output_type": "execute_result"
    }
   ],
   "source": [
    "hypos"
   ]
  },
  {
   "cell_type": "code",
   "execution_count": 30,
   "metadata": {},
   "outputs": [],
   "source": [
    "refs = [normalize_text(ref) for ref in refs]"
   ]
  },
  {
   "cell_type": "code",
   "execution_count": 31,
   "metadata": {},
   "outputs": [
    {
     "data": {
      "text/plain": [
       "['Thong tin tuyen sinh Dai hoc Bach khoa Ha Noi HUST ADMISSIONS INFORMATION Tong quan Ngon ngu dao tao: Tieng Viet Ma xet tuyen: ET1 Chi tieu tuyen sinh: 480 Chuong trinh chuan Ky thuat Dien tu Vien thong la gi? Nganh Dien tu - Vien thong la mot trong nhung nganh mui nhon cua cuoc Cach mang cong nghiep lan thu 4 va la nganh co nhu cau cao ve nhan luc o Viet Nam va tren the gioi. Theo hoc nganh nay, sinh vien duoc trang bi mot cach toan dien ca ve ky nang chuyen mon va ky nang mem de co the thiet ke, che tao, van hanh cac thiet bi va he thong dien tu vien thong, dap ung duoc yeu cau ve tinh nang dong va sang tao cua linh vuc nghe nghiep nay. Chuong trinh ky thuat Dien tu- Vien thong duoc giang day bang tieng Viet va duoc thiet ke bao gom khoi kien thuc toan hoc va khoa hoc co ban, khoi kien thuc co so cot loi nganh Dien tu -Vien thong, khoi kien thuc bo tro kien thuc xa hoi va ky nang mem va khoi kien thuc tu chon chuyen sau theo cac dinh huong ky thuat dien tu, ky thuat may tinh, ky thuat thong tin truyen thong, ky thuat y sinh, ky thuat dien tu hang khong vu tru, ky thuat da phuong tien, ky thuat vi dien tu va cong nghe nano. Chuong trinh dao tao Xem chi tiet Noi dung chuong trinh Kien thuc va ky nang dat duoc sau khi tot nghiep Kien thuc Ky nang Ngoai ngu: Thoi gian dao tao va kha nang hoc tap len bac dai hoc Hoc phi - Hoc bong Vi tri cong viec Co hoi viec lam Co hoi hoc bong Lien he de co them thong tin Thong tin tuyen sinh Dai hoc Bach khoa Ha Noi Facebook dai hoc Facebook sau dai hoc Facebook K69 - DHBKHN Twitter Instagram Youtube Van phong: C2-201, C1 - 103, 104, 105 Phone: 024 3869 3108 Fax: 024 38693108 Van phong C1 - 201 - Quan ly diem va xu ly hoc tap, Do an TN, Xet TN Phone: (+8424)38682305 Ban Tuyen sinh-Huong nghiep - Phong 101, Toa nha C1B Phone: (+84) 243 868 3408 - 084 868 3408 Van phong: B9 - 101, 102 Phone: 024 38692942 VP C7-614M, DH Bach khoa Ha Noi, so 1 Dai Co Viet, Ha Noi Phone: (+84) 24 38 696 165 Van phong Truong CNTT&TT (P505 - Nha B1) Phone: 024 3869 2463 Van phong: C1 - 320 Phone: 024 3869 6211 Fax: 024 3623 1478 Phong 214, nha C4, Dai Co Viet, Hai Ba Trung, Ha Noi Phone: 024 38 680 070 Fax: 024 3869 2300 Tang 7 - nha D8, So 1 Dai Co Viet, Q.Hai Ba Trung, Ha Noi Phone: 086 548 5665 P302-304 Nha C9, Dai hoc Bach Khoa Ha Noi; So 1 Dai Co Viet, Q. Hai Ba Trung, Tp. Ha Noi Phone: 024 38 692 304 / 3868.0791 / 0398 698 689 Phong 209, nha D4 - DH Bach Khoa Ha Noi, So 1, Dai Co Viet, Q.Hai Ba Trung, Ha Noi Phone: (+84) 24 3869 2201 Phong 402 nha D5, Truong DHBKHN Phone: 024 3868.1432 Phong 106 nha D3, DHBK Ha Noi, So 01 Dai Co Viet - Quan Hai Ba Trung - Ha Noi Phone: 024 3869 2137 Fax: 024 3868 2470 P. 116, Nha C10, DH Bach khoa Ha Noi (So 1, Dai Co Viet, Q.Hai Ba Trung, Ha Noi) Phone: 024 3869 3350 Fax: 024 3869 3498 Incoming...',\n",
       " 'CTTT Ky thuat Dien tu - Vien thong Chuong trinh tien tien Ky thuat Dien tu - Vien thong ( Ma tuyen sinh: ET-E4) (Chuong trinh thuoc Vien Dien tu Vien thong) Cac dac diem noi bat Chuong trinh duoc giang day hoan toan bang tieng Anh va do cac giang vien cua truong DHBK Ha Noi va cac giang vien nuoc ngoai tham gia giang day. Sinh vien co the tham gia chuong trinh song bang voi cac truong Dai hoc doi tac nhu Wollongong - Uc (2+2, 3+1), Telecom ParisTech - Phap (4+2), Vien KAIST - Han Quoc. Ngoai ra, sau khi hoc xong chuong trinh cu nhan 4 nam, sinh vien co the theo hoc chuong trinh thac si tai truong San Jose State University. Vi tri viec lam Ky su lam trong linh vuc Ky thuat Vien thong nhu doanh nghiep cung cap dich vu mang co dinh hoac di dong, ISP. Ky su phat trien phan mem, thiet ke phan cung va he thong nhung. Ky su nghien cuu va phat trien trong cac linh vuc vien thong, Internet, phan cung va phan mem cho thiet bi thong minh nhu thiet bi di dong, thiet bi IoT, thiet bi y te. Ky su van hanh he thong mang vien thong, he thong dien tu cong nghiep. Chuyen gia tu van giai phap, ban hang cac san pham dien tu va vien thong. Muc luong khoi diem 12 trieu den 20 trieu dong/thang. Co hoi hoc bong Sinh vien co co hoi nhan hoc bong cua Truong, hoc bong trao doi sinh vien tu cac doanh nghiep va cac truong Dai hoc quoc te la doi tac cua Vien Dien tu- Vien thong. Ti le sinh vien di du hoc co hoc bong hang nam chien tren 20% tong so sinh vien tot nghiep. De cuong chuong trinh Tac gia: Truong Thu Huong Nhung tin moi hon Co hoi du hoc DTTT - DTVT - Nhan vat & Su kien DTTT - DTVT - Tuyen sinh Gioi thieu bai viet cho ban be',\n",
       " 'Thong tin tuyen sinh Dai hoc Bach khoa Ha Noi HUST ADMISSIONS INFORMATION Nganh dien tu vien thong Dang nhap hoac Dang ky de tao cau hoi Cau hoi moi nhat Le Giang So sanh nganh Dien tu vien thong truyen thong va nganh moi Truyen thong so va Da Phuong tien a Chao em, Cau hoi so sanh ve 2 nganh nay, em hay lien he toi Vien Dien tu - Vien thong Le Giang Tra loi luc 12:55 27/09/2021 Le Giang So sanh nganh Dien tu vien thong truyen thong va nganh moi Truyen thong so va Da Phuong tien a Chao em, Cau hoi so sanh ve 2 nganh nay, em hay lien he toi Vien Dien tu - Vien thong Le Giang Tra loi luc 12:55 27/09/2021 Le Giang Van de ve lua chon chuong trinh hoc: Dien tu vien thong - He thong nhung thong minh va IoT Chao em, Ve cau hoi thu nhat, hai chuong trinh Dien tu vien thong va He thong nhung IoT co nhung khac biet nao? Hai chuong trinh nay cung thuoc Vien Dien tu Vien thong nen ve kien thuc chung thi van hoc ve mach dien tu tuong tu va mach so, hoc ve cac loai vi dieu khien va lap trinh cac he thong nhung. Tuy nhien thi do Dien tu Vien thong co nhieu mang nhu Dien tu, Vien thong, IoT, ha tang mang nen ve muc do chuyen sau thi chuong trinh He thong Nhung va IoT co muc do chuyen sau hon ve lap trinh he thong Nhung. Tuy nhien de lap trinh Nhung duoc tot thi kien thuc dien tu co ban van can co. Cau hoi thu hai thi hoc chuong trinh chuan Dien tu Vien thong la hoan toan co the lam tot cac yeu cau cua lap trinh Nhung. Nhung ban than sinh vien phai co dinh huong ro rang trong qua trinh chon huong di nghe nghiep do Dien tu Vien thong bao ham nhieu chuyen nganh. Le Giang Tra loi luc 13:01 18/09/2020 Le Giang Review ve (ET1) Ky thuat Dien tu - Vien thong. Co giong cong nghe thong tin khong a, co hoc lap trinh khong? Chao em, Nganh dien tu vien thong (nhu ET1) co hoc ca ve lap trinh va thiet ke vi mach. Phan lap trinh se khong di sau nhu ben nganh Cong nghe thong tin (dien hinh la IT1 va IT2) ma chu yeu se ket hop lap trinh va thiet ke phan cung vi mach de tao ra san pham. Vi du tao ra 1 canh tay robot trong nha may, che tao ra nhung robot trong cuoc thi sang tao robocon... Le Giang Tra loi luc 14:10 21/09/2020 Le Giang Chuong trinh tien tien Ky thuat y sinh co nhieu con gai hoc khong? Doi hoi thong minh khong? Theo thong ke nhung nam gan day thi ti le sinh vien nu theo hoc chuong trinh tien tien ky thuat y sinh la 30%. Nganh nay cung rat phu hop voi cac ban nu em nhe. Thay nghi la de vao duoc truong Dai hoc Bach khoa Ha Noi thi chac chan em cung phai thong minh roi. De tim hieu them ve nganh y sinh, em co the vao website: http://bme.hust.edu.vn. Chuc em thi tot va duoc vao hoc nganh ma em yeu thich. Tra loi tu Vien Dien tu vien thong - http://set.hust.edu.vn Le Giang Tra loi luc 19:35 20/09/2020 Le Giang So sanh Nganh Dien tu - vien thong va Nganh Cong nghe thong tin. Neu do DTVT nhung muon hoc nganh Ky thuat thong tin truyen thong thi sao? Nganh Dien tu-vien thong va nganh Cong nghe thong tin la hai nganh rat gan voi nhau. Neu hoc hai nganh nay em deu hoc ca ve phan cung va phan mem cua he thong xu ly thong tin. Tuy nhien, dien tu- vien thong tap trung sau hon vao phan cung con cong nghe thong tin tap trung sau hon vao phan mem. Vi vay doi voi cong viec lap trinh, ky su cong nghe thong tin se phu hop nhat cho viec lap trinh cho may tinh va he thong may tinh con ky su dien tu vien thong phu hop nhat cho lap trinh thiet bi (hay con goi la lap trinh nhung). Trong khi do neu em yeu thich cong viec thiet ke phan cung thiet bi dien tu thi dien tu vien thong la su lua chon phu hop nhat. Neu em dang ky ET1 hoc nganh dien tu-vien thong thi den nam thu 5 em se co the chon dinh huong ky thuat thong tin truyen thong va viec chon dinh huong nay la dap ung hoan toan theo nguyen vong cua sinh vien, khong phu thuoc vao ket qua hoc tap. Chuc em thi tot va duoc vao hoc nganh ma em yeu thich. Tra loi tu Vien Dien tu vien thong - http://set.hust.edu.vn Le Giang Tra loi luc 19:30 20/09/2020 Le Giang Em muon hoc cach lam duoc nhung thiet bi dung trong gia dinh nhu cai sac dien thoai hay lam mot he thong cam ung thi phai hoc Co dien tu hay Dien dien tu a? Neu em dam me viec thiet ke va che tao phan dien tu cua cac thiet bi dien tu nhu dien thoai di dong, TV, sac dien thoai, he thong chong trom trong gia dinh, dau thu truyen hinh ky thuat so ... thi lua chon tot nhat cua em la hoc Ky thuat Dien tu vien thong ET1. (Chi tiet nganh: https://ts.hust.edu.vn/asset/-/asset_publisher/ddNQG1HrIiqp/content/ky-thuat-ien-tu-vien-thong ) Hoc nganh nay khong nhung em duoc hoc thiet ke phan cung cac thiet bi dien tu ma con duoc hoc lap trinh cho cac thiet bi do. Chuc em thi tot va duoc vao hoc nganh ma em mong muon. Tra loi tu Vien Dien tu vien thong - http://set.hust.edu.vn Le Giang Tra loi luc 19:29 20/09/2020 Le Giang Em muon hoc Ky thuat y sinh nhung em dang phan van khong biet nganh ky thuat y sinh quoc te va ky thuat y sinh (Vien dien tu vien thong) co gi khac nhau? Va con duong nao de xin viec hon? Neu em muon hoc ky thuat y sinh thi co the dang ky nganh ET1 voi chuyen nganh Ky thuat y sinh hoc bang tieng Viet hoac dang ky ET-E5 Ky thuat y sinh hoc hoan toan bang tieng Anh. Ca hai chuong trinh deu thuoc Vien Dien tu - Vien thong va deu do cung doi ngu giang vien giang day. Sinh vien tot nghiep ca hai chuong trinh nay deu de xin viec. Tuy nhien, voi loi the tieng Anh tot thi sinh vien hoc ET-E5 co nhieu co hoi tot lam viec cho cac cong ty nuoc ngoai. De tim hieu them ve nganh y sinh, em co the vao website: http://bme.hust.edu.vn. Chuc em thi tot va duoc vao hoc nganh ma em mong muon. Tra loi tu Vien Dien tu vien thong - http://set.hust.edu.vn Le Giang Tra loi luc 19:26 20/09/2020 Le Giang Nganh Dien tu vien thong DH Bach Khoa Ha Noi. Hoc nhung gi? Lam nhung gi? Chua co cau tra loi! Chu de duoc quan tam Tat ca Xet tuyen tai nang 329 cau hoi Dang ky xet tuyen 2021 268 cau hoi Bai kiem tra tu duy 235 cau hoi Xac nhan tuyen thang 2021 191 cau hoi Tuyen sinh DHBKHN 2020 186 cau hoi Dang ky xet tuyen 2022 163 cau hoi Quy doi diem tieng Anh 125 cau hoi Xet tuyen Ho so nang luc 2022 (Dien 1.3) 112 cau hoi Phuong thuc tuyen sinh 2023 98 cau hoi Phuong thuc xet tuyen 83 cau hoi Thong tin tuyen sinh Dai hoc Bach khoa Ha Noi Facebook dai hoc Facebook sau dai hoc Facebook K69 - DHBKHN Twitter Instagram Youtube Van phong: C2-201, C1 - 103, 104, 105 Phone: 024 3869 3108 Fax: 024 38693108 Van phong C1 - 201 - Quan ly diem va xu ly hoc tap, Do an TN, Xet TN Phone: (+8424)38682305 Ban Tuyen sinh-Huong nghiep - Phong 101, Toa nha C1B Phone: (+84) 243 868 3408 - 084 868 3408 Van phong: B9 - 101, 102 Phone: 024 38692942 VP C7-614M, DH Bach khoa Ha Noi, so 1 Dai Co Viet, Ha Noi Phone: (+84) 24 38 696 165 Van phong Truong CNTT&TT (P505 - Nha B1) Phone: 024 3869 2463 Van phong: C1 - 320 Phone: 024 3869 6211 Fax: 024 3623 1478 Phong 214, nha C4, Dai Co Viet, Hai Ba Trung, Ha Noi Phone: 024 38 680 070 Fax: 024 3869 2300 Tang 7 - nha D8, So 1 Dai Co Viet, Q.Hai Ba Trung, Ha Noi Phone: 086 548 5665 P302-304 Nha C9, Dai hoc Bach Khoa Ha Noi; So 1 Dai Co Viet, Q. Hai Ba Trung, Tp. Ha Noi Phone: 024 38 692 304 / 3868.0791 / 0398 698 689 Phong 209, nha D4 - DH Bach Khoa Ha Noi, So 1, Dai Co Viet, Q.Hai Ba Trung, Ha Noi Phone: (+84) 24 3869 2201 Phong 402 nha D5, Truong DHBKHN Phone: 024 3868.1432 Phong 106 nha D3, DHBK Ha Noi, So 01 Dai Co Viet - Quan Hai Ba Trung - Ha Noi Phone: 024 3869 2137 Fax: 024 3868 2470 P. 116, Nha C10, DH Bach khoa Ha Noi (So 1, Dai Co Viet, Q.Hai Ba Trung, Ha Noi) Phone: 024 3869 3350 Fax: 024 3869 3498 Incoming...',\n",
       " 'Thong tin tuyen sinh Dai hoc Bach khoa Ha Noi HUST ADMISSIONS INFORMATION Danh muc Tin Xem Nhieu Huong dan cac buoc dang ky Ky thi Danh gia tu duy 2024 105312 Ban do truong Dai hoc Bach Khoa Ha Noi 89080 Diem chuan trung tuyen Dai hoc Bach Khoa Ha Noi nam 2022 87949 Chi tieu - Ma xet tuyen Dai hoc chinh quy 2021 86107 Cach tinh diem xet tuyen cua DHBK Ha Noi 81311 Co so vat chat truong Dai hoc Bach Khoa Ha Noi 26-09-2019 Truong Dai hoc Bach Khoa Ha Noi (Hanoi University of Science and Technology) la mot truong dai hoc ky thuat hang dau dong thoi cung la mot trong nhung trung tam nghien cuu khoa hoc va chuyen giao cong nghe lon nhat cua Viet Nam. Truong cung la thanh vien cua Hiep hoi cac truong dai hoc ky thuat hang dau khu vuc Chau A - Thai Binh Duong AOTULE (Asia-Oceania Top University League on Engineering). Truong da dau tu co so vat chat tien nghi, hien dai phuc vu cho cong tac day hoc va nghien cuu khoa hoc. 80% giang duong duoc dau tu he thong dieu hoa cong suat lon voi may chieu hien dai, dam bao suc khoe cho sinh vien yen tam hoc tap. He thong phong thi nghiem dong bo voi trang thiet bi may moc hien dai. Moi truong hoc tap va khuon vien Truong trong lanh (Truong co dien tich lon nhat trong noi thanh Ha Noi), gop phan xay dung doi song sinh vien than thien va coi mo. Truong co khu ky tuc xa khang trang, sach se voi cac san bong da, bong chuyen, bong ro... phuc vu tot doi song sinh vien noi tru. Ben canh do, Truong DHBK Ha Noi con la Truong dai hoc duoc dau tu dong bo co so vat chat phuc vu cac hoat dong the thao - van hoa trong va ngoai Truong nhu: san van dong tieu chuan quoc te, be boi, san tennis, nha thi dau thuong xuyen to chuc nhung hoat dong lon quy mo thanh pho, quoc gia. Co so vat chat Sinh vien duoc trai nghiem trong moi truong than thien, he thong co so vat chat hien dai, dap ung nhu cau hoc tap, nghien cuu, tham gia cac hoat dong the thao, giai tri da dang. I. PHONG HOC - GIANG DUONG Truong Dai hoc Bach Khoa Ha Noi co tong dien tich phuc vu giang day, nghien cuu khoa hoc va hoi hop rong 26,2 hecta. Truong co hon 200 giang duong, phong hoc, hoi truong lon va he thong phong hoi thao; gan 200 phong thi nghiem, trong do co 12 phong thi nghiem trong diem quoc gia va khoang 20 xuong thuc tap, thuc hanh. Sinh vien khoa Dien tu vien thong - DHBKHN trong gio thuc hanh Nha D9 Bach Khoa Trong do co 8 phong thi nghiem trong diem quoc gia va tuong duong; khoang 20 xuong thuc tap va thuc hanh. II. CAC TOA NHA - THU VIEN Toan bo giang duong duoc trang bi day du dieu hoa va thiet bi giang day cung voi he thong wifi mien phi trong khuon vien Truong. Thu vien dien tu Ta Quang Buu voi dien tich 37.000 m2, co the phuc vu dong thoi 2.000 sinh vien voi 600.000 cuon sach, 130.000 dau sach dien tu. Sinh vien duoc truy cap mien phi CSDL tu cac nguon nhu Science Driect, Scopus... Thu vien Ta Quang Buu la thu vien lon va hien dai, thu vien co hoi truong lon (o Tang 10) voi suc chua hang nghin nguoi Tong dien tich dat su dung cua Truong: 252.857,8 m2, noi lam viec 15.252m2, noi hoc 78.846m2, noi vui choi giai tri: 29.321 m2, 1 nha cau lac bo sinh vien voi 350 cho duoc trang bi am thanh hien dai va 1 trung tam Y te hoat dong theo mo hinh phong kham da khoa cham soc suc khoe thuong xuyen cho cac can bo va sinh vien Truong. III. KHU KY TUC XA Truong co mot khu ky tuc xa voi 420 phong, du kha nang dap ung cho o cho khoang 4500 sinh vien. Hinh anh khu ky tuc xa sinh vien ky thuat tai Bach Khoa. Sinh vien duoc su dung Wifi FREE den tan giuong Khu Ky tuc xa nha B5 IV. CO SO VAT CHAT - REN LUYEN THE DUC THE THAO Cac he thong co so vat chat phuc vu bo mon giao duc the chat va phong trao the thao cua sinh vien day du va hien dai voi 1 san bong tieu chuan quoc gia, 1 nha thi dau da nang tieu chuan Dong Nam A, 1 be boi tieu chuan quoc gia, san tennis tieu chuan quoc gia... Khu lien hop the thao co dien tich 20.000m2 voi he thong co so vat chat hien dai, bao gom: san bong, be boi, san tennis tieu chuan quoc gia va nha thi dau da nang tieu chuan Dong Nam A. 1. San van dong dien tich 18.000m2 bao gom khan dai A - B voi suc chua 7.000 nguoi, trong san co san bong da, 3 san bong chuyen, 1 san bong ro, 1 khu tap the duc va khu tap dien kinh (chay 100m, 1500m, nhay cao, nhay xa, day ta, phong lao...). Co dan den phuc vu tap luyen buoi toi va nhieu phong phu tro duoi khan dai A - B. Dai hoc Bach khoa co san bong tieu chuan quoc gia, mot nha thi dau da nang tieu chuan Dong Nam A 2. Khu be boi, san quan vot : dien tich 4.800m2 - Be boi kich thuoc 25x50m, co loc nuoc tuan hoan, co khan dai suc chua 500 nguoi. 3. Nha tap luyen va thi dau: dien tich 4.800m2 Nha tap da nang co khan dai A - B suc chua 1258 cho ngoi, va duoc trang bi rat hien dai, he thong thong tin, dieu hoa trung tam va nhieu phong phu tro, van phong - phuc vu cho cac giai the thao sinh vien cung nhu quoc te. 4. Khu tap luyen ky tuc xa: dien tich 4.000m2 Bao gom: khu san bong ro, san tennis, 1 khu tap the duc dung cu va 2 san bong da 7 nguoi. San bong da nam ngay sau lung cua toa nha B9 San bong voi mat co nhan tao hien dai - khong gian tap the thao ly tuong cho sinh vien San tap bong chuyen cho sinh vien Dia chi cua trung tam dat tai So 5 Ta Quang Buu, Q.Hai Ba Trung, Ha Noi TS.HUST.EDU.VN Co the ban se thich Nhung chung chi quoc te nao duoc xet tuyen thang DHBK Ha Noi? Thong cao bao chi: Ve viec chuyen Truong Dai hoc Bach khoa Ha Noi thanh Dai hoc Bach khoa Ha Noi DH Bach Khoa Ha Noi co 4 nhom nganh lot TOP 351-400 va 451-500 xep hang Quacquarelli Symonds Quy che tham du Bai kiem tra tu duy ngay 15.8.2020 Lich hoc on tap Cao hoc Dot 1.2020 Huong dan dang ky xet tuyen tai nang 2023 - Dang ky tai khoan Thong tin tuyen sinh Dai hoc Bach khoa Ha Noi Facebook dai hoc Facebook sau dai hoc Facebook K69 - DHBKHN Twitter Instagram Youtube Van phong: C2-201, C1 - 103, 104, 105 Phone: 024 3869 3108 Fax: 024 38693108 Van phong C1 - 201 - Quan ly diem va xu ly hoc tap, Do an TN, Xet TN Phone: (+8424)38682305 Ban Tuyen sinh-Huong nghiep - Phong 101, Toa nha C1B Phone: (+84) 243 868 3408 - 084 868 3408 Van phong: B9 - 101, 102 Phone: 024 38692942 VP C7-614M, DH Bach khoa Ha Noi, so 1 Dai Co Viet, Ha Noi Phone: (+84) 24 38 696 165 Van phong Truong CNTT&TT (P505 - Nha B1) Phone: 024 3869 2463 Van phong: C1 - 320 Phone: 024 3869 6211 Fax: 024 3623 1478 Phong 214, nha C4, Dai Co Viet, Hai Ba Trung, Ha Noi Phone: 024 38 680 070 Fax: 024 3869 2300 Tang 7 - nha D8, So 1 Dai Co Viet, Q.Hai Ba Trung, Ha Noi Phone: 086 548 5665 P302-304 Nha C9, Dai hoc Bach Khoa Ha Noi; So 1 Dai Co Viet, Q. Hai Ba Trung, Tp. Ha Noi Phone: 024 38 692 304 / 3868.0791 / 0398 698 689 Phong 209, nha D4 - DH Bach Khoa Ha Noi, So 1, Dai Co Viet, Q.Hai Ba Trung, Ha Noi Phone: (+84) 24 3869 2201 Phong 402 nha D5, Truong DHBKHN Phone: 024 3868.1432 Phong 106 nha D3, DHBK Ha Noi, So 01 Dai Co Viet - Quan Hai Ba Trung - Ha Noi Phone: 024 3869 2137 Fax: 024 3868 2470 P. 116, Nha C10, DH Bach khoa Ha Noi (So 1, Dai Co Viet, Q.Hai Ba Trung, Ha Noi) Phone: 024 3869 3350 Fax: 024 3869 3498 Incoming...',\n",
       " 'Please enable javascript to view this site. huongnghiep.hocmai.vn | March 27, 2024 Top Chuyen nganh Ky thuat Dien tu - Vien thong - Dai Hoc Bach Khoa Ha Noi Review nganh Ky thuat Dien tu - Vien thong Dai hoc Bach Khoa Ha Noi (HUST): Dung cong nghe hien dai thay doi van minh nhan loai Khi cuoc cach mang 4.0 bung no, nganh Ky thuat dien tu - Vien thong tro thanh mot trong nhung nganh mo ra nhieu co hoi nhat cho cac ban tre. La mot trong nhung truong dao tao hang dau ve dien tu - vien thong, Dai hoc Bach Khoa Ha Noi la cai ten duoc rat nhieu nguoi chu y. Hom nay hay cung Huongnghiep.hocmai.vn review chi tiet de cac ban co cai nhin ro hon ve nganh Ky thuat Dien tu - Vien thong cua DHBK HN nhe! Dien tu vien thong dong vai tro quan trong trong cuoc cach mang 4.0 Muc luc 1. Nganh Ky thuat Dien tu - Vien thong la gi? Ky thuat Dien tu - Vien thong la nganh nghien cuu ve viec ung dung ky thuat tien tien va cong nghe hien dai nhat de tao ra cac thiet bi ve tinh, cap va thiet bi dien tu nhu: dien thoai, may tinh bang, may tinh ca nhan, Tivi,.... Nho do giup con nguoi xay dung duoc he thong mang thong tin lien lac toan cau, giup viec trao doi thong tin duoc tien hanh thuan loi bat chap thoi gian va khong gian khac nhau. Nganh nay gom co hai linh vuc chinh: - Dien tu: Nghien cuu va che tao ra vi mach dien tu, day chinh la bo nao dieu khien tat ca cac hoat dong cua thiet bi thong minh - Vien thong: Nghien cuu va su dung cac thiet bi tao nen mang vien thong (thiet bi truyen thong tin tu dau phat den dau thu) gom co nhung thanh phan chinh la: thiet bi truyen dan, thiet bi chuyen mach, thiet bi dau cuoi, moi truong truyen. 2. Nganh Ky thuat Dien tu - Vien thong Dai hoc Bach Khoa Ha Noi co gi? Khoa Ky thuat Dien tu - Vien thong hien dang rat hot cua Bach Khoa o hien tai va ca trong tuong lai. Khi theo hoc, ban se duoc lua chon mot trong cac chuyen nganh: - Dien tu va ky thuat may tinh: chuyen ve lap trinh cho cac he thong nhung - Ky thuat thong tin - truyen thong: chuyen ve he thong vien thong, ky thuat truyen so lieu. - Ky thuat y sinh: chuyen nghien cuu cac thiet bi y te phuc vu kham chua benh - Ky thuat dien tu hang khong vu tru: nghien cuu ve cac loai may bay may bay tu hanh - Ky thuat Da phuong tien: nghien cuu ve cac thiet bi nghe nhin, dieu chinh am do cua cac thiet bi thu am,... Noi dung chuong trinh hoc: Tai Dai hoc Bach Khoa Ha Noi, ban co the theo hoc he cu nhan (4 nam), he ky su (5 nam), he tich hop cu nhan - thac si (5,5 nam) hoac He Cu nhan - thac si - tien si (8,5 nam). Ben canh do, ban cung co co hoi tham gia chuong trinh song bang voi cac doi tac cua truong theo mo hinh: - 2+2: 2 nam dau hoc tai Dai hoc Bach Khoa Ha Noi, 2 nam cuoi se hoc tai Dai hoc Wollongong cua Uc, duoc cap bang cu nhan cua ca 2 truong - 4+2: 4 nam dau hoc tai Dai hoc Bach Khoa Ha Noi, 2 nam sau hoc tai Dai hoc Telecom ParisTech cua Phap. Sau 6 nam ban se nhan duoc bang Thac si cua DH BK HN va bang ky su cua Dai hoc Telecom ParisTech. - 4+1+3: 4 nam dau hoc tai Dai hoc Bach Khoa Ha Noi lay bang cu nhan cua DHBKHN, 1 nam tiep theo hoc Thac si tai DHBK HN va 3 nam cuoi hoc chuong trinh Tien si o vien KAIST (Han Quoc), sau do ban se co bang Tien si cua ca 2 truong. Van chua het, sinh vien Ky thuat Dien tu - Vien thong cua Dai hoc Bach Khoa Ha Noi con co the chon hoc chuong trinh tien tien. O day, ngon ngu giang day se hoan toan bang tieng Anh voi doi ngu giang vien hang dau trong nuoc va quoc te. Mot lua chon khac cho cac ban sinh vien yeu thich dien tu - vien thong la chuong trinh lien ket voi Dai hoc Leibniz Hannover (Duc). Mot so diem khac biet cua chuong trinh nay la: - Ngon ngu dao tao bang tieng Viet va den nam 3 ban se duoc hoc mot so mon bang tieng Duc voi giang vien nuoc ngoai. - Giai doan 1 (4 nam dau: ban se hoc tai Dai Hoc Bach Khoa Ha Noi theo chuong trinh thong nhat giua hai truong, ngon ngu hoc la tieng Viet va duoc hoc tang cuong 5 ky tieng Duc. - Den giai doan 2 ban se duoc lua chon: + Neu co du dieu kien chuyen mon va ngoai ngu ban se chuyen sang hoc bang thac su cua Dai hoc DH Leibniz Hannover (Duc) +Neu khong chuyen tiep ban co the tiep tuc hoc tai Dai hoc Bach Khoa Ha Noi theo chuong trinh thong nhat giua hai truon. Lam luan van tot nghiep bang tieng Anh hoac tieng Duc. Sau do neu co nguyen vong ban co the hoc tiep 1 nam de lay bang thac si. 3. Diem chuan nganh Ky thuat Dien tu - Vien thong Dai hoc Bach Khoa Ha Noi TruongChuyen nganhNganh202320222021 Dai Hoc Bach Khoa Ha Noi Ky thuat Dien tu - Vien thong Ky thuat dien tu - vien thong 66.4664.1726.4625.9924.514.0526.8Ghi chuDanh gia tu duy Danh gia tu duy CT tien tien Diem TN THPT Diem TN THPT CT tien tien TN THPT Danh gia tu duy Danh gia tu duy CT tien tien Diem TN THPT Diem TN THPT CT tien tien TN THPT 4. Hoc Ky thuat Dien tu - Vien thong ra truong lam gi? Ky thuat Dien tu - Vien thong: Nganh hoc mo ra nhieu co hoi Qua nhung phan tren ban cung hieu duoc Ky thuat Dien tu - Vien thong la nganh \"thay doi van minh nhan loai\". Chinh vi vay co hoi nghe nghiep cho nganh nay vo cung lon. Ban co the lam viec tai: - Cac doanh nghiep nghien cuu, san xuat, phat trien cac san pham dien tu: chuyen vien tu van, van hanh, thiet ke, dieu hanh ky thuat; chuyen gia thiet ke chipset (bo phan khong the thieu cua cac thiet bi thong minh); nghien cuu vien phat trien san pham thiet bi dien tu, cong nghe ung dung nhu truyen van vat ly ung dung, cong nghe di dong,... - Cong ty cung cap dich vu internet: Ky su thiet ke va xay dung he thong ha tang truy cap internet; ky su su phan tich tich hop cac he thong, dich vu gia tang, ung dung tren cac co so ha tang san co. - Cong ty vien thong: chuyen vien thiet ke truyen dan, bao tri, van hanh; chuyen vien quy hoach, thiet ke mang va toi uu mang; truong bo phan ky thuat,... - Dai phat thanh truyen hinh, cong ty tu van mang vien thong: chuyen vien thiet ke, tu van, van hanh, dieu hanh ky thuat - Cac hang thiet bi: chuyen vien quan ly ky thuat va san pham, quan ly du an kinh doanh - Cac tap doan, cong ty da quoc gia ve Dien tu - Vien thong Theo thong ke, 95% sinh vien khoa Ky thuat Dien tu - Vien thong Dai hoc Bach Khoa Ha Noi co viec lam ngay sau mot nam tot nghiep voi muc luong khoi diem tu 8-20 trieu dong. Dieu nay du thay duoc suc hap dan cua nganh dang de cac ban can nhac dung khong nao! Tin tuc moi nhat']"
      ]
     },
     "execution_count": 31,
     "metadata": {},
     "output_type": "execute_result"
    }
   ],
   "source": [
    "refs"
   ]
  },
  {
   "cell_type": "code",
   "execution_count": 32,
   "metadata": {},
   "outputs": [],
   "source": [
    "import textwrap\n",
    "\n",
    "def wraptext(documents, width=120):\n",
    "    for idx, doc in enumerate(documents, start=1):\n",
    "        print(f\"Document {idx}:\")\n",
    "        wrapped_lines = textwrap.wrap(doc, width=width)\n",
    "        for line in wrapped_lines:\n",
    "            print(line)\n",
    "        print(\"-\" * width)"
   ]
  },
  {
   "cell_type": "code",
   "execution_count": 33,
   "metadata": {},
   "outputs": [
    {
     "name": "stdout",
     "output_type": "stream",
     "text": [
      "Document 1:\n",
      "Thong tin tuyen sinh Dai hoc Bach khoa Ha Noi HUST ADMISSIONS INFORMATION Tong quan Ngon ngu dao tao: Tieng Viet Ma xet\n",
      "tuyen: ET1 Chi tieu tuyen sinh: 480 Chuong trinh chuan Ky thuat Dien tu Vien thong la gi? Nganh Dien tu - Vien thong la\n",
      "mot trong nhung nganh mui nhon cua cuoc Cach mang cong nghiep lan thu 4 va la nganh co nhu cau cao ve nhan luc o Viet\n",
      "Nam va tren the gioi. Theo hoc nganh nay, sinh vien duoc trang bi mot cach toan dien ca ve ky nang chuyen mon va ky nang\n",
      "mem de co the thiet ke, che tao, van hanh cac thiet bi va he thong dien tu vien thong, dap ung duoc yeu cau ve tinh nang\n",
      "dong va sang tao cua linh vuc nghe nghiep nay. Chuong trinh ky thuat Dien tu- Vien thong duoc giang day bang tieng Viet\n",
      "va duoc thiet ke bao gom khoi kien thuc toan hoc va khoa hoc co ban, khoi kien thuc co so cot loi nganh Dien tu -Vien\n",
      "thong, khoi kien thuc bo tro kien thuc xa hoi va ky nang mem va khoi kien thuc tu chon chuyen sau theo cac dinh huong ky\n",
      "thuat dien tu, ky thuat may tinh, ky thuat thong tin truyen thong, ky thuat y sinh, ky thuat dien tu hang khong vu tru,\n",
      "ky thuat da phuong tien, ky thuat vi dien tu va cong nghe nano. Chuong trinh dao tao Xem chi tiet Noi dung chuong trinh\n",
      "Kien thuc va ky nang dat duoc sau khi tot nghiep Kien thuc Ky nang Ngoai ngu: Thoi gian dao tao va kha nang hoc tap len\n",
      "bac dai hoc Hoc phi - Hoc bong Vi tri cong viec Co hoi viec lam Co hoi hoc bong Lien he de co them thong tin Thong tin\n",
      "tuyen sinh Dai hoc Bach khoa Ha Noi Facebook dai hoc Facebook sau dai hoc Facebook K69 - DHBKHN Twitter Instagram\n",
      "Youtube Van phong: C2-201, C1 - 103, 104, 105 Phone: 024 3869 3108 Fax: 024 38693108 Van phong C1 - 201 - Quan ly diem\n",
      "va xu ly hoc tap, Do an TN, Xet TN Phone: (+8424)38682305 Ban Tuyen sinh-Huong nghiep - Phong 101, Toa nha C1B Phone:\n",
      "(+84) 243 868 3408 - 084 868 3408 Van phong: B9 - 101, 102 Phone: 024 38692942 VP C7-614M, DH Bach khoa Ha Noi, so 1 Dai\n",
      "Co Viet, Ha Noi Phone: (+84) 24 38 696 165 Van phong Truong CNTT&TT (P505 - Nha B1) Phone: 024 3869 2463 Van phong: C1 -\n",
      "320 Phone: 024 3869 6211 Fax: 024 3623 1478 Phong 214, nha C4, Dai Co Viet, Hai Ba Trung, Ha Noi Phone: 024 38 680 070\n",
      "Fax: 024 3869 2300 Tang 7 - nha D8, So 1 Dai Co Viet, Q.Hai Ba Trung, Ha Noi Phone: 086 548 5665 P302-304 Nha C9, Dai\n",
      "hoc Bach Khoa Ha Noi; So 1 Dai Co Viet, Q. Hai Ba Trung, Tp. Ha Noi Phone: 024 38 692 304 / 3868.0791 / 0398 698 689\n",
      "Phong 209, nha D4 - DH Bach Khoa Ha Noi, So 1, Dai Co Viet, Q.Hai Ba Trung, Ha Noi Phone: (+84) 24 3869 2201 Phong 402\n",
      "nha D5, Truong DHBKHN Phone: 024 3868.1432 Phong 106 nha D3, DHBK Ha Noi, So 01 Dai Co Viet - Quan Hai Ba Trung - Ha Noi\n",
      "Phone: 024 3869 2137 Fax: 024 3868 2470 P. 116, Nha C10, DH Bach khoa Ha Noi (So 1, Dai Co Viet, Q.Hai Ba Trung, Ha Noi)\n",
      "Phone: 024 3869 3350 Fax: 024 3869 3498 Incoming...\n",
      "------------------------------------------------------------------------------------------------------------------------\n",
      "Document 2:\n",
      "CTTT Ky thuat Dien tu - Vien thong Chuong trinh tien tien Ky thuat Dien tu - Vien thong ( Ma tuyen sinh: ET-E4) (Chuong\n",
      "trinh thuoc Vien Dien tu Vien thong) Cac dac diem noi bat Chuong trinh duoc giang day hoan toan bang tieng Anh va do cac\n",
      "giang vien cua truong DHBK Ha Noi va cac giang vien nuoc ngoai tham gia giang day. Sinh vien co the tham gia chuong\n",
      "trinh song bang voi cac truong Dai hoc doi tac nhu Wollongong - Uc (2+2, 3+1), Telecom ParisTech - Phap (4+2), Vien\n",
      "KAIST - Han Quoc. Ngoai ra, sau khi hoc xong chuong trinh cu nhan 4 nam, sinh vien co the theo hoc chuong trinh thac si\n",
      "tai truong San Jose State University. Vi tri viec lam Ky su lam trong linh vuc Ky thuat Vien thong nhu doanh nghiep cung\n",
      "cap dich vu mang co dinh hoac di dong, ISP. Ky su phat trien phan mem, thiet ke phan cung va he thong nhung. Ky su\n",
      "nghien cuu va phat trien trong cac linh vuc vien thong, Internet, phan cung va phan mem cho thiet bi thong minh nhu\n",
      "thiet bi di dong, thiet bi IoT, thiet bi y te. Ky su van hanh he thong mang vien thong, he thong dien tu cong nghiep.\n",
      "Chuyen gia tu van giai phap, ban hang cac san pham dien tu va vien thong. Muc luong khoi diem 12 trieu den 20 trieu\n",
      "dong/thang. Co hoi hoc bong Sinh vien co co hoi nhan hoc bong cua Truong, hoc bong trao doi sinh vien tu cac doanh\n",
      "nghiep va cac truong Dai hoc quoc te la doi tac cua Vien Dien tu- Vien thong. Ti le sinh vien di du hoc co hoc bong hang\n",
      "nam chien tren 20% tong so sinh vien tot nghiep. De cuong chuong trinh Tac gia: Truong Thu Huong Nhung tin moi hon Co\n",
      "hoi du hoc DTTT - DTVT - Nhan vat & Su kien DTTT - DTVT - Tuyen sinh Gioi thieu bai viet cho ban be\n",
      "------------------------------------------------------------------------------------------------------------------------\n",
      "Document 3:\n",
      "Thong tin tuyen sinh Dai hoc Bach khoa Ha Noi HUST ADMISSIONS INFORMATION Nganh dien tu vien thong Dang nhap hoac Dang\n",
      "ky de tao cau hoi Cau hoi moi nhat Le Giang So sanh nganh Dien tu vien thong truyen thong va nganh moi Truyen thong so\n",
      "va Da Phuong tien a Chao em, Cau hoi so sanh ve 2 nganh nay, em hay lien he toi Vien Dien tu - Vien thong Le Giang Tra\n",
      "loi luc 12:55 27/09/2021 Le Giang So sanh nganh Dien tu vien thong truyen thong va nganh moi Truyen thong so va Da\n",
      "Phuong tien a Chao em, Cau hoi so sanh ve 2 nganh nay, em hay lien he toi Vien Dien tu - Vien thong Le Giang Tra loi luc\n",
      "12:55 27/09/2021 Le Giang Van de ve lua chon chuong trinh hoc: Dien tu vien thong - He thong nhung thong minh va IoT\n",
      "Chao em, Ve cau hoi thu nhat, hai chuong trinh Dien tu vien thong va He thong nhung IoT co nhung khac biet nao? Hai\n",
      "chuong trinh nay cung thuoc Vien Dien tu Vien thong nen ve kien thuc chung thi van hoc ve mach dien tu tuong tu va mach\n",
      "so, hoc ve cac loai vi dieu khien va lap trinh cac he thong nhung. Tuy nhien thi do Dien tu Vien thong co nhieu mang nhu\n",
      "Dien tu, Vien thong, IoT, ha tang mang nen ve muc do chuyen sau thi chuong trinh He thong Nhung va IoT co muc do chuyen\n",
      "sau hon ve lap trinh he thong Nhung. Tuy nhien de lap trinh Nhung duoc tot thi kien thuc dien tu co ban van can co. Cau\n",
      "hoi thu hai thi hoc chuong trinh chuan Dien tu Vien thong la hoan toan co the lam tot cac yeu cau cua lap trinh Nhung.\n",
      "Nhung ban than sinh vien phai co dinh huong ro rang trong qua trinh chon huong di nghe nghiep do Dien tu Vien thong bao\n",
      "ham nhieu chuyen nganh. Le Giang Tra loi luc 13:01 18/09/2020 Le Giang Review ve (ET1) Ky thuat Dien tu - Vien thong. Co\n",
      "giong cong nghe thong tin khong a, co hoc lap trinh khong? Chao em, Nganh dien tu vien thong (nhu ET1) co hoc ca ve lap\n",
      "trinh va thiet ke vi mach. Phan lap trinh se khong di sau nhu ben nganh Cong nghe thong tin (dien hinh la IT1 va IT2) ma\n",
      "chu yeu se ket hop lap trinh va thiet ke phan cung vi mach de tao ra san pham. Vi du tao ra 1 canh tay robot trong nha\n",
      "may, che tao ra nhung robot trong cuoc thi sang tao robocon... Le Giang Tra loi luc 14:10 21/09/2020 Le Giang Chuong\n",
      "trinh tien tien Ky thuat y sinh co nhieu con gai hoc khong? Doi hoi thong minh khong? Theo thong ke nhung nam gan day\n",
      "thi ti le sinh vien nu theo hoc chuong trinh tien tien ky thuat y sinh la 30%. Nganh nay cung rat phu hop voi cac ban nu\n",
      "em nhe. Thay nghi la de vao duoc truong Dai hoc Bach khoa Ha Noi thi chac chan em cung phai thong minh roi. De tim hieu\n",
      "them ve nganh y sinh, em co the vao website: http://bme.hust.edu.vn. Chuc em thi tot va duoc vao hoc nganh ma em yeu\n",
      "thich. Tra loi tu Vien Dien tu vien thong - http://set.hust.edu.vn Le Giang Tra loi luc 19:35 20/09/2020 Le Giang So\n",
      "sanh Nganh Dien tu - vien thong va Nganh Cong nghe thong tin. Neu do DTVT nhung muon hoc nganh Ky thuat thong tin truyen\n",
      "thong thi sao? Nganh Dien tu-vien thong va nganh Cong nghe thong tin la hai nganh rat gan voi nhau. Neu hoc hai nganh\n",
      "nay em deu hoc ca ve phan cung va phan mem cua he thong xu ly thong tin. Tuy nhien, dien tu- vien thong tap trung sau\n",
      "hon vao phan cung con cong nghe thong tin tap trung sau hon vao phan mem. Vi vay doi voi cong viec lap trinh, ky su cong\n",
      "nghe thong tin se phu hop nhat cho viec lap trinh cho may tinh va he thong may tinh con ky su dien tu vien thong phu hop\n",
      "nhat cho lap trinh thiet bi (hay con goi la lap trinh nhung). Trong khi do neu em yeu thich cong viec thiet ke phan cung\n",
      "thiet bi dien tu thi dien tu vien thong la su lua chon phu hop nhat. Neu em dang ky ET1 hoc nganh dien tu-vien thong thi\n",
      "den nam thu 5 em se co the chon dinh huong ky thuat thong tin truyen thong va viec chon dinh huong nay la dap ung hoan\n",
      "toan theo nguyen vong cua sinh vien, khong phu thuoc vao ket qua hoc tap. Chuc em thi tot va duoc vao hoc nganh ma em\n",
      "yeu thich. Tra loi tu Vien Dien tu vien thong - http://set.hust.edu.vn Le Giang Tra loi luc 19:30 20/09/2020 Le Giang Em\n",
      "muon hoc cach lam duoc nhung thiet bi dung trong gia dinh nhu cai sac dien thoai hay lam mot he thong cam ung thi phai\n",
      "hoc Co dien tu hay Dien dien tu a? Neu em dam me viec thiet ke va che tao phan dien tu cua cac thiet bi dien tu nhu dien\n",
      "thoai di dong, TV, sac dien thoai, he thong chong trom trong gia dinh, dau thu truyen hinh ky thuat so ... thi lua chon\n",
      "tot nhat cua em la hoc Ky thuat Dien tu vien thong ET1. (Chi tiet nganh:\n",
      "https://ts.hust.edu.vn/asset/-/asset_publisher/ddNQG1HrIiqp/content/ky-thuat-ien-tu-vien-thong ) Hoc nganh nay khong\n",
      "nhung em duoc hoc thiet ke phan cung cac thiet bi dien tu ma con duoc hoc lap trinh cho cac thiet bi do. Chuc em thi tot\n",
      "va duoc vao hoc nganh ma em mong muon. Tra loi tu Vien Dien tu vien thong - http://set.hust.edu.vn Le Giang Tra loi luc\n",
      "19:29 20/09/2020 Le Giang Em muon hoc Ky thuat y sinh nhung em dang phan van khong biet nganh ky thuat y sinh quoc te va\n",
      "ky thuat y sinh (Vien dien tu vien thong) co gi khac nhau? Va con duong nao de xin viec hon? Neu em muon hoc ky thuat y\n",
      "sinh thi co the dang ky nganh ET1 voi chuyen nganh Ky thuat y sinh hoc bang tieng Viet hoac dang ky ET-E5 Ky thuat y\n",
      "sinh hoc hoan toan bang tieng Anh. Ca hai chuong trinh deu thuoc Vien Dien tu - Vien thong va deu do cung doi ngu giang\n",
      "vien giang day. Sinh vien tot nghiep ca hai chuong trinh nay deu de xin viec. Tuy nhien, voi loi the tieng Anh tot thi\n",
      "sinh vien hoc ET-E5 co nhieu co hoi tot lam viec cho cac cong ty nuoc ngoai. De tim hieu them ve nganh y sinh, em co the\n",
      "vao website: http://bme.hust.edu.vn. Chuc em thi tot va duoc vao hoc nganh ma em mong muon. Tra loi tu Vien Dien tu vien\n",
      "thong - http://set.hust.edu.vn Le Giang Tra loi luc 19:26 20/09/2020 Le Giang Nganh Dien tu vien thong DH Bach Khoa Ha\n",
      "Noi. Hoc nhung gi? Lam nhung gi? Chua co cau tra loi! Chu de duoc quan tam Tat ca Xet tuyen tai nang 329 cau hoi Dang ky\n",
      "xet tuyen 2021 268 cau hoi Bai kiem tra tu duy 235 cau hoi Xac nhan tuyen thang 2021 191 cau hoi Tuyen sinh DHBKHN 2020\n",
      "186 cau hoi Dang ky xet tuyen 2022 163 cau hoi Quy doi diem tieng Anh 125 cau hoi Xet tuyen Ho so nang luc 2022 (Dien\n",
      "1.3) 112 cau hoi Phuong thuc tuyen sinh 2023 98 cau hoi Phuong thuc xet tuyen 83 cau hoi Thong tin tuyen sinh Dai hoc\n",
      "Bach khoa Ha Noi Facebook dai hoc Facebook sau dai hoc Facebook K69 - DHBKHN Twitter Instagram Youtube Van phong:\n",
      "C2-201, C1 - 103, 104, 105 Phone: 024 3869 3108 Fax: 024 38693108 Van phong C1 - 201 - Quan ly diem va xu ly hoc tap, Do\n",
      "an TN, Xet TN Phone: (+8424)38682305 Ban Tuyen sinh-Huong nghiep - Phong 101, Toa nha C1B Phone: (+84) 243 868 3408 -\n",
      "084 868 3408 Van phong: B9 - 101, 102 Phone: 024 38692942 VP C7-614M, DH Bach khoa Ha Noi, so 1 Dai Co Viet, Ha Noi\n",
      "Phone: (+84) 24 38 696 165 Van phong Truong CNTT&TT (P505 - Nha B1) Phone: 024 3869 2463 Van phong: C1 - 320 Phone: 024\n",
      "3869 6211 Fax: 024 3623 1478 Phong 214, nha C4, Dai Co Viet, Hai Ba Trung, Ha Noi Phone: 024 38 680 070 Fax: 024 3869\n",
      "2300 Tang 7 - nha D8, So 1 Dai Co Viet, Q.Hai Ba Trung, Ha Noi Phone: 086 548 5665 P302-304 Nha C9, Dai hoc Bach Khoa Ha\n",
      "Noi; So 1 Dai Co Viet, Q. Hai Ba Trung, Tp. Ha Noi Phone: 024 38 692 304 / 3868.0791 / 0398 698 689 Phong 209, nha D4 -\n",
      "DH Bach Khoa Ha Noi, So 1, Dai Co Viet, Q.Hai Ba Trung, Ha Noi Phone: (+84) 24 3869 2201 Phong 402 nha D5, Truong DHBKHN\n",
      "Phone: 024 3868.1432 Phong 106 nha D3, DHBK Ha Noi, So 01 Dai Co Viet - Quan Hai Ba Trung - Ha Noi Phone: 024 3869 2137\n",
      "Fax: 024 3868 2470 P. 116, Nha C10, DH Bach khoa Ha Noi (So 1, Dai Co Viet, Q.Hai Ba Trung, Ha Noi) Phone: 024 3869 3350\n",
      "Fax: 024 3869 3498 Incoming...\n",
      "------------------------------------------------------------------------------------------------------------------------\n",
      "Document 4:\n",
      "Thong tin tuyen sinh Dai hoc Bach khoa Ha Noi HUST ADMISSIONS INFORMATION Danh muc Tin Xem Nhieu Huong dan cac buoc dang\n",
      "ky Ky thi Danh gia tu duy 2024 105312 Ban do truong Dai hoc Bach Khoa Ha Noi 89080 Diem chuan trung tuyen Dai hoc Bach\n",
      "Khoa Ha Noi nam 2022 87949 Chi tieu - Ma xet tuyen Dai hoc chinh quy 2021 86107 Cach tinh diem xet tuyen cua DHBK Ha Noi\n",
      "81311 Co so vat chat truong Dai hoc Bach Khoa Ha Noi 26-09-2019 Truong Dai hoc Bach Khoa Ha Noi (Hanoi University of\n",
      "Science and Technology) la mot truong dai hoc ky thuat hang dau dong thoi cung la mot trong nhung trung tam nghien cuu\n",
      "khoa hoc va chuyen giao cong nghe lon nhat cua Viet Nam. Truong cung la thanh vien cua Hiep hoi cac truong dai hoc ky\n",
      "thuat hang dau khu vuc Chau A - Thai Binh Duong AOTULE (Asia-Oceania Top University League on Engineering). Truong da\n",
      "dau tu co so vat chat tien nghi, hien dai phuc vu cho cong tac day hoc va nghien cuu khoa hoc. 80% giang duong duoc dau\n",
      "tu he thong dieu hoa cong suat lon voi may chieu hien dai, dam bao suc khoe cho sinh vien yen tam hoc tap. He thong\n",
      "phong thi nghiem dong bo voi trang thiet bi may moc hien dai. Moi truong hoc tap va khuon vien Truong trong lanh (Truong\n",
      "co dien tich lon nhat trong noi thanh Ha Noi), gop phan xay dung doi song sinh vien than thien va coi mo. Truong co khu\n",
      "ky tuc xa khang trang, sach se voi cac san bong da, bong chuyen, bong ro... phuc vu tot doi song sinh vien noi tru. Ben\n",
      "canh do, Truong DHBK Ha Noi con la Truong dai hoc duoc dau tu dong bo co so vat chat phuc vu cac hoat dong the thao -\n",
      "van hoa trong va ngoai Truong nhu: san van dong tieu chuan quoc te, be boi, san tennis, nha thi dau thuong xuyen to chuc\n",
      "nhung hoat dong lon quy mo thanh pho, quoc gia. Co so vat chat Sinh vien duoc trai nghiem trong moi truong than thien,\n",
      "he thong co so vat chat hien dai, dap ung nhu cau hoc tap, nghien cuu, tham gia cac hoat dong the thao, giai tri da\n",
      "dang. I. PHONG HOC - GIANG DUONG Truong Dai hoc Bach Khoa Ha Noi co tong dien tich phuc vu giang day, nghien cuu khoa\n",
      "hoc va hoi hop rong 26,2 hecta. Truong co hon 200 giang duong, phong hoc, hoi truong lon va he thong phong hoi thao; gan\n",
      "200 phong thi nghiem, trong do co 12 phong thi nghiem trong diem quoc gia va khoang 20 xuong thuc tap, thuc hanh. Sinh\n",
      "vien khoa Dien tu vien thong - DHBKHN trong gio thuc hanh Nha D9 Bach Khoa Trong do co 8 phong thi nghiem trong diem\n",
      "quoc gia va tuong duong; khoang 20 xuong thuc tap va thuc hanh. II. CAC TOA NHA - THU VIEN Toan bo giang duong duoc\n",
      "trang bi day du dieu hoa va thiet bi giang day cung voi he thong wifi mien phi trong khuon vien Truong. Thu vien dien tu\n",
      "Ta Quang Buu voi dien tich 37.000 m2, co the phuc vu dong thoi 2.000 sinh vien voi 600.000 cuon sach, 130.000 dau sach\n",
      "dien tu. Sinh vien duoc truy cap mien phi CSDL tu cac nguon nhu Science Driect, Scopus... Thu vien Ta Quang Buu la thu\n",
      "vien lon va hien dai, thu vien co hoi truong lon (o Tang 10) voi suc chua hang nghin nguoi Tong dien tich dat su dung\n",
      "cua Truong: 252.857,8 m2, noi lam viec 15.252m2, noi hoc 78.846m2, noi vui choi giai tri: 29.321 m2, 1 nha cau lac bo\n",
      "sinh vien voi 350 cho duoc trang bi am thanh hien dai va 1 trung tam Y te hoat dong theo mo hinh phong kham da khoa cham\n",
      "soc suc khoe thuong xuyen cho cac can bo va sinh vien Truong. III. KHU KY TUC XA Truong co mot khu ky tuc xa voi 420\n",
      "phong, du kha nang dap ung cho o cho khoang 4500 sinh vien. Hinh anh khu ky tuc xa sinh vien ky thuat tai Bach Khoa.\n",
      "Sinh vien duoc su dung Wifi FREE den tan giuong Khu Ky tuc xa nha B5 IV. CO SO VAT CHAT - REN LUYEN THE DUC THE THAO Cac\n",
      "he thong co so vat chat phuc vu bo mon giao duc the chat va phong trao the thao cua sinh vien day du va hien dai voi 1\n",
      "san bong tieu chuan quoc gia, 1 nha thi dau da nang tieu chuan Dong Nam A, 1 be boi tieu chuan quoc gia, san tennis tieu\n",
      "chuan quoc gia... Khu lien hop the thao co dien tich 20.000m2 voi he thong co so vat chat hien dai, bao gom: san bong,\n",
      "be boi, san tennis tieu chuan quoc gia va nha thi dau da nang tieu chuan Dong Nam A. 1. San van dong dien tich 18.000m2\n",
      "bao gom khan dai A - B voi suc chua 7.000 nguoi, trong san co san bong da, 3 san bong chuyen, 1 san bong ro, 1 khu tap\n",
      "the duc va khu tap dien kinh (chay 100m, 1500m, nhay cao, nhay xa, day ta, phong lao...). Co dan den phuc vu tap luyen\n",
      "buoi toi va nhieu phong phu tro duoi khan dai A - B. Dai hoc Bach khoa co san bong tieu chuan quoc gia, mot nha thi dau\n",
      "da nang tieu chuan Dong Nam A 2. Khu be boi, san quan vot : dien tich 4.800m2 - Be boi kich thuoc 25x50m, co loc nuoc\n",
      "tuan hoan, co khan dai suc chua 500 nguoi. 3. Nha tap luyen va thi dau: dien tich 4.800m2 Nha tap da nang co khan dai A\n",
      "- B suc chua 1258 cho ngoi, va duoc trang bi rat hien dai, he thong thong tin, dieu hoa trung tam va nhieu phong phu\n",
      "tro, van phong - phuc vu cho cac giai the thao sinh vien cung nhu quoc te. 4. Khu tap luyen ky tuc xa: dien tich 4.000m2\n",
      "Bao gom: khu san bong ro, san tennis, 1 khu tap the duc dung cu va 2 san bong da 7 nguoi. San bong da nam ngay sau lung\n",
      "cua toa nha B9 San bong voi mat co nhan tao hien dai - khong gian tap the thao ly tuong cho sinh vien San tap bong\n",
      "chuyen cho sinh vien Dia chi cua trung tam dat tai So 5 Ta Quang Buu, Q.Hai Ba Trung, Ha Noi TS.HUST.EDU.VN Co the ban\n",
      "se thich Nhung chung chi quoc te nao duoc xet tuyen thang DHBK Ha Noi? Thong cao bao chi: Ve viec chuyen Truong Dai hoc\n",
      "Bach khoa Ha Noi thanh Dai hoc Bach khoa Ha Noi DH Bach Khoa Ha Noi co 4 nhom nganh lot TOP 351-400 va 451-500 xep hang\n",
      "Quacquarelli Symonds Quy che tham du Bai kiem tra tu duy ngay 15.8.2020 Lich hoc on tap Cao hoc Dot 1.2020 Huong dan\n",
      "dang ky xet tuyen tai nang 2023 - Dang ky tai khoan Thong tin tuyen sinh Dai hoc Bach khoa Ha Noi Facebook dai hoc\n",
      "Facebook sau dai hoc Facebook K69 - DHBKHN Twitter Instagram Youtube Van phong: C2-201, C1 - 103, 104, 105 Phone: 024\n",
      "3869 3108 Fax: 024 38693108 Van phong C1 - 201 - Quan ly diem va xu ly hoc tap, Do an TN, Xet TN Phone: (+8424)38682305\n",
      "Ban Tuyen sinh-Huong nghiep - Phong 101, Toa nha C1B Phone: (+84) 243 868 3408 - 084 868 3408 Van phong: B9 - 101, 102\n",
      "Phone: 024 38692942 VP C7-614M, DH Bach khoa Ha Noi, so 1 Dai Co Viet, Ha Noi Phone: (+84) 24 38 696 165 Van phong\n",
      "Truong CNTT&TT (P505 - Nha B1) Phone: 024 3869 2463 Van phong: C1 - 320 Phone: 024 3869 6211 Fax: 024 3623 1478 Phong\n",
      "214, nha C4, Dai Co Viet, Hai Ba Trung, Ha Noi Phone: 024 38 680 070 Fax: 024 3869 2300 Tang 7 - nha D8, So 1 Dai Co\n",
      "Viet, Q.Hai Ba Trung, Ha Noi Phone: 086 548 5665 P302-304 Nha C9, Dai hoc Bach Khoa Ha Noi; So 1 Dai Co Viet, Q. Hai Ba\n",
      "Trung, Tp. Ha Noi Phone: 024 38 692 304 / 3868.0791 / 0398 698 689 Phong 209, nha D4 - DH Bach Khoa Ha Noi, So 1, Dai Co\n",
      "Viet, Q.Hai Ba Trung, Ha Noi Phone: (+84) 24 3869 2201 Phong 402 nha D5, Truong DHBKHN Phone: 024 3868.1432 Phong 106\n",
      "nha D3, DHBK Ha Noi, So 01 Dai Co Viet - Quan Hai Ba Trung - Ha Noi Phone: 024 3869 2137 Fax: 024 3868 2470 P. 116, Nha\n",
      "C10, DH Bach khoa Ha Noi (So 1, Dai Co Viet, Q.Hai Ba Trung, Ha Noi) Phone: 024 3869 3350 Fax: 024 3869 3498 Incoming...\n",
      "------------------------------------------------------------------------------------------------------------------------\n",
      "Document 5:\n",
      "Please enable javascript to view this site. huongnghiep.hocmai.vn | March 27, 2024 Top Chuyen nganh Ky thuat Dien tu -\n",
      "Vien thong - Dai Hoc Bach Khoa Ha Noi Review nganh Ky thuat Dien tu - Vien thong Dai hoc Bach Khoa Ha Noi (HUST): Dung\n",
      "cong nghe hien dai thay doi van minh nhan loai Khi cuoc cach mang 4.0 bung no, nganh Ky thuat dien tu - Vien thong tro\n",
      "thanh mot trong nhung nganh mo ra nhieu co hoi nhat cho cac ban tre. La mot trong nhung truong dao tao hang dau ve dien\n",
      "tu - vien thong, Dai hoc Bach Khoa Ha Noi la cai ten duoc rat nhieu nguoi chu y. Hom nay hay cung Huongnghiep.hocmai.vn\n",
      "review chi tiet de cac ban co cai nhin ro hon ve nganh Ky thuat Dien tu - Vien thong cua DHBK HN nhe! Dien tu vien thong\n",
      "dong vai tro quan trong trong cuoc cach mang 4.0 Muc luc 1. Nganh Ky thuat Dien tu - Vien thong la gi? Ky thuat Dien tu\n",
      "- Vien thong la nganh nghien cuu ve viec ung dung ky thuat tien tien va cong nghe hien dai nhat de tao ra cac thiet bi\n",
      "ve tinh, cap va thiet bi dien tu nhu: dien thoai, may tinh bang, may tinh ca nhan, Tivi,.... Nho do giup con nguoi xay\n",
      "dung duoc he thong mang thong tin lien lac toan cau, giup viec trao doi thong tin duoc tien hanh thuan loi bat chap thoi\n",
      "gian va khong gian khac nhau. Nganh nay gom co hai linh vuc chinh: - Dien tu: Nghien cuu va che tao ra vi mach dien tu,\n",
      "day chinh la bo nao dieu khien tat ca cac hoat dong cua thiet bi thong minh - Vien thong: Nghien cuu va su dung cac\n",
      "thiet bi tao nen mang vien thong (thiet bi truyen thong tin tu dau phat den dau thu) gom co nhung thanh phan chinh la:\n",
      "thiet bi truyen dan, thiet bi chuyen mach, thiet bi dau cuoi, moi truong truyen. 2. Nganh Ky thuat Dien tu - Vien thong\n",
      "Dai hoc Bach Khoa Ha Noi co gi? Khoa Ky thuat Dien tu - Vien thong hien dang rat hot cua Bach Khoa o hien tai va ca\n",
      "trong tuong lai. Khi theo hoc, ban se duoc lua chon mot trong cac chuyen nganh: - Dien tu va ky thuat may tinh: chuyen\n",
      "ve lap trinh cho cac he thong nhung - Ky thuat thong tin - truyen thong: chuyen ve he thong vien thong, ky thuat truyen\n",
      "so lieu. - Ky thuat y sinh: chuyen nghien cuu cac thiet bi y te phuc vu kham chua benh - Ky thuat dien tu hang khong vu\n",
      "tru: nghien cuu ve cac loai may bay may bay tu hanh - Ky thuat Da phuong tien: nghien cuu ve cac thiet bi nghe nhin,\n",
      "dieu chinh am do cua cac thiet bi thu am,... Noi dung chuong trinh hoc: Tai Dai hoc Bach Khoa Ha Noi, ban co the theo\n",
      "hoc he cu nhan (4 nam), he ky su (5 nam), he tich hop cu nhan - thac si (5,5 nam) hoac He Cu nhan - thac si - tien si\n",
      "(8,5 nam). Ben canh do, ban cung co co hoi tham gia chuong trinh song bang voi cac doi tac cua truong theo mo hinh: -\n",
      "2+2: 2 nam dau hoc tai Dai hoc Bach Khoa Ha Noi, 2 nam cuoi se hoc tai Dai hoc Wollongong cua Uc, duoc cap bang cu nhan\n",
      "cua ca 2 truong - 4+2: 4 nam dau hoc tai Dai hoc Bach Khoa Ha Noi, 2 nam sau hoc tai Dai hoc Telecom ParisTech cua Phap.\n",
      "Sau 6 nam ban se nhan duoc bang Thac si cua DH BK HN va bang ky su cua Dai hoc Telecom ParisTech. - 4+1+3: 4 nam dau hoc\n",
      "tai Dai hoc Bach Khoa Ha Noi lay bang cu nhan cua DHBKHN, 1 nam tiep theo hoc Thac si tai DHBK HN va 3 nam cuoi hoc\n",
      "chuong trinh Tien si o vien KAIST (Han Quoc), sau do ban se co bang Tien si cua ca 2 truong. Van chua het, sinh vien Ky\n",
      "thuat Dien tu - Vien thong cua Dai hoc Bach Khoa Ha Noi con co the chon hoc chuong trinh tien tien. O day, ngon ngu\n",
      "giang day se hoan toan bang tieng Anh voi doi ngu giang vien hang dau trong nuoc va quoc te. Mot lua chon khac cho cac\n",
      "ban sinh vien yeu thich dien tu - vien thong la chuong trinh lien ket voi Dai hoc Leibniz Hannover (Duc). Mot so diem\n",
      "khac biet cua chuong trinh nay la: - Ngon ngu dao tao bang tieng Viet va den nam 3 ban se duoc hoc mot so mon bang tieng\n",
      "Duc voi giang vien nuoc ngoai. - Giai doan 1 (4 nam dau: ban se hoc tai Dai Hoc Bach Khoa Ha Noi theo chuong trinh thong\n",
      "nhat giua hai truong, ngon ngu hoc la tieng Viet va duoc hoc tang cuong 5 ky tieng Duc. - Den giai doan 2 ban se duoc\n",
      "lua chon: + Neu co du dieu kien chuyen mon va ngoai ngu ban se chuyen sang hoc bang thac su cua Dai hoc DH Leibniz\n",
      "Hannover (Duc) +Neu khong chuyen tiep ban co the tiep tuc hoc tai Dai hoc Bach Khoa Ha Noi theo chuong trinh thong nhat\n",
      "giua hai truon. Lam luan van tot nghiep bang tieng Anh hoac tieng Duc. Sau do neu co nguyen vong ban co the hoc tiep 1\n",
      "nam de lay bang thac si. 3. Diem chuan nganh Ky thuat Dien tu - Vien thong Dai hoc Bach Khoa Ha Noi TruongChuyen\n",
      "nganhNganh202320222021 Dai Hoc Bach Khoa Ha Noi Ky thuat Dien tu - Vien thong Ky thuat dien tu - vien thong\n",
      "66.4664.1726.4625.9924.514.0526.8Ghi chuDanh gia tu duy Danh gia tu duy CT tien tien Diem TN THPT Diem TN THPT CT tien\n",
      "tien TN THPT Danh gia tu duy Danh gia tu duy CT tien tien Diem TN THPT Diem TN THPT CT tien tien TN THPT 4. Hoc Ky thuat\n",
      "Dien tu - Vien thong ra truong lam gi? Ky thuat Dien tu - Vien thong: Nganh hoc mo ra nhieu co hoi Qua nhung phan tren\n",
      "ban cung hieu duoc Ky thuat Dien tu - Vien thong la nganh \"thay doi van minh nhan loai\". Chinh vi vay co hoi nghe nghiep\n",
      "cho nganh nay vo cung lon. Ban co the lam viec tai: - Cac doanh nghiep nghien cuu, san xuat, phat trien cac san pham\n",
      "dien tu: chuyen vien tu van, van hanh, thiet ke, dieu hanh ky thuat; chuyen gia thiet ke chipset (bo phan khong the\n",
      "thieu cua cac thiet bi thong minh); nghien cuu vien phat trien san pham thiet bi dien tu, cong nghe ung dung nhu truyen\n",
      "van vat ly ung dung, cong nghe di dong,... - Cong ty cung cap dich vu internet: Ky su thiet ke va xay dung he thong ha\n",
      "tang truy cap internet; ky su su phan tich tich hop cac he thong, dich vu gia tang, ung dung tren cac co so ha tang san\n",
      "co. - Cong ty vien thong: chuyen vien thiet ke truyen dan, bao tri, van hanh; chuyen vien quy hoach, thiet ke mang va\n",
      "toi uu mang; truong bo phan ky thuat,... - Dai phat thanh truyen hinh, cong ty tu van mang vien thong: chuyen vien thiet\n",
      "ke, tu van, van hanh, dieu hanh ky thuat - Cac hang thiet bi: chuyen vien quan ly ky thuat va san pham, quan ly du an\n",
      "kinh doanh - Cac tap doan, cong ty da quoc gia ve Dien tu - Vien thong Theo thong ke, 95% sinh vien khoa Ky thuat Dien\n",
      "tu - Vien thong Dai hoc Bach Khoa Ha Noi co viec lam ngay sau mot nam tot nghiep voi muc luong khoi diem tu 8-20 trieu\n",
      "dong. Dieu nay du thay duoc suc hap dan cua nganh dang de cac ban can nhac dung khong nao! Tin tuc moi nhat\n",
      "------------------------------------------------------------------------------------------------------------------------\n",
      "None\n"
     ]
    }
   ],
   "source": [
    "print(wraptext(refs))"
   ]
  },
  {
   "cell_type": "code",
   "execution_count": 34,
   "metadata": {},
   "outputs": [
    {
     "data": {
      "text/plain": [
       "(1, 5)"
      ]
     },
     "execution_count": 34,
     "metadata": {},
     "output_type": "execute_result"
    }
   ],
   "source": [
    "len(hypos), len(refs)"
   ]
  },
  {
   "cell_type": "markdown",
   "metadata": {},
   "source": [
    "### Using BERTScore for Evaluation"
   ]
  },
  {
   "cell_type": "markdown",
   "metadata": {},
   "source": [
    "1. BERTScore is used to measure textual similarity between candidate texts and reference texts. It considers not only exact word matches but also the overall meaning, fluency, and order of the ouput.\n",
    "\n",
    "2. BERTScore: Precision, Recall, F1\n",
    "    * Precision measures how well the candidate texts avoid introducing irrelevant content.\n",
    "    * Recall measures how well the candidate texts avoid omitting relevant content.\n",
    "    * F1 = 2 x (P x R)/(P + R) "
   ]
  },
  {
   "cell_type": "code",
   "execution_count": 35,
   "metadata": {},
   "outputs": [
    {
     "name": "stderr",
     "output_type": "stream",
     "text": [
      "/media/sanslab/Data/stevehoang/rag_research/vigpt-researcher/venv/lib/python3.11/site-packages/tqdm/auto.py:21: TqdmWarning: IProgress not found. Please update jupyter and ipywidgets. See https://ipywidgets.readthedocs.io/en/stable/user_install.html\n",
      "  from .autonotebook import tqdm as notebook_tqdm\n"
     ]
    }
   ],
   "source": [
    "from bert_score import score"
   ]
  },
  {
   "cell_type": "code",
   "execution_count": 36,
   "metadata": {},
   "outputs": [],
   "source": [
    "# Hide the loading messages\n",
    "import logging\n",
    "import transformers\n",
    "transformers.tokenization_utils.logger.setLevel(logging.ERROR)\n",
    "transformers.configuration_utils.logger.setLevel(logging.ERROR)\n",
    "transformers.modeling_utils.logger.setLevel(logging.ERROR)"
   ]
  },
  {
   "cell_type": "code",
   "execution_count": 37,
   "metadata": {},
   "outputs": [],
   "source": [
    "def bert_score(hypos, refs, lang=\"vi\"):\n",
    "    bert_scores = []\n",
    "    for ref in refs:\n",
    "        scores = score(hypos, [ref], lang=lang, verbose=False)\n",
    "        bert_scores.append(scores)\n",
    "    return bert_scores"
   ]
  },
  {
   "cell_type": "code",
   "execution_count": 38,
   "metadata": {},
   "outputs": [],
   "source": [
    "bert_scores = bert_score(hypos, refs)"
   ]
  },
  {
   "cell_type": "code",
   "execution_count": 39,
   "metadata": {},
   "outputs": [],
   "source": [
    "import torch\n",
    "\n",
    "precision = torch.mean(torch.stack([bert_score[0] for bert_score in bert_scores]))\n",
    "recall = torch.mean(torch.stack([bert_score[1] for bert_score in bert_scores]))\n",
    "f1 = torch.mean(torch.stack([bert_score[2] for bert_score in bert_scores]))"
   ]
  },
  {
   "cell_type": "code",
   "execution_count": 40,
   "metadata": {},
   "outputs": [
    {
     "name": "stdout",
     "output_type": "stream",
     "text": [
      "BERT score:\n",
      "P: 0.76, R: 0.76, F1: 0.76\n"
     ]
    }
   ],
   "source": [
    "print(\"BERT score:\")\n",
    "print(f\"P: {precision.item():.2f}, R: {recall.item():.2f}, F1: {f1.item():.2f}\")"
   ]
  },
  {
   "cell_type": "markdown",
   "metadata": {},
   "source": [
    "### Using ROUGE score for Evaluation"
   ]
  },
  {
   "cell_type": "code",
   "execution_count": 41,
   "metadata": {},
   "outputs": [],
   "source": [
    "from rouge_score import rouge_scorer\n",
    "\n",
    "def rouge_score(hypos, refs):\n",
    "    scorer = rouge_scorer.RougeScorer(['rouge1', 'rouge2'], use_stemmer=True)\n",
    "    scores = [scorer.score(ref, hypo) for ref, hypo in zip(refs, hypos)]\n",
    "    return scores\n",
    "\n",
    "rouge = rouge_score(hypos, refs)"
   ]
  },
  {
   "cell_type": "code",
   "execution_count": 42,
   "metadata": {},
   "outputs": [
    {
     "name": "stdout",
     "output_type": "stream",
     "text": [
      "ROUGE scores:\n",
      "ROUGE-1: P = 0.42, R = 0.52, F1 = 0.46\n",
      "ROUGE-2: P = 0.21, R = 0.26, F1 = 0.23\n"
     ]
    }
   ],
   "source": [
    "for i, score in enumerate(rouge):\n",
    "    print(\"ROUGE scores:\")\n",
    "    print(f\"ROUGE-1: P = {score['rouge1'].precision:.2f}, R = {score['rouge1'].recall:.2f}, F1 = {score['rouge1'].fmeasure:.2f}\")\n",
    "    print(f\"ROUGE-2: P = {score['rouge2'].precision:.2f}, R = {score['rouge2'].recall:.2f}, F1 = {score['rouge2'].fmeasure:.2f}\")"
   ]
  },
  {
   "cell_type": "markdown",
   "metadata": {},
   "source": [
    "### RESULTS\n",
    "\n",
    "| METRIC   | Precision | Recall | F1 |\n",
    "|---------|----------|-------|-------|\n",
    "| BERTScore| | | |\n",
    "| ROUGE-1| | | |\n",
    "| ROUGE-2| | | |\n",
    "\n",
    "* BERTScore Average: Precision = ?, Recall = ?, F1 = ?\n",
    "* ROUGE-1 Average: Precision = ?, Recall = ?, F1 = ?\n",
    "* ROUGE-2 Average: Precision = ?, Recall = ?, F1 = ?"
   ]
  },
  {
   "cell_type": "markdown",
   "metadata": {},
   "source": [
    "### Total Time Executions\n",
    "\n",
    "|Time (s) | T1 | T2 |\n",
    "|----|----|----|\n",
    "|    | 100.123 | 123.123 |"
   ]
  },
  {
   "cell_type": "markdown",
   "metadata": {},
   "source": [
    "### Review\n",
    "1. Summarization is a complex task, even advanced models can struggle to accurately capture all the important information from a source text.\n",
    "\n",
    "2. BERTScore or ROUGE that these metrics focus on things like including keywords from the source text, so that do not perfectly reflect human judgement of a good summary.\n",
    "\n",
    "3. The response of chatbot from many different sources.\n"
   ]
  },
  {
   "cell_type": "markdown",
   "metadata": {},
   "source": [
    "### HUMAN EVALUATION IS THE BEST WAY TO EVALUATE THE QUALITY OF A SUMMARY"
   ]
  },
  {
   "cell_type": "code",
   "execution_count": null,
   "metadata": {},
   "outputs": [],
   "source": []
  }
 ],
 "metadata": {
  "kernelspec": {
   "display_name": "venv",
   "language": "python",
   "name": "python3"
  },
  "language_info": {
   "codemirror_mode": {
    "name": "ipython",
    "version": 3
   },
   "file_extension": ".py",
   "mimetype": "text/x-python",
   "name": "python",
   "nbconvert_exporter": "python",
   "pygments_lexer": "ipython3",
   "version": "3.11.5"
  }
 },
 "nbformat": 4,
 "nbformat_minor": 2
}
