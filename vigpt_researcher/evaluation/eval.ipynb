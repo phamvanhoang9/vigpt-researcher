{
 "cells": [
  {
   "cell_type": "code",
   "execution_count": 27,
   "metadata": {},
   "outputs": [],
   "source": [
    "with open(\"hypos.txt\") as f:\n",
    "    hypos = [line.strip() for line in f]\n",
    "\n",
    "with open(\"ground_truths.txt\") as f:\n",
    "    ground_truths = [line.strip() for line in f]\n",
    "    \n",
    "with open(\"perplexity_hypos.txt\") as f:\n",
    "    perplexity_hypos = [line.strip() for line in f]"
   ]
  },
  {
   "cell_type": "code",
   "execution_count": 28,
   "metadata": {},
   "outputs": [],
   "source": [
    "# Normalize Vietnamese text\n",
    "import unicodedata\n",
    "import re\n",
    "\n",
    "def read_vi_text(text):\n",
    "    text = unicodedata.normalize(\"NFC\", text)\n",
    "    text = re.sub(r'\\s+', ' ', text)\n",
    "    return text\n",
    "\n",
    "read_vi = [read_vi_text(ground_truth) for ground_truth in ground_truths]"
   ]
  },
  {
   "cell_type": "code",
   "execution_count": 29,
   "metadata": {},
   "outputs": [
    {
     "data": {
      "text/plain": [
       "['Tổng quan về ngành Điện tử - Viễn thông của Đại học Bách Khoa Hà Nội:',\n",
       " '',\n",
       " '1. Giới thiệu',\n",
       " '',\n",
       " 'Ngành Điện tử - Viễn thông là một trong những ngành mũi nhọn của cuộc Cách mạng công nghiệp lần thứ 4 và là ngành có nhu cầu cao về nhân lực ở Việt Nam và trên thế giới.',\n",
       " '',\n",
       " 'Theo học ngành này, sinh viên được trang bị một cách toàn diện cả về kỹ năng chuyên môn và kỹ năng mềm để có thể thiết kế, chế tạo, vận hành các thiết bị và hệ thống điện tử viễn thông, đáp ứng được yêu cầu về tính năng động và sáng tạo của lĩnh vực nghề nghiệp này.',\n",
       " '',\n",
       " 'Chương trình kỹ thuật Điện tử- Viễn thông được giảng dạy bằng tiếng Việt và được thiết kế bao gồm khối kiến thức toán học và khoa học cơ bản, khối kiến thức cơ sở cốt lõi ngành Điện tử -Viễn thông, khối kiến thức bổ trợ kiến thức xã hội và kỹ năng mềm và khối kiến thức tự chọn chuyên sâu theo các định hướng kỹ thuật điện tử, kỹ thuật máy tính, kỹ thuật thông tin truyền thông, kỹ thuật y sinh, kỹ thuật điện tử hàng không vũ trụ, kỹ thuật đa phương tiện, kỹ thuật vi điện tử và công nghệ nano.',\n",
       " '',\n",
       " '2. Chương trình đào tạo',\n",
       " '',\n",
       " 'Sinh viên tốt nghiệp có khả năng vận dụng những kiến thức đã học được và khả năng khai thác các công cụ hiện đại để thiết kế, triển khai và đánh giá những sản phẩm trong lĩnh vực Điện tử - Viễn thông.',\n",
       " '',\n",
       " 'Sinh viễn tốt nghiệp được trang bị những kỹ năng và chuyên môn cần thiết nhất trong lĩnh vực Điện tử - Viễn thông kể cả môi trường trong nước và quốc tế.',\n",
       " '',\n",
       " 'Ngoại ngữ là yêu cầu bắt buộc của sinh viên tốt nghiệp ngành Điện tử - Viễn thông, đạt điểm TOEIC 500 trở lên.',\n",
       " '',\n",
       " 'Chương trình giảng dạy tùy thuộc vào chương trình mà sinh viên đang học. Chương trình có thể giảng dạy bằng tiếng Việt đối với hệ Đại trà, bằng tiếng Anh đối với chương trình Tiên tiến. Thời gian đào tạo cũng có sự khác nhau tùy vào nhu cầu và năng lực của sinh viên mà thời gian đào tạo có thể từ 4 đến 8,5 năm.',\n",
       " '',\n",
       " '3. Cơ hội nghề nghiệp',\n",
       " '',\n",
       " 'Cơ hội nghề nghiệp cho ngành này là rất lớn, sinh viên ngành Điện tử - Viễn thông sau khi tốt nghiệp có thể làm việc tại:',\n",
       " '',\n",
       " '- Các doanh nghiệp nghiên cứu, sản xuất, phát triển các sản phẩm điện tử.',\n",
       " '- Công ty cung cấp dịch vụ internet.',\n",
       " '- Công ty viễn thông.',\n",
       " '- Đài phát thanh truyền hình, công ty tư vấn mạng viễn thông.',\n",
       " '- Các hãng thiết bị.',\n",
       " '- Các tập đoàn, công ty đa quốc gia về Điện tử - Viễn thông',\n",
       " '',\n",
       " 'Theo thống kê, 95% sinh viên khoa Kỹ thuật Điện tử – Viễn thông Đại học Bách Khoa Hà Nội có việc làm ngay sau một năm tốt nghiệp với mức lương khởi điểm từ 8-20 triệu đồng. Điều này chứng tỏ sức hấp dẫn của ngành trên thị trường lao động.',\n",
       " '',\n",
       " '4. Cơ sở vật chất và môi trường học tập',\n",
       " '',\n",
       " 'Đại học Bách Khoa Hà Nội cung cấp đủ trang thiết bị, phòng thí nghiệm/thực hành, cơ sở vật chất hiện đại, đáp ứng đủ nhu cầu học tập và nghiên cứu của sinh viên.',\n",
       " '',\n",
       " '5. Học bổng và học phí',\n",
       " '',\n",
       " 'Sinh viên có cơ hội nhận học bổng của Trường, học bổng trao đổi sinh viên từ các doanh nghiệp và các trường Đại học quốc tế là đối tác của Viện Điện tử- Viễn thông. Tỉ lệ sinh viên đi du học có học bổng hàng năm chiến trên 20% tổng số sinh viên tốt nghiệp.',\n",
       " '',\n",
       " '6. Kết luận',\n",
       " '',\n",
       " 'Trong thời đại cách mạng công nghiệp 4.0 ngày nay, Điện tử - Viễn thông có thể được coi là ngành công nghiệp mũi nhọn cần được phát triển. Với những cơ hội tốt mà Đại học Bách Khoa Hà Nội mang đến như là chương trình đào tạo, cơ hội nghề nghiệp, các chính sách/học bổng,...sẽ rất xứng đáng cho những ai đang mong muốn theo đuổi ngành Điện tử - Viên thông của Đại học Bách Khoa Hà Nội.']"
      ]
     },
     "execution_count": 29,
     "metadata": {},
     "output_type": "execute_result"
    }
   ],
   "source": [
    "read_vi"
   ]
  },
  {
   "cell_type": "code",
   "execution_count": 30,
   "metadata": {},
   "outputs": [
    {
     "name": "stdout",
     "output_type": "stream",
     "text": [
      "Tổng quan về ngành Điện tử - Viễn thông của Đại học Bách Khoa Hà Nội:\n",
      "\n",
      "\n",
      "\n",
      "1. Giới thiệu\n",
      "\n",
      "\n",
      "\n",
      "Ngành Điện tử - Viễn thông là một trong những ngành mũi nhọn của cuộc Cách mạng công nghiệp lần thứ 4 và là ngành có nhu\n",
      "cầu cao về nhân lực ở Việt Nam và trên thế giới.\n",
      "\n",
      "\n",
      "\n",
      "Theo học ngành này, sinh viên được trang bị một cách toàn diện cả về kỹ năng chuyên môn và kỹ năng mềm để có thể thiết\n",
      "kế, chế tạo, vận hành các thiết bị và hệ thống điện tử viễn thông, đáp ứng được yêu cầu về tính năng động và sáng tạo\n",
      "của lĩnh vực nghề nghiệp này.\n",
      "\n",
      "\n",
      "\n",
      "Chương trình kỹ thuật Điện tử- Viễn thông được giảng dạy bằng tiếng Việt và được thiết kế bao gồm khối kiến thức toán\n",
      "học và khoa học cơ bản, khối kiến thức cơ sở cốt lõi ngành Điện tử -Viễn thông, khối kiến thức bổ trợ kiến thức xã hội\n",
      "và kỹ năng mềm và khối kiến thức tự chọn chuyên sâu theo các định hướng kỹ thuật điện tử, kỹ thuật máy tính, kỹ thuật\n",
      "thông tin truyền thông, kỹ thuật y sinh, kỹ thuật điện tử hàng không vũ trụ, kỹ thuật đa phương tiện, kỹ thuật vi điện\n",
      "tử và công nghệ nano.\n",
      "\n",
      "\n",
      "\n",
      "2. Chương trình đào tạo\n",
      "\n",
      "\n",
      "\n",
      "Sinh viên tốt nghiệp có khả năng vận dụng những kiến thức đã học được và khả năng khai thác các công cụ hiện đại để\n",
      "thiết kế, triển khai và đánh giá những sản phẩm trong lĩnh vực Điện tử - Viễn thông.\n",
      "\n",
      "\n",
      "\n",
      "Sinh viễn tốt nghiệp được trang bị những kỹ năng và chuyên môn cần thiết nhất trong lĩnh vực Điện tử - Viễn thông kể cả\n",
      "môi trường trong nước và quốc tế.\n",
      "\n",
      "\n",
      "\n",
      "Ngoại ngữ là yêu cầu bắt buộc của sinh viên tốt nghiệp ngành Điện tử - Viễn thông, đạt điểm TOEIC 500 trở lên.\n",
      "\n",
      "\n",
      "\n",
      "Chương trình giảng dạy tùy thuộc vào chương trình mà sinh viên đang học. Chương trình có thể giảng dạy bằng tiếng Việt\n",
      "đối với hệ Đại trà, bằng tiếng Anh đối với chương trình Tiên tiến. Thời gian đào tạo cũng có sự khác nhau tùy vào nhu\n",
      "cầu và năng lực của sinh viên mà thời gian đào tạo có thể từ 4 đến 8,5 năm.\n",
      "\n",
      "\n",
      "\n",
      "3. Cơ hội nghề nghiệp\n",
      "\n",
      "\n",
      "\n",
      "Cơ hội nghề nghiệp cho ngành này là rất lớn, sinh viên ngành Điện tử - Viễn thông sau khi tốt nghiệp có thể làm việc\n",
      "tại:\n",
      "\n",
      "\n",
      "\n",
      "- Các doanh nghiệp nghiên cứu, sản xuất, phát triển các sản phẩm điện tử.\n",
      "\n",
      "- Công ty cung cấp dịch vụ internet.\n",
      "\n",
      "- Công ty viễn thông.\n",
      "\n",
      "- Đài phát thanh truyền hình, công ty tư vấn mạng viễn thông.\n",
      "\n",
      "- Các hãng thiết bị.\n",
      "\n",
      "- Các tập đoàn, công ty đa quốc gia về Điện tử - Viễn thông\n",
      "\n",
      "\n",
      "\n",
      "Theo thống kê, 95% sinh viên khoa Kỹ thuật Điện tử – Viễn thông Đại học Bách Khoa Hà Nội có việc làm ngay sau một năm\n",
      "tốt nghiệp với mức lương khởi điểm từ 8-20 triệu đồng. Điều này chứng tỏ sức hấp dẫn của ngành trên thị trường lao động.\n",
      "\n",
      "\n",
      "\n",
      "4. Cơ sở vật chất và môi trường học tập\n",
      "\n",
      "\n",
      "\n",
      "Đại học Bách Khoa Hà Nội cung cấp đủ trang thiết bị, phòng thí nghiệm/thực hành, cơ sở vật chất hiện đại, đáp ứng đủ nhu\n",
      "cầu học tập và nghiên cứu của sinh viên.\n",
      "\n",
      "\n",
      "\n",
      "5. Học bổng và học phí\n",
      "\n",
      "\n",
      "\n",
      "Sinh viên có cơ hội nhận học bổng của Trường, học bổng trao đổi sinh viên từ các doanh nghiệp và các trường Đại học quốc\n",
      "tế là đối tác của Viện Điện tử- Viễn thông. Tỉ lệ sinh viên đi du học có học bổng hàng năm chiến trên 20% tổng số sinh\n",
      "viên tốt nghiệp.\n",
      "\n",
      "\n",
      "\n",
      "6. Kết luận\n",
      "\n",
      "\n",
      "\n",
      "Trong thời đại cách mạng công nghiệp 4.0 ngày nay, Điện tử - Viễn thông có thể được coi là ngành công nghiệp mũi nhọn\n",
      "cần được phát triển. Với những cơ hội tốt mà Đại học Bách Khoa Hà Nội mang đến như là chương trình đào tạo, cơ hội nghề\n",
      "nghiệp, các chính sách/học bổng,...sẽ rất xứng đáng cho những ai đang mong muốn theo đuổi ngành Điện tử - Viên thông của\n",
      "Đại học Bách Khoa Hà Nội.\n",
      "\n"
     ]
    }
   ],
   "source": [
    "import textwrap\n",
    "\n",
    "for ref in read_vi:\n",
    "    print(textwrap.fill(ref, width=120))\n",
    "    print()"
   ]
  },
  {
   "cell_type": "code",
   "execution_count": 31,
   "metadata": {},
   "outputs": [],
   "source": [
    "from unidecode import unidecode\n",
    "import re\n",
    "\n",
    "def normalize_text(text):\n",
    "    \"\"\"\n",
    "    Normalize Vietnamese text by converting it to its ASCII representation and removing accents.\n",
    "    \n",
    "    Args:\n",
    "    text (str): Input Vietnamese text to be normalized.\n",
    "    \n",
    "    Returns:\n",
    "    str: Normalized text with accents removed.\n",
    "    \"\"\"\n",
    "    normalized_text = unidecode(text)\n",
    "    normalized_text = re.sub(r'\\s+', ' ', normalized_text).strip().lower()\n",
    "    return normalized_text\n"
   ]
  },
  {
   "cell_type": "code",
   "execution_count": 32,
   "metadata": {},
   "outputs": [],
   "source": [
    "hypos = [' '.join(normalize_text(hypo) for hypo in hypos)]"
   ]
  },
  {
   "cell_type": "code",
   "execution_count": 33,
   "metadata": {},
   "outputs": [
    {
     "data": {
      "text/plain": [
       "['# tong quan ve nganh dien tu - vien thong cua dai hoc bach khoa ha noi  nganh dien tu - vien thong cua dai hoc bach khoa ha noi (hust) la mot trong nhung nganh hoc chu chot, phan anh su phat trien manh me cua cong nghe thong tin va truyen thong trong ky nguyen so hien nay. duoc biet den la mot trong nhung truong dai hoc hang dau viet nam, hust khong chi cung cap mot nen giao duc chat luong cao ma con la noi hinh thanh nen nhung ky su tai nang, san sang dap ung nhu cau nhan luc chat luong cao cua nganh cong nghiep nay khong chi o viet nam ma con tren toan the gioi.  ## chuong trinh dao tao  chuong trinh dao tao nganh dien tu - vien thong tai hust duoc thiet ke de trang bi cho sinh vien mot nen tang kien thuc vung chac, bao gom ca ly thuyet va thuc hanh. chuong trinh bao gom cac khoi kien thuc toan hoc va khoa hoc co ban, kien thuc co so nganh, kien thuc bo tro xa hoi va ky nang mem, cung nhu khoi kien thuc tu chon chuyen sau theo cac dinh huong ky thuat khac nhau nhu dien tu, may tinh, thong tin truyen thong, y sinh, hang khong vu tru, da phuong tien, vi dien tu va cong nghe nano (hust, n.d.).  sinh vien co co hoi tham gia vao cac chuong trinh song bang voi cac truong dai hoc doi tac quoc te, mo rong co hoi hoc tap va nghien cuu trong moi truong quoc te. dieu nay khong chi giup sinh vien nang cao trinh do chuyen mon ma con phat trien ky nang lam viec trong moi truong da van hoa, da ngon ngu, mot loi the canh tranh quan trong trong thi truong lao dong toan cau hien nay (hust, n.d.).  ## co hoi nghe nghiep  voi su phat trien khong ngung cua cong nghe, nganh dien tu - vien thong dang chung kien mot nhu cau lon ve nhan luc chat luong cao. sinh vien tot nghiep tu hust co the dam nhan nhieu vi tri cong viec khac nhau trong linh vuc nay, tu ky su thiet ke, van hanh thiet bi va he thong dien tu vien thong, den nghien cuu va phat trien trong cac linh vuc nhu vien thong, internet, phan cung va phan mem cho thiet bi thong minh (hust, n.d.).  theo thong ke, 95% sinh vien khoa ky thuat dien tu - vien thong dai hoc bach khoa ha noi co viec lam ngay sau mot nam tot nghiep voi muc luong khoi diem tu 8-20 trieu dong, phan anh suc hap dan cua nganh doi voi thi truong lao dong (hocmai.vn, n.d.).  ## co so vat chat va moi truong hoc tap  dai hoc bach khoa ha noi da dau tu manh me vao co so vat chat de ho tro cong tac giang day va nghien cuu. he thong phong thi nghiem dong bo, trang thiet bi may moc hien dai, cung voi cac giang duong duoc trang bi day du tien nghi, tao dieu kien tot nhat cho sinh vien trong qua trinh hoc tap va thuc hanh (hust, n.d.).  ## hoc phi va hoc bong  hoc phi cho chuong trinh dao tao duoc cap nhat thuong xuyen tren trang web cua truong, va sinh vien co co hoi nhan hoc bong tu truong, cac doanh nghiep, va cac truong dai hoc quoc te doi tac. ti le sinh vien di du hoc co hoc bong hang nam chiem tren 20% tong so sinh vien tot nghiep, mot con so an tuong cho thay chat luong dao tao va su quan tam cua truong doi voi su phat trien cua sinh vien (hust, n.d.).  ## ket luan  nganh dien tu - vien thong tai dai hoc bach khoa ha noi khong chi cung cap mot chuong trinh dao tao chat luong cao ma con mo ra co hoi nghe nghiep rong lon cho sinh vien trong thoi dai so. voi su dau tu manh me vao co so vat chat, chuong trinh hoc linh hoat va co hoi hoc bong hap dan, hust dang la diem den ly tuong cho nhung ai muon theo duoi su nghiep trong linh vuc dien tu - vien thong.']"
      ]
     },
     "execution_count": 33,
     "metadata": {},
     "output_type": "execute_result"
    }
   ],
   "source": [
    "hypos"
   ]
  },
  {
   "cell_type": "code",
   "execution_count": 34,
   "metadata": {},
   "outputs": [],
   "source": [
    "ground_truths = [' '.join(normalize_text(ground_truth) for ground_truth in ground_truths)]"
   ]
  },
  {
   "cell_type": "code",
   "execution_count": 35,
   "metadata": {},
   "outputs": [
    {
     "data": {
      "text/plain": [
       "['tong quan ve nganh dien tu - vien thong cua dai hoc bach khoa ha noi:  1. gioi thieu  nganh dien tu - vien thong la mot trong nhung nganh mui nhon cua cuoc cach mang cong nghiep lan thu 4 va la nganh co nhu cau cao ve nhan luc o viet nam va tren the gioi.  theo hoc nganh nay, sinh vien duoc trang bi mot cach toan dien ca ve ky nang chuyen mon va ky nang mem de co the thiet ke, che tao, van hanh cac thiet bi va he thong dien tu vien thong, dap ung duoc yeu cau ve tinh nang dong va sang tao cua linh vuc nghe nghiep nay.  chuong trinh ky thuat dien tu- vien thong duoc giang day bang tieng viet va duoc thiet ke bao gom khoi kien thuc toan hoc va khoa hoc co ban, khoi kien thuc co so cot loi nganh dien tu -vien thong, khoi kien thuc bo tro kien thuc xa hoi va ky nang mem va khoi kien thuc tu chon chuyen sau theo cac dinh huong ky thuat dien tu, ky thuat may tinh, ky thuat thong tin truyen thong, ky thuat y sinh, ky thuat dien tu hang khong vu tru, ky thuat da phuong tien, ky thuat vi dien tu va cong nghe nano.  2. chuong trinh dao tao  sinh vien tot nghiep co kha nang van dung nhung kien thuc da hoc duoc va kha nang khai thac cac cong cu hien dai de thiet ke, trien khai va danh gia nhung san pham trong linh vuc dien tu - vien thong.  sinh vien tot nghiep duoc trang bi nhung ky nang va chuyen mon can thiet nhat trong linh vuc dien tu - vien thong ke ca moi truong trong nuoc va quoc te.  ngoai ngu la yeu cau bat buoc cua sinh vien tot nghiep nganh dien tu - vien thong, dat diem toeic 500 tro len.  chuong trinh giang day tuy thuoc vao chuong trinh ma sinh vien dang hoc. chuong trinh co the giang day bang tieng viet doi voi he dai tra, bang tieng anh doi voi chuong trinh tien tien. thoi gian dao tao cung co su khac nhau tuy vao nhu cau va nang luc cua sinh vien ma thoi gian dao tao co the tu 4 den 8,5 nam.  3. co hoi nghe nghiep  co hoi nghe nghiep cho nganh nay la rat lon, sinh vien nganh dien tu - vien thong sau khi tot nghiep co the lam viec tai:  - cac doanh nghiep nghien cuu, san xuat, phat trien cac san pham dien tu. - cong ty cung cap dich vu internet. - cong ty vien thong. - dai phat thanh truyen hinh, cong ty tu van mang vien thong. - cac hang thiet bi. - cac tap doan, cong ty da quoc gia ve dien tu - vien thong  theo thong ke, 95% sinh vien khoa ky thuat dien tu - vien thong dai hoc bach khoa ha noi co viec lam ngay sau mot nam tot nghiep voi muc luong khoi diem tu 8-20 trieu dong. dieu nay chung to suc hap dan cua nganh tren thi truong lao dong.  4. co so vat chat va moi truong hoc tap  dai hoc bach khoa ha noi cung cap du trang thiet bi, phong thi nghiem/thuc hanh, co so vat chat hien dai, dap ung du nhu cau hoc tap va nghien cuu cua sinh vien.  5. hoc bong va hoc phi  sinh vien co co hoi nhan hoc bong cua truong, hoc bong trao doi sinh vien tu cac doanh nghiep va cac truong dai hoc quoc te la doi tac cua vien dien tu- vien thong. ti le sinh vien di du hoc co hoc bong hang nam chien tren 20% tong so sinh vien tot nghiep.  6. ket luan  trong thoi dai cach mang cong nghiep 4.0 ngay nay, dien tu - vien thong co the duoc coi la nganh cong nghiep mui nhon can duoc phat trien. voi nhung co hoi tot ma dai hoc bach khoa ha noi mang den nhu la chuong trinh dao tao, co hoi nghe nghiep, cac chinh sach/hoc bong,...se rat xung dang cho nhung ai dang mong muon theo duoi nganh dien tu - vien thong cua dai hoc bach khoa ha noi.']"
      ]
     },
     "execution_count": 35,
     "metadata": {},
     "output_type": "execute_result"
    }
   ],
   "source": [
    "ground_truths"
   ]
  },
  {
   "cell_type": "code",
   "execution_count": 36,
   "metadata": {},
   "outputs": [],
   "source": [
    "perplexity_hypos = [' '.join(normalize_text(perplexity) for perplexity in perplexity_hypos)]"
   ]
  },
  {
   "cell_type": "code",
   "execution_count": 37,
   "metadata": {},
   "outputs": [
    {
     "data": {
      "text/plain": [
       "['nganh dien tu - vien thong cua dai hoc bach khoa ha noi (bk hanoi) la mot trong nhung nganh ky thuat co uy tin va phat trien tai viet nam. duoi day la mot tong quan ve nganh nay tai dai hoc bach khoa ha noi:  lich su va phat trien: nganh dien tu - vien thong tai bk hanoi da co mat tu lau trong he thong giao duc ky thuat cua viet nam. nganh nay lien tuc duoc cap nhat voi cac cong nghe moi va xu huong phat trien trong nganh.  chuong trinh dao tao: bk hanoi cung cap cac chuong trinh dao tao ve dien tu - vien thong o ca cap dai hoc va sau dai hoc. chuong trinh dao tao bao gom ca ly thuyet va thuc hanh, giup sinh vien co kien thuc co ban va ky nang thuc hanh de ap dung trong cong viec sau nay.  cac mon hoc chinh: sinh vien se hoc cac mon nhu dien tu, vien thong, vi xu ly, he thong so, dong dien tu, mach dien tu, anten va song vo tuyen, vien thong so, vien thong quang, va nhieu chuyen nganh khac.  co so vat chat: bk hanoi dau tu vao co so vat chat hien dai, bao gom phong thi nghiem, trang thiet bi va phan mem can thiet de sinh vien co the thuc hanh va nghien cuu.  nghien cuu va ung dung: nganh nay khong chi tap trung vao viec giang day ma con thuc day hoat dong nghien cuu va ung dung cong nghe trong thuc te. sinh vien thuong duoc khuyen khich tham gia vao cac du an nghien cuu va thuc tap tai cac doanh nghiep va to chuc co lien quan.  co hoi nghe nghiep: sinh vien tot nghiep nganh dien tu - vien thong tu bk hanoi co nhieu co hoi nghe nghiep trong cac linh vuc nhu vien thong di dong, internet of things (iot), truyen thong, san xuat thiet bi dien tu va vien thong, dich vu vien thong, va nhieu linh vuc cong nghe thong tin khac.  tong quan tren cho thay nganh dien tu - vien thong tai dai hoc bach khoa ha noi la mot nganh hoc day tiem nang va co hoi, cung cap cho sinh vien kien thuc va ky nang can thiet de thanh cong trong su nghiep sau nay.']"
      ]
     },
     "execution_count": 37,
     "metadata": {},
     "output_type": "execute_result"
    }
   ],
   "source": [
    "perplexity_hypos"
   ]
  },
  {
   "cell_type": "code",
   "execution_count": 38,
   "metadata": {},
   "outputs": [],
   "source": [
    "import textwrap\n",
    "\n",
    "def wraptext(documents, width=120):\n",
    "    for idx, doc in enumerate(documents, start=1):\n",
    "        print(f\"Document {idx}:\")\n",
    "        wrapped_lines = textwrap.wrap(doc, width=width)\n",
    "        for line in wrapped_lines:\n",
    "            print(line)\n",
    "        print(\"-\" * width)"
   ]
  },
  {
   "cell_type": "code",
   "execution_count": 39,
   "metadata": {},
   "outputs": [
    {
     "name": "stdout",
     "output_type": "stream",
     "text": [
      "Document 1:\n",
      "tong quan ve nganh dien tu - vien thong cua dai hoc bach khoa ha noi:  1. gioi thieu  nganh dien tu - vien thong la mot\n",
      "trong nhung nganh mui nhon cua cuoc cach mang cong nghiep lan thu 4 va la nganh co nhu cau cao ve nhan luc o viet nam va\n",
      "tren the gioi.  theo hoc nganh nay, sinh vien duoc trang bi mot cach toan dien ca ve ky nang chuyen mon va ky nang mem\n",
      "de co the thiet ke, che tao, van hanh cac thiet bi va he thong dien tu vien thong, dap ung duoc yeu cau ve tinh nang\n",
      "dong va sang tao cua linh vuc nghe nghiep nay.  chuong trinh ky thuat dien tu- vien thong duoc giang day bang tieng viet\n",
      "va duoc thiet ke bao gom khoi kien thuc toan hoc va khoa hoc co ban, khoi kien thuc co so cot loi nganh dien tu -vien\n",
      "thong, khoi kien thuc bo tro kien thuc xa hoi va ky nang mem va khoi kien thuc tu chon chuyen sau theo cac dinh huong ky\n",
      "thuat dien tu, ky thuat may tinh, ky thuat thong tin truyen thong, ky thuat y sinh, ky thuat dien tu hang khong vu tru,\n",
      "ky thuat da phuong tien, ky thuat vi dien tu va cong nghe nano.  2. chuong trinh dao tao  sinh vien tot nghiep co kha\n",
      "nang van dung nhung kien thuc da hoc duoc va kha nang khai thac cac cong cu hien dai de thiet ke, trien khai va danh gia\n",
      "nhung san pham trong linh vuc dien tu - vien thong.  sinh vien tot nghiep duoc trang bi nhung ky nang va chuyen mon can\n",
      "thiet nhat trong linh vuc dien tu - vien thong ke ca moi truong trong nuoc va quoc te.  ngoai ngu la yeu cau bat buoc\n",
      "cua sinh vien tot nghiep nganh dien tu - vien thong, dat diem toeic 500 tro len.  chuong trinh giang day tuy thuoc vao\n",
      "chuong trinh ma sinh vien dang hoc. chuong trinh co the giang day bang tieng viet doi voi he dai tra, bang tieng anh doi\n",
      "voi chuong trinh tien tien. thoi gian dao tao cung co su khac nhau tuy vao nhu cau va nang luc cua sinh vien ma thoi\n",
      "gian dao tao co the tu 4 den 8,5 nam.  3. co hoi nghe nghiep  co hoi nghe nghiep cho nganh nay la rat lon, sinh vien\n",
      "nganh dien tu - vien thong sau khi tot nghiep co the lam viec tai:  - cac doanh nghiep nghien cuu, san xuat, phat trien\n",
      "cac san pham dien tu. - cong ty cung cap dich vu internet. - cong ty vien thong. - dai phat thanh truyen hinh, cong ty\n",
      "tu van mang vien thong. - cac hang thiet bi. - cac tap doan, cong ty da quoc gia ve dien tu - vien thong  theo thong ke,\n",
      "95% sinh vien khoa ky thuat dien tu - vien thong dai hoc bach khoa ha noi co viec lam ngay sau mot nam tot nghiep voi\n",
      "muc luong khoi diem tu 8-20 trieu dong. dieu nay chung to suc hap dan cua nganh tren thi truong lao dong.  4. co so vat\n",
      "chat va moi truong hoc tap  dai hoc bach khoa ha noi cung cap du trang thiet bi, phong thi nghiem/thuc hanh, co so vat\n",
      "chat hien dai, dap ung du nhu cau hoc tap va nghien cuu cua sinh vien.  5. hoc bong va hoc phi  sinh vien co co hoi nhan\n",
      "hoc bong cua truong, hoc bong trao doi sinh vien tu cac doanh nghiep va cac truong dai hoc quoc te la doi tac cua vien\n",
      "dien tu- vien thong. ti le sinh vien di du hoc co hoc bong hang nam chien tren 20% tong so sinh vien tot nghiep.  6. ket\n",
      "luan  trong thoi dai cach mang cong nghiep 4.0 ngay nay, dien tu - vien thong co the duoc coi la nganh cong nghiep mui\n",
      "nhon can duoc phat trien. voi nhung co hoi tot ma dai hoc bach khoa ha noi mang den nhu la chuong trinh dao tao, co hoi\n",
      "nghe nghiep, cac chinh sach/hoc bong,...se rat xung dang cho nhung ai dang mong muon theo duoi nganh dien tu - vien\n",
      "thong cua dai hoc bach khoa ha noi.\n",
      "------------------------------------------------------------------------------------------------------------------------\n",
      "None\n"
     ]
    }
   ],
   "source": [
    "print(wraptext(ground_truths))"
   ]
  },
  {
   "cell_type": "markdown",
   "metadata": {},
   "source": [
    "### Using BERTScore for Evaluation"
   ]
  },
  {
   "cell_type": "markdown",
   "metadata": {},
   "source": [
    "1. BERTScore is used to measure textual similarity between candidate texts and reference texts. It considers not only exact word matches but also the overall meaning, fluency, and order of the ouput.\n",
    "\n",
    "2. BERTScore: Precision, Recall, F1\n",
    "    * Precision measures how well the candidate texts avoid introducing irrelevant content.\n",
    "    * Recall measures how well the candidate texts avoid omitting relevant content.\n",
    "    * F1 = 2 x (P x R)/(P + R) "
   ]
  },
  {
   "cell_type": "code",
   "execution_count": 40,
   "metadata": {},
   "outputs": [],
   "source": [
    "# Hide the loading messages\n",
    "import logging\n",
    "import transformers\n",
    "transformers.tokenization_utils.logger.setLevel(logging.ERROR)\n",
    "transformers.configuration_utils.logger.setLevel(logging.ERROR)\n",
    "transformers.modeling_utils.logger.setLevel(logging.ERROR)"
   ]
  },
  {
   "cell_type": "code",
   "execution_count": 41,
   "metadata": {},
   "outputs": [],
   "source": [
    "from bert_score import score"
   ]
  },
  {
   "cell_type": "code",
   "execution_count": 42,
   "metadata": {},
   "outputs": [],
   "source": [
    "def bert_score(hypos, refs, lang=\"vi\"):\n",
    "    bert_scores = []\n",
    "    for hypo in hypos:\n",
    "        for ref in refs:\n",
    "            scores = score([hypo], [ref], lang=lang, verbose=False)\n",
    "            bert_scores.append(scores)\n",
    "    return bert_scores"
   ]
  },
  {
   "cell_type": "code",
   "execution_count": 43,
   "metadata": {},
   "outputs": [],
   "source": [
    "bert_scores = bert_score(hypos, ground_truths)"
   ]
  },
  {
   "cell_type": "code",
   "execution_count": 44,
   "metadata": {},
   "outputs": [
    {
     "data": {
      "text/plain": [
       "[(tensor([0.8185]), tensor([0.8376]), tensor([0.8279]))]"
      ]
     },
     "execution_count": 44,
     "metadata": {},
     "output_type": "execute_result"
    }
   ],
   "source": [
    "bert_scores"
   ]
  },
  {
   "cell_type": "code",
   "execution_count": 45,
   "metadata": {},
   "outputs": [],
   "source": [
    "import torch\n",
    "\n",
    "precision = torch.mean(torch.stack([bert_score[0] for bert_score in bert_scores]))\n",
    "recall = torch.mean(torch.stack([bert_score[1] for bert_score in bert_scores]))\n",
    "f1 = torch.mean(torch.stack([bert_score[2] for bert_score in bert_scores]))"
   ]
  },
  {
   "cell_type": "code",
   "execution_count": 46,
   "metadata": {},
   "outputs": [
    {
     "name": "stdout",
     "output_type": "stream",
     "text": [
      "BERT score:\n",
      "P: 0.82, R: 0.84, F1: 0.83\n"
     ]
    }
   ],
   "source": [
    "print(\"BERT score:\")\n",
    "print(f\"P: {precision.item():.2f}, R: {recall.item():.2f}, F1: {f1.item():.2f}\")"
   ]
  },
  {
   "cell_type": "markdown",
   "metadata": {},
   "source": [
    "### Using ROUGE score for Evaluation"
   ]
  },
  {
   "cell_type": "code",
   "execution_count": 47,
   "metadata": {},
   "outputs": [],
   "source": [
    "from rouge_score import rouge_scorer\n",
    "\n",
    "def rouge_score(hypos, refs):\n",
    "    scorer = rouge_scorer.RougeScorer(['rouge1', 'rouge2', 'rougeL'], use_stemmer=True)\n",
    "    scores = [scorer.score(ref, hypo) for ref, hypo in zip(refs, hypos)]\n",
    "    return scores\n",
    "\n",
    "rouge = rouge_score(hypos, ground_truths)"
   ]
  },
  {
   "cell_type": "code",
   "execution_count": 48,
   "metadata": {},
   "outputs": [
    {
     "data": {
      "text/plain": [
       "[{'rouge1': Score(precision=0.7148703956343793, recall=0.721763085399449, fmeasure=0.7183002056202878),\n",
       "  'rouge2': Score(precision=0.41120218579234974, recall=0.41517241379310343, fmeasure=0.4131777625257378),\n",
       "  'rougeL': Score(precision=0.4229195088676671, recall=0.42699724517906334, fmeasure=0.4249485949280329)}]"
      ]
     },
     "execution_count": 48,
     "metadata": {},
     "output_type": "execute_result"
    }
   ],
   "source": [
    "rouge"
   ]
  },
  {
   "cell_type": "code",
   "execution_count": 49,
   "metadata": {},
   "outputs": [
    {
     "name": "stdout",
     "output_type": "stream",
     "text": [
      "ROUGE scores:\n",
      "ROUGE-1: P = 0.71, R = 0.72, F1 = 0.72\n",
      "ROUGE-2: P = 0.41, R = 0.42, F1 = 0.41\n",
      "ROUGE-L: P = 0.42, R = 0.43, F1 = 0.42\n"
     ]
    }
   ],
   "source": [
    "for i, score in enumerate(rouge):\n",
    "    print(\"ROUGE scores:\")\n",
    "    print(f\"ROUGE-1: P = {score['rouge1'].precision:.2f}, R = {score['rouge1'].recall:.2f}, F1 = {score['rouge1'].fmeasure:.2f}\")\n",
    "    print(f\"ROUGE-2: P = {score['rouge2'].precision:.2f}, R = {score['rouge2'].recall:.2f}, F1 = {score['rouge2'].fmeasure:.2f}\")\n",
    "    print(f\"ROUGE-L: P = {score['rougeL'].precision:.2f}, R = {score['rougeL'].recall:.2f}, F1 = {score['rougeL'].fmeasure:.2f}\")"
   ]
  },
  {
   "cell_type": "markdown",
   "metadata": {},
   "source": [
    "### Using Perplexity for Evaluation"
   ]
  },
  {
   "cell_type": "code",
   "execution_count": 50,
   "metadata": {},
   "outputs": [
    {
     "name": "stderr",
     "output_type": "stream",
     "text": [
      "Token indices sequence length is longer than the specified maximum sequence length for this model (601 > 512). Running this sequence through the model will result in indexing errors\n"
     ]
    }
   ],
   "source": [
    "# Define the function to calculate Perplexity score\n",
    "from transformers import BertTokenizer, BertForMaskedLM\n",
    "import torch\n",
    "\n",
    "\n",
    "def perplexity_score(hypos, tokenizer, model):\n",
    "    perplexity_scores = []\n",
    "    for hypo in hypos:\n",
    "        input_ids = tokenizer.encode(hypo, return_tensors=\"pt\")\n",
    "        # Truncate the sequence if it's longer than the model's maximum input length\n",
    "        if input_ids.size(1) > 512:\n",
    "            input_ids = input_ids[:, :512]\n",
    "        with torch.no_grad():\n",
    "            loss = model(input_ids, labels=input_ids)[0]\n",
    "        perplexity = torch.exp(loss).item()\n",
    "        perplexity_scores.append(perplexity)\n",
    "    return perplexity_scores\n",
    "\n",
    "# Load the pre-trained BERT model\n",
    "tokenizer = BertTokenizer.from_pretrained(\"bert-base-multilingual-cased\")\n",
    "model = BertForMaskedLM.from_pretrained(\"bert-base-multilingual-cased\")\n",
    "\n",
    "# Calculate the Perplexity score\n",
    "perplexity = perplexity_score(perplexity_hypos, tokenizer, model)"
   ]
  },
  {
   "cell_type": "code",
   "execution_count": 51,
   "metadata": {},
   "outputs": [
    {
     "data": {
      "text/plain": [
       "[1.0959974527359009]"
      ]
     },
     "execution_count": 51,
     "metadata": {},
     "output_type": "execute_result"
    }
   ],
   "source": [
    "perplexity"
   ]
  },
  {
   "cell_type": "code",
   "execution_count": 52,
   "metadata": {},
   "outputs": [
    {
     "name": "stdout",
     "output_type": "stream",
     "text": [
      "Perplexity: 1.10\n"
     ]
    }
   ],
   "source": [
    "for score in perplexity:\n",
    "    print(f\"Perplexity: {score:.2f}\")"
   ]
  },
  {
   "cell_type": "markdown",
   "metadata": {},
   "source": [
    "### RESULTS\n",
    "\n",
    "| METRIC   | Precision | Recall | F1 |\n",
    "|---------|----------|-------|-------|\n",
    "| BERTScore| | | |\n",
    "| ROUGE-1| | | |\n",
    "| ROUGE-2| | | |\n",
    "| ROUGE-L| | | |\n",
    "\n",
    "Perlexity = ?"
   ]
  },
  {
   "cell_type": "markdown",
   "metadata": {},
   "source": [
    "### Total Time Executions\n",
    "\n",
    "#### Đối với nhiệm vụ viết báo cáo nghiên cứu (kết quả thực nghiệm cho 5 câu hỏi khác nhau)\n",
    "\n",
    "|Time (s) | T1 | T2 |\n",
    "|----|----|----|\n",
    "|    | 100.123 | 123.123 |\n",
    "\n",
    "#### Đối với nhiệm vụ viết câu trả lời cho câu hỏi (kết quả thực nghiệm cho 5 câu hỏi khác nhau)\n",
    "\n",
    "|Time (s) | T1 | T2 |\n",
    "|----|----|----|\n",
    "|    | 100.123 | 123.123 |"
   ]
  },
  {
   "cell_type": "markdown",
   "metadata": {},
   "source": [
    "### Review\n",
    "1. Summarization is a complex task, even advanced models can struggle to accurately capture all the important information from a source text.\n",
    "\n",
    "2. BERTScore or ROUGE that these metrics focus on things like including keywords from the source text, so that do not perfectly reflect human judgement of a good summary.\n",
    "\n",
    "3. The response of chatbot from many different sources.\n"
   ]
  },
  {
   "cell_type": "markdown",
   "metadata": {},
   "source": [
    "### HUMAN EVALUATION IS THE BEST WAY TO EVALUATE THE QUALITY OF A SUMMARY"
   ]
  },
  {
   "cell_type": "code",
   "execution_count": null,
   "metadata": {},
   "outputs": [],
   "source": []
  }
 ],
 "metadata": {
  "kernelspec": {
   "display_name": "venv",
   "language": "python",
   "name": "python3"
  },
  "language_info": {
   "codemirror_mode": {
    "name": "ipython",
    "version": 3
   },
   "file_extension": ".py",
   "mimetype": "text/x-python",
   "name": "python",
   "nbconvert_exporter": "python",
   "pygments_lexer": "ipython3",
   "version": "3.11.5"
  }
 },
 "nbformat": 4,
 "nbformat_minor": 2
}
