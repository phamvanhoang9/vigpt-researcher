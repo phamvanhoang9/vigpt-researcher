{
 "cells": [
  {
   "cell_type": "code",
   "execution_count": 9,
   "metadata": {},
   "outputs": [],
   "source": [
    "import os \n",
    "\n",
    "hypos = []\n",
    "for root, dirs, files in os.walk(\"hypos\"):\n",
    "    for file in files:\n",
    "        if file.startswith(\"hypo\") and file.endswith(\".txt\"):\n",
    "            with open(os.path.join(root, file)) as f:\n",
    "                hypos.append([line.strip() for line in f])\n",
    "                \n",
    "ground_truths = []\n",
    "for root, dirs, files in os.walk(\"ground_truths\"):\n",
    "    for file in files:\n",
    "        if file.startswith(\"gt\") and file.endswith(\".txt\"):\n",
    "            with open(os.path.join(root, file)) as f:\n",
    "                ground_truths.append([line.strip() for line in f])"
   ]
  },
  {
   "cell_type": "code",
   "execution_count": 10,
   "metadata": {},
   "outputs": [
    {
     "data": {
      "text/plain": [
       "(3, 3)"
      ]
     },
     "execution_count": 10,
     "metadata": {},
     "output_type": "execute_result"
    }
   ],
   "source": [
    "len(hypos), len(ground_truths)"
   ]
  },
  {
   "cell_type": "code",
   "execution_count": 18,
   "metadata": {},
   "outputs": [],
   "source": [
    "# Normalize Vietnamese text\n",
    "import unicodedata\n",
    "import re\n",
    "\n",
    "def read_vi_text(text):\n",
    "    text = unicodedata.normalize(\"NFC\", text)\n",
    "    text = re.sub(r'\\s+', ' ', text)\n",
    "    return text\n",
    "\n",
    "read_vi = []\n",
    "for i, gt in enumerate(ground_truths):\n",
    "    ground_truths[i] = [read_vi_text(line) for line in gt]\n",
    "    read_vi.append(ground_truths[i])"
   ]
  },
  {
   "cell_type": "code",
   "execution_count": 19,
   "metadata": {},
   "outputs": [
    {
     "data": {
      "text/plain": [
       "[['1. Giới thiệu chung',\n",
       "  'Ngành Kỹ thuật Điện tử – Viễn thông là lĩnh vực nghiên cứu và ứng dụng các công nghệ tiên tiến nhất để phát triển các thiết bị điện tử và hệ thống viễn thông. Trong ngành này, có hai lĩnh vực chính là Điện tử và Viễn thông. Lĩnh vực Điện tử tập trung vào nghiên cứu và sản xuất vi mạch điện tử, là bộ não điều khiển của các thiết bị thông minh. Lĩnh vực Viễn thông tập trung vào nghiên cứu và sử dụng các thiết bị tạo nên hệ thống mạng viễn thông, bao gồm các thành phần như thiết bị truyền dẫn, thiết bị chuyển mạch, thiết bị đầu cuối và môi trường truyền. Ngành Kỹ thuật Điện tử - Viễn thông đóng vai trò quan trọng trong viêc giúp xây dựng và duy trì các hệ thống mạng thông tin liên lạc toàn cầu, đảm bảo việc trao đổi thông tin diễn ra thuận lợi mọi lúc, mọi nơi.',\n",
       "  '2. Chương trình đào tạo',\n",
       "  '1. Mục tiêu chương trình',\n",
       "  'Chương trình nhằm trang bị sinh viên với kiến thức và kỹ năng toàn diện về lĩnh vực Điện tử - Viễn thông. Sinh viên sẽ được phát triển về mặt chuyên môn, kỹ năng mềm và năng lực tự học để có thể thiết kế, chế tạo và vận hành các thiết bị và hệ thống điện tử viễn thông hiện đại.',\n",
       "  '2. Cấu trúc chương trình',\n",
       "  'Đào tạo Cử nhân: 4 năm',\n",
       "  'Đào tạo tích hợp Cử nhân - Kỹ sư: 5 năm',\n",
       "  'Đào tạo tích hợp Cử nhân - Thạc sĩ: 5,5 năm',\n",
       "  'Đào tạo Cử nhân - Thạc sĩ - Tiến sĩ: 8,5 năm',\n",
       "  'Chương trình được giảng dạy hoàn toàn bằng tiếng Anh và được giảng dạy bởi giảng viên Trường Đại học Bách khoa Hà Nội và giảng viên nước ngoài.',\n",
       "  'Sinh viên có thể theo học các chương trình cấp bằng kép với các trường đại học đối tác như Wollongong – Úc (2+2, 3+1), Telecom ParisTech – Pháp (4+2), Viện KAIST – Hàn Quốc. Ngoài ra, sau khi hoàn thành chương trình cử nhân 4 năm, sinh viên có thể học chương trình thạc sĩ tại Đại học bang San Jose.',\n",
       "  '3. Các chuyên ngành',\n",
       "  'Sinh viên sau khi học khối kiến thức toán học và khoa học cơ bản, khối kiến thức cơ sở cốt lõi ngành Điện tử -Viễn thông, khối kiến thức bổ trợ kiến thức xã hội và kỹ năng mềm thì có thể chọn theo học các chuyên ngành như kỹ thuật điện tử, kỹ thuật máy tính, kỹ thuật thông tin truyền thông, kỹ thuật y sinh, kỹ thuật điện tử hàng không vũ trụ, kỹ thuật đa phương tiện, kỹ thuật vi điện tử và công nghệ nano. Mỗi khối ngành tập trung vào các lĩnh vực cụ thể để phát triển kiến thức sâu rộng và kỹ năng chuyên môn cho sinh viên.',\n",
       "  '4. Phương pháp giảng dạy và học tập',\n",
       "  'Chương trình được giảng dạy bằng tiếng Việt và tiếng Anh bởi đội ngũ giảng viên có kinh nghiệm từ Trường Đại học Bách khoa Hà Nội và giảng viên nước ngoài. Sinh viên có cơ hội được tiếp cận với các phương pháp giảng dạy hiện đại, bao gồm các bài giảng, thảo luận nhóm, thực hành và dự án thực tế. Đồng thời, sinh viên cũng được khuyến khích phát triển kỹ năng tự học thông qua các tài liệu tham khảo và dự án nghiên cứu.',\n",
       "  '3. Cơ hội nghề nghiệp',\n",
       "  '1. Việc làm sau khi tốt nghiệp',\n",
       "  'Kỹ sư thiết kế và quản trị mạng viễn thông phức tạp.',\n",
       "  'Kỹ sư phát triển phần mềm cho các thiết bị thông minh như điện thoại di động, thiết bị IoT.',\n",
       "  'Kỹ sư vận hành hệ thống mạng viễn thông và hệ thống điện tử công nghiệp.',\n",
       "  'Chuyên gia tư vấn và bán hàng các sản phẩm điện tử và viễn thông.',\n",
       "  '2. Các công ty và tổ chức tuyển dụng',\n",
       "  'Các công ty và tổ chức tuyển dụng trong ngành này cung cấp nhiêu mức lương hấp dẫn nhằm thu hút và giữ chân nhân tài có trình độ và kỹ năng chuyên môn cao. Mức lương cụ thể có thể biến đổi tùy theo cấp độ chuyên môn và kinh nghiệm làm việc. Mức lương trung bình cho các kỹ sư trong ngành là khoảng 11 triệu đồng/tháng, trong khi mức lương cao nhất có thể lên đến 50 triệu đồng/tháng.',\n",
       "  '4. Nghiên cứu và phát triển',\n",
       "  '1. Các dự án nghiên cứu',\n",
       "  'Sinh viên được tham gia vào nhiều dự án nghiên cứu đa dạng trong lĩnh vực Viễn Thông. Các dự án này bao gồm nghiên cứu về kỹ thuật hệ thống thông tin, siêu cao tần và anten, mạng thông tin và mạng máy tính, xử lý số tín hiệu và ứng dụng.',\n",
       "  'Các dự án nghiên cứu này không chỉ mang tính ứng dụng mà còn đóng góp vào việc định hình và phát triển các công nghệ mới trong lĩnh vực Viễn Thông. Một trong những dự án được đầu tư lớn có thể kể tới như dự án SAHEP do Ngân hàng thế giới tài trợ.',\n",
       "  '2. Hợp tác quốc tế và công nghiệp',\n",
       "  'Sinh viên có cơ hội tham gia hợp tác trong việc thực hiện các dự án nghiên cứu và phát triển với các đối tác quốc tế lớn như Samsung, G-Innovations…',\n",
       "  'Sự hợp tác này không chỉ giúp trao đổi kiến thức và kỹ thuật mà còn tạo điều kiện cho sinh viên và cán bộ giảng dạy tham gia vào các dự án thực tế, nâng cao kỹ năng và kinh nghiệm trong ngành.',\n",
       "  '5. Cơ sở vật chất và môi trường học tập',\n",
       "  'Trường Đại học Bách Khoa Hà Nội có diện tích phục vụ giảng dạy và nghiên cứu khoa học rộng 26,2 hecta. Trường có hơn 200 giảng đường, phòng học, hội trường lớn và hệ thống phòng hội thảo; gần 200 phòng thí nghiệm, trong đó có 12 phòng thí nghiệm trọng điểm quốc gia và khoảng 20 xưởng thực tập, thực hành. Cơ sở vật chất hiện đại và tiện nghi được đầu tư, bao gồm hệ thống điều hòa và máy chiếu hiện đại trong 80% giảng đường, đảm bảo môi trường học tập và nghiên cứu chất lượng cao cho sinh viên.',\n",
       "  '6. Học bổng và hỗ trợ sinh viên',\n",
       "  '1. Các loại học bổng',\n",
       "  'Sinh viên học ngành Điện tử - Viễn thông Đại học Bách khoa Hà Nội có cơ hội nhận được nhiều học bổng khác nhau từ quỹ học bổng của trường hoặc từ các doanh nghiệp đối tác, môt số học bổng tiêu biểu có thể kể tới như:',\n",
       "  'Học bổng khuyến khích học tập',\n",
       "  'Học bổng Trần Đại Nghĩa',\n",
       "  'Học bổng tài trợ',\n",
       "  'Học bổn trao đổi sinh viên quốc tế',\n",
       "  '2. Cơ hội du học và trao đổi sinh viên',\n",
       "  'Sinh viên có cơ hội nhận học bổng của Trường, học bổng trao đổi sinh viên từ các doanh nghiệp và các trường Đại học quốc tế là đối tác của Viện Điện tử- Viễn thông. Tỉ lệ sinh viên đi du học có học bổng hàng năm chiến trên 20% tổng số sinh viên tốt nghiệp.',\n",
       "  '7. Điểm chuẩn và quy trình tuyển sinh',\n",
       "  'Trường Đại học Bách Khoa Hà Nội có tổng chỉ tiêu tuyển sinh ngành Điện tử - Viễn thông là 100 sinh viên, trong đó gôm 60 sinh viên cho mã ngành ET-E4 và 40 sinh viên cho mã ngành ET-LUH, sử dụng ba phương thức chính:',\n",
       "  '1. Xét tuyển tài năng (~20%): Thí sinh có thể dựa vào thành tích học tập xuất sắc, chứng chỉ quốc tế hoặc phỏng vấn.',\n",
       "  '2. Xét tuyển theo điểm thi Đánh giá tư duy (~30%): Thí sinh cần đạt điểm TSA do trường quy định.',\n",
       "  '3. Xét tuyển theo điểm thi tốt nghiệp THPT 2024 (~50%): Thí sinh cần đạt điểm sàn do trường quy định.',\n",
       "  '8. Đánh giá và phản hồi từ cựu sinh viên',\n",
       "  'Theo học ngành Kỹ thuật điện tử viễn thông (Mã ngành: ET1) tại Đại học Bách khoa Hà Nội sinh viên được trang bị một cách toàn diện cả về kỹ năng chuyên môn và kỹ năng mềm để có thể thiết kế, chế tạo, vận hành các thiết bị và hệ thống điện tử viễn thông, đáp ứng được yêu cầu về tính năng động và sáng tạo của lĩnh vực nghề nghiệp này',\n",
       "  'Ngành điện tử viễn thông khá là rộng và các lĩnh vực thuộc ngành này cũng khá đa dạng và tiềm năng. Sau khi tốt nghiệp ra trường, sinh viên theo học ngành này có thể lựa chọn nhiều cơ hội khác nhau với mức đãi ngộ hấp dẫn.',\n",
       "  '9. Kết luận và triển vọng tương lai',\n",
       "  'Tốc độ phát triển nhanh chóng của lĩnh vực Điện tử - Viễn Thông vẫn đang sản sinh ra nhiều nghề nghiệp mới mà có thể chính bạn là một trong những người tiên phong đảm nhận. Không chỉ các công ty trong lĩnh vực viễn thông như Viettel, VNPT, FPT mà các doanh nghiệp trong nhiều lĩnh vực khác như điện lực, ngân hàng, giao thông, quốc phòng - an ninh... vẫn cần sử dụng hạ tầng mạng viễn thông và máy tính. Điều đó có nghĩa bạn sẽ có nhiều sự lựa chọn để phát triển sự nghiệp tương lai của mình.'],\n",
       " ['1. Giới thiệu chung',\n",
       "  'Kỹ thuật Điện tử – Viễn thông là ngành nghiên cứu về việc ứng dụng kỹ thuật tiên tiến và công nghệ hiện đại nhất để tạo ra các thiết bị vệ tinh, cáp và thiết bị điện tử như: điện thoại, máy tính bảng, máy tính cá nhân, Tivi,…. Nhờ đó giúp con người xây dựng được hệ thống mạng thông tin liên lạc toàn cầu, giúp việc trao đổi thông tin được tiến hành thuận lợi bất chấp thời gian và không gian khác nhau.',\n",
       "  '2. Chương trình đào tạo',\n",
       "  'Mục tiêu của chương trình này là giúp đào tạo ra thế hệ kĩ sư tương lai cho một ngành rất quan trọng của đất nước.',\n",
       "  'Chương trình kỹ thuật Điện tử- Viễn thông được giảng dạy bằng tiếng Việt và được thiết kế bao gồm khối kiến thức toán học và khoa học cơ bản, khối kiến thức cơ sở cốt lõi ngành Điện tử -Viễn thông, khối kiến thức bổ trợ kiến thức xã hội và kỹ năng mềm và khối kiến thức tự chọn chuyên sâu theo các định hướng kỹ thuật điện tử, kỹ thuật máy tính, kỹ thuật thông tin truyền thông, kỹ thuật y sinh, kỹ thuật điện tử hàng không vũ trụ, kỹ thuật đa phương tiện, kỹ thuật vi điện tử và công nghệ nano.',\n",
       "  'Khoa Kỹ thuật Điện tử – Viễn thông hiện đang rất hot của Bách Khoa ở hiện tại và cả trong tương lai. Khi theo học, bạn sẽ được lựa chọn một trong các chuyên ngành:',\n",
       "  'Điện tử và kỹ thuật máy tính: chuyên về lập trình cho các hệ thống nhúng',\n",
       "  'Kỹ thuật thông tin – truyền thông: chuyên về hệ thống viễn thông, kỹ thuật truyền số liệu.',\n",
       "  'Kỹ thuật y sinh: chuyên nghiên cứu các thiết bị y tế phục vụ khám chữa bệnh',\n",
       "  'Kỹ thuật điện tử hàng không vũ trụ: nghiên cứu về các loại máy bay máy bay tự hành',\n",
       "  '– Kỹ thuật Đa phương tiện: nghiên cứu về các thiết bị nghe nhìn, điều chỉnh âm độ của các thiết bị thu âm,…',\n",
       "  'Theo học ngành này, sinh viên được trang bị một cách toàn diện cả về kỹ năng chuyên môn và kỹ năng mềm để có thể thiết kế, chế tạo, vận hành các thiết bị và hệ thống điện tử viễn thông, đáp ứng được yêu cầu về tính năng động và sáng tạo của lĩnh vực nghề nghiệp này.',\n",
       "  '3. Cơ hội nghề nghiệp',\n",
       "  'Sau khi tốt nghiệp ngành Điện tử – Viễn thông, bạn có thể đảm nhận một trong số những công việc dưới đây:',\n",
       "  'Kỹ sư trong lĩnh vực Kỹ thuật Viễn thông như nhà cung cấp dịch vụ mạng cố định hoặc di động, ISP. Kỹ sư phát triển phần mềm, thiết kế phần cứng và hệ thống nhúng.',\n",
       "  'Kỹ sư nghiên cứu và phát triển trong lĩnh vực viễn thông, Internet, phần cứng và phần mềm cho các thiết bị thông minh như thiết bị di động, thiết bị IoT, thiết bị y tế.',\n",
       "  'Kỹ sư vận hành hệ thống mạng viễn thông và hệ thống điện tử công nghiệp.',\n",
       "  'Tư vấn giải pháp, kinh doanh các sản phẩm điện tử, viễn thông.',\n",
       "  'Theo thống kê, 95% sinh viên khoa Kỹ thuật Điện tử – Viễn thông Đại học Bách Khoa Hà Nội có việc làm ngay sau một năm tốt nghiệp với mức lương khởi điểm từ 8-20 triệu đồng.',\n",
       "  '4. Nghiên cứu và phát triển',\n",
       "  'Phó giáo sư, Tiến sĩ Nguyễn Đức Minh - Viện trưởng Viện Điện tử - Viễn thông, ĐH Bách Khoa Hà Nội cho biết: \"Viện hiện có bốn kỳ thực tập với đối tác doanh nghiệp và công ty. Những em có khả năng tốt, ngay từ năm thứ ba hoặc thứ tư, đối tác có thể cấp học bổng để sinh viên tham gia vào các dự án của doanh nghiệp ngay từ khi còn ngồi trên ghế nhà trường\". Sinh viên đồng thời được tham gia vào các phòng thí nghiệm, nghiên cứu của viện. Tại đây, sinh viên có thể làm việc trong các dự án được tài trợ bởi nhà nước, doanh nghiệp lớn, để được tôi luyện lý thuyết về ngành và phát triển các kỹ năng thực hành, kỹ năng mềm về làm việc nhóm, quản lý dự án, đổi mới sáng tạo.',\n",
       "  '5. Cơ sở vật chất và môi trường học tập',\n",
       "  'Trường đã đầu tư cơ sở vật chất tiện nghi, hiện đại phục vụ cho công tác dạy học và nghiên cứu khoa học. 80% giảng đường được đầu tư hệ thống điều hòa công suất lớn với máy chiếu hiện đại, đảm bảo sức khỏe cho sinh viên yên tâm học tập. Hệ thống phòng thí nghiệm đồng bộ với trang thiết bị máy móc hiện đại.',\n",
       "  'Sinh viên được trải nghiệm trong môi trường thân thiện, hệ thống cơ sở vật chất hiện đại, đáp ứng nhu cầu học tập, nghiên cứu, tham gia các hoạt động thể thao, giải trí đa dạng.',\n",
       "  '',\n",
       "  '6. Học bổng và hỗ trợ sinh viên',\n",
       "  'Sinh viên có cơ hội nhận học bổng của Trường, trao đổi học bổng sinh viên từ các doanh nghiệp và các trường đại học quốc tế với tư cách là đối tác của Viện Điện tử Viễn thông. Tỷ lệ sinh viên du học được nhận học bổng hàng năm vượt quá 20% tổng số sinh viên tốt nghiệp, kể ra một số nguồn học bổng sau:',\n",
       "  '- Học bổng khuyến khích học tập (KKHT)',\n",
       "  '- Học bổng Trần Đại Nghĩa',\n",
       "  '- Học bổng tài trợ doanh nghiệp',\n",
       "  '- Học bổng trao đổi sinh viên quốc tế',\n",
       "  '7. Điểm chuẩn và quy trình tuyển sinh',\n",
       "  'Hiện tại có rất nhiều phương thức tuyển sinh vào ngành ĐT - VT của trường.',\n",
       "  'Theo thông tin mới nhất, phương thức tuyển sinh năm 2024 gồm các phương thức như sau:',\n",
       "  'Tổng chỉ tiêu: 480',\n",
       "  '· Kỳ thi tốt nghiệp THPT Quốc Gia - 35%',\n",
       "  '· Kỳ thi đánh giá năng lực ĐH Quốc Gia - 40%',\n",
       "  '· Xét tuyển thẳng - 5%',\n",
       "  '· Xét tuyển học lực kết hợp phỏng vấn - 10%',\n",
       "  '· Xét GPA, SAT và IELTS - 10%',\n",
       "  'Các em học sinh nên tìm hiểu kĩ từng phương thức để có lựa chọn phù hợp nhất cho mình..',\n",
       "  '8. Đánh giá và phản hồi từ cựu sinh viên',\n",
       "  'Các tân sinh viên ra trường ngành Điện tử - Viễn thông Đại học Bách Khoa Hà Nội có mức lương khá tốt so với mặt bằng chung. Những anh chị chuyên gia lâu lăm hoàn toàn có thể đạt được mức lương khủng lên đến hàng trăm triệu đồng.',\n",
       "  'Với các con số biết nói như trên thì các em học sinh hoàn toàn có thể yên tâm về triển vọng nghề nghiệp của ngành này.',\n",
       "  '9. Kết luận và triển vọng tương lai',\n",
       "  'Theo đánh giá của các chuyên gia phân tích nhu cầu nhân lực, ngành điện tử viễn thông là một trong những nhóm ngành có nhu cầu nhân lực cao trong thời đại 4.0 hiện nay. Sinh viên tốt nghiệp chuyên ngành này được nhận định là có cơ hội làm việc với nhiều vị trí khác nhau tại các doanh nghiệp, bao gồm cả doanh nghiệp trong nước như: FPT, Viettel, VNPT, MobiFone, VinSmart, v.vv.. hay doanh nghiệp nước ngoài như: SamSung, LG, Nokia, Apple, Inter, v.vv..',\n",
       "  'Trong xu hướng chuyển đổi số như hiện nay, nhu cầu nhân lực cho ngành điện tử viễn thông là rất lớn và vẫn còn thiếu. Các công ty viễn thông, công ty sản xuất thiết bị điện tử, nhà mạng sẽ trở thành “miền đất hứa” cho các tân kỹ sư tốt nghiệp chuyên ngành này.'],\n",
       " ['Tổng quan về ngành Điện tử - Viễn thông của Đại học Bách Khoa Hà Nội:',\n",
       "  '',\n",
       "  '1. Giới thiệu',\n",
       "  '',\n",
       "  'Ngành Điện tử - Viễn thông là một trong những ngành mũi nhọn của cuộc Cách mạng công nghiệp lần thứ 4 và là ngành có nhu cầu cao về nhân lực ở Việt Nam và trên thế giới.',\n",
       "  '',\n",
       "  'Theo học ngành này, sinh viên được trang bị một cách toàn diện cả về kỹ năng chuyên môn và kỹ năng mềm để có thể thiết kế, chế tạo, vận hành các thiết bị và hệ thống điện tử viễn thông, đáp ứng được yêu cầu về tính năng động và sáng tạo của lĩnh vực nghề nghiệp này.',\n",
       "  '',\n",
       "  'Chương trình kỹ thuật Điện tử- Viễn thông được giảng dạy bằng tiếng Việt và được thiết kế bao gồm khối kiến thức toán học và khoa học cơ bản, khối kiến thức cơ sở cốt lõi ngành Điện tử -Viễn thông, khối kiến thức bổ trợ kiến thức xã hội và kỹ năng mềm và khối kiến thức tự chọn chuyên sâu theo các định hướng kỹ thuật điện tử, kỹ thuật máy tính, kỹ thuật thông tin truyền thông, kỹ thuật y sinh, kỹ thuật điện tử hàng không vũ trụ, kỹ thuật đa phương tiện, kỹ thuật vi điện tử và công nghệ nano.',\n",
       "  '',\n",
       "  '2. Chương trình đào tạo',\n",
       "  '',\n",
       "  'Sinh viên tốt nghiệp có khả năng vận dụng những kiến thức đã học được và khả năng khai thác các công cụ hiện đại để thiết kế, triển khai và đánh giá những sản phẩm trong lĩnh vực Điện tử - Viễn thông.',\n",
       "  '',\n",
       "  'Sinh viễn tốt nghiệp được trang bị những kỹ năng và chuyên môn cần thiết nhất trong lĩnh vực Điện tử - Viễn thông kể cả môi trường trong nước và quốc tế.',\n",
       "  '',\n",
       "  'Ngoại ngữ là yêu cầu bắt buộc của sinh viên tốt nghiệp ngành Điện tử - Viễn thông, đạt điểm TOEIC 500 trở lên.',\n",
       "  '',\n",
       "  'Chương trình giảng dạy tùy thuộc vào chương trình mà sinh viên đang học. Chương trình có thể giảng dạy bằng tiếng Việt đối với hệ Đại trà, bằng tiếng Anh đối với chương trình Tiên tiến. Thời gian đào tạo cũng có sự khác nhau tùy vào nhu cầu và năng lực của sinh viên mà thời gian đào tạo có thể từ 4 đến 8,5 năm.',\n",
       "  '',\n",
       "  '3. Cơ hội nghề nghiệp',\n",
       "  '',\n",
       "  'Cơ hội nghề nghiệp cho ngành này là rất lớn, sinh viên ngành Điện tử - Viễn thông sau khi tốt nghiệp có thể làm việc tại:',\n",
       "  '',\n",
       "  '- Các doanh nghiệp nghiên cứu, sản xuất, phát triển các sản phẩm điện tử.',\n",
       "  '- Công ty cung cấp dịch vụ internet.',\n",
       "  '- Công ty viễn thông.',\n",
       "  '- Đài phát thanh truyền hình, công ty tư vấn mạng viễn thông.',\n",
       "  '- Các hãng thiết bị.',\n",
       "  '- Các tập đoàn, công ty đa quốc gia về Điện tử - Viễn thông',\n",
       "  '',\n",
       "  'Theo thống kê, 95% sinh viên khoa Kỹ thuật Điện tử – Viễn thông Đại học Bách Khoa Hà Nội có việc làm ngay sau một năm tốt nghiệp với mức lương khởi điểm từ 8-20 triệu đồng. Điều này chứng tỏ sức hấp dẫn của ngành trên thị trường lao động.',\n",
       "  '',\n",
       "  '4. Cơ sở vật chất và môi trường học tập',\n",
       "  '',\n",
       "  'Đại học Bách Khoa Hà Nội cung cấp đủ trang thiết bị, phòng thí nghiệm/thực hành, cơ sở vật chất hiện đại, đáp ứng đủ nhu cầu học tập và nghiên cứu của sinh viên.',\n",
       "  '',\n",
       "  '5. Học bổng và học phí',\n",
       "  '',\n",
       "  'Sinh viên có cơ hội nhận học bổng của Trường, học bổng trao đổi sinh viên từ các doanh nghiệp và các trường Đại học quốc tế là đối tác của Viện Điện tử- Viễn thông. Tỉ lệ sinh viên đi du học có học bổng hàng năm chiến trên 20% tổng số sinh viên tốt nghiệp.',\n",
       "  '',\n",
       "  '6. Kết luận',\n",
       "  '',\n",
       "  'Trong thời đại cách mạng công nghiệp 4.0 ngày nay, Điện tử - Viễn thông có thể được coi là ngành công nghiệp mũi nhọn cần được phát triển. Với những cơ hội tốt mà Đại học Bách Khoa Hà Nội mang đến như là chương trình đào tạo, cơ hội nghề nghiệp, các chính sách/học bổng,...sẽ rất xứng đáng cho những ai đang mong muốn theo đuổi ngành Điện tử - Viên thông của Đại học Bách Khoa Hà Nội.']]"
      ]
     },
     "execution_count": 19,
     "metadata": {},
     "output_type": "execute_result"
    }
   ],
   "source": [
    "read_vi"
   ]
  },
  {
   "cell_type": "code",
   "execution_count": 22,
   "metadata": {},
   "outputs": [
    {
     "name": "stdout",
     "output_type": "stream",
     "text": [
      "1. Giới thiệu chung\n",
      "\n",
      "Ngành Kỹ thuật Điện tử – Viễn thông là lĩnh vực nghiên cứu và ứng dụng các công nghệ tiên tiến nhất để phát triển các\n",
      "thiết bị điện tử và hệ thống viễn thông. Trong ngành này, có hai lĩnh vực chính là Điện tử và Viễn thông. Lĩnh vực Điện\n",
      "tử tập trung vào nghiên cứu và sản xuất vi mạch điện tử, là bộ não điều khiển của các thiết bị thông minh. Lĩnh vực Viễn\n",
      "thông tập trung vào nghiên cứu và sử dụng các thiết bị tạo nên hệ thống mạng viễn thông, bao gồm các thành phần như\n",
      "thiết bị truyền dẫn, thiết bị chuyển mạch, thiết bị đầu cuối và môi trường truyền. Ngành Kỹ thuật Điện tử - Viễn thông\n",
      "đóng vai trò quan trọng trong viêc giúp xây dựng và duy trì các hệ thống mạng thông tin liên lạc toàn cầu, đảm bảo việc\n",
      "trao đổi thông tin diễn ra thuận lợi mọi lúc, mọi nơi.\n",
      "\n",
      "2. Chương trình đào tạo\n",
      "\n",
      "1. Mục tiêu chương trình\n",
      "\n",
      "Chương trình nhằm trang bị sinh viên với kiến thức và kỹ năng toàn diện về lĩnh vực Điện tử - Viễn thông. Sinh viên sẽ\n",
      "được phát triển về mặt chuyên môn, kỹ năng mềm và năng lực tự học để có thể thiết kế, chế tạo và vận hành các thiết bị\n",
      "và hệ thống điện tử viễn thông hiện đại.\n",
      "\n",
      "2. Cấu trúc chương trình\n",
      "\n",
      "Đào tạo Cử nhân: 4 năm\n",
      "\n",
      "Đào tạo tích hợp Cử nhân - Kỹ sư: 5 năm\n",
      "\n",
      "Đào tạo tích hợp Cử nhân - Thạc sĩ: 5,5 năm\n",
      "\n",
      "Đào tạo Cử nhân - Thạc sĩ - Tiến sĩ: 8,5 năm\n",
      "\n",
      "Chương trình được giảng dạy hoàn toàn bằng tiếng Anh và được giảng dạy bởi giảng viên Trường Đại học Bách khoa Hà Nội và\n",
      "giảng viên nước ngoài.\n",
      "\n",
      "Sinh viên có thể theo học các chương trình cấp bằng kép với các trường đại học đối tác như Wollongong – Úc (2+2, 3+1),\n",
      "Telecom ParisTech – Pháp (4+2), Viện KAIST – Hàn Quốc. Ngoài ra, sau khi hoàn thành chương trình cử nhân 4 năm, sinh\n",
      "viên có thể học chương trình thạc sĩ tại Đại học bang San Jose.\n",
      "\n",
      "3. Các chuyên ngành\n",
      "\n",
      "Sinh viên sau khi học khối kiến thức toán học và khoa học cơ bản, khối kiến thức cơ sở cốt lõi ngành Điện tử -Viễn\n",
      "thông, khối kiến thức bổ trợ kiến thức xã hội và kỹ năng mềm thì có thể chọn theo học các chuyên ngành như kỹ thuật điện\n",
      "tử, kỹ thuật máy tính, kỹ thuật thông tin truyền thông, kỹ thuật y sinh, kỹ thuật điện tử hàng không vũ trụ, kỹ thuật đa\n",
      "phương tiện, kỹ thuật vi điện tử và công nghệ nano. Mỗi khối ngành tập trung vào các lĩnh vực cụ thể để phát triển kiến\n",
      "thức sâu rộng và kỹ năng chuyên môn cho sinh viên.\n",
      "\n",
      "4. Phương pháp giảng dạy và học tập\n",
      "\n",
      "Chương trình được giảng dạy bằng tiếng Việt và tiếng Anh bởi đội ngũ giảng viên có kinh nghiệm từ Trường Đại học Bách\n",
      "khoa Hà Nội và giảng viên nước ngoài. Sinh viên có cơ hội được tiếp cận với các phương pháp giảng dạy hiện đại, bao gồm\n",
      "các bài giảng, thảo luận nhóm, thực hành và dự án thực tế. Đồng thời, sinh viên cũng được khuyến khích phát triển kỹ\n",
      "năng tự học thông qua các tài liệu tham khảo và dự án nghiên cứu.\n",
      "\n",
      "3. Cơ hội nghề nghiệp\n",
      "\n",
      "1. Việc làm sau khi tốt nghiệp\n",
      "\n",
      "Kỹ sư thiết kế và quản trị mạng viễn thông phức tạp.\n",
      "\n",
      "Kỹ sư phát triển phần mềm cho các thiết bị thông minh như điện thoại di động, thiết bị IoT.\n",
      "\n",
      "Kỹ sư vận hành hệ thống mạng viễn thông và hệ thống điện tử công nghiệp.\n",
      "\n",
      "Chuyên gia tư vấn và bán hàng các sản phẩm điện tử và viễn thông.\n",
      "\n",
      "2. Các công ty và tổ chức tuyển dụng\n",
      "\n",
      "Các công ty và tổ chức tuyển dụng trong ngành này cung cấp nhiêu mức lương hấp dẫn nhằm thu hút và giữ chân nhân tài có\n",
      "trình độ và kỹ năng chuyên môn cao. Mức lương cụ thể có thể biến đổi tùy theo cấp độ chuyên môn và kinh nghiệm làm việc.\n",
      "Mức lương trung bình cho các kỹ sư trong ngành là khoảng 11 triệu đồng/tháng, trong khi mức lương cao nhất có thể lên\n",
      "đến 50 triệu đồng/tháng.\n",
      "\n",
      "4. Nghiên cứu và phát triển\n",
      "\n",
      "1. Các dự án nghiên cứu\n",
      "\n",
      "Sinh viên được tham gia vào nhiều dự án nghiên cứu đa dạng trong lĩnh vực Viễn Thông. Các dự án này bao gồm nghiên cứu\n",
      "về kỹ thuật hệ thống thông tin, siêu cao tần và anten, mạng thông tin và mạng máy tính, xử lý số tín hiệu và ứng dụng.\n",
      "\n",
      "Các dự án nghiên cứu này không chỉ mang tính ứng dụng mà còn đóng góp vào việc định hình và phát triển các công nghệ mới\n",
      "trong lĩnh vực Viễn Thông. Một trong những dự án được đầu tư lớn có thể kể tới như dự án SAHEP do Ngân hàng thế giới tài\n",
      "trợ.\n",
      "\n",
      "2. Hợp tác quốc tế và công nghiệp\n",
      "\n",
      "Sinh viên có cơ hội tham gia hợp tác trong việc thực hiện các dự án nghiên cứu và phát triển với các đối tác quốc tế lớn\n",
      "như Samsung, G-Innovations…\n",
      "\n",
      "Sự hợp tác này không chỉ giúp trao đổi kiến thức và kỹ thuật mà còn tạo điều kiện cho sinh viên và cán bộ giảng dạy tham\n",
      "gia vào các dự án thực tế, nâng cao kỹ năng và kinh nghiệm trong ngành.\n",
      "\n",
      "5. Cơ sở vật chất và môi trường học tập\n",
      "\n",
      "Trường Đại học Bách Khoa Hà Nội có diện tích phục vụ giảng dạy và nghiên cứu khoa học rộng 26,2 hecta. Trường có hơn 200\n",
      "giảng đường, phòng học, hội trường lớn và hệ thống phòng hội thảo; gần 200 phòng thí nghiệm, trong đó có 12 phòng thí\n",
      "nghiệm trọng điểm quốc gia và khoảng 20 xưởng thực tập, thực hành. Cơ sở vật chất hiện đại và tiện nghi được đầu tư, bao\n",
      "gồm hệ thống điều hòa và máy chiếu hiện đại trong 80% giảng đường, đảm bảo môi trường học tập và nghiên cứu chất lượng\n",
      "cao cho sinh viên.\n",
      "\n",
      "6. Học bổng và hỗ trợ sinh viên\n",
      "\n",
      "1. Các loại học bổng\n",
      "\n",
      "Sinh viên học ngành Điện tử - Viễn thông Đại học Bách khoa Hà Nội có cơ hội nhận được nhiều học bổng khác nhau từ quỹ\n",
      "học bổng của trường hoặc từ các doanh nghiệp đối tác, môt số học bổng tiêu biểu có thể kể tới như:\n",
      "\n",
      "Học bổng khuyến khích học tập\n",
      "\n",
      "Học bổng Trần Đại Nghĩa\n",
      "\n",
      "Học bổng tài trợ\n",
      "\n",
      "Học bổn trao đổi sinh viên quốc tế\n",
      "\n",
      "2. Cơ hội du học và trao đổi sinh viên\n",
      "\n",
      "Sinh viên có cơ hội nhận học bổng của Trường, học bổng trao đổi sinh viên từ các doanh nghiệp và các trường Đại học quốc\n",
      "tế là đối tác của Viện Điện tử- Viễn thông. Tỉ lệ sinh viên đi du học có học bổng hàng năm chiến trên 20% tổng số sinh\n",
      "viên tốt nghiệp.\n",
      "\n",
      "7. Điểm chuẩn và quy trình tuyển sinh\n",
      "\n",
      "Trường Đại học Bách Khoa Hà Nội có tổng chỉ tiêu tuyển sinh ngành Điện tử - Viễn thông là 100 sinh viên, trong đó gôm 60\n",
      "sinh viên cho mã ngành ET-E4 và 40 sinh viên cho mã ngành ET-LUH, sử dụng ba phương thức chính:\n",
      "\n",
      "1. Xét tuyển tài năng (~20%): Thí sinh có thể dựa vào thành tích học tập xuất sắc, chứng chỉ quốc tế hoặc phỏng vấn.\n",
      "\n",
      "2. Xét tuyển theo điểm thi Đánh giá tư duy (~30%): Thí sinh cần đạt điểm TSA do trường quy định.\n",
      "\n",
      "3. Xét tuyển theo điểm thi tốt nghiệp THPT 2024 (~50%): Thí sinh cần đạt điểm sàn do trường quy định.\n",
      "\n",
      "8. Đánh giá và phản hồi từ cựu sinh viên\n",
      "\n",
      "Theo học ngành Kỹ thuật điện tử viễn thông (Mã ngành: ET1) tại Đại học Bách khoa Hà Nội sinh viên được trang bị một cách\n",
      "toàn diện cả về kỹ năng chuyên môn và kỹ năng mềm để có thể thiết kế, chế tạo, vận hành các thiết bị và hệ thống điện tử\n",
      "viễn thông, đáp ứng được yêu cầu về tính năng động và sáng tạo của lĩnh vực nghề nghiệp này\n",
      "\n",
      "Ngành điện tử viễn thông khá là rộng và các lĩnh vực thuộc ngành này cũng khá đa dạng và tiềm năng. Sau khi tốt nghiệp\n",
      "ra trường, sinh viên theo học ngành này có thể lựa chọn nhiều cơ hội khác nhau với mức đãi ngộ hấp dẫn.\n",
      "\n",
      "9. Kết luận và triển vọng tương lai\n",
      "\n",
      "Tốc độ phát triển nhanh chóng của lĩnh vực Điện tử - Viễn Thông vẫn đang sản sinh ra nhiều nghề nghiệp mới mà có thể\n",
      "chính bạn là một trong những người tiên phong đảm nhận. Không chỉ các công ty trong lĩnh vực viễn thông như Viettel,\n",
      "VNPT, FPT mà các doanh nghiệp trong nhiều lĩnh vực khác như điện lực, ngân hàng, giao thông, quốc phòng - an ninh... vẫn\n",
      "cần sử dụng hạ tầng mạng viễn thông và máy tính. Điều đó có nghĩa bạn sẽ có nhiều sự lựa chọn để phát triển sự nghiệp\n",
      "tương lai của mình.\n",
      "\n"
     ]
    }
   ],
   "source": [
    "import textwrap\n",
    "\n",
    "for ref in read_vi[0]:\n",
    "    print(textwrap.fill(ref, width=120))\n",
    "    print()"
   ]
  },
  {
   "cell_type": "code",
   "execution_count": 23,
   "metadata": {},
   "outputs": [],
   "source": [
    "from unidecode import unidecode\n",
    "import re\n",
    "\n",
    "def normalize_text(text):\n",
    "    \"\"\"\n",
    "    Normalize Vietnamese text by converting it to its ASCII representation and removing accents.\n",
    "    \n",
    "    Args:\n",
    "    text (str): Input Vietnamese text to be normalized.\n",
    "    \n",
    "    Returns:\n",
    "    str: Normalized text with accents removed.\n",
    "    \"\"\"\n",
    "    normalized_text = unidecode(text)\n",
    "    normalized_text = re.sub(r'\\s+', ' ', normalized_text).strip().lower()\n",
    "    return normalized_text\n"
   ]
  },
  {
   "cell_type": "code",
   "execution_count": null,
   "metadata": {},
   "outputs": [],
   "source": []
  },
  {
   "cell_type": "code",
   "execution_count": 25,
   "metadata": {},
   "outputs": [],
   "source": [
    "hypos = [' '.join(normalize_text(line) for hypo in hypos for line in hypo)]"
   ]
  },
  {
   "cell_type": "code",
   "execution_count": 26,
   "metadata": {},
   "outputs": [
    {
     "data": {
      "text/plain": [
       "['# tong quan ve nganh dien tu - vien thong cua dai hoc bach khoa ha noi  nganh dien tu - vien thong cua dai hoc bach khoa ha noi (hust) la mot trong nhung nganh hoc chu chot, dap ung nhu cau nhan luc chat luong cao trong thoi dai cong nghe so va cach mang cong nghiep 4.0. duoc biet den voi chuong trinh dao tao tien tien, nganh nay khong chi thu hut su quan tam cua sinh vien trong nuoc ma con cua ca sinh vien quoc te.  ## chuong trinh dao tao  chuong trinh dao tao nganh dien tu - vien thong tai hust duoc thiet ke de cung cap cho sinh vien mot nen tang vung chac ve toan hoc va khoa hoc co ban, cung voi khoi kien thuc co so nganh va kien thuc chuyen sau theo cac dinh huong ky thuat khac nhau. sinh vien co co hoi lua chon chuyen nganh phu hop voi so thich va nhu cau nghe nghiep, bao gom dien tu va ky thuat may tinh, ky thuat thong tin - truyen thong, ky thuat y sinh, ky thuat dien tu hang khong vu tru, va ky thuat da phuong tien (hocmai.vn, 2024).  chuong trinh duoc giang day bang tieng viet, nhung cung co co hoi cho sinh vien lam luan van tot nghiep bang tieng anh hoac tieng duc, mo ra co hoi hoc tap va lam viec trong moi truong quoc te (hocmai.vn, 2024).  ## co hoi nghe nghiep  sau khi tot nghiep, sinh vien nganh dien tu - vien thong co the dam nhan nhieu vi tri cong viec khac nhau trong cac linh vuc nhu thiet ke va van hanh he thong vien thong, phat trien phan mem va phan cung cho thiet bi thong minh, va nghien cuu va phat trien trong cac linh vuc lien quan (hust, 2024). cac tap doan, cong ty da quoc gia ve dien tu - vien thong cung la nhung noi lam viec tiem nang cho sinh vien sau khi tot nghiep (hocmai.vn, 2024).  theo thong ke, 95% sinh vien khoa ky thuat dien tu - vien thong dai hoc bach khoa ha noi co viec lam ngay sau mot nam tot nghiep voi muc luong khoi diem tu 8-20 trieu dong (hocmai.vn, 2024). dieu nay cho thay suc hap dan va tiem nang phat trien cua nganh trong thi truong lao dong.  ## nghien cuu va dong gop khoa hoc  dai hoc bach khoa ha noi khong chi dao tao sinh vien ma con la trung tam nghien cuu khoa hoc hang dau. vien dien tu - vien thong cua hust tham gia vao nhieu du an nghien cuu va phat trien, dong gop vao su tien bo cua nganh thong qua viec ap dung cac cong nghe moi nhu ai, iot, big data, va blockchain (elcom.com.vn, 2024).  ## xu huong va thach thuc  nganh dien tu - vien thong dang doi mat voi nhieu thach thuc do su bien dong cua thi truong toan cau va ap luc lam phat. tuy nhien, voi chien luoc \"di tat don dau\", viet nam va dai hoc bach khoa ha noi dang thuc hien nhung buoc di tich cuc de phat trien nganh nay, bao gom viec da dang hoa dich vu va hien dai hoa co so ha tang (elcom.com.vn, 2024).  ## ket luan  nganh dien tu - vien thong tai dai hoc bach khoa ha noi dang chung to la mot lua chon hoc thuat va nghe nghiep hap dan, voi chuong trinh dao tao da dang, co hoi nghe nghiep rong mo va su tham gia tich cuc vao cac hoat dong nghien cuu va phat trien. sinh vien cua nganh nay duoc trang bi de tro thanh nhung ky su, nha nghien cuu va chuyen gia hang dau, san sang doi mat voi nhung thach thuc cua thi truong lao dong hien dai va dong gop vao su phat trien cua nganh cong nghiep quan trong nay. # tong quan ve nganh dien tu - vien thong cua dai hoc bach khoa ha noi  nganh dien tu - vien thong cua dai hoc bach khoa ha noi (hust) la mot trong nhung nganh hoc chu chot, dap ung nhu cau nhan luc chat luong cao trong thoi dai cong nghe so va cach mang cong nghiep 4.0. duoc biet den la mot trong nhung truong dai hoc hang dau viet nam, hust khong ngung cap nhat va phat trien chuong trinh dao tao de sinh vien co the tiep can voi nhung kien thuc va ky nang tien tien nhat.  ## chuong trinh dao tao  chuong trinh dao tao nganh dien tu - vien thong tai hust duoc thiet ke de cung cap cho sinh vien mot nen tang vung chac ve toan hoc va khoa hoc co ban, cung voi khoi kien thuc co so nganh va kien thuc chuyen sau theo cac dinh huong ky thuat khac nhau. sinh vien co co hoi lua chon chuyen nganh phu hop voi so thich va nhu cau nghe nghiep, bao gom dien tu va ky thuat may tinh, ky thuat thong tin - truyen thong, ky thuat y sinh, ky thuat dien tu hang khong vu tru, va ky thuat da phuong tien (hocmai.vn, 2024).  ngoai ra, chuong trinh con tich hop kien thuc bo tro ve xa hoi va ky nang mem, giup sinh vien phat trien toan dien va san sang hoi nhap vao moi truong lam viec quoc te. dac biet, chuong trinh dao tao con co phien ban duoc giang day bang tieng anh, nham muc tieu dao tao sinh vien co kha nang lam viec trong moi truong quoc te (hust, n.d.).  ## co hoi nghe nghiep  sau khi tot nghiep, sinh vien nganh dien tu - vien thong cua hust co the dam nhan nhieu vi tri cong viec khac nhau trong cac linh vuc nhu san xuat thiet bi dien tu, vien thong, cong nghe thong tin, va nhieu nganh cong nghiep khac. cac vi tri cong viec bao gom chuyen vien quan ly ky thuat va san pham, quan ly du an kinh doanh, chuyen vien tu van, thiet ke va van hanh ky thuat tai cac dai phat thanh, dai truyen hinh, va cong ty tu van thiet ke mang vien thong (hocmai.vn, 2024; hotcourses.vn, n.d.).  theo thong ke, 95% sinh vien khoa ky thuat dien tu - vien thong cua hust co viec lam ngay sau mot nam tot nghiep voi muc luong khoi diem tu 8-20 trieu dong, phan anh suc hap dan va tiem nang phat trien cua nganh (hocmai.vn, 2024).  ## nghien cuu va du an  hust khong chi chu trong vao dao tao ma con la mot trung tam nghien cuu hang dau. sinh vien co co hoi tham gia vao cac du an nghien cuu va phat trien cong nghe moi, cung nhu hop tac voi cac doanh nghiep va to chuc quoc te. dieu nay giup sinh vien ap dung kien thuc vao thuc tien va phat trien ky nang nghien cuu, sang tao.  ## diem chuan va tuyen sinh  diem chuan nganh ky thuat dien tu - vien thong cua hust cho thay su canh tranh va chat luong cao cua chuong trinh dao tao. voi diem chuan nam 2023 la 26.46 theo ket qua ky thi tot nghiep thpt quoc gia va 66.46 theo ky thi danh gia nang luc dh quoc gia, nganh nay thu hut nhung sinh vien xuat sac nhat (hocmai.vn, 2024).  ## ket luan  nganh dien tu - vien thong cua dai hoc bach khoa ha noi dang dung truoc nhung co hoi lon trong boi canh cach mang cong nghiep 4.0. voi chuong trinh dao tao chat luong cao, co hoi nghe nghiep rong mo, va moi truong nghien cuu tien tien, sinh vien cua nganh nay khong chi duoc trang bi kien thuc va ky nang can thiet de thanh cong trong tuong lai ma con co the gop phan vao su phat trien cua xa hoi va nen kinh te quoc gia. # tong quan ve nganh dien tu - vien thong cua dai hoc bach khoa ha noi  nganh dien tu - vien thong cua dai hoc bach khoa ha noi (hust) la mot trong nhung nganh dao tao mui nhon, dap ung nhu cau nhan luc chat luong cao trong thoi dai cach mang cong nghiep 4.0. voi su phat trien khong ngung cua cong nghe thong tin va vien thong, nganh nay khong chi dong vai tro quan trong trong su phat trien cua quoc gia ma con mo ra co hoi nghe nghiep rong lon cho sinh vien sau khi tot nghiep.  ## chuong trinh dao tao  chuong trinh dao tao nganh dien tu - vien thong tai hust duoc thiet ke de cung cap cho sinh vien mot nen tang kien thuc vung chac ve toan hoc va khoa hoc co ban, cung voi khoi kien thuc co so cot loi cua nganh. sinh vien cung duoc trang bi kien thuc bo tro ve xa hoi va ky nang mem, cung nhu khoi kien thuc tu chon chuyen sau theo cac dinh huong ky thuat khac nhau (hust, n.d.).  cac chuyen nganh ma sinh vien co the lua chon bao gom:  - dien tu va ky thuat may tinh: chuyen ve lap trinh cho cac he thong nhung. - ky thuat thong tin - truyen thong: chuyen ve he thong vien thong, ky thuat truyen so lieu. - ky thuat y sinh: nghien cuu cac thiet bi y te phuc vu kham chua benh. - ky thuat dien tu hang khong vu tru: nghien cuu ve cac loai may bay tu hanh. - ky thuat da phuong tien: nghien cuu ve cac thiet bi nghe nhin va dieu chinh am do cua cac thiet bi thu am (hocmai.vn, 2024).  chuong trinh dao tao duoc giang day bang tieng viet, voi mot so chuong trinh tien tien duoc giang day hoan toan bang tieng anh, mo ra co hoi cho sinh vien tham gia chuong trinh song bang voi cac truong doi tac quoc te (hust, n.d.).  ## co hoi nghe nghiep  sinh vien tot nghiep nganh dien tu - vien thong cua hust co the dam nhan nhieu vi tri cong viec khac nhau trong cac linh vuc nhu:  - cac hang thiet bi: chuyen vien quan ly ky thuat va san pham, quan ly du an kinh doanh. - cac tap doan, cong ty da quoc gia ve dien tu - vien thong. - chuyen vien tu van, thiet ke va van hanh ky thuat tai cac dai phat thanh, dai truyen hinh, cong ty tu van thiet ke mang vien thong, san xuat thiet bi dien tu - vien thong (hotcourses.vn, n.d.).  theo thong ke, 95% sinh vien khoa ky thuat dien tu - vien thong dai hoc bach khoa ha noi co viec lam ngay sau mot nam tot nghiep voi muc luong khoi diem tu 8-20 trieu dong (hocmai.vn, 2024).  ## nghien cuu va phat trien  hust khong chi noi tieng voi chuong trinh dao tao ma con la mot trung tam nghien cuu hang dau. cac giang vien va sinh vien cua hust da cong bo nhieu bai bao khoa hoc, trong do co cac nghien cuu ve truyen dien khong day, mot linh vuc co tiem nang lon trong tuong lai (hust, n.d.).  ## uy tin va thanh tuu  dai hoc bach khoa ha noi la mot trong nhung truong dao tao hang dau ve dien tu - vien thong, voi chuong trinh dao tao duoc cong nhan theo chuan he thong cac truong dai hoc trong khoi dong nam a (asean university network - aun) (oisp.hcmut.edu.vn, n.d.).  ## ket luan  nganh dien tu - vien thong cua dai hoc bach khoa ha noi dang dung truoc nhung co hoi lon trong boi canh cuoc cach mang cong nghiep 4.0. voi chuong trinh dao tao chat luong cao, co hoi nghe nghiep rong mo va moi truong nghien cuu soi dong, nganh nay hua hen se tiep tuc la lua chon hang dau cho sinh vien trong va ngoai nuoc.']"
      ]
     },
     "execution_count": 26,
     "metadata": {},
     "output_type": "execute_result"
    }
   ],
   "source": [
    "hypos"
   ]
  },
  {
   "cell_type": "code",
   "execution_count": 34,
   "metadata": {},
   "outputs": [],
   "source": [
    "ground_truths = [' '.join(normalize_text(ground_truth) for ground_truth in ground_truths)]"
   ]
  },
  {
   "cell_type": "code",
   "execution_count": 35,
   "metadata": {},
   "outputs": [
    {
     "data": {
      "text/plain": [
       "['tong quan ve nganh dien tu - vien thong cua dai hoc bach khoa ha noi:  1. gioi thieu  nganh dien tu - vien thong la mot trong nhung nganh mui nhon cua cuoc cach mang cong nghiep lan thu 4 va la nganh co nhu cau cao ve nhan luc o viet nam va tren the gioi.  theo hoc nganh nay, sinh vien duoc trang bi mot cach toan dien ca ve ky nang chuyen mon va ky nang mem de co the thiet ke, che tao, van hanh cac thiet bi va he thong dien tu vien thong, dap ung duoc yeu cau ve tinh nang dong va sang tao cua linh vuc nghe nghiep nay.  chuong trinh ky thuat dien tu- vien thong duoc giang day bang tieng viet va duoc thiet ke bao gom khoi kien thuc toan hoc va khoa hoc co ban, khoi kien thuc co so cot loi nganh dien tu -vien thong, khoi kien thuc bo tro kien thuc xa hoi va ky nang mem va khoi kien thuc tu chon chuyen sau theo cac dinh huong ky thuat dien tu, ky thuat may tinh, ky thuat thong tin truyen thong, ky thuat y sinh, ky thuat dien tu hang khong vu tru, ky thuat da phuong tien, ky thuat vi dien tu va cong nghe nano.  2. chuong trinh dao tao  sinh vien tot nghiep co kha nang van dung nhung kien thuc da hoc duoc va kha nang khai thac cac cong cu hien dai de thiet ke, trien khai va danh gia nhung san pham trong linh vuc dien tu - vien thong.  sinh vien tot nghiep duoc trang bi nhung ky nang va chuyen mon can thiet nhat trong linh vuc dien tu - vien thong ke ca moi truong trong nuoc va quoc te.  ngoai ngu la yeu cau bat buoc cua sinh vien tot nghiep nganh dien tu - vien thong, dat diem toeic 500 tro len.  chuong trinh giang day tuy thuoc vao chuong trinh ma sinh vien dang hoc. chuong trinh co the giang day bang tieng viet doi voi he dai tra, bang tieng anh doi voi chuong trinh tien tien. thoi gian dao tao cung co su khac nhau tuy vao nhu cau va nang luc cua sinh vien ma thoi gian dao tao co the tu 4 den 8,5 nam.  3. co hoi nghe nghiep  co hoi nghe nghiep cho nganh nay la rat lon, sinh vien nganh dien tu - vien thong sau khi tot nghiep co the lam viec tai:  - cac doanh nghiep nghien cuu, san xuat, phat trien cac san pham dien tu. - cong ty cung cap dich vu internet. - cong ty vien thong. - dai phat thanh truyen hinh, cong ty tu van mang vien thong. - cac hang thiet bi. - cac tap doan, cong ty da quoc gia ve dien tu - vien thong  theo thong ke, 95% sinh vien khoa ky thuat dien tu - vien thong dai hoc bach khoa ha noi co viec lam ngay sau mot nam tot nghiep voi muc luong khoi diem tu 8-20 trieu dong. dieu nay chung to suc hap dan cua nganh tren thi truong lao dong.  4. co so vat chat va moi truong hoc tap  dai hoc bach khoa ha noi cung cap du trang thiet bi, phong thi nghiem/thuc hanh, co so vat chat hien dai, dap ung du nhu cau hoc tap va nghien cuu cua sinh vien.  5. hoc bong va hoc phi  sinh vien co co hoi nhan hoc bong cua truong, hoc bong trao doi sinh vien tu cac doanh nghiep va cac truong dai hoc quoc te la doi tac cua vien dien tu- vien thong. ti le sinh vien di du hoc co hoc bong hang nam chien tren 20% tong so sinh vien tot nghiep.  6. ket luan  trong thoi dai cach mang cong nghiep 4.0 ngay nay, dien tu - vien thong co the duoc coi la nganh cong nghiep mui nhon can duoc phat trien. voi nhung co hoi tot ma dai hoc bach khoa ha noi mang den nhu la chuong trinh dao tao, co hoi nghe nghiep, cac chinh sach/hoc bong,...se rat xung dang cho nhung ai dang mong muon theo duoi nganh dien tu - vien thong cua dai hoc bach khoa ha noi.']"
      ]
     },
     "execution_count": 35,
     "metadata": {},
     "output_type": "execute_result"
    }
   ],
   "source": [
    "ground_truths"
   ]
  },
  {
   "cell_type": "code",
   "execution_count": 36,
   "metadata": {},
   "outputs": [],
   "source": [
    "perplexity_hypos = [' '.join(normalize_text(perplexity) for perplexity in perplexity_hypos)]"
   ]
  },
  {
   "cell_type": "code",
   "execution_count": 37,
   "metadata": {},
   "outputs": [
    {
     "data": {
      "text/plain": [
       "['nganh dien tu - vien thong cua dai hoc bach khoa ha noi (bk hanoi) la mot trong nhung nganh ky thuat co uy tin va phat trien tai viet nam. duoi day la mot tong quan ve nganh nay tai dai hoc bach khoa ha noi:  lich su va phat trien: nganh dien tu - vien thong tai bk hanoi da co mat tu lau trong he thong giao duc ky thuat cua viet nam. nganh nay lien tuc duoc cap nhat voi cac cong nghe moi va xu huong phat trien trong nganh.  chuong trinh dao tao: bk hanoi cung cap cac chuong trinh dao tao ve dien tu - vien thong o ca cap dai hoc va sau dai hoc. chuong trinh dao tao bao gom ca ly thuyet va thuc hanh, giup sinh vien co kien thuc co ban va ky nang thuc hanh de ap dung trong cong viec sau nay.  cac mon hoc chinh: sinh vien se hoc cac mon nhu dien tu, vien thong, vi xu ly, he thong so, dong dien tu, mach dien tu, anten va song vo tuyen, vien thong so, vien thong quang, va nhieu chuyen nganh khac.  co so vat chat: bk hanoi dau tu vao co so vat chat hien dai, bao gom phong thi nghiem, trang thiet bi va phan mem can thiet de sinh vien co the thuc hanh va nghien cuu.  nghien cuu va ung dung: nganh nay khong chi tap trung vao viec giang day ma con thuc day hoat dong nghien cuu va ung dung cong nghe trong thuc te. sinh vien thuong duoc khuyen khich tham gia vao cac du an nghien cuu va thuc tap tai cac doanh nghiep va to chuc co lien quan.  co hoi nghe nghiep: sinh vien tot nghiep nganh dien tu - vien thong tu bk hanoi co nhieu co hoi nghe nghiep trong cac linh vuc nhu vien thong di dong, internet of things (iot), truyen thong, san xuat thiet bi dien tu va vien thong, dich vu vien thong, va nhieu linh vuc cong nghe thong tin khac.  tong quan tren cho thay nganh dien tu - vien thong tai dai hoc bach khoa ha noi la mot nganh hoc day tiem nang va co hoi, cung cap cho sinh vien kien thuc va ky nang can thiet de thanh cong trong su nghiep sau nay.']"
      ]
     },
     "execution_count": 37,
     "metadata": {},
     "output_type": "execute_result"
    }
   ],
   "source": [
    "perplexity_hypos"
   ]
  },
  {
   "cell_type": "code",
   "execution_count": 38,
   "metadata": {},
   "outputs": [],
   "source": [
    "import textwrap\n",
    "\n",
    "def wraptext(documents, width=120):\n",
    "    for idx, doc in enumerate(documents, start=1):\n",
    "        print(f\"Document {idx}:\")\n",
    "        wrapped_lines = textwrap.wrap(doc, width=width)\n",
    "        for line in wrapped_lines:\n",
    "            print(line)\n",
    "        print(\"-\" * width)"
   ]
  },
  {
   "cell_type": "code",
   "execution_count": 39,
   "metadata": {},
   "outputs": [
    {
     "name": "stdout",
     "output_type": "stream",
     "text": [
      "Document 1:\n",
      "tong quan ve nganh dien tu - vien thong cua dai hoc bach khoa ha noi:  1. gioi thieu  nganh dien tu - vien thong la mot\n",
      "trong nhung nganh mui nhon cua cuoc cach mang cong nghiep lan thu 4 va la nganh co nhu cau cao ve nhan luc o viet nam va\n",
      "tren the gioi.  theo hoc nganh nay, sinh vien duoc trang bi mot cach toan dien ca ve ky nang chuyen mon va ky nang mem\n",
      "de co the thiet ke, che tao, van hanh cac thiet bi va he thong dien tu vien thong, dap ung duoc yeu cau ve tinh nang\n",
      "dong va sang tao cua linh vuc nghe nghiep nay.  chuong trinh ky thuat dien tu- vien thong duoc giang day bang tieng viet\n",
      "va duoc thiet ke bao gom khoi kien thuc toan hoc va khoa hoc co ban, khoi kien thuc co so cot loi nganh dien tu -vien\n",
      "thong, khoi kien thuc bo tro kien thuc xa hoi va ky nang mem va khoi kien thuc tu chon chuyen sau theo cac dinh huong ky\n",
      "thuat dien tu, ky thuat may tinh, ky thuat thong tin truyen thong, ky thuat y sinh, ky thuat dien tu hang khong vu tru,\n",
      "ky thuat da phuong tien, ky thuat vi dien tu va cong nghe nano.  2. chuong trinh dao tao  sinh vien tot nghiep co kha\n",
      "nang van dung nhung kien thuc da hoc duoc va kha nang khai thac cac cong cu hien dai de thiet ke, trien khai va danh gia\n",
      "nhung san pham trong linh vuc dien tu - vien thong.  sinh vien tot nghiep duoc trang bi nhung ky nang va chuyen mon can\n",
      "thiet nhat trong linh vuc dien tu - vien thong ke ca moi truong trong nuoc va quoc te.  ngoai ngu la yeu cau bat buoc\n",
      "cua sinh vien tot nghiep nganh dien tu - vien thong, dat diem toeic 500 tro len.  chuong trinh giang day tuy thuoc vao\n",
      "chuong trinh ma sinh vien dang hoc. chuong trinh co the giang day bang tieng viet doi voi he dai tra, bang tieng anh doi\n",
      "voi chuong trinh tien tien. thoi gian dao tao cung co su khac nhau tuy vao nhu cau va nang luc cua sinh vien ma thoi\n",
      "gian dao tao co the tu 4 den 8,5 nam.  3. co hoi nghe nghiep  co hoi nghe nghiep cho nganh nay la rat lon, sinh vien\n",
      "nganh dien tu - vien thong sau khi tot nghiep co the lam viec tai:  - cac doanh nghiep nghien cuu, san xuat, phat trien\n",
      "cac san pham dien tu. - cong ty cung cap dich vu internet. - cong ty vien thong. - dai phat thanh truyen hinh, cong ty\n",
      "tu van mang vien thong. - cac hang thiet bi. - cac tap doan, cong ty da quoc gia ve dien tu - vien thong  theo thong ke,\n",
      "95% sinh vien khoa ky thuat dien tu - vien thong dai hoc bach khoa ha noi co viec lam ngay sau mot nam tot nghiep voi\n",
      "muc luong khoi diem tu 8-20 trieu dong. dieu nay chung to suc hap dan cua nganh tren thi truong lao dong.  4. co so vat\n",
      "chat va moi truong hoc tap  dai hoc bach khoa ha noi cung cap du trang thiet bi, phong thi nghiem/thuc hanh, co so vat\n",
      "chat hien dai, dap ung du nhu cau hoc tap va nghien cuu cua sinh vien.  5. hoc bong va hoc phi  sinh vien co co hoi nhan\n",
      "hoc bong cua truong, hoc bong trao doi sinh vien tu cac doanh nghiep va cac truong dai hoc quoc te la doi tac cua vien\n",
      "dien tu- vien thong. ti le sinh vien di du hoc co hoc bong hang nam chien tren 20% tong so sinh vien tot nghiep.  6. ket\n",
      "luan  trong thoi dai cach mang cong nghiep 4.0 ngay nay, dien tu - vien thong co the duoc coi la nganh cong nghiep mui\n",
      "nhon can duoc phat trien. voi nhung co hoi tot ma dai hoc bach khoa ha noi mang den nhu la chuong trinh dao tao, co hoi\n",
      "nghe nghiep, cac chinh sach/hoc bong,...se rat xung dang cho nhung ai dang mong muon theo duoi nganh dien tu - vien\n",
      "thong cua dai hoc bach khoa ha noi.\n",
      "------------------------------------------------------------------------------------------------------------------------\n",
      "None\n"
     ]
    }
   ],
   "source": [
    "print(wraptext(ground_truths))"
   ]
  },
  {
   "cell_type": "markdown",
   "metadata": {},
   "source": [
    "### Using BERTScore for Evaluation"
   ]
  },
  {
   "cell_type": "markdown",
   "metadata": {},
   "source": [
    "1. BERTScore is used to measure textual similarity between candidate texts and reference texts. It considers not only exact word matches but also the overall meaning, fluency, and order of the ouput.\n",
    "\n",
    "2. BERTScore: Precision, Recall, F1\n",
    "    * Precision measures how well the candidate texts avoid introducing irrelevant content.\n",
    "    * Recall measures how well the candidate texts avoid omitting relevant content.\n",
    "    * F1 = 2 x (P x R)/(P + R) "
   ]
  },
  {
   "cell_type": "code",
   "execution_count": 40,
   "metadata": {},
   "outputs": [],
   "source": [
    "# Hide the loading messages\n",
    "import logging\n",
    "import transformers\n",
    "transformers.tokenization_utils.logger.setLevel(logging.ERROR)\n",
    "transformers.configuration_utils.logger.setLevel(logging.ERROR)\n",
    "transformers.modeling_utils.logger.setLevel(logging.ERROR)"
   ]
  },
  {
   "cell_type": "code",
   "execution_count": 41,
   "metadata": {},
   "outputs": [],
   "source": [
    "from bert_score import score"
   ]
  },
  {
   "cell_type": "code",
   "execution_count": 42,
   "metadata": {},
   "outputs": [],
   "source": [
    "def bert_score(hypos, refs, lang=\"vi\"):\n",
    "    bert_scores = []\n",
    "    for hypo in hypos:\n",
    "        for ref in refs:\n",
    "            scores = score([hypo], [ref], lang=lang, verbose=False)\n",
    "            bert_scores.append(scores)\n",
    "    return bert_scores"
   ]
  },
  {
   "cell_type": "code",
   "execution_count": 43,
   "metadata": {},
   "outputs": [],
   "source": [
    "bert_scores = bert_score(hypos, ground_truths)"
   ]
  },
  {
   "cell_type": "code",
   "execution_count": 44,
   "metadata": {},
   "outputs": [
    {
     "data": {
      "text/plain": [
       "[(tensor([0.8185]), tensor([0.8376]), tensor([0.8279]))]"
      ]
     },
     "execution_count": 44,
     "metadata": {},
     "output_type": "execute_result"
    }
   ],
   "source": [
    "bert_scores"
   ]
  },
  {
   "cell_type": "code",
   "execution_count": 45,
   "metadata": {},
   "outputs": [],
   "source": [
    "import torch\n",
    "\n",
    "precision = torch.mean(torch.stack([bert_score[0] for bert_score in bert_scores]))\n",
    "recall = torch.mean(torch.stack([bert_score[1] for bert_score in bert_scores]))\n",
    "f1 = torch.mean(torch.stack([bert_score[2] for bert_score in bert_scores]))"
   ]
  },
  {
   "cell_type": "code",
   "execution_count": 46,
   "metadata": {},
   "outputs": [
    {
     "name": "stdout",
     "output_type": "stream",
     "text": [
      "BERT score:\n",
      "P: 0.82, R: 0.84, F1: 0.83\n"
     ]
    }
   ],
   "source": [
    "print(\"BERT score:\")\n",
    "print(f\"P: {precision.item():.2f}, R: {recall.item():.2f}, F1: {f1.item():.2f}\")"
   ]
  },
  {
   "cell_type": "markdown",
   "metadata": {},
   "source": [
    "### Using ROUGE score for Evaluation"
   ]
  },
  {
   "cell_type": "code",
   "execution_count": 47,
   "metadata": {},
   "outputs": [],
   "source": [
    "from rouge_score import rouge_scorer\n",
    "\n",
    "def rouge_score(hypos, refs):\n",
    "    scorer = rouge_scorer.RougeScorer(['rouge1', 'rouge2', 'rougeL'], use_stemmer=True)\n",
    "    scores = [scorer.score(ref, hypo) for ref, hypo in zip(refs, hypos)]\n",
    "    return scores\n",
    "\n",
    "rouge = rouge_score(hypos, ground_truths)"
   ]
  },
  {
   "cell_type": "code",
   "execution_count": 48,
   "metadata": {},
   "outputs": [
    {
     "data": {
      "text/plain": [
       "[{'rouge1': Score(precision=0.7148703956343793, recall=0.721763085399449, fmeasure=0.7183002056202878),\n",
       "  'rouge2': Score(precision=0.41120218579234974, recall=0.41517241379310343, fmeasure=0.4131777625257378),\n",
       "  'rougeL': Score(precision=0.4229195088676671, recall=0.42699724517906334, fmeasure=0.4249485949280329)}]"
      ]
     },
     "execution_count": 48,
     "metadata": {},
     "output_type": "execute_result"
    }
   ],
   "source": [
    "rouge"
   ]
  },
  {
   "cell_type": "code",
   "execution_count": 49,
   "metadata": {},
   "outputs": [
    {
     "name": "stdout",
     "output_type": "stream",
     "text": [
      "ROUGE scores:\n",
      "ROUGE-1: P = 0.71, R = 0.72, F1 = 0.72\n",
      "ROUGE-2: P = 0.41, R = 0.42, F1 = 0.41\n",
      "ROUGE-L: P = 0.42, R = 0.43, F1 = 0.42\n"
     ]
    }
   ],
   "source": [
    "for i, score in enumerate(rouge):\n",
    "    print(\"ROUGE scores:\")\n",
    "    print(f\"ROUGE-1: P = {score['rouge1'].precision:.2f}, R = {score['rouge1'].recall:.2f}, F1 = {score['rouge1'].fmeasure:.2f}\")\n",
    "    print(f\"ROUGE-2: P = {score['rouge2'].precision:.2f}, R = {score['rouge2'].recall:.2f}, F1 = {score['rouge2'].fmeasure:.2f}\")\n",
    "    print(f\"ROUGE-L: P = {score['rougeL'].precision:.2f}, R = {score['rougeL'].recall:.2f}, F1 = {score['rougeL'].fmeasure:.2f}\")"
   ]
  },
  {
   "cell_type": "markdown",
   "metadata": {},
   "source": [
    "### Using Perplexity for Evaluation"
   ]
  },
  {
   "cell_type": "code",
   "execution_count": 50,
   "metadata": {},
   "outputs": [
    {
     "name": "stderr",
     "output_type": "stream",
     "text": [
      "Token indices sequence length is longer than the specified maximum sequence length for this model (601 > 512). Running this sequence through the model will result in indexing errors\n"
     ]
    }
   ],
   "source": [
    "# Define the function to calculate Perplexity score\n",
    "from transformers import BertTokenizer, BertForMaskedLM\n",
    "import torch\n",
    "\n",
    "\n",
    "def perplexity_score(hypos, tokenizer, model):\n",
    "    perplexity_scores = []\n",
    "    for hypo in hypos:\n",
    "        input_ids = tokenizer.encode(hypo, return_tensors=\"pt\")\n",
    "        # Truncate the sequence if it's longer than the model's maximum input length\n",
    "        if input_ids.size(1) > 512:\n",
    "            input_ids = input_ids[:, :512]\n",
    "        with torch.no_grad():\n",
    "            loss = model(input_ids, labels=input_ids)[0]\n",
    "        perplexity = torch.exp(loss).item()\n",
    "        perplexity_scores.append(perplexity)\n",
    "    return perplexity_scores\n",
    "\n",
    "# Load the pre-trained BERT model\n",
    "tokenizer = BertTokenizer.from_pretrained(\"bert-base-multilingual-cased\")\n",
    "model = BertForMaskedLM.from_pretrained(\"bert-base-multilingual-cased\")\n",
    "\n",
    "# Calculate the Perplexity score\n",
    "perplexity = perplexity_score(perplexity_hypos, tokenizer, model)"
   ]
  },
  {
   "cell_type": "code",
   "execution_count": 51,
   "metadata": {},
   "outputs": [
    {
     "data": {
      "text/plain": [
       "[1.0959974527359009]"
      ]
     },
     "execution_count": 51,
     "metadata": {},
     "output_type": "execute_result"
    }
   ],
   "source": [
    "perplexity"
   ]
  },
  {
   "cell_type": "code",
   "execution_count": 52,
   "metadata": {},
   "outputs": [
    {
     "name": "stdout",
     "output_type": "stream",
     "text": [
      "Perplexity: 1.10\n"
     ]
    }
   ],
   "source": [
    "for score in perplexity:\n",
    "    print(f\"Perplexity: {score:.2f}\")"
   ]
  },
  {
   "cell_type": "markdown",
   "metadata": {},
   "source": [
    "### RESULTS\n",
    "\n",
    "| METRIC   | Precision | Recall | F1 |\n",
    "|---------|----------|-------|-------|\n",
    "| BERTScore| | | |\n",
    "| ROUGE-1| | | |\n",
    "| ROUGE-2| | | |\n",
    "| ROUGE-L| | | |\n",
    "\n",
    "Perlexity = ?"
   ]
  },
  {
   "cell_type": "markdown",
   "metadata": {},
   "source": [
    "### Total Time Executions\n",
    "\n",
    "1. Câu hỏi 1: Tổng quan về ngành Điện tử - Viễn thông của Đại học Bách Khoa Hà Nội\n",
    "\n",
    "#### Đối với nhiệm vụ viết báo cáo nghiên cứu (kết quả thực nghiệm cho 5 câu hỏi khác nhau)\n",
    "\n",
    "|Time (s) | T1 | T2 |\n",
    "|----|----|----|\n",
    "|    | |  |\n",
    "\n",
    "#### Đối với nhiệm vụ phân tích nguồn tham khảo (kết quả thực nghiệm cho 5 câu hỏi khác nhau)\n",
    "\n",
    "|Time (s) | T1 | T2 |\n",
    "|----|----|----|\n",
    "|    |  | 123.123 |\n",
    "\n",
    "#### Đôi với nhiệm vụ viết khung báo cáo (kết quả thực nghiệm cho 5 câu hỏi khác nhau)\n",
    "\n",
    "|Time (s) | T1 | T2 |\n",
    "|----|----|----|\n",
    "|    |  | 123.123 |\n",
    "\n",
    "#### Đối với nhiệm vụ viết câu trả lời cho câu hỏi (kết quả thực nghiệm cho 5 câu hỏi khác nhau)\n",
    "\n",
    "|Time (s) | T1 | T2 |\n",
    "|----|----|----|\n",
    "|    | 100.123 | 123.123 |"
   ]
  },
  {
   "cell_type": "markdown",
   "metadata": {},
   "source": [
    "### Review\n",
    "1. Summarization is a complex task, even advanced models can struggle to accurately capture all the important information from a source text.\n",
    "\n",
    "2. BERTScore or ROUGE that these metrics focus on things like including keywords from the source text, so that do not perfectly reflect human judgement of a good summary.\n",
    "\n",
    "3. The response of chatbot from many different sources.\n"
   ]
  },
  {
   "cell_type": "markdown",
   "metadata": {},
   "source": [
    "### HUMAN EVALUATION IS THE BEST WAY TO EVALUATE THE QUALITY OF A SUMMARY"
   ]
  },
  {
   "cell_type": "code",
   "execution_count": null,
   "metadata": {},
   "outputs": [],
   "source": []
  }
 ],
 "metadata": {
  "kernelspec": {
   "display_name": "venv",
   "language": "python",
   "name": "python3"
  },
  "language_info": {
   "codemirror_mode": {
    "name": "ipython",
    "version": 3
   },
   "file_extension": ".py",
   "mimetype": "text/x-python",
   "name": "python",
   "nbconvert_exporter": "python",
   "pygments_lexer": "ipython3",
   "version": "3.11.5"
  }
 },
 "nbformat": 4,
 "nbformat_minor": 2
}
