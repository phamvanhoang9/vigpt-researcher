{
 "cells": [
  {
   "cell_type": "code",
   "execution_count": 24,
   "metadata": {},
   "outputs": [],
   "source": [
    "import urllib3\n",
    "urllib3.disable_warnings(urllib3.exceptions.InsecureRequestWarning)"
   ]
  },
  {
   "cell_type": "code",
   "execution_count": 25,
   "metadata": {},
   "outputs": [],
   "source": [
    "import requests\n",
    "from bs4 import BeautifulSoup\n",
    "\n",
    "class BaseLoader:\n",
    "    def __init__(self, urls):\n",
    "        self.urls = urls\n",
    "        self.headers = {\n",
    "            'User-Agent': 'Mozilla/5.0 (Windows NT 10.0; Win64; x64) AppleWebKit/537.36 (KHTML, like Gecko) Chrome/96.0.4664.110 Safari/537.36'\n",
    "        }\n",
    "\n",
    "    def load(self):\n",
    "        references = []\n",
    "        for url in self.urls:\n",
    "            response = requests.get(url, headers=self.headers, verify=False)\n",
    "            soup = BeautifulSoup(response.text, 'html.parser')\n",
    "            # Remove unwanted elements\n",
    "            unwanted_tags = ['header', 'banner', 'advertisement', 'pop-up', 'footer']\n",
    "            for tag in unwanted_tags:\n",
    "                for element in soup.find_all(tag):\n",
    "                    element.decompose()\n",
    "            # Remove images\n",
    "            for element in soup.find_all('img'):\n",
    "                element.decompose()\n",
    "            # Remove icons\n",
    "            for element in soup.find_all(class_='icon'):\n",
    "                element.decompose()\n",
    "            # Remove lazy-loaded elements\n",
    "            for element in soup.find_all(attrs={'loading': 'lazy'}):\n",
    "                element.decompose()\n",
    "                \n",
    "            references.append(soup.get_text())\n",
    "        \n",
    "        return references"
   ]
  },
  {
   "cell_type": "code",
   "execution_count": 27,
   "metadata": {},
   "outputs": [],
   "source": [
    "with open(\"hypos.txt\") as f:\n",
    "    hypos = [line.strip() for line in f]\n",
    "\n",
    "with open(\"refs.txt\") as f:\n",
    "    refs = [line.strip() for line in f]"
   ]
  },
  {
   "cell_type": "code",
   "execution_count": 28,
   "metadata": {},
   "outputs": [
    {
     "data": {
      "text/plain": [
       "['https://baoantelecom.com/vi/tin/dien-tu-vien-thong',\n",
       " 'https://www.hotcourses.vn/study-abroad-info/study-guides/nganh-dien-tu-vien-thong/',\n",
       " 'https://blog.topcv.vn/co-nen-hoc-nganh-dien-tu-vien-thong/']"
      ]
     },
     "execution_count": 28,
     "metadata": {},
     "output_type": "execute_result"
    }
   ],
   "source": [
    "refs"
   ]
  },
  {
   "cell_type": "code",
   "execution_count": 29,
   "metadata": {},
   "outputs": [],
   "source": [
    "loader = BaseLoader(refs)\n",
    "refs= loader.load()"
   ]
  },
  {
   "cell_type": "code",
   "execution_count": 30,
   "metadata": {},
   "outputs": [
    {
     "data": {
      "text/plain": [
       "3"
      ]
     },
     "execution_count": 30,
     "metadata": {},
     "output_type": "execute_result"
    }
   ],
   "source": [
    "len(refs)"
   ]
  },
  {
   "cell_type": "code",
   "execution_count": 31,
   "metadata": {},
   "outputs": [
    {
     "data": {
      "text/plain": [
       "['\\n\\n\\n\\n\\n\\n\\n\\n\\nTìm hiểu kiến thức học và cơ hội việc làm ngành Điện tử viễn thông\\n\\n\\n\\n\\n\\n\\n\\n\\n\\n\\n\\n\\n\\n\\n\\n\\n\\n\\n\\n\\n\\n\\n\\n\\n\\n\\n\\n\\n\\n\\n\\n\\n\\n\\n\\n\\n\\n\\n\\n\\n\\n\\n\\nTin tức\\n\\n\\n\\n\\n\\nTrang chủ\\nTìm hiểu kiến thức học và cơ hội việc làm ngành Điện tử viễn thông\\n\\n\\n\\n\\n\\n\\nTìm hiểu kiến thức học và cơ hội việc làm ngành Điện tử viễn thông\\n\\n\\nVo Kim Ngan\\n11/10/2021\\n\\n\\n\\n\\n\\n\\n\\n \\n\\n\\n\\n\\n\\n\\n\\n\\nTumblr\\n\\n\\n\\n\\n\\nMỤC LỤC\\n1. Ngành điện tử viễn thông là gì? Và ứng dụng trong đời sống\\n2. Ngành điện tử viễn thông học những kiến thức gì?\\n3. Định hướng công việc ngành Điện tử viễn thông? Cơ hội việc làm có rộng mở?\\n4. Cần trang bị gì để học và làm việc tốt ngành điện tử viễn thông\\n5. Các trường đào tạo ngành điện tử viễn thông\\n\\n\\n\\nNgành điện tử viễn thông là gì? Và ứng dụng trong đời sống\\nĐiện tử viễn thông là ngành sử dụng những công nghệ tiên tiến để tạo ra các thiết bị giúp cho việc liên lạc, truy xuất thông tin của cá nhân hoặc tổ chức, điện tử viễn thông được ứng dụng cao ở nhiều lĩnh vực trong cuộc sống.\\n\\n\\n•\\xa0\\xa0 \\xa0Lĩnh vực mạng, viễn thông: các thiết bị truyền tin trên toàn cầu như hệ thống truyền dẫn: cáp quang, vệ tin, hệ thống truyền tin không dây (vi ba) v.v... Thành tựu mới đây nhất là xây dựng hệ thống 5g và các thiết bị hệ thống hôi nghị truyền hình\\n•\\xa0\\xa0 \\xa0Lĩnh vực định vị dẫn đường: là một lĩnh vực đặc biệt quan trọng ngành Hàng không và Hàng hải. Những trạm kiểm soát không lưu mặt đất là nơi những kĩ sư Điện tử Viễn thông làm nhiệm vụ dẫn đường cho hàng nghìn chuyến bay, tàu thuỷ hoạt động an toàn\\n•\\xa0\\xa0 \\xa0Lĩnh vực nghiên cứu, sáng tạo công nghệ, thiết bị mới: là lĩnh vực đòi hỏi người học phải có sự sáng tạo dựa trên những ứng dụng của xã hội nói chung và ngành Điện tử Viễn thông nói riêng, phát triển các công nghệ mới, ứng dụng mới hữu ích và đơn giản hơn cho mọi người là lĩnh vực thúc đẩy sự phát triển của toàn bộ ngành Điện tử Viễn thông\\n•\\xa0\\xa0 \\xa0Lĩnh vực điện tử y sinh: ngành dđiện tử viễn thông là nền tảng để tạo ra các máy móc, thiết bị điện tử hiện đại trong lĩnh vực y tế và sinh học.\\n•\\xa0\\xa0 \\xa0Lĩnh vực âm thành, hình ảnh: ngành kỹ thuật Điện tử Viễn thông \\xa0đóng góp 1 phần quan trọng của như việc thiết kế ra các trang thiết bị nghe nhìn, điều chỉnh âm độ các thiết bị thu âm v.v...\\n\\nCó thể nói tất cả các thiết bị trong cuộc sống hiện đại ngày nay như : máy thu hình, điện thoại, máy tính cá nhân, máy tính bảng,… đều có dấu ấn của ngành Điện tử Viễn thông , là nền tảng cơ bản nhất của cách mạng công nghiệp 4.0, của xu hướng chuyển đối số trong mọi lĩnh vực của đời sống, kinh tế, xã hội.\\xa0\\n\\nNgành điện tử viễn thông học những kiến thức gì?\\nHiểu từ tên gọi, có rất nhiều người cho rằng Điện tử Viễn thông là một phần của Công nghệ thông tin, cách hiểu này không hoàn toàn sai nhưng chưa chính xác. Giải thích cơ bản thì Ngành Điện tử-viễn thông và ngành Công nghệ thông tin là hai ngành rất gần với nhau, có nhiều kiến thức chung về công nghệ tuy nhiên đi vào chuyên sâu sẽ thấy rõ sự khác biệt rằng: CNTT tập trung vào xây dựng phần mềm còn chuyên ngành DTVT tập trung về phần cứng.\\xa0\\n\\nTheo học ngành Điện tử - Viễn thông, sinh viên được trang bị khối kiến thức theo 3 tầng cấp độ:\\nCấp độ 1: Các kiến thức nền tảng và chuyên sâu về các công nghệ, kỹ thuật: Giải tích mạch điện; trường điện tử; kỹ thuật lập trình; điện tử số; nguyên lý truyền thông; vi xử lý; điện tử thông tin; kỹ thuật truyền số liệu và mạng; xử lý tín hiệu; thiết kế số dùng ngôn ngữ mô tả phần cứng; hệ thống viễn thông; kỹ thuật siêu cao tần và anten,...\\xa0\\nCấp độ 2: ngành Công nghệ Kỹ thuật Điện tử - Viễn thông cung cấp cho sinh viên các kỹ năng vận hành bảo trì, sửa chữa, cải tiến, nâng cấp các hệ thống, thiết bị điện tử viễn thông\\xa0\\nCấp độ 3: Nâng cao hơn là khả năng tìm hiểu, nghiên cứu, phát triển ứng dụng công nghệ kỹ thuật điện tử viễn thông trong công nghiệp và trong đời sống dân dụng. Thực hành, vận dụng lý thuyết là phần học quan trọng nhất trong ngành DTVT, cụ thể là những cuộc thi đầy sáng tạo như: robocon\\n\\n\\nĐịnh hướng công việc ngành Điện tử viễn thông? Cơ hội việc làm có rộng mở?\\nHọc ngành điện tử viễn thông ra làm gì? có thể đảm nhận những vị trí nào? Làm việc ở công ty nào là câu hỏi của tất cả sinh viên ngành viễn thông cần biết và nền tìm hiểu:\\r\\n•\\xa0\\xa0 \\xa0Chuyên viên quy hoạch, thiết kế và tối ưu hóa hệ thống mạng tại các công ty viễn thông < VNPT, Viettel, Vinaphone, Mobiphone …;>\\n\\n•\\xa0\\xa0 \\xa0Chuyên viên thiết kế, tư vấn và điều hành công tác kỹ thuật tại các đài phát thanh, truyền hình < VTV, HTV,SCTV, các đài truyền hình địa phương…>\\n•\\xa0\\xa0 \\xa0Chuyên viên nghiên cứu và thiết kế tại các công ty sản xuất thiết bị điện tử viễn thông, âm thanh hình ảnh, công ty thiết kế sản xuất vi mạch. < Aver, Maxhub, FPT, Samsung, LG, Intel, Panasonic..>\\n•\\xa0\\xa0 \\xa0Chuyên viên vận hành, thiết kế và bảo trì thiết bị điện tử, tự động hóa trong các đơn vị, doanh nghiệp.\\n•\\xa0\\xa0 \\xa0Khi có kinh nghiệm và thời gian làm việc \\xa0có thể giữ vị trí Trưởng bộ phận kỹ thuật, Giám đốc kỹ thuật tại các doanh nghiệp, các công ty trong lĩnh vực điện tử, viễn thông, truyền thông.\\n•\\xa0\\xa0 \\xa0Có thể trở thành cán bộ giảng dạy, nghiên cứu tại các trường đại học, cao đẳng và Viện nghiên cứu.\\nThế giới nói chung và Việt Nam nói riêng đang sống trong kỳ nguyên số. Các doanh nghiệp về công nghệ ngày càng nhiều và phát triển rất nhanh, đi cùng đó là nhu cầu về nguồn nhân lực cũng tăng cao. Dự báo của Vietnamworks cho thấy, nước ta đang thiếu 400.000 nhân lực công nghệ thông tin và điện tử viên thông và mỗi năm cần cung ứng mới tới 78.000 lao động. Tuy nhiên trong thực tế, mỗi năm nước ta chỉ có khoảng 50.000 sinh viên tốt nghiệp, dẫn đến \"cơn khát\" nhân lực đối với ngành học này dường như chưa bao giờ hạ.\\xa0\\n\\nCần trang bị gì để học và làm việc tốt ngành điện tử viễn thông\\nKhông chỉ ngành ĐTVT mà khi lựa chọn ngành học và việc làm, cần tìm thấy được sự đam mê và thích thú. Điều này giúp người học và người làm việc tìm thấy được niềm vui trong công việc, công việc không nhàm chán.\\n\\nCòn riêng trong ngành ĐT VT nên có thêm những tố chất về: sự kiên trì, nhẫn nại, kỹ năng ngoại ngữ và khả năng làm việc nhóm.\\xa0\\n\\n\\nCác trường đào tạo ngành điện tử viễn thông\\xa0\\nVới hệ chính quy Đại học, đào tạo ngành Điện tử viễn thông có thể kể đến các trường với bề dày và có tỷ lệ sinh viên đầu ra tốt nhất:\\n\\n\\nKhoa điện tử viễn thông đại học bách khoa đà nẵng\\xa0\\r\\nTrường ĐH Bách khoa Hà Nội\\xa0\\r\\nTrường ĐH Bách khoa HCM (ĐH Quốc gia HCM)\\xa0\\r\\nTrường ĐH khoa học (ĐH Huế)\\r\\nTrường Học viện Công nghệ Bưu chính Viễn thông\\r\\nTrường ĐH Công nghệ (ĐH Quốc gia Hà Nội)\\r\\nĐại học Công nghệ TP.HCM\\r\\nĐại học Sư phạm Kỹ thuật TP.HCM\\r\\nĐại học Điện lực – Hà Nội\\n\\n\\n\\n\\nĐĂNG KÝ TƯ VẤN NGAY HÔM NAY\\nChỉ cần Quý khách hàng để lại tên và số điện thoại, đội ngũ nhân viên của chúng tôi sẽ liên hệ tư vấn cho quý khách hàng giải pháp tốt nhất trong thời gian nhanh nhất.\\n\\n\\n\\n\\n\\n\\n\\n\\n\\n\\n\\n\\n\\n\\n\\n\\n\\n\\n\\n\\nGởi đi \\n\\n\\n\\n\\nĐang gửi dữ liệu. Vui lòng đợi trong giây lát!!!\\n\\n\\n\\n\\n\\n\\n\\n\\n\\n\\nTin khác\\n\\n\\n\\n\\n\\n\\n\\n\\n\\n\\n\\nBẢNG GIÁ MÀN HÌNH TƯƠNG TÁC 65INCH RẺ NHẤT 2022\\n\\n\\n\\n\\n\\n\\n\\n\\n\\n\\n\\nReview loa hội nghị bluetooth Maxhub BM21\\n\\n\\n\\n\\n\\n\\n\\n\\n\\n\\n\\nLiên kết quang học (Optical Bonding) là gì?\\n\\n\\n\\n\\n\\n\\n\\n\\n\\n\\n\\nSo sánh công nghệ\\xa0LED Edge-lit \\xa0(chiếu sáng cạnh) và Back-lit\\xa0(chiếu sáng nền)\\n\\n\\n\\n\\n\\n\\n\\n\\n\\n\\n\\nSo sánh sự khác biệt giữa màn hình cảm ứng IR và PCAP\\n\\n\\n\\n\\n\\n\\n\\n\\n\\n\\n\\nSo sánh màn hình tương tác: MAXHUB V5 Transcend vs LG CreateBoard™\\n\\n\\n\\n\\n\\n\\n\\n\\n\\n\\n\\nVì sao nên sử dụng tính năng Automatic Framing của Polycom Studio?\\n\\n\\n\\n\\n\\n\\n\\n\\n\\n\\n\\nCác loại công nghệ màn hình cảm ứng\\n\\n\\n\\n\\n\\n\\n\\n\\n\\n\\n        Custom loading...\\n    \\n\\n\\n\\n\\n\\n\\n\\n\\n\\n\\n\\n\\n\\n\\n\\n\\n\\n\\n\\n\\n\\n\\n\\n',\n",
       " '\\n\\n\\nNgành Điện tử - Viễn Thông: Học gì, học ở đâu và cơ hội nghề nghiệp\\n\\n\\n\\n\\n\\n\\n\\n\\n\\n\\n\\n\\n\\n\\n\\n\\n\\n\\n\\n\\n\\n\\n\\n\\n\\n\\n\\n\\n\\n\\n\\n\\n\\n\\n\\n\\n\\n\\n\\n\\n\\n\\n\\n\\n\\n\\n\\n\\n\\n\\n\\n\\n\\n\\n\\n\\n\\n\\n\\n\\n\\n\\n\\n\\n\\n\\n\\n\\n\\n\\n\\n\\n\\n\\n\\n\\n\\n\\n\\n\\n\\n\\n\\n\\n\\n\\n\\n\\n\\n\\n\\n\\n\\n\\n\\n\\n\\n\\n\\n\\n\\n\\n\\n\\n\\n\\n\\n\\n\\n\\n\\n\\n\\n\\n\\n\\n\\n\\n\\n\\n\\n\\n\\n\\n\\n\\n\\n\\n\\n\\n\\n\\n\\n\\n\\n\\n\\n\\n\\n\\n\\n\\n\\n\\n\\n\\n\\n\\n\\n\\n\\n\\n\\n\\n\\n\\n\\n\\n\\n\\n\\n\\n\\n\\n\\n\\n\\n\\n\\n\\n\\n\\n\\n\\n\\n\\n\\n\\n\\n\\n\\n\\n\\n\\n\\n\\n\\n\\n\\n\\n\\n\\n\\n\\n\\n\\n\\n\\n\\n\\n\\n\\n\\n\\n\\n\\n\\n\\n\\n\\n\\n\\nTất các các tin du học\\n\\n\\n /\\n\\n\\nCác bài viết du học Bốn phương\\n\\n\\n\\n\\n/\\n\\n\\nTiêu điểm ngành học Bốn phương\\n\\n\\n\\n\\n\\nThông tin du học\\n\\n\\n\\nThông tin du học\\n\\n\\n\\n\\n\\nChọn điểm đến du học\\n\\n\\n\\n\\n\\n\\nChọn ngành học\\n\\n\\n\\n\\n\\nHồ sơ du học\\n\\n\\n\\n\\n\\nLên kế hoạch tài chính\\n\\n\\n\\n\\n\\nXin visa\\n\\n\\n\\n\\n\\nLựa chọn chỗ ở\\n\\n\\n\\n\\n\\nChuẩn bị lên đường\\n\\n\\n\\n\\n\\nĐến chân trời mới\\n\\n\\n\\n\\n\\nHướng nghiệp\\n\\n\\n\\n\\nTin mới nhất\\n\\n\\n\\n\\n\\n\\n\\n\\n\\n\\nDu học nước ngoài: TIÊU ĐIỂM NGÀNH HỌC\\n Ngành Điện tử - Viễn Thông: Học gì, học ở đâu và cơ hội nghề nghiệp \\n\\n\\n\\n\\n\\n\\n\\n\\n Quynh Huong Vo \\n\\n\\n8 Tháng Mười Hai 2021\\n\\n\\n\\n\\n\\n\\n\\n\\n\\n\\n\\n\\n\\n\\n60.1K\\n\\n\\n\\n\\n\\nLưu lại xem sau\\n\\n\\nĐã lưu!\\nXem danh sách đọc\\n\\n\\n\\n\\n\\n\\n\\n\\n\\n\\n\\nĐã lưu! \\nXem danh sách đọc\\n\\n\\n\\n\\n\\n\\n\\n\\n\\n\\n\\n\\n\\n\\n\\n\\n\\n\\n\\n\\n\\n\\n\\n\\n\\n\\n\\n\\n\\n\\n\\n\\n\\nĐiện tử - Viễn Thông là một trong những ngành có tiềm năng phát triển, nhiều cơ hội việc làm và đóng vai trò quan trọng trong sự phát triển của một quốc gia. Tuy nhiên, ngành Kỹ thuật Điện tử - Viễn thông khá rộng lớn, chia thành rất nhiều lĩnh vực phong phú nên dễ khiến bạn hoang mang khi mới tìm hiểu ngành này. Hotcourses Vietnam mời bạn khám phá ngành Điện tử - Viễn Thông một cách khái quát và đầy đủ qua bài viết sau đây!\\n\\xa0\\nNgành Điện tử - Viễn Thông là gì?\\xa0\\xa0\\nĐiện tử và Viễn Thông vốn có sự liên quan mật thiết với nhau nên mới đi theo cặp như vậy. Cụ thể, lĩnh vực Điện tử nghiên cứu và chế tạo ra các vi mạch điện tử, được xem như là “bộ não” điều khiển toàn bộ hoạt động của các thiết bị thông minh. Trong khi đó, lĩnh vực Viễn thông nghiên cứu và sử dụng các thiết bị để tạo nên các mạng lưới truyền dẫn thông tin cho mục đích giao tiếp xuyên biên giới. Từ đó, ngành Điện tử - Viễn Thông có thể hiểu đơn giản là ứng dụng công nghệ tiên tiến để tạo ra các thiết bị truyền thông tin. Một số sản phẩm của ngành Điện tử - Viễn thông quen thuộc với mọi người có thể kể đến như tivi, điện thoại, máy tính, mạch điều khiển,...\\xa0 Ngành Điện tử - Viễn Thông có vai trò quan trọng trong việc xây dựng hệ thống thông tin liên lạc toàn cầu để mọi người trao đổi, truy xuất thông tin, giám sát và điều khiển thiết bị thông minh một cách nhanh chóng và thuận tiện.\\n\\xa0\\nHọc gì trong ngành Điện tử - Viễn Thông?\\nTheo học ngành Kỹ thuật điện tử - viễn thông, sinh viên sẽ được đào tạo kiến thức chuyên môn về lĩnh vực điện tử, nguyên lý truyền thông tin và tiếp cận với công nghệ kỹ thuật điện tử tiên tiến như:\\n\\n\\nMạng không dây\\n\\n\\nMạng truyền số liệu\\xa0\\n\\n\\nKỹ thuật siêu cao tần và anten\\n\\n\\nHệ thống phát thanh truyền hình\\n\\n\\nCông nghệ phân tích và xử lý tín hiệu, âm thanh, hình ảnh\\n\\n\\n\\xa0\\n\\n\\n\\n\\n\\n\\n\\n\\xa0\\nThời gian đào tạo Cử nhân ngành Kỹ thuật Điện tử - Viễn thông của các trường Đại học trong khoảng 4-5 năm.\\xa0\\nBởi ngành này mang tính ứng dụng cao, luôn bám sát thực tiễn theo nhu cầu của các doanh nghiệp và xu thế công nghệ mới nên sinh viên được thực hành và trải nghiệm nhiều. Sinh viên sẽ có khoảng 30% thời lượng học tập để được thực chiến các kỹ năng với các trang thiết bị của trường như:\\n\\n\\nVận hành, bảo trì, sửa chữa, nâng cấp các hệ thống, thiết bị điện tử - viễn thông\\xa0\\n\\n\\nTìm hiểu, nghiên cứu và phát triển ứng dụng công nghệ kỹ thuật điện tử - viễn thông trong công nghiệp và đời sống\\n\\n\\n\\xa0\\nKhi đi sâu vào từng chuyên ngành, sinh viên sẽ gặp gỡ khối lượng kiến thức đặc thù rộng lớn, tuy thú vị nhưng cũng nhiều thử thách. Ba chuyên ngành nổi trội hiện đang phổ biến bởi tính ứng dụng mà sinh viên cần cân nhắc khi theo đuổi là:\\n\\n\\n\\xa0\\xa0Kỹ thuật điện tử - Viễn thông\\xa0\\n\\n\\n\\xa0\\xa0Kỹ thuật điều khiển và tự động hóa\\xa0\\n\\n\\n\\xa0\\xa0Hệ thống nhúng và IoT (tạo ra các thiết bị thông minh, kết nối Internet)\\n\\n\\n\\xa0\\nNgành Điện tử - Viễn Thông học ở đâu?\\nNgành Điện tử - Viễn Thông thường được xem là một trong những ngành yêu cầu đầu vào cao điểm nhất ở Việt Nam trong nhiều năm qua. Điều đó cho thấy độ thu hút của ngành đối với nhiều sinh viên có đam mê với kỹ thuật. Những trường đại học đào tạo ngành kỹ thuật Điện tử - Viễn Thông có uy tín ở nước ta phải kể đến như: Đại học Bách khoa (ĐH Quốc gia TP.HCM), Đại học Khoa học tự nhiên (ĐH Quốc gia TP.HCM), Đại học Sư phạm Kỹ thuật TP.HCM, Đại học Khoa học (ĐH Huế), Đại học Bách khoa (Đà Nẵng), Đại học Công nghệ (ĐH Quốc gia Hà Nội), Học viện Công nghệ bưu chính viễn thông, Đại học Bách khoa Hà Nội, Đại học Điện lực Hà Nội.\\n\\xa0\\n\\n\\n\\n\\n\\n\\n\\n\\n\\xa0\\nNếu có điều kiện, bạn nên theo đuổi ngành Điện tử - Viễn Thông tại các nước có thế mạnh về ngành này để học hỏi những điều hay. Việc trải nghiệm trong môi trường theo chuẩn quốc tế từ khi còn trên ghế nhà trường sẽ tạo nền tảng tốt và điều kiện thuận lợi cho các kỹ sư tương lai thích ứng với yêu cầu công việc. Nếu bạn muốn trau dồi kiến thức theo cách tốt nhất, Hotcourses Vietnam sẽ gợi ý những điểm đến du học hàng đầu sau:\\n\\n\\nCác khóa đào tạo ngành Điện tử - Viễn thông ở Mỹ\\n\\n\\nCác khóa đào tạo ngành Điện tử - Viễn thông ở Úc\\n\\n\\nCác khóa đào tạo ngành Điện tử - Viễn thông ở Canada\\n\\n\\nCác khóa đào tạo ngành Điện tử - Viễn thông ở Anh\\n\\n\\n\\xa0\\nBạn lưu ý là bấm vào link \"Xem [số] khóa học Điện tử - Viễn thông\" để tìm hiểu thông tin cụ thể về chương trình học ở từng trường. Nếu bạn có thắc mắc về du học ngành Điện tử - Viễn thông, các chuyên gia du học IDP giàu kinh nghiệm luôn sẵn sàng hỗ trợ và tư vấn hoàn toàn miễn phí.\\n\\xa0\\nTương lai của ngành Điện tử - Viễn Thông và cơ hội nghề nghiệp dành cho bạn\\nTốc độ phát triển nhanh chóng của lĩnh vực Điện tử - Viễn Thông vẫn đang sản sinh ra nhiều nghề nghiệp mới mà có thể chính bạn là một trong những người tiên phong đảm nhận. Không chỉ các công ty trong lĩnh vực viễn thông như Viettel, VNPT, FPT mà các doanh nghiệp trong nhiều lĩnh vực khác như điện lực, ngân hàng, giao thông, quốc phòng - an ninh... vẫn cần sử dụng hạ tầng mạng viễn thông và máy tính. Điều đó có nghĩa bạn sẽ có nhiều sự lựa chọn để phát triển sự nghiệp tương lai của mình.\\xa0\\n\\xa0\\n\\n\\n\\n\\n\\n\\n\\n\\n\\xa0\\nSau khi hoàn thành chương trình đào tạo, bạn có thể đảm nhận những vị trí công việc sau:\\n\\n\\nChuyên viên tư vấn, thiết kế và vận hành kỹ thuật tại các đài phát thanh, đài truyền hình, công ty tư vấn thiết kế mạng viễn thông, sản xuất thiết bị Điện tử - Viễn Thông, những công ty sản xuất vi mạch\\n\\n\\nKỹ sư vô tuyến với kiến thức chuyên sâu về vận hành mạng, các mạng di động 2G/ 3G/ 4G/ 5G và cấu trúc mạng cũng như các thuật toán, tham số của tính năng mạng vô tuyến\\n\\n\\nKỹ sư viễn thông đảm nhiệm nghiên cứu và phát triển mạng vô tuyến, định vị dẫn đường, thiết bị tín hiệu đa phương tiện về âm thanh, hình ảnh\\n\\n\\nKỹ sư truyền dẫn đảm nhận việc vận hành, khai thác, giám sát lắp đặt mạng truyền dẫn\\n\\n\\nKỹ sư thiết kế và viết phần mềm cho các thiết bị thông minh như điện thoại di động, rô bốt, xe ô tô\\n\\n\\nGiám đốc kỹ thuật, Trưởng bộ phận kỹ thuật tại các công ty, doanh nghiệp trong lĩnh vực điện tử, viễn thông, bưu chính viễn thông, bưu điện\\n\\n\\n\\n\\n\\n\\n\\n\\n\\n\\n\\n\\n\\n\\n\\n\\n\\n\\n\\n\\n\\n\\n\\n\\n\\n\\n\\n\\nLIÊN HỆ TƯ VẤN \\n\\n\\n\\n\\n\\n\\n\\n\\n\\n\\n\\n\\n\\n\\n\\n\\n\\n\\n\\n\\n\\n\\n\\n\\n\\n\\n\\n\\n\\n\\n\\n\\n\\n\\n\\n\\n  \\n\\n\\n\\n\\n\\n\\n\\n\\n\\n\\n\\n\\nKhông thể bỏ lỡ\\n\\n\\n\\n\\n\\n\\n\\n\\n\\nNgành khoa học dữ liệu: Những điều bạn cần biết\\n\\nNgành Khoa học dữ liệu (Data Science) là ngành học lí tưởng cho những bạn học sinh, sinh viên đam mê công nghệ, dữ liệu và khám phá những điều mới lạ. Trong bài viết này, cùng Hotcourses Vietnam tìm hiểu về ngành học và các cơ hội nghề nghiệp của ngành Khoa học dữ liệu nhé!\\xa0 \\n\\xa0 \\nNgành khoa học dữ liệu là gì? \\nKhoa học dữ liệu (Data science) là ngành khoa học về việc khai phá, quản trị và phân tích dữ liệu để dự đoán các xu hướng trong\\n\\n\\n\\n\\n\\n\\n\\n\\n\\n71.2K\\n\\n\\n\\n\\n\\n\\n\\n\\n\\n\\n\\n\\n\\n\\n\\nNgành Quản trị Nhân lực: Học gì, ở đâu, và cơ hội nghề nghiệp\\n\\nNgành Quản trị nhân lực, hay ngành quản lý nhân sự là một chuyên ngành hết sức hữu ích bởi nó giúp bạn nhìn nhận và đánh giá con người cũng như các công ty, tổ chức theo một cách khác biệt. Ngành này là sự kết hợp của rất nhiều các kỹ năng khác nhau, cung cấp cho bạn một cái nhìn sâu sắc về kinh doanh cũng như sự hiểu biết về cách quản lý nhân sự mà không phải ai trong công ty cũng có khả năng nhìn nhận. Trong bài viết này, hãy cùng Hotcourses Vietnam tìm hiểu thêm\\n\\n\\n\\n\\n\\n\\n\\n\\n\\n70.2K\\n\\n\\n\\n\\n\\n\\n\\n\\n\\n\\n\\n\\n\\n\\n\\n\\nNgành Xã hội học: Học gì, học ở đâu, và cơ hội nghề nghiệp\\n\\nLĩnh vực nghiên cứu về hành vi và các mối quan hệ xã hội của con người đang ngày càng được chú trọng. Vì lý do này, ngành xã hội học đang thu hút sự quan tâm của nhiều bạn học sinh, sinh viên trong những năm gần đây bởi tính thiết thực và cơ hội phát triển rộng mở. Vậy xã hội học là ngành gì? Học xã hội học làm nghề gì? Cùng Hotcourses Vietnam tìm hiểu chi tiết về ngành xã hội học trong bài viết dưới đây. \\n\\xa0 \\nNgành xã hội học là gì? \\nXã\\n\\n\\n\\n\\n\\n\\n\\n\\n\\n58.4K\\n\\n\\n\\n\\n\\n\\n\\n\\n\\n\\n\\n\\n\\n\\n\\n\\nNgành kinh tế đối ngoại: Học gì, học ở đâu, và cơ hội nghề nghiệp\\n\\nHiện nay, khi các quốc gia tiến hành quá trình hội nhập quốc tế sâu rộng, nhu cầu về sự giao thương toàn cầu diễn ra rất mạnh mẽ. Trong bối cảnh đó, ngành kinh tế đối ngoại trở thành một ngành học phổ biến, thu hút nguồn nhân lực khổng lồ. Vậy kinh tế đối ngoại là gì? Học kinh tế đối ngoại ra làm gì? Cùng Hotcourses Vietnam khám phá chi tiết về ngành kinh tế đối ngoại trong bài viết dưới đây. \\n\\xa0 \\nNgành kinh tế đối ngoại là gì? \\nKinh tế đối\\n\\n\\n\\n\\n\\n\\n\\n\\n\\n57.7K\\n\\n\\n\\n\\n\\n\\n\\n\\n\\n\\n\\n\\n\\n\\n\\n\\n\\n\\n\\n\\n\\n\\n\\n\\n\\n\\n\\n\\n\\n\\n\\n\\n\\n\\nBạn muốn du học?\\n\\n\\nLIÊN HỆ TƯ VẤN \\n\\n\\n\\n\\n\\n\\n\\n\\n\\n\\n\\n\\n\\n\\n\\n\\n\\n\\n\\n\\n\\n\\n\\n\\n\\n\\n\\n\\n\\n\\n\\n\\n\\n\\n\\n\\n\\n\\n\\n\\n\\n\\n\\n\\n\\n\\n\\n\\n\\n\\n\\n\\n\\nTư vấn du học\\n\\n\\n\\n\\n \\nLIÊN HỆ TƯ VẤN\\n\\n\\n\\n\\n\\nChat với E-bot\\n\\n\\n\\n\\n\\n\\n\\n\\nTư vấn du học\\n\\n\\n\\n\\n\\n\\n\\n\\n\\n\\n\\n\\n\\n\\n\\n\\n\\n\\n\\n\\n\\n\\n\\n\\n\\n\\n\\n\\n\\n\\n\\n\\n\\n\\n\\n\\n\\n\\n\\n\\n\\n\\n\\n\\n\\n\\n\\n\\n\\n\\n\\n\\n\\n\\n\\n\\n\\n\\n\\n\\n\\n\\n\\n\\n\\n\\n\\n\\n\\n\\n\\n\\n\\n\\n\\n\\n\\n\\n\\n\\n\\n\\n\\n\\n\\n\\n\\n\\n\\n\\n\\n',\n",
       " '\\n\\n\\n  \\n\\nCó nên học ngành kỹ thuật điện tử viễn thông hay không?\\n\\n\\n\\n\\n\\n\\n\\n\\n\\n\\n\\n\\n\\n\\n\\n\\n\\n\\n\\n\\n\\n\\n\\n\\n\\n\\n\\n\\n\\n\\n\\n\\n\\n\\n\\n\\n\\n\\n\\n\\n\\n\\n\\n\\n\\n\\n\\n\\n\\n\\n\\n\\n\\n\\n\\n\\n\\n\\n\\n\\n\\n\\n\\n\\n\\n\\n\\n\\n\\n\\n\\n\\n\\n\\n\\n\\n\\n\\n\\n\\n\\n\\n\\n\\nCách viết CV\\nKỹ năng phỏng vấn\\nHướng nghiệp\\nHọc bổng\\nSự kiện\\nHighlights\\nSách hay\\n \\n\\n \\n\\n\\n\\n\\n\\n\\n\\nTÌM KIẾM\\n\\n\\n\\n\\n\\n\\n\\n\\n\\n\\n\\n\\n\\n\\n\\nĐăng nhập\\nĐăng nhập tài khoản\\n\\n\\nTài khoản\\nmật khẩu của bạn\\n\\n\\nForgot your password? Get help\\n\\n\\nKhôi phục mật khẩu\\nKhởi tạo mật khẩu\\n\\n\\nemail của bạn\\n\\n\\nMật khẩu đã được gửi vào email của bạn.\\n\\n\\n\\n\\n\\n\\n\\n\\n\\n\\n\\n\\n\\nTopCV Blog\\n\\n\\nCách viết CV\\nKỹ năng phỏng vấn\\nHướng nghiệp\\nHọc bổng\\nSự kiện\\nHighlights\\nSách hay\\n\\n\\n\\n\\n\\n\\n\\n\\n\\n\\n\\n\\n\\n\\n\\n\\n\\n\\n\\n\\n\\n\\n\\n\\n\\n\\n\\n\\n\\n\\n\\n\\n16 nghìn người/năm là nhu cầu tuyển dụng lao động làm việc ngành kỹ thuật điện tử viễn thông trong giai đoạn từ 2020 – 2025. Điều này chứng minh, nhân lực ngành này đang tuyển dụng nhiều và có xu hướng tăng qua các năm. Vậy ngành kỹ thuật điện tử viễn thông là gì? Học ngành này ở đâu? Thi những môn nào? Cơ hội việc làm và mức thu nhập ra sao sau khi ra trường? Tất cả sẽ được TopCV cung cấp chi tiết trong bài viết sau đây để bạn cùng tìm hiểu, từ đó dễ dàng đưa ra sự lựa chọn.\\n\\n\\nNội dung bài viết\\n\\nNgành kỹ thuật điện tử viễn thông là gì?Cơ hội việc làm ngành điện tử viễn thôngMột số câu hỏi về ngành kỹ thuật điện tử viễn thôngNgành kỹ thuật điện tử viễn thông thi khối nào?\\xa0Điểm chuẩn ngành kỹ thuật điện tử viễn thôngNgành kỹ thuật điện tử viễn thông học gì?Kỹ thuật điện tử viễn thông học trường nào tốt?Các trường đào tạo ngành kỹ thuật điện tử viễn thôngHọc kỹ thuật điện tử viễn thông trường nào tốt?Các trường quốc tế nổi tiếng đào tạo kỹ thuật điện tử viễn thôngNgành kỹ thuật điện tử viễn thông lương bao nhiêu?Học kỹ thuật điện tử viễn thông ra làm gì?\\xa0Nhân viên kỹ thuật điện tử – viễn thôngKỹ sư viễn thôngKỹ sư thiết kế và viết phần mềmKỹ sư vô tuyếnChuyên viên vận hành, giám sát hạ tầng viễn thôngTrưởng bộ phận kỹ thuậtChuyên gia phân tích và tư vấn kỹ thuật điện tử viễn thôngTìm việc làm ngành kỹ thuật điện tử viễn thông ở đâu?\\xa0\\nNgành kỹ thuật điện tử viễn thông là gì?\\nNgành kỹ thuật điện tử viễn thông là ngành học đào tạo nguồn nhân lực có chuyên môn và kỹ năng về việc thiết kế, phát triển và vận hành các hệ thống và công nghệ liên quan đến viễn thông và truyền thông điện tử.\\xa0\\nĐây là ngành tập trung vào các công nghệ và ứng dụng sử dụng trong việc truyền tải, xử lý và quản lý thông tin qua các mạng điện tử và không dây. Trong đó có kể đến các thiết bị truyền thông và thiết bị điện tử như: điện thoại di động, tivi, máy tính, hệ thống nhúng, các mạch điều khiển, router, anten, thiết bị phát sóng,v.vv..\\u200b\\n\\nTìm hiểu về ngành kỹ thuật điện tử viễn thông\\nCơ hội việc làm ngành điện tử viễn thông\\nTheo đánh giá của các chuyên gia phân tích nhu cầu nhân lực, ngành điện tử viễn thông là một trong những nhóm ngành có nhu cầu nhân lực cao trong thời đại 4.0 hiện nay. Sinh viên tốt nghiệp chuyên ngành này được nhận định là có cơ hội làm việc với nhiều vị trí khác nhau tại các doanh nghiệp, bao gồm cả doanh nghiệp trong nước như: FPT, Viettel, VNPT, MobiFone, VinSmart, v.vv.. hay doanh nghiệp nước ngoài như: SamSung, LG, Nokia, Apple, Inter, v.vv..\\nMột thống kê từ Trung tâm Dự báo nhu cầu nhân lực và Thông tin thị trường lao động TPHCM cho thấy, giai đoạn từ 2020 – 2025 nhu cầu tuyển dụng lao động làm việc ngành điện tử viễn thông là khoảng 16 nghìn người/năm. Con số này đang có xu hướng tăng lên qua các năm sau đó.\\xa0\\nTrong khi đó, đại diện Tổng công ty công nghệ cao Viettel cũng từng chia sẻ, hơn 50% nhân lực kỹ sư của doanh nghiệp này là chuyên ngành điện tử viễn thông. Mỗi năm doanh nghiệp tuyển khoảng 100 kỹ sư mới ra trường.\\nNhững con số “biết nói” trên cho thấy, tiềm năng và cơ hội việc làm cho những người được đào tạo ngành kỹ thuật điện tử viễn thông là rất lớn. Tốt nghiệp ngành này sinh viên có thể làm việc tại các vị trí như: chuyên viên tư vấn, thiết kế và vận hành kỹ thuật tại các đài phát thanh, truyền hình, công ty dịch vụ kỹ thuật điện tử viễn thông; Kỹ sư thiết kế vận hành hệ thống thông tin đa phương tiện tại các công ty truyền thông đa phương tiện; Kỹ sư viết phần mềm máy tính, v.vv..\\nChưa kể, trong xu hướng chuyển đổi số như hiện nay, nhu cầu nhân lực cho ngành điện tử viễn thông là rất lớn và vẫn còn thiếu. Các công ty viễn thông, công ty sản xuất thiết bị điện tử, nhà mạng sẽ trở thành “miền đất hứa” cho các tân kỹ sư tốt nghiệp chuyên ngành này.\\xa0\\nTopCV có thể giới thiệu hàng trăm vị trí công việc ngành kỹ thuật điện tử viễn thông đang tuyển dụng để bạn tham khảo và nắm bắt cơ hội việc làm của ngành này sau khi ra trường.\\xa0\\n\\nCơ hội việc làm ngành kỹ thuật điện tử viễn thông là rất lớn\\nMột số câu hỏi về ngành kỹ thuật điện tử viễn thông\\nĐể giúp các bạn hiểu sâu hơn về ngành này, sau đây TopCV sẽ giải đáp một số câu hỏi liên quan đến ngành kỹ thuật điện tử viễn thông.\\nNgành kỹ thuật điện tử viễn thông thi khối nào?\\xa0\\nMã ngành kỹ thuật điện tử viễn thông thường là 7520207. Tuy nhiên, mã ngành này cũng có sự thay đổi tùy theo trường đào tạo, ví dụ tại Đại học Điện lực ngành này có mã là 7510302, Đại học Bách khoa Hà Nội mã ngành là ET-E4y, Đại học Công nghệ – ĐHQG Hà Nội mã ngành là CN9 v.vv.. Bạn nên căn cứ vào trường học mình lựa chọn để tra cứu chính xác mã ngành.\\nHàng năm ngành kỹ thuật điện tử viễn thông được tuyển sinh với số lượng lớn và thường thi vào với 2 khối:\\n\\nKhối A (Toán – Lý – Hóa)\\nKhối A1 (Toán – Lý – Anh)\\n\\nNgoài ra, một số trường còn xét tuyển các tổ hợp gồm:\\xa0\\n\\nC00 (Văn – Sử – Địa)\\nC01 (Ngữ văn – Toán – Lý)\\nD90 (Toán – Tiếng Anh – Khoa học tự nhiên)\\nD01 (Toán – Văn – Anh)\\nD07 (Toán – Hóa – Anh)\\n\\nNếu bạn học tốt và nắm vững kiến thức các môn học này cộng thêm niềm đam mê với các thiết bị điện tử, viễn thông thì ngành kỹ thuật điện tử viễn thông là ngành bạn có thể cân nhắc lựa chọn để đăng ký thi tuyển sau khi tốt nghiệp THPT.\\nĐiểm chuẩn ngành kỹ thuật điện tử viễn thông\\nĐối với ngành kỹ thuật điện tử viễn thông, mỗi năm tuyển sinh điểm chuẩn sẽ có sự thay đổi, khác nhau giữa các trường đại học/học viện/cao đẳng có đào tạo ngành này. Bảng sau đây TopCV tổng hợp điểm chuẩn ngành kỹ thuật điện tử viễn thông mới nhất tại một số trường đại học/học viện, bạn có thể tham khảo:\\nKhu vựcTên trườngĐiểm chuẩnMiền BắcĐại học Điện lực23,5Đại học Bách khoa Hà Nội24,5Học viện Bưu chính Viễn thông25,6Học viện Kỹ thuật mật mã25,1ĐH Công nghiệp Hà Nội23,5Đại học Công nghệ – ĐHQG Hà Nội23Đại học Công Nghệ Thông Tin và Truyền Thông – Đại Học Thái Nguyên16Đại học Giao thông vận tải24,1Đại học Mở Hà Nội22,5Miền TrungĐại học Khoa học – Đại học Huế15Đại học Bách khoa Đà Nẵng23,5Đại học Sư phạm kỹ thuật Vinh16Đại học Sư phạm kỹ thuật – ĐH Đà Nẵng20,8Đại học Quy Nhơn15Miền NamHọc viện Bưu chính Viễn thông (phía Nam)21Đại học Bách khoa – ĐHQG TP HCM60Đại học Khoa học tự nhiên – ĐHQG TP HCM24,25Đại học Sư phạm Kỹ thuật TP HCM22,25 – 23,75Đại học Cần Thơ23,4Đại học Tôn Đức Thắng29,5Đại học Công nghệ TP HCM – HUTECH17Học viện Hàng không Việt Nam17Đại học Văn Hiến21,35(Nguồn: Tổng hợp điểm chuẩn năm 2022 theo công bố của các trường đại học, học viện)\\nGhi chú:\\n\\nĐiểm của trường ĐH Bách khoa – ĐHQG TP HCM được tính theo phương thức kết hợp. Điểm xét tuyển = [Điểm thi ĐGNL quy đổi] x 70% + [Điểm TN THPT quy đổi] x 20% [Điểm học tập THPT] x 10% (công thức chưa tính điểm cộng thêm, ưu tiên)\\nĐiểm của trường Sư phạm kỹ thuật TP HCM sẽ thay đổi tùy thuộc vào hệ đào tạo theo tiếng Anh, đại trà, tiếng Việt\\n\\nNgành kỹ thuật điện tử viễn thông học gì?\\nHiện nay các trường đại học, học viện đào tạo ngành kỹ thuật điện tử – viễn thông theo khung chương trình kéo dài từ 4 – 5 năm. Sau khi ra trường sinh viên sẽ được cấp bằng cử nhân hoặc kỹ sư. Số lượng tín chỉ (môn học/học phần) sẽ có sự khác nhau tùy theo chuyên ngành cụ thể mà bạn theo học sau khi thi đậu ngành kỹ thuật điện tử viễn thông.\\nKhi theo học ngành này, sinh viên sẽ được đào tạo các kiến thức chuyên môn về lĩnh vực điện tử, viễn thông, bao gồm cả lý thuyết và thực hành. Ngoài các môn cơ sở ngành, chương trình đào tạo còn chú trọng vào việc cung cấp kiến thức và kỹ năng để sinh viên có thể thiết kế, xây dựng, khai thác, vận hành, sử dụng, bảo trì các thiết bị điện tử, viễn thông.\\xa0\\n\\nSinh viên học kỹ thuật điện tử viễn thông được học cả lý thuyết và thực hành\\nTùy theo chuyên ngành lựa chọn, người học sẽ được học những kiến thức chuyên sâu hơn. Dưới đây là một số môn bạn sẽ được học khi lựa chọn ngành kỹ thuật điện tử viễn thông:\\n\\nĐiện tử cơ bản: Giúp sinh viên học và hiểu về nguyên lý cơ bản của điện tử, bao gồm linh kiện điện tử, mạch điện, tín hiệu và hệ thống điện tử.\\nViễn thông số: Môn học này tập trung vào các khái niệm và kỹ thuật liên quan đến truyền thông số và xử lý tín hiệu số. Nó bao gồm việc tìm hiểu về mã hóa, giải mã, nén, đồng bộ và xử lý tín hiệu số.\\nMạng viễn thông: Môn học về mạng viễn thông giúp sinh viên hiểu các kiến thức cơ bản về mạng viễn thông, bao gồm các giao thức mạng, cấu trúc mạng, quản lý mạng và an ninh mạng.\\nTruyền thông vô tuyến: Môn học này tập trung vào các công nghệ truyền thông không dây như: GSM, CDMA, LTE, Wi-Fi, Bluetooth và các kỹ thuật anten.\\nThiết kế mạch viễn thông: Môn học giúp sinh viên hiểu về các phương pháp và công cụ để thiết kế mạch viễn thông, bao gồm việc sử dụng phần mềm thiết kế mạch, mô phỏng mạch và kiểm tra mạch.\\nMạng di động: Môn học tập trung vào các khái niệm và kỹ thuật liên quan đến mạng di động, bao gồm các tiêu chuẩn mạng di động, kiến trúc mạng, quản lý tài nguyên và công nghệ di động mới như 5G.\\nKỹ thuật lập trình: Môn học này giúp sinh viên hiểu về các ngôn ngữ lập trình phổ biến trong ngành điện tử viễn thông như: C/C++, MATLAB, Python và VHDL\\n\\nNgoài ra sinh viên còn được học các môn học khác như: Điện tử công suất, thiết kế tổng hợp hệ thống số, Kiến trúc máy tính, Lập trình nâng cao, kỹ thuật siêu cao tần, trí tuệ nhân tạo và ứng dụng, Quy hoạch và quản lý mạng viễn thông, thông tin vệ tinh, thông tin quang sợi,v.vv..\\nThông thường số lượng học phần hoặc nội dung học phần sẽ có sự khác nhau giữa bậc đào tạo cử nhân và kỹ sư.\\nKỹ thuật điện tử viễn thông học trường nào tốt?\\nLà một ngành có yêu cầu đầu vào cao và chất lượng đầu ra tốt, kỹ thuật điện tử viễn thông hiện được nhiều trường đưa vào hệ thống đào tạo.\\xa0\\nCác trường đào tạo ngành kỹ thuật điện tử viễn thông\\nNếu bạn đang phân vân trong việc lựa chọn học ngành kỹ thuật điện tử viễn thông tại trường nào thì hãy cùng TopCV điểm qua danh sách các trường đại học có đào tạo ngành kỹ thuật điện tử – viễn thông sau đây:\\nMiền Bắc\\n\\nĐại học Điện lực\\nĐại học Bách khoa Hà Nội\\nĐại học Công nghiệp Hà Nội\\nĐại học Công nghệ – ĐHQG Hà Nội\\nĐại học Công Nghệ Thông Tin và Truyền Thông – Đại Học Thái Nguyên\\nĐại học Kinh tế kỹ thuật công nghiệp\\nĐại học Giao thông vận tải\\nĐại học Mở Hà Nội\\nĐại học Hàng Hải\\nĐại học Công nghệ Giao thông vận tải\\nHọc viện Kỹ thuật mật mã\\nHọc viện Bưu chính Viễn thông\\n\\nMiền Trung:\\n\\nĐại học Khoa học – Đại học Huế\\nĐại học Bách khoa Đà Nẵng\\nĐại học Sư phạm kỹ thuật Vinh\\nĐại học Sư phạm kỹ thuật – ĐH Đà Nẵng\\nĐại học Quy Nhơn\\n\\nMiền Nam:\\n\\nHọc viện Bưu chính Viễn thông (phía Nam)\\nHọc Viện Hàng không Việt Nam\\nĐại học Bách khoa – ĐHQG TP HCM\\nĐại học Khoa học tự nhiên – ĐHQG TP HCM\\xa0\\nĐại học Sư phạm Kỹ thuật TP HCM\\nĐại học Tôn Đức Thắng\\nĐại học Công nghệ TP HCM – HUTECH\\nĐại học Công nghiệp TP HCM\\nĐại học Công nghệ Sài Gòn\\nĐại học Văn Hiến\\nĐại học Cần Thơ\\n\\nHọc kỹ thuật điện tử viễn thông trường nào tốt?\\nViệc lựa chọn trường nào tốt để theo đuổi đam mê kỹ thuật điện tử- viễn thông của mỗi người có thể xuất phát từ nhiều tiêu chí khác nhau. Sau đây TopCV đưa ra gợi ý một số trường đại học uy tín và nổi tiếng trong đào tạo ngành kỹ thuật điện tử viễn thông để bạn có thể tham khảo và đưa ra sự lựa chọn phù hợp cho mình:\\n\\nHọc viện Bưu chính Viễn thông\\xa0\\nHọc viện Kỹ thuật Mật mã\\nĐại học Bách khoa Hà Nội\\nĐại Học Công nghệ – ĐHQG Hà Nội\\nĐại học Giao thông vận tải\\nĐại học Điện lực\\nĐại học Bách khoa (ĐHQG TP.HCM)\\nĐại học Khoa học tự nhiên (ĐHQG TP.HCM)\\nĐại học Sư phạm Kỹ thuật TP.HCM\\nĐại học Tôn Đức Thắng\\nĐại học Công nghệ TP HCM – HUTECH\\nĐại học Khoa học – ĐH Huế\\nĐại học Bách khoa Đà Nẵng\\n\\n\\nRất nhiều trường đào tạo ngành kỹ thuật điện tử – viễn thông\\nCác trường quốc tế nổi tiếng đào tạo kỹ thuật điện tử viễn thông\\nHiện nay trên thế giới có nhiều trường đào tạo chuyên ngành kỹ thuật điện tử viễn thông. Nếu có điều kiện về kinh tế, bạn có thể học ngành này tại các trường đại học và viện công nghệ nổi tiếng đào tạo kỹ thuật điện tử viễn thông như:\\xa0\\n\\nMassachusetts Institute of Technology (MIT) – Hoa Kỳ\\nStanford University – Hoa Kỳ\\nCalifornia Institute of Technology (Caltech) – Hoa Kỳ\\nUniversity of California, Berkeley – Hoa Kỳ\\nUniversity of California, Los Angeles (UCLA) – Hoa Kỳ\\nETH Zurich – Thụy Sĩ\\nUniversity of Cambridge – Anh\\nImperial College London – Anh\\nTechnical University of Munich – Đức\\nNational University of Singapore (NUS) – Singapore\\n\\nTrên đây chỉ là các gợi ý giúp bạn có thể dễ dàng đưa ra quyết định hơn khi quan tâm đến ngành kỹ thuật điện tử viễn thông. Quan trọng nhất là lựa chọn một trường có chương trình đào tạo và cơ sở vật chất phù hợp với mục tiêu học tập và sự quan tâm cá nhân của bạn. Ngoài ra, nên xem xét các thông tin về danh sách giảng viên, dự án nghiên cứu và cơ hội thực tập, liên kết doanh nghiệp để đánh giá chất lượng giáo dục và khả năng phát triển nghề nghiệp trong ngành kỹ thuật điện tử viễn thông sau khi tốt nghiệp.\\nNgành kỹ thuật điện tử viễn thông lương bao nhiêu?\\nMức lương trong ngành kỹ thuật điện tử viễn thông khá đa dạng và phụ thuộc vào nhiều yếu tố như: vị trí làm việc, kinh nghiệm làm việc, tính chất công việc, quốc gia,v.vv.. Tuy nhiên, nhìn chung ngành kỹ thuật điện tử viễn thông thường có mức lương khá hấp dẫn. Đối với các chuyên gia và kỹ sư điện tử viễn thông có kinh nghiệm và trình độ cao, mức lương có thể rất cao và vượt qua mức trung bình của nhiều ngành khác.\\nDưới đây là mức lương của một số vị trí công việc trong ngành kỹ thuật điện tử viễn thông do TopCV tổng hợp mà bạn có thể tham khảo:\\n\\nNhân viên kỹ thuật điện tử: Từ 8 – 10 triệu đồng/tháng\\nNhân viên kỹ thuật điện – Tự động hóa: Từ 10 – 18 triệu đồng/tháng\\nNhân viên kỹ thuật và Tư vấn giải pháp viễn thông: Từ 17 – 25 triệu đồng/tháng\\nChuyên viên kỹ thuật điện tử: Từ 10 – 20 triệu đồng/tháng\\nChuyên viên vận hàng hệ thống: Từ 19\\xa0 – 35 triệu đồng/tháng\\nKỹ sư điện tử, tự động hóa: Tới 15 triệu đồng/tháng\\nKỹ sư viễn thông: Tới 25 triệu đồng/tháng\\nKỹ sư nghiên cứu ứng dụng hạ tầng công nghệ thông tin: Từ 35 – 50 triệu đồng/tháng\\nKỹ sư an toàn thông tin hệ thống ứng dụng: Từ 19 – 70 triệu đồng/tháng\\nKỹ sư phát triển phần mềm: Từ 15 – 50 triệu đồng/tháng\\n\\nLưu ý, các chuyên gia và kỹ sư điện tử viễn thông có kỹ năng đặc biệt, nắm vững các công nghệ mới và có kinh nghiệm làm việc trong nhiều dự án quan trọng thường có cơ hội nhận được mức lương cao hơn và các phúc lợi hấp dẫn từ các công ty và tổ chức. Bạn có thể cập nhật nhanh việc làm ngành điện tử viễn thông để tham khảo mức thu nhập tại các vị trí công việc trong nhóm ngành này hiện nay.\\xa0\\nHọc kỹ thuật điện tử viễn thông ra làm gì?\\xa0\\nVấn đề việc làm sau khi ra trường luôn là nỗi băn khoăn và trăn trở của các bạn sinh viên. Đối với ngành kỹ thuật điện tử viễn thông, sau khi tốt nghiệp ra trường, với những kiến thức chuyên môn, kỹ năng đã học và được đào tạo, bạn có cơ hội làm việc tại nhiều vị trí khác nhau tại đa dạng các công ty, doanh nghiệp. TopCV sẽ tổng hợp một số vị trí công việc dành cho các sinh viên học ngành kỹ thuật điện tử viễn thông ngay sau đây để bạn tham khảo về thị trường tuyển dụng của nhóm ngành này hiện nay.\\xa0\\nNhân viên kỹ thuật điện tử – viễn thông\\nNhân viên kỹ thuật điện tử – viễn thông là người có chuyên môn và kỹ năng trong lĩnh vực điện tử – viễn thông. Với những sinh viên tốt nghiệp chuyên ngành kỹ thuật điện tử viễn thông, có thể ứng tuyển vào vị trí nhân viên kỹ thuật điện tử – viễn thông tại hầu hết các tổ chức, doanh nghiệp.\\nMô tả công việc:\\nCông việc của nhân viên kỹ thuật điện tử – viễn thông sẽ liên quan đến các nhiệm vụ gồm:\\n\\nThiết kế và phát triển các hệ thống điện tử – viễn thông trong các doanh nghiệp như: mạng di động, hệ thống truyền thông âm thanh, hình ảnh, hệ thống truyền hình, hệ thống định vị, và các thiết bị viễn thông khác.\\nLắp đặt và cấu hình hệ thống, trong đó bao gồm nhiệm vụ lắp đặt các thành phần điện tử và viễn thông như: anten, bộ định tuyến, bộ phát sóng, và thiết bị kỹ thuật số khác. Họ cũng thực hiện cấu hình các thiết bị để đảm bảo hoạt động ổn định và tối ưu.\\nBảo trì và sửa chữa định kỳ để đảm bảo hệ thống hoạt động một cách hiệu quả. Khi xảy ra sự cố, nhân viên kỹ thuật sẽ tiến hành phân tích và xác định nguyên nhân, sau đó tiến hành sửa chữa và khắc phục sự cố.\\nHỗ trợ kỹ thuật cho người dùng cuối và các khách hàng. Trong đó có thể bao gồm giải đáp câu hỏi, hướng dẫn sử dụng hệ thống và giúp đỡ trong việc khắc phục sự cố.\\n\\nCó thể thấy vị trí công việc này gần như bao quát toàn bộ hệ thống điện tử – viễn thông trong đơn vị làm việc. Nếu đáp ứng yêu cầu công việc và hoàn thành tốt nhiệm vụ được giao, người làm vị trí này có thể thăng tiến lên chức vụ chuyên viên, kỹ sư hoặc cấp bậc cao hơn.\\xa0\\nApply nhân viên kỹ thuật điện tử – viễn thông ngay trên TopCV để có cơ hội tìm kiếm việc làm phù hợp.\\xa0\\n\\nNhân viên kỹ thuật điện tử – viễn thôngcó nhiệm vụ lắp đặt, vận hành, sửa chữa\\nKỹ sư viễn thông\\nKỹ sư viễn thông là những chuyên gia có trình độ kỹ thuật và kiến thức chuyên sâu về các hệ thống viễn thông. Vị trí này thường được các công ty viễn thông tuyển dụng. Nếu bạn tốt nghiệp ngành kỹ thuật điện tử – viễn thông hệ đào tạo kỹ sư thì đây là một trong những vị trí công việc có thể apply sau khi ra trường để có cơ hội “đầu quân” cho những công ty viễn thông lớn trong nước như: VNPT, Viettel, MobiFone, Vinaphone,v.vv..\\nMô tả công việc:\\n\\nThiết kế hệ thống viễn thông, bắt đầu từ việc lựa chọn công nghệ, thiết bị và phần mềm phù hợp cho mạng viễn thông. Từ đó đảm bảo tính ổn định, hiệu suất và an toàn của hệ thống.\\nTriển khai và cấu hình hệ thống, bao gồm cả việc lắp đặt và cấu hình các thiết bị viễn thông như: máy chủ, bộ định tuyến, thiết bị phát sóng và thu sóng, hệ thống cáp quang và các thành phần khác.\\xa0\\nVận hành và bảo trì hàng ngày hệ thống viễn thông, bao gồm giám sát, chẩn đoán sự cố, khắc phục lỗi và thực hiện bảo trì định kỳ. Kỹ sư viễn thông phải kiểm tra và đảm bảo tính sẵn sàng và độ tin cậy của hệ thống.\\nXây dựng các phương án tối ưu hóa mạng băng rộng\\nXây dựng các phương án đảm bảo an toàn thông tin, an toàn mạng lưới và chất lượng mạng nội vi.\\n\\nKỹ sư thiết kế và viết phần mềm\\nSinh viên ngành kỹ thuật điện tử viễn thông có thể làm việc trong các công ty công nghệ hoặc công ty sản xuất thiết bị viễn thông với vị trí kỹ sư thiết kế và viết phần mềm cho máy tính, điện thoại thông minh, xe ô tô, robot,v.vv..\\nĐây là vị trí công việc yêu cầu có trình độ kỹ thuật và kiến thức chuyên sâu về phát triển phần mềm điện tử viễn thông. Công việc của người làm ở vị trí này liên quan đến việc thiết kế, phân tích, lập trình và triển khai các ứng dụng và hệ thống phần mềm.\\nMô tả công việc:\\xa0\\n\\nTham gia vào việc thiết kế kiến trúc và cấu trúc phần mềm. Kỹ sư thiết kế và viết phần mềm phải xác định được yêu cầu chức năng và phi chức năng của hệ thống, tạo ra các mô hình thiết kế và đảm bảo rằng phần mềm được thiết kế một cách hợp lý và dễ bảo trì.\\nKỹ sư phần mềm phải tương tác với khách hàng hoặc người dùng cuối để hiểu và phân tích yêu cầu của họ. Từ đó xác định các chức năng, tính năng và ràng buộc của phần mềm để đáp ứng đúng nhu cầu và mong muốn của người dùng.\\nThực hiện việc lập trình và viết mã để triển khai các chức năng và tính năng của phần mềm. Họ sử dụng các ngôn ngữ lập trình như: Java, C++, Python và Ruby để tạo ra mã nguồn, thực hiện các thử nghiệm và gỡ lỗi để đảm bảo tính đúng đắn và hiệu quả của mã.\\nThực hiện kiểm thử phần mềm để phát hiện lỗi và đảm bảo tính ổn định, đúng đắn của phần mềm.\\nThực hiện quá trình triển khai và cài đặt phần mềm vào môi trường thực tế.\\n\\n\\nVị trí kỹ sư thiết kế và viết phần mềm tại các công ty công nghệ, sản xuất điện tử viễn thông\\nKỹ sư vô tuyến\\nKỹ sư vô tuyến còn được gọi là kỹ sư viễn thông vô tuyến hoặc kỹ sư RF – Radio Frequency. Đây là vị trí quan trọng yêu cầu người làm có kiến thức và kỹ năng chuyên sâu về viễn thông vô tuyến, tương tác với sóng radio và các hệ thống truyền thông không dây.\\xa0\\nVị trí công việc này liên quan đến thiết kế, triển khai và duy trì các hệ thống và thiết bị vô tuyến.\\nMô tả công việc:\\n\\nThiết kế và phân tích hệ thống vô tuyến, trong đó có bao gồm thiết kế kiến trúc và cấu trúc hệ thống vô tuyến. Nhiệm vụ này cần kỹ sư vô tuyến phải xác định yêu cầu kỹ thuật, lựa chọn các phương pháp và công nghệ vô tuyến phù hợp và tạo ra các mô hình và giải pháp thiết kế cho hệ thống vô tuyến.\\nThiết kế và tối ưu hóa anten để đảm bảo hiệu suất tối đa của hệ thống truyền thông vô tuyến.\\xa0\\nLập trình và triển khai hệ thống vô tuyến. Thông qua các ngôn ngữ lập trình như C, C++, Python, MATLAB và phần mềm mô phỏng kỹ sư vô tuyến sẽ phát triển, kiểm tra và triển khai các giải pháp vô tuyến.\\nThực hiện nhiệm vụ kiểm tra và gỡ lỗi hệ thống vô tuyến để đảm bảo hoạt động ổn định và hiệu quả. Kỹ sư vô tuyến có thể sử dụng các công cụ đo lường và phân tích tín hiệu để kiểm tra và đánh giá hiệu suất, độ tin cậy và chất lượng của hệ thống vô tuyến.\\nThực hiện các hoạt động bảo trì định kỳ và hỗ trợ kỹ thuật cho hệ thống vô tuyến để đảm bảo các hoạt động diễn ra trơn tru và hiệu quả.\\n\\nChuyên viên vận hành, giám sát hạ tầng viễn thông\\nChuyên viên vận hành và giám sát hạ tầng viễn thông được đánh giá là một vị trí công việc quan trọng trong ngành viễn thông và mạng. Công việc này liên quan đến quản lý và duy trì các hệ thống hạ tầng viễn thông, đảm bảo sự hoạt động liên tục và ổn định của mạng tại các công ty, doanh nghiệp hoặc đài phát thanh, đài truyền hình,v.vv..\\nMô tả công việc:\\xa0\\n\\nGiám sát và theo dõi hoạt động của hệ thống mạng, bao gồm việc kiểm tra kết nối, thông lượng mạng và tình trạng hoạt động của các thiết bị viễn thông, truyền thông.\\xa0\\nXử lý các sự cố và vấn đề kỹ thuật xảy ra trên mạng. Phản hồi nhanh chóng để khắc phục các sự cố và đảm bảo mạng truyền thông luôn hoạt động hiệu quả.\\nThực hiện các hoạt động bảo trì định kỳ và nâng cấp hệ thống viễn thông, truyền thông.\\xa0\\nTheo dõi và quản lý tài nguyên mạng như băng thông, IP address, và các nguồn tài nguyên khác. Điều chỉnh và phân phối tài nguyên mạng sao cho phù hợp với yêu cầu sử dụng và mục tiêu hoạt động của mạng.\\nCung cấp hỗ trợ kỹ thuật cho người dùng và khách hàng liên quan đến vấn đề mạng, cài đặt, cấu hình và sử dụng các dịch vụ truyền thông tại doanh nghiệp hoặc đơn vị làm việc.\\n\\n\\nChuyên viên vận hành và giám sát hạ tầng viễn thông là vị trí quan trọng trong ngành viễn thông và mạng\\nTrưởng bộ phận kỹ thuật\\nVới những người có kinh nghiệm làm việc lâu năm trong nghề và năng lực chuyên môn tốt, hoàn toàn có thể làm việc ở vị trí trưởng bộ phận kỹ thuật tại các công ty, doanh nghiệp.\\xa0\\nVị trí này là người đứng đầu và có trách nhiệm quản lý và điều hành các hoạt động kỹ thuật trong một bộ phận hoặc một đơn vị tổ chức.\\xa0\\nMô tả công việc:\\xa0\\n\\nQuản lý đội ngũ nhân viên kỹ thuật trong bộ phận, bao gồm cả việc tuyển dụng, đào tạo, phân công công việc, đánh giá hiệu suất và đảm bảo sự phát triển của nhân viên.\\nLập kế hoạch và quản lý các dự án kỹ thuật. Trưởng bộ phận kỹ thuật phải xác định yêu cầu dự án, phân bổ tài nguyên, xác định lịch làm việc, theo dõi tiến độ và đảm bảo hoàn thành dự án theo đúng tiêu chuẩn và yêu cầu.\\nĐịnh hướng chiến lược kỹ thuật cho tổ chức thông qua việc theo dõi và đánh giá xu hướng công nghệ mới. Từ đó đưa ra các quyết định về việc áp dụng công nghệ và phương pháp mới, đảm bảo bộ phận kỹ thuật đi đúng hướng, phù hợp với mục tiêu và chiến lược của công ty cũng như phòng ban.\\nĐảm bảo chất lượng và tuân thủ quy trình, tiêu chuẩn kỹ thuật. Trưởng bộ phận kỹ thuật phải kiểm tra và đảm bảo chất lượng của sản phẩm và dịch vụ kỹ thuật, giám sát việc tuân thủ quy trình và quy định, thúc đẩy sự cải tiến liên tục trong quá trình làm việc.\\n\\nVới vị trí này, lộ trình thăng tiến có thể giúp bạn phát triển để trở thành quản lý dự án viễn thông hoặc giám đốc kỹ thuật. Tuy nhiên, để có thể làm việc ở những vị trí cao hơn đòi hỏi bạn phải có kinh nghiệm nhiều năm làm việc trong lĩnh vực điện tử viễn thông, từng làm việc tại nhiều dự án với vị trí tương đường và có kỹ năng lãnh đạo.\\xa0\\n>>> Khám phá ngay các vị trí tuyển dụng trưởng bộ phận kỹ thuật với mức thu nhập hấp dẫn và chế độ đãi ngộ tốt trên TopCV để có cơ hội kết nối với các nhà tuyển dụng chất lượng.\\nChuyên gia phân tích và tư vấn kỹ thuật điện tử viễn thông\\nVới kiến thức chuyên sâu về kỹ thuật điện tử viễn thông, bạn hoàn toàn có thể làm việc tại vị trí chuyên gia phân tích, tư vấn trong lĩnh vực điện tử – viễn thông. Ở vị trí này, người làm việc cần có kỹ năng phân tích, tư vấn, đánh giá và chuyên môn vững để thực hiện các nhiệm vụ phân tích, tư vấn và cung cấp các giải pháp, khuyến nghị để cải thiện hiệu suất và khả năng cạnh tranh của các hệ thống viễn thông.\\nMô tả công việc:\\xa0\\n\\nPhân tích và đánh giá hiệu suất, tính năng của các hệ thống viễn thông. Họ có thể sử dụng các công cụ và phương pháp phân tích để đo lường, đánh giá và cải thiện hiệu suất, độ tin cậy và chất lượng của các hệ thống viễn thông.\\nTư vấn và thiết kế giải pháp kỹ thuật cho các vấn đề trong lĩnh vực điện tử và viễn thông. Bao gồm việc phân tích yêu cầu của khách hàng, đề xuất và thiết kế các giải pháp kỹ thuật phù hợp, qua đó hướng dẫn về việc triển khai và vận hành các giải pháp đó.\\nNghiên cứu và phát triển công nghệ mới trong lĩnh vực điện tử và viễn thông. Để thực hiện nhiệm vụ này, đòi hỏi người làm phải theo dõi và nắm bắt xu hướng công nghệ mới, thử nghiệm và đánh giá các công nghệ tiên tiến và đưa ra các đề xuất, giải pháp cải tiến phù hợp.\\n\\nNgoài ra, nếu đam mê nghiên cứu và phát triển, sau khi tốt nghiệp ngành kỹ thuật điện tử viễn thông bạn hoàn toàn có thể tham gia vào hoạt động nghiên cứu và phát triển công nghệ mới trong ngành kỹ thuật điện tử viễn thông. Để thực hiện điều này, nhiều người lựa chọn trở thành cán bộ giảng dạy, nghiên cứu trong các viện nghiên cứu, trường đại học, cao đẳng về kỹ thuật điện tử viễn thông.\\nTrên đây chỉ là một số gợi ý công việc mà bạn có thể làm sau khi tốt nghiệp và được đào tạo về ngành kỹ thuật điện tử viễn thông. Có thể nói, học ngành này mở ra nhiều cơ hội nghề nghiệp khác nhau cho các bạn sinh viên. Các công ty viễn thông, công ty sản xuất thiết bị điện tử, công ty công nghệ, đài phát thanh, đài truyền hình,v.vv.. và tổ chức nghiên cứu đều có nhu cầu tuyển dụng các chuyên gia trong lĩnh vực này.\\nSau khi xác định được vị trí công việc muốn ứng tuyển, việc tiếp theo bạn cần làm là chuẩn bị một bản CV chỉn chu, đẹp mắt và chuyên nghiệp gửi đến nhà tuyển dụng. Hãy tham khảo cách viết CV tìm việc kỹ thuật điện tử mà TopCV đã chia sẻ để cấu trúc một bản CV ưng ý bạn nhé.\\xa0\\nTìm việc làm ngành kỹ thuật điện tử viễn thông ở đâu?\\xa0\\nNhu cầu việc làm ngành kỹ thuật điện tử viễn thông rất lớn và đa dạng vị trí tuyển dụng. Tuy nhiên việc tìm được một bến đỗ công việc với vị trí phù hợp là điều không dễ dàng, nhất là với các bạn sinh viên mới ra trường. Nếu bạn đang lo lắng tìm kiếm những cơ hội việc làm trong ngành kỹ thuật điện tử viễn thông hoặc mong muốn có thêm nhiều thông tin tuyển dụng trong ngành này thì TopCV là lựa chọn đáng cân nhắc.\\nLà nền tảng tuyển dụng và việc làm tiên phong tại Việt Nam, TopCV giúp bạn tiếp cận với hàng triệu thông tin tuyển dụng ở nhiều vị trí công việc khác nhau. Bằng việc ứng dụng trí tuệ nhân tạo, TopCV dễ dàng kết nối ứng viên với mạng lưới nhà tuyển dụng tại nhiều tỉnh thành khác nhau. Đặc biệt, TopCV giúp bạn có cơ hội được kết nối và tiếp cận các vị trí công việc hấp dẫn từ các doanh nghiệp trong nước cũng như quốc tế có uy tín trong lĩnh vực điện tử viễn thông như: FPT, Viettel, MobiFone, VNPT, SamSung,v.vv.. Từ đó thuận lợi tìm ra “miền đất hứa” cho mình.\\n\\nĐừng quên tạo một mẫu CV ấn tượng trước khi tìm việc ngành kỹ thuật điện tử viễn thông\\nKhông chỉ kết nối nhanh chóng, TopCV còn hỗ trợ bạn tạo CV chuyên nghiệp, viết sơ yếu lý lịch đúng chuẩn và cung cấp thêm nhiều kiến thức về kỹ năng phỏng vấn, kỹ năng tạo ấn tượng với nhà tuyển dụng để tăng tỷ lệ thành công khi tìm việc.\\xa0\\nTrên đây là những thông tin chi tiết về ngành kỹ thuật điện tử viễn thông mà TopCV vừa cập nhật và gửi đến bạn. Hy vọng với những thông tin này, bạn đã hiểu rõ về ngành kỹ thuật điện tử viễn thông như: môn thi, cơ hội nghề nghiệp, mức thu nhập,v.vv.. từ đó đưa ra sự lựa chọn công việc phù hợp sau khi ra trường, đồng thời tự tin lựa chọn ngành học nếu bạn đang lúng túng trong việc chọn ngành, chọn trường học sau khi tốt nghiệp THPT. Chúc các bạn thành công và đừng quên TopCV vẫn đồng hành trong suốt hành trình tìm việc thông qua việc cập nhật nhanh chóng và liên tục các công việc mới nhất bạn nhé!.\\n\\n\\n\\n\\n\\n\\n\\n \\n\\n\\n\\n\\n\\n\\n\\n\\n\\nGIới thiệu\\nBáo chí\\nTuyển dụng\\nViecngay.vn\\nHR Insider\\n \\n\\n© Vận hành bởi Công ty Cổ phần TopCV Việt Nam \\n\\n\\n\\n\\n\\n']"
      ]
     },
     "execution_count": 31,
     "metadata": {},
     "output_type": "execute_result"
    }
   ],
   "source": [
    "refs"
   ]
  },
  {
   "cell_type": "code",
   "execution_count": 32,
   "metadata": {},
   "outputs": [],
   "source": [
    "from unidecode import unidecode\n",
    "import re\n",
    "\n",
    "def normalize_text(text):\n",
    "    \"\"\"\n",
    "    Normalize Vietnamese text by converting it to its ASCII representation and removing accents.\n",
    "    \n",
    "    Args:\n",
    "    text (str): Input Vietnamese text to be normalized.\n",
    "    \n",
    "    Returns:\n",
    "    str: Normalized text with accents removed.\n",
    "    \"\"\"\n",
    "    normalized_text = unidecode(text)\n",
    "    normalized_text = re.sub(r'\\s+', ' ', normalized_text).strip()\n",
    "    return normalized_text\n"
   ]
  },
  {
   "cell_type": "code",
   "execution_count": 33,
   "metadata": {},
   "outputs": [],
   "source": [
    "hypos = [' '.join(normalize_text(hypo) for hypo in hypos)]"
   ]
  },
  {
   "cell_type": "code",
   "execution_count": 34,
   "metadata": {},
   "outputs": [
    {
     "data": {
      "text/plain": [
       "['# Co Hoi Nghe Nghiep Cho Sinh Vien Nganh Dien Tu - Vien Thong Cua Dai Hoc Bach Khoa Ha Noi Sau Khi Tot Nghiep  Nganh Dien tu - Vien thong da va dang tro thanh mot trong nhung nganh hoc quan trong va khong the thieu trong boi canh cuoc cach mang cong nghe 4.0 dang dien ra manh me tren toan cau. Doi voi sinh vien Dai hoc Bach khoa Ha Noi, mot trong nhung truong dai hoc hang dau Viet Nam, co hoi nghe nghiep sau khi tot nghiep nganh nay la vo cung rong mo va da dang.  ## Tong Quan ve Nganh Dien tu - Vien Thong  Nganh Dien tu - Vien thong bao gom viec nghien cuu, thiet ke, phat trien va ung dung cac cong nghe lien quan den dien tu va vien thong. Sinh vien nganh nay duoc dao tao de tro thanh nhung ky su co kha nang lam viec trong moi truong cong nghe cao, dap ung nhu cau ngay cang tang ve viec thiet ke va van hanh cac he thong thong tin va truyen thong hien dai (TopCV, n.d.).  ## Co Hoi Nghe Nghiep Sau Khi Tot Nghiep  ### Cac Vi Tri Cong Viec Tiem Nang  Sinh vien tot nghiep nganh Dien tu - Vien thong co the dam nhan nhieu vi tri cong viec khac nhau, bao gom:  1. **Chuyen vien quy hoach, thiet ke va toi uu hoa he thong mang** tai cac cong ty vien thong lon nhu VNPT, Viettel, Vinaphone, Mobiphone (Bao An Telecom, n.d.). 2. **Chuyen vien thiet ke, tu van va dieu hanh cong tac ky thuat** tai cac dai phat thanh, truyen hinh nhu VTV, HTV, SCTV (Bao An Telecom, n.d.). 3. **Chuyen vien nghien cuu va thiet ke** tai cac cong ty san xuat thiet bi dien tu vien thong, am thanh hinh anh, cong ty thiet ke san xuat vi mach nhu Aver, Maxhub, FPT, Samsung, LG, Intel, Panasonic (Bao An Telecom, n.d.). 4. **Chuyen vien van hanh, thiet ke va bao tri thiet bi dien tu, tu dong hoa** trong cac don vi, doanh nghiep (Bao An Telecom, n.d.). 5. **Ky su viet phan mem may tinh**, phat trien ung dung va dich vu ky thuat so (TopCV, n.d.).  ### Xu Huong Thi Truong Lao Dong  Theo mot bao cao tu Trung tam Du bao nhu cau nhan luc va Thong tin thi truong lao dong TPHCM, giai doan tu 2020 - 2025, nhu cau tuyen dung lao dong trong nganh Dien tu - Vien thong la khoang 16 nghin nguoi/nam va co xu huong tang len qua cac nam sau do (TopCV, n.d.). Dieu nay cho thay tiem nang viec lam cho sinh vien nganh nay la rat lon.  ### Tac Dong cua Cong Nghe 4.0 va 5G  Su phat trien cua cong nghe 4.0 va trien vong cua mang 5G mo ra co hoi nghe nghiep moi va doi hoi ky nang chuyen mon cao tu cac ky su Dien tu - Vien thong. Cac cong ty va to chuc khong chi trong linh vuc vien thong ma con trong cac nganh nhu dien luc, ngan hang, giao thong, quoc phong - an ninh cung deu can su dung ha tang mang vien thong va may tinh (Hotcourses, n.d.).  ### Muc Luong va Trien Vong Phat Trien  Muc luong cho cac vi tri trong nganh Dien tu - Vien thong duoc danh gia la tuong doi cao so voi mat bang chung. Voi kinh nghiem va thoi gian lam viec, co the giu vi tri Truong bo phan ky thuat, Giam doc ky thuat tai cac doanh nghiep, cac cong ty trong linh vuc dien tu, vien thong, truyen thong (Bao An Telecom, n.d.).  ### Nhu Cau Nhan Luc va Dao Tao  Vietnamworks du bao, Viet Nam dang thieu 400.000 nhan luc cong nghe thong tin va dien tu vien thong va moi nam can cung ung moi toi 78.000 lao dong. Tuy nhien, moi nam chi co khoang 50.000 sinh vien tot nghiep, tao ra \"con khat\" nhan luc trong nganh nay (Bao An Telecom, n.d.).  ## Ket Luan  Trong boi canh hien nay, sinh vien nganh Dien tu - Vien thong cua Dai hoc Bach khoa Ha Noi co co hoi nghe nghiep rong mo sau khi tot nghiep. Voi su phat trien khong ngung cua cong nghe va nhu cau cao ve nhan luc chat luong trong linh vuc nay, sinh vien co the tu tin ve mot tuong lai nghe nghiep hua hen va day thach thuc. De tan dung co hoi nay, sinh vien can trang bi kien thuc chuyen mon sau, ky nang mem va ky nang ngoai ngu de san sang tham gia vao thi truong lao dong day canh tranh va da dang.']"
      ]
     },
     "execution_count": 34,
     "metadata": {},
     "output_type": "execute_result"
    }
   ],
   "source": [
    "hypos"
   ]
  },
  {
   "cell_type": "code",
   "execution_count": 35,
   "metadata": {},
   "outputs": [],
   "source": [
    "refs = [normalize_text(ref) for ref in refs]"
   ]
  },
  {
   "cell_type": "code",
   "execution_count": 36,
   "metadata": {},
   "outputs": [],
   "source": [
    "import textwrap\n",
    "\n",
    "def wraptext(documents, width=120):\n",
    "    for idx, doc in enumerate(documents, start=1):\n",
    "        print(f\"Document {idx}:\")\n",
    "        wrapped_lines = textwrap.wrap(doc, width=width)\n",
    "        for line in wrapped_lines:\n",
    "            print(line)\n",
    "        print(\"-\" * width)"
   ]
  },
  {
   "cell_type": "code",
   "execution_count": 37,
   "metadata": {},
   "outputs": [
    {
     "name": "stdout",
     "output_type": "stream",
     "text": [
      "Document 1:\n",
      "Tim hieu kien thuc hoc va co hoi viec lam nganh Dien tu vien thong Tin tuc Trang chu Tim hieu kien thuc hoc va co hoi\n",
      "viec lam nganh Dien tu vien thong Tim hieu kien thuc hoc va co hoi viec lam nganh Dien tu vien thong Vo Kim Ngan\n",
      "11/10/2021 Tumblr MUC LUC 1. Nganh dien tu vien thong la gi? Va ung dung trong doi song 2. Nganh dien tu vien thong hoc\n",
      "nhung kien thuc gi? 3. Dinh huong cong viec nganh Dien tu vien thong? Co hoi viec lam co rong mo? 4. Can trang bi gi de\n",
      "hoc va lam viec tot nganh dien tu vien thong 5. Cac truong dao tao nganh dien tu vien thong Nganh dien tu vien thong la\n",
      "gi? Va ung dung trong doi song Dien tu vien thong la nganh su dung nhung cong nghe tien tien de tao ra cac thiet bi giup\n",
      "cho viec lien lac, truy xuat thong tin cua ca nhan hoac to chuc, dien tu vien thong duoc ung dung cao o nhieu linh vuc\n",
      "trong cuoc song. * Linh vuc mang, vien thong: cac thiet bi truyen tin tren toan cau nhu he thong truyen dan: cap quang,\n",
      "ve tin, he thong truyen tin khong day (vi ba) v.v... Thanh tuu moi day nhat la xay dung he thong 5g va cac thiet bi he\n",
      "thong hoi nghi truyen hinh * Linh vuc dinh vi dan duong: la mot linh vuc dac biet quan trong nganh Hang khong va Hang\n",
      "hai. Nhung tram kiem soat khong luu mat dat la noi nhung ki su Dien tu Vien thong lam nhiem vu dan duong cho hang nghin\n",
      "chuyen bay, tau thuy hoat dong an toan * Linh vuc nghien cuu, sang tao cong nghe, thiet bi moi: la linh vuc doi hoi\n",
      "nguoi hoc phai co su sang tao dua tren nhung ung dung cua xa hoi noi chung va nganh Dien tu Vien thong noi rieng, phat\n",
      "trien cac cong nghe moi, ung dung moi huu ich va don gian hon cho moi nguoi la linh vuc thuc day su phat trien cua toan\n",
      "bo nganh Dien tu Vien thong * Linh vuc dien tu y sinh: nganh ddien tu vien thong la nen tang de tao ra cac may moc,\n",
      "thiet bi dien tu hien dai trong linh vuc y te va sinh hoc. * Linh vuc am thanh, hinh anh: nganh ky thuat Dien tu Vien\n",
      "thong dong gop 1 phan quan trong cua nhu viec thiet ke ra cac trang thiet bi nghe nhin, dieu chinh am do cac thiet bi\n",
      "thu am v.v... Co the noi tat ca cac thiet bi trong cuoc song hien dai ngay nay nhu : may thu hinh, dien thoai, may tinh\n",
      "ca nhan, may tinh bang,... deu co dau an cua nganh Dien tu Vien thong , la nen tang co ban nhat cua cach mang cong\n",
      "nghiep 4.0, cua xu huong chuyen doi so trong moi linh vuc cua doi song, kinh te, xa hoi. Nganh dien tu vien thong hoc\n",
      "nhung kien thuc gi? Hieu tu ten goi, co rat nhieu nguoi cho rang Dien tu Vien thong la mot phan cua Cong nghe thong tin,\n",
      "cach hieu nay khong hoan toan sai nhung chua chinh xac. Giai thich co ban thi Nganh Dien tu-vien thong va nganh Cong\n",
      "nghe thong tin la hai nganh rat gan voi nhau, co nhieu kien thuc chung ve cong nghe tuy nhien di vao chuyen sau se thay\n",
      "ro su khac biet rang: CNTT tap trung vao xay dung phan mem con chuyen nganh DTVT tap trung ve phan cung. Theo hoc nganh\n",
      "Dien tu - Vien thong, sinh vien duoc trang bi khoi kien thuc theo 3 tang cap do: Cap do 1: Cac kien thuc nen tang va\n",
      "chuyen sau ve cac cong nghe, ky thuat: Giai tich mach dien; truong dien tu; ky thuat lap trinh; dien tu so; nguyen ly\n",
      "truyen thong; vi xu ly; dien tu thong tin; ky thuat truyen so lieu va mang; xu ly tin hieu; thiet ke so dung ngon ngu mo\n",
      "ta phan cung; he thong vien thong; ky thuat sieu cao tan va anten,... Cap do 2: nganh Cong nghe Ky thuat Dien tu - Vien\n",
      "thong cung cap cho sinh vien cac ky nang van hanh bao tri, sua chua, cai tien, nang cap cac he thong, thiet bi dien tu\n",
      "vien thong Cap do 3: Nang cao hon la kha nang tim hieu, nghien cuu, phat trien ung dung cong nghe ky thuat dien tu vien\n",
      "thong trong cong nghiep va trong doi song dan dung. Thuc hanh, van dung ly thuyet la phan hoc quan trong nhat trong\n",
      "nganh DTVT, cu the la nhung cuoc thi day sang tao nhu: robocon Dinh huong cong viec nganh Dien tu vien thong? Co hoi\n",
      "viec lam co rong mo? Hoc nganh dien tu vien thong ra lam gi? co the dam nhan nhung vi tri nao? Lam viec o cong ty nao la\n",
      "cau hoi cua tat ca sinh vien nganh vien thong can biet va nen tim hieu: * Chuyen vien quy hoach, thiet ke va toi uu hoa\n",
      "he thong mang tai cac cong ty vien thong < VNPT, Viettel, Vinaphone, Mobiphone ...;> * Chuyen vien thiet ke, tu van va\n",
      "dieu hanh cong tac ky thuat tai cac dai phat thanh, truyen hinh < VTV, HTV,SCTV, cac dai truyen hinh dia phuong...> *\n",
      "Chuyen vien nghien cuu va thiet ke tai cac cong ty san xuat thiet bi dien tu vien thong, am thanh hinh anh, cong ty\n",
      "thiet ke san xuat vi mach. < Aver, Maxhub, FPT, Samsung, LG, Intel, Panasonic..> * Chuyen vien van hanh, thiet ke va bao\n",
      "tri thiet bi dien tu, tu dong hoa trong cac don vi, doanh nghiep. * Khi co kinh nghiem va thoi gian lam viec co the giu\n",
      "vi tri Truong bo phan ky thuat, Giam doc ky thuat tai cac doanh nghiep, cac cong ty trong linh vuc dien tu, vien thong,\n",
      "truyen thong. * Co the tro thanh can bo giang day, nghien cuu tai cac truong dai hoc, cao dang va Vien nghien cuu. The\n",
      "gioi noi chung va Viet Nam noi rieng dang song trong ky nguyen so. Cac doanh nghiep ve cong nghe ngay cang nhieu va phat\n",
      "trien rat nhanh, di cung do la nhu cau ve nguon nhan luc cung tang cao. Du bao cua Vietnamworks cho thay, nuoc ta dang\n",
      "thieu 400.000 nhan luc cong nghe thong tin va dien tu vien thong va moi nam can cung ung moi toi 78.000 lao dong. Tuy\n",
      "nhien trong thuc te, moi nam nuoc ta chi co khoang 50.000 sinh vien tot nghiep, dan den \"con khat\" nhan luc doi voi\n",
      "nganh hoc nay duong nhu chua bao gio ha. Can trang bi gi de hoc va lam viec tot nganh dien tu vien thong Khong chi nganh\n",
      "DTVT ma khi lua chon nganh hoc va viec lam, can tim thay duoc su dam me va thich thu. Dieu nay giup nguoi hoc va nguoi\n",
      "lam viec tim thay duoc niem vui trong cong viec, cong viec khong nham chan. Con rieng trong nganh DT VT nen co them\n",
      "nhung to chat ve: su kien tri, nhan nai, ky nang ngoai ngu va kha nang lam viec nhom. Cac truong dao tao nganh dien tu\n",
      "vien thong Voi he chinh quy Dai hoc, dao tao nganh Dien tu vien thong co the ke den cac truong voi be day va co ty le\n",
      "sinh vien dau ra tot nhat: Khoa dien tu vien thong dai hoc bach khoa da nang Truong DH Bach khoa Ha Noi Truong DH Bach\n",
      "khoa HCM (DH Quoc gia HCM) Truong DH khoa hoc (DH Hue) Truong Hoc vien Cong nghe Buu chinh Vien thong Truong DH Cong\n",
      "nghe (DH Quoc gia Ha Noi) Dai hoc Cong nghe TP.HCM Dai hoc Su pham Ky thuat TP.HCM Dai hoc Dien luc - Ha Noi DANG KY TU\n",
      "VAN NGAY HOM NAY Chi can Quy khach hang de lai ten va so dien thoai, doi ngu nhan vien cua chung toi se lien he tu van\n",
      "cho quy khach hang giai phap tot nhat trong thoi gian nhanh nhat. Goi di Dang gui du lieu. Vui long doi trong giay\n",
      "lat!!! Tin khac BANG GIA MAN HINH TUONG TAC 65INCH RE NHAT 2022 Review loa hoi nghi bluetooth Maxhub BM21 Lien ket quang\n",
      "hoc (Optical Bonding) la gi? So sanh cong nghe LED Edge-lit (chieu sang canh) va Back-lit (chieu sang nen) So sanh su\n",
      "khac biet giua man hinh cam ung IR va PCAP So sanh man hinh tuong tac: MAXHUB V5 Transcend vs LG CreateBoard(tm) Vi sao\n",
      "nen su dung tinh nang Automatic Framing cua Polycom Studio? Cac loai cong nghe man hinh cam ung Custom loading...\n",
      "------------------------------------------------------------------------------------------------------------------------\n",
      "Document 2:\n",
      "Nganh Dien tu - Vien Thong: Hoc gi, hoc o dau va co hoi nghe nghiep Tat cac cac tin du hoc / Cac bai viet du hoc Bon\n",
      "phuong / Tieu diem nganh hoc Bon phuong Thong tin du hoc Thong tin du hoc Chon diem den du hoc Chon nganh hoc Ho so du\n",
      "hoc Len ke hoach tai chinh Xin visa Lua chon cho o Chuan bi len duong Den chan troi moi Huong nghiep Tin moi nhat Du hoc\n",
      "nuoc ngoai: TIEU DIEM NGANH HOC Nganh Dien tu - Vien Thong: Hoc gi, hoc o dau va co hoi nghe nghiep Quynh Huong Vo 8\n",
      "Thang Muoi Hai 2021 60.1K Luu lai xem sau Da luu! Xem danh sach doc Da luu! Xem danh sach doc Dien tu - Vien Thong la\n",
      "mot trong nhung nganh co tiem nang phat trien, nhieu co hoi viec lam va dong vai tro quan trong trong su phat trien cua\n",
      "mot quoc gia. Tuy nhien, nganh Ky thuat Dien tu - Vien thong kha rong lon, chia thanh rat nhieu linh vuc phong phu nen\n",
      "de khien ban hoang mang khi moi tim hieu nganh nay. Hotcourses Vietnam moi ban kham pha nganh Dien tu - Vien Thong mot\n",
      "cach khai quat va day du qua bai viet sau day! Nganh Dien tu - Vien Thong la gi? Dien tu va Vien Thong von co su lien\n",
      "quan mat thiet voi nhau nen moi di theo cap nhu vay. Cu the, linh vuc Dien tu nghien cuu va che tao ra cac vi mach dien\n",
      "tu, duoc xem nhu la \"bo nao\" dieu khien toan bo hoat dong cua cac thiet bi thong minh. Trong khi do, linh vuc Vien thong\n",
      "nghien cuu va su dung cac thiet bi de tao nen cac mang luoi truyen dan thong tin cho muc dich giao tiep xuyen bien gioi.\n",
      "Tu do, nganh Dien tu - Vien Thong co the hieu don gian la ung dung cong nghe tien tien de tao ra cac thiet bi truyen\n",
      "thong tin. Mot so san pham cua nganh Dien tu - Vien thong quen thuoc voi moi nguoi co the ke den nhu tivi, dien thoai,\n",
      "may tinh, mach dieu khien,... Nganh Dien tu - Vien Thong co vai tro quan trong trong viec xay dung he thong thong tin\n",
      "lien lac toan cau de moi nguoi trao doi, truy xuat thong tin, giam sat va dieu khien thiet bi thong minh mot cach nhanh\n",
      "chong va thuan tien. Hoc gi trong nganh Dien tu - Vien Thong? Theo hoc nganh Ky thuat dien tu - vien thong, sinh vien se\n",
      "duoc dao tao kien thuc chuyen mon ve linh vuc dien tu, nguyen ly truyen thong tin va tiep can voi cong nghe ky thuat\n",
      "dien tu tien tien nhu: Mang khong day Mang truyen so lieu Ky thuat sieu cao tan va anten He thong phat thanh truyen hinh\n",
      "Cong nghe phan tich va xu ly tin hieu, am thanh, hinh anh Thoi gian dao tao Cu nhan nganh Ky thuat Dien tu - Vien thong\n",
      "cua cac truong Dai hoc trong khoang 4-5 nam. Boi nganh nay mang tinh ung dung cao, luon bam sat thuc tien theo nhu cau\n",
      "cua cac doanh nghiep va xu the cong nghe moi nen sinh vien duoc thuc hanh va trai nghiem nhieu. Sinh vien se co khoang\n",
      "30% thoi luong hoc tap de duoc thuc chien cac ky nang voi cac trang thiet bi cua truong nhu: Van hanh, bao tri, sua\n",
      "chua, nang cap cac he thong, thiet bi dien tu - vien thong Tim hieu, nghien cuu va phat trien ung dung cong nghe ky\n",
      "thuat dien tu - vien thong trong cong nghiep va doi song Khi di sau vao tung chuyen nganh, sinh vien se gap go khoi\n",
      "luong kien thuc dac thu rong lon, tuy thu vi nhung cung nhieu thu thach. Ba chuyen nganh noi troi hien dang pho bien boi\n",
      "tinh ung dung ma sinh vien can can nhac khi theo duoi la: Ky thuat dien tu - Vien thong Ky thuat dieu khien va tu dong\n",
      "hoa He thong nhung va IoT (tao ra cac thiet bi thong minh, ket noi Internet) Nganh Dien tu - Vien Thong hoc o dau? Nganh\n",
      "Dien tu - Vien Thong thuong duoc xem la mot trong nhung nganh yeu cau dau vao cao diem nhat o Viet Nam trong nhieu nam\n",
      "qua. Dieu do cho thay do thu hut cua nganh doi voi nhieu sinh vien co dam me voi ky thuat. Nhung truong dai hoc dao tao\n",
      "nganh ky thuat Dien tu - Vien Thong co uy tin o nuoc ta phai ke den nhu: Dai hoc Bach khoa (DH Quoc gia TP.HCM), Dai hoc\n",
      "Khoa hoc tu nhien (DH Quoc gia TP.HCM), Dai hoc Su pham Ky thuat TP.HCM, Dai hoc Khoa hoc (DH Hue), Dai hoc Bach khoa\n",
      "(Da Nang), Dai hoc Cong nghe (DH Quoc gia Ha Noi), Hoc vien Cong nghe buu chinh vien thong, Dai hoc Bach khoa Ha Noi,\n",
      "Dai hoc Dien luc Ha Noi. Neu co dieu kien, ban nen theo duoi nganh Dien tu - Vien Thong tai cac nuoc co the manh ve\n",
      "nganh nay de hoc hoi nhung dieu hay. Viec trai nghiem trong moi truong theo chuan quoc te tu khi con tren ghe nha truong\n",
      "se tao nen tang tot va dieu kien thuan loi cho cac ky su tuong lai thich ung voi yeu cau cong viec. Neu ban muon trau\n",
      "doi kien thuc theo cach tot nhat, Hotcourses Vietnam se goi y nhung diem den du hoc hang dau sau: Cac khoa dao tao nganh\n",
      "Dien tu - Vien thong o My Cac khoa dao tao nganh Dien tu - Vien thong o Uc Cac khoa dao tao nganh Dien tu - Vien thong o\n",
      "Canada Cac khoa dao tao nganh Dien tu - Vien thong o Anh Ban luu y la bam vao link \"Xem [so] khoa hoc Dien tu - Vien\n",
      "thong\" de tim hieu thong tin cu the ve chuong trinh hoc o tung truong. Neu ban co thac mac ve du hoc nganh Dien tu -\n",
      "Vien thong, cac chuyen gia du hoc IDP giau kinh nghiem luon san sang ho tro va tu van hoan toan mien phi. Tuong lai cua\n",
      "nganh Dien tu - Vien Thong va co hoi nghe nghiep danh cho ban Toc do phat trien nhanh chong cua linh vuc Dien tu - Vien\n",
      "Thong van dang san sinh ra nhieu nghe nghiep moi ma co the chinh ban la mot trong nhung nguoi tien phong dam nhan. Khong\n",
      "chi cac cong ty trong linh vuc vien thong nhu Viettel, VNPT, FPT ma cac doanh nghiep trong nhieu linh vuc khac nhu dien\n",
      "luc, ngan hang, giao thong, quoc phong - an ninh... van can su dung ha tang mang vien thong va may tinh. Dieu do co\n",
      "nghia ban se co nhieu su lua chon de phat trien su nghiep tuong lai cua minh. Sau khi hoan thanh chuong trinh dao tao,\n",
      "ban co the dam nhan nhung vi tri cong viec sau: Chuyen vien tu van, thiet ke va van hanh ky thuat tai cac dai phat\n",
      "thanh, dai truyen hinh, cong ty tu van thiet ke mang vien thong, san xuat thiet bi Dien tu - Vien Thong, nhung cong ty\n",
      "san xuat vi mach Ky su vo tuyen voi kien thuc chuyen sau ve van hanh mang, cac mang di dong 2G/ 3G/ 4G/ 5G va cau truc\n",
      "mang cung nhu cac thuat toan, tham so cua tinh nang mang vo tuyen Ky su vien thong dam nhiem nghien cuu va phat trien\n",
      "mang vo tuyen, dinh vi dan duong, thiet bi tin hieu da phuong tien ve am thanh, hinh anh Ky su truyen dan dam nhan viec\n",
      "van hanh, khai thac, giam sat lap dat mang truyen dan Ky su thiet ke va viet phan mem cho cac thiet bi thong minh nhu\n",
      "dien thoai di dong, ro bot, xe o to Giam doc ky thuat, Truong bo phan ky thuat tai cac cong ty, doanh nghiep trong linh\n",
      "vuc dien tu, vien thong, buu chinh vien thong, buu dien LIEN HE TU VAN Khong the bo lo Nganh khoa hoc du lieu: Nhung\n",
      "dieu ban can biet Nganh Khoa hoc du lieu (Data Science) la nganh hoc li tuong cho nhung ban hoc sinh, sinh vien dam me\n",
      "cong nghe, du lieu va kham pha nhung dieu moi la. Trong bai viet nay, cung Hotcourses Vietnam tim hieu ve nganh hoc va\n",
      "cac co hoi nghe nghiep cua nganh Khoa hoc du lieu nhe! Nganh khoa hoc du lieu la gi? Khoa hoc du lieu (Data science) la\n",
      "nganh khoa hoc ve viec khai pha, quan tri va phan tich du lieu de du doan cac xu huong trong 71.2K Nganh Quan tri Nhan\n",
      "luc: Hoc gi, o dau, va co hoi nghe nghiep Nganh Quan tri nhan luc, hay nganh quan ly nhan su la mot chuyen nganh het suc\n",
      "huu ich boi no giup ban nhin nhan va danh gia con nguoi cung nhu cac cong ty, to chuc theo mot cach khac biet. Nganh nay\n",
      "la su ket hop cua rat nhieu cac ky nang khac nhau, cung cap cho ban mot cai nhin sau sac ve kinh doanh cung nhu su hieu\n",
      "biet ve cach quan ly nhan su ma khong phai ai trong cong ty cung co kha nang nhin nhan. Trong bai viet nay, hay cung\n",
      "Hotcourses Vietnam tim hieu them 70.2K Nganh Xa hoi hoc: Hoc gi, hoc o dau, va co hoi nghe nghiep Linh vuc nghien cuu ve\n",
      "hanh vi va cac moi quan he xa hoi cua con nguoi dang ngay cang duoc chu trong. Vi ly do nay, nganh xa hoi hoc dang thu\n",
      "hut su quan tam cua nhieu ban hoc sinh, sinh vien trong nhung nam gan day boi tinh thiet thuc va co hoi phat trien rong\n",
      "mo. Vay xa hoi hoc la nganh gi? Hoc xa hoi hoc lam nghe gi? Cung Hotcourses Vietnam tim hieu chi tiet ve nganh xa hoi\n",
      "hoc trong bai viet duoi day. Nganh xa hoi hoc la gi? Xa 58.4K Nganh kinh te doi ngoai: Hoc gi, hoc o dau, va co hoi nghe\n",
      "nghiep Hien nay, khi cac quoc gia tien hanh qua trinh hoi nhap quoc te sau rong, nhu cau ve su giao thuong toan cau dien\n",
      "ra rat manh me. Trong boi canh do, nganh kinh te doi ngoai tro thanh mot nganh hoc pho bien, thu hut nguon nhan luc\n",
      "khong lo. Vay kinh te doi ngoai la gi? Hoc kinh te doi ngoai ra lam gi? Cung Hotcourses Vietnam kham pha chi tiet ve\n",
      "nganh kinh te doi ngoai trong bai viet duoi day. Nganh kinh te doi ngoai la gi? Kinh te doi 57.7K Ban muon du hoc? LIEN\n",
      "HE TU VAN Tu van du hoc LIEN HE TU VAN Chat voi E-bot Tu van du hoc\n",
      "------------------------------------------------------------------------------------------------------------------------\n",
      "Document 3:\n",
      "Co nen hoc nganh ky thuat dien tu vien thong hay khong? Cach viet CV Ky nang phong van Huong nghiep Hoc bong Su kien\n",
      "Highlights Sach hay TIM KIEM Dang nhap Dang nhap tai khoan Tai khoan mat khau cua ban Forgot your password? Get help\n",
      "Khoi phuc mat khau Khoi tao mat khau email cua ban Mat khau da duoc gui vao email cua ban. TopCV Blog Cach viet CV Ky\n",
      "nang phong van Huong nghiep Hoc bong Su kien Highlights Sach hay 16 nghin nguoi/nam la nhu cau tuyen dung lao dong lam\n",
      "viec nganh ky thuat dien tu vien thong trong giai doan tu 2020 - 2025. Dieu nay chung minh, nhan luc nganh nay dang\n",
      "tuyen dung nhieu va co xu huong tang qua cac nam. Vay nganh ky thuat dien tu vien thong la gi? Hoc nganh nay o dau? Thi\n",
      "nhung mon nao? Co hoi viec lam va muc thu nhap ra sao sau khi ra truong? Tat ca se duoc TopCV cung cap chi tiet trong\n",
      "bai viet sau day de ban cung tim hieu, tu do de dang dua ra su lua chon. Noi dung bai viet Nganh ky thuat dien tu vien\n",
      "thong la gi?Co hoi viec lam nganh dien tu vien thongMot so cau hoi ve nganh ky thuat dien tu vien thongNganh ky thuat\n",
      "dien tu vien thong thi khoi nao? Diem chuan nganh ky thuat dien tu vien thongNganh ky thuat dien tu vien thong hoc gi?Ky\n",
      "thuat dien tu vien thong hoc truong nao tot?Cac truong dao tao nganh ky thuat dien tu vien thongHoc ky thuat dien tu\n",
      "vien thong truong nao tot?Cac truong quoc te noi tieng dao tao ky thuat dien tu vien thongNganh ky thuat dien tu vien\n",
      "thong luong bao nhieu?Hoc ky thuat dien tu vien thong ra lam gi? Nhan vien ky thuat dien tu - vien thongKy su vien\n",
      "thongKy su thiet ke va viet phan memKy su vo tuyenChuyen vien van hanh, giam sat ha tang vien thongTruong bo phan ky\n",
      "thuatChuyen gia phan tich va tu van ky thuat dien tu vien thongTim viec lam nganh ky thuat dien tu vien thong o dau?\n",
      "Nganh ky thuat dien tu vien thong la gi? Nganh ky thuat dien tu vien thong la nganh hoc dao tao nguon nhan luc co chuyen\n",
      "mon va ky nang ve viec thiet ke, phat trien va van hanh cac he thong va cong nghe lien quan den vien thong va truyen\n",
      "thong dien tu. Day la nganh tap trung vao cac cong nghe va ung dung su dung trong viec truyen tai, xu ly va quan ly\n",
      "thong tin qua cac mang dien tu va khong day. Trong do co ke den cac thiet bi truyen thong va thiet bi dien tu nhu: dien\n",
      "thoai di dong, tivi, may tinh, he thong nhung, cac mach dieu khien, router, anten, thiet bi phat song,v.vv.. Tim hieu ve\n",
      "nganh ky thuat dien tu vien thong Co hoi viec lam nganh dien tu vien thong Theo danh gia cua cac chuyen gia phan tich\n",
      "nhu cau nhan luc, nganh dien tu vien thong la mot trong nhung nhom nganh co nhu cau nhan luc cao trong thoi dai 4.0 hien\n",
      "nay. Sinh vien tot nghiep chuyen nganh nay duoc nhan dinh la co co hoi lam viec voi nhieu vi tri khac nhau tai cac doanh\n",
      "nghiep, bao gom ca doanh nghiep trong nuoc nhu: FPT, Viettel, VNPT, MobiFone, VinSmart, v.vv.. hay doanh nghiep nuoc\n",
      "ngoai nhu: SamSung, LG, Nokia, Apple, Inter, v.vv.. Mot thong ke tu Trung tam Du bao nhu cau nhan luc va Thong tin thi\n",
      "truong lao dong TPHCM cho thay, giai doan tu 2020 - 2025 nhu cau tuyen dung lao dong lam viec nganh dien tu vien thong\n",
      "la khoang 16 nghin nguoi/nam. Con so nay dang co xu huong tang len qua cac nam sau do. Trong khi do, dai dien Tong cong\n",
      "ty cong nghe cao Viettel cung tung chia se, hon 50% nhan luc ky su cua doanh nghiep nay la chuyen nganh dien tu vien\n",
      "thong. Moi nam doanh nghiep tuyen khoang 100 ky su moi ra truong. Nhung con so \"biet noi\" tren cho thay, tiem nang va co\n",
      "hoi viec lam cho nhung nguoi duoc dao tao nganh ky thuat dien tu vien thong la rat lon. Tot nghiep nganh nay sinh vien\n",
      "co the lam viec tai cac vi tri nhu: chuyen vien tu van, thiet ke va van hanh ky thuat tai cac dai phat thanh, truyen\n",
      "hinh, cong ty dich vu ky thuat dien tu vien thong; Ky su thiet ke van hanh he thong thong tin da phuong tien tai cac\n",
      "cong ty truyen thong da phuong tien; Ky su viet phan mem may tinh, v.vv.. Chua ke, trong xu huong chuyen doi so nhu hien\n",
      "nay, nhu cau nhan luc cho nganh dien tu vien thong la rat lon va van con thieu. Cac cong ty vien thong, cong ty san xuat\n",
      "thiet bi dien tu, nha mang se tro thanh \"mien dat hua\" cho cac tan ky su tot nghiep chuyen nganh nay. TopCV co the gioi\n",
      "thieu hang tram vi tri cong viec nganh ky thuat dien tu vien thong dang tuyen dung de ban tham khao va nam bat co hoi\n",
      "viec lam cua nganh nay sau khi ra truong. Co hoi viec lam nganh ky thuat dien tu vien thong la rat lon Mot so cau hoi ve\n",
      "nganh ky thuat dien tu vien thong De giup cac ban hieu sau hon ve nganh nay, sau day TopCV se giai dap mot so cau hoi\n",
      "lien quan den nganh ky thuat dien tu vien thong. Nganh ky thuat dien tu vien thong thi khoi nao? Ma nganh ky thuat dien\n",
      "tu vien thong thuong la 7520207. Tuy nhien, ma nganh nay cung co su thay doi tuy theo truong dao tao, vi du tai Dai hoc\n",
      "Dien luc nganh nay co ma la 7510302, Dai hoc Bach khoa Ha Noi ma nganh la ET-E4y, Dai hoc Cong nghe - DHQG Ha Noi ma\n",
      "nganh la CN9 v.vv.. Ban nen can cu vao truong hoc minh lua chon de tra cuu chinh xac ma nganh. Hang nam nganh ky thuat\n",
      "dien tu vien thong duoc tuyen sinh voi so luong lon va thuong thi vao voi 2 khoi: Khoi A (Toan - Ly - Hoa) Khoi A1 (Toan\n",
      "- Ly - Anh) Ngoai ra, mot so truong con xet tuyen cac to hop gom: C00 (Van - Su - Dia) C01 (Ngu van - Toan - Ly) D90\n",
      "(Toan - Tieng Anh - Khoa hoc tu nhien) D01 (Toan - Van - Anh) D07 (Toan - Hoa - Anh) Neu ban hoc tot va nam vung kien\n",
      "thuc cac mon hoc nay cong them niem dam me voi cac thiet bi dien tu, vien thong thi nganh ky thuat dien tu vien thong la\n",
      "nganh ban co the can nhac lua chon de dang ky thi tuyen sau khi tot nghiep THPT. Diem chuan nganh ky thuat dien tu vien\n",
      "thong Doi voi nganh ky thuat dien tu vien thong, moi nam tuyen sinh diem chuan se co su thay doi, khac nhau giua cac\n",
      "truong dai hoc/hoc vien/cao dang co dao tao nganh nay. Bang sau day TopCV tong hop diem chuan nganh ky thuat dien tu\n",
      "vien thong moi nhat tai mot so truong dai hoc/hoc vien, ban co the tham khao: Khu vucTen truongDiem chuanMien BacDai hoc\n",
      "Dien luc23,5Dai hoc Bach khoa Ha Noi24,5Hoc vien Buu chinh Vien thong25,6Hoc vien Ky thuat mat ma25,1DH Cong nghiep Ha\n",
      "Noi23,5Dai hoc Cong nghe - DHQG Ha Noi23Dai hoc Cong Nghe Thong Tin va Truyen Thong - Dai Hoc Thai Nguyen16Dai hoc Giao\n",
      "thong van tai24,1Dai hoc Mo Ha Noi22,5Mien TrungDai hoc Khoa hoc - Dai hoc Hue15Dai hoc Bach khoa Da Nang23,5Dai hoc Su\n",
      "pham ky thuat Vinh16Dai hoc Su pham ky thuat - DH Da Nang20,8Dai hoc Quy Nhon15Mien NamHoc vien Buu chinh Vien thong\n",
      "(phia Nam)21Dai hoc Bach khoa - DHQG TP HCM60Dai hoc Khoa hoc tu nhien - DHQG TP HCM24,25Dai hoc Su pham Ky thuat TP\n",
      "HCM22,25 - 23,75Dai hoc Can Tho23,4Dai hoc Ton Duc Thang29,5Dai hoc Cong nghe TP HCM - HUTECH17Hoc vien Hang khong Viet\n",
      "Nam17Dai hoc Van Hien21,35(Nguon: Tong hop diem chuan nam 2022 theo cong bo cua cac truong dai hoc, hoc vien) Ghi chu:\n",
      "Diem cua truong DH Bach khoa - DHQG TP HCM duoc tinh theo phuong thuc ket hop. Diem xet tuyen = [Diem thi DGNL quy doi]\n",
      "x 70% + [Diem TN THPT quy doi] x 20% [Diem hoc tap THPT] x 10% (cong thuc chua tinh diem cong them, uu tien) Diem cua\n",
      "truong Su pham ky thuat TP HCM se thay doi tuy thuoc vao he dao tao theo tieng Anh, dai tra, tieng Viet Nganh ky thuat\n",
      "dien tu vien thong hoc gi? Hien nay cac truong dai hoc, hoc vien dao tao nganh ky thuat dien tu - vien thong theo khung\n",
      "chuong trinh keo dai tu 4 - 5 nam. Sau khi ra truong sinh vien se duoc cap bang cu nhan hoac ky su. So luong tin chi\n",
      "(mon hoc/hoc phan) se co su khac nhau tuy theo chuyen nganh cu the ma ban theo hoc sau khi thi dau nganh ky thuat dien\n",
      "tu vien thong. Khi theo hoc nganh nay, sinh vien se duoc dao tao cac kien thuc chuyen mon ve linh vuc dien tu, vien\n",
      "thong, bao gom ca ly thuyet va thuc hanh. Ngoai cac mon co so nganh, chuong trinh dao tao con chu trong vao viec cung\n",
      "cap kien thuc va ky nang de sinh vien co the thiet ke, xay dung, khai thac, van hanh, su dung, bao tri cac thiet bi dien\n",
      "tu, vien thong. Sinh vien hoc ky thuat dien tu vien thong duoc hoc ca ly thuyet va thuc hanh Tuy theo chuyen nganh lua\n",
      "chon, nguoi hoc se duoc hoc nhung kien thuc chuyen sau hon. Duoi day la mot so mon ban se duoc hoc khi lua chon nganh ky\n",
      "thuat dien tu vien thong: Dien tu co ban: Giup sinh vien hoc va hieu ve nguyen ly co ban cua dien tu, bao gom linh kien\n",
      "dien tu, mach dien, tin hieu va he thong dien tu. Vien thong so: Mon hoc nay tap trung vao cac khai niem va ky thuat\n",
      "lien quan den truyen thong so va xu ly tin hieu so. No bao gom viec tim hieu ve ma hoa, giai ma, nen, dong bo va xu ly\n",
      "tin hieu so. Mang vien thong: Mon hoc ve mang vien thong giup sinh vien hieu cac kien thuc co ban ve mang vien thong,\n",
      "bao gom cac giao thuc mang, cau truc mang, quan ly mang va an ninh mang. Truyen thong vo tuyen: Mon hoc nay tap trung\n",
      "vao cac cong nghe truyen thong khong day nhu: GSM, CDMA, LTE, Wi-Fi, Bluetooth va cac ky thuat anten. Thiet ke mach vien\n",
      "thong: Mon hoc giup sinh vien hieu ve cac phuong phap va cong cu de thiet ke mach vien thong, bao gom viec su dung phan\n",
      "mem thiet ke mach, mo phong mach va kiem tra mach. Mang di dong: Mon hoc tap trung vao cac khai niem va ky thuat lien\n",
      "quan den mang di dong, bao gom cac tieu chuan mang di dong, kien truc mang, quan ly tai nguyen va cong nghe di dong moi\n",
      "nhu 5G. Ky thuat lap trinh: Mon hoc nay giup sinh vien hieu ve cac ngon ngu lap trinh pho bien trong nganh dien tu vien\n",
      "thong nhu: C/C++, MATLAB, Python va VHDL Ngoai ra sinh vien con duoc hoc cac mon hoc khac nhu: Dien tu cong suat, thiet\n",
      "ke tong hop he thong so, Kien truc may tinh, Lap trinh nang cao, ky thuat sieu cao tan, tri tue nhan tao va ung dung,\n",
      "Quy hoach va quan ly mang vien thong, thong tin ve tinh, thong tin quang soi,v.vv.. Thong thuong so luong hoc phan hoac\n",
      "noi dung hoc phan se co su khac nhau giua bac dao tao cu nhan va ky su. Ky thuat dien tu vien thong hoc truong nao tot?\n",
      "La mot nganh co yeu cau dau vao cao va chat luong dau ra tot, ky thuat dien tu vien thong hien duoc nhieu truong dua vao\n",
      "he thong dao tao. Cac truong dao tao nganh ky thuat dien tu vien thong Neu ban dang phan van trong viec lua chon hoc\n",
      "nganh ky thuat dien tu vien thong tai truong nao thi hay cung TopCV diem qua danh sach cac truong dai hoc co dao tao\n",
      "nganh ky thuat dien tu - vien thong sau day: Mien Bac Dai hoc Dien luc Dai hoc Bach khoa Ha Noi Dai hoc Cong nghiep Ha\n",
      "Noi Dai hoc Cong nghe - DHQG Ha Noi Dai hoc Cong Nghe Thong Tin va Truyen Thong - Dai Hoc Thai Nguyen Dai hoc Kinh te ky\n",
      "thuat cong nghiep Dai hoc Giao thong van tai Dai hoc Mo Ha Noi Dai hoc Hang Hai Dai hoc Cong nghe Giao thong van tai Hoc\n",
      "vien Ky thuat mat ma Hoc vien Buu chinh Vien thong Mien Trung: Dai hoc Khoa hoc - Dai hoc Hue Dai hoc Bach khoa Da Nang\n",
      "Dai hoc Su pham ky thuat Vinh Dai hoc Su pham ky thuat - DH Da Nang Dai hoc Quy Nhon Mien Nam: Hoc vien Buu chinh Vien\n",
      "thong (phia Nam) Hoc Vien Hang khong Viet Nam Dai hoc Bach khoa - DHQG TP HCM Dai hoc Khoa hoc tu nhien - DHQG TP HCM\n",
      "Dai hoc Su pham Ky thuat TP HCM Dai hoc Ton Duc Thang Dai hoc Cong nghe TP HCM - HUTECH Dai hoc Cong nghiep TP HCM Dai\n",
      "hoc Cong nghe Sai Gon Dai hoc Van Hien Dai hoc Can Tho Hoc ky thuat dien tu vien thong truong nao tot? Viec lua chon\n",
      "truong nao tot de theo duoi dam me ky thuat dien tu- vien thong cua moi nguoi co the xuat phat tu nhieu tieu chi khac\n",
      "nhau. Sau day TopCV dua ra goi y mot so truong dai hoc uy tin va noi tieng trong dao tao nganh ky thuat dien tu vien\n",
      "thong de ban co the tham khao va dua ra su lua chon phu hop cho minh: Hoc vien Buu chinh Vien thong Hoc vien Ky thuat\n",
      "Mat ma Dai hoc Bach khoa Ha Noi Dai Hoc Cong nghe - DHQG Ha Noi Dai hoc Giao thong van tai Dai hoc Dien luc Dai hoc Bach\n",
      "khoa (DHQG TP.HCM) Dai hoc Khoa hoc tu nhien (DHQG TP.HCM) Dai hoc Su pham Ky thuat TP.HCM Dai hoc Ton Duc Thang Dai hoc\n",
      "Cong nghe TP HCM - HUTECH Dai hoc Khoa hoc - DH Hue Dai hoc Bach khoa Da Nang Rat nhieu truong dao tao nganh ky thuat\n",
      "dien tu - vien thong Cac truong quoc te noi tieng dao tao ky thuat dien tu vien thong Hien nay tren the gioi co nhieu\n",
      "truong dao tao chuyen nganh ky thuat dien tu vien thong. Neu co dieu kien ve kinh te, ban co the hoc nganh nay tai cac\n",
      "truong dai hoc va vien cong nghe noi tieng dao tao ky thuat dien tu vien thong nhu: Massachusetts Institute of\n",
      "Technology (MIT) - Hoa Ky Stanford University - Hoa Ky California Institute of Technology (Caltech) - Hoa Ky University\n",
      "of California, Berkeley - Hoa Ky University of California, Los Angeles (UCLA) - Hoa Ky ETH Zurich - Thuy Si University\n",
      "of Cambridge - Anh Imperial College London - Anh Technical University of Munich - Duc National University of Singapore\n",
      "(NUS) - Singapore Tren day chi la cac goi y giup ban co the de dang dua ra quyet dinh hon khi quan tam den nganh ky\n",
      "thuat dien tu vien thong. Quan trong nhat la lua chon mot truong co chuong trinh dao tao va co so vat chat phu hop voi\n",
      "muc tieu hoc tap va su quan tam ca nhan cua ban. Ngoai ra, nen xem xet cac thong tin ve danh sach giang vien, du an\n",
      "nghien cuu va co hoi thuc tap, lien ket doanh nghiep de danh gia chat luong giao duc va kha nang phat trien nghe nghiep\n",
      "trong nganh ky thuat dien tu vien thong sau khi tot nghiep. Nganh ky thuat dien tu vien thong luong bao nhieu? Muc luong\n",
      "trong nganh ky thuat dien tu vien thong kha da dang va phu thuoc vao nhieu yeu to nhu: vi tri lam viec, kinh nghiem lam\n",
      "viec, tinh chat cong viec, quoc gia,v.vv.. Tuy nhien, nhin chung nganh ky thuat dien tu vien thong thuong co muc luong\n",
      "kha hap dan. Doi voi cac chuyen gia va ky su dien tu vien thong co kinh nghiem va trinh do cao, muc luong co the rat cao\n",
      "va vuot qua muc trung binh cua nhieu nganh khac. Duoi day la muc luong cua mot so vi tri cong viec trong nganh ky thuat\n",
      "dien tu vien thong do TopCV tong hop ma ban co the tham khao: Nhan vien ky thuat dien tu: Tu 8 - 10 trieu dong/thang\n",
      "Nhan vien ky thuat dien - Tu dong hoa: Tu 10 - 18 trieu dong/thang Nhan vien ky thuat va Tu van giai phap vien thong: Tu\n",
      "17 - 25 trieu dong/thang Chuyen vien ky thuat dien tu: Tu 10 - 20 trieu dong/thang Chuyen vien van hang he thong: Tu 19\n",
      "- 35 trieu dong/thang Ky su dien tu, tu dong hoa: Toi 15 trieu dong/thang Ky su vien thong: Toi 25 trieu dong/thang Ky\n",
      "su nghien cuu ung dung ha tang cong nghe thong tin: Tu 35 - 50 trieu dong/thang Ky su an toan thong tin he thong ung\n",
      "dung: Tu 19 - 70 trieu dong/thang Ky su phat trien phan mem: Tu 15 - 50 trieu dong/thang Luu y, cac chuyen gia va ky su\n",
      "dien tu vien thong co ky nang dac biet, nam vung cac cong nghe moi va co kinh nghiem lam viec trong nhieu du an quan\n",
      "trong thuong co co hoi nhan duoc muc luong cao hon va cac phuc loi hap dan tu cac cong ty va to chuc. Ban co the cap\n",
      "nhat nhanh viec lam nganh dien tu vien thong de tham khao muc thu nhap tai cac vi tri cong viec trong nhom nganh nay\n",
      "hien nay. Hoc ky thuat dien tu vien thong ra lam gi? Van de viec lam sau khi ra truong luon la noi ban khoan va tran tro\n",
      "cua cac ban sinh vien. Doi voi nganh ky thuat dien tu vien thong, sau khi tot nghiep ra truong, voi nhung kien thuc\n",
      "chuyen mon, ky nang da hoc va duoc dao tao, ban co co hoi lam viec tai nhieu vi tri khac nhau tai da dang cac cong ty,\n",
      "doanh nghiep. TopCV se tong hop mot so vi tri cong viec danh cho cac sinh vien hoc nganh ky thuat dien tu vien thong\n",
      "ngay sau day de ban tham khao ve thi truong tuyen dung cua nhom nganh nay hien nay. Nhan vien ky thuat dien tu - vien\n",
      "thong Nhan vien ky thuat dien tu - vien thong la nguoi co chuyen mon va ky nang trong linh vuc dien tu - vien thong. Voi\n",
      "nhung sinh vien tot nghiep chuyen nganh ky thuat dien tu vien thong, co the ung tuyen vao vi tri nhan vien ky thuat dien\n",
      "tu - vien thong tai hau het cac to chuc, doanh nghiep. Mo ta cong viec: Cong viec cua nhan vien ky thuat dien tu - vien\n",
      "thong se lien quan den cac nhiem vu gom: Thiet ke va phat trien cac he thong dien tu - vien thong trong cac doanh nghiep\n",
      "nhu: mang di dong, he thong truyen thong am thanh, hinh anh, he thong truyen hinh, he thong dinh vi, va cac thiet bi\n",
      "vien thong khac. Lap dat va cau hinh he thong, trong do bao gom nhiem vu lap dat cac thanh phan dien tu va vien thong\n",
      "nhu: anten, bo dinh tuyen, bo phat song, va thiet bi ky thuat so khac. Ho cung thuc hien cau hinh cac thiet bi de dam\n",
      "bao hoat dong on dinh va toi uu. Bao tri va sua chua dinh ky de dam bao he thong hoat dong mot cach hieu qua. Khi xay ra\n",
      "su co, nhan vien ky thuat se tien hanh phan tich va xac dinh nguyen nhan, sau do tien hanh sua chua va khac phuc su co.\n",
      "Ho tro ky thuat cho nguoi dung cuoi va cac khach hang. Trong do co the bao gom giai dap cau hoi, huong dan su dung he\n",
      "thong va giup do trong viec khac phuc su co. Co the thay vi tri cong viec nay gan nhu bao quat toan bo he thong dien tu\n",
      "- vien thong trong don vi lam viec. Neu dap ung yeu cau cong viec va hoan thanh tot nhiem vu duoc giao, nguoi lam vi tri\n",
      "nay co the thang tien len chuc vu chuyen vien, ky su hoac cap bac cao hon. Apply nhan vien ky thuat dien tu - vien thong\n",
      "ngay tren TopCV de co co hoi tim kiem viec lam phu hop. Nhan vien ky thuat dien tu - vien thongco nhiem vu lap dat, van\n",
      "hanh, sua chua Ky su vien thong Ky su vien thong la nhung chuyen gia co trinh do ky thuat va kien thuc chuyen sau ve cac\n",
      "he thong vien thong. Vi tri nay thuong duoc cac cong ty vien thong tuyen dung. Neu ban tot nghiep nganh ky thuat dien tu\n",
      "- vien thong he dao tao ky su thi day la mot trong nhung vi tri cong viec co the apply sau khi ra truong de co co hoi\n",
      "\"dau quan\" cho nhung cong ty vien thong lon trong nuoc nhu: VNPT, Viettel, MobiFone, Vinaphone,v.vv.. Mo ta cong viec:\n",
      "Thiet ke he thong vien thong, bat dau tu viec lua chon cong nghe, thiet bi va phan mem phu hop cho mang vien thong. Tu\n",
      "do dam bao tinh on dinh, hieu suat va an toan cua he thong. Trien khai va cau hinh he thong, bao gom ca viec lap dat va\n",
      "cau hinh cac thiet bi vien thong nhu: may chu, bo dinh tuyen, thiet bi phat song va thu song, he thong cap quang va cac\n",
      "thanh phan khac. Van hanh va bao tri hang ngay he thong vien thong, bao gom giam sat, chan doan su co, khac phuc loi va\n",
      "thuc hien bao tri dinh ky. Ky su vien thong phai kiem tra va dam bao tinh san sang va do tin cay cua he thong. Xay dung\n",
      "cac phuong an toi uu hoa mang bang rong Xay dung cac phuong an dam bao an toan thong tin, an toan mang luoi va chat\n",
      "luong mang noi vi. Ky su thiet ke va viet phan mem Sinh vien nganh ky thuat dien tu vien thong co the lam viec trong cac\n",
      "cong ty cong nghe hoac cong ty san xuat thiet bi vien thong voi vi tri ky su thiet ke va viet phan mem cho may tinh,\n",
      "dien thoai thong minh, xe o to, robot,v.vv.. Day la vi tri cong viec yeu cau co trinh do ky thuat va kien thuc chuyen\n",
      "sau ve phat trien phan mem dien tu vien thong. Cong viec cua nguoi lam o vi tri nay lien quan den viec thiet ke, phan\n",
      "tich, lap trinh va trien khai cac ung dung va he thong phan mem. Mo ta cong viec: Tham gia vao viec thiet ke kien truc\n",
      "va cau truc phan mem. Ky su thiet ke va viet phan mem phai xac dinh duoc yeu cau chuc nang va phi chuc nang cua he\n",
      "thong, tao ra cac mo hinh thiet ke va dam bao rang phan mem duoc thiet ke mot cach hop ly va de bao tri. Ky su phan mem\n",
      "phai tuong tac voi khach hang hoac nguoi dung cuoi de hieu va phan tich yeu cau cua ho. Tu do xac dinh cac chuc nang,\n",
      "tinh nang va rang buoc cua phan mem de dap ung dung nhu cau va mong muon cua nguoi dung. Thuc hien viec lap trinh va\n",
      "viet ma de trien khai cac chuc nang va tinh nang cua phan mem. Ho su dung cac ngon ngu lap trinh nhu: Java, C++, Python\n",
      "va Ruby de tao ra ma nguon, thuc hien cac thu nghiem va go loi de dam bao tinh dung dan va hieu qua cua ma. Thuc hien\n",
      "kiem thu phan mem de phat hien loi va dam bao tinh on dinh, dung dan cua phan mem. Thuc hien qua trinh trien khai va cai\n",
      "dat phan mem vao moi truong thuc te. Vi tri ky su thiet ke va viet phan mem tai cac cong ty cong nghe, san xuat dien tu\n",
      "vien thong Ky su vo tuyen Ky su vo tuyen con duoc goi la ky su vien thong vo tuyen hoac ky su RF - Radio Frequency. Day\n",
      "la vi tri quan trong yeu cau nguoi lam co kien thuc va ky nang chuyen sau ve vien thong vo tuyen, tuong tac voi song\n",
      "radio va cac he thong truyen thong khong day. Vi tri cong viec nay lien quan den thiet ke, trien khai va duy tri cac he\n",
      "thong va thiet bi vo tuyen. Mo ta cong viec: Thiet ke va phan tich he thong vo tuyen, trong do co bao gom thiet ke kien\n",
      "truc va cau truc he thong vo tuyen. Nhiem vu nay can ky su vo tuyen phai xac dinh yeu cau ky thuat, lua chon cac phuong\n",
      "phap va cong nghe vo tuyen phu hop va tao ra cac mo hinh va giai phap thiet ke cho he thong vo tuyen. Thiet ke va toi uu\n",
      "hoa anten de dam bao hieu suat toi da cua he thong truyen thong vo tuyen. Lap trinh va trien khai he thong vo tuyen.\n",
      "Thong qua cac ngon ngu lap trinh nhu C, C++, Python, MATLAB va phan mem mo phong ky su vo tuyen se phat trien, kiem tra\n",
      "va trien khai cac giai phap vo tuyen. Thuc hien nhiem vu kiem tra va go loi he thong vo tuyen de dam bao hoat dong on\n",
      "dinh va hieu qua. Ky su vo tuyen co the su dung cac cong cu do luong va phan tich tin hieu de kiem tra va danh gia hieu\n",
      "suat, do tin cay va chat luong cua he thong vo tuyen. Thuc hien cac hoat dong bao tri dinh ky va ho tro ky thuat cho he\n",
      "thong vo tuyen de dam bao cac hoat dong dien ra tron tru va hieu qua. Chuyen vien van hanh, giam sat ha tang vien thong\n",
      "Chuyen vien van hanh va giam sat ha tang vien thong duoc danh gia la mot vi tri cong viec quan trong trong nganh vien\n",
      "thong va mang. Cong viec nay lien quan den quan ly va duy tri cac he thong ha tang vien thong, dam bao su hoat dong lien\n",
      "tuc va on dinh cua mang tai cac cong ty, doanh nghiep hoac dai phat thanh, dai truyen hinh,v.vv.. Mo ta cong viec: Giam\n",
      "sat va theo doi hoat dong cua he thong mang, bao gom viec kiem tra ket noi, thong luong mang va tinh trang hoat dong cua\n",
      "cac thiet bi vien thong, truyen thong. Xu ly cac su co va van de ky thuat xay ra tren mang. Phan hoi nhanh chong de khac\n",
      "phuc cac su co va dam bao mang truyen thong luon hoat dong hieu qua. Thuc hien cac hoat dong bao tri dinh ky va nang cap\n",
      "he thong vien thong, truyen thong. Theo doi va quan ly tai nguyen mang nhu bang thong, IP address, va cac nguon tai\n",
      "nguyen khac. Dieu chinh va phan phoi tai nguyen mang sao cho phu hop voi yeu cau su dung va muc tieu hoat dong cua mang.\n",
      "Cung cap ho tro ky thuat cho nguoi dung va khach hang lien quan den van de mang, cai dat, cau hinh va su dung cac dich\n",
      "vu truyen thong tai doanh nghiep hoac don vi lam viec. Chuyen vien van hanh va giam sat ha tang vien thong la vi tri\n",
      "quan trong trong nganh vien thong va mang Truong bo phan ky thuat Voi nhung nguoi co kinh nghiem lam viec lau nam trong\n",
      "nghe va nang luc chuyen mon tot, hoan toan co the lam viec o vi tri truong bo phan ky thuat tai cac cong ty, doanh\n",
      "nghiep. Vi tri nay la nguoi dung dau va co trach nhiem quan ly va dieu hanh cac hoat dong ky thuat trong mot bo phan\n",
      "hoac mot don vi to chuc. Mo ta cong viec: Quan ly doi ngu nhan vien ky thuat trong bo phan, bao gom ca viec tuyen dung,\n",
      "dao tao, phan cong cong viec, danh gia hieu suat va dam bao su phat trien cua nhan vien. Lap ke hoach va quan ly cac du\n",
      "an ky thuat. Truong bo phan ky thuat phai xac dinh yeu cau du an, phan bo tai nguyen, xac dinh lich lam viec, theo doi\n",
      "tien do va dam bao hoan thanh du an theo dung tieu chuan va yeu cau. Dinh huong chien luoc ky thuat cho to chuc thong\n",
      "qua viec theo doi va danh gia xu huong cong nghe moi. Tu do dua ra cac quyet dinh ve viec ap dung cong nghe va phuong\n",
      "phap moi, dam bao bo phan ky thuat di dung huong, phu hop voi muc tieu va chien luoc cua cong ty cung nhu phong ban. Dam\n",
      "bao chat luong va tuan thu quy trinh, tieu chuan ky thuat. Truong bo phan ky thuat phai kiem tra va dam bao chat luong\n",
      "cua san pham va dich vu ky thuat, giam sat viec tuan thu quy trinh va quy dinh, thuc day su cai tien lien tuc trong qua\n",
      "trinh lam viec. Voi vi tri nay, lo trinh thang tien co the giup ban phat trien de tro thanh quan ly du an vien thong\n",
      "hoac giam doc ky thuat. Tuy nhien, de co the lam viec o nhung vi tri cao hon doi hoi ban phai co kinh nghiem nhieu nam\n",
      "lam viec trong linh vuc dien tu vien thong, tung lam viec tai nhieu du an voi vi tri tuong duong va co ky nang lanh dao.\n",
      ">>> Kham pha ngay cac vi tri tuyen dung truong bo phan ky thuat voi muc thu nhap hap dan va che do dai ngo tot tren\n",
      "TopCV de co co hoi ket noi voi cac nha tuyen dung chat luong. Chuyen gia phan tich va tu van ky thuat dien tu vien thong\n",
      "Voi kien thuc chuyen sau ve ky thuat dien tu vien thong, ban hoan toan co the lam viec tai vi tri chuyen gia phan tich,\n",
      "tu van trong linh vuc dien tu - vien thong. O vi tri nay, nguoi lam viec can co ky nang phan tich, tu van, danh gia va\n",
      "chuyen mon vung de thuc hien cac nhiem vu phan tich, tu van va cung cap cac giai phap, khuyen nghi de cai thien hieu\n",
      "suat va kha nang canh tranh cua cac he thong vien thong. Mo ta cong viec: Phan tich va danh gia hieu suat, tinh nang cua\n",
      "cac he thong vien thong. Ho co the su dung cac cong cu va phuong phap phan tich de do luong, danh gia va cai thien hieu\n",
      "suat, do tin cay va chat luong cua cac he thong vien thong. Tu van va thiet ke giai phap ky thuat cho cac van de trong\n",
      "linh vuc dien tu va vien thong. Bao gom viec phan tich yeu cau cua khach hang, de xuat va thiet ke cac giai phap ky\n",
      "thuat phu hop, qua do huong dan ve viec trien khai va van hanh cac giai phap do. Nghien cuu va phat trien cong nghe moi\n",
      "trong linh vuc dien tu va vien thong. De thuc hien nhiem vu nay, doi hoi nguoi lam phai theo doi va nam bat xu huong\n",
      "cong nghe moi, thu nghiem va danh gia cac cong nghe tien tien va dua ra cac de xuat, giai phap cai tien phu hop. Ngoai\n",
      "ra, neu dam me nghien cuu va phat trien, sau khi tot nghiep nganh ky thuat dien tu vien thong ban hoan toan co the tham\n",
      "gia vao hoat dong nghien cuu va phat trien cong nghe moi trong nganh ky thuat dien tu vien thong. De thuc hien dieu nay,\n",
      "nhieu nguoi lua chon tro thanh can bo giang day, nghien cuu trong cac vien nghien cuu, truong dai hoc, cao dang ve ky\n",
      "thuat dien tu vien thong. Tren day chi la mot so goi y cong viec ma ban co the lam sau khi tot nghiep va duoc dao tao ve\n",
      "nganh ky thuat dien tu vien thong. Co the noi, hoc nganh nay mo ra nhieu co hoi nghe nghiep khac nhau cho cac ban sinh\n",
      "vien. Cac cong ty vien thong, cong ty san xuat thiet bi dien tu, cong ty cong nghe, dai phat thanh, dai truyen\n",
      "hinh,v.vv.. va to chuc nghien cuu deu co nhu cau tuyen dung cac chuyen gia trong linh vuc nay. Sau khi xac dinh duoc vi\n",
      "tri cong viec muon ung tuyen, viec tiep theo ban can lam la chuan bi mot ban CV chin chu, dep mat va chuyen nghiep gui\n",
      "den nha tuyen dung. Hay tham khao cach viet CV tim viec ky thuat dien tu ma TopCV da chia se de cau truc mot ban CV ung\n",
      "y ban nhe. Tim viec lam nganh ky thuat dien tu vien thong o dau? Nhu cau viec lam nganh ky thuat dien tu vien thong rat\n",
      "lon va da dang vi tri tuyen dung. Tuy nhien viec tim duoc mot ben do cong viec voi vi tri phu hop la dieu khong de dang,\n",
      "nhat la voi cac ban sinh vien moi ra truong. Neu ban dang lo lang tim kiem nhung co hoi viec lam trong nganh ky thuat\n",
      "dien tu vien thong hoac mong muon co them nhieu thong tin tuyen dung trong nganh nay thi TopCV la lua chon dang can\n",
      "nhac. La nen tang tuyen dung va viec lam tien phong tai Viet Nam, TopCV giup ban tiep can voi hang trieu thong tin tuyen\n",
      "dung o nhieu vi tri cong viec khac nhau. Bang viec ung dung tri tue nhan tao, TopCV de dang ket noi ung vien voi mang\n",
      "luoi nha tuyen dung tai nhieu tinh thanh khac nhau. Dac biet, TopCV giup ban co co hoi duoc ket noi va tiep can cac vi\n",
      "tri cong viec hap dan tu cac doanh nghiep trong nuoc cung nhu quoc te co uy tin trong linh vuc dien tu vien thong nhu:\n",
      "FPT, Viettel, MobiFone, VNPT, SamSung,v.vv.. Tu do thuan loi tim ra \"mien dat hua\" cho minh. Dung quen tao mot mau CV an\n",
      "tuong truoc khi tim viec nganh ky thuat dien tu vien thong Khong chi ket noi nhanh chong, TopCV con ho tro ban tao CV\n",
      "chuyen nghiep, viet so yeu ly lich dung chuan va cung cap them nhieu kien thuc ve ky nang phong van, ky nang tao an\n",
      "tuong voi nha tuyen dung de tang ty le thanh cong khi tim viec. Tren day la nhung thong tin chi tiet ve nganh ky thuat\n",
      "dien tu vien thong ma TopCV vua cap nhat va gui den ban. Hy vong voi nhung thong tin nay, ban da hieu ro ve nganh ky\n",
      "thuat dien tu vien thong nhu: mon thi, co hoi nghe nghiep, muc thu nhap,v.vv.. tu do dua ra su lua chon cong viec phu\n",
      "hop sau khi ra truong, dong thoi tu tin lua chon nganh hoc neu ban dang lung tung trong viec chon nganh, chon truong hoc\n",
      "sau khi tot nghiep THPT. Chuc cac ban thanh cong va dung quen TopCV van dong hanh trong suot hanh trinh tim viec thong\n",
      "qua viec cap nhat nhanh chong va lien tuc cac cong viec moi nhat ban nhe!. GIoi thieu Bao chi Tuyen dung Viecngay.vn HR\n",
      "Insider (c) Van hanh boi Cong ty Co phan TopCV Viet Nam\n",
      "------------------------------------------------------------------------------------------------------------------------\n",
      "None\n"
     ]
    }
   ],
   "source": [
    "print(wraptext(refs))"
   ]
  },
  {
   "cell_type": "code",
   "execution_count": 38,
   "metadata": {},
   "outputs": [
    {
     "data": {
      "text/plain": [
       "(1, 3)"
      ]
     },
     "execution_count": 38,
     "metadata": {},
     "output_type": "execute_result"
    }
   ],
   "source": [
    "len(hypos), len(refs)"
   ]
  },
  {
   "cell_type": "markdown",
   "metadata": {},
   "source": [
    "### Using BERTScore for Evaluation"
   ]
  },
  {
   "cell_type": "code",
   "execution_count": 39,
   "metadata": {},
   "outputs": [],
   "source": [
    "from bert_score import score"
   ]
  },
  {
   "cell_type": "code",
   "execution_count": 40,
   "metadata": {},
   "outputs": [],
   "source": [
    "# Hide the loading messages\n",
    "import logging\n",
    "import transformers\n",
    "transformers.tokenization_utils.logger.setLevel(logging.ERROR)\n",
    "transformers.configuration_utils.logger.setLevel(logging.ERROR)\n",
    "transformers.modeling_utils.logger.setLevel(logging.ERROR)"
   ]
  },
  {
   "cell_type": "code",
   "execution_count": 41,
   "metadata": {},
   "outputs": [],
   "source": [
    "def bert_score(hypos, refs, lang=\"vi\"):\n",
    "    bert_scores = []\n",
    "    for ref in refs:\n",
    "        scores = score(hypos, [ref], lang=lang, verbose=False)\n",
    "        bert_scores.append(scores)\n",
    "    return bert_scores"
   ]
  },
  {
   "cell_type": "code",
   "execution_count": 42,
   "metadata": {},
   "outputs": [],
   "source": [
    "bert_scores = bert_score(hypos, refs)"
   ]
  },
  {
   "cell_type": "code",
   "execution_count": 43,
   "metadata": {},
   "outputs": [],
   "source": [
    "import torch\n",
    "\n",
    "precision = torch.mean(torch.stack([bert_score[0] for bert_score in bert_scores]))\n",
    "recall = torch.mean(torch.stack([bert_score[1] for bert_score in bert_scores]))\n",
    "f1 = torch.mean(torch.stack([bert_score[2] for bert_score in bert_scores]))"
   ]
  },
  {
   "cell_type": "code",
   "execution_count": 44,
   "metadata": {},
   "outputs": [
    {
     "name": "stdout",
     "output_type": "stream",
     "text": [
      "BERT score:\n",
      "P: 0.71, R: 0.74, F1: 0.73\n"
     ]
    }
   ],
   "source": [
    "print(\"BERT score:\")\n",
    "print(f\"P: {precision.item():.2f}, R: {recall.item():.2f}, F1: {f1.item():.2f}\")"
   ]
  },
  {
   "cell_type": "markdown",
   "metadata": {},
   "source": [
    "### Using ROUGE score for Evaluation"
   ]
  },
  {
   "cell_type": "code",
   "execution_count": 45,
   "metadata": {},
   "outputs": [],
   "source": [
    "from rouge_score import rouge_scorer\n",
    "\n",
    "def rouge_score(hypos, refs):\n",
    "    scorer = rouge_scorer.RougeScorer(['rouge1', 'rouge2'], use_stemmer=True)\n",
    "    scores = [scorer.score(ref, hypo) for ref, hypo in zip(refs, hypos)]\n",
    "    return scores\n",
    "\n",
    "rouge = rouge_score(hypos, refs)"
   ]
  },
  {
   "cell_type": "code",
   "execution_count": 46,
   "metadata": {},
   "outputs": [
    {
     "name": "stdout",
     "output_type": "stream",
     "text": [
      "ROUGE scores:\n",
      "ROUGE-1: P = 0.82, R = 0.44, F1 = 0.57\n",
      "ROUGE-2: P = 0.42, R = 0.23, F1 = 0.29\n",
      "\n"
     ]
    }
   ],
   "source": [
    "for i, score in enumerate(rouge):\n",
    "    print(\"ROUGE scores:\")\n",
    "    print(f\"ROUGE-1: P = {score['rouge1'].precision:.2f}, R = {score['rouge1'].recall:.2f}, F1 = {score['rouge1'].fmeasure:.2f}\")\n",
    "    print(f\"ROUGE-2: P = {score['rouge2'].precision:.2f}, R = {score['rouge2'].recall:.2f}, F1 = {score['rouge2'].fmeasure:.2f}\")\n",
    "    print()"
   ]
  },
  {
   "cell_type": "markdown",
   "metadata": {},
   "source": [
    "### RESULTS\n",
    "\n",
    "| METRIC   | Precision | Recall | F1 |\n",
    "|---------|----------|-------|-------|\n",
    "| BERTScore| | | |\n",
    "| ROUGE-1| | | |\n",
    "| ROUGE-2| | | |\n",
    "\n",
    "* BERTScore Average: Precision = ?, Recall = ?, F1 = ?\n",
    "* ROUGE-1 Average: Precision = ?, Recall = ?, F1 = ?\n",
    "* ROUGE-2 Average: Precision = ?, Recall = ?, F1 = ?"
   ]
  },
  {
   "cell_type": "markdown",
   "metadata": {},
   "source": [
    "### Review\n",
    "1. Summarization is a complex task, even advanced models can struggle to accurately capture all the important information from a source text.\n",
    "\n",
    "2. BERTScore or ROUGE that these metrics focus on things like including keywords from the source text, so that do not perfectly reflect human judgement of a good summary.\n",
    "\n",
    "3. The response of chatbot from many different sources.\n"
   ]
  },
  {
   "cell_type": "markdown",
   "metadata": {},
   "source": [
    "### HUMAN EVALUATION IS THE BEST WAY TO EVALUATE THE QUALITY OF A SUMMARY"
   ]
  },
  {
   "cell_type": "code",
   "execution_count": null,
   "metadata": {},
   "outputs": [],
   "source": []
  }
 ],
 "metadata": {
  "kernelspec": {
   "display_name": "venv",
   "language": "python",
   "name": "python3"
  },
  "language_info": {
   "codemirror_mode": {
    "name": "ipython",
    "version": 3
   },
   "file_extension": ".py",
   "mimetype": "text/x-python",
   "name": "python",
   "nbconvert_exporter": "python",
   "pygments_lexer": "ipython3",
   "version": "3.11.5"
  }
 },
 "nbformat": 4,
 "nbformat_minor": 2
}
